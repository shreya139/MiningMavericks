{
  "nbformat": 4,
  "nbformat_minor": 0,
  "metadata": {
    "colab": {
      "provenance": [],
      "include_colab_link": true
    },
    "kernelspec": {
      "name": "python3",
      "display_name": "Python 3"
    },
    "language_info": {
      "name": "python"
    }
  },
  "cells": [
    {
      "cell_type": "markdown",
      "metadata": {
        "id": "view-in-github",
        "colab_type": "text"
      },
      "source": [
        "<a href=\"https://colab.research.google.com/github/shreya139/MiningMavericks/blob/main/202218009_Data_Mining_Project3.ipynb\" target=\"_parent\"><img src=\"https://colab.research.google.com/assets/colab-badge.svg\" alt=\"Open In Colab\"/></a>"
      ]
    },
    {
      "cell_type": "code",
      "source": [
        "from google.colab import drive\n",
        "drive.mount('/content/drive')"
      ],
      "metadata": {
        "colab": {
          "base_uri": "https://localhost:8080/"
        },
        "id": "AR4cDWvJgQWz",
        "outputId": "91a827dd-44b9-48db-b298-8c8b09817888"
      },
      "execution_count": null,
      "outputs": [
        {
          "output_type": "stream",
          "name": "stdout",
          "text": [
            "Drive already mounted at /content/drive; to attempt to forcibly remount, call drive.mount(\"/content/drive\", force_remount=True).\n"
          ]
        }
      ]
    },
    {
      "cell_type": "markdown",
      "source": [
        "# **Impoting Libraries**"
      ],
      "metadata": {
        "id": "8s5iRTSoK4RL"
      }
    },
    {
      "cell_type": "code",
      "source": [
        "import numpy as np\n",
        "import pandas as pd\n",
        "import matplotlib.pyplot as plt\n",
        "import seaborn as sns"
      ],
      "metadata": {
        "id": "Y_Pz_h8fghmV"
      },
      "execution_count": null,
      "outputs": []
    },
    {
      "cell_type": "code",
      "source": [
        "from sklearn.linear_model import LinearRegression\n",
        "from sklearn.preprocessing import LabelEncoder,StandardScaler,PolynomialFeatures\n",
        "from sklearn.metrics import accuracy_score, precision_score, recall_score, f1_score, confusion_matrix\n",
        "from sklearn.linear_model import LogisticRegression\n",
        "from sklearn.metrics import mean_squared_error,mean_absolute_error,r2_score\n",
        "from sklearn.model_selection import train_test_split\n",
        "from sklearn.metrics import accuracy_score, classification_report\n",
        "from tensorflow.keras.models import Sequential\n",
        "from tensorflow.keras.layers import Dense\n",
        "import warnings\n",
        "warnings.filterwarnings('ignore')"
      ],
      "metadata": {
        "id": "wZW3y_lwHXbL"
      },
      "execution_count": null,
      "outputs": []
    },
    {
      "cell_type": "code",
      "source": [
        "data = pd.read_csv('/content/drive/MyDrive/Data_Mining_Datasets/deliveries.csv')"
      ],
      "metadata": {
        "id": "x7TRAP3agazc"
      },
      "execution_count": null,
      "outputs": []
    },
    {
      "cell_type": "code",
      "source": [
        "data.head()"
      ],
      "metadata": {
        "colab": {
          "base_uri": "https://localhost:8080/",
          "height": 516
        },
        "id": "3fGFfMWyg8IF",
        "outputId": "980b4cde-62f4-4b67-e5cb-acf37874d3d9"
      },
      "execution_count": null,
      "outputs": [
        {
          "output_type": "execute_result",
          "data": {
            "text/plain": [
              "   match_id   season  start_date                             venue  innings  \\\n",
              "0         1  2023/24  2023-10-05  Narendra Modi Stadium, Ahmedabad        1   \n",
              "1         1  2023/24  2023-10-05  Narendra Modi Stadium, Ahmedabad        1   \n",
              "2         1  2023/24  2023-10-05  Narendra Modi Stadium, Ahmedabad        1   \n",
              "3         1  2023/24  2023-10-05  Narendra Modi Stadium, Ahmedabad        1   \n",
              "4         1  2023/24  2023-10-05  Narendra Modi Stadium, Ahmedabad        1   \n",
              "\n",
              "   ball batting_team bowling_team      striker  non_striker  ... extras  \\\n",
              "0   0.1      England  New Zealand  JM Bairstow     DJ Malan  ...      0   \n",
              "1   0.2      England  New Zealand  JM Bairstow     DJ Malan  ...      0   \n",
              "2   0.3      England  New Zealand  JM Bairstow     DJ Malan  ...      0   \n",
              "3   0.4      England  New Zealand     DJ Malan  JM Bairstow  ...      0   \n",
              "4   0.5      England  New Zealand  JM Bairstow     DJ Malan  ...      0   \n",
              "\n",
              "   wides  noballs  byes  legbyes  penalty  wicket_type  player_dismissed  \\\n",
              "0    NaN      NaN   NaN      NaN      NaN          NaN               NaN   \n",
              "1    NaN      NaN   NaN      NaN      NaN          NaN               NaN   \n",
              "2    NaN      NaN   NaN      NaN      NaN          NaN               NaN   \n",
              "3    NaN      NaN   NaN      NaN      NaN          NaN               NaN   \n",
              "4    NaN      NaN   NaN      NaN      NaN          NaN               NaN   \n",
              "\n",
              "  other_wicket_type other_player_dismissed  \n",
              "0               NaN                    NaN  \n",
              "1               NaN                    NaN  \n",
              "2               NaN                    NaN  \n",
              "3               NaN                    NaN  \n",
              "4               NaN                    NaN  \n",
              "\n",
              "[5 rows x 22 columns]"
            ],
            "text/html": [
              "\n",
              "  <div id=\"df-ff2c9d5a-a516-4d5f-bb58-358ddf271313\" class=\"colab-df-container\">\n",
              "    <div>\n",
              "<style scoped>\n",
              "    .dataframe tbody tr th:only-of-type {\n",
              "        vertical-align: middle;\n",
              "    }\n",
              "\n",
              "    .dataframe tbody tr th {\n",
              "        vertical-align: top;\n",
              "    }\n",
              "\n",
              "    .dataframe thead th {\n",
              "        text-align: right;\n",
              "    }\n",
              "</style>\n",
              "<table border=\"1\" class=\"dataframe\">\n",
              "  <thead>\n",
              "    <tr style=\"text-align: right;\">\n",
              "      <th></th>\n",
              "      <th>match_id</th>\n",
              "      <th>season</th>\n",
              "      <th>start_date</th>\n",
              "      <th>venue</th>\n",
              "      <th>innings</th>\n",
              "      <th>ball</th>\n",
              "      <th>batting_team</th>\n",
              "      <th>bowling_team</th>\n",
              "      <th>striker</th>\n",
              "      <th>non_striker</th>\n",
              "      <th>...</th>\n",
              "      <th>extras</th>\n",
              "      <th>wides</th>\n",
              "      <th>noballs</th>\n",
              "      <th>byes</th>\n",
              "      <th>legbyes</th>\n",
              "      <th>penalty</th>\n",
              "      <th>wicket_type</th>\n",
              "      <th>player_dismissed</th>\n",
              "      <th>other_wicket_type</th>\n",
              "      <th>other_player_dismissed</th>\n",
              "    </tr>\n",
              "  </thead>\n",
              "  <tbody>\n",
              "    <tr>\n",
              "      <th>0</th>\n",
              "      <td>1</td>\n",
              "      <td>2023/24</td>\n",
              "      <td>2023-10-05</td>\n",
              "      <td>Narendra Modi Stadium, Ahmedabad</td>\n",
              "      <td>1</td>\n",
              "      <td>0.1</td>\n",
              "      <td>England</td>\n",
              "      <td>New Zealand</td>\n",
              "      <td>JM Bairstow</td>\n",
              "      <td>DJ Malan</td>\n",
              "      <td>...</td>\n",
              "      <td>0</td>\n",
              "      <td>NaN</td>\n",
              "      <td>NaN</td>\n",
              "      <td>NaN</td>\n",
              "      <td>NaN</td>\n",
              "      <td>NaN</td>\n",
              "      <td>NaN</td>\n",
              "      <td>NaN</td>\n",
              "      <td>NaN</td>\n",
              "      <td>NaN</td>\n",
              "    </tr>\n",
              "    <tr>\n",
              "      <th>1</th>\n",
              "      <td>1</td>\n",
              "      <td>2023/24</td>\n",
              "      <td>2023-10-05</td>\n",
              "      <td>Narendra Modi Stadium, Ahmedabad</td>\n",
              "      <td>1</td>\n",
              "      <td>0.2</td>\n",
              "      <td>England</td>\n",
              "      <td>New Zealand</td>\n",
              "      <td>JM Bairstow</td>\n",
              "      <td>DJ Malan</td>\n",
              "      <td>...</td>\n",
              "      <td>0</td>\n",
              "      <td>NaN</td>\n",
              "      <td>NaN</td>\n",
              "      <td>NaN</td>\n",
              "      <td>NaN</td>\n",
              "      <td>NaN</td>\n",
              "      <td>NaN</td>\n",
              "      <td>NaN</td>\n",
              "      <td>NaN</td>\n",
              "      <td>NaN</td>\n",
              "    </tr>\n",
              "    <tr>\n",
              "      <th>2</th>\n",
              "      <td>1</td>\n",
              "      <td>2023/24</td>\n",
              "      <td>2023-10-05</td>\n",
              "      <td>Narendra Modi Stadium, Ahmedabad</td>\n",
              "      <td>1</td>\n",
              "      <td>0.3</td>\n",
              "      <td>England</td>\n",
              "      <td>New Zealand</td>\n",
              "      <td>JM Bairstow</td>\n",
              "      <td>DJ Malan</td>\n",
              "      <td>...</td>\n",
              "      <td>0</td>\n",
              "      <td>NaN</td>\n",
              "      <td>NaN</td>\n",
              "      <td>NaN</td>\n",
              "      <td>NaN</td>\n",
              "      <td>NaN</td>\n",
              "      <td>NaN</td>\n",
              "      <td>NaN</td>\n",
              "      <td>NaN</td>\n",
              "      <td>NaN</td>\n",
              "    </tr>\n",
              "    <tr>\n",
              "      <th>3</th>\n",
              "      <td>1</td>\n",
              "      <td>2023/24</td>\n",
              "      <td>2023-10-05</td>\n",
              "      <td>Narendra Modi Stadium, Ahmedabad</td>\n",
              "      <td>1</td>\n",
              "      <td>0.4</td>\n",
              "      <td>England</td>\n",
              "      <td>New Zealand</td>\n",
              "      <td>DJ Malan</td>\n",
              "      <td>JM Bairstow</td>\n",
              "      <td>...</td>\n",
              "      <td>0</td>\n",
              "      <td>NaN</td>\n",
              "      <td>NaN</td>\n",
              "      <td>NaN</td>\n",
              "      <td>NaN</td>\n",
              "      <td>NaN</td>\n",
              "      <td>NaN</td>\n",
              "      <td>NaN</td>\n",
              "      <td>NaN</td>\n",
              "      <td>NaN</td>\n",
              "    </tr>\n",
              "    <tr>\n",
              "      <th>4</th>\n",
              "      <td>1</td>\n",
              "      <td>2023/24</td>\n",
              "      <td>2023-10-05</td>\n",
              "      <td>Narendra Modi Stadium, Ahmedabad</td>\n",
              "      <td>1</td>\n",
              "      <td>0.5</td>\n",
              "      <td>England</td>\n",
              "      <td>New Zealand</td>\n",
              "      <td>JM Bairstow</td>\n",
              "      <td>DJ Malan</td>\n",
              "      <td>...</td>\n",
              "      <td>0</td>\n",
              "      <td>NaN</td>\n",
              "      <td>NaN</td>\n",
              "      <td>NaN</td>\n",
              "      <td>NaN</td>\n",
              "      <td>NaN</td>\n",
              "      <td>NaN</td>\n",
              "      <td>NaN</td>\n",
              "      <td>NaN</td>\n",
              "      <td>NaN</td>\n",
              "    </tr>\n",
              "  </tbody>\n",
              "</table>\n",
              "<p>5 rows × 22 columns</p>\n",
              "</div>\n",
              "    <div class=\"colab-df-buttons\">\n",
              "\n",
              "  <div class=\"colab-df-container\">\n",
              "    <button class=\"colab-df-convert\" onclick=\"convertToInteractive('df-ff2c9d5a-a516-4d5f-bb58-358ddf271313')\"\n",
              "            title=\"Convert this dataframe to an interactive table.\"\n",
              "            style=\"display:none;\">\n",
              "\n",
              "  <svg xmlns=\"http://www.w3.org/2000/svg\" height=\"24px\" viewBox=\"0 -960 960 960\">\n",
              "    <path d=\"M120-120v-720h720v720H120Zm60-500h600v-160H180v160Zm220 220h160v-160H400v160Zm0 220h160v-160H400v160ZM180-400h160v-160H180v160Zm440 0h160v-160H620v160ZM180-180h160v-160H180v160Zm440 0h160v-160H620v160Z\"/>\n",
              "  </svg>\n",
              "    </button>\n",
              "\n",
              "  <style>\n",
              "    .colab-df-container {\n",
              "      display:flex;\n",
              "      gap: 12px;\n",
              "    }\n",
              "\n",
              "    .colab-df-convert {\n",
              "      background-color: #E8F0FE;\n",
              "      border: none;\n",
              "      border-radius: 50%;\n",
              "      cursor: pointer;\n",
              "      display: none;\n",
              "      fill: #1967D2;\n",
              "      height: 32px;\n",
              "      padding: 0 0 0 0;\n",
              "      width: 32px;\n",
              "    }\n",
              "\n",
              "    .colab-df-convert:hover {\n",
              "      background-color: #E2EBFA;\n",
              "      box-shadow: 0px 1px 2px rgba(60, 64, 67, 0.3), 0px 1px 3px 1px rgba(60, 64, 67, 0.15);\n",
              "      fill: #174EA6;\n",
              "    }\n",
              "\n",
              "    .colab-df-buttons div {\n",
              "      margin-bottom: 4px;\n",
              "    }\n",
              "\n",
              "    [theme=dark] .colab-df-convert {\n",
              "      background-color: #3B4455;\n",
              "      fill: #D2E3FC;\n",
              "    }\n",
              "\n",
              "    [theme=dark] .colab-df-convert:hover {\n",
              "      background-color: #434B5C;\n",
              "      box-shadow: 0px 1px 3px 1px rgba(0, 0, 0, 0.15);\n",
              "      filter: drop-shadow(0px 1px 2px rgba(0, 0, 0, 0.3));\n",
              "      fill: #FFFFFF;\n",
              "    }\n",
              "  </style>\n",
              "\n",
              "    <script>\n",
              "      const buttonEl =\n",
              "        document.querySelector('#df-ff2c9d5a-a516-4d5f-bb58-358ddf271313 button.colab-df-convert');\n",
              "      buttonEl.style.display =\n",
              "        google.colab.kernel.accessAllowed ? 'block' : 'none';\n",
              "\n",
              "      async function convertToInteractive(key) {\n",
              "        const element = document.querySelector('#df-ff2c9d5a-a516-4d5f-bb58-358ddf271313');\n",
              "        const dataTable =\n",
              "          await google.colab.kernel.invokeFunction('convertToInteractive',\n",
              "                                                    [key], {});\n",
              "        if (!dataTable) return;\n",
              "\n",
              "        const docLinkHtml = 'Like what you see? Visit the ' +\n",
              "          '<a target=\"_blank\" href=https://colab.research.google.com/notebooks/data_table.ipynb>data table notebook</a>'\n",
              "          + ' to learn more about interactive tables.';\n",
              "        element.innerHTML = '';\n",
              "        dataTable['output_type'] = 'display_data';\n",
              "        await google.colab.output.renderOutput(dataTable, element);\n",
              "        const docLink = document.createElement('div');\n",
              "        docLink.innerHTML = docLinkHtml;\n",
              "        element.appendChild(docLink);\n",
              "      }\n",
              "    </script>\n",
              "  </div>\n",
              "\n",
              "\n",
              "<div id=\"df-3b372944-74f0-4b03-8e4b-a11d35e56e94\">\n",
              "  <button class=\"colab-df-quickchart\" onclick=\"quickchart('df-3b372944-74f0-4b03-8e4b-a11d35e56e94')\"\n",
              "            title=\"Suggest charts\"\n",
              "            style=\"display:none;\">\n",
              "\n",
              "<svg xmlns=\"http://www.w3.org/2000/svg\" height=\"24px\"viewBox=\"0 0 24 24\"\n",
              "     width=\"24px\">\n",
              "    <g>\n",
              "        <path d=\"M19 3H5c-1.1 0-2 .9-2 2v14c0 1.1.9 2 2 2h14c1.1 0 2-.9 2-2V5c0-1.1-.9-2-2-2zM9 17H7v-7h2v7zm4 0h-2V7h2v10zm4 0h-2v-4h2v4z\"/>\n",
              "    </g>\n",
              "</svg>\n",
              "  </button>\n",
              "\n",
              "<style>\n",
              "  .colab-df-quickchart {\n",
              "      --bg-color: #E8F0FE;\n",
              "      --fill-color: #1967D2;\n",
              "      --hover-bg-color: #E2EBFA;\n",
              "      --hover-fill-color: #174EA6;\n",
              "      --disabled-fill-color: #AAA;\n",
              "      --disabled-bg-color: #DDD;\n",
              "  }\n",
              "\n",
              "  [theme=dark] .colab-df-quickchart {\n",
              "      --bg-color: #3B4455;\n",
              "      --fill-color: #D2E3FC;\n",
              "      --hover-bg-color: #434B5C;\n",
              "      --hover-fill-color: #FFFFFF;\n",
              "      --disabled-bg-color: #3B4455;\n",
              "      --disabled-fill-color: #666;\n",
              "  }\n",
              "\n",
              "  .colab-df-quickchart {\n",
              "    background-color: var(--bg-color);\n",
              "    border: none;\n",
              "    border-radius: 50%;\n",
              "    cursor: pointer;\n",
              "    display: none;\n",
              "    fill: var(--fill-color);\n",
              "    height: 32px;\n",
              "    padding: 0;\n",
              "    width: 32px;\n",
              "  }\n",
              "\n",
              "  .colab-df-quickchart:hover {\n",
              "    background-color: var(--hover-bg-color);\n",
              "    box-shadow: 0 1px 2px rgba(60, 64, 67, 0.3), 0 1px 3px 1px rgba(60, 64, 67, 0.15);\n",
              "    fill: var(--button-hover-fill-color);\n",
              "  }\n",
              "\n",
              "  .colab-df-quickchart-complete:disabled,\n",
              "  .colab-df-quickchart-complete:disabled:hover {\n",
              "    background-color: var(--disabled-bg-color);\n",
              "    fill: var(--disabled-fill-color);\n",
              "    box-shadow: none;\n",
              "  }\n",
              "\n",
              "  .colab-df-spinner {\n",
              "    border: 2px solid var(--fill-color);\n",
              "    border-color: transparent;\n",
              "    border-bottom-color: var(--fill-color);\n",
              "    animation:\n",
              "      spin 1s steps(1) infinite;\n",
              "  }\n",
              "\n",
              "  @keyframes spin {\n",
              "    0% {\n",
              "      border-color: transparent;\n",
              "      border-bottom-color: var(--fill-color);\n",
              "      border-left-color: var(--fill-color);\n",
              "    }\n",
              "    20% {\n",
              "      border-color: transparent;\n",
              "      border-left-color: var(--fill-color);\n",
              "      border-top-color: var(--fill-color);\n",
              "    }\n",
              "    30% {\n",
              "      border-color: transparent;\n",
              "      border-left-color: var(--fill-color);\n",
              "      border-top-color: var(--fill-color);\n",
              "      border-right-color: var(--fill-color);\n",
              "    }\n",
              "    40% {\n",
              "      border-color: transparent;\n",
              "      border-right-color: var(--fill-color);\n",
              "      border-top-color: var(--fill-color);\n",
              "    }\n",
              "    60% {\n",
              "      border-color: transparent;\n",
              "      border-right-color: var(--fill-color);\n",
              "    }\n",
              "    80% {\n",
              "      border-color: transparent;\n",
              "      border-right-color: var(--fill-color);\n",
              "      border-bottom-color: var(--fill-color);\n",
              "    }\n",
              "    90% {\n",
              "      border-color: transparent;\n",
              "      border-bottom-color: var(--fill-color);\n",
              "    }\n",
              "  }\n",
              "</style>\n",
              "\n",
              "  <script>\n",
              "    async function quickchart(key) {\n",
              "      const quickchartButtonEl =\n",
              "        document.querySelector('#' + key + ' button');\n",
              "      quickchartButtonEl.disabled = true;  // To prevent multiple clicks.\n",
              "      quickchartButtonEl.classList.add('colab-df-spinner');\n",
              "      try {\n",
              "        const charts = await google.colab.kernel.invokeFunction(\n",
              "            'suggestCharts', [key], {});\n",
              "      } catch (error) {\n",
              "        console.error('Error during call to suggestCharts:', error);\n",
              "      }\n",
              "      quickchartButtonEl.classList.remove('colab-df-spinner');\n",
              "      quickchartButtonEl.classList.add('colab-df-quickchart-complete');\n",
              "    }\n",
              "    (() => {\n",
              "      let quickchartButtonEl =\n",
              "        document.querySelector('#df-3b372944-74f0-4b03-8e4b-a11d35e56e94 button');\n",
              "      quickchartButtonEl.style.display =\n",
              "        google.colab.kernel.accessAllowed ? 'block' : 'none';\n",
              "    })();\n",
              "  </script>\n",
              "</div>\n",
              "    </div>\n",
              "  </div>\n"
            ]
          },
          "metadata": {},
          "execution_count": 704
        }
      ]
    },
    {
      "cell_type": "code",
      "source": [
        "data.shape"
      ],
      "metadata": {
        "colab": {
          "base_uri": "https://localhost:8080/"
        },
        "id": "3HB21QNmg9-Y",
        "outputId": "1616977b-a646-4262-a024-190267799966"
      },
      "execution_count": null,
      "outputs": [
        {
          "output_type": "execute_result",
          "data": {
            "text/plain": [
              "(17380, 22)"
            ]
          },
          "metadata": {},
          "execution_count": 705
        }
      ]
    },
    {
      "cell_type": "code",
      "source": [
        "data.info()"
      ],
      "metadata": {
        "colab": {
          "base_uri": "https://localhost:8080/"
        },
        "id": "PKe-FoSOg_3J",
        "outputId": "5bfef677-cb0a-4be8-d434-0430e01c25da"
      },
      "execution_count": null,
      "outputs": [
        {
          "output_type": "stream",
          "name": "stdout",
          "text": [
            "<class 'pandas.core.frame.DataFrame'>\n",
            "RangeIndex: 17380 entries, 0 to 17379\n",
            "Data columns (total 22 columns):\n",
            " #   Column                  Non-Null Count  Dtype  \n",
            "---  ------                  --------------  -----  \n",
            " 0   match_id                17380 non-null  int64  \n",
            " 1   season                  17380 non-null  object \n",
            " 2   start_date              17380 non-null  object \n",
            " 3   venue                   17380 non-null  object \n",
            " 4   innings                 17380 non-null  int64  \n",
            " 5   ball                    17380 non-null  float64\n",
            " 6   batting_team            17380 non-null  object \n",
            " 7   bowling_team            17380 non-null  object \n",
            " 8   striker                 17380 non-null  object \n",
            " 9   non_striker             17380 non-null  object \n",
            " 10  bowler                  17380 non-null  object \n",
            " 11  runs_off_bat            17380 non-null  int64  \n",
            " 12  extras                  17380 non-null  int64  \n",
            " 13  wides                   431 non-null    float64\n",
            " 14  noballs                 42 non-null     float64\n",
            " 15  byes                    26 non-null     float64\n",
            " 16  legbyes                 117 non-null    float64\n",
            " 17  penalty                 1 non-null      float64\n",
            " 18  wicket_type             491 non-null    object \n",
            " 19  player_dismissed        491 non-null    object \n",
            " 20  other_wicket_type       0 non-null      float64\n",
            " 21  other_player_dismissed  0 non-null      float64\n",
            "dtypes: float64(8), int64(4), object(10)\n",
            "memory usage: 2.9+ MB\n"
          ]
        }
      ]
    },
    {
      "cell_type": "code",
      "source": [
        "data.columns"
      ],
      "metadata": {
        "colab": {
          "base_uri": "https://localhost:8080/"
        },
        "id": "5FPfP7lLhGCn",
        "outputId": "e9431377-8a67-40ab-9873-bc6af333c2bf"
      },
      "execution_count": null,
      "outputs": [
        {
          "output_type": "execute_result",
          "data": {
            "text/plain": [
              "Index(['match_id', 'season', 'start_date', 'venue', 'innings', 'ball',\n",
              "       'batting_team', 'bowling_team', 'striker', 'non_striker', 'bowler',\n",
              "       'runs_off_bat', 'extras', 'wides', 'noballs', 'byes', 'legbyes',\n",
              "       'penalty', 'wicket_type', 'player_dismissed', 'other_wicket_type',\n",
              "       'other_player_dismissed'],\n",
              "      dtype='object')"
            ]
          },
          "metadata": {},
          "execution_count": 707
        }
      ]
    },
    {
      "cell_type": "code",
      "source": [
        "data.isnull().sum()"
      ],
      "metadata": {
        "colab": {
          "base_uri": "https://localhost:8080/"
        },
        "id": "iycTqc0ZhXO7",
        "outputId": "9e93e6de-e735-4c29-d725-971568041400"
      },
      "execution_count": null,
      "outputs": [
        {
          "output_type": "execute_result",
          "data": {
            "text/plain": [
              "match_id                      0\n",
              "season                        0\n",
              "start_date                    0\n",
              "venue                         0\n",
              "innings                       0\n",
              "ball                          0\n",
              "batting_team                  0\n",
              "bowling_team                  0\n",
              "striker                       0\n",
              "non_striker                   0\n",
              "bowler                        0\n",
              "runs_off_bat                  0\n",
              "extras                        0\n",
              "wides                     16949\n",
              "noballs                   17338\n",
              "byes                      17354\n",
              "legbyes                   17263\n",
              "penalty                   17379\n",
              "wicket_type               16889\n",
              "player_dismissed          16889\n",
              "other_wicket_type         17380\n",
              "other_player_dismissed    17380\n",
              "dtype: int64"
            ]
          },
          "metadata": {},
          "execution_count": 708
        }
      ]
    },
    {
      "cell_type": "code",
      "source": [
        "# calculating the percentage of missig values\n",
        "missing_percentage = (data.isnull().sum() / len(data)) * 100"
      ],
      "metadata": {
        "id": "KLF8cVSAYwMY"
      },
      "execution_count": null,
      "outputs": []
    },
    {
      "cell_type": "code",
      "source": [
        "# checking the percentage of null values in all the columns\n",
        "print(round(missing_percentage, 2))"
      ],
      "metadata": {
        "colab": {
          "base_uri": "https://localhost:8080/"
        },
        "id": "z8E2baWj7Wbk",
        "outputId": "5a385adf-9117-4eb6-b92a-880b0e42219a"
      },
      "execution_count": null,
      "outputs": [
        {
          "output_type": "stream",
          "name": "stdout",
          "text": [
            "match_id                    0.00\n",
            "season                      0.00\n",
            "start_date                  0.00\n",
            "venue                       0.00\n",
            "innings                     0.00\n",
            "ball                        0.00\n",
            "batting_team                0.00\n",
            "bowling_team                0.00\n",
            "striker                     0.00\n",
            "non_striker                 0.00\n",
            "bowler                      0.00\n",
            "runs_off_bat                0.00\n",
            "extras                      0.00\n",
            "wides                      97.52\n",
            "noballs                    99.76\n",
            "byes                       99.85\n",
            "legbyes                    99.33\n",
            "penalty                    99.99\n",
            "wicket_type                97.17\n",
            "player_dismissed           97.17\n",
            "other_wicket_type         100.00\n",
            "other_player_dismissed    100.00\n",
            "dtype: float64\n"
          ]
        }
      ]
    },
    {
      "cell_type": "code",
      "source": [
        "data = data.drop(columns=['season'])"
      ],
      "metadata": {
        "id": "pi-Em75ZPbh2"
      },
      "execution_count": null,
      "outputs": []
    },
    {
      "cell_type": "code",
      "source": [
        "data[\"wicket\"] = data[\"player_dismissed\"].apply(lambda x: 1 if isinstance(x, str) else 0)"
      ],
      "metadata": {
        "id": "30oqjsWXC3s3"
      },
      "execution_count": null,
      "outputs": []
    },
    {
      "cell_type": "code",
      "source": [
        "data[[\"wides\", \"noballs\", \"byes\", \"legbyes\", \"penalty\"]] = data[[\"wides\", \"noballs\", \"byes\", \"legbyes\", \"penalty\"]].fillna(0)"
      ],
      "metadata": {
        "id": "jUoOFS5mC_7n"
      },
      "execution_count": null,
      "outputs": []
    },
    {
      "cell_type": "code",
      "source": [
        "data.wicket_type.fillna(\"no wicket\", inplace=True)"
      ],
      "metadata": {
        "id": "UQiUllBwDC71"
      },
      "execution_count": null,
      "outputs": []
    },
    {
      "cell_type": "code",
      "source": [
        "data.player_dismissed.fillna(\"no wicket\", inplace=True)"
      ],
      "metadata": {
        "id": "UQtpLm8tDHek"
      },
      "execution_count": null,
      "outputs": []
    },
    {
      "cell_type": "code",
      "source": [
        "data = data.drop(columns=['other_wicket_type','other_player_dismissed'])"
      ],
      "metadata": {
        "id": "HzHqvoKMkrUD"
      },
      "execution_count": null,
      "outputs": []
    },
    {
      "cell_type": "code",
      "source": [
        "data.isnull().sum()"
      ],
      "metadata": {
        "colab": {
          "base_uri": "https://localhost:8080/"
        },
        "id": "jm7-FjJgDbWu",
        "outputId": "8dbfc0b8-ad2e-4d99-b4bf-857974b80e20"
      },
      "execution_count": null,
      "outputs": [
        {
          "output_type": "execute_result",
          "data": {
            "text/plain": [
              "match_id            0\n",
              "start_date          0\n",
              "venue               0\n",
              "innings             0\n",
              "ball                0\n",
              "batting_team        0\n",
              "bowling_team        0\n",
              "striker             0\n",
              "non_striker         0\n",
              "bowler              0\n",
              "runs_off_bat        0\n",
              "extras              0\n",
              "wides               0\n",
              "noballs             0\n",
              "byes                0\n",
              "legbyes             0\n",
              "penalty             0\n",
              "wicket_type         0\n",
              "player_dismissed    0\n",
              "wicket              0\n",
              "dtype: int64"
            ]
          },
          "metadata": {},
          "execution_count": 717
        }
      ]
    },
    {
      "cell_type": "code",
      "source": [
        "# checking if there are any duplicate records in the dataset\n",
        "data.duplicated().sum()"
      ],
      "metadata": {
        "colab": {
          "base_uri": "https://localhost:8080/"
        },
        "id": "4qBVDQ2MEaHS",
        "outputId": "bec1b48e-88a8-422b-aa1f-68c25323c6a6"
      },
      "execution_count": null,
      "outputs": [
        {
          "output_type": "execute_result",
          "data": {
            "text/plain": [
              "1"
            ]
          },
          "metadata": {},
          "execution_count": 718
        }
      ]
    },
    {
      "cell_type": "code",
      "source": [
        "# summary of the dataset\n",
        "data.describe().T"
      ],
      "metadata": {
        "colab": {
          "base_uri": "https://localhost:8080/",
          "height": 394
        },
        "id": "gehCZaRzGJ7F",
        "outputId": "7a574315-0b0c-4ca1-e485-f5a3e43a20bf"
      },
      "execution_count": null,
      "outputs": [
        {
          "output_type": "execute_result",
          "data": {
            "text/plain": [
              "                count       mean        std  min   25%   50%   75%   max\n",
              "match_id      17380.0  16.418815   9.196759  1.0   8.0  17.0  24.0  32.0\n",
              "innings       17380.0   1.453797   0.497875  1.0   1.0   1.0   2.0   2.0\n",
              "ball          17380.0  22.544108  13.638454  0.1  10.6  22.1  33.5  49.7\n",
              "runs_off_bat  17380.0   0.895224   1.392734  0.0   0.0   0.0   1.0   6.0\n",
              "extras        17380.0   0.044649   0.285378  0.0   0.0   0.0   0.0   5.0\n",
              "wides         17380.0   0.030380   0.234044  0.0   0.0   0.0   0.0   5.0\n",
              "noballs       17380.0   0.002417   0.049101  0.0   0.0   0.0   0.0   1.0\n",
              "byes          17380.0   0.003222   0.099431  0.0   0.0   0.0   0.0   4.0\n",
              "legbyes       17380.0   0.008343   0.117952  0.0   0.0   0.0   0.0   4.0\n",
              "penalty       17380.0   0.000288   0.037927  0.0   0.0   0.0   0.0   5.0\n",
              "wicket        17380.0   0.028251   0.165693  0.0   0.0   0.0   0.0   1.0"
            ],
            "text/html": [
              "\n",
              "  <div id=\"df-356fa107-8dc9-4325-aaf8-2b57d350a834\" class=\"colab-df-container\">\n",
              "    <div>\n",
              "<style scoped>\n",
              "    .dataframe tbody tr th:only-of-type {\n",
              "        vertical-align: middle;\n",
              "    }\n",
              "\n",
              "    .dataframe tbody tr th {\n",
              "        vertical-align: top;\n",
              "    }\n",
              "\n",
              "    .dataframe thead th {\n",
              "        text-align: right;\n",
              "    }\n",
              "</style>\n",
              "<table border=\"1\" class=\"dataframe\">\n",
              "  <thead>\n",
              "    <tr style=\"text-align: right;\">\n",
              "      <th></th>\n",
              "      <th>count</th>\n",
              "      <th>mean</th>\n",
              "      <th>std</th>\n",
              "      <th>min</th>\n",
              "      <th>25%</th>\n",
              "      <th>50%</th>\n",
              "      <th>75%</th>\n",
              "      <th>max</th>\n",
              "    </tr>\n",
              "  </thead>\n",
              "  <tbody>\n",
              "    <tr>\n",
              "      <th>match_id</th>\n",
              "      <td>17380.0</td>\n",
              "      <td>16.418815</td>\n",
              "      <td>9.196759</td>\n",
              "      <td>1.0</td>\n",
              "      <td>8.0</td>\n",
              "      <td>17.0</td>\n",
              "      <td>24.0</td>\n",
              "      <td>32.0</td>\n",
              "    </tr>\n",
              "    <tr>\n",
              "      <th>innings</th>\n",
              "      <td>17380.0</td>\n",
              "      <td>1.453797</td>\n",
              "      <td>0.497875</td>\n",
              "      <td>1.0</td>\n",
              "      <td>1.0</td>\n",
              "      <td>1.0</td>\n",
              "      <td>2.0</td>\n",
              "      <td>2.0</td>\n",
              "    </tr>\n",
              "    <tr>\n",
              "      <th>ball</th>\n",
              "      <td>17380.0</td>\n",
              "      <td>22.544108</td>\n",
              "      <td>13.638454</td>\n",
              "      <td>0.1</td>\n",
              "      <td>10.6</td>\n",
              "      <td>22.1</td>\n",
              "      <td>33.5</td>\n",
              "      <td>49.7</td>\n",
              "    </tr>\n",
              "    <tr>\n",
              "      <th>runs_off_bat</th>\n",
              "      <td>17380.0</td>\n",
              "      <td>0.895224</td>\n",
              "      <td>1.392734</td>\n",
              "      <td>0.0</td>\n",
              "      <td>0.0</td>\n",
              "      <td>0.0</td>\n",
              "      <td>1.0</td>\n",
              "      <td>6.0</td>\n",
              "    </tr>\n",
              "    <tr>\n",
              "      <th>extras</th>\n",
              "      <td>17380.0</td>\n",
              "      <td>0.044649</td>\n",
              "      <td>0.285378</td>\n",
              "      <td>0.0</td>\n",
              "      <td>0.0</td>\n",
              "      <td>0.0</td>\n",
              "      <td>0.0</td>\n",
              "      <td>5.0</td>\n",
              "    </tr>\n",
              "    <tr>\n",
              "      <th>wides</th>\n",
              "      <td>17380.0</td>\n",
              "      <td>0.030380</td>\n",
              "      <td>0.234044</td>\n",
              "      <td>0.0</td>\n",
              "      <td>0.0</td>\n",
              "      <td>0.0</td>\n",
              "      <td>0.0</td>\n",
              "      <td>5.0</td>\n",
              "    </tr>\n",
              "    <tr>\n",
              "      <th>noballs</th>\n",
              "      <td>17380.0</td>\n",
              "      <td>0.002417</td>\n",
              "      <td>0.049101</td>\n",
              "      <td>0.0</td>\n",
              "      <td>0.0</td>\n",
              "      <td>0.0</td>\n",
              "      <td>0.0</td>\n",
              "      <td>1.0</td>\n",
              "    </tr>\n",
              "    <tr>\n",
              "      <th>byes</th>\n",
              "      <td>17380.0</td>\n",
              "      <td>0.003222</td>\n",
              "      <td>0.099431</td>\n",
              "      <td>0.0</td>\n",
              "      <td>0.0</td>\n",
              "      <td>0.0</td>\n",
              "      <td>0.0</td>\n",
              "      <td>4.0</td>\n",
              "    </tr>\n",
              "    <tr>\n",
              "      <th>legbyes</th>\n",
              "      <td>17380.0</td>\n",
              "      <td>0.008343</td>\n",
              "      <td>0.117952</td>\n",
              "      <td>0.0</td>\n",
              "      <td>0.0</td>\n",
              "      <td>0.0</td>\n",
              "      <td>0.0</td>\n",
              "      <td>4.0</td>\n",
              "    </tr>\n",
              "    <tr>\n",
              "      <th>penalty</th>\n",
              "      <td>17380.0</td>\n",
              "      <td>0.000288</td>\n",
              "      <td>0.037927</td>\n",
              "      <td>0.0</td>\n",
              "      <td>0.0</td>\n",
              "      <td>0.0</td>\n",
              "      <td>0.0</td>\n",
              "      <td>5.0</td>\n",
              "    </tr>\n",
              "    <tr>\n",
              "      <th>wicket</th>\n",
              "      <td>17380.0</td>\n",
              "      <td>0.028251</td>\n",
              "      <td>0.165693</td>\n",
              "      <td>0.0</td>\n",
              "      <td>0.0</td>\n",
              "      <td>0.0</td>\n",
              "      <td>0.0</td>\n",
              "      <td>1.0</td>\n",
              "    </tr>\n",
              "  </tbody>\n",
              "</table>\n",
              "</div>\n",
              "    <div class=\"colab-df-buttons\">\n",
              "\n",
              "  <div class=\"colab-df-container\">\n",
              "    <button class=\"colab-df-convert\" onclick=\"convertToInteractive('df-356fa107-8dc9-4325-aaf8-2b57d350a834')\"\n",
              "            title=\"Convert this dataframe to an interactive table.\"\n",
              "            style=\"display:none;\">\n",
              "\n",
              "  <svg xmlns=\"http://www.w3.org/2000/svg\" height=\"24px\" viewBox=\"0 -960 960 960\">\n",
              "    <path d=\"M120-120v-720h720v720H120Zm60-500h600v-160H180v160Zm220 220h160v-160H400v160Zm0 220h160v-160H400v160ZM180-400h160v-160H180v160Zm440 0h160v-160H620v160ZM180-180h160v-160H180v160Zm440 0h160v-160H620v160Z\"/>\n",
              "  </svg>\n",
              "    </button>\n",
              "\n",
              "  <style>\n",
              "    .colab-df-container {\n",
              "      display:flex;\n",
              "      gap: 12px;\n",
              "    }\n",
              "\n",
              "    .colab-df-convert {\n",
              "      background-color: #E8F0FE;\n",
              "      border: none;\n",
              "      border-radius: 50%;\n",
              "      cursor: pointer;\n",
              "      display: none;\n",
              "      fill: #1967D2;\n",
              "      height: 32px;\n",
              "      padding: 0 0 0 0;\n",
              "      width: 32px;\n",
              "    }\n",
              "\n",
              "    .colab-df-convert:hover {\n",
              "      background-color: #E2EBFA;\n",
              "      box-shadow: 0px 1px 2px rgba(60, 64, 67, 0.3), 0px 1px 3px 1px rgba(60, 64, 67, 0.15);\n",
              "      fill: #174EA6;\n",
              "    }\n",
              "\n",
              "    .colab-df-buttons div {\n",
              "      margin-bottom: 4px;\n",
              "    }\n",
              "\n",
              "    [theme=dark] .colab-df-convert {\n",
              "      background-color: #3B4455;\n",
              "      fill: #D2E3FC;\n",
              "    }\n",
              "\n",
              "    [theme=dark] .colab-df-convert:hover {\n",
              "      background-color: #434B5C;\n",
              "      box-shadow: 0px 1px 3px 1px rgba(0, 0, 0, 0.15);\n",
              "      filter: drop-shadow(0px 1px 2px rgba(0, 0, 0, 0.3));\n",
              "      fill: #FFFFFF;\n",
              "    }\n",
              "  </style>\n",
              "\n",
              "    <script>\n",
              "      const buttonEl =\n",
              "        document.querySelector('#df-356fa107-8dc9-4325-aaf8-2b57d350a834 button.colab-df-convert');\n",
              "      buttonEl.style.display =\n",
              "        google.colab.kernel.accessAllowed ? 'block' : 'none';\n",
              "\n",
              "      async function convertToInteractive(key) {\n",
              "        const element = document.querySelector('#df-356fa107-8dc9-4325-aaf8-2b57d350a834');\n",
              "        const dataTable =\n",
              "          await google.colab.kernel.invokeFunction('convertToInteractive',\n",
              "                                                    [key], {});\n",
              "        if (!dataTable) return;\n",
              "\n",
              "        const docLinkHtml = 'Like what you see? Visit the ' +\n",
              "          '<a target=\"_blank\" href=https://colab.research.google.com/notebooks/data_table.ipynb>data table notebook</a>'\n",
              "          + ' to learn more about interactive tables.';\n",
              "        element.innerHTML = '';\n",
              "        dataTable['output_type'] = 'display_data';\n",
              "        await google.colab.output.renderOutput(dataTable, element);\n",
              "        const docLink = document.createElement('div');\n",
              "        docLink.innerHTML = docLinkHtml;\n",
              "        element.appendChild(docLink);\n",
              "      }\n",
              "    </script>\n",
              "  </div>\n",
              "\n",
              "\n",
              "<div id=\"df-180064c9-7ad4-4bdc-a1ab-b6c225be7a25\">\n",
              "  <button class=\"colab-df-quickchart\" onclick=\"quickchart('df-180064c9-7ad4-4bdc-a1ab-b6c225be7a25')\"\n",
              "            title=\"Suggest charts\"\n",
              "            style=\"display:none;\">\n",
              "\n",
              "<svg xmlns=\"http://www.w3.org/2000/svg\" height=\"24px\"viewBox=\"0 0 24 24\"\n",
              "     width=\"24px\">\n",
              "    <g>\n",
              "        <path d=\"M19 3H5c-1.1 0-2 .9-2 2v14c0 1.1.9 2 2 2h14c1.1 0 2-.9 2-2V5c0-1.1-.9-2-2-2zM9 17H7v-7h2v7zm4 0h-2V7h2v10zm4 0h-2v-4h2v4z\"/>\n",
              "    </g>\n",
              "</svg>\n",
              "  </button>\n",
              "\n",
              "<style>\n",
              "  .colab-df-quickchart {\n",
              "      --bg-color: #E8F0FE;\n",
              "      --fill-color: #1967D2;\n",
              "      --hover-bg-color: #E2EBFA;\n",
              "      --hover-fill-color: #174EA6;\n",
              "      --disabled-fill-color: #AAA;\n",
              "      --disabled-bg-color: #DDD;\n",
              "  }\n",
              "\n",
              "  [theme=dark] .colab-df-quickchart {\n",
              "      --bg-color: #3B4455;\n",
              "      --fill-color: #D2E3FC;\n",
              "      --hover-bg-color: #434B5C;\n",
              "      --hover-fill-color: #FFFFFF;\n",
              "      --disabled-bg-color: #3B4455;\n",
              "      --disabled-fill-color: #666;\n",
              "  }\n",
              "\n",
              "  .colab-df-quickchart {\n",
              "    background-color: var(--bg-color);\n",
              "    border: none;\n",
              "    border-radius: 50%;\n",
              "    cursor: pointer;\n",
              "    display: none;\n",
              "    fill: var(--fill-color);\n",
              "    height: 32px;\n",
              "    padding: 0;\n",
              "    width: 32px;\n",
              "  }\n",
              "\n",
              "  .colab-df-quickchart:hover {\n",
              "    background-color: var(--hover-bg-color);\n",
              "    box-shadow: 0 1px 2px rgba(60, 64, 67, 0.3), 0 1px 3px 1px rgba(60, 64, 67, 0.15);\n",
              "    fill: var(--button-hover-fill-color);\n",
              "  }\n",
              "\n",
              "  .colab-df-quickchart-complete:disabled,\n",
              "  .colab-df-quickchart-complete:disabled:hover {\n",
              "    background-color: var(--disabled-bg-color);\n",
              "    fill: var(--disabled-fill-color);\n",
              "    box-shadow: none;\n",
              "  }\n",
              "\n",
              "  .colab-df-spinner {\n",
              "    border: 2px solid var(--fill-color);\n",
              "    border-color: transparent;\n",
              "    border-bottom-color: var(--fill-color);\n",
              "    animation:\n",
              "      spin 1s steps(1) infinite;\n",
              "  }\n",
              "\n",
              "  @keyframes spin {\n",
              "    0% {\n",
              "      border-color: transparent;\n",
              "      border-bottom-color: var(--fill-color);\n",
              "      border-left-color: var(--fill-color);\n",
              "    }\n",
              "    20% {\n",
              "      border-color: transparent;\n",
              "      border-left-color: var(--fill-color);\n",
              "      border-top-color: var(--fill-color);\n",
              "    }\n",
              "    30% {\n",
              "      border-color: transparent;\n",
              "      border-left-color: var(--fill-color);\n",
              "      border-top-color: var(--fill-color);\n",
              "      border-right-color: var(--fill-color);\n",
              "    }\n",
              "    40% {\n",
              "      border-color: transparent;\n",
              "      border-right-color: var(--fill-color);\n",
              "      border-top-color: var(--fill-color);\n",
              "    }\n",
              "    60% {\n",
              "      border-color: transparent;\n",
              "      border-right-color: var(--fill-color);\n",
              "    }\n",
              "    80% {\n",
              "      border-color: transparent;\n",
              "      border-right-color: var(--fill-color);\n",
              "      border-bottom-color: var(--fill-color);\n",
              "    }\n",
              "    90% {\n",
              "      border-color: transparent;\n",
              "      border-bottom-color: var(--fill-color);\n",
              "    }\n",
              "  }\n",
              "</style>\n",
              "\n",
              "  <script>\n",
              "    async function quickchart(key) {\n",
              "      const quickchartButtonEl =\n",
              "        document.querySelector('#' + key + ' button');\n",
              "      quickchartButtonEl.disabled = true;  // To prevent multiple clicks.\n",
              "      quickchartButtonEl.classList.add('colab-df-spinner');\n",
              "      try {\n",
              "        const charts = await google.colab.kernel.invokeFunction(\n",
              "            'suggestCharts', [key], {});\n",
              "      } catch (error) {\n",
              "        console.error('Error during call to suggestCharts:', error);\n",
              "      }\n",
              "      quickchartButtonEl.classList.remove('colab-df-spinner');\n",
              "      quickchartButtonEl.classList.add('colab-df-quickchart-complete');\n",
              "    }\n",
              "    (() => {\n",
              "      let quickchartButtonEl =\n",
              "        document.querySelector('#df-180064c9-7ad4-4bdc-a1ab-b6c225be7a25 button');\n",
              "      quickchartButtonEl.style.display =\n",
              "        google.colab.kernel.accessAllowed ? 'block' : 'none';\n",
              "    })();\n",
              "  </script>\n",
              "</div>\n",
              "    </div>\n",
              "  </div>\n"
            ]
          },
          "metadata": {},
          "execution_count": 719
        }
      ]
    },
    {
      "cell_type": "code",
      "source": [
        "# summary of the dataset including columns of object type\n",
        "data.describe(include='object').T"
      ],
      "metadata": {
        "colab": {
          "base_uri": "https://localhost:8080/",
          "height": 331
        },
        "id": "PLB1wZC6GhUV",
        "outputId": "5a76570a-9edb-4df6-bdc2-f7535e9d0ad0"
      },
      "execution_count": null,
      "outputs": [
        {
          "output_type": "execute_result",
          "data": {
            "text/plain": [
              "                  count unique                                       top  \\\n",
              "start_date        17380     28                                2023-10-10   \n",
              "venue             17380     10  MA Chidambaram Stadium, Chepauk, Chennai   \n",
              "batting_team      17380     10                              South Africa   \n",
              "bowling_team      17380     10                               New Zealand   \n",
              "striker           17380    141                                 Q de Kock   \n",
              "non_striker       17380    140                                 Q de Kock   \n",
              "bowler            17380     92                                MJ Santner   \n",
              "wicket_type       17380      8                                 no wicket   \n",
              "player_dismissed  17380    136                                 no wicket   \n",
              "\n",
              "                   freq  \n",
              "start_date         1210  \n",
              "venue              2854  \n",
              "batting_team       2103  \n",
              "bowling_team       2010  \n",
              "striker             497  \n",
              "non_striker         502  \n",
              "bowler              411  \n",
              "wicket_type       16889  \n",
              "player_dismissed  16889  "
            ],
            "text/html": [
              "\n",
              "  <div id=\"df-980d947e-6a6b-4629-a698-f57cb47e64ea\" class=\"colab-df-container\">\n",
              "    <div>\n",
              "<style scoped>\n",
              "    .dataframe tbody tr th:only-of-type {\n",
              "        vertical-align: middle;\n",
              "    }\n",
              "\n",
              "    .dataframe tbody tr th {\n",
              "        vertical-align: top;\n",
              "    }\n",
              "\n",
              "    .dataframe thead th {\n",
              "        text-align: right;\n",
              "    }\n",
              "</style>\n",
              "<table border=\"1\" class=\"dataframe\">\n",
              "  <thead>\n",
              "    <tr style=\"text-align: right;\">\n",
              "      <th></th>\n",
              "      <th>count</th>\n",
              "      <th>unique</th>\n",
              "      <th>top</th>\n",
              "      <th>freq</th>\n",
              "    </tr>\n",
              "  </thead>\n",
              "  <tbody>\n",
              "    <tr>\n",
              "      <th>start_date</th>\n",
              "      <td>17380</td>\n",
              "      <td>28</td>\n",
              "      <td>2023-10-10</td>\n",
              "      <td>1210</td>\n",
              "    </tr>\n",
              "    <tr>\n",
              "      <th>venue</th>\n",
              "      <td>17380</td>\n",
              "      <td>10</td>\n",
              "      <td>MA Chidambaram Stadium, Chepauk, Chennai</td>\n",
              "      <td>2854</td>\n",
              "    </tr>\n",
              "    <tr>\n",
              "      <th>batting_team</th>\n",
              "      <td>17380</td>\n",
              "      <td>10</td>\n",
              "      <td>South Africa</td>\n",
              "      <td>2103</td>\n",
              "    </tr>\n",
              "    <tr>\n",
              "      <th>bowling_team</th>\n",
              "      <td>17380</td>\n",
              "      <td>10</td>\n",
              "      <td>New Zealand</td>\n",
              "      <td>2010</td>\n",
              "    </tr>\n",
              "    <tr>\n",
              "      <th>striker</th>\n",
              "      <td>17380</td>\n",
              "      <td>141</td>\n",
              "      <td>Q de Kock</td>\n",
              "      <td>497</td>\n",
              "    </tr>\n",
              "    <tr>\n",
              "      <th>non_striker</th>\n",
              "      <td>17380</td>\n",
              "      <td>140</td>\n",
              "      <td>Q de Kock</td>\n",
              "      <td>502</td>\n",
              "    </tr>\n",
              "    <tr>\n",
              "      <th>bowler</th>\n",
              "      <td>17380</td>\n",
              "      <td>92</td>\n",
              "      <td>MJ Santner</td>\n",
              "      <td>411</td>\n",
              "    </tr>\n",
              "    <tr>\n",
              "      <th>wicket_type</th>\n",
              "      <td>17380</td>\n",
              "      <td>8</td>\n",
              "      <td>no wicket</td>\n",
              "      <td>16889</td>\n",
              "    </tr>\n",
              "    <tr>\n",
              "      <th>player_dismissed</th>\n",
              "      <td>17380</td>\n",
              "      <td>136</td>\n",
              "      <td>no wicket</td>\n",
              "      <td>16889</td>\n",
              "    </tr>\n",
              "  </tbody>\n",
              "</table>\n",
              "</div>\n",
              "    <div class=\"colab-df-buttons\">\n",
              "\n",
              "  <div class=\"colab-df-container\">\n",
              "    <button class=\"colab-df-convert\" onclick=\"convertToInteractive('df-980d947e-6a6b-4629-a698-f57cb47e64ea')\"\n",
              "            title=\"Convert this dataframe to an interactive table.\"\n",
              "            style=\"display:none;\">\n",
              "\n",
              "  <svg xmlns=\"http://www.w3.org/2000/svg\" height=\"24px\" viewBox=\"0 -960 960 960\">\n",
              "    <path d=\"M120-120v-720h720v720H120Zm60-500h600v-160H180v160Zm220 220h160v-160H400v160Zm0 220h160v-160H400v160ZM180-400h160v-160H180v160Zm440 0h160v-160H620v160ZM180-180h160v-160H180v160Zm440 0h160v-160H620v160Z\"/>\n",
              "  </svg>\n",
              "    </button>\n",
              "\n",
              "  <style>\n",
              "    .colab-df-container {\n",
              "      display:flex;\n",
              "      gap: 12px;\n",
              "    }\n",
              "\n",
              "    .colab-df-convert {\n",
              "      background-color: #E8F0FE;\n",
              "      border: none;\n",
              "      border-radius: 50%;\n",
              "      cursor: pointer;\n",
              "      display: none;\n",
              "      fill: #1967D2;\n",
              "      height: 32px;\n",
              "      padding: 0 0 0 0;\n",
              "      width: 32px;\n",
              "    }\n",
              "\n",
              "    .colab-df-convert:hover {\n",
              "      background-color: #E2EBFA;\n",
              "      box-shadow: 0px 1px 2px rgba(60, 64, 67, 0.3), 0px 1px 3px 1px rgba(60, 64, 67, 0.15);\n",
              "      fill: #174EA6;\n",
              "    }\n",
              "\n",
              "    .colab-df-buttons div {\n",
              "      margin-bottom: 4px;\n",
              "    }\n",
              "\n",
              "    [theme=dark] .colab-df-convert {\n",
              "      background-color: #3B4455;\n",
              "      fill: #D2E3FC;\n",
              "    }\n",
              "\n",
              "    [theme=dark] .colab-df-convert:hover {\n",
              "      background-color: #434B5C;\n",
              "      box-shadow: 0px 1px 3px 1px rgba(0, 0, 0, 0.15);\n",
              "      filter: drop-shadow(0px 1px 2px rgba(0, 0, 0, 0.3));\n",
              "      fill: #FFFFFF;\n",
              "    }\n",
              "  </style>\n",
              "\n",
              "    <script>\n",
              "      const buttonEl =\n",
              "        document.querySelector('#df-980d947e-6a6b-4629-a698-f57cb47e64ea button.colab-df-convert');\n",
              "      buttonEl.style.display =\n",
              "        google.colab.kernel.accessAllowed ? 'block' : 'none';\n",
              "\n",
              "      async function convertToInteractive(key) {\n",
              "        const element = document.querySelector('#df-980d947e-6a6b-4629-a698-f57cb47e64ea');\n",
              "        const dataTable =\n",
              "          await google.colab.kernel.invokeFunction('convertToInteractive',\n",
              "                                                    [key], {});\n",
              "        if (!dataTable) return;\n",
              "\n",
              "        const docLinkHtml = 'Like what you see? Visit the ' +\n",
              "          '<a target=\"_blank\" href=https://colab.research.google.com/notebooks/data_table.ipynb>data table notebook</a>'\n",
              "          + ' to learn more about interactive tables.';\n",
              "        element.innerHTML = '';\n",
              "        dataTable['output_type'] = 'display_data';\n",
              "        await google.colab.output.renderOutput(dataTable, element);\n",
              "        const docLink = document.createElement('div');\n",
              "        docLink.innerHTML = docLinkHtml;\n",
              "        element.appendChild(docLink);\n",
              "      }\n",
              "    </script>\n",
              "  </div>\n",
              "\n",
              "\n",
              "<div id=\"df-3f0b1f21-0638-49b5-a062-327da38dce44\">\n",
              "  <button class=\"colab-df-quickchart\" onclick=\"quickchart('df-3f0b1f21-0638-49b5-a062-327da38dce44')\"\n",
              "            title=\"Suggest charts\"\n",
              "            style=\"display:none;\">\n",
              "\n",
              "<svg xmlns=\"http://www.w3.org/2000/svg\" height=\"24px\"viewBox=\"0 0 24 24\"\n",
              "     width=\"24px\">\n",
              "    <g>\n",
              "        <path d=\"M19 3H5c-1.1 0-2 .9-2 2v14c0 1.1.9 2 2 2h14c1.1 0 2-.9 2-2V5c0-1.1-.9-2-2-2zM9 17H7v-7h2v7zm4 0h-2V7h2v10zm4 0h-2v-4h2v4z\"/>\n",
              "    </g>\n",
              "</svg>\n",
              "  </button>\n",
              "\n",
              "<style>\n",
              "  .colab-df-quickchart {\n",
              "      --bg-color: #E8F0FE;\n",
              "      --fill-color: #1967D2;\n",
              "      --hover-bg-color: #E2EBFA;\n",
              "      --hover-fill-color: #174EA6;\n",
              "      --disabled-fill-color: #AAA;\n",
              "      --disabled-bg-color: #DDD;\n",
              "  }\n",
              "\n",
              "  [theme=dark] .colab-df-quickchart {\n",
              "      --bg-color: #3B4455;\n",
              "      --fill-color: #D2E3FC;\n",
              "      --hover-bg-color: #434B5C;\n",
              "      --hover-fill-color: #FFFFFF;\n",
              "      --disabled-bg-color: #3B4455;\n",
              "      --disabled-fill-color: #666;\n",
              "  }\n",
              "\n",
              "  .colab-df-quickchart {\n",
              "    background-color: var(--bg-color);\n",
              "    border: none;\n",
              "    border-radius: 50%;\n",
              "    cursor: pointer;\n",
              "    display: none;\n",
              "    fill: var(--fill-color);\n",
              "    height: 32px;\n",
              "    padding: 0;\n",
              "    width: 32px;\n",
              "  }\n",
              "\n",
              "  .colab-df-quickchart:hover {\n",
              "    background-color: var(--hover-bg-color);\n",
              "    box-shadow: 0 1px 2px rgba(60, 64, 67, 0.3), 0 1px 3px 1px rgba(60, 64, 67, 0.15);\n",
              "    fill: var(--button-hover-fill-color);\n",
              "  }\n",
              "\n",
              "  .colab-df-quickchart-complete:disabled,\n",
              "  .colab-df-quickchart-complete:disabled:hover {\n",
              "    background-color: var(--disabled-bg-color);\n",
              "    fill: var(--disabled-fill-color);\n",
              "    box-shadow: none;\n",
              "  }\n",
              "\n",
              "  .colab-df-spinner {\n",
              "    border: 2px solid var(--fill-color);\n",
              "    border-color: transparent;\n",
              "    border-bottom-color: var(--fill-color);\n",
              "    animation:\n",
              "      spin 1s steps(1) infinite;\n",
              "  }\n",
              "\n",
              "  @keyframes spin {\n",
              "    0% {\n",
              "      border-color: transparent;\n",
              "      border-bottom-color: var(--fill-color);\n",
              "      border-left-color: var(--fill-color);\n",
              "    }\n",
              "    20% {\n",
              "      border-color: transparent;\n",
              "      border-left-color: var(--fill-color);\n",
              "      border-top-color: var(--fill-color);\n",
              "    }\n",
              "    30% {\n",
              "      border-color: transparent;\n",
              "      border-left-color: var(--fill-color);\n",
              "      border-top-color: var(--fill-color);\n",
              "      border-right-color: var(--fill-color);\n",
              "    }\n",
              "    40% {\n",
              "      border-color: transparent;\n",
              "      border-right-color: var(--fill-color);\n",
              "      border-top-color: var(--fill-color);\n",
              "    }\n",
              "    60% {\n",
              "      border-color: transparent;\n",
              "      border-right-color: var(--fill-color);\n",
              "    }\n",
              "    80% {\n",
              "      border-color: transparent;\n",
              "      border-right-color: var(--fill-color);\n",
              "      border-bottom-color: var(--fill-color);\n",
              "    }\n",
              "    90% {\n",
              "      border-color: transparent;\n",
              "      border-bottom-color: var(--fill-color);\n",
              "    }\n",
              "  }\n",
              "</style>\n",
              "\n",
              "  <script>\n",
              "    async function quickchart(key) {\n",
              "      const quickchartButtonEl =\n",
              "        document.querySelector('#' + key + ' button');\n",
              "      quickchartButtonEl.disabled = true;  // To prevent multiple clicks.\n",
              "      quickchartButtonEl.classList.add('colab-df-spinner');\n",
              "      try {\n",
              "        const charts = await google.colab.kernel.invokeFunction(\n",
              "            'suggestCharts', [key], {});\n",
              "      } catch (error) {\n",
              "        console.error('Error during call to suggestCharts:', error);\n",
              "      }\n",
              "      quickchartButtonEl.classList.remove('colab-df-spinner');\n",
              "      quickchartButtonEl.classList.add('colab-df-quickchart-complete');\n",
              "    }\n",
              "    (() => {\n",
              "      let quickchartButtonEl =\n",
              "        document.querySelector('#df-3f0b1f21-0638-49b5-a062-327da38dce44 button');\n",
              "      quickchartButtonEl.style.display =\n",
              "        google.colab.kernel.accessAllowed ? 'block' : 'none';\n",
              "    })();\n",
              "  </script>\n",
              "</div>\n",
              "    </div>\n",
              "  </div>\n"
            ]
          },
          "metadata": {},
          "execution_count": 720
        }
      ]
    },
    {
      "cell_type": "code",
      "source": [
        "# unique team names\n",
        "unique_batting_teams = data['batting_team'].unique()\n",
        "print(unique_batting_teams)"
      ],
      "metadata": {
        "colab": {
          "base_uri": "https://localhost:8080/"
        },
        "id": "uLLlo0xBheaH",
        "outputId": "f5f23d01-6687-4f3a-d705-2b57c4ef6614"
      },
      "execution_count": null,
      "outputs": [
        {
          "output_type": "stream",
          "name": "stdout",
          "text": [
            "['England' 'New Zealand' 'Pakistan' 'Netherlands' 'Afghanistan'\n",
            " 'Bangladesh' 'South Africa' 'Sri Lanka' 'Australia' 'India']\n"
          ]
        }
      ]
    },
    {
      "cell_type": "code",
      "source": [
        "data.nunique()"
      ],
      "metadata": {
        "colab": {
          "base_uri": "https://localhost:8080/"
        },
        "id": "neMqcOoWCdaQ",
        "outputId": "fede320c-a42e-47a2-efe5-72fbb2e9c6ce"
      },
      "execution_count": null,
      "outputs": [
        {
          "output_type": "execute_result",
          "data": {
            "text/plain": [
              "match_id             32\n",
              "start_date           28\n",
              "venue                10\n",
              "innings               2\n",
              "ball                389\n",
              "batting_team         10\n",
              "bowling_team         10\n",
              "striker             141\n",
              "non_striker         140\n",
              "bowler               92\n",
              "runs_off_bat          7\n",
              "extras                6\n",
              "wides                 5\n",
              "noballs               2\n",
              "byes                  5\n",
              "legbyes               4\n",
              "penalty               2\n",
              "wicket_type           8\n",
              "player_dismissed    136\n",
              "wicket                2\n",
              "dtype: int64"
            ]
          },
          "metadata": {},
          "execution_count": 722
        }
      ]
    },
    {
      "cell_type": "code",
      "source": [
        "for column in data.columns:\n",
        "    unique_values = data[column].unique()\n",
        "    print(f\"Unique values in {column}:\\n{unique_values}\\n\")"
      ],
      "metadata": {
        "colab": {
          "base_uri": "https://localhost:8080/"
        },
        "id": "mgy04o_Hjm2o",
        "outputId": "8d2d39cf-cca4-48e1-ea90-e10641207a01"
      },
      "execution_count": null,
      "outputs": [
        {
          "output_type": "stream",
          "name": "stdout",
          "text": [
            "Unique values in match_id:\n",
            "[ 1  2  3  4  5  6  7  8  9 11 12 13 14 15 16 17 18 19 20 21 22 10 23 24\n",
            " 25 26 27 28 29 30 31 32]\n",
            "\n",
            "Unique values in start_date:\n",
            "['2023-10-05' '2023-10-06' '2023-10-07' '2023-10-08' '2023-10-09'\n",
            " '2023-10-10' '2023-10-11' '2023-10-13' '2023-10-14' '2023-10-15'\n",
            " '2023-10-16' '2023-10-17' '2023-10-18' '2023-10-19' '2023-10-20'\n",
            " '2023-10-21' '2023-10-22' '2023-10-23' '2023-10-12' '2023-10-24'\n",
            " '2023-10-25' '2023-10-26' '2023-10-27' '2023-10-28' '2023-10-29'\n",
            " '2023-10-30' '2023-10-31' '2023-11-01']\n",
            "\n",
            "Unique values in venue:\n",
            "['Narendra Modi Stadium, Ahmedabad'\n",
            " 'Rajiv Gandhi International Stadium, Uppal, Hyderabad'\n",
            " 'Himachal Pradesh Cricket Association Stadium, Dharamsala'\n",
            " 'Arun Jaitley Stadium, Delhi' 'MA Chidambaram Stadium, Chepauk, Chennai'\n",
            " 'Bharat Ratna Shri Atal Bihari Vajpayee Ekana Cricket Stadium, Lucknow'\n",
            " 'Maharashtra Cricket Association Stadium, Pune'\n",
            " 'M Chinnaswamy Stadium, Bengaluru' 'Wankhede Stadium, Mumbai'\n",
            " 'Eden Gardens, Kolkata']\n",
            "\n",
            "Unique values in innings:\n",
            "[1 2]\n",
            "\n",
            "Unique values in ball:\n",
            "[ 0.1  0.2  0.3  0.4  0.5  0.6  1.1  1.2  1.3  1.4  1.5  1.6  2.1  2.2\n",
            "  2.3  2.4  2.5  2.6  3.1  3.2  3.3  3.4  3.5  3.6  4.1  4.2  4.3  4.4\n",
            "  4.5  4.6  4.7  5.1  5.2  5.3  5.4  5.5  5.6  6.1  6.2  6.3  6.4  6.5\n",
            "  6.6  6.7  7.1  7.2  7.3  7.4  7.5  7.6  8.1  8.2  8.3  8.4  8.5  8.6\n",
            "  9.1  9.2  9.3  9.4  9.5  9.6 10.1 10.2 10.3 10.4 10.5 10.6 11.1 11.2\n",
            " 11.3 11.4 11.5 11.6 12.1 12.2 12.3 12.4 12.5 12.6 13.1 13.2 13.3 13.4\n",
            " 13.5 13.6 14.1 14.2 14.3 14.4 14.5 14.6 15.1 15.2 15.3 15.4 15.5 15.6\n",
            " 16.1 16.2 16.3 16.4 16.5 16.6 17.1 17.2 17.3 17.4 17.5 17.6 18.1 18.2\n",
            " 18.3 18.4 18.5 18.6 19.1 19.2 19.3 19.4 19.5 19.6 19.7 20.1 20.2 20.3\n",
            " 20.4 20.5 20.6 21.1 21.2 21.3 21.4 21.5 21.6 22.1 22.2 22.3 22.4 22.5\n",
            " 22.6 23.1 23.2 23.3 23.4 23.5 23.6 24.1 24.2 24.3 24.4 24.5 24.6 25.1\n",
            " 25.2 25.3 25.4 25.5 25.6 26.1 26.2 26.3 26.4 26.5 26.6 27.1 27.2 27.3\n",
            " 27.4 27.5 27.6 28.1 28.2 28.3 28.4 28.5 28.6 29.1 29.2 29.3 29.4 29.5\n",
            " 29.6 30.1 30.2 30.3 30.4 30.5 30.6 31.1 31.2 31.3 31.4 31.5 31.6 32.1\n",
            " 32.2 32.3 32.4 32.5 32.6 33.1 33.2 33.3 33.4 33.5 33.6 34.1 34.2 34.3\n",
            " 34.4 34.5 34.6 35.1 35.2 35.3 35.4 35.5 35.6 36.1 36.2 36.3 36.4 36.5\n",
            " 36.6 37.1 37.2 37.3 37.4 37.5 37.6 38.1 38.2 38.3 38.4 38.5 38.6 39.1\n",
            " 39.2 39.3 39.4 39.5 39.6 40.1 40.2 40.3 40.4 40.5 40.6 41.1 41.2 41.3\n",
            " 41.4 41.5 41.6 42.1 42.2 42.3 42.4 42.5 42.6 43.1 43.2 43.3 43.4 43.5\n",
            " 43.6 44.1 44.2 44.3 44.4 44.5 44.6 45.1 45.2 45.3 45.4 45.5 45.6 46.1\n",
            " 46.2 46.3 46.4 46.5 46.6 47.1 47.2 47.3 47.4 47.5 47.6 48.1 48.2 48.3\n",
            " 48.4 48.5 48.6 49.1 49.2 49.3 49.4 49.5 49.6 49.7  5.7 24.7 32.7  6.8\n",
            " 16.7 21.7 25.7 31.7 39.7 39.8 47.7  0.7  3.7  9.7  9.8 28.7 34.7 40.7\n",
            "  1.7  1.8 14.7  2.7 15.7 17.7 20.7 28.8 33.7 42.7 48.7 48.8 13.7 23.7\n",
            " 23.8 30.7 37.7 42.8 30.8 44.7 46.7 47.8 27.7 27.8 29.7 34.8  2.8  2.9\n",
            " 45.7  7.7 11.7 17.8 33.8 35.7 38.7 41.7 11.8 36.7 36.8  8.7 10.7 12.7\n",
            " 12.8 22.7 18.7 22.8 26.7 39.9  0.8  5.8  0.9  8.8 37.8 43.7 45.8 45.9\n",
            " 46.8 14.8 31.8  9.9 48.9 21.8 43.8 13.8  4.8 19.8 29.8]\n",
            "\n",
            "Unique values in batting_team:\n",
            "['England' 'New Zealand' 'Pakistan' 'Netherlands' 'Afghanistan'\n",
            " 'Bangladesh' 'South Africa' 'Sri Lanka' 'Australia' 'India']\n",
            "\n",
            "Unique values in bowling_team:\n",
            "['New Zealand' 'England' 'Netherlands' 'Pakistan' 'Bangladesh'\n",
            " 'Afghanistan' 'Sri Lanka' 'South Africa' 'India' 'Australia']\n",
            "\n",
            "Unique values in striker:\n",
            "['JM Bairstow' 'DJ Malan' 'JE Root' 'HC Brook' 'MM Ali' 'JC Buttler'\n",
            " 'LS Livingstone' 'SM Curran' 'CR Woakes' 'AU Rashid' 'MA Wood'\n",
            " 'DP Conway' 'WA Young' 'R Ravindra' 'Fakhar Zaman' 'Imam-ul-Haq'\n",
            " 'Babar Azam' 'Mohammad Rizwan' 'Saud Shakeel' 'Iftikhar Ahmed'\n",
            " 'Mohammad Nawaz' 'Shadab Khan' 'Hasan Ali' 'Shaheen Shah Afridi'\n",
            " 'Haris Rauf' 'Vikramjit Singh' \"MP O'Dowd\" 'CN Ackermann' 'BFW de Leede'\n",
            " 'AT Nidamanuru' 'SA Edwards' 'Saqib Zulfiqar' 'RE van der Merwe'\n",
            " 'LV van Beek' 'A Dutt' 'PA van Meekeren' 'Rahmanullah Gurbaz'\n",
            " 'Ibrahim Zadran' 'Rahmat Shah' 'Hashmatullah Shahidi' 'Najibullah Zadran'\n",
            " 'Mohammad Nabi' 'Azmatullah Omarzai' 'Rashid Khan' 'Mujeeb Ur Rahman'\n",
            " 'Naveen-ul-Haq' 'Fazalhaq Farooqi' 'Tanzid Hasan' 'Liton Das'\n",
            " 'Mehedi Hasan Miraz' 'Nazmul Hossain Shanto' 'Shakib Al Hasan'\n",
            " 'Mushfiqur Rahim' 'Q de Kock' 'T Bavuma' 'HE van der Dussen' 'AK Markram'\n",
            " 'H Klaasen' 'DA Miller' 'M Jansen' 'P Nissanka' 'MDKJ Perera'\n",
            " 'BKG Mendis' 'S Samarawickrama' 'KIC Asalanka' 'DM de Silva' 'MD Shanaka'\n",
            " 'DN Wellalage' 'CAK Rajitha' 'M Pathirana' 'D Madushanka' 'DA Warner'\n",
            " 'MR Marsh' 'SPD Smith' 'M Labuschagne' 'GJ Maxwell' 'AT Carey' 'C Green'\n",
            " 'PJ Cummins' 'MA Starc' 'A Zampa' 'JR Hazlewood' 'RG Sharma'\n",
            " 'Ishan Kishan' 'V Kohli' 'SS Iyer' 'KL Rahul' 'HH Pandya' 'DJ Mitchell'\n",
            " 'TWM Latham' 'GD Phillips' 'MS Chapman' 'MJ Santner' 'MJ Henry'\n",
            " 'SA Engelbrecht' 'R Klein' 'RJW Topley' 'Towhid Hridoy' 'Mahedi Hasan'\n",
            " 'Taskin Ahmed' 'Shoriful Islam' 'Mustafizur Rahman' 'M Theekshana'\n",
            " 'Abdullah Shafique' 'Mahmudullah' 'KS Williamson' 'Shubman Gill'\n",
            " 'Ikram Alikhil' 'C Karunaratne' 'CBRLS Kumara' 'JP Inglis' 'MP Stoinis'\n",
            " 'G Coetzee' 'KA Maharaj' 'K Rabada' 'L Ngidi' 'Nasum Ahmed' 'Usama Mir'\n",
            " 'MADI Hemantha' 'RR Hendricks' 'BA Stokes' 'DJ Willey' 'AAP Atkinson'\n",
            " 'LH Ferguson' 'TA Boult' 'SA Yadav' 'RA Jadeja' 'Mohammed Shami'\n",
            " 'Hasan Mahmud' 'Mohammad Wasim' 'T Shamsi' 'TM Head' 'JDS Neesham'\n",
            " 'W Barresi' 'Shariz Ahmad' 'JJ Bumrah' 'Kuldeep Yadav' 'FDM Karunaratne'\n",
            " 'AD Mathews' 'PVD Chameera' 'TG Southee']\n",
            "\n",
            "Unique values in non_striker:\n",
            "['DJ Malan' 'JM Bairstow' 'JE Root' 'HC Brook' 'MM Ali' 'JC Buttler'\n",
            " 'LS Livingstone' 'SM Curran' 'CR Woakes' 'AU Rashid' 'MA Wood' 'WA Young'\n",
            " 'DP Conway' 'R Ravindra' 'Imam-ul-Haq' 'Fakhar Zaman' 'Babar Azam'\n",
            " 'Mohammad Rizwan' 'Saud Shakeel' 'Iftikhar Ahmed' 'Mohammad Nawaz'\n",
            " 'Shadab Khan' 'Shaheen Shah Afridi' 'Haris Rauf' \"MP O'Dowd\"\n",
            " 'Vikramjit Singh' 'CN Ackermann' 'BFW de Leede' 'AT Nidamanuru'\n",
            " 'Saqib Zulfiqar' 'RE van der Merwe' 'LV van Beek' 'A Dutt'\n",
            " 'PA van Meekeren' 'Ibrahim Zadran' 'Rahmanullah Gurbaz' 'Rahmat Shah'\n",
            " 'Hashmatullah Shahidi' 'Najibullah Zadran' 'Mohammad Nabi'\n",
            " 'Azmatullah Omarzai' 'Rashid Khan' 'Mujeeb Ur Rahman' 'Naveen-ul-Haq'\n",
            " 'Fazalhaq Farooqi' 'Liton Das' 'Tanzid Hasan' 'Mehedi Hasan Miraz'\n",
            " 'Nazmul Hossain Shanto' 'Shakib Al Hasan' 'Mushfiqur Rahim' 'T Bavuma'\n",
            " 'Q de Kock' 'HE van der Dussen' 'AK Markram' 'H Klaasen' 'DA Miller'\n",
            " 'M Jansen' 'MDKJ Perera' 'P Nissanka' 'BKG Mendis' 'S Samarawickrama'\n",
            " 'KIC Asalanka' 'DM de Silva' 'MD Shanaka' 'DN Wellalage' 'CAK Rajitha'\n",
            " 'M Pathirana' 'D Madushanka' 'MR Marsh' 'DA Warner' 'SPD Smith'\n",
            " 'M Labuschagne' 'GJ Maxwell' 'C Green' 'PJ Cummins' 'MA Starc' 'A Zampa'\n",
            " 'JR Hazlewood' 'Ishan Kishan' 'RG Sharma' 'V Kohli' 'KL Rahul'\n",
            " 'HH Pandya' 'DJ Mitchell' 'TWM Latham' 'GD Phillips' 'MS Chapman'\n",
            " 'MJ Santner' 'MJ Henry' 'SA Edwards' 'SA Engelbrecht' 'R Klein'\n",
            " 'RJW Topley' 'Towhid Hridoy' 'Mahedi Hasan' 'Taskin Ahmed'\n",
            " 'Shoriful Islam' 'Mustafizur Rahman' 'M Theekshana' 'Abdullah Shafique'\n",
            " 'SS Iyer' 'Mahmudullah' 'KS Williamson' 'Hasan Ali' 'Shubman Gill'\n",
            " 'Ikram Alikhil' 'C Karunaratne' 'CBRLS Kumara' 'JP Inglis' 'MP Stoinis'\n",
            " 'G Coetzee' 'KA Maharaj' 'K Rabada' 'L Ngidi' 'Nasum Ahmed' 'Usama Mir'\n",
            " 'MADI Hemantha' 'RR Hendricks' 'BA Stokes' 'DJ Willey' 'AAP Atkinson'\n",
            " 'LH Ferguson' 'SA Yadav' 'RA Jadeja' 'Mohammed Shami' 'Hasan Mahmud'\n",
            " 'Mohammad Wasim' 'T Shamsi' 'TM Head' 'JDS Neesham' 'TA Boult'\n",
            " 'W Barresi' 'Shariz Ahmad' 'JJ Bumrah' 'Kuldeep Yadav' 'FDM Karunaratne'\n",
            " 'AD Mathews' 'PVD Chameera' 'TG Southee']\n",
            "\n",
            "Unique values in bowler:\n",
            "['TA Boult' 'MJ Henry' 'MJ Santner' 'JDS Neesham' 'R Ravindra'\n",
            " 'GD Phillips' 'CR Woakes' 'SM Curran' 'MA Wood' 'MM Ali' 'AU Rashid'\n",
            " 'LS Livingstone' 'A Dutt' 'LV van Beek' 'CN Ackermann' 'PA van Meekeren'\n",
            " 'BFW de Leede' 'RE van der Merwe' 'Vikramjit Singh' 'Saqib Zulfiqar'\n",
            " 'Shaheen Shah Afridi' 'Hasan Ali' 'Haris Rauf' 'Iftikhar Ahmed'\n",
            " 'Mohammad Nawaz' 'Shadab Khan' 'Taskin Ahmed' 'Shoriful Islam'\n",
            " 'Mustafizur Rahman' 'Shakib Al Hasan' 'Mehedi Hasan Miraz' 'Mahmudullah'\n",
            " 'Fazalhaq Farooqi' 'Mujeeb Ur Rahman' 'Naveen-ul-Haq' 'Rashid Khan'\n",
            " 'Mohammad Nabi' 'Azmatullah Omarzai' 'CAK Rajitha' 'D Madushanka'\n",
            " 'MD Shanaka' 'DM de Silva' 'M Pathirana' 'DN Wellalage' 'L Ngidi'\n",
            " 'M Jansen' 'K Rabada' 'KA Maharaj' 'G Coetzee' 'JJ Bumrah'\n",
            " 'Mohammed Siraj' 'HH Pandya' 'R Ashwin' 'Kuldeep Yadav' 'RA Jadeja'\n",
            " 'MA Starc' 'JR Hazlewood' 'PJ Cummins' 'GJ Maxwell' 'C Green' 'A Zampa'\n",
            " 'R Klein' 'LH Ferguson' 'Mahedi Hasan' 'RJW Topley' 'M Theekshana'\n",
            " 'KIC Asalanka' 'SN Thakur' 'DJ Mitchell' 'JE Root' 'MP Stoinis'\n",
            " 'CBRLS Kumara' 'C Karunaratne' 'V Kohli' 'Nasum Ahmed' 'Hasan Mahmud'\n",
            " 'Usama Mir' 'MADI Hemantha' 'DJ Willey' 'AAP Atkinson' 'Mohammed Shami'\n",
            " 'Noor Ahmad' 'MR Marsh' 'T Shamsi' 'LB Williams' 'AD Mathews'\n",
            " 'AK Markram' 'Mohammad Wasim' 'Shariz Ahmad' 'PVD Chameera'\n",
            " 'Nazmul Hossain Shanto' 'TG Southee']\n",
            "\n",
            "Unique values in runs_off_bat:\n",
            "[0 6 1 4 2 3 5]\n",
            "\n",
            "Unique values in extras:\n",
            "[0 1 3 4 5 2]\n",
            "\n",
            "Unique values in wides:\n",
            "[0. 1. 3. 5. 2.]\n",
            "\n",
            "Unique values in noballs:\n",
            "[0. 1.]\n",
            "\n",
            "Unique values in byes:\n",
            "[0. 4. 1. 2. 3.]\n",
            "\n",
            "Unique values in legbyes:\n",
            "[0. 1. 4. 2.]\n",
            "\n",
            "Unique values in penalty:\n",
            "[0. 5.]\n",
            "\n",
            "Unique values in wicket_type:\n",
            "['no wicket' 'caught' 'bowled' 'caught and bowled' 'lbw' 'run out'\n",
            " 'stumped' 'retired hurt']\n",
            "\n",
            "Unique values in player_dismissed:\n",
            "['no wicket' 'DJ Malan' 'JM Bairstow' 'HC Brook' 'MM Ali' 'JC Buttler'\n",
            " 'LS Livingstone' 'JE Root' 'CR Woakes' 'SM Curran' 'WA Young'\n",
            " 'Fakhar Zaman' 'Babar Azam' 'Imam-ul-Haq' 'Saud Shakeel'\n",
            " 'Mohammad Rizwan' 'Iftikhar Ahmed' 'Shadab Khan' 'Hasan Ali'\n",
            " 'Mohammad Nawaz' 'Haris Rauf' \"MP O'Dowd\" 'CN Ackermann'\n",
            " 'Vikramjit Singh' 'AT Nidamanuru' 'SA Edwards' 'Saqib Zulfiqar'\n",
            " 'BFW de Leede' 'RE van der Merwe' 'A Dutt' 'PA van Meekeren'\n",
            " 'Ibrahim Zadran' 'Rahmat Shah' 'Hashmatullah Shahidi'\n",
            " 'Rahmanullah Gurbaz' 'Najibullah Zadran' 'Mohammad Nabi' 'Rashid Khan'\n",
            " 'Azmatullah Omarzai' 'Mujeeb Ur Rahman' 'Naveen-ul-Haq' 'Tanzid Hasan'\n",
            " 'Liton Das' 'Mehedi Hasan Miraz' 'Shakib Al Hasan' 'T Bavuma' 'Q de Kock'\n",
            " 'HE van der Dussen' 'H Klaasen' 'AK Markram' 'P Nissanka' 'MDKJ Perera'\n",
            " 'BKG Mendis' 'S Samarawickrama' 'DM de Silva' 'KIC Asalanka'\n",
            " 'DN Wellalage' 'MD Shanaka' 'CAK Rajitha' 'M Pathirana' 'MR Marsh'\n",
            " 'DA Warner' 'SPD Smith' 'M Labuschagne' 'AT Carey' 'GJ Maxwell' 'C Green'\n",
            " 'PJ Cummins' 'A Zampa' 'MA Starc' 'Ishan Kishan' 'RG Sharma' 'SS Iyer'\n",
            " 'V Kohli' 'DP Conway' 'R Ravindra' 'DJ Mitchell' 'GD Phillips'\n",
            " 'MS Chapman' 'TWM Latham' 'R Klein' 'SA Engelbrecht' 'AU Rashid'\n",
            " 'Nazmul Hossain Shanto' 'Mushfiqur Rahim' 'Towhid Hridoy' 'Mahedi Hasan'\n",
            " 'Shoriful Islam' 'Taskin Ahmed' 'M Theekshana' 'Abdullah Shafique'\n",
            " 'Mustafizur Rahman' 'KS Williamson' 'Shubman Gill' 'Ikram Alikhil'\n",
            " 'MA Wood' 'C Karunaratne' 'CBRLS Kumara' 'JP Inglis' 'LV van Beek'\n",
            " 'M Jansen' 'DA Miller' 'G Coetzee' 'K Rabada' 'KA Maharaj'\n",
            " 'Fazalhaq Farooqi' 'Nasum Ahmed' 'Mahmudullah' 'MP Stoinis'\n",
            " 'JR Hazlewood' 'Usama Mir' 'Shaheen Shah Afridi' 'RR Hendricks'\n",
            " 'BA Stokes' 'DJ Willey' 'AAP Atkinson' 'MJ Santner' 'MJ Henry'\n",
            " 'LH Ferguson' 'KL Rahul' 'SA Yadav' 'Hasan Mahmud' 'Mohammad Wasim'\n",
            " 'L Ngidi' 'TM Head' 'JDS Neesham' 'W Barresi' 'Shariz Ahmad' 'RA Jadeja'\n",
            " 'Mohammed Shami' 'JJ Bumrah' 'FDM Karunaratne' 'PVD Chameera'\n",
            " 'AD Mathews' 'TG Southee' 'TA Boult']\n",
            "\n",
            "Unique values in wicket:\n",
            "[0 1]\n",
            "\n"
          ]
        }
      ]
    },
    {
      "cell_type": "markdown",
      "source": [
        "# **Univariate Analysis and Preprocessing on Deliveries Data**"
      ],
      "metadata": {
        "id": "pEjWSYIjEUxD"
      }
    },
    {
      "cell_type": "code",
      "source": [
        "def plot_categorical_with_percentage(data, col):\n",
        "    plt.figure(figsize=(15, 6))\n",
        "\n",
        "    # Check the number of unique categories in the column\n",
        "    unique_categories = data[col].nunique()\n",
        "\n",
        "    if unique_categories > 10:\n",
        "        # If there are more than 10 categories, select the first 10\n",
        "        top_categories = data[col].value_counts().index[:8]\n",
        "        filtered_data = data[data[col].isin(top_categories)]\n",
        "    else:\n",
        "        # If there are 8 or fewer categories, use all of them\n",
        "        filtered_data = data\n",
        "\n",
        "    ax = sns.barplot(x=filtered_data[col].value_counts().index, y=filtered_data[col].value_counts(normalize=True) * 100, palette='pastel')\n",
        "    ax.set_ylabel('Percentage')\n",
        "    ax.set_xlabel(col)\n",
        "    ax.set_xticklabels(ax.get_xticklabels(), rotation=60, ha='right')\n",
        "\n",
        "    for p in ax.patches:\n",
        "        height = p.get_height()\n",
        "        ax.annotate(f'{height:.1f}%', (p.get_x() + p.get_width() / 2., height),\n",
        "                    ha='center', va='bottom', fontsize=10)\n",
        "\n",
        "    plt.show()\n"
      ],
      "metadata": {
        "id": "GvQF5EFflL8r"
      },
      "execution_count": null,
      "outputs": []
    },
    {
      "cell_type": "markdown",
      "source": [
        "### **Observation on start_date**"
      ],
      "metadata": {
        "id": "wvHYYh2QEeZx"
      }
    },
    {
      "cell_type": "code",
      "source": [
        "data['start_date'].value_counts()"
      ],
      "metadata": {
        "colab": {
          "base_uri": "https://localhost:8080/"
        },
        "id": "hbYxBo4u9Ci8",
        "outputId": "8b2749af-9b9f-4dc0-f3be-3e024a86ab27"
      },
      "execution_count": null,
      "outputs": [
        {
          "output_type": "execute_result",
          "data": {
            "text/plain": [
              "2023-10-10    1210\n",
              "2023-10-28    1184\n",
              "2023-10-21    1064\n",
              "2023-10-07    1035\n",
              "2023-10-23     614\n",
              "2023-10-24     601\n",
              "2023-10-22     599\n",
              "2023-10-20     597\n",
              "2023-10-27     589\n",
              "2023-10-09     585\n",
              "2023-10-30     582\n",
              "2023-10-13     575\n",
              "2023-10-12     561\n",
              "2023-10-19     558\n",
              "2023-10-06     557\n",
              "2023-10-08     557\n",
              "2023-10-15     556\n",
              "2023-10-17     539\n",
              "2023-10-05     525\n",
              "2023-10-11     525\n",
              "2023-11-01     524\n",
              "2023-10-18     519\n",
              "2023-10-29     518\n",
              "2023-10-16     485\n",
              "2023-10-31     473\n",
              "2023-10-25     445\n",
              "2023-10-14     442\n",
              "2023-10-26     361\n",
              "Name: start_date, dtype: int64"
            ]
          },
          "metadata": {},
          "execution_count": 725
        }
      ]
    },
    {
      "cell_type": "code",
      "source": [
        "plot_categorical_with_percentage(data, 'start_date')"
      ],
      "metadata": {
        "colab": {
          "base_uri": "https://localhost:8080/",
          "height": 604
        },
        "id": "aPLhbKO2nPs8",
        "outputId": "dd12237b-b4ec-4b84-bf61-1d96af606d17"
      },
      "execution_count": null,
      "outputs": [
        {
          "output_type": "display_data",
          "data": {
            "text/plain": [
              "<Figure size 1500x600 with 1 Axes>"
            ],
            "image/png": "[encoded data removed]"
          },
          "metadata": {}
        }
      ]
    },
    {
      "cell_type": "code",
      "source": [
        "data['start_date'] = pd.to_datetime(data['start_date']).dt.date"
      ],
      "metadata": {
        "id": "VfTxoyULGe2x"
      },
      "execution_count": null,
      "outputs": []
    },
    {
      "cell_type": "markdown",
      "source": [
        "### **Observation on venue**"
      ],
      "metadata": {
        "id": "JqwUccOzEqbx"
      }
    },
    {
      "cell_type": "code",
      "source": [
        "data['venue'].value_counts()"
      ],
      "metadata": {
        "colab": {
          "base_uri": "https://localhost:8080/"
        },
        "id": "bmEDf9rXlptG",
        "outputId": "8e139969-9433-4c2a-f45a-915f104d0e00"
      },
      "execution_count": null,
      "outputs": [
        {
          "output_type": "execute_result",
          "data": {
            "text/plain": [
              "MA Chidambaram Stadium, Chepauk, Chennai                                 2854\n",
              "Himachal Pradesh Cricket Association Stadium, Dharamsala                 2794\n",
              "Bharat Ratna Shri Atal Bihari Vajpayee Ekana Cricket Stadium, Lucknow    2180\n",
              "Arun Jaitley Stadium, Delhi                                              2120\n",
              "Rajiv Gandhi International Stadium, Uppal, Hyderabad                     1755\n",
              "Maharashtra Cricket Association Stadium, Pune                            1664\n",
              "Wankhede Stadium, Mumbai                                                 1049\n",
              "Eden Gardens, Kolkata                                                    1039\n",
              "Narendra Modi Stadium, Ahmedabad                                          967\n",
              "M Chinnaswamy Stadium, Bengaluru                                          958\n",
              "Name: venue, dtype: int64"
            ]
          },
          "metadata": {},
          "execution_count": 728
        }
      ]
    },
    {
      "cell_type": "code",
      "source": [
        "plot_categorical_with_percentage(data, 'venue')"
      ],
      "metadata": {
        "id": "o_TD0kCWnc9z",
        "colab": {
          "base_uri": "https://localhost:8080/",
          "height": 968
        },
        "outputId": "d7b3795c-5097-4680-eab2-5a23d837e6d6"
      },
      "execution_count": null,
      "outputs": [
        {
          "output_type": "display_data",
          "data": {
            "text/plain": [
              "<Figure size 1500x600 with 1 Axes>"
            ],
            "image/png": "[encoded data removed]"
          },
          "metadata": {}
        }
      ]
    },
    {
      "cell_type": "code",
      "source": [
        "label_encoder = LabelEncoder()"
      ],
      "metadata": {
        "id": "rQidZqioHzBw"
      },
      "execution_count": null,
      "outputs": []
    },
    {
      "cell_type": "code",
      "source": [
        "data['venue'] = label_encoder.fit_transform(data['venue'])"
      ],
      "metadata": {
        "id": "Jy1Fbfk4HMVS"
      },
      "execution_count": null,
      "outputs": []
    },
    {
      "cell_type": "markdown",
      "source": [
        "### **Observation on innings**"
      ],
      "metadata": {
        "id": "35I7517OEw7p"
      }
    },
    {
      "cell_type": "code",
      "source": [
        "data['innings'].value_counts()"
      ],
      "metadata": {
        "colab": {
          "base_uri": "https://localhost:8080/"
        },
        "id": "pzit_G6Elsrj",
        "outputId": "a05b83cc-d6fa-49f1-d9da-c4c9168bcaa2"
      },
      "execution_count": null,
      "outputs": [
        {
          "output_type": "execute_result",
          "data": {
            "text/plain": [
              "1    9493\n",
              "2    7887\n",
              "Name: innings, dtype: int64"
            ]
          },
          "metadata": {},
          "execution_count": 732
        }
      ]
    },
    {
      "cell_type": "code",
      "source": [
        "plot_categorical_with_percentage(data, 'innings')"
      ],
      "metadata": {
        "colab": {
          "base_uri": "https://localhost:8080/",
          "height": 542
        },
        "id": "XUr-ymBhAe-N",
        "outputId": "59e38585-2fc1-4b8a-bcba-9ae307a340b9"
      },
      "execution_count": null,
      "outputs": [
        {
          "output_type": "display_data",
          "data": {
            "text/plain": [
              "<Figure size 1500x600 with 1 Axes>"
            ],
            "image/png": "[encoded data removed]"
          },
          "metadata": {}
        }
      ]
    },
    {
      "cell_type": "markdown",
      "source": [
        "### **Observation on batting_team**"
      ],
      "metadata": {
        "id": "EeIhHYchE0_Y"
      }
    },
    {
      "cell_type": "code",
      "source": [
        "data['batting_team'].value_counts()"
      ],
      "metadata": {
        "colab": {
          "base_uri": "https://localhost:8080/"
        },
        "id": "w5LiRMrlmD1M",
        "outputId": "809ef51c-7b1e-4363-d06d-9ab85876bd17"
      },
      "execution_count": null,
      "outputs": [
        {
          "output_type": "execute_result",
          "data": {
            "text/plain": [
              "South Africa    2103\n",
              "Pakistan        1950\n",
              "Bangladesh      1949\n",
              "New Zealand     1935\n",
              "Australia       1701\n",
              "Afghanistan     1641\n",
              "Sri Lanka       1616\n",
              "Netherlands     1570\n",
              "India           1502\n",
              "England         1413\n",
              "Name: batting_team, dtype: int64"
            ]
          },
          "metadata": {},
          "execution_count": 734
        }
      ]
    },
    {
      "cell_type": "code",
      "source": [
        "plot_categorical_with_percentage(data, 'batting_team')"
      ],
      "metadata": {
        "colab": {
          "base_uri": "https://localhost:8080/",
          "height": 614
        },
        "id": "pHqhdPuKAlVb",
        "outputId": "9aa458f7-f45a-4e6e-df3c-7d1118725a76"
      },
      "execution_count": null,
      "outputs": [
        {
          "output_type": "display_data",
          "data": {
            "text/plain": [
              "<Figure size 1500x600 with 1 Axes>"
            ],
            "image/png": "[encoded data removed]"
          },
          "metadata": {}
        }
      ]
    },
    {
      "cell_type": "code",
      "source": [
        "country_mappings = {\n",
        "    'South Africa': 1,\n",
        "    'Pakistan': 2,\n",
        "    'Bangladesh': 3,\n",
        "    'New Zealand': 4,\n",
        "    'Australia': 5,\n",
        "    'Afghanistan': 6,\n",
        "    'Sri Lanka': 7,\n",
        "    'Netherlands': 8,\n",
        "    'India': 9,\n",
        "    'England': 10\n",
        "}"
      ],
      "metadata": {
        "id": "oKr5bIxSouKE"
      },
      "execution_count": null,
      "outputs": []
    },
    {
      "cell_type": "code",
      "source": [
        "data['batting_team'] = data['batting_team'].map(country_mappings)"
      ],
      "metadata": {
        "id": "hqm8jdhOI2pw"
      },
      "execution_count": null,
      "outputs": []
    },
    {
      "cell_type": "markdown",
      "source": [
        "### **Observation on bowling_team**"
      ],
      "metadata": {
        "id": "yfImd8f7E5Qc"
      }
    },
    {
      "cell_type": "code",
      "source": [
        "data['bowling_team'].value_counts()"
      ],
      "metadata": {
        "colab": {
          "base_uri": "https://localhost:8080/"
        },
        "id": "FYoy6T_XmHJ5",
        "outputId": "480d3a29-d386-4fb9-d596-bd8840d67cc0"
      },
      "execution_count": null,
      "outputs": [
        {
          "output_type": "execute_result",
          "data": {
            "text/plain": [
              "New Zealand     2010\n",
              "Pakistan        1935\n",
              "Bangladesh      1862\n",
              "South Africa    1753\n",
              "Netherlands     1738\n",
              "India           1697\n",
              "Sri Lanka       1635\n",
              "Afghanistan     1596\n",
              "England         1592\n",
              "Australia       1562\n",
              "Name: bowling_team, dtype: int64"
            ]
          },
          "metadata": {},
          "execution_count": 738
        }
      ]
    },
    {
      "cell_type": "code",
      "source": [
        "plot_categorical_with_percentage(data, 'bowling_team')"
      ],
      "metadata": {
        "colab": {
          "base_uri": "https://localhost:8080/",
          "height": 614
        },
        "id": "0ReQHiIsA4mA",
        "outputId": "26218888-84b5-4409-ae49-b08774860ce3"
      },
      "execution_count": null,
      "outputs": [
        {
          "output_type": "display_data",
          "data": {
            "text/plain": [
              "<Figure size 1500x600 with 1 Axes>"
            ],
            "image/png": "[encoded data removed]"
          },
          "metadata": {}
        }
      ]
    },
    {
      "cell_type": "code",
      "source": [
        "data['bowling_team'] = data['bowling_team'].map(country_mappings)"
      ],
      "metadata": {
        "id": "z4FNwVotKByF"
      },
      "execution_count": null,
      "outputs": []
    },
    {
      "cell_type": "markdown",
      "source": [
        "### **Observation on striker**"
      ],
      "metadata": {
        "id": "dmk-DnQbE-E4"
      }
    },
    {
      "cell_type": "code",
      "source": [
        "data['striker'].value_counts()"
      ],
      "metadata": {
        "colab": {
          "base_uri": "https://localhost:8080/"
        },
        "id": "tZmpiJHQmUwu",
        "outputId": "99479d7d-04a9-4a0d-e7ef-75ae08a0587e"
      },
      "execution_count": null,
      "outputs": [
        {
          "output_type": "execute_result",
          "data": {
            "text/plain": [
              "Q de Kock            497\n",
              "V Kohli              409\n",
              "R Ravindra           401\n",
              "HE van der Dussen    378\n",
              "DA Warner            377\n",
              "                    ... \n",
              "JR Hazlewood           4\n",
              "PVD Chameera           4\n",
              "Usama Mir              3\n",
              "MADI Hemantha          3\n",
              "AT Carey               2\n",
              "Name: striker, Length: 141, dtype: int64"
            ]
          },
          "metadata": {},
          "execution_count": 741
        }
      ]
    },
    {
      "cell_type": "code",
      "source": [
        "plot_categorical_with_percentage(data, 'striker')"
      ],
      "metadata": {
        "colab": {
          "base_uri": "https://localhost:8080/",
          "height": 653
        },
        "id": "8a20V2wjBDsW",
        "outputId": "8883f966-b6ea-4c3c-9aa2-54e986c9bbb0"
      },
      "execution_count": null,
      "outputs": [
        {
          "output_type": "display_data",
          "data": {
            "text/plain": [
              "<Figure size 1500x600 with 1 Axes>"
            ],
            "image/png": "[encoded data removed]"
          },
          "metadata": {}
        }
      ]
    },
    {
      "cell_type": "code",
      "source": [
        "data['striker'] = label_encoder.fit_transform(data['striker'])"
      ],
      "metadata": {
        "id": "PKXCDmCgKMEt"
      },
      "execution_count": null,
      "outputs": []
    },
    {
      "cell_type": "markdown",
      "source": [
        "### **Observation on non_striker**"
      ],
      "metadata": {
        "id": "fwcKADAqFBsb"
      }
    },
    {
      "cell_type": "code",
      "source": [
        "data['non_striker'].value_counts()"
      ],
      "metadata": {
        "colab": {
          "base_uri": "https://localhost:8080/"
        },
        "id": "2TRGC-VLmZo_",
        "outputId": "9c391704-f5b9-405f-f6d7-cae0a7600474"
      },
      "execution_count": null,
      "outputs": [
        {
          "output_type": "execute_result",
          "data": {
            "text/plain": [
              "Q de Kock          502\n",
              "R Ravindra         466\n",
              "DA Warner          411\n",
              "Mohammad Rizwan    379\n",
              "V Kohli            378\n",
              "                  ... \n",
              "TG Southee           4\n",
              "Usama Mir            3\n",
              "PVD Chameera         3\n",
              "Mohammed Shami       1\n",
              "CBRLS Kumara         1\n",
              "Name: non_striker, Length: 140, dtype: int64"
            ]
          },
          "metadata": {},
          "execution_count": 744
        }
      ]
    },
    {
      "cell_type": "code",
      "source": [
        "plot_categorical_with_percentage(data, 'non_striker')"
      ],
      "metadata": {
        "colab": {
          "base_uri": "https://localhost:8080/",
          "height": 667
        },
        "id": "I5qFPdJQBKxM",
        "outputId": "7ecc675e-87a9-4697-f8dc-3d820d8e05b1"
      },
      "execution_count": null,
      "outputs": [
        {
          "output_type": "display_data",
          "data": {
            "text/plain": [
              "<Figure size 1500x600 with 1 Axes>"
            ],
            "image/png": "[encoded data removed]"
          },
          "metadata": {}
        }
      ]
    },
    {
      "cell_type": "code",
      "source": [
        "data['non_striker'] = label_encoder.fit_transform(data['non_striker'])"
      ],
      "metadata": {
        "id": "Or9RsCYRKS8U"
      },
      "execution_count": null,
      "outputs": []
    },
    {
      "cell_type": "markdown",
      "source": [
        "### **Observation on bowler**"
      ],
      "metadata": {
        "id": "nrqqb8fgFHIT"
      }
    },
    {
      "cell_type": "code",
      "source": [
        "data['bowler'].value_counts()"
      ],
      "metadata": {
        "colab": {
          "base_uri": "https://localhost:8080/"
        },
        "id": "Hkw0SSc-meAS",
        "outputId": "6fb7ea13-810b-4aef-d2f8-f4a5dc7fdd13"
      },
      "execution_count": null,
      "outputs": [
        {
          "output_type": "execute_result",
          "data": {
            "text/plain": [
              "MJ Santner               411\n",
              "TA Boult                 402\n",
              "Shaheen Shah Afridi      383\n",
              "Haris Rauf               367\n",
              "M Jansen                 359\n",
              "                        ... \n",
              "C Green                   12\n",
              "KIC Asalanka               6\n",
              "DJ Mitchell                6\n",
              "Nazmul Hossain Shanto      6\n",
              "V Kohli                    3\n",
              "Name: bowler, Length: 92, dtype: int64"
            ]
          },
          "metadata": {},
          "execution_count": 747
        }
      ]
    },
    {
      "cell_type": "code",
      "source": [
        "plot_categorical_with_percentage(data, 'bowler')"
      ],
      "metadata": {
        "colab": {
          "base_uri": "https://localhost:8080/",
          "height": 657
        },
        "id": "qkQrKd8dBP1l",
        "outputId": "52fcf7c4-8240-44f5-a781-8cf77f9f439c"
      },
      "execution_count": null,
      "outputs": [
        {
          "output_type": "display_data",
          "data": {
            "text/plain": [
              "<Figure size 1500x600 with 1 Axes>"
            ],
            "image/png": "[encoded data removed]"
          },
          "metadata": {}
        }
      ]
    },
    {
      "cell_type": "code",
      "source": [
        "data['bowler'] = label_encoder.fit_transform(data['bowler'])"
      ],
      "metadata": {
        "id": "e-VhqshGKjRv"
      },
      "execution_count": null,
      "outputs": []
    },
    {
      "cell_type": "markdown",
      "source": [
        "### **Observation on runs_off_bat**"
      ],
      "metadata": {
        "id": "FztVtzuGFQnV"
      }
    },
    {
      "cell_type": "code",
      "source": [
        "data['runs_off_bat'].value_counts()"
      ],
      "metadata": {
        "colab": {
          "base_uri": "https://localhost:8080/"
        },
        "id": "b6soq9YRmm1r",
        "outputId": "b590c76c-ea9e-4dcc-caf6-46ac3ae7dbdb"
      },
      "execution_count": null,
      "outputs": [
        {
          "output_type": "execute_result",
          "data": {
            "text/plain": [
              "0    9181\n",
              "1    5525\n",
              "4    1480\n",
              "2     726\n",
              "6     418\n",
              "3      48\n",
              "5       2\n",
              "Name: runs_off_bat, dtype: int64"
            ]
          },
          "metadata": {},
          "execution_count": 750
        }
      ]
    },
    {
      "cell_type": "code",
      "source": [
        "plot_categorical_with_percentage(data, 'runs_off_bat')"
      ],
      "metadata": {
        "colab": {
          "base_uri": "https://localhost:8080/",
          "height": 543
        },
        "id": "HVb11zvbCC7E",
        "outputId": "6b830edd-3a0b-4205-a8ce-72131caf5dbb"
      },
      "execution_count": null,
      "outputs": [
        {
          "output_type": "display_data",
          "data": {
            "text/plain": [
              "<Figure size 1500x600 with 1 Axes>"
            ],
            "image/png": "[encoded data removed]"
          },
          "metadata": {}
        }
      ]
    },
    {
      "cell_type": "markdown",
      "source": [
        "### **Observation on extras**"
      ],
      "metadata": {
        "id": "m6S8x7GDFVII"
      }
    },
    {
      "cell_type": "code",
      "source": [
        "data['extras'].value_counts()"
      ],
      "metadata": {
        "colab": {
          "base_uri": "https://localhost:8080/"
        },
        "id": "iH4H16Vam-2Z",
        "outputId": "4f41e844-6730-4cf0-8af1-afaf434be4cf"
      },
      "execution_count": null,
      "outputs": [
        {
          "output_type": "execute_result",
          "data": {
            "text/plain": [
              "0    16763\n",
              "1      557\n",
              "5       21\n",
              "2       19\n",
              "4       16\n",
              "3        4\n",
              "Name: extras, dtype: int64"
            ]
          },
          "metadata": {},
          "execution_count": 752
        }
      ]
    },
    {
      "cell_type": "code",
      "source": [
        "plot_categorical_with_percentage(data, 'extras')"
      ],
      "metadata": {
        "id": "NjOXaTyunFWg",
        "colab": {
          "base_uri": "https://localhost:8080/",
          "height": 542
        },
        "outputId": "9bbfc030-2430-4435-c110-f923fa931644"
      },
      "execution_count": null,
      "outputs": [
        {
          "output_type": "display_data",
          "data": {
            "text/plain": [
              "<Figure size 1500x600 with 1 Axes>"
            ],
            "image/png": "[encoded data removed]"
          },
          "metadata": {}
        }
      ]
    },
    {
      "cell_type": "markdown",
      "source": [
        "### **Observation on ball**"
      ],
      "metadata": {
        "id": "d2e2xeRcFY57"
      }
    },
    {
      "cell_type": "code",
      "source": [
        "data[\"ball\"] = data[\"ball\"].astype(str)\n",
        "data[[\"over\", \"ball_num\"]] = data[\"ball\"].str.split(\".\", expand=True).astype(int)\n",
        "data[\"ball\"] = data[\"ball\"].astype(float)"
      ],
      "metadata": {
        "id": "EPVyF5N5D6we"
      },
      "execution_count": null,
      "outputs": []
    },
    {
      "cell_type": "markdown",
      "source": [
        "### **Observation on over**"
      ],
      "metadata": {
        "id": "2TgX87IpFcy_"
      }
    },
    {
      "cell_type": "code",
      "source": [
        "data[\"over\"].head()"
      ],
      "metadata": {
        "colab": {
          "base_uri": "https://localhost:8080/"
        },
        "id": "trsMzWxRFe75",
        "outputId": "5c5a371f-5b2a-44b4-c40e-abf751f04293"
      },
      "execution_count": null,
      "outputs": [
        {
          "output_type": "execute_result",
          "data": {
            "text/plain": [
              "0    0\n",
              "1    0\n",
              "2    0\n",
              "3    0\n",
              "4    0\n",
              "Name: over, dtype: int64"
            ]
          },
          "metadata": {},
          "execution_count": 755
        }
      ]
    },
    {
      "cell_type": "code",
      "source": [
        "data[\"over\"] = data[\"over\"] + 1"
      ],
      "metadata": {
        "id": "550boalGEOuE"
      },
      "execution_count": null,
      "outputs": []
    },
    {
      "cell_type": "code",
      "source": [
        "data[\"ball_left\"] = 306 - (data[\"over\"]*6 + data[\"ball_num\"])"
      ],
      "metadata": {
        "id": "MrioCqb0JXcY"
      },
      "execution_count": null,
      "outputs": []
    },
    {
      "cell_type": "code",
      "source": [
        "data[\"total_runs\"] = data[\"runs_off_bat\"] + data[\"extras\"]"
      ],
      "metadata": {
        "id": "CZfjG_etJa18"
      },
      "execution_count": null,
      "outputs": []
    },
    {
      "cell_type": "code",
      "source": [
        "data[\"cumulative_runs\"] = data.groupby([\"match_id\", \"innings\"])[\"total_runs\"].cumsum()"
      ],
      "metadata": {
        "id": "NHG2Bcc7JuSD"
      },
      "execution_count": null,
      "outputs": []
    },
    {
      "cell_type": "code",
      "source": [
        "data[\"run_rate\"] = data.groupby([\"match_id\",\"innings\"]).apply(lambda x: (x[\"cumulative_runs\"]*6)/(300-x[\"ball_left\"])).reset_index(level=[0,1], drop=True)"
      ],
      "metadata": {
        "id": "bz1WGAOKJioc"
      },
      "execution_count": null,
      "outputs": []
    },
    {
      "cell_type": "code",
      "source": [
        "data.info()"
      ],
      "metadata": {
        "colab": {
          "base_uri": "https://localhost:8080/"
        },
        "id": "XgfqHlf7Kr_m",
        "outputId": "843728e3-52b0-4c39-8a4b-38dfe894a956"
      },
      "execution_count": null,
      "outputs": [
        {
          "output_type": "stream",
          "name": "stdout",
          "text": [
            "<class 'pandas.core.frame.DataFrame'>\n",
            "RangeIndex: 17380 entries, 0 to 17379\n",
            "Data columns (total 26 columns):\n",
            " #   Column            Non-Null Count  Dtype  \n",
            "---  ------            --------------  -----  \n",
            " 0   match_id          17380 non-null  int64  \n",
            " 1   start_date        17380 non-null  object \n",
            " 2   venue             17380 non-null  int64  \n",
            " 3   innings           17380 non-null  int64  \n",
            " 4   ball              17380 non-null  float64\n",
            " 5   batting_team      17380 non-null  int64  \n",
            " 6   bowling_team      17380 non-null  int64  \n",
            " 7   striker           17380 non-null  int64  \n",
            " 8   non_striker       17380 non-null  int64  \n",
            " 9   bowler            17380 non-null  int64  \n",
            " 10  runs_off_bat      17380 non-null  int64  \n",
            " 11  extras            17380 non-null  int64  \n",
            " 12  wides             17380 non-null  float64\n",
            " 13  noballs           17380 non-null  float64\n",
            " 14  byes              17380 non-null  float64\n",
            " 15  legbyes           17380 non-null  float64\n",
            " 16  penalty           17380 non-null  float64\n",
            " 17  wicket_type       17380 non-null  object \n",
            " 18  player_dismissed  17380 non-null  object \n",
            " 19  wicket            17380 non-null  int64  \n",
            " 20  over              17380 non-null  int64  \n",
            " 21  ball_num          17380 non-null  int64  \n",
            " 22  ball_left         17380 non-null  int64  \n",
            " 23  total_runs        17380 non-null  int64  \n",
            " 24  cumulative_runs   17380 non-null  int64  \n",
            " 25  run_rate          17380 non-null  float64\n",
            "dtypes: float64(7), int64(16), object(3)\n",
            "memory usage: 3.4+ MB\n"
          ]
        }
      ]
    },
    {
      "cell_type": "markdown",
      "source": [
        "**Convert the datatypes of whole dataframe.**"
      ],
      "metadata": {
        "id": "QDuGWDo4rEPy"
      }
    },
    {
      "cell_type": "code",
      "source": [
        "data = data.convert_dtypes()"
      ],
      "metadata": {
        "id": "5w0LEwnJddqd"
      },
      "execution_count": null,
      "outputs": []
    },
    {
      "cell_type": "code",
      "source": [
        "data.info()"
      ],
      "metadata": {
        "colab": {
          "base_uri": "https://localhost:8080/"
        },
        "id": "EN1hyF46KuSM",
        "outputId": "c2b621f6-32c8-48ae-e590-f7fe09f5d197"
      },
      "execution_count": null,
      "outputs": [
        {
          "output_type": "stream",
          "name": "stdout",
          "text": [
            "<class 'pandas.core.frame.DataFrame'>\n",
            "RangeIndex: 17380 entries, 0 to 17379\n",
            "Data columns (total 26 columns):\n",
            " #   Column            Non-Null Count  Dtype  \n",
            "---  ------            --------------  -----  \n",
            " 0   match_id          17380 non-null  Int64  \n",
            " 1   start_date        17380 non-null  object \n",
            " 2   venue             17380 non-null  Int64  \n",
            " 3   innings           17380 non-null  Int64  \n",
            " 4   ball              17380 non-null  Float64\n",
            " 5   batting_team      17380 non-null  Int64  \n",
            " 6   bowling_team      17380 non-null  Int64  \n",
            " 7   striker           17380 non-null  Int64  \n",
            " 8   non_striker       17380 non-null  Int64  \n",
            " 9   bowler            17380 non-null  Int64  \n",
            " 10  runs_off_bat      17380 non-null  Int64  \n",
            " 11  extras            17380 non-null  Int64  \n",
            " 12  wides             17380 non-null  Int64  \n",
            " 13  noballs           17380 non-null  Int64  \n",
            " 14  byes              17380 non-null  Int64  \n",
            " 15  legbyes           17380 non-null  Int64  \n",
            " 16  penalty           17380 non-null  Int64  \n",
            " 17  wicket_type       17380 non-null  string \n",
            " 18  player_dismissed  17380 non-null  string \n",
            " 19  wicket            17380 non-null  Int64  \n",
            " 20  over              17380 non-null  Int64  \n",
            " 21  ball_num          17380 non-null  Int64  \n",
            " 22  ball_left         17380 non-null  Int64  \n",
            " 23  total_runs        17380 non-null  Int64  \n",
            " 24  cumulative_runs   17380 non-null  Int64  \n",
            " 25  run_rate          17380 non-null  Float64\n",
            "dtypes: Float64(2), Int64(21), object(1), string(2)\n",
            "memory usage: 3.8+ MB\n"
          ]
        }
      ]
    },
    {
      "cell_type": "markdown",
      "source": [
        "# **Matches Data**"
      ],
      "metadata": {
        "id": "JRr-3g74QpW4"
      }
    },
    {
      "cell_type": "code",
      "source": [
        "matches = pd.read_csv('/content/drive/MyDrive/Data_Mining_Datasets/matches.csv')"
      ],
      "metadata": {
        "id": "gDScWc60LXSq"
      },
      "execution_count": null,
      "outputs": []
    },
    {
      "cell_type": "code",
      "source": [
        "matches.shape"
      ],
      "metadata": {
        "colab": {
          "base_uri": "https://localhost:8080/"
        },
        "id": "37csjoQlRdzP",
        "outputId": "81f2a2ee-f374-4c99-cfe2-43e1b96caa4d"
      },
      "execution_count": null,
      "outputs": [
        {
          "output_type": "execute_result",
          "data": {
            "text/plain": [
              "(32, 18)"
            ]
          },
          "metadata": {},
          "execution_count": 765
        }
      ]
    },
    {
      "cell_type": "code",
      "source": [
        "matches.info()"
      ],
      "metadata": {
        "colab": {
          "base_uri": "https://localhost:8080/"
        },
        "id": "NebCIiU6RYtp",
        "outputId": "d682c1de-5768-4e45-c443-2ffdb2d669dc"
      },
      "execution_count": null,
      "outputs": [
        {
          "output_type": "stream",
          "name": "stdout",
          "text": [
            "<class 'pandas.core.frame.DataFrame'>\n",
            "RangeIndex: 32 entries, 0 to 31\n",
            "Data columns (total 18 columns):\n",
            " #   Column           Non-Null Count  Dtype  \n",
            "---  ------           --------------  -----  \n",
            " 0   season           32 non-null     object \n",
            " 1   team1            32 non-null     object \n",
            " 2   team2            32 non-null     object \n",
            " 3   date             32 non-null     object \n",
            " 4   match_number     32 non-null     int64  \n",
            " 5   venue            32 non-null     object \n",
            " 6   city             32 non-null     object \n",
            " 7   toss_winner      32 non-null     object \n",
            " 8   toss_decision    32 non-null     object \n",
            " 9   player_of_match  32 non-null     object \n",
            " 10  umpire1          32 non-null     object \n",
            " 11  umpire2          32 non-null     object \n",
            " 12  reserve_umpire   31 non-null     object \n",
            " 13  match_referee    32 non-null     object \n",
            " 14  winner           32 non-null     object \n",
            " 15  winner_runs      16 non-null     float64\n",
            " 16  winner_wickets   16 non-null     float64\n",
            " 17  match_type       32 non-null     object \n",
            "dtypes: float64(2), int64(1), object(15)\n",
            "memory usage: 4.6+ KB\n"
          ]
        }
      ]
    },
    {
      "cell_type": "code",
      "source": [
        "matches"
      ],
      "metadata": {
        "colab": {
          "base_uri": "https://localhost:8080/",
          "height": 1000
        },
        "id": "TTCyzhhERcF-",
        "outputId": "78329565-f44f-4c1a-a3f1-d542bbe6e0e4"
      },
      "execution_count": null,
      "outputs": [
        {
          "output_type": "execute_result",
          "data": {
            "text/plain": [
              "     season         team1         team2        date  match_number  \\\n",
              "0   2023/24       England   New Zealand  2023/10/05             1   \n",
              "1   2023/24      Pakistan   Netherlands  2023/10/06             2   \n",
              "2   2023/24   Afghanistan    Bangladesh  2023/10/07             3   \n",
              "3   2023/24  South Africa     Sri Lanka  2023/10/07             4   \n",
              "4   2023/24     Australia         India  2023/10/08             5   \n",
              "5   2023/24   New Zealand   Netherlands  2023/10/09             6   \n",
              "6   2023/24       England    Bangladesh  2023/10/10             7   \n",
              "7   2023/24     Sri Lanka      Pakistan  2023/10/10             8   \n",
              "8   2023/24   Afghanistan         India  2023/10/11             9   \n",
              "9   2023/24  South Africa     Australia  2023/10/12            10   \n",
              "10  2023/24    Bangladesh   New Zealand  2023/10/13            11   \n",
              "11  2023/24      Pakistan         India  2023/10/14            12   \n",
              "12  2023/24   Afghanistan       England  2023/10/15            13   \n",
              "13  2023/24     Sri Lanka     Australia  2023/10/16            14   \n",
              "14  2023/24   Netherlands  South Africa  2023/10/17            15   \n",
              "15  2023/24   New Zealand   Afghanistan  2023/10/18            16   \n",
              "16  2023/24    Bangladesh         India  2023/10/19            17   \n",
              "17  2023/24     Australia      Pakistan  2023/10/20            18   \n",
              "18  2023/24   Netherlands     Sri Lanka  2023/10/21            19   \n",
              "19  2023/24  South Africa       England  2023/10/21            20   \n",
              "20  2023/24   New Zealand         India  2023/10/22            21   \n",
              "21  2023/24      Pakistan   Afghanistan  2023/10/23            22   \n",
              "22  2023/24  South Africa    Bangladesh  2023/10/24            23   \n",
              "23  2023/24     Australia   Netherlands  2023/10/25            24   \n",
              "24  2023/24       England     Sri Lanka  2023/10/26            25   \n",
              "25  2023/24      Pakistan  South Africa  2023/10/27            26   \n",
              "26  2023/24     Australia   New Zealand  2023/10/28            27   \n",
              "27  2023/24   Netherlands    Bangladesh  2023/10/28            28   \n",
              "28  2023/24         India       England  2023/10/29            29   \n",
              "29  2023/24     Sri Lanka   Afghanistan  2023/10/30            30   \n",
              "30  2023/24    Bangladesh      Pakistan  2023/10/31            31   \n",
              "31  2023/24  South Africa   New Zealand  2023/11/01            32   \n",
              "\n",
              "                                                venue        city  \\\n",
              "0                               Narendra Modi Stadium   Ahmedabad   \n",
              "1                  Rajiv Gandhi International Stadium   Hyderabad   \n",
              "2        Himachal Pradesh Cricket Association Stadium  Dharamsala   \n",
              "3                                Arun Jaitley Stadium       Delhi   \n",
              "4                              MA Chidambaram Stadium     Chennai   \n",
              "5                  Rajiv Gandhi International Stadium   Hyderabad   \n",
              "6        Himachal Pradesh Cricket Association Stadium  Dharamsala   \n",
              "7                  Rajiv Gandhi International Stadium   Hyderabad   \n",
              "8                                Arun Jaitley Stadium       Delhi   \n",
              "9   Bharat Ratna Shri Atal Bihari Vajpayee Ekana C...     Lucknow   \n",
              "10                             MA Chidambaram Stadium     Chennai   \n",
              "11                              Narendra Modi Stadium   Ahmedabad   \n",
              "12                               Arun Jaitley Stadium       Delhi   \n",
              "13  Bharat Ratna Shri Atal Bihari Vajpayee Ekana C...     Lucknow   \n",
              "14       Himachal Pradesh Cricket Association Stadium  Dharamsala   \n",
              "15                             MA Chidambaram Stadium     Chennai   \n",
              "16            Maharashtra Cricket Association Stadium        Pune   \n",
              "17                              M Chinnaswamy Stadium   Bengaluru   \n",
              "18  Bharat Ratna Shri Atal Bihari Vajpayee Ekana C...     Lucknow   \n",
              "19                                   Wankhede Stadium      Mumbai   \n",
              "20       Himachal Pradesh Cricket Association Stadium  Dharamsala   \n",
              "21                             MA Chidambaram Stadium     Chennai   \n",
              "22                                   Wankhede Stadium      Mumbai   \n",
              "23                               Arun Jaitley Stadium       Delhi   \n",
              "24                              M Chinnaswamy Stadium   Bengaluru   \n",
              "25                             MA Chidambaram Stadium     Chennai   \n",
              "26       Himachal Pradesh Cricket Association Stadium  Dharamsala   \n",
              "27                                       Eden Gardens     Kolkata   \n",
              "28  Bharat Ratna Shri Atal Bihari Vajpayee Ekana C...     Lucknow   \n",
              "29            Maharashtra Cricket Association Stadium        Pune   \n",
              "30                                       Eden Gardens     Kolkata   \n",
              "31            Maharashtra Cricket Association Stadium        Pune   \n",
              "\n",
              "     toss_winner toss_decision     player_of_match          umpire1  \\\n",
              "0    New Zealand         field          R Ravindra  HDPK Dharmasena   \n",
              "1    Netherlands         field        Saud Shakeel     AT Holdstock   \n",
              "2     Bangladesh         field  Mehedi Hasan Miraz        JS Wilson   \n",
              "3      Sri Lanka         field          AK Markram   RK Illingworth   \n",
              "4      Australia           bat            KL Rahul      CB Gaffaney   \n",
              "5    Netherlands         field          MJ Santner       PR Reiffel   \n",
              "6     Bangladesh         field            DJ Malan       Ahsan Raza   \n",
              "7      Sri Lanka           bat     Mohammad Rizwan         AG Wharf   \n",
              "8    Afghanistan           bat           RG Sharma         MA Gough   \n",
              "9      Australia         field           Q de Kock        JS Wilson   \n",
              "10   New Zealand         field         LH Ferguson  HDPK Dharmasena   \n",
              "11         India         field           JJ Bumrah        M Erasmus   \n",
              "12       England         field    Mujeeb Ur Rahman        RJ Tucker   \n",
              "13     Sri Lanka           bat             A Zampa      CB Gaffaney   \n",
              "14  South Africa         field          SA Edwards         MA Gough   \n",
              "15   Afghanistan         field         GD Phillips        JS Wilson   \n",
              "16    Bangladesh           bat             V Kohli     AT Holdstock   \n",
              "17      Pakistan         field           DA Warner         CM Brown   \n",
              "18   Netherlands           bat    S Samarawickrama       Ahsan Raza   \n",
              "19       England         field           H Klaasen  HDPK Dharmasena   \n",
              "20         India         field      Mohammed Shami     AT Holdstock   \n",
              "21      Pakistan           bat      Ibrahim Zadran       PR Reiffel   \n",
              "22  South Africa           bat           Q de Kock       Ahsan Raza   \n",
              "23     Australia           bat          GJ Maxwell         MA Gough   \n",
              "24       England           bat        CBRLS Kumara     AT Holdstock   \n",
              "25      Pakistan           bat            T Shamsi         AG Wharf   \n",
              "26   New Zealand         field             TM Head        M Erasmus   \n",
              "27   Netherlands           bat     PA van Meekeren        JS Wilson   \n",
              "28       England         field           RG Sharma     AT Holdstock   \n",
              "29   Afghanistan         field    Fazalhaq Farooqi      CB Gaffaney   \n",
              "30    Bangladesh           bat        Fakhar Zaman      Nitin Menon   \n",
              "31   New Zealand         field   HE van der Dussen       Ahsan Raza   \n",
              "\n",
              "             umpire2         reserve_umpire  match_referee        winner  \\\n",
              "0        Nitin Menon           Sharfuddoula      J Srinath   New Zealand   \n",
              "1           CM Brown             PR Reiffel       JJ Crowe      Pakistan   \n",
              "2    HDPK Dharmasena              M Erasmus     AJ Pycroft    Bangladesh   \n",
              "3       Sharfuddoula               AG Wharf      J Srinath  South Africa   \n",
              "4   RA Kettleborough           AT Holdstock  RB Richardson         India   \n",
              "5          RJ Tucker            Nitin Menon     AJ Pycroft   New Zealand   \n",
              "6           P Wilson        HDPK Dharmasena      J Srinath       England   \n",
              "7        CB Gaffaney              RJ Tucker     AJ Pycroft      Pakistan   \n",
              "8         PR Reiffel           Sharfuddoula       JJ Crowe         India   \n",
              "9     RK Illingworth               CM Brown      J Srinath  South Africa   \n",
              "10       Nitin Menon               AG Wharf  RB Richardson   New Zealand   \n",
              "11    RK Illingworth            CB Gaffaney     AJ Pycroft         India   \n",
              "12      Sharfuddoula               P Wilson       JJ Crowe   Afghanistan   \n",
              "13         JS Wilson                    NaN  RB Richardson     Australia   \n",
              "14  RA Kettleborough             Ahsan Raza       JJ Crowe   Netherlands   \n",
              "15          P Wilson          J Madanagopal      J Srinath   New Zealand   \n",
              "16  RA Kettleborough              M Erasmus     AJ Pycroft         India   \n",
              "17    RK Illingworth          J Madanagopal  RB Richardson     Australia   \n",
              "18         M Erasmus            CB Gaffaney       JJ Crowe     Sri Lanka   \n",
              "19       Nitin Menon              JS Wilson      J Srinath  South Africa   \n",
              "20          MA Gough            Praveen Sen     AJ Pycroft         India   \n",
              "21         RJ Tucker        HDPK Dharmasena  RB Richardson   Afghanistan   \n",
              "22         JS Wilson  KN Ananthapadmanabhan       JJ Crowe  South Africa   \n",
              "23      Sharfuddoula            Nitin Menon     AJ Pycroft     Australia   \n",
              "24          CM Brown              RJ Tucker      J Srinath     Sri Lanka   \n",
              "25        PR Reiffel       RA Kettleborough  RB Richardson  South Africa   \n",
              "26      Sharfuddoula               MA Gough     AJ Pycroft     Australia   \n",
              "27          P Wilson            CB Gaffaney       JJ Crowe   Netherlands   \n",
              "28         RJ Tucker               CM Brown  RB Richardson         India   \n",
              "29    RK Illingworth              M Erasmus      J Srinath   Afghanistan   \n",
              "30  RA Kettleborough             PR Reiffel     AJ Pycroft      Pakistan   \n",
              "31   HDPK Dharmasena               P Wilson  RB Richardson  South Africa   \n",
              "\n",
              "    winner_runs  winner_wickets match_type  \n",
              "0           NaN             9.0      Group  \n",
              "1          81.0             NaN      Group  \n",
              "2           NaN             6.0      Group  \n",
              "3         102.0             NaN      Group  \n",
              "4           NaN             6.0      Group  \n",
              "5          99.0             NaN      Group  \n",
              "6         137.0             NaN      Group  \n",
              "7           NaN             6.0      Group  \n",
              "8           NaN             8.0      Group  \n",
              "9         134.0             NaN      Group  \n",
              "10          NaN             8.0      Group  \n",
              "11          NaN             7.0      Group  \n",
              "12         69.0             NaN      Group  \n",
              "13          NaN             5.0      Group  \n",
              "14         38.0             NaN      Group  \n",
              "15        149.0             NaN      Group  \n",
              "16          NaN             7.0      Group  \n",
              "17         62.0             NaN      Group  \n",
              "18          NaN             5.0      Group  \n",
              "19        229.0             NaN      Group  \n",
              "20          NaN             4.0      Group  \n",
              "21          NaN             8.0      Group  \n",
              "22        149.0             NaN      Group  \n",
              "23        309.0             NaN      Group  \n",
              "24          NaN             8.0      Group  \n",
              "25          NaN             1.0      Group  \n",
              "26          5.0             NaN      Group  \n",
              "27         87.0             NaN      Group  \n",
              "28        100.0             NaN      Group  \n",
              "29          NaN             7.0      Group  \n",
              "30          NaN             7.0      Group  \n",
              "31        190.0             NaN      Group  "
            ],
            "text/html": [
              "\n",
              "  <div id=\"df-160c3ebf-a340-411e-90f5-24794e4dbac5\" class=\"colab-df-container\">\n",
              "    <div>\n",
              "<style scoped>\n",
              "    .dataframe tbody tr th:only-of-type {\n",
              "        vertical-align: middle;\n",
              "    }\n",
              "\n",
              "    .dataframe tbody tr th {\n",
              "        vertical-align: top;\n",
              "    }\n",
              "\n",
              "    .dataframe thead th {\n",
              "        text-align: right;\n",
              "    }\n",
              "</style>\n",
              "<table border=\"1\" class=\"dataframe\">\n",
              "  <thead>\n",
              "    <tr style=\"text-align: right;\">\n",
              "      <th></th>\n",
              "      <th>season</th>\n",
              "      <th>team1</th>\n",
              "      <th>team2</th>\n",
              "      <th>date</th>\n",
              "      <th>match_number</th>\n",
              "      <th>venue</th>\n",
              "      <th>city</th>\n",
              "      <th>toss_winner</th>\n",
              "      <th>toss_decision</th>\n",
              "      <th>player_of_match</th>\n",
              "      <th>umpire1</th>\n",
              "      <th>umpire2</th>\n",
              "      <th>reserve_umpire</th>\n",
              "      <th>match_referee</th>\n",
              "      <th>winner</th>\n",
              "      <th>winner_runs</th>\n",
              "      <th>winner_wickets</th>\n",
              "      <th>match_type</th>\n",
              "    </tr>\n",
              "  </thead>\n",
              "  <tbody>\n",
              "    <tr>\n",
              "      <th>0</th>\n",
              "      <td>2023/24</td>\n",
              "      <td>England</td>\n",
              "      <td>New Zealand</td>\n",
              "      <td>2023/10/05</td>\n",
              "      <td>1</td>\n",
              "      <td>Narendra Modi Stadium</td>\n",
              "      <td>Ahmedabad</td>\n",
              "      <td>New Zealand</td>\n",
              "      <td>field</td>\n",
              "      <td>R Ravindra</td>\n",
              "      <td>HDPK Dharmasena</td>\n",
              "      <td>Nitin Menon</td>\n",
              "      <td>Sharfuddoula</td>\n",
              "      <td>J Srinath</td>\n",
              "      <td>New Zealand</td>\n",
              "      <td>NaN</td>\n",
              "      <td>9.0</td>\n",
              "      <td>Group</td>\n",
              "    </tr>\n",
              "    <tr>\n",
              "      <th>1</th>\n",
              "      <td>2023/24</td>\n",
              "      <td>Pakistan</td>\n",
              "      <td>Netherlands</td>\n",
              "      <td>2023/10/06</td>\n",
              "      <td>2</td>\n",
              "      <td>Rajiv Gandhi International Stadium</td>\n",
              "      <td>Hyderabad</td>\n",
              "      <td>Netherlands</td>\n",
              "      <td>field</td>\n",
              "      <td>Saud Shakeel</td>\n",
              "      <td>AT Holdstock</td>\n",
              "      <td>CM Brown</td>\n",
              "      <td>PR Reiffel</td>\n",
              "      <td>JJ Crowe</td>\n",
              "      <td>Pakistan</td>\n",
              "      <td>81.0</td>\n",
              "      <td>NaN</td>\n",
              "      <td>Group</td>\n",
              "    </tr>\n",
              "    <tr>\n",
              "      <th>2</th>\n",
              "      <td>2023/24</td>\n",
              "      <td>Afghanistan</td>\n",
              "      <td>Bangladesh</td>\n",
              "      <td>2023/10/07</td>\n",
              "      <td>3</td>\n",
              "      <td>Himachal Pradesh Cricket Association Stadium</td>\n",
              "      <td>Dharamsala</td>\n",
              "      <td>Bangladesh</td>\n",
              "      <td>field</td>\n",
              "      <td>Mehedi Hasan Miraz</td>\n",
              "      <td>JS Wilson</td>\n",
              "      <td>HDPK Dharmasena</td>\n",
              "      <td>M Erasmus</td>\n",
              "      <td>AJ Pycroft</td>\n",
              "      <td>Bangladesh</td>\n",
              "      <td>NaN</td>\n",
              "      <td>6.0</td>\n",
              "      <td>Group</td>\n",
              "    </tr>\n",
              "    <tr>\n",
              "      <th>3</th>\n",
              "      <td>2023/24</td>\n",
              "      <td>South Africa</td>\n",
              "      <td>Sri Lanka</td>\n",
              "      <td>2023/10/07</td>\n",
              "      <td>4</td>\n",
              "      <td>Arun Jaitley Stadium</td>\n",
              "      <td>Delhi</td>\n",
              "      <td>Sri Lanka</td>\n",
              "      <td>field</td>\n",
              "      <td>AK Markram</td>\n",
              "      <td>RK Illingworth</td>\n",
              "      <td>Sharfuddoula</td>\n",
              "      <td>AG Wharf</td>\n",
              "      <td>J Srinath</td>\n",
              "      <td>South Africa</td>\n",
              "      <td>102.0</td>\n",
              "      <td>NaN</td>\n",
              "      <td>Group</td>\n",
              "    </tr>\n",
              "    <tr>\n",
              "      <th>4</th>\n",
              "      <td>2023/24</td>\n",
              "      <td>Australia</td>\n",
              "      <td>India</td>\n",
              "      <td>2023/10/08</td>\n",
              "      <td>5</td>\n",
              "      <td>MA Chidambaram Stadium</td>\n",
              "      <td>Chennai</td>\n",
              "      <td>Australia</td>\n",
              "      <td>bat</td>\n",
              "      <td>KL Rahul</td>\n",
              "      <td>CB Gaffaney</td>\n",
              "      <td>RA Kettleborough</td>\n",
              "      <td>AT Holdstock</td>\n",
              "      <td>RB Richardson</td>\n",
              "      <td>India</td>\n",
              "      <td>NaN</td>\n",
              "      <td>6.0</td>\n",
              "      <td>Group</td>\n",
              "    </tr>\n",
              "    <tr>\n",
              "      <th>5</th>\n",
              "      <td>2023/24</td>\n",
              "      <td>New Zealand</td>\n",
              "      <td>Netherlands</td>\n",
              "      <td>2023/10/09</td>\n",
              "      <td>6</td>\n",
              "      <td>Rajiv Gandhi International Stadium</td>\n",
              "      <td>Hyderabad</td>\n",
              "      <td>Netherlands</td>\n",
              "      <td>field</td>\n",
              "      <td>MJ Santner</td>\n",
              "      <td>PR Reiffel</td>\n",
              "      <td>RJ Tucker</td>\n",
              "      <td>Nitin Menon</td>\n",
              "      <td>AJ Pycroft</td>\n",
              "      <td>New Zealand</td>\n",
              "      <td>99.0</td>\n",
              "      <td>NaN</td>\n",
              "      <td>Group</td>\n",
              "    </tr>\n",
              "    <tr>\n",
              "      <th>6</th>\n",
              "      <td>2023/24</td>\n",
              "      <td>England</td>\n",
              "      <td>Bangladesh</td>\n",
              "      <td>2023/10/10</td>\n",
              "      <td>7</td>\n",
              "      <td>Himachal Pradesh Cricket Association Stadium</td>\n",
              "      <td>Dharamsala</td>\n",
              "      <td>Bangladesh</td>\n",
              "      <td>field</td>\n",
              "      <td>DJ Malan</td>\n",
              "      <td>Ahsan Raza</td>\n",
              "      <td>P Wilson</td>\n",
              "      <td>HDPK Dharmasena</td>\n",
              "      <td>J Srinath</td>\n",
              "      <td>England</td>\n",
              "      <td>137.0</td>\n",
              "      <td>NaN</td>\n",
              "      <td>Group</td>\n",
              "    </tr>\n",
              "    <tr>\n",
              "      <th>7</th>\n",
              "      <td>2023/24</td>\n",
              "      <td>Sri Lanka</td>\n",
              "      <td>Pakistan</td>\n",
              "      <td>2023/10/10</td>\n",
              "      <td>8</td>\n",
              "      <td>Rajiv Gandhi International Stadium</td>\n",
              "      <td>Hyderabad</td>\n",
              "      <td>Sri Lanka</td>\n",
              "      <td>bat</td>\n",
              "      <td>Mohammad Rizwan</td>\n",
              "      <td>AG Wharf</td>\n",
              "      <td>CB Gaffaney</td>\n",
              "      <td>RJ Tucker</td>\n",
              "      <td>AJ Pycroft</td>\n",
              "      <td>Pakistan</td>\n",
              "      <td>NaN</td>\n",
              "      <td>6.0</td>\n",
              "      <td>Group</td>\n",
              "    </tr>\n",
              "    <tr>\n",
              "      <th>8</th>\n",
              "      <td>2023/24</td>\n",
              "      <td>Afghanistan</td>\n",
              "      <td>India</td>\n",
              "      <td>2023/10/11</td>\n",
              "      <td>9</td>\n",
              "      <td>Arun Jaitley Stadium</td>\n",
              "      <td>Delhi</td>\n",
              "      <td>Afghanistan</td>\n",
              "      <td>bat</td>\n",
              "      <td>RG Sharma</td>\n",
              "      <td>MA Gough</td>\n",
              "      <td>PR Reiffel</td>\n",
              "      <td>Sharfuddoula</td>\n",
              "      <td>JJ Crowe</td>\n",
              "      <td>India</td>\n",
              "      <td>NaN</td>\n",
              "      <td>8.0</td>\n",
              "      <td>Group</td>\n",
              "    </tr>\n",
              "    <tr>\n",
              "      <th>9</th>\n",
              "      <td>2023/24</td>\n",
              "      <td>South Africa</td>\n",
              "      <td>Australia</td>\n",
              "      <td>2023/10/12</td>\n",
              "      <td>10</td>\n",
              "      <td>Bharat Ratna Shri Atal Bihari Vajpayee Ekana C...</td>\n",
              "      <td>Lucknow</td>\n",
              "      <td>Australia</td>\n",
              "      <td>field</td>\n",
              "      <td>Q de Kock</td>\n",
              "      <td>JS Wilson</td>\n",
              "      <td>RK Illingworth</td>\n",
              "      <td>CM Brown</td>\n",
              "      <td>J Srinath</td>\n",
              "      <td>South Africa</td>\n",
              "      <td>134.0</td>\n",
              "      <td>NaN</td>\n",
              "      <td>Group</td>\n",
              "    </tr>\n",
              "    <tr>\n",
              "      <th>10</th>\n",
              "      <td>2023/24</td>\n",
              "      <td>Bangladesh</td>\n",
              "      <td>New Zealand</td>\n",
              "      <td>2023/10/13</td>\n",
              "      <td>11</td>\n",
              "      <td>MA Chidambaram Stadium</td>\n",
              "      <td>Chennai</td>\n",
              "      <td>New Zealand</td>\n",
              "      <td>field</td>\n",
              "      <td>LH Ferguson</td>\n",
              "      <td>HDPK Dharmasena</td>\n",
              "      <td>Nitin Menon</td>\n",
              "      <td>AG Wharf</td>\n",
              "      <td>RB Richardson</td>\n",
              "      <td>New Zealand</td>\n",
              "      <td>NaN</td>\n",
              "      <td>8.0</td>\n",
              "      <td>Group</td>\n",
              "    </tr>\n",
              "    <tr>\n",
              "      <th>11</th>\n",
              "      <td>2023/24</td>\n",
              "      <td>Pakistan</td>\n",
              "      <td>India</td>\n",
              "      <td>2023/10/14</td>\n",
              "      <td>12</td>\n",
              "      <td>Narendra Modi Stadium</td>\n",
              "      <td>Ahmedabad</td>\n",
              "      <td>India</td>\n",
              "      <td>field</td>\n",
              "      <td>JJ Bumrah</td>\n",
              "      <td>M Erasmus</td>\n",
              "      <td>RK Illingworth</td>\n",
              "      <td>CB Gaffaney</td>\n",
              "      <td>AJ Pycroft</td>\n",
              "      <td>India</td>\n",
              "      <td>NaN</td>\n",
              "      <td>7.0</td>\n",
              "      <td>Group</td>\n",
              "    </tr>\n",
              "    <tr>\n",
              "      <th>12</th>\n",
              "      <td>2023/24</td>\n",
              "      <td>Afghanistan</td>\n",
              "      <td>England</td>\n",
              "      <td>2023/10/15</td>\n",
              "      <td>13</td>\n",
              "      <td>Arun Jaitley Stadium</td>\n",
              "      <td>Delhi</td>\n",
              "      <td>England</td>\n",
              "      <td>field</td>\n",
              "      <td>Mujeeb Ur Rahman</td>\n",
              "      <td>RJ Tucker</td>\n",
              "      <td>Sharfuddoula</td>\n",
              "      <td>P Wilson</td>\n",
              "      <td>JJ Crowe</td>\n",
              "      <td>Afghanistan</td>\n",
              "      <td>69.0</td>\n",
              "      <td>NaN</td>\n",
              "      <td>Group</td>\n",
              "    </tr>\n",
              "    <tr>\n",
              "      <th>13</th>\n",
              "      <td>2023/24</td>\n",
              "      <td>Sri Lanka</td>\n",
              "      <td>Australia</td>\n",
              "      <td>2023/10/16</td>\n",
              "      <td>14</td>\n",
              "      <td>Bharat Ratna Shri Atal Bihari Vajpayee Ekana C...</td>\n",
              "      <td>Lucknow</td>\n",
              "      <td>Sri Lanka</td>\n",
              "      <td>bat</td>\n",
              "      <td>A Zampa</td>\n",
              "      <td>CB Gaffaney</td>\n",
              "      <td>JS Wilson</td>\n",
              "      <td>NaN</td>\n",
              "      <td>RB Richardson</td>\n",
              "      <td>Australia</td>\n",
              "      <td>NaN</td>\n",
              "      <td>5.0</td>\n",
              "      <td>Group</td>\n",
              "    </tr>\n",
              "    <tr>\n",
              "      <th>14</th>\n",
              "      <td>2023/24</td>\n",
              "      <td>Netherlands</td>\n",
              "      <td>South Africa</td>\n",
              "      <td>2023/10/17</td>\n",
              "      <td>15</td>\n",
              "      <td>Himachal Pradesh Cricket Association Stadium</td>\n",
              "      <td>Dharamsala</td>\n",
              "      <td>South Africa</td>\n",
              "      <td>field</td>\n",
              "      <td>SA Edwards</td>\n",
              "      <td>MA Gough</td>\n",
              "      <td>RA Kettleborough</td>\n",
              "      <td>Ahsan Raza</td>\n",
              "      <td>JJ Crowe</td>\n",
              "      <td>Netherlands</td>\n",
              "      <td>38.0</td>\n",
              "      <td>NaN</td>\n",
              "      <td>Group</td>\n",
              "    </tr>\n",
              "    <tr>\n",
              "      <th>15</th>\n",
              "      <td>2023/24</td>\n",
              "      <td>New Zealand</td>\n",
              "      <td>Afghanistan</td>\n",
              "      <td>2023/10/18</td>\n",
              "      <td>16</td>\n",
              "      <td>MA Chidambaram Stadium</td>\n",
              "      <td>Chennai</td>\n",
              "      <td>Afghanistan</td>\n",
              "      <td>field</td>\n",
              "      <td>GD Phillips</td>\n",
              "      <td>JS Wilson</td>\n",
              "      <td>P Wilson</td>\n",
              "      <td>J Madanagopal</td>\n",
              "      <td>J Srinath</td>\n",
              "      <td>New Zealand</td>\n",
              "      <td>149.0</td>\n",
              "      <td>NaN</td>\n",
              "      <td>Group</td>\n",
              "    </tr>\n",
              "    <tr>\n",
              "      <th>16</th>\n",
              "      <td>2023/24</td>\n",
              "      <td>Bangladesh</td>\n",
              "      <td>India</td>\n",
              "      <td>2023/10/19</td>\n",
              "      <td>17</td>\n",
              "      <td>Maharashtra Cricket Association Stadium</td>\n",
              "      <td>Pune</td>\n",
              "      <td>Bangladesh</td>\n",
              "      <td>bat</td>\n",
              "      <td>V Kohli</td>\n",
              "      <td>AT Holdstock</td>\n",
              "      <td>RA Kettleborough</td>\n",
              "      <td>M Erasmus</td>\n",
              "      <td>AJ Pycroft</td>\n",
              "      <td>India</td>\n",
              "      <td>NaN</td>\n",
              "      <td>7.0</td>\n",
              "      <td>Group</td>\n",
              "    </tr>\n",
              "    <tr>\n",
              "      <th>17</th>\n",
              "      <td>2023/24</td>\n",
              "      <td>Australia</td>\n",
              "      <td>Pakistan</td>\n",
              "      <td>2023/10/20</td>\n",
              "      <td>18</td>\n",
              "      <td>M Chinnaswamy Stadium</td>\n",
              "      <td>Bengaluru</td>\n",
              "      <td>Pakistan</td>\n",
              "      <td>field</td>\n",
              "      <td>DA Warner</td>\n",
              "      <td>CM Brown</td>\n",
              "      <td>RK Illingworth</td>\n",
              "      <td>J Madanagopal</td>\n",
              "      <td>RB Richardson</td>\n",
              "      <td>Australia</td>\n",
              "      <td>62.0</td>\n",
              "      <td>NaN</td>\n",
              "      <td>Group</td>\n",
              "    </tr>\n",
              "    <tr>\n",
              "      <th>18</th>\n",
              "      <td>2023/24</td>\n",
              "      <td>Netherlands</td>\n",
              "      <td>Sri Lanka</td>\n",
              "      <td>2023/10/21</td>\n",
              "      <td>19</td>\n",
              "      <td>Bharat Ratna Shri Atal Bihari Vajpayee Ekana C...</td>\n",
              "      <td>Lucknow</td>\n",
              "      <td>Netherlands</td>\n",
              "      <td>bat</td>\n",
              "      <td>S Samarawickrama</td>\n",
              "      <td>Ahsan Raza</td>\n",
              "      <td>M Erasmus</td>\n",
              "      <td>CB Gaffaney</td>\n",
              "      <td>JJ Crowe</td>\n",
              "      <td>Sri Lanka</td>\n",
              "      <td>NaN</td>\n",
              "      <td>5.0</td>\n",
              "      <td>Group</td>\n",
              "    </tr>\n",
              "    <tr>\n",
              "      <th>19</th>\n",
              "      <td>2023/24</td>\n",
              "      <td>South Africa</td>\n",
              "      <td>England</td>\n",
              "      <td>2023/10/21</td>\n",
              "      <td>20</td>\n",
              "      <td>Wankhede Stadium</td>\n",
              "      <td>Mumbai</td>\n",
              "      <td>England</td>\n",
              "      <td>field</td>\n",
              "      <td>H Klaasen</td>\n",
              "      <td>HDPK Dharmasena</td>\n",
              "      <td>Nitin Menon</td>\n",
              "      <td>JS Wilson</td>\n",
              "      <td>J Srinath</td>\n",
              "      <td>South Africa</td>\n",
              "      <td>229.0</td>\n",
              "      <td>NaN</td>\n",
              "      <td>Group</td>\n",
              "    </tr>\n",
              "    <tr>\n",
              "      <th>20</th>\n",
              "      <td>2023/24</td>\n",
              "      <td>New Zealand</td>\n",
              "      <td>India</td>\n",
              "      <td>2023/10/22</td>\n",
              "      <td>21</td>\n",
              "      <td>Himachal Pradesh Cricket Association Stadium</td>\n",
              "      <td>Dharamsala</td>\n",
              "      <td>India</td>\n",
              "      <td>field</td>\n",
              "      <td>Mohammed Shami</td>\n",
              "      <td>AT Holdstock</td>\n",
              "      <td>MA Gough</td>\n",
              "      <td>Praveen Sen</td>\n",
              "      <td>AJ Pycroft</td>\n",
              "      <td>India</td>\n",
              "      <td>NaN</td>\n",
              "      <td>4.0</td>\n",
              "      <td>Group</td>\n",
              "    </tr>\n",
              "    <tr>\n",
              "      <th>21</th>\n",
              "      <td>2023/24</td>\n",
              "      <td>Pakistan</td>\n",
              "      <td>Afghanistan</td>\n",
              "      <td>2023/10/23</td>\n",
              "      <td>22</td>\n",
              "      <td>MA Chidambaram Stadium</td>\n",
              "      <td>Chennai</td>\n",
              "      <td>Pakistan</td>\n",
              "      <td>bat</td>\n",
              "      <td>Ibrahim Zadran</td>\n",
              "      <td>PR Reiffel</td>\n",
              "      <td>RJ Tucker</td>\n",
              "      <td>HDPK Dharmasena</td>\n",
              "      <td>RB Richardson</td>\n",
              "      <td>Afghanistan</td>\n",
              "      <td>NaN</td>\n",
              "      <td>8.0</td>\n",
              "      <td>Group</td>\n",
              "    </tr>\n",
              "    <tr>\n",
              "      <th>22</th>\n",
              "      <td>2023/24</td>\n",
              "      <td>South Africa</td>\n",
              "      <td>Bangladesh</td>\n",
              "      <td>2023/10/24</td>\n",
              "      <td>23</td>\n",
              "      <td>Wankhede Stadium</td>\n",
              "      <td>Mumbai</td>\n",
              "      <td>South Africa</td>\n",
              "      <td>bat</td>\n",
              "      <td>Q de Kock</td>\n",
              "      <td>Ahsan Raza</td>\n",
              "      <td>JS Wilson</td>\n",
              "      <td>KN Ananthapadmanabhan</td>\n",
              "      <td>JJ Crowe</td>\n",
              "      <td>South Africa</td>\n",
              "      <td>149.0</td>\n",
              "      <td>NaN</td>\n",
              "      <td>Group</td>\n",
              "    </tr>\n",
              "    <tr>\n",
              "      <th>23</th>\n",
              "      <td>2023/24</td>\n",
              "      <td>Australia</td>\n",
              "      <td>Netherlands</td>\n",
              "      <td>2023/10/25</td>\n",
              "      <td>24</td>\n",
              "      <td>Arun Jaitley Stadium</td>\n",
              "      <td>Delhi</td>\n",
              "      <td>Australia</td>\n",
              "      <td>bat</td>\n",
              "      <td>GJ Maxwell</td>\n",
              "      <td>MA Gough</td>\n",
              "      <td>Sharfuddoula</td>\n",
              "      <td>Nitin Menon</td>\n",
              "      <td>AJ Pycroft</td>\n",
              "      <td>Australia</td>\n",
              "      <td>309.0</td>\n",
              "      <td>NaN</td>\n",
              "      <td>Group</td>\n",
              "    </tr>\n",
              "    <tr>\n",
              "      <th>24</th>\n",
              "      <td>2023/24</td>\n",
              "      <td>England</td>\n",
              "      <td>Sri Lanka</td>\n",
              "      <td>2023/10/26</td>\n",
              "      <td>25</td>\n",
              "      <td>M Chinnaswamy Stadium</td>\n",
              "      <td>Bengaluru</td>\n",
              "      <td>England</td>\n",
              "      <td>bat</td>\n",
              "      <td>CBRLS Kumara</td>\n",
              "      <td>AT Holdstock</td>\n",
              "      <td>CM Brown</td>\n",
              "      <td>RJ Tucker</td>\n",
              "      <td>J Srinath</td>\n",
              "      <td>Sri Lanka</td>\n",
              "      <td>NaN</td>\n",
              "      <td>8.0</td>\n",
              "      <td>Group</td>\n",
              "    </tr>\n",
              "    <tr>\n",
              "      <th>25</th>\n",
              "      <td>2023/24</td>\n",
              "      <td>Pakistan</td>\n",
              "      <td>South Africa</td>\n",
              "      <td>2023/10/27</td>\n",
              "      <td>26</td>\n",
              "      <td>MA Chidambaram Stadium</td>\n",
              "      <td>Chennai</td>\n",
              "      <td>Pakistan</td>\n",
              "      <td>bat</td>\n",
              "      <td>T Shamsi</td>\n",
              "      <td>AG Wharf</td>\n",
              "      <td>PR Reiffel</td>\n",
              "      <td>RA Kettleborough</td>\n",
              "      <td>RB Richardson</td>\n",
              "      <td>South Africa</td>\n",
              "      <td>NaN</td>\n",
              "      <td>1.0</td>\n",
              "      <td>Group</td>\n",
              "    </tr>\n",
              "    <tr>\n",
              "      <th>26</th>\n",
              "      <td>2023/24</td>\n",
              "      <td>Australia</td>\n",
              "      <td>New Zealand</td>\n",
              "      <td>2023/10/28</td>\n",
              "      <td>27</td>\n",
              "      <td>Himachal Pradesh Cricket Association Stadium</td>\n",
              "      <td>Dharamsala</td>\n",
              "      <td>New Zealand</td>\n",
              "      <td>field</td>\n",
              "      <td>TM Head</td>\n",
              "      <td>M Erasmus</td>\n",
              "      <td>Sharfuddoula</td>\n",
              "      <td>MA Gough</td>\n",
              "      <td>AJ Pycroft</td>\n",
              "      <td>Australia</td>\n",
              "      <td>5.0</td>\n",
              "      <td>NaN</td>\n",
              "      <td>Group</td>\n",
              "    </tr>\n",
              "    <tr>\n",
              "      <th>27</th>\n",
              "      <td>2023/24</td>\n",
              "      <td>Netherlands</td>\n",
              "      <td>Bangladesh</td>\n",
              "      <td>2023/10/28</td>\n",
              "      <td>28</td>\n",
              "      <td>Eden Gardens</td>\n",
              "      <td>Kolkata</td>\n",
              "      <td>Netherlands</td>\n",
              "      <td>bat</td>\n",
              "      <td>PA van Meekeren</td>\n",
              "      <td>JS Wilson</td>\n",
              "      <td>P Wilson</td>\n",
              "      <td>CB Gaffaney</td>\n",
              "      <td>JJ Crowe</td>\n",
              "      <td>Netherlands</td>\n",
              "      <td>87.0</td>\n",
              "      <td>NaN</td>\n",
              "      <td>Group</td>\n",
              "    </tr>\n",
              "    <tr>\n",
              "      <th>28</th>\n",
              "      <td>2023/24</td>\n",
              "      <td>India</td>\n",
              "      <td>England</td>\n",
              "      <td>2023/10/29</td>\n",
              "      <td>29</td>\n",
              "      <td>Bharat Ratna Shri Atal Bihari Vajpayee Ekana C...</td>\n",
              "      <td>Lucknow</td>\n",
              "      <td>England</td>\n",
              "      <td>field</td>\n",
              "      <td>RG Sharma</td>\n",
              "      <td>AT Holdstock</td>\n",
              "      <td>RJ Tucker</td>\n",
              "      <td>CM Brown</td>\n",
              "      <td>RB Richardson</td>\n",
              "      <td>India</td>\n",
              "      <td>100.0</td>\n",
              "      <td>NaN</td>\n",
              "      <td>Group</td>\n",
              "    </tr>\n",
              "    <tr>\n",
              "      <th>29</th>\n",
              "      <td>2023/24</td>\n",
              "      <td>Sri Lanka</td>\n",
              "      <td>Afghanistan</td>\n",
              "      <td>2023/10/30</td>\n",
              "      <td>30</td>\n",
              "      <td>Maharashtra Cricket Association Stadium</td>\n",
              "      <td>Pune</td>\n",
              "      <td>Afghanistan</td>\n",
              "      <td>field</td>\n",
              "      <td>Fazalhaq Farooqi</td>\n",
              "      <td>CB Gaffaney</td>\n",
              "      <td>RK Illingworth</td>\n",
              "      <td>M Erasmus</td>\n",
              "      <td>J Srinath</td>\n",
              "      <td>Afghanistan</td>\n",
              "      <td>NaN</td>\n",
              "      <td>7.0</td>\n",
              "      <td>Group</td>\n",
              "    </tr>\n",
              "    <tr>\n",
              "      <th>30</th>\n",
              "      <td>2023/24</td>\n",
              "      <td>Bangladesh</td>\n",
              "      <td>Pakistan</td>\n",
              "      <td>2023/10/31</td>\n",
              "      <td>31</td>\n",
              "      <td>Eden Gardens</td>\n",
              "      <td>Kolkata</td>\n",
              "      <td>Bangladesh</td>\n",
              "      <td>bat</td>\n",
              "      <td>Fakhar Zaman</td>\n",
              "      <td>Nitin Menon</td>\n",
              "      <td>RA Kettleborough</td>\n",
              "      <td>PR Reiffel</td>\n",
              "      <td>AJ Pycroft</td>\n",
              "      <td>Pakistan</td>\n",
              "      <td>NaN</td>\n",
              "      <td>7.0</td>\n",
              "      <td>Group</td>\n",
              "    </tr>\n",
              "    <tr>\n",
              "      <th>31</th>\n",
              "      <td>2023/24</td>\n",
              "      <td>South Africa</td>\n",
              "      <td>New Zealand</td>\n",
              "      <td>2023/11/01</td>\n",
              "      <td>32</td>\n",
              "      <td>Maharashtra Cricket Association Stadium</td>\n",
              "      <td>Pune</td>\n",
              "      <td>New Zealand</td>\n",
              "      <td>field</td>\n",
              "      <td>HE van der Dussen</td>\n",
              "      <td>Ahsan Raza</td>\n",
              "      <td>HDPK Dharmasena</td>\n",
              "      <td>P Wilson</td>\n",
              "      <td>RB Richardson</td>\n",
              "      <td>South Africa</td>\n",
              "      <td>190.0</td>\n",
              "      <td>NaN</td>\n",
              "      <td>Group</td>\n",
              "    </tr>\n",
              "  </tbody>\n",
              "</table>\n",
              "</div>\n",
              "    <div class=\"colab-df-buttons\">\n",
              "\n",
              "  <div class=\"colab-df-container\">\n",
              "    <button class=\"colab-df-convert\" onclick=\"convertToInteractive('df-160c3ebf-a340-411e-90f5-24794e4dbac5')\"\n",
              "            title=\"Convert this dataframe to an interactive table.\"\n",
              "            style=\"display:none;\">\n",
              "\n",
              "  <svg xmlns=\"http://www.w3.org/2000/svg\" height=\"24px\" viewBox=\"0 -960 960 960\">\n",
              "    <path d=\"M120-120v-720h720v720H120Zm60-500h600v-160H180v160Zm220 220h160v-160H400v160Zm0 220h160v-160H400v160ZM180-400h160v-160H180v160Zm440 0h160v-160H620v160ZM180-180h160v-160H180v160Zm440 0h160v-160H620v160Z\"/>\n",
              "  </svg>\n",
              "    </button>\n",
              "\n",
              "  <style>\n",
              "    .colab-df-container {\n",
              "      display:flex;\n",
              "      gap: 12px;\n",
              "    }\n",
              "\n",
              "    .colab-df-convert {\n",
              "      background-color: #E8F0FE;\n",
              "      border: none;\n",
              "      border-radius: 50%;\n",
              "      cursor: pointer;\n",
              "      display: none;\n",
              "      fill: #1967D2;\n",
              "      height: 32px;\n",
              "      padding: 0 0 0 0;\n",
              "      width: 32px;\n",
              "    }\n",
              "\n",
              "    .colab-df-convert:hover {\n",
              "      background-color: #E2EBFA;\n",
              "      box-shadow: 0px 1px 2px rgba(60, 64, 67, 0.3), 0px 1px 3px 1px rgba(60, 64, 67, 0.15);\n",
              "      fill: #174EA6;\n",
              "    }\n",
              "\n",
              "    .colab-df-buttons div {\n",
              "      margin-bottom: 4px;\n",
              "    }\n",
              "\n",
              "    [theme=dark] .colab-df-convert {\n",
              "      background-color: #3B4455;\n",
              "      fill: #D2E3FC;\n",
              "    }\n",
              "\n",
              "    [theme=dark] .colab-df-convert:hover {\n",
              "      background-color: #434B5C;\n",
              "      box-shadow: 0px 1px 3px 1px rgba(0, 0, 0, 0.15);\n",
              "      filter: drop-shadow(0px 1px 2px rgba(0, 0, 0, 0.3));\n",
              "      fill: #FFFFFF;\n",
              "    }\n",
              "  </style>\n",
              "\n",
              "    <script>\n",
              "      const buttonEl =\n",
              "        document.querySelector('#df-160c3ebf-a340-411e-90f5-24794e4dbac5 button.colab-df-convert');\n",
              "      buttonEl.style.display =\n",
              "        google.colab.kernel.accessAllowed ? 'block' : 'none';\n",
              "\n",
              "      async function convertToInteractive(key) {\n",
              "        const element = document.querySelector('#df-160c3ebf-a340-411e-90f5-24794e4dbac5');\n",
              "        const dataTable =\n",
              "          await google.colab.kernel.invokeFunction('convertToInteractive',\n",
              "                                                    [key], {});\n",
              "        if (!dataTable) return;\n",
              "\n",
              "        const docLinkHtml = 'Like what you see? Visit the ' +\n",
              "          '<a target=\"_blank\" href=https://colab.research.google.com/notebooks/data_table.ipynb>data table notebook</a>'\n",
              "          + ' to learn more about interactive tables.';\n",
              "        element.innerHTML = '';\n",
              "        dataTable['output_type'] = 'display_data';\n",
              "        await google.colab.output.renderOutput(dataTable, element);\n",
              "        const docLink = document.createElement('div');\n",
              "        docLink.innerHTML = docLinkHtml;\n",
              "        element.appendChild(docLink);\n",
              "      }\n",
              "    </script>\n",
              "  </div>\n",
              "\n",
              "\n",
              "<div id=\"df-84f05ff3-34aa-4eb4-bff9-e3cb98b8bc6e\">\n",
              "  <button class=\"colab-df-quickchart\" onclick=\"quickchart('df-84f05ff3-34aa-4eb4-bff9-e3cb98b8bc6e')\"\n",
              "            title=\"Suggest charts\"\n",
              "            style=\"display:none;\">\n",
              "\n",
              "<svg xmlns=\"http://www.w3.org/2000/svg\" height=\"24px\"viewBox=\"0 0 24 24\"\n",
              "     width=\"24px\">\n",
              "    <g>\n",
              "        <path d=\"M19 3H5c-1.1 0-2 .9-2 2v14c0 1.1.9 2 2 2h14c1.1 0 2-.9 2-2V5c0-1.1-.9-2-2-2zM9 17H7v-7h2v7zm4 0h-2V7h2v10zm4 0h-2v-4h2v4z\"/>\n",
              "    </g>\n",
              "</svg>\n",
              "  </button>\n",
              "\n",
              "<style>\n",
              "  .colab-df-quickchart {\n",
              "      --bg-color: #E8F0FE;\n",
              "      --fill-color: #1967D2;\n",
              "      --hover-bg-color: #E2EBFA;\n",
              "      --hover-fill-color: #174EA6;\n",
              "      --disabled-fill-color: #AAA;\n",
              "      --disabled-bg-color: #DDD;\n",
              "  }\n",
              "\n",
              "  [theme=dark] .colab-df-quickchart {\n",
              "      --bg-color: #3B4455;\n",
              "      --fill-color: #D2E3FC;\n",
              "      --hover-bg-color: #434B5C;\n",
              "      --hover-fill-color: #FFFFFF;\n",
              "      --disabled-bg-color: #3B4455;\n",
              "      --disabled-fill-color: #666;\n",
              "  }\n",
              "\n",
              "  .colab-df-quickchart {\n",
              "    background-color: var(--bg-color);\n",
              "    border: none;\n",
              "    border-radius: 50%;\n",
              "    cursor: pointer;\n",
              "    display: none;\n",
              "    fill: var(--fill-color);\n",
              "    height: 32px;\n",
              "    padding: 0;\n",
              "    width: 32px;\n",
              "  }\n",
              "\n",
              "  .colab-df-quickchart:hover {\n",
              "    background-color: var(--hover-bg-color);\n",
              "    box-shadow: 0 1px 2px rgba(60, 64, 67, 0.3), 0 1px 3px 1px rgba(60, 64, 67, 0.15);\n",
              "    fill: var(--button-hover-fill-color);\n",
              "  }\n",
              "\n",
              "  .colab-df-quickchart-complete:disabled,\n",
              "  .colab-df-quickchart-complete:disabled:hover {\n",
              "    background-color: var(--disabled-bg-color);\n",
              "    fill: var(--disabled-fill-color);\n",
              "    box-shadow: none;\n",
              "  }\n",
              "\n",
              "  .colab-df-spinner {\n",
              "    border: 2px solid var(--fill-color);\n",
              "    border-color: transparent;\n",
              "    border-bottom-color: var(--fill-color);\n",
              "    animation:\n",
              "      spin 1s steps(1) infinite;\n",
              "  }\n",
              "\n",
              "  @keyframes spin {\n",
              "    0% {\n",
              "      border-color: transparent;\n",
              "      border-bottom-color: var(--fill-color);\n",
              "      border-left-color: var(--fill-color);\n",
              "    }\n",
              "    20% {\n",
              "      border-color: transparent;\n",
              "      border-left-color: var(--fill-color);\n",
              "      border-top-color: var(--fill-color);\n",
              "    }\n",
              "    30% {\n",
              "      border-color: transparent;\n",
              "      border-left-color: var(--fill-color);\n",
              "      border-top-color: var(--fill-color);\n",
              "      border-right-color: var(--fill-color);\n",
              "    }\n",
              "    40% {\n",
              "      border-color: transparent;\n",
              "      border-right-color: var(--fill-color);\n",
              "      border-top-color: var(--fill-color);\n",
              "    }\n",
              "    60% {\n",
              "      border-color: transparent;\n",
              "      border-right-color: var(--fill-color);\n",
              "    }\n",
              "    80% {\n",
              "      border-color: transparent;\n",
              "      border-right-color: var(--fill-color);\n",
              "      border-bottom-color: var(--fill-color);\n",
              "    }\n",
              "    90% {\n",
              "      border-color: transparent;\n",
              "      border-bottom-color: var(--fill-color);\n",
              "    }\n",
              "  }\n",
              "</style>\n",
              "\n",
              "  <script>\n",
              "    async function quickchart(key) {\n",
              "      const quickchartButtonEl =\n",
              "        document.querySelector('#' + key + ' button');\n",
              "      quickchartButtonEl.disabled = true;  // To prevent multiple clicks.\n",
              "      quickchartButtonEl.classList.add('colab-df-spinner');\n",
              "      try {\n",
              "        const charts = await google.colab.kernel.invokeFunction(\n",
              "            'suggestCharts', [key], {});\n",
              "      } catch (error) {\n",
              "        console.error('Error during call to suggestCharts:', error);\n",
              "      }\n",
              "      quickchartButtonEl.classList.remove('colab-df-spinner');\n",
              "      quickchartButtonEl.classList.add('colab-df-quickchart-complete');\n",
              "    }\n",
              "    (() => {\n",
              "      let quickchartButtonEl =\n",
              "        document.querySelector('#df-84f05ff3-34aa-4eb4-bff9-e3cb98b8bc6e button');\n",
              "      quickchartButtonEl.style.display =\n",
              "        google.colab.kernel.accessAllowed ? 'block' : 'none';\n",
              "    })();\n",
              "  </script>\n",
              "</div>\n",
              "    </div>\n",
              "  </div>\n"
            ]
          },
          "metadata": {},
          "execution_count": 767
        }
      ]
    },
    {
      "cell_type": "code",
      "source": [
        "matches.rename(columns={\"match_number\":\"match_id\"}, inplace=True)"
      ],
      "metadata": {
        "id": "HKyu1iU7Rml2"
      },
      "execution_count": null,
      "outputs": []
    },
    {
      "cell_type": "code",
      "source": [
        "matches = matches.drop(columns=['season'])"
      ],
      "metadata": {
        "id": "V2sZCWNESzzn"
      },
      "execution_count": null,
      "outputs": []
    },
    {
      "cell_type": "code",
      "source": [
        "matches['winner'].value_counts()"
      ],
      "metadata": {
        "colab": {
          "base_uri": "https://localhost:8080/"
        },
        "id": "_HwXcMlMVOhA",
        "outputId": "2be00ed5-1da9-4990-b4c1-9442f2affc10"
      },
      "execution_count": null,
      "outputs": [
        {
          "output_type": "execute_result",
          "data": {
            "text/plain": [
              "South Africa    6\n",
              "India           6\n",
              "New Zealand     4\n",
              "Australia       4\n",
              "Pakistan        3\n",
              "Afghanistan     3\n",
              "Netherlands     2\n",
              "Sri Lanka       2\n",
              "Bangladesh      1\n",
              "England         1\n",
              "Name: winner, dtype: int64"
            ]
          },
          "metadata": {},
          "execution_count": 770
        }
      ]
    },
    {
      "cell_type": "code",
      "source": [
        "plot_categorical_with_percentage(matches, 'winner')"
      ],
      "metadata": {
        "colab": {
          "base_uri": "https://localhost:8080/",
          "height": 614
        },
        "id": "0z1p18PdVfQW",
        "outputId": "abefbdc9-8ded-4ad3-83de-0ccd3a596a62"
      },
      "execution_count": null,
      "outputs": [
        {
          "output_type": "display_data",
          "data": {
            "text/plain": [
              "<Figure size 1500x600 with 1 Axes>"
            ],
            "image/png": "[encoded data removed]"
          },
          "metadata": {}
        }
      ]
    },
    {
      "cell_type": "code",
      "source": [
        "data = data.merge(matches[[\"match_id\",\"winner\"]], on=\"match_id\")"
      ],
      "metadata": {
        "id": "wlePXczySQNj"
      },
      "execution_count": null,
      "outputs": []
    },
    {
      "cell_type": "code",
      "source": [
        "data['result'] = data.apply(lambda x: 1 if x['batting_team'] == x['winner'] else 0, axis=1)"
      ],
      "metadata": {
        "id": "FsjPsTNZTPvt"
      },
      "execution_count": null,
      "outputs": []
    },
    {
      "cell_type": "code",
      "source": [
        "data.columns"
      ],
      "metadata": {
        "colab": {
          "base_uri": "https://localhost:8080/"
        },
        "id": "Jx8fEWGtUDOK",
        "outputId": "b8f6640d-14f9-4c88-8da5-2ea592f4516a"
      },
      "execution_count": null,
      "outputs": [
        {
          "output_type": "execute_result",
          "data": {
            "text/plain": [
              "Index(['match_id', 'start_date', 'venue', 'innings', 'ball', 'batting_team',\n",
              "       'bowling_team', 'striker', 'non_striker', 'bowler', 'runs_off_bat',\n",
              "       'extras', 'wides', 'noballs', 'byes', 'legbyes', 'penalty',\n",
              "       'wicket_type', 'player_dismissed', 'wicket', 'over', 'ball_num',\n",
              "       'ball_left', 'total_runs', 'cumulative_runs', 'run_rate', 'winner',\n",
              "       'result'],\n",
              "      dtype='object')"
            ]
          },
          "metadata": {},
          "execution_count": 774
        }
      ]
    },
    {
      "cell_type": "code",
      "source": [
        "data.info()"
      ],
      "metadata": {
        "colab": {
          "base_uri": "https://localhost:8080/"
        },
        "id": "2VxCVxLHUE3T",
        "outputId": "9f675fb2-793a-45cd-a9ca-0e988e93b47b"
      },
      "execution_count": null,
      "outputs": [
        {
          "output_type": "stream",
          "name": "stdout",
          "text": [
            "<class 'pandas.core.frame.DataFrame'>\n",
            "Int64Index: 17380 entries, 0 to 17379\n",
            "Data columns (total 28 columns):\n",
            " #   Column            Non-Null Count  Dtype  \n",
            "---  ------            --------------  -----  \n",
            " 0   match_id          17380 non-null  Int64  \n",
            " 1   start_date        17380 non-null  object \n",
            " 2   venue             17380 non-null  Int64  \n",
            " 3   innings           17380 non-null  Int64  \n",
            " 4   ball              17380 non-null  Float64\n",
            " 5   batting_team      17380 non-null  Int64  \n",
            " 6   bowling_team      17380 non-null  Int64  \n",
            " 7   striker           17380 non-null  Int64  \n",
            " 8   non_striker       17380 non-null  Int64  \n",
            " 9   bowler            17380 non-null  Int64  \n",
            " 10  runs_off_bat      17380 non-null  Int64  \n",
            " 11  extras            17380 non-null  Int64  \n",
            " 12  wides             17380 non-null  Int64  \n",
            " 13  noballs           17380 non-null  Int64  \n",
            " 14  byes              17380 non-null  Int64  \n",
            " 15  legbyes           17380 non-null  Int64  \n",
            " 16  penalty           17380 non-null  Int64  \n",
            " 17  wicket_type       17380 non-null  string \n",
            " 18  player_dismissed  17380 non-null  string \n",
            " 19  wicket            17380 non-null  Int64  \n",
            " 20  over              17380 non-null  Int64  \n",
            " 21  ball_num          17380 non-null  Int64  \n",
            " 22  ball_left         17380 non-null  Int64  \n",
            " 23  total_runs        17380 non-null  Int64  \n",
            " 24  cumulative_runs   17380 non-null  Int64  \n",
            " 25  run_rate          17380 non-null  Float64\n",
            " 26  winner            17380 non-null  object \n",
            " 27  result            17380 non-null  int64  \n",
            "dtypes: Float64(2), Int64(21), int64(1), object(2), string(2)\n",
            "memory usage: 4.2+ MB\n"
          ]
        }
      ]
    },
    {
      "cell_type": "code",
      "source": [
        "data['start_date'] = pd.to_datetime(data['start_date'])"
      ],
      "metadata": {
        "id": "r7-yOT16Ungf"
      },
      "execution_count": null,
      "outputs": []
    },
    {
      "cell_type": "code",
      "source": [
        "data.info()"
      ],
      "metadata": {
        "colab": {
          "base_uri": "https://localhost:8080/"
        },
        "id": "Pr3Cps0cXQy1",
        "outputId": "a78939e8-f0d6-4d68-91a8-8ff0beaad0a8"
      },
      "execution_count": null,
      "outputs": [
        {
          "output_type": "stream",
          "name": "stdout",
          "text": [
            "<class 'pandas.core.frame.DataFrame'>\n",
            "Int64Index: 17380 entries, 0 to 17379\n",
            "Data columns (total 28 columns):\n",
            " #   Column            Non-Null Count  Dtype         \n",
            "---  ------            --------------  -----         \n",
            " 0   match_id          17380 non-null  Int64         \n",
            " 1   start_date        17380 non-null  datetime64[ns]\n",
            " 2   venue             17380 non-null  Int64         \n",
            " 3   innings           17380 non-null  Int64         \n",
            " 4   ball              17380 non-null  Float64       \n",
            " 5   batting_team      17380 non-null  Int64         \n",
            " 6   bowling_team      17380 non-null  Int64         \n",
            " 7   striker           17380 non-null  Int64         \n",
            " 8   non_striker       17380 non-null  Int64         \n",
            " 9   bowler            17380 non-null  Int64         \n",
            " 10  runs_off_bat      17380 non-null  Int64         \n",
            " 11  extras            17380 non-null  Int64         \n",
            " 12  wides             17380 non-null  Int64         \n",
            " 13  noballs           17380 non-null  Int64         \n",
            " 14  byes              17380 non-null  Int64         \n",
            " 15  legbyes           17380 non-null  Int64         \n",
            " 16  penalty           17380 non-null  Int64         \n",
            " 17  wicket_type       17380 non-null  string        \n",
            " 18  player_dismissed  17380 non-null  string        \n",
            " 19  wicket            17380 non-null  Int64         \n",
            " 20  over              17380 non-null  Int64         \n",
            " 21  ball_num          17380 non-null  Int64         \n",
            " 22  ball_left         17380 non-null  Int64         \n",
            " 23  total_runs        17380 non-null  Int64         \n",
            " 24  cumulative_runs   17380 non-null  Int64         \n",
            " 25  run_rate          17380 non-null  Float64       \n",
            " 26  winner            17380 non-null  object        \n",
            " 27  result            17380 non-null  int64         \n",
            "dtypes: Float64(2), Int64(21), datetime64[ns](1), int64(1), object(1), string(2)\n",
            "memory usage: 4.2+ MB\n"
          ]
        }
      ]
    },
    {
      "cell_type": "code",
      "source": [
        "data = data.drop(columns=['start_date'])"
      ],
      "metadata": {
        "id": "AzyrtMpOlFg1"
      },
      "execution_count": null,
      "outputs": []
    },
    {
      "cell_type": "code",
      "source": [
        "data['winner'] = label_encoder.fit_transform(data['winner'])"
      ],
      "metadata": {
        "id": "8oLRQ3HtXSt9"
      },
      "execution_count": null,
      "outputs": []
    },
    {
      "cell_type": "code",
      "source": [
        "data['winner'] = data['winner'].astype(int)"
      ],
      "metadata": {
        "id": "-ED0HTwgX8OB"
      },
      "execution_count": null,
      "outputs": []
    },
    {
      "cell_type": "code",
      "source": [
        "data.info()"
      ],
      "metadata": {
        "colab": {
          "base_uri": "https://localhost:8080/"
        },
        "id": "d_jkbH9_l3Gc",
        "outputId": "a848bdd3-06c2-48fb-bf07-2d74fb086316"
      },
      "execution_count": null,
      "outputs": [
        {
          "output_type": "stream",
          "name": "stdout",
          "text": [
            "<class 'pandas.core.frame.DataFrame'>\n",
            "Int64Index: 17380 entries, 0 to 17379\n",
            "Data columns (total 27 columns):\n",
            " #   Column            Non-Null Count  Dtype  \n",
            "---  ------            --------------  -----  \n",
            " 0   match_id          17380 non-null  Int64  \n",
            " 1   venue             17380 non-null  Int64  \n",
            " 2   innings           17380 non-null  Int64  \n",
            " 3   ball              17380 non-null  Float64\n",
            " 4   batting_team      17380 non-null  Int64  \n",
            " 5   bowling_team      17380 non-null  Int64  \n",
            " 6   striker           17380 non-null  Int64  \n",
            " 7   non_striker       17380 non-null  Int64  \n",
            " 8   bowler            17380 non-null  Int64  \n",
            " 9   runs_off_bat      17380 non-null  Int64  \n",
            " 10  extras            17380 non-null  Int64  \n",
            " 11  wides             17380 non-null  Int64  \n",
            " 12  noballs           17380 non-null  Int64  \n",
            " 13  byes              17380 non-null  Int64  \n",
            " 14  legbyes           17380 non-null  Int64  \n",
            " 15  penalty           17380 non-null  Int64  \n",
            " 16  wicket_type       17380 non-null  string \n",
            " 17  player_dismissed  17380 non-null  string \n",
            " 18  wicket            17380 non-null  Int64  \n",
            " 19  over              17380 non-null  Int64  \n",
            " 20  ball_num          17380 non-null  Int64  \n",
            " 21  ball_left         17380 non-null  Int64  \n",
            " 22  total_runs        17380 non-null  Int64  \n",
            " 23  cumulative_runs   17380 non-null  Int64  \n",
            " 24  run_rate          17380 non-null  Float64\n",
            " 25  winner            17380 non-null  int64  \n",
            " 26  result            17380 non-null  int64  \n",
            "dtypes: Float64(2), Int64(21), int64(2), string(2)\n",
            "memory usage: 4.1 MB\n"
          ]
        }
      ]
    },
    {
      "cell_type": "markdown",
      "source": [
        "# **Predicting the 2 finalist teams**"
      ],
      "metadata": {
        "id": "wFQi2ke8q1sr"
      }
    },
    {
      "cell_type": "code",
      "source": [
        "train_data = data\n",
        "\n",
        "features = train_data[['venue', 'innings', 'total_runs', 'run_rate', 'batting_team', 'bowling_team']]\n",
        "\n",
        "train_data['result'] = train_data.apply(lambda x: 1 if x['batting_team'] == x['winner'] else 0, axis=1)\n",
        "\n",
        "target = train_data['result']\n",
        "\n",
        "scaler = StandardScaler()\n",
        "features_scaled = scaler.fit_transform(features)\n",
        "\n",
        "X_train, X_test, y_train, y_test = train_test_split(features_scaled, target, test_size=0.2, random_state=42)\n",
        "\n",
        "model = Sequential()\n",
        "model.add(Dense(32, input_dim=X_train.shape[1], activation='relu'))\n",
        "model.add(Dense(16, activation='relu'))\n",
        "model.add(Dense(1, activation='sigmoid'))\n",
        "\n",
        "model.compile(optimizer='adam', loss='binary_crossentropy', metrics=['accuracy'])\n",
        "\n",
        "model.fit(X_train, y_train, epochs=10, batch_size=32, validation_data=(X_test, y_test))\n",
        "\n",
        "y_pred_proba = model.predict(X_test)\n",
        "y_pred = (y_pred_proba > 0.5).astype(int)\n",
        "\n",
        "accuracy = accuracy_score(y_test, y_pred)\n",
        "print(f'Accuracy: {accuracy}')\n",
        "print(classification_report(y_test, y_pred))\n",
        "\n",
        "model.save_weights('model_weights.h5')\n"
      ],
      "metadata": {
        "colab": {
          "base_uri": "https://localhost:8080/"
        },
        "id": "KChHvcYChc9n",
        "outputId": "5e4b4cdd-d6e4-4d7f-fee8-2e6ccf4fa4f8"
      },
      "execution_count": null,
      "outputs": [
        {
          "output_type": "stream",
          "name": "stdout",
          "text": [
            "Epoch 1/10\n",
            "435/435 [==============================] - 1s 2ms/step - loss: 0.1945 - accuracy: 0.9377 - val_loss: 0.1223 - val_accuracy: 0.9439\n",
            "Epoch 2/10\n",
            "435/435 [==============================] - 1s 2ms/step - loss: 0.0668 - accuracy: 0.9662 - val_loss: 0.0404 - val_accuracy: 0.9770\n",
            "Epoch 3/10\n",
            "435/435 [==============================] - 1s 2ms/step - loss: 0.0235 - accuracy: 0.9943 - val_loss: 0.0199 - val_accuracy: 0.9991\n",
            "Epoch 4/10\n",
            "435/435 [==============================] - 1s 2ms/step - loss: 0.0096 - accuracy: 1.0000 - val_loss: 0.0038 - val_accuracy: 1.0000\n",
            "Epoch 5/10\n",
            "435/435 [==============================] - 1s 2ms/step - loss: 0.0020 - accuracy: 1.0000 - val_loss: 0.0016 - val_accuracy: 1.0000\n",
            "Epoch 6/10\n",
            "435/435 [==============================] - 1s 2ms/step - loss: 9.0173e-04 - accuracy: 1.0000 - val_loss: 9.1025e-04 - val_accuracy: 1.0000\n",
            "Epoch 7/10\n",
            "435/435 [==============================] - 1s 2ms/step - loss: 5.0369e-04 - accuracy: 1.0000 - val_loss: 7.0077e-04 - val_accuracy: 0.9997\n",
            "Epoch 8/10\n",
            "435/435 [==============================] - 1s 2ms/step - loss: 3.1138e-04 - accuracy: 1.0000 - val_loss: 5.4709e-04 - val_accuracy: 0.9997\n",
            "Epoch 9/10\n",
            "435/435 [==============================] - 1s 2ms/step - loss: 2.0135e-04 - accuracy: 1.0000 - val_loss: 5.8727e-04 - val_accuracy: 0.9997\n",
            "Epoch 10/10\n",
            "435/435 [==============================] - 1s 2ms/step - loss: 1.4410e-04 - accuracy: 1.0000 - val_loss: 4.2229e-04 - val_accuracy: 0.9997\n",
            "109/109 [==============================] - 0s 1ms/step\n",
            "Accuracy: 0.9997123130034522\n",
            "              precision    recall  f1-score   support\n",
            "\n",
            "           0       1.00      1.00      1.00      3233\n",
            "           1       1.00      1.00      1.00       243\n",
            "\n",
            "    accuracy                           1.00      3476\n",
            "   macro avg       1.00      1.00      1.00      3476\n",
            "weighted avg       1.00      1.00      1.00      3476\n",
            "\n"
          ]
        }
      ]
    },
    {
      "cell_type": "code",
      "source": [
        "new_tournament_data = data\n",
        "\n",
        "new_features = new_tournament_data[['venue', 'innings', 'total_runs', 'run_rate', 'batting_team', 'bowling_team']]\n",
        "\n",
        "scaler = StandardScaler()\n",
        "new_features_scaled = scaler.fit_transform(new_features)\n",
        "\n",
        "model = Sequential()\n",
        "model.add(Dense(32, input_dim=new_features_scaled.shape[1], activation='relu'))\n",
        "model.add(Dense(16, activation='relu'))\n",
        "model.add(Dense(1, activation='sigmoid'))\n",
        "\n",
        "model.compile(optimizer='adam', loss='binary_crossentropy', metrics=['accuracy'])\n",
        "\n",
        "model.load_weights('model_weights.h5')\n",
        "\n",
        "predictions_proba = model.predict(new_features_scaled)\n",
        "predictions = (predictions_proba > 0.5).astype(int)\n",
        "\n",
        "finalist_teams = new_tournament_data.loc[predictions == 1, ['batting_team', 'bowling_team']].drop_duplicates()\n",
        "\n",
        "print(\"Predicted Finalist Teams:\")\n",
        "print(finalist_teams)\n"
      ],
      "metadata": {
        "colab": {
          "base_uri": "https://localhost:8080/"
        },
        "id": "nwe5-1mdieLg",
        "outputId": "2fca9a2e-ee62-4ee5-b0d4-adce9a934b09"
      },
      "execution_count": null,
      "outputs": [
        {
          "output_type": "stream",
          "name": "stdout",
          "text": [
            "544/544 [==============================] - 1s 1ms/step\n",
            "Predicted Finalist Teams:\n",
            "       batting_team  bowling_team\n",
            "3563              3            10\n",
            "3856              7             2\n",
            "7897              6             4\n",
            "9881              1            10\n",
            "10329             4             9\n"
          ]
        }
      ]
    }
  ]
}