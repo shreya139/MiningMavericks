{
  "nbformat": 4,
  "nbformat_minor": 0,
  "metadata": {
    "colab": {
      "provenance": [],
      "authorship_tag": "ABX9TyNUAhYwJRPESBAAsHf8Meoj",
      "include_colab_link": true
    },
    "kernelspec": {
      "name": "python3",
      "display_name": "Python 3"
    },
    "language_info": {
      "name": "python"
    }
  },
  "cells": [
    {
      "cell_type": "markdown",
      "metadata": {
        "id": "view-in-github",
        "colab_type": "text"
      },
      "source": [
        "<a href=\"https://colab.research.google.com/github/shreya139/MiningMavericks/blob/Zeel-Gudhka/202218025_Zeel_Gudhka_IDM_CP3.ipynb\" target=\"_parent\"><img src=\"https://colab.research.google.com/assets/colab-badge.svg\" alt=\"Open In Colab\"/></a>"
      ]
    },
    {
      "cell_type": "markdown",
      "source": [
        "#Importing Libraries"
      ],
      "metadata": {
        "id": "S9Wyxh2Qz0vF"
      }
    },
    {
      "cell_type": "code",
      "execution_count": 163,
      "metadata": {
        "id": "P0HDQHdxzwHh"
      },
      "outputs": [],
      "source": [
        "import pandas as pd\n",
        "import numpy as np\n",
        "import matplotlib.pyplot as plt\n",
        "from sklearn.compose import ColumnTransformer\n",
        "from sklearn.preprocessing import OneHotEncoder, StandardScaler\n",
        "from sklearn.pipeline import Pipeline\n",
        "from sklearn.model_selection import GridSearchCV\n",
        "from sklearn.metrics import ConfusionMatrixDisplay\n",
        "from sklearn.metrics import accuracy_score, precision_score, recall_score, f1_score, confusion_matrix\n",
        "from sklearn.linear_model import LogisticRegression\n",
        "from sklearn.metrics import mean_squared_error, mean_absolute_error, r2_score, confusion_matrix, classification_report\n",
        "from sklearn.model_selection import train_test_split\n",
        "from sklearn.decomposition import PCA\n",
        "from sklearn.linear_model import LinearRegression, LogisticRegression\n",
        "from imblearn.over_sampling import RandomOverSampler\n",
        "from imblearn.under_sampling import RandomUnderSampler\n",
        "\n",
        "from keras.models import Sequential\n",
        "from keras.layers import Dense\n",
        "from keras.callbacks import EarlyStopping\n",
        "from tensorflow import keras\n",
        "from tensorflow.keras import layers\n",
        "from tensorflow.keras.utils import to_categorical\n",
        "from tensorflow.keras.layers import Input, Dense, BatchNormalization, Add\n",
        "from tensorflow.keras.models import Model\n",
        "from tensorflow.keras import layers\n",
        "from tensorflow.keras.utils import to_categorical\n",
        "\n",
        "import warnings\n",
        "warnings.filterwarnings('ignore')"
      ]
    },
    {
      "cell_type": "markdown",
      "source": [
        "#Loading the dataset"
      ],
      "metadata": {
        "id": "5yMeDGos1euX"
      }
    },
    {
      "cell_type": "code",
      "source": [
        "from google.colab import drive\n",
        "drive.mount('/content/drive')"
      ],
      "metadata": {
        "colab": {
          "base_uri": "https://localhost:8080/"
        },
        "id": "E9NXBwcx2KaZ",
        "outputId": "a8e86913-001e-417e-883f-4dc62cf0c728"
      },
      "execution_count": 164,
      "outputs": [
        {
          "output_type": "stream",
          "name": "stdout",
          "text": [
            "Drive already mounted at /content/drive; to attempt to forcibly remount, call drive.mount(\"/content/drive\", force_remount=True).\n"
          ]
        }
      ]
    },
    {
      "cell_type": "code",
      "source": [
        "data = pd.read_csv('/content/drive/MyDrive/Classroom/IntroductionToDataMining/deliveries.csv')"
      ],
      "metadata": {
        "id": "8d3BCkWx0RrO"
      },
      "execution_count": 165,
      "outputs": []
    },
    {
      "cell_type": "code",
      "source": [
        "data.head()"
      ],
      "metadata": {
        "colab": {
          "base_uri": "https://localhost:8080/",
          "height": 515
        },
        "id": "MYoTS-UL1dUm",
        "outputId": "a3aa3b75-046c-4ac9-db2f-ff33221c04b2"
      },
      "execution_count": 166,
      "outputs": [
        {
          "output_type": "execute_result",
          "data": {
            "text/plain": [
              "   match_id   season  start_date                             venue  innings  \\\n",
              "0         1  2023/24  2023-10-05  Narendra Modi Stadium, Ahmedabad        1   \n",
              "1         1  2023/24  2023-10-05  Narendra Modi Stadium, Ahmedabad        1   \n",
              "2         1  2023/24  2023-10-05  Narendra Modi Stadium, Ahmedabad        1   \n",
              "3         1  2023/24  2023-10-05  Narendra Modi Stadium, Ahmedabad        1   \n",
              "4         1  2023/24  2023-10-05  Narendra Modi Stadium, Ahmedabad        1   \n",
              "\n",
              "   ball batting_team bowling_team      striker  non_striker  ... extras  \\\n",
              "0   0.1      England  New Zealand  JM Bairstow     DJ Malan  ...      0   \n",
              "1   0.2      England  New Zealand  JM Bairstow     DJ Malan  ...      0   \n",
              "2   0.3      England  New Zealand  JM Bairstow     DJ Malan  ...      0   \n",
              "3   0.4      England  New Zealand     DJ Malan  JM Bairstow  ...      0   \n",
              "4   0.5      England  New Zealand  JM Bairstow     DJ Malan  ...      0   \n",
              "\n",
              "   wides  noballs  byes  legbyes  penalty  wicket_type  player_dismissed  \\\n",
              "0    NaN      NaN   NaN      NaN      NaN          NaN               NaN   \n",
              "1    NaN      NaN   NaN      NaN      NaN          NaN               NaN   \n",
              "2    NaN      NaN   NaN      NaN      NaN          NaN               NaN   \n",
              "3    NaN      NaN   NaN      NaN      NaN          NaN               NaN   \n",
              "4    NaN      NaN   NaN      NaN      NaN          NaN               NaN   \n",
              "\n",
              "  other_wicket_type other_player_dismissed  \n",
              "0               NaN                    NaN  \n",
              "1               NaN                    NaN  \n",
              "2               NaN                    NaN  \n",
              "3               NaN                    NaN  \n",
              "4               NaN                    NaN  \n",
              "\n",
              "[5 rows x 22 columns]"
            ],
            "text/html": [
              "\n",
              "  <div id=\"df-06845311-b3b7-4a9a-a606-5f00711aaccd\" class=\"colab-df-container\">\n",
              "    <div>\n",
              "<style scoped>\n",
              "    .dataframe tbody tr th:only-of-type {\n",
              "        vertical-align: middle;\n",
              "    }\n",
              "\n",
              "    .dataframe tbody tr th {\n",
              "        vertical-align: top;\n",
              "    }\n",
              "\n",
              "    .dataframe thead th {\n",
              "        text-align: right;\n",
              "    }\n",
              "</style>\n",
              "<table border=\"1\" class=\"dataframe\">\n",
              "  <thead>\n",
              "    <tr style=\"text-align: right;\">\n",
              "      <th></th>\n",
              "      <th>match_id</th>\n",
              "      <th>season</th>\n",
              "      <th>start_date</th>\n",
              "      <th>venue</th>\n",
              "      <th>innings</th>\n",
              "      <th>ball</th>\n",
              "      <th>batting_team</th>\n",
              "      <th>bowling_team</th>\n",
              "      <th>striker</th>\n",
              "      <th>non_striker</th>\n",
              "      <th>...</th>\n",
              "      <th>extras</th>\n",
              "      <th>wides</th>\n",
              "      <th>noballs</th>\n",
              "      <th>byes</th>\n",
              "      <th>legbyes</th>\n",
              "      <th>penalty</th>\n",
              "      <th>wicket_type</th>\n",
              "      <th>player_dismissed</th>\n",
              "      <th>other_wicket_type</th>\n",
              "      <th>other_player_dismissed</th>\n",
              "    </tr>\n",
              "  </thead>\n",
              "  <tbody>\n",
              "    <tr>\n",
              "      <th>0</th>\n",
              "      <td>1</td>\n",
              "      <td>2023/24</td>\n",
              "      <td>2023-10-05</td>\n",
              "      <td>Narendra Modi Stadium, Ahmedabad</td>\n",
              "      <td>1</td>\n",
              "      <td>0.1</td>\n",
              "      <td>England</td>\n",
              "      <td>New Zealand</td>\n",
              "      <td>JM Bairstow</td>\n",
              "      <td>DJ Malan</td>\n",
              "      <td>...</td>\n",
              "      <td>0</td>\n",
              "      <td>NaN</td>\n",
              "      <td>NaN</td>\n",
              "      <td>NaN</td>\n",
              "      <td>NaN</td>\n",
              "      <td>NaN</td>\n",
              "      <td>NaN</td>\n",
              "      <td>NaN</td>\n",
              "      <td>NaN</td>\n",
              "      <td>NaN</td>\n",
              "    </tr>\n",
              "    <tr>\n",
              "      <th>1</th>\n",
              "      <td>1</td>\n",
              "      <td>2023/24</td>\n",
              "      <td>2023-10-05</td>\n",
              "      <td>Narendra Modi Stadium, Ahmedabad</td>\n",
              "      <td>1</td>\n",
              "      <td>0.2</td>\n",
              "      <td>England</td>\n",
              "      <td>New Zealand</td>\n",
              "      <td>JM Bairstow</td>\n",
              "      <td>DJ Malan</td>\n",
              "      <td>...</td>\n",
              "      <td>0</td>\n",
              "      <td>NaN</td>\n",
              "      <td>NaN</td>\n",
              "      <td>NaN</td>\n",
              "      <td>NaN</td>\n",
              "      <td>NaN</td>\n",
              "      <td>NaN</td>\n",
              "      <td>NaN</td>\n",
              "      <td>NaN</td>\n",
              "      <td>NaN</td>\n",
              "    </tr>\n",
              "    <tr>\n",
              "      <th>2</th>\n",
              "      <td>1</td>\n",
              "      <td>2023/24</td>\n",
              "      <td>2023-10-05</td>\n",
              "      <td>Narendra Modi Stadium, Ahmedabad</td>\n",
              "      <td>1</td>\n",
              "      <td>0.3</td>\n",
              "      <td>England</td>\n",
              "      <td>New Zealand</td>\n",
              "      <td>JM Bairstow</td>\n",
              "      <td>DJ Malan</td>\n",
              "      <td>...</td>\n",
              "      <td>0</td>\n",
              "      <td>NaN</td>\n",
              "      <td>NaN</td>\n",
              "      <td>NaN</td>\n",
              "      <td>NaN</td>\n",
              "      <td>NaN</td>\n",
              "      <td>NaN</td>\n",
              "      <td>NaN</td>\n",
              "      <td>NaN</td>\n",
              "      <td>NaN</td>\n",
              "    </tr>\n",
              "    <tr>\n",
              "      <th>3</th>\n",
              "      <td>1</td>\n",
              "      <td>2023/24</td>\n",
              "      <td>2023-10-05</td>\n",
              "      <td>Narendra Modi Stadium, Ahmedabad</td>\n",
              "      <td>1</td>\n",
              "      <td>0.4</td>\n",
              "      <td>England</td>\n",
              "      <td>New Zealand</td>\n",
              "      <td>DJ Malan</td>\n",
              "      <td>JM Bairstow</td>\n",
              "      <td>...</td>\n",
              "      <td>0</td>\n",
              "      <td>NaN</td>\n",
              "      <td>NaN</td>\n",
              "      <td>NaN</td>\n",
              "      <td>NaN</td>\n",
              "      <td>NaN</td>\n",
              "      <td>NaN</td>\n",
              "      <td>NaN</td>\n",
              "      <td>NaN</td>\n",
              "      <td>NaN</td>\n",
              "    </tr>\n",
              "    <tr>\n",
              "      <th>4</th>\n",
              "      <td>1</td>\n",
              "      <td>2023/24</td>\n",
              "      <td>2023-10-05</td>\n",
              "      <td>Narendra Modi Stadium, Ahmedabad</td>\n",
              "      <td>1</td>\n",
              "      <td>0.5</td>\n",
              "      <td>England</td>\n",
              "      <td>New Zealand</td>\n",
              "      <td>JM Bairstow</td>\n",
              "      <td>DJ Malan</td>\n",
              "      <td>...</td>\n",
              "      <td>0</td>\n",
              "      <td>NaN</td>\n",
              "      <td>NaN</td>\n",
              "      <td>NaN</td>\n",
              "      <td>NaN</td>\n",
              "      <td>NaN</td>\n",
              "      <td>NaN</td>\n",
              "      <td>NaN</td>\n",
              "      <td>NaN</td>\n",
              "      <td>NaN</td>\n",
              "    </tr>\n",
              "  </tbody>\n",
              "</table>\n",
              "<p>5 rows × 22 columns</p>\n",
              "</div>\n",
              "    <div class=\"colab-df-buttons\">\n",
              "\n",
              "  <div class=\"colab-df-container\">\n",
              "    <button class=\"colab-df-convert\" onclick=\"convertToInteractive('df-06845311-b3b7-4a9a-a606-5f00711aaccd')\"\n",
              "            title=\"Convert this dataframe to an interactive table.\"\n",
              "            style=\"display:none;\">\n",
              "\n",
              "  <svg xmlns=\"http://www.w3.org/2000/svg\" height=\"24px\" viewBox=\"0 -960 960 960\">\n",
              "    <path d=\"M120-120v-720h720v720H120Zm60-500h600v-160H180v160Zm220 220h160v-160H400v160Zm0 220h160v-160H400v160ZM180-400h160v-160H180v160Zm440 0h160v-160H620v160ZM180-180h160v-160H180v160Zm440 0h160v-160H620v160Z\"/>\n",
              "  </svg>\n",
              "    </button>\n",
              "\n",
              "  <style>\n",
              "    .colab-df-container {\n",
              "      display:flex;\n",
              "      gap: 12px;\n",
              "    }\n",
              "\n",
              "    .colab-df-convert {\n",
              "      background-color: #E8F0FE;\n",
              "      border: none;\n",
              "      border-radius: 50%;\n",
              "      cursor: pointer;\n",
              "      display: none;\n",
              "      fill: #1967D2;\n",
              "      height: 32px;\n",
              "      padding: 0 0 0 0;\n",
              "      width: 32px;\n",
              "    }\n",
              "\n",
              "    .colab-df-convert:hover {\n",
              "      background-color: #E2EBFA;\n",
              "      box-shadow: 0px 1px 2px rgba(60, 64, 67, 0.3), 0px 1px 3px 1px rgba(60, 64, 67, 0.15);\n",
              "      fill: #174EA6;\n",
              "    }\n",
              "\n",
              "    .colab-df-buttons div {\n",
              "      margin-bottom: 4px;\n",
              "    }\n",
              "\n",
              "    [theme=dark] .colab-df-convert {\n",
              "      background-color: #3B4455;\n",
              "      fill: #D2E3FC;\n",
              "    }\n",
              "\n",
              "    [theme=dark] .colab-df-convert:hover {\n",
              "      background-color: #434B5C;\n",
              "      box-shadow: 0px 1px 3px 1px rgba(0, 0, 0, 0.15);\n",
              "      filter: drop-shadow(0px 1px 2px rgba(0, 0, 0, 0.3));\n",
              "      fill: #FFFFFF;\n",
              "    }\n",
              "  </style>\n",
              "\n",
              "    <script>\n",
              "      const buttonEl =\n",
              "        document.querySelector('#df-06845311-b3b7-4a9a-a606-5f00711aaccd button.colab-df-convert');\n",
              "      buttonEl.style.display =\n",
              "        google.colab.kernel.accessAllowed ? 'block' : 'none';\n",
              "\n",
              "      async function convertToInteractive(key) {\n",
              "        const element = document.querySelector('#df-06845311-b3b7-4a9a-a606-5f00711aaccd');\n",
              "        const dataTable =\n",
              "          await google.colab.kernel.invokeFunction('convertToInteractive',\n",
              "                                                    [key], {});\n",
              "        if (!dataTable) return;\n",
              "\n",
              "        const docLinkHtml = 'Like what you see? Visit the ' +\n",
              "          '<a target=\"_blank\" href=https://colab.research.google.com/notebooks/data_table.ipynb>data table notebook</a>'\n",
              "          + ' to learn more about interactive tables.';\n",
              "        element.innerHTML = '';\n",
              "        dataTable['output_type'] = 'display_data';\n",
              "        await google.colab.output.renderOutput(dataTable, element);\n",
              "        const docLink = document.createElement('div');\n",
              "        docLink.innerHTML = docLinkHtml;\n",
              "        element.appendChild(docLink);\n",
              "      }\n",
              "    </script>\n",
              "  </div>\n",
              "\n",
              "\n",
              "<div id=\"df-b0c2bd28-1775-4d7e-acd7-6c7609a1abb8\">\n",
              "  <button class=\"colab-df-quickchart\" onclick=\"quickchart('df-b0c2bd28-1775-4d7e-acd7-6c7609a1abb8')\"\n",
              "            title=\"Suggest charts\"\n",
              "            style=\"display:none;\">\n",
              "\n",
              "<svg xmlns=\"http://www.w3.org/2000/svg\" height=\"24px\"viewBox=\"0 0 24 24\"\n",
              "     width=\"24px\">\n",
              "    <g>\n",
              "        <path d=\"M19 3H5c-1.1 0-2 .9-2 2v14c0 1.1.9 2 2 2h14c1.1 0 2-.9 2-2V5c0-1.1-.9-2-2-2zM9 17H7v-7h2v7zm4 0h-2V7h2v10zm4 0h-2v-4h2v4z\"/>\n",
              "    </g>\n",
              "</svg>\n",
              "  </button>\n",
              "\n",
              "<style>\n",
              "  .colab-df-quickchart {\n",
              "      --bg-color: #E8F0FE;\n",
              "      --fill-color: #1967D2;\n",
              "      --hover-bg-color: #E2EBFA;\n",
              "      --hover-fill-color: #174EA6;\n",
              "      --disabled-fill-color: #AAA;\n",
              "      --disabled-bg-color: #DDD;\n",
              "  }\n",
              "\n",
              "  [theme=dark] .colab-df-quickchart {\n",
              "      --bg-color: #3B4455;\n",
              "      --fill-color: #D2E3FC;\n",
              "      --hover-bg-color: #434B5C;\n",
              "      --hover-fill-color: #FFFFFF;\n",
              "      --disabled-bg-color: #3B4455;\n",
              "      --disabled-fill-color: #666;\n",
              "  }\n",
              "\n",
              "  .colab-df-quickchart {\n",
              "    background-color: var(--bg-color);\n",
              "    border: none;\n",
              "    border-radius: 50%;\n",
              "    cursor: pointer;\n",
              "    display: none;\n",
              "    fill: var(--fill-color);\n",
              "    height: 32px;\n",
              "    padding: 0;\n",
              "    width: 32px;\n",
              "  }\n",
              "\n",
              "  .colab-df-quickchart:hover {\n",
              "    background-color: var(--hover-bg-color);\n",
              "    box-shadow: 0 1px 2px rgba(60, 64, 67, 0.3), 0 1px 3px 1px rgba(60, 64, 67, 0.15);\n",
              "    fill: var(--button-hover-fill-color);\n",
              "  }\n",
              "\n",
              "  .colab-df-quickchart-complete:disabled,\n",
              "  .colab-df-quickchart-complete:disabled:hover {\n",
              "    background-color: var(--disabled-bg-color);\n",
              "    fill: var(--disabled-fill-color);\n",
              "    box-shadow: none;\n",
              "  }\n",
              "\n",
              "  .colab-df-spinner {\n",
              "    border: 2px solid var(--fill-color);\n",
              "    border-color: transparent;\n",
              "    border-bottom-color: var(--fill-color);\n",
              "    animation:\n",
              "      spin 1s steps(1) infinite;\n",
              "  }\n",
              "\n",
              "  @keyframes spin {\n",
              "    0% {\n",
              "      border-color: transparent;\n",
              "      border-bottom-color: var(--fill-color);\n",
              "      border-left-color: var(--fill-color);\n",
              "    }\n",
              "    20% {\n",
              "      border-color: transparent;\n",
              "      border-left-color: var(--fill-color);\n",
              "      border-top-color: var(--fill-color);\n",
              "    }\n",
              "    30% {\n",
              "      border-color: transparent;\n",
              "      border-left-color: var(--fill-color);\n",
              "      border-top-color: var(--fill-color);\n",
              "      border-right-color: var(--fill-color);\n",
              "    }\n",
              "    40% {\n",
              "      border-color: transparent;\n",
              "      border-right-color: var(--fill-color);\n",
              "      border-top-color: var(--fill-color);\n",
              "    }\n",
              "    60% {\n",
              "      border-color: transparent;\n",
              "      border-right-color: var(--fill-color);\n",
              "    }\n",
              "    80% {\n",
              "      border-color: transparent;\n",
              "      border-right-color: var(--fill-color);\n",
              "      border-bottom-color: var(--fill-color);\n",
              "    }\n",
              "    90% {\n",
              "      border-color: transparent;\n",
              "      border-bottom-color: var(--fill-color);\n",
              "    }\n",
              "  }\n",
              "</style>\n",
              "\n",
              "  <script>\n",
              "    async function quickchart(key) {\n",
              "      const quickchartButtonEl =\n",
              "        document.querySelector('#' + key + ' button');\n",
              "      quickchartButtonEl.disabled = true;  // To prevent multiple clicks.\n",
              "      quickchartButtonEl.classList.add('colab-df-spinner');\n",
              "      try {\n",
              "        const charts = await google.colab.kernel.invokeFunction(\n",
              "            'suggestCharts', [key], {});\n",
              "      } catch (error) {\n",
              "        console.error('Error during call to suggestCharts:', error);\n",
              "      }\n",
              "      quickchartButtonEl.classList.remove('colab-df-spinner');\n",
              "      quickchartButtonEl.classList.add('colab-df-quickchart-complete');\n",
              "    }\n",
              "    (() => {\n",
              "      let quickchartButtonEl =\n",
              "        document.querySelector('#df-b0c2bd28-1775-4d7e-acd7-6c7609a1abb8 button');\n",
              "      quickchartButtonEl.style.display =\n",
              "        google.colab.kernel.accessAllowed ? 'block' : 'none';\n",
              "    })();\n",
              "  </script>\n",
              "</div>\n",
              "    </div>\n",
              "  </div>\n"
            ]
          },
          "metadata": {},
          "execution_count": 166
        }
      ]
    },
    {
      "cell_type": "code",
      "source": [
        "data.shape"
      ],
      "metadata": {
        "colab": {
          "base_uri": "https://localhost:8080/"
        },
        "id": "IzGaSzYl1uPF",
        "outputId": "e0d341e0-3bfa-4f07-bd8f-c7c5df523ac9"
      },
      "execution_count": 167,
      "outputs": [
        {
          "output_type": "execute_result",
          "data": {
            "text/plain": [
              "(17380, 22)"
            ]
          },
          "metadata": {},
          "execution_count": 167
        }
      ]
    },
    {
      "cell_type": "code",
      "source": [
        "data.info()"
      ],
      "metadata": {
        "colab": {
          "base_uri": "https://localhost:8080/"
        },
        "id": "cs-2awrC1xLL",
        "outputId": "167269d9-903d-4245-db51-289258d08c95"
      },
      "execution_count": 168,
      "outputs": [
        {
          "output_type": "stream",
          "name": "stdout",
          "text": [
            "<class 'pandas.core.frame.DataFrame'>\n",
            "RangeIndex: 17380 entries, 0 to 17379\n",
            "Data columns (total 22 columns):\n",
            " #   Column                  Non-Null Count  Dtype  \n",
            "---  ------                  --------------  -----  \n",
            " 0   match_id                17380 non-null  int64  \n",
            " 1   season                  17380 non-null  object \n",
            " 2   start_date              17380 non-null  object \n",
            " 3   venue                   17380 non-null  object \n",
            " 4   innings                 17380 non-null  int64  \n",
            " 5   ball                    17380 non-null  float64\n",
            " 6   batting_team            17380 non-null  object \n",
            " 7   bowling_team            17380 non-null  object \n",
            " 8   striker                 17380 non-null  object \n",
            " 9   non_striker             17380 non-null  object \n",
            " 10  bowler                  17380 non-null  object \n",
            " 11  runs_off_bat            17380 non-null  int64  \n",
            " 12  extras                  17380 non-null  int64  \n",
            " 13  wides                   431 non-null    float64\n",
            " 14  noballs                 42 non-null     float64\n",
            " 15  byes                    26 non-null     float64\n",
            " 16  legbyes                 117 non-null    float64\n",
            " 17  penalty                 1 non-null      float64\n",
            " 18  wicket_type             491 non-null    object \n",
            " 19  player_dismissed        491 non-null    object \n",
            " 20  other_wicket_type       0 non-null      float64\n",
            " 21  other_player_dismissed  0 non-null      float64\n",
            "dtypes: float64(8), int64(4), object(10)\n",
            "memory usage: 2.9+ MB\n"
          ]
        }
      ]
    },
    {
      "cell_type": "markdown",
      "source": [
        "#Preprocessing and Feature Engineering"
      ],
      "metadata": {
        "id": "ATT7RPp6POqt"
      }
    },
    {
      "cell_type": "code",
      "source": [
        "data.duplicated().sum()"
      ],
      "metadata": {
        "colab": {
          "base_uri": "https://localhost:8080/"
        },
        "id": "AV79e7Yu236m",
        "outputId": "87e7dbfc-3670-40f1-e070-54f5e2df4604"
      },
      "execution_count": 169,
      "outputs": [
        {
          "output_type": "execute_result",
          "data": {
            "text/plain": [
              "1"
            ]
          },
          "metadata": {},
          "execution_count": 169
        }
      ]
    },
    {
      "cell_type": "code",
      "source": [
        "data.drop_duplicates(inplace=True)"
      ],
      "metadata": {
        "id": "DzKoMWjL27bS"
      },
      "execution_count": 170,
      "outputs": []
    },
    {
      "cell_type": "code",
      "source": [
        "missing_value_percentage = (data.isnull().sum() / len(data)) * 100\n",
        "print(round(missing_value_percentage, 4))"
      ],
      "metadata": {
        "colab": {
          "base_uri": "https://localhost:8080/"
        },
        "id": "9kmdozZQ3DvF",
        "outputId": "41d79e08-d500-4b35-ec40-7799315676f0"
      },
      "execution_count": 171,
      "outputs": [
        {
          "output_type": "stream",
          "name": "stdout",
          "text": [
            "match_id                    0.0000\n",
            "season                      0.0000\n",
            "start_date                  0.0000\n",
            "venue                       0.0000\n",
            "innings                     0.0000\n",
            "ball                        0.0000\n",
            "batting_team                0.0000\n",
            "bowling_team                0.0000\n",
            "striker                     0.0000\n",
            "non_striker                 0.0000\n",
            "bowler                      0.0000\n",
            "runs_off_bat                0.0000\n",
            "extras                      0.0000\n",
            "wides                      97.5200\n",
            "noballs                    99.7583\n",
            "byes                       99.8504\n",
            "legbyes                    99.3268\n",
            "penalty                    99.9942\n",
            "wicket_type                97.1748\n",
            "player_dismissed           97.1748\n",
            "other_wicket_type         100.0000\n",
            "other_player_dismissed    100.0000\n",
            "dtype: float64\n"
          ]
        }
      ]
    },
    {
      "cell_type": "code",
      "source": [
        "def unique_values_count(data):\n",
        "  for column in data.columns:\n",
        "    unique_values = data[column].unique()\n",
        "    unique_values_without_nan = [value for value in unique_values if pd.notna(value)]\n",
        "    unique_count = len(unique_values_without_nan)\n",
        "    print(f\"Unique values in '{column}': {unique_count}\")\n",
        "\n",
        "    if unique_count > 0 and unique_count <= 10:\n",
        "      print(unique_values_without_nan)"
      ],
      "metadata": {
        "id": "FPRTrYYlpf4r"
      },
      "execution_count": 172,
      "outputs": []
    },
    {
      "cell_type": "code",
      "source": [
        "unique_values_count(data)"
      ],
      "metadata": {
        "colab": {
          "base_uri": "https://localhost:8080/"
        },
        "id": "jePN_BGRpkkz",
        "outputId": "70a202f9-c1da-46ac-afee-4586f59fe40f"
      },
      "execution_count": 173,
      "outputs": [
        {
          "output_type": "stream",
          "name": "stdout",
          "text": [
            "Unique values in 'match_id': 32\n",
            "Unique values in 'season': 1\n",
            "['2023/24']\n",
            "Unique values in 'start_date': 28\n",
            "Unique values in 'venue': 10\n",
            "['Narendra Modi Stadium, Ahmedabad', 'Rajiv Gandhi International Stadium, Uppal, Hyderabad', 'Himachal Pradesh Cricket Association Stadium, Dharamsala', 'Arun Jaitley Stadium, Delhi', 'MA Chidambaram Stadium, Chepauk, Chennai', 'Bharat Ratna Shri Atal Bihari Vajpayee Ekana Cricket Stadium, Lucknow', 'Maharashtra Cricket Association Stadium, Pune', 'M Chinnaswamy Stadium, Bengaluru', 'Wankhede Stadium, Mumbai', 'Eden Gardens, Kolkata']\n",
            "Unique values in 'innings': 2\n",
            "[1, 2]\n",
            "Unique values in 'ball': 389\n",
            "Unique values in 'batting_team': 10\n",
            "['England', 'New Zealand', 'Pakistan', 'Netherlands', 'Afghanistan', 'Bangladesh', 'South Africa', 'Sri Lanka', 'Australia', 'India']\n",
            "Unique values in 'bowling_team': 10\n",
            "['New Zealand', 'England', 'Netherlands', 'Pakistan', 'Bangladesh', 'Afghanistan', 'Sri Lanka', 'South Africa', 'India', 'Australia']\n",
            "Unique values in 'striker': 141\n",
            "Unique values in 'non_striker': 140\n",
            "Unique values in 'bowler': 92\n",
            "Unique values in 'runs_off_bat': 7\n",
            "[0, 6, 1, 4, 2, 3, 5]\n",
            "Unique values in 'extras': 6\n",
            "[0, 1, 3, 4, 5, 2]\n",
            "Unique values in 'wides': 4\n",
            "[1.0, 3.0, 5.0, 2.0]\n",
            "Unique values in 'noballs': 1\n",
            "[1.0]\n",
            "Unique values in 'byes': 4\n",
            "[4.0, 1.0, 2.0, 3.0]\n",
            "Unique values in 'legbyes': 3\n",
            "[1.0, 4.0, 2.0]\n",
            "Unique values in 'penalty': 1\n",
            "[5.0]\n",
            "Unique values in 'wicket_type': 7\n",
            "['caught', 'bowled', 'caught and bowled', 'lbw', 'run out', 'stumped', 'retired hurt']\n",
            "Unique values in 'player_dismissed': 135\n",
            "Unique values in 'other_wicket_type': 0\n",
            "Unique values in 'other_player_dismissed': 0\n"
          ]
        }
      ]
    },
    {
      "cell_type": "markdown",
      "source": [
        "Dropping the columns with either only 1 unique value or no value at all"
      ],
      "metadata": {
        "id": "fUJN5D3CIrS6"
      }
    },
    {
      "cell_type": "code",
      "source": [
        "columns_to_drop = ['season', 'other_wicket_type', 'other_player_dismissed']\n",
        "data.drop(columns_to_drop, axis=1, inplace=True)"
      ],
      "metadata": {
        "id": "O2foJdQd7lRD"
      },
      "execution_count": 174,
      "outputs": []
    },
    {
      "cell_type": "markdown",
      "source": [
        "Renaming player_dismissed column as wicket and assigning 1 if there exist any value else 0"
      ],
      "metadata": {
        "id": "P97VmCOgI0yt"
      }
    },
    {
      "cell_type": "code",
      "source": [
        "data.rename(columns={\"player_dismissed\": \"wicket\"}, inplace=True)\n",
        "data[\"wicket\"] = np.where(data[\"wicket\"].notna(), 1, 0)"
      ],
      "metadata": {
        "id": "MkUb05v2uDqT"
      },
      "execution_count": 175,
      "outputs": []
    },
    {
      "cell_type": "markdown",
      "source": [
        "Replacing the null values with 0"
      ],
      "metadata": {
        "id": "-QGYXGOvJBsL"
      }
    },
    {
      "cell_type": "code",
      "source": [
        "data[[\"wides\", \"noballs\", \"byes\", \"legbyes\", \"penalty\"]] = data[[\"wides\", \"noballs\", \"byes\", \"legbyes\", \"penalty\"]].fillna(0)"
      ],
      "metadata": {
        "id": "dswiK_nUsYbs"
      },
      "execution_count": 176,
      "outputs": []
    },
    {
      "cell_type": "markdown",
      "source": [
        "Replacing the null values with 'no wicket'"
      ],
      "metadata": {
        "id": "v4jCYWf1JFHP"
      }
    },
    {
      "cell_type": "code",
      "source": [
        "data.wicket_type.fillna(\"no wicket\", inplace=True)\n",
        "data.wicket.fillna(\"no wicket\", inplace=True)"
      ],
      "metadata": {
        "id": "D-Arp44R0nFd"
      },
      "execution_count": 177,
      "outputs": []
    },
    {
      "cell_type": "code",
      "source": [
        "data.isna().sum()"
      ],
      "metadata": {
        "colab": {
          "base_uri": "https://localhost:8080/"
        },
        "id": "sfV4gXSSw6QF",
        "outputId": "99a16325-3d35-4edc-e588-3acf21bea1a0"
      },
      "execution_count": 178,
      "outputs": [
        {
          "output_type": "execute_result",
          "data": {
            "text/plain": [
              "match_id        0\n",
              "start_date      0\n",
              "venue           0\n",
              "innings         0\n",
              "ball            0\n",
              "batting_team    0\n",
              "bowling_team    0\n",
              "striker         0\n",
              "non_striker     0\n",
              "bowler          0\n",
              "runs_off_bat    0\n",
              "extras          0\n",
              "wides           0\n",
              "noballs         0\n",
              "byes            0\n",
              "legbyes         0\n",
              "penalty         0\n",
              "wicket_type     0\n",
              "wicket          0\n",
              "dtype: int64"
            ]
          },
          "metadata": {},
          "execution_count": 178
        }
      ]
    },
    {
      "cell_type": "markdown",
      "source": [
        "converting the values in ball column to over and balls_left columns"
      ],
      "metadata": {
        "id": "wkfWcEjmJKRO"
      }
    },
    {
      "cell_type": "code",
      "source": [
        "data[\"ball\"] = data[\"ball\"].astype(str)\n",
        "data[[\"over\", \"ball_num\"]] = data[\"ball\"].str.split(\".\", expand=True).astype(int)\n",
        "data[\"ball\"] = data[\"ball\"].astype(float)\n",
        "data[\"over\"] = data[\"over\"] + 1\n",
        "data[\"balls_left\"] = 306 - (data[\"over\"]*6 + data[\"ball_num\"])"
      ],
      "metadata": {
        "id": "GVfeMCo74D4n"
      },
      "execution_count": 179,
      "outputs": []
    },
    {
      "cell_type": "markdown",
      "source": [
        "Calculating total runs"
      ],
      "metadata": {
        "id": "Q5qFqX_BJUGa"
      }
    },
    {
      "cell_type": "code",
      "source": [
        "data[\"total_runs\"] = data[\"runs_off_bat\"] + data[\"extras\"]"
      ],
      "metadata": {
        "id": "8NLU7sxa9hKG"
      },
      "execution_count": 180,
      "outputs": []
    },
    {
      "cell_type": "markdown",
      "source": [
        "Calculating cumulative runs in one inning"
      ],
      "metadata": {
        "id": "kd-rD79aJXd5"
      }
    },
    {
      "cell_type": "code",
      "source": [
        "data[\"cumulative_runs\"] = data.groupby([\"match_id\", \"innings\"])[\"total_runs\"].cumsum()"
      ],
      "metadata": {
        "id": "yi6jJ1_L9uuU"
      },
      "execution_count": 181,
      "outputs": []
    },
    {
      "cell_type": "markdown",
      "source": [
        "calculating run rate"
      ],
      "metadata": {
        "id": "ReI4-hhRJcPv"
      }
    },
    {
      "cell_type": "code",
      "source": [
        "data['run_rate'] = data.groupby([\"match_id\", \"innings\"]).apply(lambda x: (x['cumulative_runs'] * 6) / (300 - x['balls_left'])).sort_index(level=[0, 1]).values"
      ],
      "metadata": {
        "id": "Aaogyz4090NR"
      },
      "execution_count": 182,
      "outputs": []
    },
    {
      "cell_type": "code",
      "source": [
        "data.head(3)"
      ],
      "metadata": {
        "colab": {
          "base_uri": "https://localhost:8080/",
          "height": 349
        },
        "id": "_9-xtxbQ5Rot",
        "outputId": "d67d9abe-685a-4984-dbb2-9b36d3a7d43f"
      },
      "execution_count": 183,
      "outputs": [
        {
          "output_type": "execute_result",
          "data": {
            "text/plain": [
              "   match_id  start_date                             venue  innings  ball  \\\n",
              "0         1  2023-10-05  Narendra Modi Stadium, Ahmedabad        1   0.1   \n",
              "1         1  2023-10-05  Narendra Modi Stadium, Ahmedabad        1   0.2   \n",
              "2         1  2023-10-05  Narendra Modi Stadium, Ahmedabad        1   0.3   \n",
              "\n",
              "  batting_team bowling_team      striker non_striker    bowler  ...  legbyes  \\\n",
              "0      England  New Zealand  JM Bairstow    DJ Malan  TA Boult  ...      0.0   \n",
              "1      England  New Zealand  JM Bairstow    DJ Malan  TA Boult  ...      0.0   \n",
              "2      England  New Zealand  JM Bairstow    DJ Malan  TA Boult  ...      0.0   \n",
              "\n",
              "   penalty  wicket_type  wicket  over  ball_num  balls_left total_runs  \\\n",
              "0      0.0    no wicket       0     1         1         299          0   \n",
              "1      0.0    no wicket       0     1         2         298          6   \n",
              "2      0.0    no wicket       0     1         3         297          1   \n",
              "\n",
              "   cumulative_runs  run_rate  \n",
              "0                0       0.0  \n",
              "1                6      18.0  \n",
              "2                7      14.0  \n",
              "\n",
              "[3 rows x 25 columns]"
            ],
            "text/html": [
              "\n",
              "  <div id=\"df-cbd06f97-b4b0-4d01-889d-63e3a27f4e45\" class=\"colab-df-container\">\n",
              "    <div>\n",
              "<style scoped>\n",
              "    .dataframe tbody tr th:only-of-type {\n",
              "        vertical-align: middle;\n",
              "    }\n",
              "\n",
              "    .dataframe tbody tr th {\n",
              "        vertical-align: top;\n",
              "    }\n",
              "\n",
              "    .dataframe thead th {\n",
              "        text-align: right;\n",
              "    }\n",
              "</style>\n",
              "<table border=\"1\" class=\"dataframe\">\n",
              "  <thead>\n",
              "    <tr style=\"text-align: right;\">\n",
              "      <th></th>\n",
              "      <th>match_id</th>\n",
              "      <th>start_date</th>\n",
              "      <th>venue</th>\n",
              "      <th>innings</th>\n",
              "      <th>ball</th>\n",
              "      <th>batting_team</th>\n",
              "      <th>bowling_team</th>\n",
              "      <th>striker</th>\n",
              "      <th>non_striker</th>\n",
              "      <th>bowler</th>\n",
              "      <th>...</th>\n",
              "      <th>legbyes</th>\n",
              "      <th>penalty</th>\n",
              "      <th>wicket_type</th>\n",
              "      <th>wicket</th>\n",
              "      <th>over</th>\n",
              "      <th>ball_num</th>\n",
              "      <th>balls_left</th>\n",
              "      <th>total_runs</th>\n",
              "      <th>cumulative_runs</th>\n",
              "      <th>run_rate</th>\n",
              "    </tr>\n",
              "  </thead>\n",
              "  <tbody>\n",
              "    <tr>\n",
              "      <th>0</th>\n",
              "      <td>1</td>\n",
              "      <td>2023-10-05</td>\n",
              "      <td>Narendra Modi Stadium, Ahmedabad</td>\n",
              "      <td>1</td>\n",
              "      <td>0.1</td>\n",
              "      <td>England</td>\n",
              "      <td>New Zealand</td>\n",
              "      <td>JM Bairstow</td>\n",
              "      <td>DJ Malan</td>\n",
              "      <td>TA Boult</td>\n",
              "      <td>...</td>\n",
              "      <td>0.0</td>\n",
              "      <td>0.0</td>\n",
              "      <td>no wicket</td>\n",
              "      <td>0</td>\n",
              "      <td>1</td>\n",
              "      <td>1</td>\n",
              "      <td>299</td>\n",
              "      <td>0</td>\n",
              "      <td>0</td>\n",
              "      <td>0.0</td>\n",
              "    </tr>\n",
              "    <tr>\n",
              "      <th>1</th>\n",
              "      <td>1</td>\n",
              "      <td>2023-10-05</td>\n",
              "      <td>Narendra Modi Stadium, Ahmedabad</td>\n",
              "      <td>1</td>\n",
              "      <td>0.2</td>\n",
              "      <td>England</td>\n",
              "      <td>New Zealand</td>\n",
              "      <td>JM Bairstow</td>\n",
              "      <td>DJ Malan</td>\n",
              "      <td>TA Boult</td>\n",
              "      <td>...</td>\n",
              "      <td>0.0</td>\n",
              "      <td>0.0</td>\n",
              "      <td>no wicket</td>\n",
              "      <td>0</td>\n",
              "      <td>1</td>\n",
              "      <td>2</td>\n",
              "      <td>298</td>\n",
              "      <td>6</td>\n",
              "      <td>6</td>\n",
              "      <td>18.0</td>\n",
              "    </tr>\n",
              "    <tr>\n",
              "      <th>2</th>\n",
              "      <td>1</td>\n",
              "      <td>2023-10-05</td>\n",
              "      <td>Narendra Modi Stadium, Ahmedabad</td>\n",
              "      <td>1</td>\n",
              "      <td>0.3</td>\n",
              "      <td>England</td>\n",
              "      <td>New Zealand</td>\n",
              "      <td>JM Bairstow</td>\n",
              "      <td>DJ Malan</td>\n",
              "      <td>TA Boult</td>\n",
              "      <td>...</td>\n",
              "      <td>0.0</td>\n",
              "      <td>0.0</td>\n",
              "      <td>no wicket</td>\n",
              "      <td>0</td>\n",
              "      <td>1</td>\n",
              "      <td>3</td>\n",
              "      <td>297</td>\n",
              "      <td>1</td>\n",
              "      <td>7</td>\n",
              "      <td>14.0</td>\n",
              "    </tr>\n",
              "  </tbody>\n",
              "</table>\n",
              "<p>3 rows × 25 columns</p>\n",
              "</div>\n",
              "    <div class=\"colab-df-buttons\">\n",
              "\n",
              "  <div class=\"colab-df-container\">\n",
              "    <button class=\"colab-df-convert\" onclick=\"convertToInteractive('df-cbd06f97-b4b0-4d01-889d-63e3a27f4e45')\"\n",
              "            title=\"Convert this dataframe to an interactive table.\"\n",
              "            style=\"display:none;\">\n",
              "\n",
              "  <svg xmlns=\"http://www.w3.org/2000/svg\" height=\"24px\" viewBox=\"0 -960 960 960\">\n",
              "    <path d=\"M120-120v-720h720v720H120Zm60-500h600v-160H180v160Zm220 220h160v-160H400v160Zm0 220h160v-160H400v160ZM180-400h160v-160H180v160Zm440 0h160v-160H620v160ZM180-180h160v-160H180v160Zm440 0h160v-160H620v160Z\"/>\n",
              "  </svg>\n",
              "    </button>\n",
              "\n",
              "  <style>\n",
              "    .colab-df-container {\n",
              "      display:flex;\n",
              "      gap: 12px;\n",
              "    }\n",
              "\n",
              "    .colab-df-convert {\n",
              "      background-color: #E8F0FE;\n",
              "      border: none;\n",
              "      border-radius: 50%;\n",
              "      cursor: pointer;\n",
              "      display: none;\n",
              "      fill: #1967D2;\n",
              "      height: 32px;\n",
              "      padding: 0 0 0 0;\n",
              "      width: 32px;\n",
              "    }\n",
              "\n",
              "    .colab-df-convert:hover {\n",
              "      background-color: #E2EBFA;\n",
              "      box-shadow: 0px 1px 2px rgba(60, 64, 67, 0.3), 0px 1px 3px 1px rgba(60, 64, 67, 0.15);\n",
              "      fill: #174EA6;\n",
              "    }\n",
              "\n",
              "    .colab-df-buttons div {\n",
              "      margin-bottom: 4px;\n",
              "    }\n",
              "\n",
              "    [theme=dark] .colab-df-convert {\n",
              "      background-color: #3B4455;\n",
              "      fill: #D2E3FC;\n",
              "    }\n",
              "\n",
              "    [theme=dark] .colab-df-convert:hover {\n",
              "      background-color: #434B5C;\n",
              "      box-shadow: 0px 1px 3px 1px rgba(0, 0, 0, 0.15);\n",
              "      filter: drop-shadow(0px 1px 2px rgba(0, 0, 0, 0.3));\n",
              "      fill: #FFFFFF;\n",
              "    }\n",
              "  </style>\n",
              "\n",
              "    <script>\n",
              "      const buttonEl =\n",
              "        document.querySelector('#df-cbd06f97-b4b0-4d01-889d-63e3a27f4e45 button.colab-df-convert');\n",
              "      buttonEl.style.display =\n",
              "        google.colab.kernel.accessAllowed ? 'block' : 'none';\n",
              "\n",
              "      async function convertToInteractive(key) {\n",
              "        const element = document.querySelector('#df-cbd06f97-b4b0-4d01-889d-63e3a27f4e45');\n",
              "        const dataTable =\n",
              "          await google.colab.kernel.invokeFunction('convertToInteractive',\n",
              "                                                    [key], {});\n",
              "        if (!dataTable) return;\n",
              "\n",
              "        const docLinkHtml = 'Like what you see? Visit the ' +\n",
              "          '<a target=\"_blank\" href=https://colab.research.google.com/notebooks/data_table.ipynb>data table notebook</a>'\n",
              "          + ' to learn more about interactive tables.';\n",
              "        element.innerHTML = '';\n",
              "        dataTable['output_type'] = 'display_data';\n",
              "        await google.colab.output.renderOutput(dataTable, element);\n",
              "        const docLink = document.createElement('div');\n",
              "        docLink.innerHTML = docLinkHtml;\n",
              "        element.appendChild(docLink);\n",
              "      }\n",
              "    </script>\n",
              "  </div>\n",
              "\n",
              "\n",
              "<div id=\"df-273ac7d6-a2e7-4019-a896-4277a3e17952\">\n",
              "  <button class=\"colab-df-quickchart\" onclick=\"quickchart('df-273ac7d6-a2e7-4019-a896-4277a3e17952')\"\n",
              "            title=\"Suggest charts\"\n",
              "            style=\"display:none;\">\n",
              "\n",
              "<svg xmlns=\"http://www.w3.org/2000/svg\" height=\"24px\"viewBox=\"0 0 24 24\"\n",
              "     width=\"24px\">\n",
              "    <g>\n",
              "        <path d=\"M19 3H5c-1.1 0-2 .9-2 2v14c0 1.1.9 2 2 2h14c1.1 0 2-.9 2-2V5c0-1.1-.9-2-2-2zM9 17H7v-7h2v7zm4 0h-2V7h2v10zm4 0h-2v-4h2v4z\"/>\n",
              "    </g>\n",
              "</svg>\n",
              "  </button>\n",
              "\n",
              "<style>\n",
              "  .colab-df-quickchart {\n",
              "      --bg-color: #E8F0FE;\n",
              "      --fill-color: #1967D2;\n",
              "      --hover-bg-color: #E2EBFA;\n",
              "      --hover-fill-color: #174EA6;\n",
              "      --disabled-fill-color: #AAA;\n",
              "      --disabled-bg-color: #DDD;\n",
              "  }\n",
              "\n",
              "  [theme=dark] .colab-df-quickchart {\n",
              "      --bg-color: #3B4455;\n",
              "      --fill-color: #D2E3FC;\n",
              "      --hover-bg-color: #434B5C;\n",
              "      --hover-fill-color: #FFFFFF;\n",
              "      --disabled-bg-color: #3B4455;\n",
              "      --disabled-fill-color: #666;\n",
              "  }\n",
              "\n",
              "  .colab-df-quickchart {\n",
              "    background-color: var(--bg-color);\n",
              "    border: none;\n",
              "    border-radius: 50%;\n",
              "    cursor: pointer;\n",
              "    display: none;\n",
              "    fill: var(--fill-color);\n",
              "    height: 32px;\n",
              "    padding: 0;\n",
              "    width: 32px;\n",
              "  }\n",
              "\n",
              "  .colab-df-quickchart:hover {\n",
              "    background-color: var(--hover-bg-color);\n",
              "    box-shadow: 0 1px 2px rgba(60, 64, 67, 0.3), 0 1px 3px 1px rgba(60, 64, 67, 0.15);\n",
              "    fill: var(--button-hover-fill-color);\n",
              "  }\n",
              "\n",
              "  .colab-df-quickchart-complete:disabled,\n",
              "  .colab-df-quickchart-complete:disabled:hover {\n",
              "    background-color: var(--disabled-bg-color);\n",
              "    fill: var(--disabled-fill-color);\n",
              "    box-shadow: none;\n",
              "  }\n",
              "\n",
              "  .colab-df-spinner {\n",
              "    border: 2px solid var(--fill-color);\n",
              "    border-color: transparent;\n",
              "    border-bottom-color: var(--fill-color);\n",
              "    animation:\n",
              "      spin 1s steps(1) infinite;\n",
              "  }\n",
              "\n",
              "  @keyframes spin {\n",
              "    0% {\n",
              "      border-color: transparent;\n",
              "      border-bottom-color: var(--fill-color);\n",
              "      border-left-color: var(--fill-color);\n",
              "    }\n",
              "    20% {\n",
              "      border-color: transparent;\n",
              "      border-left-color: var(--fill-color);\n",
              "      border-top-color: var(--fill-color);\n",
              "    }\n",
              "    30% {\n",
              "      border-color: transparent;\n",
              "      border-left-color: var(--fill-color);\n",
              "      border-top-color: var(--fill-color);\n",
              "      border-right-color: var(--fill-color);\n",
              "    }\n",
              "    40% {\n",
              "      border-color: transparent;\n",
              "      border-right-color: var(--fill-color);\n",
              "      border-top-color: var(--fill-color);\n",
              "    }\n",
              "    60% {\n",
              "      border-color: transparent;\n",
              "      border-right-color: var(--fill-color);\n",
              "    }\n",
              "    80% {\n",
              "      border-color: transparent;\n",
              "      border-right-color: var(--fill-color);\n",
              "      border-bottom-color: var(--fill-color);\n",
              "    }\n",
              "    90% {\n",
              "      border-color: transparent;\n",
              "      border-bottom-color: var(--fill-color);\n",
              "    }\n",
              "  }\n",
              "</style>\n",
              "\n",
              "  <script>\n",
              "    async function quickchart(key) {\n",
              "      const quickchartButtonEl =\n",
              "        document.querySelector('#' + key + ' button');\n",
              "      quickchartButtonEl.disabled = true;  // To prevent multiple clicks.\n",
              "      quickchartButtonEl.classList.add('colab-df-spinner');\n",
              "      try {\n",
              "        const charts = await google.colab.kernel.invokeFunction(\n",
              "            'suggestCharts', [key], {});\n",
              "      } catch (error) {\n",
              "        console.error('Error during call to suggestCharts:', error);\n",
              "      }\n",
              "      quickchartButtonEl.classList.remove('colab-df-spinner');\n",
              "      quickchartButtonEl.classList.add('colab-df-quickchart-complete');\n",
              "    }\n",
              "    (() => {\n",
              "      let quickchartButtonEl =\n",
              "        document.querySelector('#df-273ac7d6-a2e7-4019-a896-4277a3e17952 button');\n",
              "      quickchartButtonEl.style.display =\n",
              "        google.colab.kernel.accessAllowed ? 'block' : 'none';\n",
              "    })();\n",
              "  </script>\n",
              "</div>\n",
              "    </div>\n",
              "  </div>\n"
            ]
          },
          "metadata": {},
          "execution_count": 183
        }
      ]
    },
    {
      "cell_type": "markdown",
      "source": [
        "Creating a result column having values as 0 and 1 depending if the value in wicket_type is nan or notna"
      ],
      "metadata": {
        "id": "PKQ_nts_J3Ka"
      }
    },
    {
      "cell_type": "code",
      "source": [
        "specific_values = ['caught', 'bowled', 'caught and bowled', 'lbw', 'run out', 'stumped', 'retired hurt']\n",
        "specific_values_lower = [value.lower() for value in specific_values]\n",
        "\n",
        "data['wicket_new'] = data['wicket_type'].astype(str).fillna('').str.strip()\n",
        "data[\"result\"] = data['wicket_new'].str.lower().isin(specific_values_lower).astype(int)"
      ],
      "metadata": {
        "id": "M6nlZqwwAbBO"
      },
      "execution_count": 188,
      "outputs": []
    },
    {
      "cell_type": "code",
      "source": [
        "result_counts = data['result'].value_counts()\n",
        "print(result_counts)"
      ],
      "metadata": {
        "colab": {
          "base_uri": "https://localhost:8080/"
        },
        "id": "ezsGh0UZOcUD",
        "outputId": "db0f01e1-9dfc-4442-d390-5ce78b62132a"
      },
      "execution_count": 189,
      "outputs": [
        {
          "output_type": "stream",
          "name": "stdout",
          "text": [
            "0    16888\n",
            "1      491\n",
            "Name: result, dtype: int64\n"
          ]
        }
      ]
    },
    {
      "cell_type": "markdown",
      "source": [
        "Calculating target runs for the team in 2nd innings"
      ],
      "metadata": {
        "id": "de8vRhwqKFsi"
      }
    },
    {
      "cell_type": "code",
      "source": [
        "target_runs = data[data[\"innings\"] == 1].groupby(\"match_id\")[\"cumulative_runs\"].max().reset_index()\n",
        "target_runs.rename(columns={\"cumulative_runs\": \"target_runs\"}, inplace=True)\n",
        "\n",
        "data = data.merge(target_runs, on=\"match_id\", how=\"left\")"
      ],
      "metadata": {
        "id": "USMEa_BeoJqB"
      },
      "execution_count": 190,
      "outputs": []
    },
    {
      "cell_type": "code",
      "source": [
        "data.loc[data['innings'] == 1, 'target_runs'] = 0\n",
        "data.loc[data['innings'] == 2, 'target_runs'] += 1"
      ],
      "metadata": {
        "id": "6Z-h48O1oMlY"
      },
      "execution_count": 191,
      "outputs": []
    },
    {
      "cell_type": "code",
      "source": [
        "print(data['target_runs'].unique())"
      ],
      "metadata": {
        "colab": {
          "base_uri": "https://localhost:8080/"
        },
        "id": "GM9CbHHnlcL2",
        "outputId": "78223426-385f-4609-a6fb-c7442de62860"
      },
      "execution_count": 192,
      "outputs": [
        {
          "output_type": "stream",
          "name": "stdout",
          "text": [
            "[  0 283 287 157 429 200 323 365 345 273 246 192 285 210 289 257 368 263\n",
            " 400 274 312 383 271 389 230 242 205 358]\n"
          ]
        }
      ]
    },
    {
      "cell_type": "code",
      "source": [
        "data.loc[data['target_runs'] > 0, ['target_runs', 'cumulative_runs', 'balls_left']]"
      ],
      "metadata": {
        "colab": {
          "base_uri": "https://localhost:8080/",
          "height": 423
        },
        "id": "rd_CiwHBiSxJ",
        "outputId": "ae43675b-62c9-4c55-8530-ddb2bb5d23bb"
      },
      "execution_count": 193,
      "outputs": [
        {
          "output_type": "execute_result",
          "data": {
            "text/plain": [
              "       target_runs  cumulative_runs  balls_left\n",
              "304            283                4         299\n",
              "305            283                4         298\n",
              "306            283                4         297\n",
              "307            283                6         296\n",
              "308            283               10         295\n",
              "...            ...              ...         ...\n",
              "17374          358              161          91\n",
              "17375          358              161          90\n",
              "17376          358              161          89\n",
              "17377          358              167          88\n",
              "17378          358              167          87\n",
              "\n",
              "[7887 rows x 3 columns]"
            ],
            "text/html": [
              "\n",
              "  <div id=\"df-80994763-1faa-4cc7-9c6f-9afb2ae8b032\" class=\"colab-df-container\">\n",
              "    <div>\n",
              "<style scoped>\n",
              "    .dataframe tbody tr th:only-of-type {\n",
              "        vertical-align: middle;\n",
              "    }\n",
              "\n",
              "    .dataframe tbody tr th {\n",
              "        vertical-align: top;\n",
              "    }\n",
              "\n",
              "    .dataframe thead th {\n",
              "        text-align: right;\n",
              "    }\n",
              "</style>\n",
              "<table border=\"1\" class=\"dataframe\">\n",
              "  <thead>\n",
              "    <tr style=\"text-align: right;\">\n",
              "      <th></th>\n",
              "      <th>target_runs</th>\n",
              "      <th>cumulative_runs</th>\n",
              "      <th>balls_left</th>\n",
              "    </tr>\n",
              "  </thead>\n",
              "  <tbody>\n",
              "    <tr>\n",
              "      <th>304</th>\n",
              "      <td>283</td>\n",
              "      <td>4</td>\n",
              "      <td>299</td>\n",
              "    </tr>\n",
              "    <tr>\n",
              "      <th>305</th>\n",
              "      <td>283</td>\n",
              "      <td>4</td>\n",
              "      <td>298</td>\n",
              "    </tr>\n",
              "    <tr>\n",
              "      <th>306</th>\n",
              "      <td>283</td>\n",
              "      <td>4</td>\n",
              "      <td>297</td>\n",
              "    </tr>\n",
              "    <tr>\n",
              "      <th>307</th>\n",
              "      <td>283</td>\n",
              "      <td>6</td>\n",
              "      <td>296</td>\n",
              "    </tr>\n",
              "    <tr>\n",
              "      <th>308</th>\n",
              "      <td>283</td>\n",
              "      <td>10</td>\n",
              "      <td>295</td>\n",
              "    </tr>\n",
              "    <tr>\n",
              "      <th>...</th>\n",
              "      <td>...</td>\n",
              "      <td>...</td>\n",
              "      <td>...</td>\n",
              "    </tr>\n",
              "    <tr>\n",
              "      <th>17374</th>\n",
              "      <td>358</td>\n",
              "      <td>161</td>\n",
              "      <td>91</td>\n",
              "    </tr>\n",
              "    <tr>\n",
              "      <th>17375</th>\n",
              "      <td>358</td>\n",
              "      <td>161</td>\n",
              "      <td>90</td>\n",
              "    </tr>\n",
              "    <tr>\n",
              "      <th>17376</th>\n",
              "      <td>358</td>\n",
              "      <td>161</td>\n",
              "      <td>89</td>\n",
              "    </tr>\n",
              "    <tr>\n",
              "      <th>17377</th>\n",
              "      <td>358</td>\n",
              "      <td>167</td>\n",
              "      <td>88</td>\n",
              "    </tr>\n",
              "    <tr>\n",
              "      <th>17378</th>\n",
              "      <td>358</td>\n",
              "      <td>167</td>\n",
              "      <td>87</td>\n",
              "    </tr>\n",
              "  </tbody>\n",
              "</table>\n",
              "<p>7887 rows × 3 columns</p>\n",
              "</div>\n",
              "    <div class=\"colab-df-buttons\">\n",
              "\n",
              "  <div class=\"colab-df-container\">\n",
              "    <button class=\"colab-df-convert\" onclick=\"convertToInteractive('df-80994763-1faa-4cc7-9c6f-9afb2ae8b032')\"\n",
              "            title=\"Convert this dataframe to an interactive table.\"\n",
              "            style=\"display:none;\">\n",
              "\n",
              "  <svg xmlns=\"http://www.w3.org/2000/svg\" height=\"24px\" viewBox=\"0 -960 960 960\">\n",
              "    <path d=\"M120-120v-720h720v720H120Zm60-500h600v-160H180v160Zm220 220h160v-160H400v160Zm0 220h160v-160H400v160ZM180-400h160v-160H180v160Zm440 0h160v-160H620v160ZM180-180h160v-160H180v160Zm440 0h160v-160H620v160Z\"/>\n",
              "  </svg>\n",
              "    </button>\n",
              "\n",
              "  <style>\n",
              "    .colab-df-container {\n",
              "      display:flex;\n",
              "      gap: 12px;\n",
              "    }\n",
              "\n",
              "    .colab-df-convert {\n",
              "      background-color: #E8F0FE;\n",
              "      border: none;\n",
              "      border-radius: 50%;\n",
              "      cursor: pointer;\n",
              "      display: none;\n",
              "      fill: #1967D2;\n",
              "      height: 32px;\n",
              "      padding: 0 0 0 0;\n",
              "      width: 32px;\n",
              "    }\n",
              "\n",
              "    .colab-df-convert:hover {\n",
              "      background-color: #E2EBFA;\n",
              "      box-shadow: 0px 1px 2px rgba(60, 64, 67, 0.3), 0px 1px 3px 1px rgba(60, 64, 67, 0.15);\n",
              "      fill: #174EA6;\n",
              "    }\n",
              "\n",
              "    .colab-df-buttons div {\n",
              "      margin-bottom: 4px;\n",
              "    }\n",
              "\n",
              "    [theme=dark] .colab-df-convert {\n",
              "      background-color: #3B4455;\n",
              "      fill: #D2E3FC;\n",
              "    }\n",
              "\n",
              "    [theme=dark] .colab-df-convert:hover {\n",
              "      background-color: #434B5C;\n",
              "      box-shadow: 0px 1px 3px 1px rgba(0, 0, 0, 0.15);\n",
              "      filter: drop-shadow(0px 1px 2px rgba(0, 0, 0, 0.3));\n",
              "      fill: #FFFFFF;\n",
              "    }\n",
              "  </style>\n",
              "\n",
              "    <script>\n",
              "      const buttonEl =\n",
              "        document.querySelector('#df-80994763-1faa-4cc7-9c6f-9afb2ae8b032 button.colab-df-convert');\n",
              "      buttonEl.style.display =\n",
              "        google.colab.kernel.accessAllowed ? 'block' : 'none';\n",
              "\n",
              "      async function convertToInteractive(key) {\n",
              "        const element = document.querySelector('#df-80994763-1faa-4cc7-9c6f-9afb2ae8b032');\n",
              "        const dataTable =\n",
              "          await google.colab.kernel.invokeFunction('convertToInteractive',\n",
              "                                                    [key], {});\n",
              "        if (!dataTable) return;\n",
              "\n",
              "        const docLinkHtml = 'Like what you see? Visit the ' +\n",
              "          '<a target=\"_blank\" href=https://colab.research.google.com/notebooks/data_table.ipynb>data table notebook</a>'\n",
              "          + ' to learn more about interactive tables.';\n",
              "        element.innerHTML = '';\n",
              "        dataTable['output_type'] = 'display_data';\n",
              "        await google.colab.output.renderOutput(dataTable, element);\n",
              "        const docLink = document.createElement('div');\n",
              "        docLink.innerHTML = docLinkHtml;\n",
              "        element.appendChild(docLink);\n",
              "      }\n",
              "    </script>\n",
              "  </div>\n",
              "\n",
              "\n",
              "<div id=\"df-809e67dc-6a31-4c79-a0f8-553be58bfa6a\">\n",
              "  <button class=\"colab-df-quickchart\" onclick=\"quickchart('df-809e67dc-6a31-4c79-a0f8-553be58bfa6a')\"\n",
              "            title=\"Suggest charts\"\n",
              "            style=\"display:none;\">\n",
              "\n",
              "<svg xmlns=\"http://www.w3.org/2000/svg\" height=\"24px\"viewBox=\"0 0 24 24\"\n",
              "     width=\"24px\">\n",
              "    <g>\n",
              "        <path d=\"M19 3H5c-1.1 0-2 .9-2 2v14c0 1.1.9 2 2 2h14c1.1 0 2-.9 2-2V5c0-1.1-.9-2-2-2zM9 17H7v-7h2v7zm4 0h-2V7h2v10zm4 0h-2v-4h2v4z\"/>\n",
              "    </g>\n",
              "</svg>\n",
              "  </button>\n",
              "\n",
              "<style>\n",
              "  .colab-df-quickchart {\n",
              "      --bg-color: #E8F0FE;\n",
              "      --fill-color: #1967D2;\n",
              "      --hover-bg-color: #E2EBFA;\n",
              "      --hover-fill-color: #174EA6;\n",
              "      --disabled-fill-color: #AAA;\n",
              "      --disabled-bg-color: #DDD;\n",
              "  }\n",
              "\n",
              "  [theme=dark] .colab-df-quickchart {\n",
              "      --bg-color: #3B4455;\n",
              "      --fill-color: #D2E3FC;\n",
              "      --hover-bg-color: #434B5C;\n",
              "      --hover-fill-color: #FFFFFF;\n",
              "      --disabled-bg-color: #3B4455;\n",
              "      --disabled-fill-color: #666;\n",
              "  }\n",
              "\n",
              "  .colab-df-quickchart {\n",
              "    background-color: var(--bg-color);\n",
              "    border: none;\n",
              "    border-radius: 50%;\n",
              "    cursor: pointer;\n",
              "    display: none;\n",
              "    fill: var(--fill-color);\n",
              "    height: 32px;\n",
              "    padding: 0;\n",
              "    width: 32px;\n",
              "  }\n",
              "\n",
              "  .colab-df-quickchart:hover {\n",
              "    background-color: var(--hover-bg-color);\n",
              "    box-shadow: 0 1px 2px rgba(60, 64, 67, 0.3), 0 1px 3px 1px rgba(60, 64, 67, 0.15);\n",
              "    fill: var(--button-hover-fill-color);\n",
              "  }\n",
              "\n",
              "  .colab-df-quickchart-complete:disabled,\n",
              "  .colab-df-quickchart-complete:disabled:hover {\n",
              "    background-color: var(--disabled-bg-color);\n",
              "    fill: var(--disabled-fill-color);\n",
              "    box-shadow: none;\n",
              "  }\n",
              "\n",
              "  .colab-df-spinner {\n",
              "    border: 2px solid var(--fill-color);\n",
              "    border-color: transparent;\n",
              "    border-bottom-color: var(--fill-color);\n",
              "    animation:\n",
              "      spin 1s steps(1) infinite;\n",
              "  }\n",
              "\n",
              "  @keyframes spin {\n",
              "    0% {\n",
              "      border-color: transparent;\n",
              "      border-bottom-color: var(--fill-color);\n",
              "      border-left-color: var(--fill-color);\n",
              "    }\n",
              "    20% {\n",
              "      border-color: transparent;\n",
              "      border-left-color: var(--fill-color);\n",
              "      border-top-color: var(--fill-color);\n",
              "    }\n",
              "    30% {\n",
              "      border-color: transparent;\n",
              "      border-left-color: var(--fill-color);\n",
              "      border-top-color: var(--fill-color);\n",
              "      border-right-color: var(--fill-color);\n",
              "    }\n",
              "    40% {\n",
              "      border-color: transparent;\n",
              "      border-right-color: var(--fill-color);\n",
              "      border-top-color: var(--fill-color);\n",
              "    }\n",
              "    60% {\n",
              "      border-color: transparent;\n",
              "      border-right-color: var(--fill-color);\n",
              "    }\n",
              "    80% {\n",
              "      border-color: transparent;\n",
              "      border-right-color: var(--fill-color);\n",
              "      border-bottom-color: var(--fill-color);\n",
              "    }\n",
              "    90% {\n",
              "      border-color: transparent;\n",
              "      border-bottom-color: var(--fill-color);\n",
              "    }\n",
              "  }\n",
              "</style>\n",
              "\n",
              "  <script>\n",
              "    async function quickchart(key) {\n",
              "      const quickchartButtonEl =\n",
              "        document.querySelector('#' + key + ' button');\n",
              "      quickchartButtonEl.disabled = true;  // To prevent multiple clicks.\n",
              "      quickchartButtonEl.classList.add('colab-df-spinner');\n",
              "      try {\n",
              "        const charts = await google.colab.kernel.invokeFunction(\n",
              "            'suggestCharts', [key], {});\n",
              "      } catch (error) {\n",
              "        console.error('Error during call to suggestCharts:', error);\n",
              "      }\n",
              "      quickchartButtonEl.classList.remove('colab-df-spinner');\n",
              "      quickchartButtonEl.classList.add('colab-df-quickchart-complete');\n",
              "    }\n",
              "    (() => {\n",
              "      let quickchartButtonEl =\n",
              "        document.querySelector('#df-809e67dc-6a31-4c79-a0f8-553be58bfa6a button');\n",
              "      quickchartButtonEl.style.display =\n",
              "        google.colab.kernel.accessAllowed ? 'block' : 'none';\n",
              "    })();\n",
              "  </script>\n",
              "</div>\n",
              "    </div>\n",
              "  </div>\n"
            ]
          },
          "metadata": {},
          "execution_count": 193
        }
      ]
    },
    {
      "cell_type": "markdown",
      "source": [
        "Calculating required runs and required run rate"
      ],
      "metadata": {
        "id": "M0IyvTUCKVH3"
      }
    },
    {
      "cell_type": "code",
      "source": [
        "mask = data['target_runs'] > 0\n",
        "print(mask.sum())\n",
        "\n",
        "data.loc[mask, 'req_runs'] = data.loc[mask, 'target_runs'] - data.loc[mask, 'cumulative_runs']\n",
        "data.loc[mask, 'req_rr'] = (data.loc[mask, 'req_runs'] * 6) / data.loc[mask, 'balls_left']\n",
        "\n",
        "print(data.isna().sum())"
      ],
      "metadata": {
        "colab": {
          "base_uri": "https://localhost:8080/"
        },
        "id": "iDf2e1EciVhT",
        "outputId": "b5d22829-7302-4e7d-dda5-c657230c501d"
      },
      "execution_count": 194,
      "outputs": [
        {
          "output_type": "stream",
          "name": "stdout",
          "text": [
            "7887\n",
            "match_id              0\n",
            "start_date            0\n",
            "venue                 0\n",
            "innings               0\n",
            "ball                  0\n",
            "batting_team          0\n",
            "bowling_team          0\n",
            "striker               0\n",
            "non_striker           0\n",
            "bowler                0\n",
            "runs_off_bat          0\n",
            "extras                0\n",
            "wides                 0\n",
            "noballs               0\n",
            "byes                  0\n",
            "legbyes               0\n",
            "penalty               0\n",
            "wicket_type           0\n",
            "wicket                0\n",
            "over                  0\n",
            "ball_num              0\n",
            "balls_left            0\n",
            "total_runs            0\n",
            "cumulative_runs       0\n",
            "run_rate              0\n",
            "winner                0\n",
            "wicket_new            0\n",
            "result                0\n",
            "target_runs           0\n",
            "req_runs           9492\n",
            "req_rr             9492\n",
            "dtype: int64\n"
          ]
        }
      ]
    },
    {
      "cell_type": "code",
      "source": [
        "data.fillna(0, inplace=True)"
      ],
      "metadata": {
        "id": "ka63ilB1EY2u"
      },
      "execution_count": 195,
      "outputs": []
    },
    {
      "cell_type": "code",
      "source": [
        "data"
      ],
      "metadata": {
        "colab": {
          "base_uri": "https://localhost:8080/",
          "height": 1000
        },
        "id": "XQy7K66ICUBt",
        "outputId": "938d94b2-cf30-42cc-d161-28c445cd5fa9"
      },
      "execution_count": 196,
      "outputs": [
        {
          "output_type": "execute_result",
          "data": {
            "text/plain": [
              "       match_id  start_date                                          venue  \\\n",
              "0             1  2023-10-05               Narendra Modi Stadium, Ahmedabad   \n",
              "1             1  2023-10-05               Narendra Modi Stadium, Ahmedabad   \n",
              "2             1  2023-10-05               Narendra Modi Stadium, Ahmedabad   \n",
              "3             1  2023-10-05               Narendra Modi Stadium, Ahmedabad   \n",
              "4             1  2023-10-05               Narendra Modi Stadium, Ahmedabad   \n",
              "...         ...         ...                                            ...   \n",
              "17374        32  2023-11-01  Maharashtra Cricket Association Stadium, Pune   \n",
              "17375        32  2023-11-01  Maharashtra Cricket Association Stadium, Pune   \n",
              "17376        32  2023-11-01  Maharashtra Cricket Association Stadium, Pune   \n",
              "17377        32  2023-11-01  Maharashtra Cricket Association Stadium, Pune   \n",
              "17378        32  2023-11-01  Maharashtra Cricket Association Stadium, Pune   \n",
              "\n",
              "       innings  ball batting_team  bowling_team      striker  non_striker  \\\n",
              "0            1   0.1      England   New Zealand  JM Bairstow     DJ Malan   \n",
              "1            1   0.2      England   New Zealand  JM Bairstow     DJ Malan   \n",
              "2            1   0.3      England   New Zealand  JM Bairstow     DJ Malan   \n",
              "3            1   0.4      England   New Zealand     DJ Malan  JM Bairstow   \n",
              "4            1   0.5      England   New Zealand  JM Bairstow     DJ Malan   \n",
              "...        ...   ...          ...           ...          ...          ...   \n",
              "17374        2  34.5  New Zealand  South Africa     MJ Henry  GD Phillips   \n",
              "17375        2  34.6  New Zealand  South Africa     MJ Henry  GD Phillips   \n",
              "17376        2  35.1  New Zealand  South Africa  GD Phillips     MJ Henry   \n",
              "17377        2  35.2  New Zealand  South Africa  GD Phillips     MJ Henry   \n",
              "17378        2  35.3  New Zealand  South Africa  GD Phillips     MJ Henry   \n",
              "\n",
              "           bowler  ...  balls_left  total_runs  cumulative_runs   run_rate  \\\n",
              "0        TA Boult  ...         299           0                0   0.000000   \n",
              "1        TA Boult  ...         298           6                6  18.000000   \n",
              "2        TA Boult  ...         297           1                7  14.000000   \n",
              "3        TA Boult  ...         296           1                8  12.000000   \n",
              "4        TA Boult  ...         295           4               12  14.400000   \n",
              "...           ...  ...         ...         ...              ...        ...   \n",
              "17374  KA Maharaj  ...          91           0              161   4.622010   \n",
              "17375  KA Maharaj  ...          90           0              161   4.600000   \n",
              "17376   G Coetzee  ...          89           0              161   4.578199   \n",
              "17377   G Coetzee  ...          88           6              167   4.726415   \n",
              "17378   G Coetzee  ...          87           0              167   4.704225   \n",
              "\n",
              "             winner  wicket_new  result target_runs  req_runs     req_rr  \n",
              "0       New Zealand   no wicket       0           0       0.0   0.000000  \n",
              "1       New Zealand   no wicket       0           0       0.0   0.000000  \n",
              "2       New Zealand   no wicket       0           0       0.0   0.000000  \n",
              "3       New Zealand   no wicket       0           0       0.0   0.000000  \n",
              "4       New Zealand   no wicket       0           0       0.0   0.000000  \n",
              "...             ...         ...     ...         ...       ...        ...  \n",
              "17374  South Africa   no wicket       0         358     197.0  12.989011  \n",
              "17375  South Africa   no wicket       0         358     197.0  13.133333  \n",
              "17376  South Africa   no wicket       0         358     197.0  13.280899  \n",
              "17377  South Africa   no wicket       0         358     191.0  13.022727  \n",
              "17378  South Africa      caught       1         358     191.0  13.172414  \n",
              "\n",
              "[17379 rows x 31 columns]"
            ],
            "text/html": [
              "\n",
              "  <div id=\"df-86534fe0-a660-4864-9e7b-8b4e80eae85e\" class=\"colab-df-container\">\n",
              "    <div>\n",
              "<style scoped>\n",
              "    .dataframe tbody tr th:only-of-type {\n",
              "        vertical-align: middle;\n",
              "    }\n",
              "\n",
              "    .dataframe tbody tr th {\n",
              "        vertical-align: top;\n",
              "    }\n",
              "\n",
              "    .dataframe thead th {\n",
              "        text-align: right;\n",
              "    }\n",
              "</style>\n",
              "<table border=\"1\" class=\"dataframe\">\n",
              "  <thead>\n",
              "    <tr style=\"text-align: right;\">\n",
              "      <th></th>\n",
              "      <th>match_id</th>\n",
              "      <th>start_date</th>\n",
              "      <th>venue</th>\n",
              "      <th>innings</th>\n",
              "      <th>ball</th>\n",
              "      <th>batting_team</th>\n",
              "      <th>bowling_team</th>\n",
              "      <th>striker</th>\n",
              "      <th>non_striker</th>\n",
              "      <th>bowler</th>\n",
              "      <th>...</th>\n",
              "      <th>balls_left</th>\n",
              "      <th>total_runs</th>\n",
              "      <th>cumulative_runs</th>\n",
              "      <th>run_rate</th>\n",
              "      <th>winner</th>\n",
              "      <th>wicket_new</th>\n",
              "      <th>result</th>\n",
              "      <th>target_runs</th>\n",
              "      <th>req_runs</th>\n",
              "      <th>req_rr</th>\n",
              "    </tr>\n",
              "  </thead>\n",
              "  <tbody>\n",
              "    <tr>\n",
              "      <th>0</th>\n",
              "      <td>1</td>\n",
              "      <td>2023-10-05</td>\n",
              "      <td>Narendra Modi Stadium, Ahmedabad</td>\n",
              "      <td>1</td>\n",
              "      <td>0.1</td>\n",
              "      <td>England</td>\n",
              "      <td>New Zealand</td>\n",
              "      <td>JM Bairstow</td>\n",
              "      <td>DJ Malan</td>\n",
              "      <td>TA Boult</td>\n",
              "      <td>...</td>\n",
              "      <td>299</td>\n",
              "      <td>0</td>\n",
              "      <td>0</td>\n",
              "      <td>0.000000</td>\n",
              "      <td>New Zealand</td>\n",
              "      <td>no wicket</td>\n",
              "      <td>0</td>\n",
              "      <td>0</td>\n",
              "      <td>0.0</td>\n",
              "      <td>0.000000</td>\n",
              "    </tr>\n",
              "    <tr>\n",
              "      <th>1</th>\n",
              "      <td>1</td>\n",
              "      <td>2023-10-05</td>\n",
              "      <td>Narendra Modi Stadium, Ahmedabad</td>\n",
              "      <td>1</td>\n",
              "      <td>0.2</td>\n",
              "      <td>England</td>\n",
              "      <td>New Zealand</td>\n",
              "      <td>JM Bairstow</td>\n",
              "      <td>DJ Malan</td>\n",
              "      <td>TA Boult</td>\n",
              "      <td>...</td>\n",
              "      <td>298</td>\n",
              "      <td>6</td>\n",
              "      <td>6</td>\n",
              "      <td>18.000000</td>\n",
              "      <td>New Zealand</td>\n",
              "      <td>no wicket</td>\n",
              "      <td>0</td>\n",
              "      <td>0</td>\n",
              "      <td>0.0</td>\n",
              "      <td>0.000000</td>\n",
              "    </tr>\n",
              "    <tr>\n",
              "      <th>2</th>\n",
              "      <td>1</td>\n",
              "      <td>2023-10-05</td>\n",
              "      <td>Narendra Modi Stadium, Ahmedabad</td>\n",
              "      <td>1</td>\n",
              "      <td>0.3</td>\n",
              "      <td>England</td>\n",
              "      <td>New Zealand</td>\n",
              "      <td>JM Bairstow</td>\n",
              "      <td>DJ Malan</td>\n",
              "      <td>TA Boult</td>\n",
              "      <td>...</td>\n",
              "      <td>297</td>\n",
              "      <td>1</td>\n",
              "      <td>7</td>\n",
              "      <td>14.000000</td>\n",
              "      <td>New Zealand</td>\n",
              "      <td>no wicket</td>\n",
              "      <td>0</td>\n",
              "      <td>0</td>\n",
              "      <td>0.0</td>\n",
              "      <td>0.000000</td>\n",
              "    </tr>\n",
              "    <tr>\n",
              "      <th>3</th>\n",
              "      <td>1</td>\n",
              "      <td>2023-10-05</td>\n",
              "      <td>Narendra Modi Stadium, Ahmedabad</td>\n",
              "      <td>1</td>\n",
              "      <td>0.4</td>\n",
              "      <td>England</td>\n",
              "      <td>New Zealand</td>\n",
              "      <td>DJ Malan</td>\n",
              "      <td>JM Bairstow</td>\n",
              "      <td>TA Boult</td>\n",
              "      <td>...</td>\n",
              "      <td>296</td>\n",
              "      <td>1</td>\n",
              "      <td>8</td>\n",
              "      <td>12.000000</td>\n",
              "      <td>New Zealand</td>\n",
              "      <td>no wicket</td>\n",
              "      <td>0</td>\n",
              "      <td>0</td>\n",
              "      <td>0.0</td>\n",
              "      <td>0.000000</td>\n",
              "    </tr>\n",
              "    <tr>\n",
              "      <th>4</th>\n",
              "      <td>1</td>\n",
              "      <td>2023-10-05</td>\n",
              "      <td>Narendra Modi Stadium, Ahmedabad</td>\n",
              "      <td>1</td>\n",
              "      <td>0.5</td>\n",
              "      <td>England</td>\n",
              "      <td>New Zealand</td>\n",
              "      <td>JM Bairstow</td>\n",
              "      <td>DJ Malan</td>\n",
              "      <td>TA Boult</td>\n",
              "      <td>...</td>\n",
              "      <td>295</td>\n",
              "      <td>4</td>\n",
              "      <td>12</td>\n",
              "      <td>14.400000</td>\n",
              "      <td>New Zealand</td>\n",
              "      <td>no wicket</td>\n",
              "      <td>0</td>\n",
              "      <td>0</td>\n",
              "      <td>0.0</td>\n",
              "      <td>0.000000</td>\n",
              "    </tr>\n",
              "    <tr>\n",
              "      <th>...</th>\n",
              "      <td>...</td>\n",
              "      <td>...</td>\n",
              "      <td>...</td>\n",
              "      <td>...</td>\n",
              "      <td>...</td>\n",
              "      <td>...</td>\n",
              "      <td>...</td>\n",
              "      <td>...</td>\n",
              "      <td>...</td>\n",
              "      <td>...</td>\n",
              "      <td>...</td>\n",
              "      <td>...</td>\n",
              "      <td>...</td>\n",
              "      <td>...</td>\n",
              "      <td>...</td>\n",
              "      <td>...</td>\n",
              "      <td>...</td>\n",
              "      <td>...</td>\n",
              "      <td>...</td>\n",
              "      <td>...</td>\n",
              "      <td>...</td>\n",
              "    </tr>\n",
              "    <tr>\n",
              "      <th>17374</th>\n",
              "      <td>32</td>\n",
              "      <td>2023-11-01</td>\n",
              "      <td>Maharashtra Cricket Association Stadium, Pune</td>\n",
              "      <td>2</td>\n",
              "      <td>34.5</td>\n",
              "      <td>New Zealand</td>\n",
              "      <td>South Africa</td>\n",
              "      <td>MJ Henry</td>\n",
              "      <td>GD Phillips</td>\n",
              "      <td>KA Maharaj</td>\n",
              "      <td>...</td>\n",
              "      <td>91</td>\n",
              "      <td>0</td>\n",
              "      <td>161</td>\n",
              "      <td>4.622010</td>\n",
              "      <td>South Africa</td>\n",
              "      <td>no wicket</td>\n",
              "      <td>0</td>\n",
              "      <td>358</td>\n",
              "      <td>197.0</td>\n",
              "      <td>12.989011</td>\n",
              "    </tr>\n",
              "    <tr>\n",
              "      <th>17375</th>\n",
              "      <td>32</td>\n",
              "      <td>2023-11-01</td>\n",
              "      <td>Maharashtra Cricket Association Stadium, Pune</td>\n",
              "      <td>2</td>\n",
              "      <td>34.6</td>\n",
              "      <td>New Zealand</td>\n",
              "      <td>South Africa</td>\n",
              "      <td>MJ Henry</td>\n",
              "      <td>GD Phillips</td>\n",
              "      <td>KA Maharaj</td>\n",
              "      <td>...</td>\n",
              "      <td>90</td>\n",
              "      <td>0</td>\n",
              "      <td>161</td>\n",
              "      <td>4.600000</td>\n",
              "      <td>South Africa</td>\n",
              "      <td>no wicket</td>\n",
              "      <td>0</td>\n",
              "      <td>358</td>\n",
              "      <td>197.0</td>\n",
              "      <td>13.133333</td>\n",
              "    </tr>\n",
              "    <tr>\n",
              "      <th>17376</th>\n",
              "      <td>32</td>\n",
              "      <td>2023-11-01</td>\n",
              "      <td>Maharashtra Cricket Association Stadium, Pune</td>\n",
              "      <td>2</td>\n",
              "      <td>35.1</td>\n",
              "      <td>New Zealand</td>\n",
              "      <td>South Africa</td>\n",
              "      <td>GD Phillips</td>\n",
              "      <td>MJ Henry</td>\n",
              "      <td>G Coetzee</td>\n",
              "      <td>...</td>\n",
              "      <td>89</td>\n",
              "      <td>0</td>\n",
              "      <td>161</td>\n",
              "      <td>4.578199</td>\n",
              "      <td>South Africa</td>\n",
              "      <td>no wicket</td>\n",
              "      <td>0</td>\n",
              "      <td>358</td>\n",
              "      <td>197.0</td>\n",
              "      <td>13.280899</td>\n",
              "    </tr>\n",
              "    <tr>\n",
              "      <th>17377</th>\n",
              "      <td>32</td>\n",
              "      <td>2023-11-01</td>\n",
              "      <td>Maharashtra Cricket Association Stadium, Pune</td>\n",
              "      <td>2</td>\n",
              "      <td>35.2</td>\n",
              "      <td>New Zealand</td>\n",
              "      <td>South Africa</td>\n",
              "      <td>GD Phillips</td>\n",
              "      <td>MJ Henry</td>\n",
              "      <td>G Coetzee</td>\n",
              "      <td>...</td>\n",
              "      <td>88</td>\n",
              "      <td>6</td>\n",
              "      <td>167</td>\n",
              "      <td>4.726415</td>\n",
              "      <td>South Africa</td>\n",
              "      <td>no wicket</td>\n",
              "      <td>0</td>\n",
              "      <td>358</td>\n",
              "      <td>191.0</td>\n",
              "      <td>13.022727</td>\n",
              "    </tr>\n",
              "    <tr>\n",
              "      <th>17378</th>\n",
              "      <td>32</td>\n",
              "      <td>2023-11-01</td>\n",
              "      <td>Maharashtra Cricket Association Stadium, Pune</td>\n",
              "      <td>2</td>\n",
              "      <td>35.3</td>\n",
              "      <td>New Zealand</td>\n",
              "      <td>South Africa</td>\n",
              "      <td>GD Phillips</td>\n",
              "      <td>MJ Henry</td>\n",
              "      <td>G Coetzee</td>\n",
              "      <td>...</td>\n",
              "      <td>87</td>\n",
              "      <td>0</td>\n",
              "      <td>167</td>\n",
              "      <td>4.704225</td>\n",
              "      <td>South Africa</td>\n",
              "      <td>caught</td>\n",
              "      <td>1</td>\n",
              "      <td>358</td>\n",
              "      <td>191.0</td>\n",
              "      <td>13.172414</td>\n",
              "    </tr>\n",
              "  </tbody>\n",
              "</table>\n",
              "<p>17379 rows × 31 columns</p>\n",
              "</div>\n",
              "    <div class=\"colab-df-buttons\">\n",
              "\n",
              "  <div class=\"colab-df-container\">\n",
              "    <button class=\"colab-df-convert\" onclick=\"convertToInteractive('df-86534fe0-a660-4864-9e7b-8b4e80eae85e')\"\n",
              "            title=\"Convert this dataframe to an interactive table.\"\n",
              "            style=\"display:none;\">\n",
              "\n",
              "  <svg xmlns=\"http://www.w3.org/2000/svg\" height=\"24px\" viewBox=\"0 -960 960 960\">\n",
              "    <path d=\"M120-120v-720h720v720H120Zm60-500h600v-160H180v160Zm220 220h160v-160H400v160Zm0 220h160v-160H400v160ZM180-400h160v-160H180v160Zm440 0h160v-160H620v160ZM180-180h160v-160H180v160Zm440 0h160v-160H620v160Z\"/>\n",
              "  </svg>\n",
              "    </button>\n",
              "\n",
              "  <style>\n",
              "    .colab-df-container {\n",
              "      display:flex;\n",
              "      gap: 12px;\n",
              "    }\n",
              "\n",
              "    .colab-df-convert {\n",
              "      background-color: #E8F0FE;\n",
              "      border: none;\n",
              "      border-radius: 50%;\n",
              "      cursor: pointer;\n",
              "      display: none;\n",
              "      fill: #1967D2;\n",
              "      height: 32px;\n",
              "      padding: 0 0 0 0;\n",
              "      width: 32px;\n",
              "    }\n",
              "\n",
              "    .colab-df-convert:hover {\n",
              "      background-color: #E2EBFA;\n",
              "      box-shadow: 0px 1px 2px rgba(60, 64, 67, 0.3), 0px 1px 3px 1px rgba(60, 64, 67, 0.15);\n",
              "      fill: #174EA6;\n",
              "    }\n",
              "\n",
              "    .colab-df-buttons div {\n",
              "      margin-bottom: 4px;\n",
              "    }\n",
              "\n",
              "    [theme=dark] .colab-df-convert {\n",
              "      background-color: #3B4455;\n",
              "      fill: #D2E3FC;\n",
              "    }\n",
              "\n",
              "    [theme=dark] .colab-df-convert:hover {\n",
              "      background-color: #434B5C;\n",
              "      box-shadow: 0px 1px 3px 1px rgba(0, 0, 0, 0.15);\n",
              "      filter: drop-shadow(0px 1px 2px rgba(0, 0, 0, 0.3));\n",
              "      fill: #FFFFFF;\n",
              "    }\n",
              "  </style>\n",
              "\n",
              "    <script>\n",
              "      const buttonEl =\n",
              "        document.querySelector('#df-86534fe0-a660-4864-9e7b-8b4e80eae85e button.colab-df-convert');\n",
              "      buttonEl.style.display =\n",
              "        google.colab.kernel.accessAllowed ? 'block' : 'none';\n",
              "\n",
              "      async function convertToInteractive(key) {\n",
              "        const element = document.querySelector('#df-86534fe0-a660-4864-9e7b-8b4e80eae85e');\n",
              "        const dataTable =\n",
              "          await google.colab.kernel.invokeFunction('convertToInteractive',\n",
              "                                                    [key], {});\n",
              "        if (!dataTable) return;\n",
              "\n",
              "        const docLinkHtml = 'Like what you see? Visit the ' +\n",
              "          '<a target=\"_blank\" href=https://colab.research.google.com/notebooks/data_table.ipynb>data table notebook</a>'\n",
              "          + ' to learn more about interactive tables.';\n",
              "        element.innerHTML = '';\n",
              "        dataTable['output_type'] = 'display_data';\n",
              "        await google.colab.output.renderOutput(dataTable, element);\n",
              "        const docLink = document.createElement('div');\n",
              "        docLink.innerHTML = docLinkHtml;\n",
              "        element.appendChild(docLink);\n",
              "      }\n",
              "    </script>\n",
              "  </div>\n",
              "\n",
              "\n",
              "<div id=\"df-88c8b32f-af75-4ce5-91ea-b4ccb559fb33\">\n",
              "  <button class=\"colab-df-quickchart\" onclick=\"quickchart('df-88c8b32f-af75-4ce5-91ea-b4ccb559fb33')\"\n",
              "            title=\"Suggest charts\"\n",
              "            style=\"display:none;\">\n",
              "\n",
              "<svg xmlns=\"http://www.w3.org/2000/svg\" height=\"24px\"viewBox=\"0 0 24 24\"\n",
              "     width=\"24px\">\n",
              "    <g>\n",
              "        <path d=\"M19 3H5c-1.1 0-2 .9-2 2v14c0 1.1.9 2 2 2h14c1.1 0 2-.9 2-2V5c0-1.1-.9-2-2-2zM9 17H7v-7h2v7zm4 0h-2V7h2v10zm4 0h-2v-4h2v4z\"/>\n",
              "    </g>\n",
              "</svg>\n",
              "  </button>\n",
              "\n",
              "<style>\n",
              "  .colab-df-quickchart {\n",
              "      --bg-color: #E8F0FE;\n",
              "      --fill-color: #1967D2;\n",
              "      --hover-bg-color: #E2EBFA;\n",
              "      --hover-fill-color: #174EA6;\n",
              "      --disabled-fill-color: #AAA;\n",
              "      --disabled-bg-color: #DDD;\n",
              "  }\n",
              "\n",
              "  [theme=dark] .colab-df-quickchart {\n",
              "      --bg-color: #3B4455;\n",
              "      --fill-color: #D2E3FC;\n",
              "      --hover-bg-color: #434B5C;\n",
              "      --hover-fill-color: #FFFFFF;\n",
              "      --disabled-bg-color: #3B4455;\n",
              "      --disabled-fill-color: #666;\n",
              "  }\n",
              "\n",
              "  .colab-df-quickchart {\n",
              "    background-color: var(--bg-color);\n",
              "    border: none;\n",
              "    border-radius: 50%;\n",
              "    cursor: pointer;\n",
              "    display: none;\n",
              "    fill: var(--fill-color);\n",
              "    height: 32px;\n",
              "    padding: 0;\n",
              "    width: 32px;\n",
              "  }\n",
              "\n",
              "  .colab-df-quickchart:hover {\n",
              "    background-color: var(--hover-bg-color);\n",
              "    box-shadow: 0 1px 2px rgba(60, 64, 67, 0.3), 0 1px 3px 1px rgba(60, 64, 67, 0.15);\n",
              "    fill: var(--button-hover-fill-color);\n",
              "  }\n",
              "\n",
              "  .colab-df-quickchart-complete:disabled,\n",
              "  .colab-df-quickchart-complete:disabled:hover {\n",
              "    background-color: var(--disabled-bg-color);\n",
              "    fill: var(--disabled-fill-color);\n",
              "    box-shadow: none;\n",
              "  }\n",
              "\n",
              "  .colab-df-spinner {\n",
              "    border: 2px solid var(--fill-color);\n",
              "    border-color: transparent;\n",
              "    border-bottom-color: var(--fill-color);\n",
              "    animation:\n",
              "      spin 1s steps(1) infinite;\n",
              "  }\n",
              "\n",
              "  @keyframes spin {\n",
              "    0% {\n",
              "      border-color: transparent;\n",
              "      border-bottom-color: var(--fill-color);\n",
              "      border-left-color: var(--fill-color);\n",
              "    }\n",
              "    20% {\n",
              "      border-color: transparent;\n",
              "      border-left-color: var(--fill-color);\n",
              "      border-top-color: var(--fill-color);\n",
              "    }\n",
              "    30% {\n",
              "      border-color: transparent;\n",
              "      border-left-color: var(--fill-color);\n",
              "      border-top-color: var(--fill-color);\n",
              "      border-right-color: var(--fill-color);\n",
              "    }\n",
              "    40% {\n",
              "      border-color: transparent;\n",
              "      border-right-color: var(--fill-color);\n",
              "      border-top-color: var(--fill-color);\n",
              "    }\n",
              "    60% {\n",
              "      border-color: transparent;\n",
              "      border-right-color: var(--fill-color);\n",
              "    }\n",
              "    80% {\n",
              "      border-color: transparent;\n",
              "      border-right-color: var(--fill-color);\n",
              "      border-bottom-color: var(--fill-color);\n",
              "    }\n",
              "    90% {\n",
              "      border-color: transparent;\n",
              "      border-bottom-color: var(--fill-color);\n",
              "    }\n",
              "  }\n",
              "</style>\n",
              "\n",
              "  <script>\n",
              "    async function quickchart(key) {\n",
              "      const quickchartButtonEl =\n",
              "        document.querySelector('#' + key + ' button');\n",
              "      quickchartButtonEl.disabled = true;  // To prevent multiple clicks.\n",
              "      quickchartButtonEl.classList.add('colab-df-spinner');\n",
              "      try {\n",
              "        const charts = await google.colab.kernel.invokeFunction(\n",
              "            'suggestCharts', [key], {});\n",
              "      } catch (error) {\n",
              "        console.error('Error during call to suggestCharts:', error);\n",
              "      }\n",
              "      quickchartButtonEl.classList.remove('colab-df-spinner');\n",
              "      quickchartButtonEl.classList.add('colab-df-quickchart-complete');\n",
              "    }\n",
              "    (() => {\n",
              "      let quickchartButtonEl =\n",
              "        document.querySelector('#df-88c8b32f-af75-4ce5-91ea-b4ccb559fb33 button');\n",
              "      quickchartButtonEl.style.display =\n",
              "        google.colab.kernel.accessAllowed ? 'block' : 'none';\n",
              "    })();\n",
              "  </script>\n",
              "</div>\n",
              "    </div>\n",
              "  </div>\n"
            ]
          },
          "metadata": {},
          "execution_count": 196
        }
      ]
    },
    {
      "cell_type": "code",
      "source": [
        "data.columns"
      ],
      "metadata": {
        "colab": {
          "base_uri": "https://localhost:8080/"
        },
        "id": "GGEH9XIftysS",
        "outputId": "cd25f3cb-84a8-4fe3-b97d-7bb170957687"
      },
      "execution_count": 197,
      "outputs": [
        {
          "output_type": "execute_result",
          "data": {
            "text/plain": [
              "Index(['match_id', 'start_date', 'venue', 'innings', 'ball', 'batting_team',\n",
              "       'bowling_team', 'striker', 'non_striker', 'bowler', 'runs_off_bat',\n",
              "       'extras', 'wides', 'noballs', 'byes', 'legbyes', 'penalty',\n",
              "       'wicket_type', 'wicket', 'over', 'ball_num', 'balls_left', 'total_runs',\n",
              "       'cumulative_runs', 'run_rate', 'winner', 'wicket_new', 'result',\n",
              "       'target_runs', 'req_runs', 'req_rr'],\n",
              "      dtype='object')"
            ]
          },
          "metadata": {},
          "execution_count": 197
        }
      ]
    },
    {
      "cell_type": "markdown",
      "source": [
        "Creating the final dataframe"
      ],
      "metadata": {
        "id": "Lp8nkzwFKhOe"
      }
    },
    {
      "cell_type": "code",
      "source": [
        "final_data = data[['batting_team', 'bowling_team', 'wides', 'noballs', 'byes', 'legbyes', 'penalty', 'balls_left', 'cumulative_runs', 'run_rate',\n",
        "                   'result', 'target_runs', 'req_runs', 'req_rr']]"
      ],
      "metadata": {
        "id": "hzUqftAPN4Ph"
      },
      "execution_count": 198,
      "outputs": []
    },
    {
      "cell_type": "code",
      "source": [
        "final_data"
      ],
      "metadata": {
        "colab": {
          "base_uri": "https://localhost:8080/",
          "height": 423
        },
        "id": "kZRUweo4z3zs",
        "outputId": "b3609097-e4e5-4f16-c6f8-3bc8098b144f"
      },
      "execution_count": 199,
      "outputs": [
        {
          "output_type": "execute_result",
          "data": {
            "text/plain": [
              "      batting_team  bowling_team  wides  noballs  byes  legbyes  penalty  \\\n",
              "0          England   New Zealand    0.0      0.0   0.0      0.0      0.0   \n",
              "1          England   New Zealand    0.0      0.0   0.0      0.0      0.0   \n",
              "2          England   New Zealand    0.0      0.0   0.0      0.0      0.0   \n",
              "3          England   New Zealand    0.0      0.0   0.0      0.0      0.0   \n",
              "4          England   New Zealand    0.0      0.0   0.0      0.0      0.0   \n",
              "...            ...           ...    ...      ...   ...      ...      ...   \n",
              "17374  New Zealand  South Africa    0.0      0.0   0.0      0.0      0.0   \n",
              "17375  New Zealand  South Africa    0.0      0.0   0.0      0.0      0.0   \n",
              "17376  New Zealand  South Africa    0.0      0.0   0.0      0.0      0.0   \n",
              "17377  New Zealand  South Africa    0.0      0.0   0.0      0.0      0.0   \n",
              "17378  New Zealand  South Africa    0.0      0.0   0.0      0.0      0.0   \n",
              "\n",
              "       balls_left  cumulative_runs   run_rate  result  target_runs  req_runs  \\\n",
              "0             299                0   0.000000       0            0       0.0   \n",
              "1             298                6  18.000000       0            0       0.0   \n",
              "2             297                7  14.000000       0            0       0.0   \n",
              "3             296                8  12.000000       0            0       0.0   \n",
              "4             295               12  14.400000       0            0       0.0   \n",
              "...           ...              ...        ...     ...          ...       ...   \n",
              "17374          91              161   4.622010       0          358     197.0   \n",
              "17375          90              161   4.600000       0          358     197.0   \n",
              "17376          89              161   4.578199       0          358     197.0   \n",
              "17377          88              167   4.726415       0          358     191.0   \n",
              "17378          87              167   4.704225       1          358     191.0   \n",
              "\n",
              "          req_rr  \n",
              "0       0.000000  \n",
              "1       0.000000  \n",
              "2       0.000000  \n",
              "3       0.000000  \n",
              "4       0.000000  \n",
              "...          ...  \n",
              "17374  12.989011  \n",
              "17375  13.133333  \n",
              "17376  13.280899  \n",
              "17377  13.022727  \n",
              "17378  13.172414  \n",
              "\n",
              "[17379 rows x 14 columns]"
            ],
            "text/html": [
              "\n",
              "  <div id=\"df-fc80955c-8b28-4a77-830a-9ee53ea2b063\" class=\"colab-df-container\">\n",
              "    <div>\n",
              "<style scoped>\n",
              "    .dataframe tbody tr th:only-of-type {\n",
              "        vertical-align: middle;\n",
              "    }\n",
              "\n",
              "    .dataframe tbody tr th {\n",
              "        vertical-align: top;\n",
              "    }\n",
              "\n",
              "    .dataframe thead th {\n",
              "        text-align: right;\n",
              "    }\n",
              "</style>\n",
              "<table border=\"1\" class=\"dataframe\">\n",
              "  <thead>\n",
              "    <tr style=\"text-align: right;\">\n",
              "      <th></th>\n",
              "      <th>batting_team</th>\n",
              "      <th>bowling_team</th>\n",
              "      <th>wides</th>\n",
              "      <th>noballs</th>\n",
              "      <th>byes</th>\n",
              "      <th>legbyes</th>\n",
              "      <th>penalty</th>\n",
              "      <th>balls_left</th>\n",
              "      <th>cumulative_runs</th>\n",
              "      <th>run_rate</th>\n",
              "      <th>result</th>\n",
              "      <th>target_runs</th>\n",
              "      <th>req_runs</th>\n",
              "      <th>req_rr</th>\n",
              "    </tr>\n",
              "  </thead>\n",
              "  <tbody>\n",
              "    <tr>\n",
              "      <th>0</th>\n",
              "      <td>England</td>\n",
              "      <td>New Zealand</td>\n",
              "      <td>0.0</td>\n",
              "      <td>0.0</td>\n",
              "      <td>0.0</td>\n",
              "      <td>0.0</td>\n",
              "      <td>0.0</td>\n",
              "      <td>299</td>\n",
              "      <td>0</td>\n",
              "      <td>0.000000</td>\n",
              "      <td>0</td>\n",
              "      <td>0</td>\n",
              "      <td>0.0</td>\n",
              "      <td>0.000000</td>\n",
              "    </tr>\n",
              "    <tr>\n",
              "      <th>1</th>\n",
              "      <td>England</td>\n",
              "      <td>New Zealand</td>\n",
              "      <td>0.0</td>\n",
              "      <td>0.0</td>\n",
              "      <td>0.0</td>\n",
              "      <td>0.0</td>\n",
              "      <td>0.0</td>\n",
              "      <td>298</td>\n",
              "      <td>6</td>\n",
              "      <td>18.000000</td>\n",
              "      <td>0</td>\n",
              "      <td>0</td>\n",
              "      <td>0.0</td>\n",
              "      <td>0.000000</td>\n",
              "    </tr>\n",
              "    <tr>\n",
              "      <th>2</th>\n",
              "      <td>England</td>\n",
              "      <td>New Zealand</td>\n",
              "      <td>0.0</td>\n",
              "      <td>0.0</td>\n",
              "      <td>0.0</td>\n",
              "      <td>0.0</td>\n",
              "      <td>0.0</td>\n",
              "      <td>297</td>\n",
              "      <td>7</td>\n",
              "      <td>14.000000</td>\n",
              "      <td>0</td>\n",
              "      <td>0</td>\n",
              "      <td>0.0</td>\n",
              "      <td>0.000000</td>\n",
              "    </tr>\n",
              "    <tr>\n",
              "      <th>3</th>\n",
              "      <td>England</td>\n",
              "      <td>New Zealand</td>\n",
              "      <td>0.0</td>\n",
              "      <td>0.0</td>\n",
              "      <td>0.0</td>\n",
              "      <td>0.0</td>\n",
              "      <td>0.0</td>\n",
              "      <td>296</td>\n",
              "      <td>8</td>\n",
              "      <td>12.000000</td>\n",
              "      <td>0</td>\n",
              "      <td>0</td>\n",
              "      <td>0.0</td>\n",
              "      <td>0.000000</td>\n",
              "    </tr>\n",
              "    <tr>\n",
              "      <th>4</th>\n",
              "      <td>England</td>\n",
              "      <td>New Zealand</td>\n",
              "      <td>0.0</td>\n",
              "      <td>0.0</td>\n",
              "      <td>0.0</td>\n",
              "      <td>0.0</td>\n",
              "      <td>0.0</td>\n",
              "      <td>295</td>\n",
              "      <td>12</td>\n",
              "      <td>14.400000</td>\n",
              "      <td>0</td>\n",
              "      <td>0</td>\n",
              "      <td>0.0</td>\n",
              "      <td>0.000000</td>\n",
              "    </tr>\n",
              "    <tr>\n",
              "      <th>...</th>\n",
              "      <td>...</td>\n",
              "      <td>...</td>\n",
              "      <td>...</td>\n",
              "      <td>...</td>\n",
              "      <td>...</td>\n",
              "      <td>...</td>\n",
              "      <td>...</td>\n",
              "      <td>...</td>\n",
              "      <td>...</td>\n",
              "      <td>...</td>\n",
              "      <td>...</td>\n",
              "      <td>...</td>\n",
              "      <td>...</td>\n",
              "      <td>...</td>\n",
              "    </tr>\n",
              "    <tr>\n",
              "      <th>17374</th>\n",
              "      <td>New Zealand</td>\n",
              "      <td>South Africa</td>\n",
              "      <td>0.0</td>\n",
              "      <td>0.0</td>\n",
              "      <td>0.0</td>\n",
              "      <td>0.0</td>\n",
              "      <td>0.0</td>\n",
              "      <td>91</td>\n",
              "      <td>161</td>\n",
              "      <td>4.622010</td>\n",
              "      <td>0</td>\n",
              "      <td>358</td>\n",
              "      <td>197.0</td>\n",
              "      <td>12.989011</td>\n",
              "    </tr>\n",
              "    <tr>\n",
              "      <th>17375</th>\n",
              "      <td>New Zealand</td>\n",
              "      <td>South Africa</td>\n",
              "      <td>0.0</td>\n",
              "      <td>0.0</td>\n",
              "      <td>0.0</td>\n",
              "      <td>0.0</td>\n",
              "      <td>0.0</td>\n",
              "      <td>90</td>\n",
              "      <td>161</td>\n",
              "      <td>4.600000</td>\n",
              "      <td>0</td>\n",
              "      <td>358</td>\n",
              "      <td>197.0</td>\n",
              "      <td>13.133333</td>\n",
              "    </tr>\n",
              "    <tr>\n",
              "      <th>17376</th>\n",
              "      <td>New Zealand</td>\n",
              "      <td>South Africa</td>\n",
              "      <td>0.0</td>\n",
              "      <td>0.0</td>\n",
              "      <td>0.0</td>\n",
              "      <td>0.0</td>\n",
              "      <td>0.0</td>\n",
              "      <td>89</td>\n",
              "      <td>161</td>\n",
              "      <td>4.578199</td>\n",
              "      <td>0</td>\n",
              "      <td>358</td>\n",
              "      <td>197.0</td>\n",
              "      <td>13.280899</td>\n",
              "    </tr>\n",
              "    <tr>\n",
              "      <th>17377</th>\n",
              "      <td>New Zealand</td>\n",
              "      <td>South Africa</td>\n",
              "      <td>0.0</td>\n",
              "      <td>0.0</td>\n",
              "      <td>0.0</td>\n",
              "      <td>0.0</td>\n",
              "      <td>0.0</td>\n",
              "      <td>88</td>\n",
              "      <td>167</td>\n",
              "      <td>4.726415</td>\n",
              "      <td>0</td>\n",
              "      <td>358</td>\n",
              "      <td>191.0</td>\n",
              "      <td>13.022727</td>\n",
              "    </tr>\n",
              "    <tr>\n",
              "      <th>17378</th>\n",
              "      <td>New Zealand</td>\n",
              "      <td>South Africa</td>\n",
              "      <td>0.0</td>\n",
              "      <td>0.0</td>\n",
              "      <td>0.0</td>\n",
              "      <td>0.0</td>\n",
              "      <td>0.0</td>\n",
              "      <td>87</td>\n",
              "      <td>167</td>\n",
              "      <td>4.704225</td>\n",
              "      <td>1</td>\n",
              "      <td>358</td>\n",
              "      <td>191.0</td>\n",
              "      <td>13.172414</td>\n",
              "    </tr>\n",
              "  </tbody>\n",
              "</table>\n",
              "<p>17379 rows × 14 columns</p>\n",
              "</div>\n",
              "    <div class=\"colab-df-buttons\">\n",
              "\n",
              "  <div class=\"colab-df-container\">\n",
              "    <button class=\"colab-df-convert\" onclick=\"convertToInteractive('df-fc80955c-8b28-4a77-830a-9ee53ea2b063')\"\n",
              "            title=\"Convert this dataframe to an interactive table.\"\n",
              "            style=\"display:none;\">\n",
              "\n",
              "  <svg xmlns=\"http://www.w3.org/2000/svg\" height=\"24px\" viewBox=\"0 -960 960 960\">\n",
              "    <path d=\"M120-120v-720h720v720H120Zm60-500h600v-160H180v160Zm220 220h160v-160H400v160Zm0 220h160v-160H400v160ZM180-400h160v-160H180v160Zm440 0h160v-160H620v160ZM180-180h160v-160H180v160Zm440 0h160v-160H620v160Z\"/>\n",
              "  </svg>\n",
              "    </button>\n",
              "\n",
              "  <style>\n",
              "    .colab-df-container {\n",
              "      display:flex;\n",
              "      gap: 12px;\n",
              "    }\n",
              "\n",
              "    .colab-df-convert {\n",
              "      background-color: #E8F0FE;\n",
              "      border: none;\n",
              "      border-radius: 50%;\n",
              "      cursor: pointer;\n",
              "      display: none;\n",
              "      fill: #1967D2;\n",
              "      height: 32px;\n",
              "      padding: 0 0 0 0;\n",
              "      width: 32px;\n",
              "    }\n",
              "\n",
              "    .colab-df-convert:hover {\n",
              "      background-color: #E2EBFA;\n",
              "      box-shadow: 0px 1px 2px rgba(60, 64, 67, 0.3), 0px 1px 3px 1px rgba(60, 64, 67, 0.15);\n",
              "      fill: #174EA6;\n",
              "    }\n",
              "\n",
              "    .colab-df-buttons div {\n",
              "      margin-bottom: 4px;\n",
              "    }\n",
              "\n",
              "    [theme=dark] .colab-df-convert {\n",
              "      background-color: #3B4455;\n",
              "      fill: #D2E3FC;\n",
              "    }\n",
              "\n",
              "    [theme=dark] .colab-df-convert:hover {\n",
              "      background-color: #434B5C;\n",
              "      box-shadow: 0px 1px 3px 1px rgba(0, 0, 0, 0.15);\n",
              "      filter: drop-shadow(0px 1px 2px rgba(0, 0, 0, 0.3));\n",
              "      fill: #FFFFFF;\n",
              "    }\n",
              "  </style>\n",
              "\n",
              "    <script>\n",
              "      const buttonEl =\n",
              "        document.querySelector('#df-fc80955c-8b28-4a77-830a-9ee53ea2b063 button.colab-df-convert');\n",
              "      buttonEl.style.display =\n",
              "        google.colab.kernel.accessAllowed ? 'block' : 'none';\n",
              "\n",
              "      async function convertToInteractive(key) {\n",
              "        const element = document.querySelector('#df-fc80955c-8b28-4a77-830a-9ee53ea2b063');\n",
              "        const dataTable =\n",
              "          await google.colab.kernel.invokeFunction('convertToInteractive',\n",
              "                                                    [key], {});\n",
              "        if (!dataTable) return;\n",
              "\n",
              "        const docLinkHtml = 'Like what you see? Visit the ' +\n",
              "          '<a target=\"_blank\" href=https://colab.research.google.com/notebooks/data_table.ipynb>data table notebook</a>'\n",
              "          + ' to learn more about interactive tables.';\n",
              "        element.innerHTML = '';\n",
              "        dataTable['output_type'] = 'display_data';\n",
              "        await google.colab.output.renderOutput(dataTable, element);\n",
              "        const docLink = document.createElement('div');\n",
              "        docLink.innerHTML = docLinkHtml;\n",
              "        element.appendChild(docLink);\n",
              "      }\n",
              "    </script>\n",
              "  </div>\n",
              "\n",
              "\n",
              "<div id=\"df-4853ce8e-26c3-49ce-8706-06b4b1ee97df\">\n",
              "  <button class=\"colab-df-quickchart\" onclick=\"quickchart('df-4853ce8e-26c3-49ce-8706-06b4b1ee97df')\"\n",
              "            title=\"Suggest charts\"\n",
              "            style=\"display:none;\">\n",
              "\n",
              "<svg xmlns=\"http://www.w3.org/2000/svg\" height=\"24px\"viewBox=\"0 0 24 24\"\n",
              "     width=\"24px\">\n",
              "    <g>\n",
              "        <path d=\"M19 3H5c-1.1 0-2 .9-2 2v14c0 1.1.9 2 2 2h14c1.1 0 2-.9 2-2V5c0-1.1-.9-2-2-2zM9 17H7v-7h2v7zm4 0h-2V7h2v10zm4 0h-2v-4h2v4z\"/>\n",
              "    </g>\n",
              "</svg>\n",
              "  </button>\n",
              "\n",
              "<style>\n",
              "  .colab-df-quickchart {\n",
              "      --bg-color: #E8F0FE;\n",
              "      --fill-color: #1967D2;\n",
              "      --hover-bg-color: #E2EBFA;\n",
              "      --hover-fill-color: #174EA6;\n",
              "      --disabled-fill-color: #AAA;\n",
              "      --disabled-bg-color: #DDD;\n",
              "  }\n",
              "\n",
              "  [theme=dark] .colab-df-quickchart {\n",
              "      --bg-color: #3B4455;\n",
              "      --fill-color: #D2E3FC;\n",
              "      --hover-bg-color: #434B5C;\n",
              "      --hover-fill-color: #FFFFFF;\n",
              "      --disabled-bg-color: #3B4455;\n",
              "      --disabled-fill-color: #666;\n",
              "  }\n",
              "\n",
              "  .colab-df-quickchart {\n",
              "    background-color: var(--bg-color);\n",
              "    border: none;\n",
              "    border-radius: 50%;\n",
              "    cursor: pointer;\n",
              "    display: none;\n",
              "    fill: var(--fill-color);\n",
              "    height: 32px;\n",
              "    padding: 0;\n",
              "    width: 32px;\n",
              "  }\n",
              "\n",
              "  .colab-df-quickchart:hover {\n",
              "    background-color: var(--hover-bg-color);\n",
              "    box-shadow: 0 1px 2px rgba(60, 64, 67, 0.3), 0 1px 3px 1px rgba(60, 64, 67, 0.15);\n",
              "    fill: var(--button-hover-fill-color);\n",
              "  }\n",
              "\n",
              "  .colab-df-quickchart-complete:disabled,\n",
              "  .colab-df-quickchart-complete:disabled:hover {\n",
              "    background-color: var(--disabled-bg-color);\n",
              "    fill: var(--disabled-fill-color);\n",
              "    box-shadow: none;\n",
              "  }\n",
              "\n",
              "  .colab-df-spinner {\n",
              "    border: 2px solid var(--fill-color);\n",
              "    border-color: transparent;\n",
              "    border-bottom-color: var(--fill-color);\n",
              "    animation:\n",
              "      spin 1s steps(1) infinite;\n",
              "  }\n",
              "\n",
              "  @keyframes spin {\n",
              "    0% {\n",
              "      border-color: transparent;\n",
              "      border-bottom-color: var(--fill-color);\n",
              "      border-left-color: var(--fill-color);\n",
              "    }\n",
              "    20% {\n",
              "      border-color: transparent;\n",
              "      border-left-color: var(--fill-color);\n",
              "      border-top-color: var(--fill-color);\n",
              "    }\n",
              "    30% {\n",
              "      border-color: transparent;\n",
              "      border-left-color: var(--fill-color);\n",
              "      border-top-color: var(--fill-color);\n",
              "      border-right-color: var(--fill-color);\n",
              "    }\n",
              "    40% {\n",
              "      border-color: transparent;\n",
              "      border-right-color: var(--fill-color);\n",
              "      border-top-color: var(--fill-color);\n",
              "    }\n",
              "    60% {\n",
              "      border-color: transparent;\n",
              "      border-right-color: var(--fill-color);\n",
              "    }\n",
              "    80% {\n",
              "      border-color: transparent;\n",
              "      border-right-color: var(--fill-color);\n",
              "      border-bottom-color: var(--fill-color);\n",
              "    }\n",
              "    90% {\n",
              "      border-color: transparent;\n",
              "      border-bottom-color: var(--fill-color);\n",
              "    }\n",
              "  }\n",
              "</style>\n",
              "\n",
              "  <script>\n",
              "    async function quickchart(key) {\n",
              "      const quickchartButtonEl =\n",
              "        document.querySelector('#' + key + ' button');\n",
              "      quickchartButtonEl.disabled = true;  // To prevent multiple clicks.\n",
              "      quickchartButtonEl.classList.add('colab-df-spinner');\n",
              "      try {\n",
              "        const charts = await google.colab.kernel.invokeFunction(\n",
              "            'suggestCharts', [key], {});\n",
              "      } catch (error) {\n",
              "        console.error('Error during call to suggestCharts:', error);\n",
              "      }\n",
              "      quickchartButtonEl.classList.remove('colab-df-spinner');\n",
              "      quickchartButtonEl.classList.add('colab-df-quickchart-complete');\n",
              "    }\n",
              "    (() => {\n",
              "      let quickchartButtonEl =\n",
              "        document.querySelector('#df-4853ce8e-26c3-49ce-8706-06b4b1ee97df button');\n",
              "      quickchartButtonEl.style.display =\n",
              "        google.colab.kernel.accessAllowed ? 'block' : 'none';\n",
              "    })();\n",
              "  </script>\n",
              "</div>\n",
              "    </div>\n",
              "  </div>\n"
            ]
          },
          "metadata": {},
          "execution_count": 199
        }
      ]
    },
    {
      "cell_type": "code",
      "source": [
        "final_data.info()"
      ],
      "metadata": {
        "colab": {
          "base_uri": "https://localhost:8080/"
        },
        "id": "OYE5ZhoVRm7i",
        "outputId": "9af33092-8591-4a88-f41a-e34b52f439de"
      },
      "execution_count": 200,
      "outputs": [
        {
          "output_type": "stream",
          "name": "stdout",
          "text": [
            "<class 'pandas.core.frame.DataFrame'>\n",
            "Int64Index: 17379 entries, 0 to 17378\n",
            "Data columns (total 14 columns):\n",
            " #   Column           Non-Null Count  Dtype  \n",
            "---  ------           --------------  -----  \n",
            " 0   batting_team     17379 non-null  object \n",
            " 1   bowling_team     17379 non-null  object \n",
            " 2   wides            17379 non-null  float64\n",
            " 3   noballs          17379 non-null  float64\n",
            " 4   byes             17379 non-null  float64\n",
            " 5   legbyes          17379 non-null  float64\n",
            " 6   penalty          17379 non-null  float64\n",
            " 7   balls_left       17379 non-null  int64  \n",
            " 8   cumulative_runs  17379 non-null  int64  \n",
            " 9   run_rate         17379 non-null  float64\n",
            " 10  result           17379 non-null  int64  \n",
            " 11  target_runs      17379 non-null  int64  \n",
            " 12  req_runs         17379 non-null  float64\n",
            " 13  req_rr           17379 non-null  float64\n",
            "dtypes: float64(8), int64(4), object(2)\n",
            "memory usage: 2.0+ MB\n"
          ]
        }
      ]
    },
    {
      "cell_type": "code",
      "source": [
        "final_data.describe().T"
      ],
      "metadata": {
        "colab": {
          "base_uri": "https://localhost:8080/",
          "height": 425
        },
        "id": "2wiIpA25Vprq",
        "outputId": "7854952a-1b22-4759-cf0e-985855fa6b9f"
      },
      "execution_count": 201,
      "outputs": [
        {
          "output_type": "execute_result",
          "data": {
            "text/plain": [
              "                   count        mean         std   min        25%         50%  \\\n",
              "wides            17379.0    0.030381    0.234050   0.0   0.000000    0.000000   \n",
              "noballs          17379.0    0.002417    0.049102   0.0   0.000000    0.000000   \n",
              "byes             17379.0    0.003222    0.099434   0.0   0.000000    0.000000   \n",
              "legbyes          17379.0    0.008343    0.117956   0.0   0.000000    0.000000   \n",
              "penalty          17379.0    0.000288    0.037928   0.0   0.000000    0.000000   \n",
              "balls_left       17379.0  163.294378   81.844602  -1.0  97.000000  167.000000   \n",
              "cumulative_runs  17379.0  124.783647   83.845391   0.0  56.000000  115.000000   \n",
              "run_rate         17379.0    5.328607    1.660382   0.0   4.421053    5.195122   \n",
              "result           17379.0    0.028252    0.165698   0.0   0.000000    0.000000   \n",
              "target_runs      17379.0  131.148973  151.162853   0.0   0.000000    0.000000   \n",
              "req_runs         17379.0   79.548938  107.663635  -5.0   0.000000    0.000000   \n",
              "req_rr           17379.0         inf         NaN -36.0   0.000000    0.000000   \n",
              "\n",
              "                        75%    max  \n",
              "wides              0.000000    5.0  \n",
              "noballs            0.000000    1.0  \n",
              "byes               0.000000    4.0  \n",
              "legbyes            0.000000    4.0  \n",
              "penalty            0.000000    5.0  \n",
              "balls_left       234.000000  299.0  \n",
              "cumulative_runs  181.000000  428.0  \n",
              "run_rate           6.150000   48.0  \n",
              "result             0.000000    1.0  \n",
              "target_runs      273.000000  429.0  \n",
              "req_runs         156.000000  429.0  \n",
              "req_rr             5.277987    inf  "
            ],
            "text/html": [
              "\n",
              "  <div id=\"df-48fb0fdd-1cbf-4154-a410-14d3449e1a50\" class=\"colab-df-container\">\n",
              "    <div>\n",
              "<style scoped>\n",
              "    .dataframe tbody tr th:only-of-type {\n",
              "        vertical-align: middle;\n",
              "    }\n",
              "\n",
              "    .dataframe tbody tr th {\n",
              "        vertical-align: top;\n",
              "    }\n",
              "\n",
              "    .dataframe thead th {\n",
              "        text-align: right;\n",
              "    }\n",
              "</style>\n",
              "<table border=\"1\" class=\"dataframe\">\n",
              "  <thead>\n",
              "    <tr style=\"text-align: right;\">\n",
              "      <th></th>\n",
              "      <th>count</th>\n",
              "      <th>mean</th>\n",
              "      <th>std</th>\n",
              "      <th>min</th>\n",
              "      <th>25%</th>\n",
              "      <th>50%</th>\n",
              "      <th>75%</th>\n",
              "      <th>max</th>\n",
              "    </tr>\n",
              "  </thead>\n",
              "  <tbody>\n",
              "    <tr>\n",
              "      <th>wides</th>\n",
              "      <td>17379.0</td>\n",
              "      <td>0.030381</td>\n",
              "      <td>0.234050</td>\n",
              "      <td>0.0</td>\n",
              "      <td>0.000000</td>\n",
              "      <td>0.000000</td>\n",
              "      <td>0.000000</td>\n",
              "      <td>5.0</td>\n",
              "    </tr>\n",
              "    <tr>\n",
              "      <th>noballs</th>\n",
              "      <td>17379.0</td>\n",
              "      <td>0.002417</td>\n",
              "      <td>0.049102</td>\n",
              "      <td>0.0</td>\n",
              "      <td>0.000000</td>\n",
              "      <td>0.000000</td>\n",
              "      <td>0.000000</td>\n",
              "      <td>1.0</td>\n",
              "    </tr>\n",
              "    <tr>\n",
              "      <th>byes</th>\n",
              "      <td>17379.0</td>\n",
              "      <td>0.003222</td>\n",
              "      <td>0.099434</td>\n",
              "      <td>0.0</td>\n",
              "      <td>0.000000</td>\n",
              "      <td>0.000000</td>\n",
              "      <td>0.000000</td>\n",
              "      <td>4.0</td>\n",
              "    </tr>\n",
              "    <tr>\n",
              "      <th>legbyes</th>\n",
              "      <td>17379.0</td>\n",
              "      <td>0.008343</td>\n",
              "      <td>0.117956</td>\n",
              "      <td>0.0</td>\n",
              "      <td>0.000000</td>\n",
              "      <td>0.000000</td>\n",
              "      <td>0.000000</td>\n",
              "      <td>4.0</td>\n",
              "    </tr>\n",
              "    <tr>\n",
              "      <th>penalty</th>\n",
              "      <td>17379.0</td>\n",
              "      <td>0.000288</td>\n",
              "      <td>0.037928</td>\n",
              "      <td>0.0</td>\n",
              "      <td>0.000000</td>\n",
              "      <td>0.000000</td>\n",
              "      <td>0.000000</td>\n",
              "      <td>5.0</td>\n",
              "    </tr>\n",
              "    <tr>\n",
              "      <th>balls_left</th>\n",
              "      <td>17379.0</td>\n",
              "      <td>163.294378</td>\n",
              "      <td>81.844602</td>\n",
              "      <td>-1.0</td>\n",
              "      <td>97.000000</td>\n",
              "      <td>167.000000</td>\n",
              "      <td>234.000000</td>\n",
              "      <td>299.0</td>\n",
              "    </tr>\n",
              "    <tr>\n",
              "      <th>cumulative_runs</th>\n",
              "      <td>17379.0</td>\n",
              "      <td>124.783647</td>\n",
              "      <td>83.845391</td>\n",
              "      <td>0.0</td>\n",
              "      <td>56.000000</td>\n",
              "      <td>115.000000</td>\n",
              "      <td>181.000000</td>\n",
              "      <td>428.0</td>\n",
              "    </tr>\n",
              "    <tr>\n",
              "      <th>run_rate</th>\n",
              "      <td>17379.0</td>\n",
              "      <td>5.328607</td>\n",
              "      <td>1.660382</td>\n",
              "      <td>0.0</td>\n",
              "      <td>4.421053</td>\n",
              "      <td>5.195122</td>\n",
              "      <td>6.150000</td>\n",
              "      <td>48.0</td>\n",
              "    </tr>\n",
              "    <tr>\n",
              "      <th>result</th>\n",
              "      <td>17379.0</td>\n",
              "      <td>0.028252</td>\n",
              "      <td>0.165698</td>\n",
              "      <td>0.0</td>\n",
              "      <td>0.000000</td>\n",
              "      <td>0.000000</td>\n",
              "      <td>0.000000</td>\n",
              "      <td>1.0</td>\n",
              "    </tr>\n",
              "    <tr>\n",
              "      <th>target_runs</th>\n",
              "      <td>17379.0</td>\n",
              "      <td>131.148973</td>\n",
              "      <td>151.162853</td>\n",
              "      <td>0.0</td>\n",
              "      <td>0.000000</td>\n",
              "      <td>0.000000</td>\n",
              "      <td>273.000000</td>\n",
              "      <td>429.0</td>\n",
              "    </tr>\n",
              "    <tr>\n",
              "      <th>req_runs</th>\n",
              "      <td>17379.0</td>\n",
              "      <td>79.548938</td>\n",
              "      <td>107.663635</td>\n",
              "      <td>-5.0</td>\n",
              "      <td>0.000000</td>\n",
              "      <td>0.000000</td>\n",
              "      <td>156.000000</td>\n",
              "      <td>429.0</td>\n",
              "    </tr>\n",
              "    <tr>\n",
              "      <th>req_rr</th>\n",
              "      <td>17379.0</td>\n",
              "      <td>inf</td>\n",
              "      <td>NaN</td>\n",
              "      <td>-36.0</td>\n",
              "      <td>0.000000</td>\n",
              "      <td>0.000000</td>\n",
              "      <td>5.277987</td>\n",
              "      <td>inf</td>\n",
              "    </tr>\n",
              "  </tbody>\n",
              "</table>\n",
              "</div>\n",
              "    <div class=\"colab-df-buttons\">\n",
              "\n",
              "  <div class=\"colab-df-container\">\n",
              "    <button class=\"colab-df-convert\" onclick=\"convertToInteractive('df-48fb0fdd-1cbf-4154-a410-14d3449e1a50')\"\n",
              "            title=\"Convert this dataframe to an interactive table.\"\n",
              "            style=\"display:none;\">\n",
              "\n",
              "  <svg xmlns=\"http://www.w3.org/2000/svg\" height=\"24px\" viewBox=\"0 -960 960 960\">\n",
              "    <path d=\"M120-120v-720h720v720H120Zm60-500h600v-160H180v160Zm220 220h160v-160H400v160Zm0 220h160v-160H400v160ZM180-400h160v-160H180v160Zm440 0h160v-160H620v160ZM180-180h160v-160H180v160Zm440 0h160v-160H620v160Z\"/>\n",
              "  </svg>\n",
              "    </button>\n",
              "\n",
              "  <style>\n",
              "    .colab-df-container {\n",
              "      display:flex;\n",
              "      gap: 12px;\n",
              "    }\n",
              "\n",
              "    .colab-df-convert {\n",
              "      background-color: #E8F0FE;\n",
              "      border: none;\n",
              "      border-radius: 50%;\n",
              "      cursor: pointer;\n",
              "      display: none;\n",
              "      fill: #1967D2;\n",
              "      height: 32px;\n",
              "      padding: 0 0 0 0;\n",
              "      width: 32px;\n",
              "    }\n",
              "\n",
              "    .colab-df-convert:hover {\n",
              "      background-color: #E2EBFA;\n",
              "      box-shadow: 0px 1px 2px rgba(60, 64, 67, 0.3), 0px 1px 3px 1px rgba(60, 64, 67, 0.15);\n",
              "      fill: #174EA6;\n",
              "    }\n",
              "\n",
              "    .colab-df-buttons div {\n",
              "      margin-bottom: 4px;\n",
              "    }\n",
              "\n",
              "    [theme=dark] .colab-df-convert {\n",
              "      background-color: #3B4455;\n",
              "      fill: #D2E3FC;\n",
              "    }\n",
              "\n",
              "    [theme=dark] .colab-df-convert:hover {\n",
              "      background-color: #434B5C;\n",
              "      box-shadow: 0px 1px 3px 1px rgba(0, 0, 0, 0.15);\n",
              "      filter: drop-shadow(0px 1px 2px rgba(0, 0, 0, 0.3));\n",
              "      fill: #FFFFFF;\n",
              "    }\n",
              "  </style>\n",
              "\n",
              "    <script>\n",
              "      const buttonEl =\n",
              "        document.querySelector('#df-48fb0fdd-1cbf-4154-a410-14d3449e1a50 button.colab-df-convert');\n",
              "      buttonEl.style.display =\n",
              "        google.colab.kernel.accessAllowed ? 'block' : 'none';\n",
              "\n",
              "      async function convertToInteractive(key) {\n",
              "        const element = document.querySelector('#df-48fb0fdd-1cbf-4154-a410-14d3449e1a50');\n",
              "        const dataTable =\n",
              "          await google.colab.kernel.invokeFunction('convertToInteractive',\n",
              "                                                    [key], {});\n",
              "        if (!dataTable) return;\n",
              "\n",
              "        const docLinkHtml = 'Like what you see? Visit the ' +\n",
              "          '<a target=\"_blank\" href=https://colab.research.google.com/notebooks/data_table.ipynb>data table notebook</a>'\n",
              "          + ' to learn more about interactive tables.';\n",
              "        element.innerHTML = '';\n",
              "        dataTable['output_type'] = 'display_data';\n",
              "        await google.colab.output.renderOutput(dataTable, element);\n",
              "        const docLink = document.createElement('div');\n",
              "        docLink.innerHTML = docLinkHtml;\n",
              "        element.appendChild(docLink);\n",
              "      }\n",
              "    </script>\n",
              "  </div>\n",
              "\n",
              "\n",
              "<div id=\"df-ceb95169-0f1c-4901-8da9-ef39e403a909\">\n",
              "  <button class=\"colab-df-quickchart\" onclick=\"quickchart('df-ceb95169-0f1c-4901-8da9-ef39e403a909')\"\n",
              "            title=\"Suggest charts\"\n",
              "            style=\"display:none;\">\n",
              "\n",
              "<svg xmlns=\"http://www.w3.org/2000/svg\" height=\"24px\"viewBox=\"0 0 24 24\"\n",
              "     width=\"24px\">\n",
              "    <g>\n",
              "        <path d=\"M19 3H5c-1.1 0-2 .9-2 2v14c0 1.1.9 2 2 2h14c1.1 0 2-.9 2-2V5c0-1.1-.9-2-2-2zM9 17H7v-7h2v7zm4 0h-2V7h2v10zm4 0h-2v-4h2v4z\"/>\n",
              "    </g>\n",
              "</svg>\n",
              "  </button>\n",
              "\n",
              "<style>\n",
              "  .colab-df-quickchart {\n",
              "      --bg-color: #E8F0FE;\n",
              "      --fill-color: #1967D2;\n",
              "      --hover-bg-color: #E2EBFA;\n",
              "      --hover-fill-color: #174EA6;\n",
              "      --disabled-fill-color: #AAA;\n",
              "      --disabled-bg-color: #DDD;\n",
              "  }\n",
              "\n",
              "  [theme=dark] .colab-df-quickchart {\n",
              "      --bg-color: #3B4455;\n",
              "      --fill-color: #D2E3FC;\n",
              "      --hover-bg-color: #434B5C;\n",
              "      --hover-fill-color: #FFFFFF;\n",
              "      --disabled-bg-color: #3B4455;\n",
              "      --disabled-fill-color: #666;\n",
              "  }\n",
              "\n",
              "  .colab-df-quickchart {\n",
              "    background-color: var(--bg-color);\n",
              "    border: none;\n",
              "    border-radius: 50%;\n",
              "    cursor: pointer;\n",
              "    display: none;\n",
              "    fill: var(--fill-color);\n",
              "    height: 32px;\n",
              "    padding: 0;\n",
              "    width: 32px;\n",
              "  }\n",
              "\n",
              "  .colab-df-quickchart:hover {\n",
              "    background-color: var(--hover-bg-color);\n",
              "    box-shadow: 0 1px 2px rgba(60, 64, 67, 0.3), 0 1px 3px 1px rgba(60, 64, 67, 0.15);\n",
              "    fill: var(--button-hover-fill-color);\n",
              "  }\n",
              "\n",
              "  .colab-df-quickchart-complete:disabled,\n",
              "  .colab-df-quickchart-complete:disabled:hover {\n",
              "    background-color: var(--disabled-bg-color);\n",
              "    fill: var(--disabled-fill-color);\n",
              "    box-shadow: none;\n",
              "  }\n",
              "\n",
              "  .colab-df-spinner {\n",
              "    border: 2px solid var(--fill-color);\n",
              "    border-color: transparent;\n",
              "    border-bottom-color: var(--fill-color);\n",
              "    animation:\n",
              "      spin 1s steps(1) infinite;\n",
              "  }\n",
              "\n",
              "  @keyframes spin {\n",
              "    0% {\n",
              "      border-color: transparent;\n",
              "      border-bottom-color: var(--fill-color);\n",
              "      border-left-color: var(--fill-color);\n",
              "    }\n",
              "    20% {\n",
              "      border-color: transparent;\n",
              "      border-left-color: var(--fill-color);\n",
              "      border-top-color: var(--fill-color);\n",
              "    }\n",
              "    30% {\n",
              "      border-color: transparent;\n",
              "      border-left-color: var(--fill-color);\n",
              "      border-top-color: var(--fill-color);\n",
              "      border-right-color: var(--fill-color);\n",
              "    }\n",
              "    40% {\n",
              "      border-color: transparent;\n",
              "      border-right-color: var(--fill-color);\n",
              "      border-top-color: var(--fill-color);\n",
              "    }\n",
              "    60% {\n",
              "      border-color: transparent;\n",
              "      border-right-color: var(--fill-color);\n",
              "    }\n",
              "    80% {\n",
              "      border-color: transparent;\n",
              "      border-right-color: var(--fill-color);\n",
              "      border-bottom-color: var(--fill-color);\n",
              "    }\n",
              "    90% {\n",
              "      border-color: transparent;\n",
              "      border-bottom-color: var(--fill-color);\n",
              "    }\n",
              "  }\n",
              "</style>\n",
              "\n",
              "  <script>\n",
              "    async function quickchart(key) {\n",
              "      const quickchartButtonEl =\n",
              "        document.querySelector('#' + key + ' button');\n",
              "      quickchartButtonEl.disabled = true;  // To prevent multiple clicks.\n",
              "      quickchartButtonEl.classList.add('colab-df-spinner');\n",
              "      try {\n",
              "        const charts = await google.colab.kernel.invokeFunction(\n",
              "            'suggestCharts', [key], {});\n",
              "      } catch (error) {\n",
              "        console.error('Error during call to suggestCharts:', error);\n",
              "      }\n",
              "      quickchartButtonEl.classList.remove('colab-df-spinner');\n",
              "      quickchartButtonEl.classList.add('colab-df-quickchart-complete');\n",
              "    }\n",
              "    (() => {\n",
              "      let quickchartButtonEl =\n",
              "        document.querySelector('#df-ceb95169-0f1c-4901-8da9-ef39e403a909 button');\n",
              "      quickchartButtonEl.style.display =\n",
              "        google.colab.kernel.accessAllowed ? 'block' : 'none';\n",
              "    })();\n",
              "  </script>\n",
              "</div>\n",
              "    </div>\n",
              "  </div>\n"
            ]
          },
          "metadata": {},
          "execution_count": 201
        }
      ]
    },
    {
      "cell_type": "markdown",
      "source": [
        "Removing inf value in required run rate"
      ],
      "metadata": {
        "id": "M3-gg6q8KlJn"
      }
    },
    {
      "cell_type": "code",
      "source": [
        "print(\"Maximum req_rr value:\", final_data['req_rr'].max())\n",
        "print(\"Minimum req_rr value:\", final_data['req_rr'].min())"
      ],
      "metadata": {
        "colab": {
          "base_uri": "https://localhost:8080/"
        },
        "id": "WWCAtHw6XiLT",
        "outputId": "37e7b880-e245-4dc2-8e86-91c410e9fd4d"
      },
      "execution_count": 202,
      "outputs": [
        {
          "output_type": "stream",
          "name": "stdout",
          "text": [
            "Maximum req_rr value: inf\n",
            "Minimum req_rr value: -36.0\n"
          ]
        }
      ]
    },
    {
      "cell_type": "code",
      "source": [
        "final_data = final_data[~(final_data.req_rr > 500)]"
      ],
      "metadata": {
        "id": "8iDbIbP5WsTT"
      },
      "execution_count": 203,
      "outputs": []
    },
    {
      "cell_type": "code",
      "source": [
        "final_data.describe().T"
      ],
      "metadata": {
        "colab": {
          "base_uri": "https://localhost:8080/",
          "height": 425
        },
        "id": "qT4fVDWOYogn",
        "outputId": "37474bcc-a65c-40db-9611-108eb1f6de22"
      },
      "execution_count": 204,
      "outputs": [
        {
          "output_type": "execute_result",
          "data": {
            "text/plain": [
              "                   count        mean         std   min        25%         50%  \\\n",
              "wides            17378.0    0.030383    0.234057   0.0   0.000000    0.000000   \n",
              "noballs          17378.0    0.002417    0.049103   0.0   0.000000    0.000000   \n",
              "byes             17378.0    0.003222    0.099437   0.0   0.000000    0.000000   \n",
              "legbyes          17378.0    0.008344    0.117959   0.0   0.000000    0.000000   \n",
              "penalty          17378.0    0.000288    0.037929   0.0   0.000000    0.000000   \n",
              "balls_left       17378.0  163.303775   81.837582  -1.0  97.000000  167.000000   \n",
              "cumulative_runs  17378.0  124.768788   83.824918   0.0  56.000000  115.000000   \n",
              "run_rate         17378.0    5.328473    1.660335   0.0   4.421053    5.194964   \n",
              "result           17378.0    0.028197    0.165539   0.0   0.000000    0.000000   \n",
              "target_runs      17378.0  131.134135  151.154546   0.0   0.000000    0.000000   \n",
              "req_runs         17378.0   79.553171  107.665287  -5.0   0.000000    0.000000   \n",
              "req_rr           17378.0    2.941785    4.327747 -36.0   0.000000    0.000000   \n",
              "\n",
              "                        75%    max  \n",
              "wides              0.000000    5.0  \n",
              "noballs            0.000000    1.0  \n",
              "byes               0.000000    4.0  \n",
              "legbyes            0.000000    4.0  \n",
              "penalty            0.000000    5.0  \n",
              "balls_left       234.000000  299.0  \n",
              "cumulative_runs  181.000000  428.0  \n",
              "run_rate           6.150000   48.0  \n",
              "result             0.000000    1.0  \n",
              "target_runs      273.000000  429.0  \n",
              "req_runs         156.000000  429.0  \n",
              "req_rr             5.277731   82.8  "
            ],
            "text/html": [
              "\n",
              "  <div id=\"df-5289a90b-ec3e-4e85-8fd5-a40b5a481e19\" class=\"colab-df-container\">\n",
              "    <div>\n",
              "<style scoped>\n",
              "    .dataframe tbody tr th:only-of-type {\n",
              "        vertical-align: middle;\n",
              "    }\n",
              "\n",
              "    .dataframe tbody tr th {\n",
              "        vertical-align: top;\n",
              "    }\n",
              "\n",
              "    .dataframe thead th {\n",
              "        text-align: right;\n",
              "    }\n",
              "</style>\n",
              "<table border=\"1\" class=\"dataframe\">\n",
              "  <thead>\n",
              "    <tr style=\"text-align: right;\">\n",
              "      <th></th>\n",
              "      <th>count</th>\n",
              "      <th>mean</th>\n",
              "      <th>std</th>\n",
              "      <th>min</th>\n",
              "      <th>25%</th>\n",
              "      <th>50%</th>\n",
              "      <th>75%</th>\n",
              "      <th>max</th>\n",
              "    </tr>\n",
              "  </thead>\n",
              "  <tbody>\n",
              "    <tr>\n",
              "      <th>wides</th>\n",
              "      <td>17378.0</td>\n",
              "      <td>0.030383</td>\n",
              "      <td>0.234057</td>\n",
              "      <td>0.0</td>\n",
              "      <td>0.000000</td>\n",
              "      <td>0.000000</td>\n",
              "      <td>0.000000</td>\n",
              "      <td>5.0</td>\n",
              "    </tr>\n",
              "    <tr>\n",
              "      <th>noballs</th>\n",
              "      <td>17378.0</td>\n",
              "      <td>0.002417</td>\n",
              "      <td>0.049103</td>\n",
              "      <td>0.0</td>\n",
              "      <td>0.000000</td>\n",
              "      <td>0.000000</td>\n",
              "      <td>0.000000</td>\n",
              "      <td>1.0</td>\n",
              "    </tr>\n",
              "    <tr>\n",
              "      <th>byes</th>\n",
              "      <td>17378.0</td>\n",
              "      <td>0.003222</td>\n",
              "      <td>0.099437</td>\n",
              "      <td>0.0</td>\n",
              "      <td>0.000000</td>\n",
              "      <td>0.000000</td>\n",
              "      <td>0.000000</td>\n",
              "      <td>4.0</td>\n",
              "    </tr>\n",
              "    <tr>\n",
              "      <th>legbyes</th>\n",
              "      <td>17378.0</td>\n",
              "      <td>0.008344</td>\n",
              "      <td>0.117959</td>\n",
              "      <td>0.0</td>\n",
              "      <td>0.000000</td>\n",
              "      <td>0.000000</td>\n",
              "      <td>0.000000</td>\n",
              "      <td>4.0</td>\n",
              "    </tr>\n",
              "    <tr>\n",
              "      <th>penalty</th>\n",
              "      <td>17378.0</td>\n",
              "      <td>0.000288</td>\n",
              "      <td>0.037929</td>\n",
              "      <td>0.0</td>\n",
              "      <td>0.000000</td>\n",
              "      <td>0.000000</td>\n",
              "      <td>0.000000</td>\n",
              "      <td>5.0</td>\n",
              "    </tr>\n",
              "    <tr>\n",
              "      <th>balls_left</th>\n",
              "      <td>17378.0</td>\n",
              "      <td>163.303775</td>\n",
              "      <td>81.837582</td>\n",
              "      <td>-1.0</td>\n",
              "      <td>97.000000</td>\n",
              "      <td>167.000000</td>\n",
              "      <td>234.000000</td>\n",
              "      <td>299.0</td>\n",
              "    </tr>\n",
              "    <tr>\n",
              "      <th>cumulative_runs</th>\n",
              "      <td>17378.0</td>\n",
              "      <td>124.768788</td>\n",
              "      <td>83.824918</td>\n",
              "      <td>0.0</td>\n",
              "      <td>56.000000</td>\n",
              "      <td>115.000000</td>\n",
              "      <td>181.000000</td>\n",
              "      <td>428.0</td>\n",
              "    </tr>\n",
              "    <tr>\n",
              "      <th>run_rate</th>\n",
              "      <td>17378.0</td>\n",
              "      <td>5.328473</td>\n",
              "      <td>1.660335</td>\n",
              "      <td>0.0</td>\n",
              "      <td>4.421053</td>\n",
              "      <td>5.194964</td>\n",
              "      <td>6.150000</td>\n",
              "      <td>48.0</td>\n",
              "    </tr>\n",
              "    <tr>\n",
              "      <th>result</th>\n",
              "      <td>17378.0</td>\n",
              "      <td>0.028197</td>\n",
              "      <td>0.165539</td>\n",
              "      <td>0.0</td>\n",
              "      <td>0.000000</td>\n",
              "      <td>0.000000</td>\n",
              "      <td>0.000000</td>\n",
              "      <td>1.0</td>\n",
              "    </tr>\n",
              "    <tr>\n",
              "      <th>target_runs</th>\n",
              "      <td>17378.0</td>\n",
              "      <td>131.134135</td>\n",
              "      <td>151.154546</td>\n",
              "      <td>0.0</td>\n",
              "      <td>0.000000</td>\n",
              "      <td>0.000000</td>\n",
              "      <td>273.000000</td>\n",
              "      <td>429.0</td>\n",
              "    </tr>\n",
              "    <tr>\n",
              "      <th>req_runs</th>\n",
              "      <td>17378.0</td>\n",
              "      <td>79.553171</td>\n",
              "      <td>107.665287</td>\n",
              "      <td>-5.0</td>\n",
              "      <td>0.000000</td>\n",
              "      <td>0.000000</td>\n",
              "      <td>156.000000</td>\n",
              "      <td>429.0</td>\n",
              "    </tr>\n",
              "    <tr>\n",
              "      <th>req_rr</th>\n",
              "      <td>17378.0</td>\n",
              "      <td>2.941785</td>\n",
              "      <td>4.327747</td>\n",
              "      <td>-36.0</td>\n",
              "      <td>0.000000</td>\n",
              "      <td>0.000000</td>\n",
              "      <td>5.277731</td>\n",
              "      <td>82.8</td>\n",
              "    </tr>\n",
              "  </tbody>\n",
              "</table>\n",
              "</div>\n",
              "    <div class=\"colab-df-buttons\">\n",
              "\n",
              "  <div class=\"colab-df-container\">\n",
              "    <button class=\"colab-df-convert\" onclick=\"convertToInteractive('df-5289a90b-ec3e-4e85-8fd5-a40b5a481e19')\"\n",
              "            title=\"Convert this dataframe to an interactive table.\"\n",
              "            style=\"display:none;\">\n",
              "\n",
              "  <svg xmlns=\"http://www.w3.org/2000/svg\" height=\"24px\" viewBox=\"0 -960 960 960\">\n",
              "    <path d=\"M120-120v-720h720v720H120Zm60-500h600v-160H180v160Zm220 220h160v-160H400v160Zm0 220h160v-160H400v160ZM180-400h160v-160H180v160Zm440 0h160v-160H620v160ZM180-180h160v-160H180v160Zm440 0h160v-160H620v160Z\"/>\n",
              "  </svg>\n",
              "    </button>\n",
              "\n",
              "  <style>\n",
              "    .colab-df-container {\n",
              "      display:flex;\n",
              "      gap: 12px;\n",
              "    }\n",
              "\n",
              "    .colab-df-convert {\n",
              "      background-color: #E8F0FE;\n",
              "      border: none;\n",
              "      border-radius: 50%;\n",
              "      cursor: pointer;\n",
              "      display: none;\n",
              "      fill: #1967D2;\n",
              "      height: 32px;\n",
              "      padding: 0 0 0 0;\n",
              "      width: 32px;\n",
              "    }\n",
              "\n",
              "    .colab-df-convert:hover {\n",
              "      background-color: #E2EBFA;\n",
              "      box-shadow: 0px 1px 2px rgba(60, 64, 67, 0.3), 0px 1px 3px 1px rgba(60, 64, 67, 0.15);\n",
              "      fill: #174EA6;\n",
              "    }\n",
              "\n",
              "    .colab-df-buttons div {\n",
              "      margin-bottom: 4px;\n",
              "    }\n",
              "\n",
              "    [theme=dark] .colab-df-convert {\n",
              "      background-color: #3B4455;\n",
              "      fill: #D2E3FC;\n",
              "    }\n",
              "\n",
              "    [theme=dark] .colab-df-convert:hover {\n",
              "      background-color: #434B5C;\n",
              "      box-shadow: 0px 1px 3px 1px rgba(0, 0, 0, 0.15);\n",
              "      filter: drop-shadow(0px 1px 2px rgba(0, 0, 0, 0.3));\n",
              "      fill: #FFFFFF;\n",
              "    }\n",
              "  </style>\n",
              "\n",
              "    <script>\n",
              "      const buttonEl =\n",
              "        document.querySelector('#df-5289a90b-ec3e-4e85-8fd5-a40b5a481e19 button.colab-df-convert');\n",
              "      buttonEl.style.display =\n",
              "        google.colab.kernel.accessAllowed ? 'block' : 'none';\n",
              "\n",
              "      async function convertToInteractive(key) {\n",
              "        const element = document.querySelector('#df-5289a90b-ec3e-4e85-8fd5-a40b5a481e19');\n",
              "        const dataTable =\n",
              "          await google.colab.kernel.invokeFunction('convertToInteractive',\n",
              "                                                    [key], {});\n",
              "        if (!dataTable) return;\n",
              "\n",
              "        const docLinkHtml = 'Like what you see? Visit the ' +\n",
              "          '<a target=\"_blank\" href=https://colab.research.google.com/notebooks/data_table.ipynb>data table notebook</a>'\n",
              "          + ' to learn more about interactive tables.';\n",
              "        element.innerHTML = '';\n",
              "        dataTable['output_type'] = 'display_data';\n",
              "        await google.colab.output.renderOutput(dataTable, element);\n",
              "        const docLink = document.createElement('div');\n",
              "        docLink.innerHTML = docLinkHtml;\n",
              "        element.appendChild(docLink);\n",
              "      }\n",
              "    </script>\n",
              "  </div>\n",
              "\n",
              "\n",
              "<div id=\"df-e5478b98-ded1-4520-83c4-7c6045560228\">\n",
              "  <button class=\"colab-df-quickchart\" onclick=\"quickchart('df-e5478b98-ded1-4520-83c4-7c6045560228')\"\n",
              "            title=\"Suggest charts\"\n",
              "            style=\"display:none;\">\n",
              "\n",
              "<svg xmlns=\"http://www.w3.org/2000/svg\" height=\"24px\"viewBox=\"0 0 24 24\"\n",
              "     width=\"24px\">\n",
              "    <g>\n",
              "        <path d=\"M19 3H5c-1.1 0-2 .9-2 2v14c0 1.1.9 2 2 2h14c1.1 0 2-.9 2-2V5c0-1.1-.9-2-2-2zM9 17H7v-7h2v7zm4 0h-2V7h2v10zm4 0h-2v-4h2v4z\"/>\n",
              "    </g>\n",
              "</svg>\n",
              "  </button>\n",
              "\n",
              "<style>\n",
              "  .colab-df-quickchart {\n",
              "      --bg-color: #E8F0FE;\n",
              "      --fill-color: #1967D2;\n",
              "      --hover-bg-color: #E2EBFA;\n",
              "      --hover-fill-color: #174EA6;\n",
              "      --disabled-fill-color: #AAA;\n",
              "      --disabled-bg-color: #DDD;\n",
              "  }\n",
              "\n",
              "  [theme=dark] .colab-df-quickchart {\n",
              "      --bg-color: #3B4455;\n",
              "      --fill-color: #D2E3FC;\n",
              "      --hover-bg-color: #434B5C;\n",
              "      --hover-fill-color: #FFFFFF;\n",
              "      --disabled-bg-color: #3B4455;\n",
              "      --disabled-fill-color: #666;\n",
              "  }\n",
              "\n",
              "  .colab-df-quickchart {\n",
              "    background-color: var(--bg-color);\n",
              "    border: none;\n",
              "    border-radius: 50%;\n",
              "    cursor: pointer;\n",
              "    display: none;\n",
              "    fill: var(--fill-color);\n",
              "    height: 32px;\n",
              "    padding: 0;\n",
              "    width: 32px;\n",
              "  }\n",
              "\n",
              "  .colab-df-quickchart:hover {\n",
              "    background-color: var(--hover-bg-color);\n",
              "    box-shadow: 0 1px 2px rgba(60, 64, 67, 0.3), 0 1px 3px 1px rgba(60, 64, 67, 0.15);\n",
              "    fill: var(--button-hover-fill-color);\n",
              "  }\n",
              "\n",
              "  .colab-df-quickchart-complete:disabled,\n",
              "  .colab-df-quickchart-complete:disabled:hover {\n",
              "    background-color: var(--disabled-bg-color);\n",
              "    fill: var(--disabled-fill-color);\n",
              "    box-shadow: none;\n",
              "  }\n",
              "\n",
              "  .colab-df-spinner {\n",
              "    border: 2px solid var(--fill-color);\n",
              "    border-color: transparent;\n",
              "    border-bottom-color: var(--fill-color);\n",
              "    animation:\n",
              "      spin 1s steps(1) infinite;\n",
              "  }\n",
              "\n",
              "  @keyframes spin {\n",
              "    0% {\n",
              "      border-color: transparent;\n",
              "      border-bottom-color: var(--fill-color);\n",
              "      border-left-color: var(--fill-color);\n",
              "    }\n",
              "    20% {\n",
              "      border-color: transparent;\n",
              "      border-left-color: var(--fill-color);\n",
              "      border-top-color: var(--fill-color);\n",
              "    }\n",
              "    30% {\n",
              "      border-color: transparent;\n",
              "      border-left-color: var(--fill-color);\n",
              "      border-top-color: var(--fill-color);\n",
              "      border-right-color: var(--fill-color);\n",
              "    }\n",
              "    40% {\n",
              "      border-color: transparent;\n",
              "      border-right-color: var(--fill-color);\n",
              "      border-top-color: var(--fill-color);\n",
              "    }\n",
              "    60% {\n",
              "      border-color: transparent;\n",
              "      border-right-color: var(--fill-color);\n",
              "    }\n",
              "    80% {\n",
              "      border-color: transparent;\n",
              "      border-right-color: var(--fill-color);\n",
              "      border-bottom-color: var(--fill-color);\n",
              "    }\n",
              "    90% {\n",
              "      border-color: transparent;\n",
              "      border-bottom-color: var(--fill-color);\n",
              "    }\n",
              "  }\n",
              "</style>\n",
              "\n",
              "  <script>\n",
              "    async function quickchart(key) {\n",
              "      const quickchartButtonEl =\n",
              "        document.querySelector('#' + key + ' button');\n",
              "      quickchartButtonEl.disabled = true;  // To prevent multiple clicks.\n",
              "      quickchartButtonEl.classList.add('colab-df-spinner');\n",
              "      try {\n",
              "        const charts = await google.colab.kernel.invokeFunction(\n",
              "            'suggestCharts', [key], {});\n",
              "      } catch (error) {\n",
              "        console.error('Error during call to suggestCharts:', error);\n",
              "      }\n",
              "      quickchartButtonEl.classList.remove('colab-df-spinner');\n",
              "      quickchartButtonEl.classList.add('colab-df-quickchart-complete');\n",
              "    }\n",
              "    (() => {\n",
              "      let quickchartButtonEl =\n",
              "        document.querySelector('#df-e5478b98-ded1-4520-83c4-7c6045560228 button');\n",
              "      quickchartButtonEl.style.display =\n",
              "        google.colab.kernel.accessAllowed ? 'block' : 'none';\n",
              "    })();\n",
              "  </script>\n",
              "</div>\n",
              "    </div>\n",
              "  </div>\n"
            ]
          },
          "metadata": {},
          "execution_count": 204
        }
      ]
    },
    {
      "cell_type": "code",
      "source": [
        "final_data.shape"
      ],
      "metadata": {
        "colab": {
          "base_uri": "https://localhost:8080/"
        },
        "id": "yU4PiFkHX41R",
        "outputId": "b48e2d1a-3365-48de-d02a-ad20681095be"
      },
      "execution_count": 205,
      "outputs": [
        {
          "output_type": "execute_result",
          "data": {
            "text/plain": [
              "(17378, 14)"
            ]
          },
          "metadata": {},
          "execution_count": 205
        }
      ]
    },
    {
      "cell_type": "code",
      "source": [
        "final_data.columns"
      ],
      "metadata": {
        "colab": {
          "base_uri": "https://localhost:8080/"
        },
        "id": "4JtBMa-c3xwb",
        "outputId": "eb59113f-c526-4e98-d6f1-2e2b71d23277"
      },
      "execution_count": 206,
      "outputs": [
        {
          "output_type": "execute_result",
          "data": {
            "text/plain": [
              "Index(['batting_team', 'bowling_team', 'wides', 'noballs', 'byes', 'legbyes',\n",
              "       'penalty', 'balls_left', 'cumulative_runs', 'run_rate', 'result',\n",
              "       'target_runs', 'req_runs', 'req_rr'],\n",
              "      dtype='object')"
            ]
          },
          "metadata": {},
          "execution_count": 206
        }
      ]
    },
    {
      "cell_type": "markdown",
      "source": [
        "#ML (Over Sampling)"
      ],
      "metadata": {
        "id": "UkUFSzK8bxzr"
      }
    },
    {
      "cell_type": "code",
      "source": [
        "X = final_data.drop('result', axis=1)\n",
        "y = final_data['result']"
      ],
      "metadata": {
        "id": "90xahqBmG_Gb"
      },
      "execution_count": 1826,
      "outputs": []
    },
    {
      "cell_type": "code",
      "source": [
        "X_train, X_temp, y_train, y_temp = train_test_split(X, y, test_size=0.3, random_state=42)\n",
        "X_val, X_test, y_val, y_test = train_test_split(X_temp, y_temp, test_size=0.5, random_state=42)"
      ],
      "metadata": {
        "id": "dHDv3EraH3qq"
      },
      "execution_count": 1827,
      "outputs": []
    },
    {
      "cell_type": "code",
      "source": [
        "oversampler = RandomOverSampler(sampling_strategy='auto', random_state=42)\n",
        "X_resampled, y_resampled = oversampler.fit_resample(X_train, y_train)"
      ],
      "metadata": {
        "id": "RZkqL0Wqasze"
      },
      "execution_count": 1828,
      "outputs": []
    },
    {
      "cell_type": "code",
      "source": [
        "one_hot_cols = ['bowling_team', 'batting_team']\n",
        "std_scale_cols = ['balls_left', 'cumulative_runs', 'run_rate', 'target_runs', 'req_runs', 'req_rr']"
      ],
      "metadata": {
        "id": "ZPXChd2SH_j4"
      },
      "execution_count": 1829,
      "outputs": []
    },
    {
      "cell_type": "code",
      "source": [
        "ct = ColumnTransformer(transformers=[\n",
        "    ('one_hot', OneHotEncoder(sparse=False, drop=\"first\"), one_hot_cols),\n",
        "    ('scaler', StandardScaler(), std_scale_cols)\n",
        "])"
      ],
      "metadata": {
        "id": "CxqRQPf_IBqM"
      },
      "execution_count": 1830,
      "outputs": []
    },
    {
      "cell_type": "markdown",
      "source": [
        "###Random Forest Classifier"
      ],
      "metadata": {
        "id": "56jBdikdPShh"
      }
    },
    {
      "cell_type": "code",
      "source": [
        "pipe_rf = Pipeline([\n",
        "    ('transformer', ct),\n",
        "    ('classifier', RandomForestClassifier(class_weight='balanced', random_state=42))\n",
        "])"
      ],
      "metadata": {
        "id": "pXQAotn8Iusa"
      },
      "execution_count": 1831,
      "outputs": []
    },
    {
      "cell_type": "code",
      "source": [
        "param_grid_rf = {\n",
        "    'classifier__n_estimators': [50, 100, 200],\n",
        "    'classifier__min_samples_leaf': [1, 2, 4],\n",
        "}"
      ],
      "metadata": {
        "id": "QzYlQoozI_93"
      },
      "execution_count": 1832,
      "outputs": []
    },
    {
      "cell_type": "code",
      "source": [
        "grid_search_rf = GridSearchCV(pipe_rf, param_grid_rf, cv=5, scoring='accuracy')\n",
        "grid_search_rf.fit(X_resampled, y_resampled)"
      ],
      "metadata": {
        "colab": {
          "base_uri": "https://localhost:8080/",
          "height": 216
        },
        "id": "iNaBSH8AMoaO",
        "outputId": "b06130fa-34c3-4a1d-c35b-b25b981b805e"
      },
      "execution_count": 1833,
      "outputs": [
        {
          "output_type": "execute_result",
          "data": {
            "text/plain": [
              "GridSearchCV(cv=5,\n",
              "             estimator=Pipeline(steps=[('transformer',\n",
              "                                        ColumnTransformer(transformers=[('one_hot',\n",
              "                                                                         OneHotEncoder(drop='first',\n",
              "                                                                                       sparse=False),\n",
              "                                                                         ['bowling_team',\n",
              "                                                                          'batting_team']),\n",
              "                                                                        ('scaler',\n",
              "                                                                         StandardScaler(),\n",
              "                                                                         ['balls_left',\n",
              "                                                                          'cumulative_runs',\n",
              "                                                                          'run_rate',\n",
              "                                                                          'target_runs',\n",
              "                                                                          'req_runs',\n",
              "                                                                          'req_rr'])])),\n",
              "                                       ('classifier',\n",
              "                                        RandomForestClassifier(class_weight='balanced',\n",
              "                                                               random_state=42))]),\n",
              "             param_grid={'classifier__min_samples_leaf': [1, 2, 4],\n",
              "                         'classifier__n_estimators': [50, 100, 200]},\n",
              "             scoring='accuracy')"
            ],
            "text/html": [
              "<style>#sk-container-id-19 {color: black;background-color: white;}#sk-container-id-19 pre{padding: 0;}#sk-container-id-19 div.sk-toggleable {background-color: white;}#sk-container-id-19 label.sk-toggleable__label {cursor: pointer;display: block;width: 100%;margin-bottom: 0;padding: 0.3em;box-sizing: border-box;text-align: center;}#sk-container-id-19 label.sk-toggleable__label-arrow:before {content: \"▸\";float: left;margin-right: 0.25em;color: #696969;}#sk-container-id-19 label.sk-toggleable__label-arrow:hover:before {color: black;}#sk-container-id-19 div.sk-estimator:hover label.sk-toggleable__label-arrow:before {color: black;}#sk-container-id-19 div.sk-toggleable__content {max-height: 0;max-width: 0;overflow: hidden;text-align: left;background-color: #f0f8ff;}#sk-container-id-19 div.sk-toggleable__content pre {margin: 0.2em;color: black;border-radius: 0.25em;background-color: #f0f8ff;}#sk-container-id-19 input.sk-toggleable__control:checked~div.sk-toggleable__content {max-height: 200px;max-width: 100%;overflow: auto;}#sk-container-id-19 input.sk-toggleable__control:checked~label.sk-toggleable__label-arrow:before {content: \"▾\";}#sk-container-id-19 div.sk-estimator input.sk-toggleable__control:checked~label.sk-toggleable__label {background-color: #d4ebff;}#sk-container-id-19 div.sk-label input.sk-toggleable__control:checked~label.sk-toggleable__label {background-color: #d4ebff;}#sk-container-id-19 input.sk-hidden--visually {border: 0;clip: rect(1px 1px 1px 1px);clip: rect(1px, 1px, 1px, 1px);height: 1px;margin: -1px;overflow: hidden;padding: 0;position: absolute;width: 1px;}#sk-container-id-19 div.sk-estimator {font-family: monospace;background-color: #f0f8ff;border: 1px dotted black;border-radius: 0.25em;box-sizing: border-box;margin-bottom: 0.5em;}#sk-container-id-19 div.sk-estimator:hover {background-color: #d4ebff;}#sk-container-id-19 div.sk-parallel-item::after {content: \"\";width: 100%;border-bottom: 1px solid gray;flex-grow: 1;}#sk-container-id-19 div.sk-label:hover label.sk-toggleable__label {background-color: #d4ebff;}#sk-container-id-19 div.sk-serial::before {content: \"\";position: absolute;border-left: 1px solid gray;box-sizing: border-box;top: 0;bottom: 0;left: 50%;z-index: 0;}#sk-container-id-19 div.sk-serial {display: flex;flex-direction: column;align-items: center;background-color: white;padding-right: 0.2em;padding-left: 0.2em;position: relative;}#sk-container-id-19 div.sk-item {position: relative;z-index: 1;}#sk-container-id-19 div.sk-parallel {display: flex;align-items: stretch;justify-content: center;background-color: white;position: relative;}#sk-container-id-19 div.sk-item::before, #sk-container-id-19 div.sk-parallel-item::before {content: \"\";position: absolute;border-left: 1px solid gray;box-sizing: border-box;top: 0;bottom: 0;left: 50%;z-index: -1;}#sk-container-id-19 div.sk-parallel-item {display: flex;flex-direction: column;z-index: 1;position: relative;background-color: white;}#sk-container-id-19 div.sk-parallel-item:first-child::after {align-self: flex-end;width: 50%;}#sk-container-id-19 div.sk-parallel-item:last-child::after {align-self: flex-start;width: 50%;}#sk-container-id-19 div.sk-parallel-item:only-child::after {width: 0;}#sk-container-id-19 div.sk-dashed-wrapped {border: 1px dashed gray;margin: 0 0.4em 0.5em 0.4em;box-sizing: border-box;padding-bottom: 0.4em;background-color: white;}#sk-container-id-19 div.sk-label label {font-family: monospace;font-weight: bold;display: inline-block;line-height: 1.2em;}#sk-container-id-19 div.sk-label-container {text-align: center;}#sk-container-id-19 div.sk-container {/* jupyter's `normalize.less` sets `[hidden] { display: none; }` but bootstrap.min.css set `[hidden] { display: none !important; }` so we also need the `!important` here to be able to override the default hidden behavior on the sphinx rendered scikit-learn.org. See: https://github.com/scikit-learn/scikit-learn/issues/21755 */display: inline-block !important;position: relative;}#sk-container-id-19 div.sk-text-repr-fallback {display: none;}</style><div id=\"sk-container-id-19\" class=\"sk-top-container\"><div class=\"sk-text-repr-fallback\"><pre>GridSearchCV(cv=5,\n",
              "             estimator=Pipeline(steps=[(&#x27;transformer&#x27;,\n",
              "                                        ColumnTransformer(transformers=[(&#x27;one_hot&#x27;,\n",
              "                                                                         OneHotEncoder(drop=&#x27;first&#x27;,\n",
              "                                                                                       sparse=False),\n",
              "                                                                         [&#x27;bowling_team&#x27;,\n",
              "                                                                          &#x27;batting_team&#x27;]),\n",
              "                                                                        (&#x27;scaler&#x27;,\n",
              "                                                                         StandardScaler(),\n",
              "                                                                         [&#x27;balls_left&#x27;,\n",
              "                                                                          &#x27;cumulative_runs&#x27;,\n",
              "                                                                          &#x27;run_rate&#x27;,\n",
              "                                                                          &#x27;target_runs&#x27;,\n",
              "                                                                          &#x27;req_runs&#x27;,\n",
              "                                                                          &#x27;req_rr&#x27;])])),\n",
              "                                       (&#x27;classifier&#x27;,\n",
              "                                        RandomForestClassifier(class_weight=&#x27;balanced&#x27;,\n",
              "                                                               random_state=42))]),\n",
              "             param_grid={&#x27;classifier__min_samples_leaf&#x27;: [1, 2, 4],\n",
              "                         &#x27;classifier__n_estimators&#x27;: [50, 100, 200]},\n",
              "             scoring=&#x27;accuracy&#x27;)</pre><b>In a Jupyter environment, please rerun this cell to show the HTML representation or trust the notebook. <br />On GitHub, the HTML representation is unable to render, please try loading this page with nbviewer.org.</b></div><div class=\"sk-container\" hidden><div class=\"sk-item sk-dashed-wrapped\"><div class=\"sk-label-container\"><div class=\"sk-label sk-toggleable\"><input class=\"sk-toggleable__control sk-hidden--visually\" id=\"sk-estimator-id-116\" type=\"checkbox\" ><label for=\"sk-estimator-id-116\" class=\"sk-toggleable__label sk-toggleable__label-arrow\">GridSearchCV</label><div class=\"sk-toggleable__content\"><pre>GridSearchCV(cv=5,\n",
              "             estimator=Pipeline(steps=[(&#x27;transformer&#x27;,\n",
              "                                        ColumnTransformer(transformers=[(&#x27;one_hot&#x27;,\n",
              "                                                                         OneHotEncoder(drop=&#x27;first&#x27;,\n",
              "                                                                                       sparse=False),\n",
              "                                                                         [&#x27;bowling_team&#x27;,\n",
              "                                                                          &#x27;batting_team&#x27;]),\n",
              "                                                                        (&#x27;scaler&#x27;,\n",
              "                                                                         StandardScaler(),\n",
              "                                                                         [&#x27;balls_left&#x27;,\n",
              "                                                                          &#x27;cumulative_runs&#x27;,\n",
              "                                                                          &#x27;run_rate&#x27;,\n",
              "                                                                          &#x27;target_runs&#x27;,\n",
              "                                                                          &#x27;req_runs&#x27;,\n",
              "                                                                          &#x27;req_rr&#x27;])])),\n",
              "                                       (&#x27;classifier&#x27;,\n",
              "                                        RandomForestClassifier(class_weight=&#x27;balanced&#x27;,\n",
              "                                                               random_state=42))]),\n",
              "             param_grid={&#x27;classifier__min_samples_leaf&#x27;: [1, 2, 4],\n",
              "                         &#x27;classifier__n_estimators&#x27;: [50, 100, 200]},\n",
              "             scoring=&#x27;accuracy&#x27;)</pre></div></div></div><div class=\"sk-parallel\"><div class=\"sk-parallel-item\"><div class=\"sk-item\"><div class=\"sk-label-container\"><div class=\"sk-label sk-toggleable\"><input class=\"sk-toggleable__control sk-hidden--visually\" id=\"sk-estimator-id-117\" type=\"checkbox\" ><label for=\"sk-estimator-id-117\" class=\"sk-toggleable__label sk-toggleable__label-arrow\">estimator: Pipeline</label><div class=\"sk-toggleable__content\"><pre>Pipeline(steps=[(&#x27;transformer&#x27;,\n",
              "                 ColumnTransformer(transformers=[(&#x27;one_hot&#x27;,\n",
              "                                                  OneHotEncoder(drop=&#x27;first&#x27;,\n",
              "                                                                sparse=False),\n",
              "                                                  [&#x27;bowling_team&#x27;,\n",
              "                                                   &#x27;batting_team&#x27;]),\n",
              "                                                 (&#x27;scaler&#x27;, StandardScaler(),\n",
              "                                                  [&#x27;balls_left&#x27;,\n",
              "                                                   &#x27;cumulative_runs&#x27;,\n",
              "                                                   &#x27;run_rate&#x27;, &#x27;target_runs&#x27;,\n",
              "                                                   &#x27;req_runs&#x27;, &#x27;req_rr&#x27;])])),\n",
              "                (&#x27;classifier&#x27;,\n",
              "                 RandomForestClassifier(class_weight=&#x27;balanced&#x27;,\n",
              "                                        random_state=42))])</pre></div></div></div><div class=\"sk-serial\"><div class=\"sk-item\"><div class=\"sk-serial\"><div class=\"sk-item sk-dashed-wrapped\"><div class=\"sk-label-container\"><div class=\"sk-label sk-toggleable\"><input class=\"sk-toggleable__control sk-hidden--visually\" id=\"sk-estimator-id-118\" type=\"checkbox\" ><label for=\"sk-estimator-id-118\" class=\"sk-toggleable__label sk-toggleable__label-arrow\">transformer: ColumnTransformer</label><div class=\"sk-toggleable__content\"><pre>ColumnTransformer(transformers=[(&#x27;one_hot&#x27;,\n",
              "                                 OneHotEncoder(drop=&#x27;first&#x27;, sparse=False),\n",
              "                                 [&#x27;bowling_team&#x27;, &#x27;batting_team&#x27;]),\n",
              "                                (&#x27;scaler&#x27;, StandardScaler(),\n",
              "                                 [&#x27;balls_left&#x27;, &#x27;cumulative_runs&#x27;, &#x27;run_rate&#x27;,\n",
              "                                  &#x27;target_runs&#x27;, &#x27;req_runs&#x27;, &#x27;req_rr&#x27;])])</pre></div></div></div><div class=\"sk-parallel\"><div class=\"sk-parallel-item\"><div class=\"sk-item\"><div class=\"sk-label-container\"><div class=\"sk-label sk-toggleable\"><input class=\"sk-toggleable__control sk-hidden--visually\" id=\"sk-estimator-id-119\" type=\"checkbox\" ><label for=\"sk-estimator-id-119\" class=\"sk-toggleable__label sk-toggleable__label-arrow\">one_hot</label><div class=\"sk-toggleable__content\"><pre>[&#x27;bowling_team&#x27;, &#x27;batting_team&#x27;]</pre></div></div></div><div class=\"sk-serial\"><div class=\"sk-item\"><div class=\"sk-estimator sk-toggleable\"><input class=\"sk-toggleable__control sk-hidden--visually\" id=\"sk-estimator-id-120\" type=\"checkbox\" ><label for=\"sk-estimator-id-120\" class=\"sk-toggleable__label sk-toggleable__label-arrow\">OneHotEncoder</label><div class=\"sk-toggleable__content\"><pre>OneHotEncoder(drop=&#x27;first&#x27;, sparse=False)</pre></div></div></div></div></div></div><div class=\"sk-parallel-item\"><div class=\"sk-item\"><div class=\"sk-label-container\"><div class=\"sk-label sk-toggleable\"><input class=\"sk-toggleable__control sk-hidden--visually\" id=\"sk-estimator-id-121\" type=\"checkbox\" ><label for=\"sk-estimator-id-121\" class=\"sk-toggleable__label sk-toggleable__label-arrow\">scaler</label><div class=\"sk-toggleable__content\"><pre>[&#x27;balls_left&#x27;, &#x27;cumulative_runs&#x27;, &#x27;run_rate&#x27;, &#x27;target_runs&#x27;, &#x27;req_runs&#x27;, &#x27;req_rr&#x27;]</pre></div></div></div><div class=\"sk-serial\"><div class=\"sk-item\"><div class=\"sk-estimator sk-toggleable\"><input class=\"sk-toggleable__control sk-hidden--visually\" id=\"sk-estimator-id-122\" type=\"checkbox\" ><label for=\"sk-estimator-id-122\" class=\"sk-toggleable__label sk-toggleable__label-arrow\">StandardScaler</label><div class=\"sk-toggleable__content\"><pre>StandardScaler()</pre></div></div></div></div></div></div></div></div><div class=\"sk-item\"><div class=\"sk-estimator sk-toggleable\"><input class=\"sk-toggleable__control sk-hidden--visually\" id=\"sk-estimator-id-123\" type=\"checkbox\" ><label for=\"sk-estimator-id-123\" class=\"sk-toggleable__label sk-toggleable__label-arrow\">RandomForestClassifier</label><div class=\"sk-toggleable__content\"><pre>RandomForestClassifier(class_weight=&#x27;balanced&#x27;, random_state=42)</pre></div></div></div></div></div></div></div></div></div></div></div></div>"
            ]
          },
          "metadata": {},
          "execution_count": 1833
        }
      ]
    },
    {
      "cell_type": "code",
      "source": [
        "print(\"Best parameters for Random Forest:\", grid_search_rf.best_params_)\n",
        "print(\"Best cross-validation accuracy for Random Forest:\", grid_search_rf.best_score_)"
      ],
      "metadata": {
        "colab": {
          "base_uri": "https://localhost:8080/"
        },
        "id": "5SKN_BzIPfKL",
        "outputId": "ebdc1a15-6650-449a-b05d-67058e1ee741"
      },
      "execution_count": 1834,
      "outputs": [
        {
          "output_type": "stream",
          "name": "stdout",
          "text": [
            "Best parameters for Random Forest: {'classifier__min_samples_leaf': 1, 'classifier__n_estimators': 50}\n",
            "Best cross-validation accuracy for Random Forest: 0.9836183039214369\n"
          ]
        }
      ]
    },
    {
      "cell_type": "code",
      "source": [
        "val_accuracy_rf = grid_search_rf.score(X_val, y_val)\n",
        "print(\"Random Forest Validation set accuracy:\", val_accuracy_rf)\n",
        "\n",
        "test_accuracy_rf = grid_search_rf.score(X_test, y_test)\n",
        "print(\"Random Forest Test set accuracy:\", test_accuracy_rf)"
      ],
      "metadata": {
        "colab": {
          "base_uri": "https://localhost:8080/"
        },
        "id": "9pywM9SePiyk",
        "outputId": "8d07c6af-57af-45cf-b14b-0d281836ea55"
      },
      "execution_count": 1835,
      "outputs": [
        {
          "output_type": "stream",
          "name": "stdout",
          "text": [
            "Random Forest Validation set accuracy: 0.950517836593786\n",
            "Random Forest Test set accuracy: 0.9432297660145761\n"
          ]
        }
      ]
    },
    {
      "cell_type": "code",
      "source": [
        "y_pred_rf = grid_search_rf.predict(X_test)\n",
        "print(classification_report(y_test, y_pred_rf))"
      ],
      "metadata": {
        "colab": {
          "base_uri": "https://localhost:8080/"
        },
        "id": "guord5eJPk3c",
        "outputId": "fc84e085-7e45-4c5e-dffe-955d13892c5f"
      },
      "execution_count": 1836,
      "outputs": [
        {
          "output_type": "stream",
          "name": "stdout",
          "text": [
            "              precision    recall  f1-score   support\n",
            "\n",
            "           0       0.97      0.97      0.97      2535\n",
            "           1       0.05      0.06      0.05        72\n",
            "\n",
            "    accuracy                           0.94      2607\n",
            "   macro avg       0.51      0.51      0.51      2607\n",
            "weighted avg       0.95      0.94      0.95      2607\n",
            "\n"
          ]
        }
      ]
    },
    {
      "cell_type": "markdown",
      "source": [
        "###Logistic Regression"
      ],
      "metadata": {
        "id": "t3aPpj4ZPo7v"
      }
    },
    {
      "cell_type": "code",
      "source": [
        "pipe_lr = Pipeline([\n",
        "    ('transformer', ct),\n",
        "    ('classifier', LogisticRegression(random_state=42, class_weight='balanced'))\n",
        "])"
      ],
      "metadata": {
        "id": "GPq2SETRPrV6"
      },
      "execution_count": 1837,
      "outputs": []
    },
    {
      "cell_type": "code",
      "source": [
        "param_grid_lr = {\n",
        "    'classifier__C': [0.01, 0.1, 1, 10, 100],\n",
        "    'classifier__penalty': ['l1', 'l2']\n",
        "}"
      ],
      "metadata": {
        "id": "fhvf73xIPtoV"
      },
      "execution_count": 1838,
      "outputs": []
    },
    {
      "cell_type": "code",
      "source": [
        "grid_search_lr = GridSearchCV(pipe_lr, param_grid_lr, cv=5, scoring='accuracy')\n",
        "grid_search_lr.fit(X_resampled, y_resampled)"
      ],
      "metadata": {
        "colab": {
          "base_uri": "https://localhost:8080/",
          "height": 216
        },
        "id": "5ZAaLkGTPx_t",
        "outputId": "46642c18-5a98-4a39-c79b-96bc40888003"
      },
      "execution_count": 1839,
      "outputs": [
        {
          "output_type": "execute_result",
          "data": {
            "text/plain": [
              "GridSearchCV(cv=5,\n",
              "             estimator=Pipeline(steps=[('transformer',\n",
              "                                        ColumnTransformer(transformers=[('one_hot',\n",
              "                                                                         OneHotEncoder(drop='first',\n",
              "                                                                                       sparse=False),\n",
              "                                                                         ['bowling_team',\n",
              "                                                                          'batting_team']),\n",
              "                                                                        ('scaler',\n",
              "                                                                         StandardScaler(),\n",
              "                                                                         ['balls_left',\n",
              "                                                                          'cumulative_runs',\n",
              "                                                                          'run_rate',\n",
              "                                                                          'target_runs',\n",
              "                                                                          'req_runs',\n",
              "                                                                          'req_rr'])])),\n",
              "                                       ('classifier',\n",
              "                                        LogisticRegression(class_weight='balanced',\n",
              "                                                           random_state=42))]),\n",
              "             param_grid={'classifier__C': [0.01, 0.1, 1, 10, 100],\n",
              "                         'classifier__penalty': ['l1', 'l2']},\n",
              "             scoring='accuracy')"
            ],
            "text/html": [
              "<style>#sk-container-id-20 {color: black;background-color: white;}#sk-container-id-20 pre{padding: 0;}#sk-container-id-20 div.sk-toggleable {background-color: white;}#sk-container-id-20 label.sk-toggleable__label {cursor: pointer;display: block;width: 100%;margin-bottom: 0;padding: 0.3em;box-sizing: border-box;text-align: center;}#sk-container-id-20 label.sk-toggleable__label-arrow:before {content: \"▸\";float: left;margin-right: 0.25em;color: #696969;}#sk-container-id-20 label.sk-toggleable__label-arrow:hover:before {color: black;}#sk-container-id-20 div.sk-estimator:hover label.sk-toggleable__label-arrow:before {color: black;}#sk-container-id-20 div.sk-toggleable__content {max-height: 0;max-width: 0;overflow: hidden;text-align: left;background-color: #f0f8ff;}#sk-container-id-20 div.sk-toggleable__content pre {margin: 0.2em;color: black;border-radius: 0.25em;background-color: #f0f8ff;}#sk-container-id-20 input.sk-toggleable__control:checked~div.sk-toggleable__content {max-height: 200px;max-width: 100%;overflow: auto;}#sk-container-id-20 input.sk-toggleable__control:checked~label.sk-toggleable__label-arrow:before {content: \"▾\";}#sk-container-id-20 div.sk-estimator input.sk-toggleable__control:checked~label.sk-toggleable__label {background-color: #d4ebff;}#sk-container-id-20 div.sk-label input.sk-toggleable__control:checked~label.sk-toggleable__label {background-color: #d4ebff;}#sk-container-id-20 input.sk-hidden--visually {border: 0;clip: rect(1px 1px 1px 1px);clip: rect(1px, 1px, 1px, 1px);height: 1px;margin: -1px;overflow: hidden;padding: 0;position: absolute;width: 1px;}#sk-container-id-20 div.sk-estimator {font-family: monospace;background-color: #f0f8ff;border: 1px dotted black;border-radius: 0.25em;box-sizing: border-box;margin-bottom: 0.5em;}#sk-container-id-20 div.sk-estimator:hover {background-color: #d4ebff;}#sk-container-id-20 div.sk-parallel-item::after {content: \"\";width: 100%;border-bottom: 1px solid gray;flex-grow: 1;}#sk-container-id-20 div.sk-label:hover label.sk-toggleable__label {background-color: #d4ebff;}#sk-container-id-20 div.sk-serial::before {content: \"\";position: absolute;border-left: 1px solid gray;box-sizing: border-box;top: 0;bottom: 0;left: 50%;z-index: 0;}#sk-container-id-20 div.sk-serial {display: flex;flex-direction: column;align-items: center;background-color: white;padding-right: 0.2em;padding-left: 0.2em;position: relative;}#sk-container-id-20 div.sk-item {position: relative;z-index: 1;}#sk-container-id-20 div.sk-parallel {display: flex;align-items: stretch;justify-content: center;background-color: white;position: relative;}#sk-container-id-20 div.sk-item::before, #sk-container-id-20 div.sk-parallel-item::before {content: \"\";position: absolute;border-left: 1px solid gray;box-sizing: border-box;top: 0;bottom: 0;left: 50%;z-index: -1;}#sk-container-id-20 div.sk-parallel-item {display: flex;flex-direction: column;z-index: 1;position: relative;background-color: white;}#sk-container-id-20 div.sk-parallel-item:first-child::after {align-self: flex-end;width: 50%;}#sk-container-id-20 div.sk-parallel-item:last-child::after {align-self: flex-start;width: 50%;}#sk-container-id-20 div.sk-parallel-item:only-child::after {width: 0;}#sk-container-id-20 div.sk-dashed-wrapped {border: 1px dashed gray;margin: 0 0.4em 0.5em 0.4em;box-sizing: border-box;padding-bottom: 0.4em;background-color: white;}#sk-container-id-20 div.sk-label label {font-family: monospace;font-weight: bold;display: inline-block;line-height: 1.2em;}#sk-container-id-20 div.sk-label-container {text-align: center;}#sk-container-id-20 div.sk-container {/* jupyter's `normalize.less` sets `[hidden] { display: none; }` but bootstrap.min.css set `[hidden] { display: none !important; }` so we also need the `!important` here to be able to override the default hidden behavior on the sphinx rendered scikit-learn.org. See: https://github.com/scikit-learn/scikit-learn/issues/21755 */display: inline-block !important;position: relative;}#sk-container-id-20 div.sk-text-repr-fallback {display: none;}</style><div id=\"sk-container-id-20\" class=\"sk-top-container\"><div class=\"sk-text-repr-fallback\"><pre>GridSearchCV(cv=5,\n",
              "             estimator=Pipeline(steps=[(&#x27;transformer&#x27;,\n",
              "                                        ColumnTransformer(transformers=[(&#x27;one_hot&#x27;,\n",
              "                                                                         OneHotEncoder(drop=&#x27;first&#x27;,\n",
              "                                                                                       sparse=False),\n",
              "                                                                         [&#x27;bowling_team&#x27;,\n",
              "                                                                          &#x27;batting_team&#x27;]),\n",
              "                                                                        (&#x27;scaler&#x27;,\n",
              "                                                                         StandardScaler(),\n",
              "                                                                         [&#x27;balls_left&#x27;,\n",
              "                                                                          &#x27;cumulative_runs&#x27;,\n",
              "                                                                          &#x27;run_rate&#x27;,\n",
              "                                                                          &#x27;target_runs&#x27;,\n",
              "                                                                          &#x27;req_runs&#x27;,\n",
              "                                                                          &#x27;req_rr&#x27;])])),\n",
              "                                       (&#x27;classifier&#x27;,\n",
              "                                        LogisticRegression(class_weight=&#x27;balanced&#x27;,\n",
              "                                                           random_state=42))]),\n",
              "             param_grid={&#x27;classifier__C&#x27;: [0.01, 0.1, 1, 10, 100],\n",
              "                         &#x27;classifier__penalty&#x27;: [&#x27;l1&#x27;, &#x27;l2&#x27;]},\n",
              "             scoring=&#x27;accuracy&#x27;)</pre><b>In a Jupyter environment, please rerun this cell to show the HTML representation or trust the notebook. <br />On GitHub, the HTML representation is unable to render, please try loading this page with nbviewer.org.</b></div><div class=\"sk-container\" hidden><div class=\"sk-item sk-dashed-wrapped\"><div class=\"sk-label-container\"><div class=\"sk-label sk-toggleable\"><input class=\"sk-toggleable__control sk-hidden--visually\" id=\"sk-estimator-id-124\" type=\"checkbox\" ><label for=\"sk-estimator-id-124\" class=\"sk-toggleable__label sk-toggleable__label-arrow\">GridSearchCV</label><div class=\"sk-toggleable__content\"><pre>GridSearchCV(cv=5,\n",
              "             estimator=Pipeline(steps=[(&#x27;transformer&#x27;,\n",
              "                                        ColumnTransformer(transformers=[(&#x27;one_hot&#x27;,\n",
              "                                                                         OneHotEncoder(drop=&#x27;first&#x27;,\n",
              "                                                                                       sparse=False),\n",
              "                                                                         [&#x27;bowling_team&#x27;,\n",
              "                                                                          &#x27;batting_team&#x27;]),\n",
              "                                                                        (&#x27;scaler&#x27;,\n",
              "                                                                         StandardScaler(),\n",
              "                                                                         [&#x27;balls_left&#x27;,\n",
              "                                                                          &#x27;cumulative_runs&#x27;,\n",
              "                                                                          &#x27;run_rate&#x27;,\n",
              "                                                                          &#x27;target_runs&#x27;,\n",
              "                                                                          &#x27;req_runs&#x27;,\n",
              "                                                                          &#x27;req_rr&#x27;])])),\n",
              "                                       (&#x27;classifier&#x27;,\n",
              "                                        LogisticRegression(class_weight=&#x27;balanced&#x27;,\n",
              "                                                           random_state=42))]),\n",
              "             param_grid={&#x27;classifier__C&#x27;: [0.01, 0.1, 1, 10, 100],\n",
              "                         &#x27;classifier__penalty&#x27;: [&#x27;l1&#x27;, &#x27;l2&#x27;]},\n",
              "             scoring=&#x27;accuracy&#x27;)</pre></div></div></div><div class=\"sk-parallel\"><div class=\"sk-parallel-item\"><div class=\"sk-item\"><div class=\"sk-label-container\"><div class=\"sk-label sk-toggleable\"><input class=\"sk-toggleable__control sk-hidden--visually\" id=\"sk-estimator-id-125\" type=\"checkbox\" ><label for=\"sk-estimator-id-125\" class=\"sk-toggleable__label sk-toggleable__label-arrow\">estimator: Pipeline</label><div class=\"sk-toggleable__content\"><pre>Pipeline(steps=[(&#x27;transformer&#x27;,\n",
              "                 ColumnTransformer(transformers=[(&#x27;one_hot&#x27;,\n",
              "                                                  OneHotEncoder(drop=&#x27;first&#x27;,\n",
              "                                                                sparse=False),\n",
              "                                                  [&#x27;bowling_team&#x27;,\n",
              "                                                   &#x27;batting_team&#x27;]),\n",
              "                                                 (&#x27;scaler&#x27;, StandardScaler(),\n",
              "                                                  [&#x27;balls_left&#x27;,\n",
              "                                                   &#x27;cumulative_runs&#x27;,\n",
              "                                                   &#x27;run_rate&#x27;, &#x27;target_runs&#x27;,\n",
              "                                                   &#x27;req_runs&#x27;, &#x27;req_rr&#x27;])])),\n",
              "                (&#x27;classifier&#x27;,\n",
              "                 LogisticRegression(class_weight=&#x27;balanced&#x27;, random_state=42))])</pre></div></div></div><div class=\"sk-serial\"><div class=\"sk-item\"><div class=\"sk-serial\"><div class=\"sk-item sk-dashed-wrapped\"><div class=\"sk-label-container\"><div class=\"sk-label sk-toggleable\"><input class=\"sk-toggleable__control sk-hidden--visually\" id=\"sk-estimator-id-126\" type=\"checkbox\" ><label for=\"sk-estimator-id-126\" class=\"sk-toggleable__label sk-toggleable__label-arrow\">transformer: ColumnTransformer</label><div class=\"sk-toggleable__content\"><pre>ColumnTransformer(transformers=[(&#x27;one_hot&#x27;,\n",
              "                                 OneHotEncoder(drop=&#x27;first&#x27;, sparse=False),\n",
              "                                 [&#x27;bowling_team&#x27;, &#x27;batting_team&#x27;]),\n",
              "                                (&#x27;scaler&#x27;, StandardScaler(),\n",
              "                                 [&#x27;balls_left&#x27;, &#x27;cumulative_runs&#x27;, &#x27;run_rate&#x27;,\n",
              "                                  &#x27;target_runs&#x27;, &#x27;req_runs&#x27;, &#x27;req_rr&#x27;])])</pre></div></div></div><div class=\"sk-parallel\"><div class=\"sk-parallel-item\"><div class=\"sk-item\"><div class=\"sk-label-container\"><div class=\"sk-label sk-toggleable\"><input class=\"sk-toggleable__control sk-hidden--visually\" id=\"sk-estimator-id-127\" type=\"checkbox\" ><label for=\"sk-estimator-id-127\" class=\"sk-toggleable__label sk-toggleable__label-arrow\">one_hot</label><div class=\"sk-toggleable__content\"><pre>[&#x27;bowling_team&#x27;, &#x27;batting_team&#x27;]</pre></div></div></div><div class=\"sk-serial\"><div class=\"sk-item\"><div class=\"sk-estimator sk-toggleable\"><input class=\"sk-toggleable__control sk-hidden--visually\" id=\"sk-estimator-id-128\" type=\"checkbox\" ><label for=\"sk-estimator-id-128\" class=\"sk-toggleable__label sk-toggleable__label-arrow\">OneHotEncoder</label><div class=\"sk-toggleable__content\"><pre>OneHotEncoder(drop=&#x27;first&#x27;, sparse=False)</pre></div></div></div></div></div></div><div class=\"sk-parallel-item\"><div class=\"sk-item\"><div class=\"sk-label-container\"><div class=\"sk-label sk-toggleable\"><input class=\"sk-toggleable__control sk-hidden--visually\" id=\"sk-estimator-id-129\" type=\"checkbox\" ><label for=\"sk-estimator-id-129\" class=\"sk-toggleable__label sk-toggleable__label-arrow\">scaler</label><div class=\"sk-toggleable__content\"><pre>[&#x27;balls_left&#x27;, &#x27;cumulative_runs&#x27;, &#x27;run_rate&#x27;, &#x27;target_runs&#x27;, &#x27;req_runs&#x27;, &#x27;req_rr&#x27;]</pre></div></div></div><div class=\"sk-serial\"><div class=\"sk-item\"><div class=\"sk-estimator sk-toggleable\"><input class=\"sk-toggleable__control sk-hidden--visually\" id=\"sk-estimator-id-130\" type=\"checkbox\" ><label for=\"sk-estimator-id-130\" class=\"sk-toggleable__label sk-toggleable__label-arrow\">StandardScaler</label><div class=\"sk-toggleable__content\"><pre>StandardScaler()</pre></div></div></div></div></div></div></div></div><div class=\"sk-item\"><div class=\"sk-estimator sk-toggleable\"><input class=\"sk-toggleable__control sk-hidden--visually\" id=\"sk-estimator-id-131\" type=\"checkbox\" ><label for=\"sk-estimator-id-131\" class=\"sk-toggleable__label sk-toggleable__label-arrow\">LogisticRegression</label><div class=\"sk-toggleable__content\"><pre>LogisticRegression(class_weight=&#x27;balanced&#x27;, random_state=42)</pre></div></div></div></div></div></div></div></div></div></div></div></div>"
            ]
          },
          "metadata": {},
          "execution_count": 1839
        }
      ]
    },
    {
      "cell_type": "code",
      "source": [
        "print(\"Best parameters for Logistic Regression:\", grid_search_lr.best_params_)\n",
        "print(\"Best cross-validation accuracy for Logistic Regression:\", grid_search_lr.best_score_)"
      ],
      "metadata": {
        "colab": {
          "base_uri": "https://localhost:8080/"
        },
        "id": "mmdjI47kPzVt",
        "outputId": "1b27155c-dcd0-4f05-c6f4-25d8212f01fb"
      },
      "execution_count": 1840,
      "outputs": [
        {
          "output_type": "stream",
          "name": "stdout",
          "text": [
            "Best parameters for Logistic Regression: {'classifier__C': 0.1, 'classifier__penalty': 'l2'}\n",
            "Best cross-validation accuracy for Logistic Regression: 0.6085340196855862\n"
          ]
        }
      ]
    },
    {
      "cell_type": "code",
      "source": [
        "val_accuracy_lr = grid_search_lr.score(X_val, y_val)\n",
        "print(\"Logistic Regression Validation set accuracy:\", val_accuracy_lr)\n",
        "\n",
        "test_accuracy_lr = grid_search_lr.score(X_test, y_test)\n",
        "print(\"Logistic Regression Test set accuracy:\", test_accuracy_lr)"
      ],
      "metadata": {
        "colab": {
          "base_uri": "https://localhost:8080/"
        },
        "id": "0dj_2GknP2RL",
        "outputId": "2d81f331-73d1-4afc-9881-c96a92070030"
      },
      "execution_count": 1841,
      "outputs": [
        {
          "output_type": "stream",
          "name": "stdout",
          "text": [
            "Logistic Regression Validation set accuracy: 0.6148830072880705\n",
            "Logistic Regression Test set accuracy: 0.6133486766398158\n"
          ]
        }
      ]
    },
    {
      "cell_type": "code",
      "source": [
        "y_pred_lr = grid_search_lr.predict(X_test)\n",
        "print(classification_report(y_test, y_pred_lr))"
      ],
      "metadata": {
        "colab": {
          "base_uri": "https://localhost:8080/"
        },
        "id": "ir_J8FR0P5eQ",
        "outputId": "eaa7f01b-8a95-46f1-fc14-8c98c120e741"
      },
      "execution_count": 1842,
      "outputs": [
        {
          "output_type": "stream",
          "name": "stdout",
          "text": [
            "              precision    recall  f1-score   support\n",
            "\n",
            "           0       0.98      0.61      0.75      2535\n",
            "           1       0.05      0.65      0.09        72\n",
            "\n",
            "    accuracy                           0.61      2607\n",
            "   macro avg       0.51      0.63      0.42      2607\n",
            "weighted avg       0.96      0.61      0.74      2607\n",
            "\n"
          ]
        }
      ]
    },
    {
      "cell_type": "markdown",
      "source": [
        "###Conclusion:\n",
        "Oversampling has significantly improved the model's performance, providing high accuracy on both validation and test sets. Random Forest models often benefit from balanced class distribution."
      ],
      "metadata": {
        "id": "H2KWd1Y1NMyc"
      }
    },
    {
      "cell_type": "markdown",
      "source": [
        "#ML (Under Sampling)"
      ],
      "metadata": {
        "id": "prVn96okpmW4"
      }
    },
    {
      "cell_type": "code",
      "source": [
        "X = final_data.drop('result', axis=1)\n",
        "y = final_data['result']"
      ],
      "metadata": {
        "id": "Pwh53ZsSpq8I"
      },
      "execution_count": 2432,
      "outputs": []
    },
    {
      "cell_type": "code",
      "source": [
        "X_train, X_temp, y_train, y_temp = train_test_split(X, y, test_size=0.3, random_state=42)\n",
        "X_val, X_test, y_val, y_test = train_test_split(X_temp, y_temp, test_size=0.5, random_state=42)"
      ],
      "metadata": {
        "id": "CtjOGGtKpyUv"
      },
      "execution_count": 2433,
      "outputs": []
    },
    {
      "cell_type": "code",
      "source": [
        "one_hot_cols = ['bowling_team', 'batting_team']\n",
        "std_scale_cols = ['balls_left', 'cumulative_runs', 'run_rate', 'target_runs', 'req_runs', 'req_rr']"
      ],
      "metadata": {
        "id": "iY4PKTgZqBx_"
      },
      "execution_count": 2434,
      "outputs": []
    },
    {
      "cell_type": "code",
      "source": [
        "ct = ColumnTransformer(transformers=[\n",
        "    ('one_hot', OneHotEncoder(sparse=False, drop=\"first\"), one_hot_cols),\n",
        "    ('scaler', StandardScaler(), std_scale_cols)\n",
        "])"
      ],
      "metadata": {
        "id": "IAyOc1d_qHsh"
      },
      "execution_count": 2435,
      "outputs": []
    },
    {
      "cell_type": "code",
      "source": [
        "under_sampler_rf = RandomUnderSampler(sampling_strategy='auto', random_state=42)"
      ],
      "metadata": {
        "id": "vMPchPMrqLk0"
      },
      "execution_count": 2436,
      "outputs": []
    },
    {
      "cell_type": "code",
      "source": [
        "X_train_resampled, y_train_resampled = under_sampler_rf.fit_resample(X_train, y_train)"
      ],
      "metadata": {
        "id": "ROYiNPitraje"
      },
      "execution_count": 2437,
      "outputs": []
    },
    {
      "cell_type": "code",
      "source": [
        "pipe_rf = Pipeline([\n",
        "    ('transformer', ct),\n",
        "    ('classifier', RandomForestClassifier(random_state=42))\n",
        "])"
      ],
      "metadata": {
        "id": "N4JOa-HgqPym"
      },
      "execution_count": 2438,
      "outputs": []
    },
    {
      "cell_type": "code",
      "source": [
        "param_grid_rf = {\n",
        "    'classifier__n_estimators': [50, 100, 200],\n",
        "    'classifier__min_samples_leaf': [1, 2, 4],\n",
        "}"
      ],
      "metadata": {
        "id": "wywGbF1kqUG5"
      },
      "execution_count": 2439,
      "outputs": []
    },
    {
      "cell_type": "code",
      "source": [
        "grid_search_rf = GridSearchCV(pipe_rf, param_grid_rf, cv=5, scoring='accuracy')\n",
        "grid_search_rf.fit(X_train_resampled, y_train_resampled)"
      ],
      "metadata": {
        "colab": {
          "base_uri": "https://localhost:8080/",
          "height": 216
        },
        "id": "qRPdylONqXQA",
        "outputId": "f038195b-3082-48b7-847b-f8c4b9909f77"
      },
      "execution_count": 2440,
      "outputs": [
        {
          "output_type": "execute_result",
          "data": {
            "text/plain": [
              "GridSearchCV(cv=5,\n",
              "             estimator=Pipeline(steps=[('transformer',\n",
              "                                        ColumnTransformer(transformers=[('one_hot',\n",
              "                                                                         OneHotEncoder(drop='first',\n",
              "                                                                                       sparse=False),\n",
              "                                                                         ['bowling_team',\n",
              "                                                                          'batting_team']),\n",
              "                                                                        ('scaler',\n",
              "                                                                         StandardScaler(),\n",
              "                                                                         ['balls_left',\n",
              "                                                                          'cumulative_runs',\n",
              "                                                                          'run_rate',\n",
              "                                                                          'target_runs',\n",
              "                                                                          'req_runs',\n",
              "                                                                          'req_rr'])])),\n",
              "                                       ('classifier',\n",
              "                                        RandomForestClassifier(random_state=42))]),\n",
              "             param_grid={'classifier__min_samples_leaf': [1, 2, 4],\n",
              "                         'classifier__n_estimators': [50, 100, 200]},\n",
              "             scoring='accuracy')"
            ],
            "text/html": [
              "<style>#sk-container-id-24 {color: black;background-color: white;}#sk-container-id-24 pre{padding: 0;}#sk-container-id-24 div.sk-toggleable {background-color: white;}#sk-container-id-24 label.sk-toggleable__label {cursor: pointer;display: block;width: 100%;margin-bottom: 0;padding: 0.3em;box-sizing: border-box;text-align: center;}#sk-container-id-24 label.sk-toggleable__label-arrow:before {content: \"▸\";float: left;margin-right: 0.25em;color: #696969;}#sk-container-id-24 label.sk-toggleable__label-arrow:hover:before {color: black;}#sk-container-id-24 div.sk-estimator:hover label.sk-toggleable__label-arrow:before {color: black;}#sk-container-id-24 div.sk-toggleable__content {max-height: 0;max-width: 0;overflow: hidden;text-align: left;background-color: #f0f8ff;}#sk-container-id-24 div.sk-toggleable__content pre {margin: 0.2em;color: black;border-radius: 0.25em;background-color: #f0f8ff;}#sk-container-id-24 input.sk-toggleable__control:checked~div.sk-toggleable__content {max-height: 200px;max-width: 100%;overflow: auto;}#sk-container-id-24 input.sk-toggleable__control:checked~label.sk-toggleable__label-arrow:before {content: \"▾\";}#sk-container-id-24 div.sk-estimator input.sk-toggleable__control:checked~label.sk-toggleable__label {background-color: #d4ebff;}#sk-container-id-24 div.sk-label input.sk-toggleable__control:checked~label.sk-toggleable__label {background-color: #d4ebff;}#sk-container-id-24 input.sk-hidden--visually {border: 0;clip: rect(1px 1px 1px 1px);clip: rect(1px, 1px, 1px, 1px);height: 1px;margin: -1px;overflow: hidden;padding: 0;position: absolute;width: 1px;}#sk-container-id-24 div.sk-estimator {font-family: monospace;background-color: #f0f8ff;border: 1px dotted black;border-radius: 0.25em;box-sizing: border-box;margin-bottom: 0.5em;}#sk-container-id-24 div.sk-estimator:hover {background-color: #d4ebff;}#sk-container-id-24 div.sk-parallel-item::after {content: \"\";width: 100%;border-bottom: 1px solid gray;flex-grow: 1;}#sk-container-id-24 div.sk-label:hover label.sk-toggleable__label {background-color: #d4ebff;}#sk-container-id-24 div.sk-serial::before {content: \"\";position: absolute;border-left: 1px solid gray;box-sizing: border-box;top: 0;bottom: 0;left: 50%;z-index: 0;}#sk-container-id-24 div.sk-serial {display: flex;flex-direction: column;align-items: center;background-color: white;padding-right: 0.2em;padding-left: 0.2em;position: relative;}#sk-container-id-24 div.sk-item {position: relative;z-index: 1;}#sk-container-id-24 div.sk-parallel {display: flex;align-items: stretch;justify-content: center;background-color: white;position: relative;}#sk-container-id-24 div.sk-item::before, #sk-container-id-24 div.sk-parallel-item::before {content: \"\";position: absolute;border-left: 1px solid gray;box-sizing: border-box;top: 0;bottom: 0;left: 50%;z-index: -1;}#sk-container-id-24 div.sk-parallel-item {display: flex;flex-direction: column;z-index: 1;position: relative;background-color: white;}#sk-container-id-24 div.sk-parallel-item:first-child::after {align-self: flex-end;width: 50%;}#sk-container-id-24 div.sk-parallel-item:last-child::after {align-self: flex-start;width: 50%;}#sk-container-id-24 div.sk-parallel-item:only-child::after {width: 0;}#sk-container-id-24 div.sk-dashed-wrapped {border: 1px dashed gray;margin: 0 0.4em 0.5em 0.4em;box-sizing: border-box;padding-bottom: 0.4em;background-color: white;}#sk-container-id-24 div.sk-label label {font-family: monospace;font-weight: bold;display: inline-block;line-height: 1.2em;}#sk-container-id-24 div.sk-label-container {text-align: center;}#sk-container-id-24 div.sk-container {/* jupyter's `normalize.less` sets `[hidden] { display: none; }` but bootstrap.min.css set `[hidden] { display: none !important; }` so we also need the `!important` here to be able to override the default hidden behavior on the sphinx rendered scikit-learn.org. See: https://github.com/scikit-learn/scikit-learn/issues/21755 */display: inline-block !important;position: relative;}#sk-container-id-24 div.sk-text-repr-fallback {display: none;}</style><div id=\"sk-container-id-24\" class=\"sk-top-container\"><div class=\"sk-text-repr-fallback\"><pre>GridSearchCV(cv=5,\n",
              "             estimator=Pipeline(steps=[(&#x27;transformer&#x27;,\n",
              "                                        ColumnTransformer(transformers=[(&#x27;one_hot&#x27;,\n",
              "                                                                         OneHotEncoder(drop=&#x27;first&#x27;,\n",
              "                                                                                       sparse=False),\n",
              "                                                                         [&#x27;bowling_team&#x27;,\n",
              "                                                                          &#x27;batting_team&#x27;]),\n",
              "                                                                        (&#x27;scaler&#x27;,\n",
              "                                                                         StandardScaler(),\n",
              "                                                                         [&#x27;balls_left&#x27;,\n",
              "                                                                          &#x27;cumulative_runs&#x27;,\n",
              "                                                                          &#x27;run_rate&#x27;,\n",
              "                                                                          &#x27;target_runs&#x27;,\n",
              "                                                                          &#x27;req_runs&#x27;,\n",
              "                                                                          &#x27;req_rr&#x27;])])),\n",
              "                                       (&#x27;classifier&#x27;,\n",
              "                                        RandomForestClassifier(random_state=42))]),\n",
              "             param_grid={&#x27;classifier__min_samples_leaf&#x27;: [1, 2, 4],\n",
              "                         &#x27;classifier__n_estimators&#x27;: [50, 100, 200]},\n",
              "             scoring=&#x27;accuracy&#x27;)</pre><b>In a Jupyter environment, please rerun this cell to show the HTML representation or trust the notebook. <br />On GitHub, the HTML representation is unable to render, please try loading this page with nbviewer.org.</b></div><div class=\"sk-container\" hidden><div class=\"sk-item sk-dashed-wrapped\"><div class=\"sk-label-container\"><div class=\"sk-label sk-toggleable\"><input class=\"sk-toggleable__control sk-hidden--visually\" id=\"sk-estimator-id-149\" type=\"checkbox\" ><label for=\"sk-estimator-id-149\" class=\"sk-toggleable__label sk-toggleable__label-arrow\">GridSearchCV</label><div class=\"sk-toggleable__content\"><pre>GridSearchCV(cv=5,\n",
              "             estimator=Pipeline(steps=[(&#x27;transformer&#x27;,\n",
              "                                        ColumnTransformer(transformers=[(&#x27;one_hot&#x27;,\n",
              "                                                                         OneHotEncoder(drop=&#x27;first&#x27;,\n",
              "                                                                                       sparse=False),\n",
              "                                                                         [&#x27;bowling_team&#x27;,\n",
              "                                                                          &#x27;batting_team&#x27;]),\n",
              "                                                                        (&#x27;scaler&#x27;,\n",
              "                                                                         StandardScaler(),\n",
              "                                                                         [&#x27;balls_left&#x27;,\n",
              "                                                                          &#x27;cumulative_runs&#x27;,\n",
              "                                                                          &#x27;run_rate&#x27;,\n",
              "                                                                          &#x27;target_runs&#x27;,\n",
              "                                                                          &#x27;req_runs&#x27;,\n",
              "                                                                          &#x27;req_rr&#x27;])])),\n",
              "                                       (&#x27;classifier&#x27;,\n",
              "                                        RandomForestClassifier(random_state=42))]),\n",
              "             param_grid={&#x27;classifier__min_samples_leaf&#x27;: [1, 2, 4],\n",
              "                         &#x27;classifier__n_estimators&#x27;: [50, 100, 200]},\n",
              "             scoring=&#x27;accuracy&#x27;)</pre></div></div></div><div class=\"sk-parallel\"><div class=\"sk-parallel-item\"><div class=\"sk-item\"><div class=\"sk-label-container\"><div class=\"sk-label sk-toggleable\"><input class=\"sk-toggleable__control sk-hidden--visually\" id=\"sk-estimator-id-150\" type=\"checkbox\" ><label for=\"sk-estimator-id-150\" class=\"sk-toggleable__label sk-toggleable__label-arrow\">estimator: Pipeline</label><div class=\"sk-toggleable__content\"><pre>Pipeline(steps=[(&#x27;transformer&#x27;,\n",
              "                 ColumnTransformer(transformers=[(&#x27;one_hot&#x27;,\n",
              "                                                  OneHotEncoder(drop=&#x27;first&#x27;,\n",
              "                                                                sparse=False),\n",
              "                                                  [&#x27;bowling_team&#x27;,\n",
              "                                                   &#x27;batting_team&#x27;]),\n",
              "                                                 (&#x27;scaler&#x27;, StandardScaler(),\n",
              "                                                  [&#x27;balls_left&#x27;,\n",
              "                                                   &#x27;cumulative_runs&#x27;,\n",
              "                                                   &#x27;run_rate&#x27;, &#x27;target_runs&#x27;,\n",
              "                                                   &#x27;req_runs&#x27;, &#x27;req_rr&#x27;])])),\n",
              "                (&#x27;classifier&#x27;, RandomForestClassifier(random_state=42))])</pre></div></div></div><div class=\"sk-serial\"><div class=\"sk-item\"><div class=\"sk-serial\"><div class=\"sk-item sk-dashed-wrapped\"><div class=\"sk-label-container\"><div class=\"sk-label sk-toggleable\"><input class=\"sk-toggleable__control sk-hidden--visually\" id=\"sk-estimator-id-151\" type=\"checkbox\" ><label for=\"sk-estimator-id-151\" class=\"sk-toggleable__label sk-toggleable__label-arrow\">transformer: ColumnTransformer</label><div class=\"sk-toggleable__content\"><pre>ColumnTransformer(transformers=[(&#x27;one_hot&#x27;,\n",
              "                                 OneHotEncoder(drop=&#x27;first&#x27;, sparse=False),\n",
              "                                 [&#x27;bowling_team&#x27;, &#x27;batting_team&#x27;]),\n",
              "                                (&#x27;scaler&#x27;, StandardScaler(),\n",
              "                                 [&#x27;balls_left&#x27;, &#x27;cumulative_runs&#x27;, &#x27;run_rate&#x27;,\n",
              "                                  &#x27;target_runs&#x27;, &#x27;req_runs&#x27;, &#x27;req_rr&#x27;])])</pre></div></div></div><div class=\"sk-parallel\"><div class=\"sk-parallel-item\"><div class=\"sk-item\"><div class=\"sk-label-container\"><div class=\"sk-label sk-toggleable\"><input class=\"sk-toggleable__control sk-hidden--visually\" id=\"sk-estimator-id-152\" type=\"checkbox\" ><label for=\"sk-estimator-id-152\" class=\"sk-toggleable__label sk-toggleable__label-arrow\">one_hot</label><div class=\"sk-toggleable__content\"><pre>[&#x27;bowling_team&#x27;, &#x27;batting_team&#x27;]</pre></div></div></div><div class=\"sk-serial\"><div class=\"sk-item\"><div class=\"sk-estimator sk-toggleable\"><input class=\"sk-toggleable__control sk-hidden--visually\" id=\"sk-estimator-id-153\" type=\"checkbox\" ><label for=\"sk-estimator-id-153\" class=\"sk-toggleable__label sk-toggleable__label-arrow\">OneHotEncoder</label><div class=\"sk-toggleable__content\"><pre>OneHotEncoder(drop=&#x27;first&#x27;, sparse=False)</pre></div></div></div></div></div></div><div class=\"sk-parallel-item\"><div class=\"sk-item\"><div class=\"sk-label-container\"><div class=\"sk-label sk-toggleable\"><input class=\"sk-toggleable__control sk-hidden--visually\" id=\"sk-estimator-id-154\" type=\"checkbox\" ><label for=\"sk-estimator-id-154\" class=\"sk-toggleable__label sk-toggleable__label-arrow\">scaler</label><div class=\"sk-toggleable__content\"><pre>[&#x27;balls_left&#x27;, &#x27;cumulative_runs&#x27;, &#x27;run_rate&#x27;, &#x27;target_runs&#x27;, &#x27;req_runs&#x27;, &#x27;req_rr&#x27;]</pre></div></div></div><div class=\"sk-serial\"><div class=\"sk-item\"><div class=\"sk-estimator sk-toggleable\"><input class=\"sk-toggleable__control sk-hidden--visually\" id=\"sk-estimator-id-155\" type=\"checkbox\" ><label for=\"sk-estimator-id-155\" class=\"sk-toggleable__label sk-toggleable__label-arrow\">StandardScaler</label><div class=\"sk-toggleable__content\"><pre>StandardScaler()</pre></div></div></div></div></div></div></div></div><div class=\"sk-item\"><div class=\"sk-estimator sk-toggleable\"><input class=\"sk-toggleable__control sk-hidden--visually\" id=\"sk-estimator-id-156\" type=\"checkbox\" ><label for=\"sk-estimator-id-156\" class=\"sk-toggleable__label sk-toggleable__label-arrow\">RandomForestClassifier</label><div class=\"sk-toggleable__content\"><pre>RandomForestClassifier(random_state=42)</pre></div></div></div></div></div></div></div></div></div></div></div></div>"
            ]
          },
          "metadata": {},
          "execution_count": 2440
        }
      ]
    },
    {
      "cell_type": "code",
      "source": [
        "print(\"Best parameters for Random Forest:\", grid_search_rf.best_params_)\n",
        "print(\"Best cross-validation accuracy for Random Forest:\", grid_search_rf.best_score_)"
      ],
      "metadata": {
        "colab": {
          "base_uri": "https://localhost:8080/"
        },
        "id": "a1FgVh65qaXJ",
        "outputId": "5963754b-0070-49d6-fdf3-39e0a2b37cd8"
      },
      "execution_count": 2441,
      "outputs": [
        {
          "output_type": "stream",
          "name": "stdout",
          "text": [
            "Best parameters for Random Forest: {'classifier__min_samples_leaf': 4, 'classifier__n_estimators': 200}\n",
            "Best cross-validation accuracy for Random Forest: 0.5696352583586626\n"
          ]
        }
      ]
    },
    {
      "cell_type": "code",
      "source": [
        "val_accuracy_rf = grid_search_rf.score(X_val, y_val)\n",
        "print(\"Random Forest Validation set accuracy:\", val_accuracy_rf)\n",
        "\n",
        "test_accuracy_rf = grid_search_rf.score(X_test, y_test)\n",
        "print(\"Random Forest Test set accuracy:\", test_accuracy_rf)"
      ],
      "metadata": {
        "colab": {
          "base_uri": "https://localhost:8080/"
        },
        "id": "6NHQTEI9qd9z",
        "outputId": "fe20b363-476f-41f1-8753-8ff9633bba28"
      },
      "execution_count": 2442,
      "outputs": [
        {
          "output_type": "stream",
          "name": "stdout",
          "text": [
            "Random Forest Validation set accuracy: 0.5550441120061373\n",
            "Random Forest Test set accuracy: 0.5596471039509014\n"
          ]
        }
      ]
    },
    {
      "cell_type": "code",
      "source": [
        "y_pred_rf = grid_search_rf.predict(X_test)\n",
        "print(\"Random Forest Classification Report:\")\n",
        "print(classification_report(y_test, y_pred_rf))"
      ],
      "metadata": {
        "colab": {
          "base_uri": "https://localhost:8080/"
        },
        "id": "0mvVqAZgqh1A",
        "outputId": "fa13cd78-2663-4ca8-b1cf-439dc3da2a7c"
      },
      "execution_count": 2443,
      "outputs": [
        {
          "output_type": "stream",
          "name": "stdout",
          "text": [
            "Random Forest Classification Report:\n",
            "              precision    recall  f1-score   support\n",
            "\n",
            "           0       0.98      0.56      0.71      2535\n",
            "           1       0.04      0.69      0.08        72\n",
            "\n",
            "    accuracy                           0.56      2607\n",
            "   macro avg       0.51      0.63      0.40      2607\n",
            "weighted avg       0.96      0.56      0.69      2607\n",
            "\n"
          ]
        }
      ]
    },
    {
      "cell_type": "markdown",
      "source": [
        "##Logistic Regression"
      ],
      "metadata": {
        "id": "DMbKlwpFqkPJ"
      }
    },
    {
      "cell_type": "code",
      "source": [
        "under_sampler_lr = RandomUnderSampler(sampling_strategy='auto', random_state=42)"
      ],
      "metadata": {
        "id": "GkkaYx0EqmQI"
      },
      "execution_count": 2444,
      "outputs": []
    },
    {
      "cell_type": "code",
      "source": [
        "X_train_resampled, y_train_resampled = under_sampler_lr.fit_resample(X_train, y_train)"
      ],
      "metadata": {
        "id": "bd7jr86Irr_T"
      },
      "execution_count": 2445,
      "outputs": []
    },
    {
      "cell_type": "code",
      "source": [
        "pipe_lr = Pipeline([\n",
        "    ('transformer', ct),\n",
        "    ('classifier', LogisticRegression(random_state=42))\n",
        "])"
      ],
      "metadata": {
        "id": "BpY6-BJZqpxm"
      },
      "execution_count": 2446,
      "outputs": []
    },
    {
      "cell_type": "code",
      "source": [
        "param_grid_lr = {\n",
        "    'classifier__C': [0.01, 0.1, 1, 10, 100],\n",
        "    'classifier__penalty': ['l1', 'l2']\n",
        "}"
      ],
      "metadata": {
        "id": "LFc6Tvm7qsev"
      },
      "execution_count": 2447,
      "outputs": []
    },
    {
      "cell_type": "code",
      "source": [
        "grid_search_lr = GridSearchCV(pipe_lr, param_grid_lr, cv=5, scoring='accuracy')\n",
        "grid_search_lr.fit(X_train_resampled, y_train_resampled)"
      ],
      "metadata": {
        "colab": {
          "base_uri": "https://localhost:8080/",
          "height": 216
        },
        "id": "7Bg8V647quMz",
        "outputId": "a5aed450-64ab-452a-e8e8-0b83b7640765"
      },
      "execution_count": 2448,
      "outputs": [
        {
          "output_type": "execute_result",
          "data": {
            "text/plain": [
              "GridSearchCV(cv=5,\n",
              "             estimator=Pipeline(steps=[('transformer',\n",
              "                                        ColumnTransformer(transformers=[('one_hot',\n",
              "                                                                         OneHotEncoder(drop='first',\n",
              "                                                                                       sparse=False),\n",
              "                                                                         ['bowling_team',\n",
              "                                                                          'batting_team']),\n",
              "                                                                        ('scaler',\n",
              "                                                                         StandardScaler(),\n",
              "                                                                         ['balls_left',\n",
              "                                                                          'cumulative_runs',\n",
              "                                                                          'run_rate',\n",
              "                                                                          'target_runs',\n",
              "                                                                          'req_runs',\n",
              "                                                                          'req_rr'])])),\n",
              "                                       ('classifier',\n",
              "                                        LogisticRegression(random_state=42))]),\n",
              "             param_grid={'classifier__C': [0.01, 0.1, 1, 10, 100],\n",
              "                         'classifier__penalty': ['l1', 'l2']},\n",
              "             scoring='accuracy')"
            ],
            "text/html": [
              "<style>#sk-container-id-25 {color: black;background-color: white;}#sk-container-id-25 pre{padding: 0;}#sk-container-id-25 div.sk-toggleable {background-color: white;}#sk-container-id-25 label.sk-toggleable__label {cursor: pointer;display: block;width: 100%;margin-bottom: 0;padding: 0.3em;box-sizing: border-box;text-align: center;}#sk-container-id-25 label.sk-toggleable__label-arrow:before {content: \"▸\";float: left;margin-right: 0.25em;color: #696969;}#sk-container-id-25 label.sk-toggleable__label-arrow:hover:before {color: black;}#sk-container-id-25 div.sk-estimator:hover label.sk-toggleable__label-arrow:before {color: black;}#sk-container-id-25 div.sk-toggleable__content {max-height: 0;max-width: 0;overflow: hidden;text-align: left;background-color: #f0f8ff;}#sk-container-id-25 div.sk-toggleable__content pre {margin: 0.2em;color: black;border-radius: 0.25em;background-color: #f0f8ff;}#sk-container-id-25 input.sk-toggleable__control:checked~div.sk-toggleable__content {max-height: 200px;max-width: 100%;overflow: auto;}#sk-container-id-25 input.sk-toggleable__control:checked~label.sk-toggleable__label-arrow:before {content: \"▾\";}#sk-container-id-25 div.sk-estimator input.sk-toggleable__control:checked~label.sk-toggleable__label {background-color: #d4ebff;}#sk-container-id-25 div.sk-label input.sk-toggleable__control:checked~label.sk-toggleable__label {background-color: #d4ebff;}#sk-container-id-25 input.sk-hidden--visually {border: 0;clip: rect(1px 1px 1px 1px);clip: rect(1px, 1px, 1px, 1px);height: 1px;margin: -1px;overflow: hidden;padding: 0;position: absolute;width: 1px;}#sk-container-id-25 div.sk-estimator {font-family: monospace;background-color: #f0f8ff;border: 1px dotted black;border-radius: 0.25em;box-sizing: border-box;margin-bottom: 0.5em;}#sk-container-id-25 div.sk-estimator:hover {background-color: #d4ebff;}#sk-container-id-25 div.sk-parallel-item::after {content: \"\";width: 100%;border-bottom: 1px solid gray;flex-grow: 1;}#sk-container-id-25 div.sk-label:hover label.sk-toggleable__label {background-color: #d4ebff;}#sk-container-id-25 div.sk-serial::before {content: \"\";position: absolute;border-left: 1px solid gray;box-sizing: border-box;top: 0;bottom: 0;left: 50%;z-index: 0;}#sk-container-id-25 div.sk-serial {display: flex;flex-direction: column;align-items: center;background-color: white;padding-right: 0.2em;padding-left: 0.2em;position: relative;}#sk-container-id-25 div.sk-item {position: relative;z-index: 1;}#sk-container-id-25 div.sk-parallel {display: flex;align-items: stretch;justify-content: center;background-color: white;position: relative;}#sk-container-id-25 div.sk-item::before, #sk-container-id-25 div.sk-parallel-item::before {content: \"\";position: absolute;border-left: 1px solid gray;box-sizing: border-box;top: 0;bottom: 0;left: 50%;z-index: -1;}#sk-container-id-25 div.sk-parallel-item {display: flex;flex-direction: column;z-index: 1;position: relative;background-color: white;}#sk-container-id-25 div.sk-parallel-item:first-child::after {align-self: flex-end;width: 50%;}#sk-container-id-25 div.sk-parallel-item:last-child::after {align-self: flex-start;width: 50%;}#sk-container-id-25 div.sk-parallel-item:only-child::after {width: 0;}#sk-container-id-25 div.sk-dashed-wrapped {border: 1px dashed gray;margin: 0 0.4em 0.5em 0.4em;box-sizing: border-box;padding-bottom: 0.4em;background-color: white;}#sk-container-id-25 div.sk-label label {font-family: monospace;font-weight: bold;display: inline-block;line-height: 1.2em;}#sk-container-id-25 div.sk-label-container {text-align: center;}#sk-container-id-25 div.sk-container {/* jupyter's `normalize.less` sets `[hidden] { display: none; }` but bootstrap.min.css set `[hidden] { display: none !important; }` so we also need the `!important` here to be able to override the default hidden behavior on the sphinx rendered scikit-learn.org. See: https://github.com/scikit-learn/scikit-learn/issues/21755 */display: inline-block !important;position: relative;}#sk-container-id-25 div.sk-text-repr-fallback {display: none;}</style><div id=\"sk-container-id-25\" class=\"sk-top-container\"><div class=\"sk-text-repr-fallback\"><pre>GridSearchCV(cv=5,\n",
              "             estimator=Pipeline(steps=[(&#x27;transformer&#x27;,\n",
              "                                        ColumnTransformer(transformers=[(&#x27;one_hot&#x27;,\n",
              "                                                                         OneHotEncoder(drop=&#x27;first&#x27;,\n",
              "                                                                                       sparse=False),\n",
              "                                                                         [&#x27;bowling_team&#x27;,\n",
              "                                                                          &#x27;batting_team&#x27;]),\n",
              "                                                                        (&#x27;scaler&#x27;,\n",
              "                                                                         StandardScaler(),\n",
              "                                                                         [&#x27;balls_left&#x27;,\n",
              "                                                                          &#x27;cumulative_runs&#x27;,\n",
              "                                                                          &#x27;run_rate&#x27;,\n",
              "                                                                          &#x27;target_runs&#x27;,\n",
              "                                                                          &#x27;req_runs&#x27;,\n",
              "                                                                          &#x27;req_rr&#x27;])])),\n",
              "                                       (&#x27;classifier&#x27;,\n",
              "                                        LogisticRegression(random_state=42))]),\n",
              "             param_grid={&#x27;classifier__C&#x27;: [0.01, 0.1, 1, 10, 100],\n",
              "                         &#x27;classifier__penalty&#x27;: [&#x27;l1&#x27;, &#x27;l2&#x27;]},\n",
              "             scoring=&#x27;accuracy&#x27;)</pre><b>In a Jupyter environment, please rerun this cell to show the HTML representation or trust the notebook. <br />On GitHub, the HTML representation is unable to render, please try loading this page with nbviewer.org.</b></div><div class=\"sk-container\" hidden><div class=\"sk-item sk-dashed-wrapped\"><div class=\"sk-label-container\"><div class=\"sk-label sk-toggleable\"><input class=\"sk-toggleable__control sk-hidden--visually\" id=\"sk-estimator-id-157\" type=\"checkbox\" ><label for=\"sk-estimator-id-157\" class=\"sk-toggleable__label sk-toggleable__label-arrow\">GridSearchCV</label><div class=\"sk-toggleable__content\"><pre>GridSearchCV(cv=5,\n",
              "             estimator=Pipeline(steps=[(&#x27;transformer&#x27;,\n",
              "                                        ColumnTransformer(transformers=[(&#x27;one_hot&#x27;,\n",
              "                                                                         OneHotEncoder(drop=&#x27;first&#x27;,\n",
              "                                                                                       sparse=False),\n",
              "                                                                         [&#x27;bowling_team&#x27;,\n",
              "                                                                          &#x27;batting_team&#x27;]),\n",
              "                                                                        (&#x27;scaler&#x27;,\n",
              "                                                                         StandardScaler(),\n",
              "                                                                         [&#x27;balls_left&#x27;,\n",
              "                                                                          &#x27;cumulative_runs&#x27;,\n",
              "                                                                          &#x27;run_rate&#x27;,\n",
              "                                                                          &#x27;target_runs&#x27;,\n",
              "                                                                          &#x27;req_runs&#x27;,\n",
              "                                                                          &#x27;req_rr&#x27;])])),\n",
              "                                       (&#x27;classifier&#x27;,\n",
              "                                        LogisticRegression(random_state=42))]),\n",
              "             param_grid={&#x27;classifier__C&#x27;: [0.01, 0.1, 1, 10, 100],\n",
              "                         &#x27;classifier__penalty&#x27;: [&#x27;l1&#x27;, &#x27;l2&#x27;]},\n",
              "             scoring=&#x27;accuracy&#x27;)</pre></div></div></div><div class=\"sk-parallel\"><div class=\"sk-parallel-item\"><div class=\"sk-item\"><div class=\"sk-label-container\"><div class=\"sk-label sk-toggleable\"><input class=\"sk-toggleable__control sk-hidden--visually\" id=\"sk-estimator-id-158\" type=\"checkbox\" ><label for=\"sk-estimator-id-158\" class=\"sk-toggleable__label sk-toggleable__label-arrow\">estimator: Pipeline</label><div class=\"sk-toggleable__content\"><pre>Pipeline(steps=[(&#x27;transformer&#x27;,\n",
              "                 ColumnTransformer(transformers=[(&#x27;one_hot&#x27;,\n",
              "                                                  OneHotEncoder(drop=&#x27;first&#x27;,\n",
              "                                                                sparse=False),\n",
              "                                                  [&#x27;bowling_team&#x27;,\n",
              "                                                   &#x27;batting_team&#x27;]),\n",
              "                                                 (&#x27;scaler&#x27;, StandardScaler(),\n",
              "                                                  [&#x27;balls_left&#x27;,\n",
              "                                                   &#x27;cumulative_runs&#x27;,\n",
              "                                                   &#x27;run_rate&#x27;, &#x27;target_runs&#x27;,\n",
              "                                                   &#x27;req_runs&#x27;, &#x27;req_rr&#x27;])])),\n",
              "                (&#x27;classifier&#x27;, LogisticRegression(random_state=42))])</pre></div></div></div><div class=\"sk-serial\"><div class=\"sk-item\"><div class=\"sk-serial\"><div class=\"sk-item sk-dashed-wrapped\"><div class=\"sk-label-container\"><div class=\"sk-label sk-toggleable\"><input class=\"sk-toggleable__control sk-hidden--visually\" id=\"sk-estimator-id-159\" type=\"checkbox\" ><label for=\"sk-estimator-id-159\" class=\"sk-toggleable__label sk-toggleable__label-arrow\">transformer: ColumnTransformer</label><div class=\"sk-toggleable__content\"><pre>ColumnTransformer(transformers=[(&#x27;one_hot&#x27;,\n",
              "                                 OneHotEncoder(drop=&#x27;first&#x27;, sparse=False),\n",
              "                                 [&#x27;bowling_team&#x27;, &#x27;batting_team&#x27;]),\n",
              "                                (&#x27;scaler&#x27;, StandardScaler(),\n",
              "                                 [&#x27;balls_left&#x27;, &#x27;cumulative_runs&#x27;, &#x27;run_rate&#x27;,\n",
              "                                  &#x27;target_runs&#x27;, &#x27;req_runs&#x27;, &#x27;req_rr&#x27;])])</pre></div></div></div><div class=\"sk-parallel\"><div class=\"sk-parallel-item\"><div class=\"sk-item\"><div class=\"sk-label-container\"><div class=\"sk-label sk-toggleable\"><input class=\"sk-toggleable__control sk-hidden--visually\" id=\"sk-estimator-id-160\" type=\"checkbox\" ><label for=\"sk-estimator-id-160\" class=\"sk-toggleable__label sk-toggleable__label-arrow\">one_hot</label><div class=\"sk-toggleable__content\"><pre>[&#x27;bowling_team&#x27;, &#x27;batting_team&#x27;]</pre></div></div></div><div class=\"sk-serial\"><div class=\"sk-item\"><div class=\"sk-estimator sk-toggleable\"><input class=\"sk-toggleable__control sk-hidden--visually\" id=\"sk-estimator-id-161\" type=\"checkbox\" ><label for=\"sk-estimator-id-161\" class=\"sk-toggleable__label sk-toggleable__label-arrow\">OneHotEncoder</label><div class=\"sk-toggleable__content\"><pre>OneHotEncoder(drop=&#x27;first&#x27;, sparse=False)</pre></div></div></div></div></div></div><div class=\"sk-parallel-item\"><div class=\"sk-item\"><div class=\"sk-label-container\"><div class=\"sk-label sk-toggleable\"><input class=\"sk-toggleable__control sk-hidden--visually\" id=\"sk-estimator-id-162\" type=\"checkbox\" ><label for=\"sk-estimator-id-162\" class=\"sk-toggleable__label sk-toggleable__label-arrow\">scaler</label><div class=\"sk-toggleable__content\"><pre>[&#x27;balls_left&#x27;, &#x27;cumulative_runs&#x27;, &#x27;run_rate&#x27;, &#x27;target_runs&#x27;, &#x27;req_runs&#x27;, &#x27;req_rr&#x27;]</pre></div></div></div><div class=\"sk-serial\"><div class=\"sk-item\"><div class=\"sk-estimator sk-toggleable\"><input class=\"sk-toggleable__control sk-hidden--visually\" id=\"sk-estimator-id-163\" type=\"checkbox\" ><label for=\"sk-estimator-id-163\" class=\"sk-toggleable__label sk-toggleable__label-arrow\">StandardScaler</label><div class=\"sk-toggleable__content\"><pre>StandardScaler()</pre></div></div></div></div></div></div></div></div><div class=\"sk-item\"><div class=\"sk-estimator sk-toggleable\"><input class=\"sk-toggleable__control sk-hidden--visually\" id=\"sk-estimator-id-164\" type=\"checkbox\" ><label for=\"sk-estimator-id-164\" class=\"sk-toggleable__label sk-toggleable__label-arrow\">LogisticRegression</label><div class=\"sk-toggleable__content\"><pre>LogisticRegression(random_state=42)</pre></div></div></div></div></div></div></div></div></div></div></div></div>"
            ]
          },
          "metadata": {},
          "execution_count": 2448
        }
      ]
    },
    {
      "cell_type": "code",
      "source": [
        "print(\"Best parameters for Logistic Regression:\", grid_search_lr.best_params_)\n",
        "print(\"Best cross-validation accuracy for Logistic Regression:\", grid_search_lr.best_score_)"
      ],
      "metadata": {
        "colab": {
          "base_uri": "https://localhost:8080/"
        },
        "id": "-TODtyJZqwbX",
        "outputId": "cb3008e5-e9c2-40b5-df31-44f8d685e4bc"
      },
      "execution_count": 2449,
      "outputs": [
        {
          "output_type": "stream",
          "name": "stdout",
          "text": [
            "Best parameters for Logistic Regression: {'classifier__C': 0.1, 'classifier__penalty': 'l2'}\n",
            "Best cross-validation accuracy for Logistic Regression: 0.5881053698074974\n"
          ]
        }
      ]
    },
    {
      "cell_type": "code",
      "source": [
        "val_accuracy_lr = grid_search_lr.score(X_val, y_val)\n",
        "print(\"Logistic Regression Validation set accuracy:\", val_accuracy_lr)\n",
        "\n",
        "test_accuracy_lr = grid_search_lr.score(X_test, y_test)\n",
        "print(\"Logistic Regression Test set accuracy:\", test_accuracy_lr)"
      ],
      "metadata": {
        "colab": {
          "base_uri": "https://localhost:8080/"
        },
        "id": "ZEnDeal2qyOX",
        "outputId": "7ef49c3f-fcec-4502-f48b-e5def73dcf32"
      },
      "execution_count": 2450,
      "outputs": [
        {
          "output_type": "stream",
          "name": "stdout",
          "text": [
            "Logistic Regression Validation set accuracy: 0.5772919064058305\n",
            "Logistic Regression Test set accuracy: 0.587265055619486\n"
          ]
        }
      ]
    },
    {
      "cell_type": "code",
      "source": [
        "y_pred_lr = grid_search_lr.predict(X_test)\n",
        "print(\"Logistic Regression Classification Report:\")\n",
        "print(classification_report(y_test, y_pred_lr))"
      ],
      "metadata": {
        "colab": {
          "base_uri": "https://localhost:8080/"
        },
        "id": "5ZWY_irYq1d-",
        "outputId": "dfa6b318-8535-47bb-ae9a-865126fa539a"
      },
      "execution_count": 2451,
      "outputs": [
        {
          "output_type": "stream",
          "name": "stdout",
          "text": [
            "Logistic Regression Classification Report:\n",
            "              precision    recall  f1-score   support\n",
            "\n",
            "           0       0.99      0.58      0.73      2535\n",
            "           1       0.05      0.69      0.09        72\n",
            "\n",
            "    accuracy                           0.59      2607\n",
            "   macro avg       0.52      0.64      0.41      2607\n",
            "weighted avg       0.96      0.59      0.72      2607\n",
            "\n"
          ]
        }
      ]
    },
    {
      "cell_type": "markdown",
      "source": [
        "###Conclusion:\n",
        "Undersampling seems to have negatively impacted the performance of the Random Forest model, likely due to the loss of information from the majority class. It might be challenging for the model to generalize well with such a small representation of the majority class."
      ],
      "metadata": {
        "id": "z82z-eAeNjSn"
      }
    },
    {
      "cell_type": "markdown",
      "source": [
        "#Deep Learning (Sequential Method)"
      ],
      "metadata": {
        "id": "IjBOy1vJsUUM"
      }
    },
    {
      "cell_type": "code",
      "source": [
        "X = final_data.drop('result', axis=1)\n",
        "y = final_data['result']"
      ],
      "metadata": {
        "id": "Ez7e9z3vwk7v"
      },
      "execution_count": 2741,
      "outputs": []
    },
    {
      "cell_type": "code",
      "source": [
        "X_train, X_temp, y_train, y_temp = train_test_split(X, y, test_size=0.3, random_state=42)\n",
        "X_val, X_test, y_val, y_test = train_test_split(X_temp, y_temp, test_size=0.5, random_state=42)"
      ],
      "metadata": {
        "id": "scAhqY89wnCJ"
      },
      "execution_count": 2742,
      "outputs": []
    },
    {
      "cell_type": "code",
      "source": [
        "one_hot_cols = ['bowling_team', 'batting_team']\n",
        "std_scale_cols = ['balls_left', 'cumulative_runs', 'run_rate', 'target_runs', 'req_runs', 'req_rr']"
      ],
      "metadata": {
        "id": "XvcZMV28wq8r"
      },
      "execution_count": 2743,
      "outputs": []
    },
    {
      "cell_type": "code",
      "source": [
        "ct = ColumnTransformer(transformers=[\n",
        "    ('one_hot', OneHotEncoder(sparse=False, drop=\"first\"), one_hot_cols),\n",
        "    ('scaler', StandardScaler(), std_scale_cols)\n",
        "])"
      ],
      "metadata": {
        "id": "2uldqr5iwNrO"
      },
      "execution_count": 2744,
      "outputs": []
    },
    {
      "cell_type": "code",
      "source": [
        "X_train_transformed = ct.fit_transform(X_train)"
      ],
      "metadata": {
        "id": "lwmazxnWxD8k"
      },
      "execution_count": 2745,
      "outputs": []
    },
    {
      "cell_type": "code",
      "source": [
        "oversampler = RandomOverSampler(sampling_strategy='auto', random_state=42)\n",
        "X_train_resampled, y_train_resampled = oversampler.fit_resample(X_train_transformed, y_train)\n",
        "\n",
        "X_val_transformed = ct.transform(X_val)"
      ],
      "metadata": {
        "id": "35patAnDy5Il"
      },
      "execution_count": 2746,
      "outputs": []
    },
    {
      "cell_type": "code",
      "source": [
        "model = Sequential()\n",
        "model.add(Dense(units=64, activation='relu', input_dim=X_train_resampled.shape[1]))\n",
        "model.add(Dense(units=128, activation='relu'))\n",
        "model.add(Dense(units=64, activation='relu'))\n",
        "model.add(Dense(units=32, activation='relu'))\n",
        "model.add(Dense(units=1, activation='sigmoid'))"
      ],
      "metadata": {
        "id": "tdwA02hry8jL"
      },
      "execution_count": 2646,
      "outputs": []
    },
    {
      "cell_type": "code",
      "source": [
        "model.compile(optimizer='adam', loss='binary_crossentropy', metrics=['accuracy'])"
      ],
      "metadata": {
        "id": "HSJ5ZRTsy-uY"
      },
      "execution_count": 2647,
      "outputs": []
    },
    {
      "cell_type": "code",
      "source": [
        "early_stopping = EarlyStopping(monitor='val_loss', patience=5, restore_best_weights=True)\n",
        "model.fit(X_train_resampled, y_train_resampled, epochs=20, batch_size=32, validation_data=(X_val_transformed, y_val), callbacks=[early_stopping])"
      ],
      "metadata": {
        "colab": {
          "base_uri": "https://localhost:8080/"
        },
        "id": "nLUApoHIzBkn",
        "outputId": "67cca12e-cb80-4bc2-efbd-72e2cd210e54"
      },
      "execution_count": 2652,
      "outputs": [
        {
          "output_type": "stream",
          "name": "stdout",
          "text": [
            "Epoch 1/20\n",
            "739/739 [==============================] - 3s 4ms/step - loss: 0.4481 - accuracy: 0.7773 - val_loss: 0.5771 - val_accuracy: 0.6352\n",
            "Epoch 2/20\n",
            "739/739 [==============================] - 4s 5ms/step - loss: 0.4336 - accuracy: 0.7878 - val_loss: 0.5419 - val_accuracy: 0.6866\n",
            "Epoch 3/20\n",
            "739/739 [==============================] - 3s 4ms/step - loss: 0.4233 - accuracy: 0.7941 - val_loss: 0.5634 - val_accuracy: 0.6743\n",
            "Epoch 4/20\n",
            "739/739 [==============================] - 2s 3ms/step - loss: 0.4110 - accuracy: 0.8024 - val_loss: 0.6113 - val_accuracy: 0.6563\n",
            "Epoch 5/20\n",
            "739/739 [==============================] - 2s 3ms/step - loss: 0.4054 - accuracy: 0.8054 - val_loss: 0.6027 - val_accuracy: 0.6636\n",
            "Epoch 6/20\n",
            "739/739 [==============================] - 2s 3ms/step - loss: 0.3981 - accuracy: 0.8108 - val_loss: 0.5843 - val_accuracy: 0.6901\n",
            "Epoch 7/20\n",
            "739/739 [==============================] - 3s 5ms/step - loss: 0.3868 - accuracy: 0.8174 - val_loss: 0.5839 - val_accuracy: 0.6912\n"
          ]
        },
        {
          "output_type": "execute_result",
          "data": {
            "text/plain": [
              "<keras.src.callbacks.History at 0x79f1e5e841c0>"
            ]
          },
          "metadata": {},
          "execution_count": 2652
        }
      ]
    },
    {
      "cell_type": "code",
      "source": [
        "X_test_transformed = ct.transform(X_test)\n",
        "\n",
        "y_pred = model.predict(X_test_transformed)\n",
        "y_pred_binary = np.round(y_pred).flatten()\n",
        "\n",
        "y_test_array = y_test.values.flatten()\n",
        "\n",
        "accuracy = np.sum(y_pred_binary == y_test_array) / len(y_test_array)\n",
        "print(f\"Test set accuracy: {accuracy:.4f}\")"
      ],
      "metadata": {
        "colab": {
          "base_uri": "https://localhost:8080/"
        },
        "id": "GJ2jnahzzDok",
        "outputId": "9fb8f3de-e92a-4bbb-db5e-a7341f141f06"
      },
      "execution_count": 2653,
      "outputs": [
        {
          "output_type": "stream",
          "name": "stdout",
          "text": [
            "82/82 [==============================] - 0s 3ms/step\n",
            "Test set accuracy: 0.6878\n"
          ]
        }
      ]
    },
    {
      "cell_type": "markdown",
      "source": [
        "###Conclusion:\n",
        "The deep learning model using the Sequential API, with early stopping, achieved moderate accuracy. This approach might require further tuning or exploration of different architectures to improve performance."
      ],
      "metadata": {
        "id": "-dpaAJNLNq4E"
      }
    },
    {
      "cell_type": "markdown",
      "source": [
        "#Deep Learning (Functional API Method)"
      ],
      "metadata": {
        "id": "4t04sdL69v_h"
      }
    },
    {
      "cell_type": "code",
      "source": [
        "X = final_data.drop('result', axis=1)\n",
        "y = final_data['result']"
      ],
      "metadata": {
        "id": "n3ELphUy-B0v"
      },
      "execution_count": 213,
      "outputs": []
    },
    {
      "cell_type": "code",
      "source": [
        "X_train, X_temp, y_train, y_temp = train_test_split(X, y, test_size=0.3, random_state=42)\n",
        "X_val, X_test, y_val, y_test = train_test_split(X_temp, y_temp, test_size=0.5, random_state=42)"
      ],
      "metadata": {
        "id": "ZleAq0HW9xqx"
      },
      "execution_count": 214,
      "outputs": []
    },
    {
      "cell_type": "code",
      "source": [
        "one_hot_cols = ['bowling_team', 'batting_team']\n",
        "std_scale_cols = ['balls_left', 'cumulative_runs', 'run_rate', 'target_runs', 'req_runs', 'req_rr']"
      ],
      "metadata": {
        "id": "xLMmD99nFIGg"
      },
      "execution_count": 215,
      "outputs": []
    },
    {
      "cell_type": "code",
      "source": [
        "encoder = OneHotEncoder(sparse=False, drop=\"first\")\n",
        "X_train_encoded = encoder.fit_transform(X_train[one_hot_cols])\n",
        "X_val_encoded = encoder.transform(X_val[one_hot_cols])\n",
        "X_test_encoded = encoder.transform(X_test[one_hot_cols])\n",
        "\n",
        "scaler = StandardScaler()\n",
        "X_train_scaled = scaler.fit_transform(X_train[std_scale_cols])\n",
        "X_val_scaled = scaler.transform(X_val[std_scale_cols])\n",
        "X_test_scaled = scaler.transform(X_test[std_scale_cols])\n",
        "\n",
        "X_train_transformed = np.concatenate([X_train_encoded, X_train_scaled], axis=1)\n",
        "X_val_transformed = np.concatenate([X_val_encoded, X_val_scaled], axis=1)\n",
        "X_test_transformed = np.concatenate([X_test_encoded, X_test_scaled], axis=1)"
      ],
      "metadata": {
        "id": "WOiTx-VRFLLv"
      },
      "execution_count": 216,
      "outputs": []
    },
    {
      "cell_type": "code",
      "source": [
        "oversampler = RandomOverSampler(sampling_strategy='auto', random_state=42)\n",
        "X_train_resampled, y_train_resampled = oversampler.fit_resample(X_train_transformed, y_train)"
      ],
      "metadata": {
        "id": "5fS95UvtFSPH"
      },
      "execution_count": 217,
      "outputs": []
    },
    {
      "cell_type": "code",
      "source": [
        "y_train_binary = np.asarray(y_train_resampled).astype('float32')\n",
        "y_val_binary = np.asarray(y_val).astype('float32')\n",
        "y_test_binary = np.asarray(y_test).astype('float32')"
      ],
      "metadata": {
        "id": "rOOlNwfXFXt3"
      },
      "execution_count": 218,
      "outputs": []
    },
    {
      "cell_type": "code",
      "source": [
        "inputs = keras.Input(shape=(X_train_resampled.shape[1],))\n",
        "\n",
        "x = layers.Dense(64, activation='relu')(inputs)\n",
        "x = layers.BatchNormalization()(x)\n",
        "x = layers.Dense(128, activation='relu')(x)\n",
        "x = layers.BatchNormalization()(x)\n",
        "x_shortcut = layers.Dense(128, activation='relu')(inputs)\n",
        "x_shortcut = layers.BatchNormalization()(x_shortcut)\n",
        "x = layers.Add()([x, x_shortcut])\n",
        "x = layers.Dense(64, activation='relu')(x)\n",
        "x = layers.BatchNormalization()(x)\n",
        "x_shortcut = layers.Dense(64, activation='relu')(inputs)\n",
        "x_shortcut = layers.BatchNormalization()(x_shortcut)\n",
        "x = layers.Add()([x, x_shortcut])\n",
        "x = layers.Dense(32, activation='relu')(x)\n",
        "x = layers.BatchNormalization()(x)\n",
        "output = layers.Dense(1, activation='sigmoid')(x)\n",
        "\n",
        "model = keras.Model(inputs=inputs, outputs=output)"
      ],
      "metadata": {
        "id": "YS1WnHLgFbz7"
      },
      "execution_count": 221,
      "outputs": []
    },
    {
      "cell_type": "code",
      "source": [
        "model.compile(optimizer='adam', loss='binary_crossentropy', metrics=['accuracy'])"
      ],
      "metadata": {
        "id": "JMHaipiOFhFf"
      },
      "execution_count": 222,
      "outputs": []
    },
    {
      "cell_type": "code",
      "source": [
        "early_stopping = EarlyStopping(monitor='val_loss', patience=3, restore_best_weights=True)\n",
        "\n",
        "history = model.fit(\n",
        "    X_train_resampled, y_train_binary,\n",
        "    epochs=20, batch_size=32,\n",
        "    validation_data=(X_val_transformed, y_val_binary),\n",
        "    callbacks=[early_stopping]\n",
        ")"
      ],
      "metadata": {
        "colab": {
          "base_uri": "https://localhost:8080/"
        },
        "id": "SHgS90yjFjXM",
        "outputId": "43bae8b2-9e9a-4e66-f9db-46271092cec5"
      },
      "execution_count": 223,
      "outputs": [
        {
          "output_type": "stream",
          "name": "stdout",
          "text": [
            "Epoch 1/20\n",
            "739/739 [==============================] - 8s 6ms/step - loss: 0.6189 - accuracy: 0.6527 - val_loss: 0.6368 - val_accuracy: 0.6099\n",
            "Epoch 2/20\n",
            "739/739 [==============================] - 6s 8ms/step - loss: 0.5710 - accuracy: 0.6944 - val_loss: 0.6280 - val_accuracy: 0.6087\n",
            "Epoch 3/20\n",
            "739/739 [==============================] - 5s 7ms/step - loss: 0.5500 - accuracy: 0.7076 - val_loss: 0.5864 - val_accuracy: 0.6417\n",
            "Epoch 4/20\n",
            "739/739 [==============================] - 5s 6ms/step - loss: 0.5335 - accuracy: 0.7172 - val_loss: 0.5545 - val_accuracy: 0.6617\n",
            "Epoch 5/20\n",
            "739/739 [==============================] - 7s 10ms/step - loss: 0.5180 - accuracy: 0.7318 - val_loss: 0.5911 - val_accuracy: 0.6456\n",
            "Epoch 6/20\n",
            "739/739 [==============================] - 6s 8ms/step - loss: 0.5072 - accuracy: 0.7359 - val_loss: 0.6196 - val_accuracy: 0.6068\n",
            "Epoch 7/20\n",
            "739/739 [==============================] - 4s 5ms/step - loss: 0.4991 - accuracy: 0.7399 - val_loss: 0.5371 - val_accuracy: 0.6640\n",
            "Epoch 8/20\n",
            "739/739 [==============================] - 4s 5ms/step - loss: 0.4876 - accuracy: 0.7489 - val_loss: 0.5515 - val_accuracy: 0.6559\n",
            "Epoch 9/20\n",
            "739/739 [==============================] - 6s 8ms/step - loss: 0.4812 - accuracy: 0.7581 - val_loss: 0.6109 - val_accuracy: 0.6245\n",
            "Epoch 10/20\n",
            "739/739 [==============================] - 5s 7ms/step - loss: 0.4769 - accuracy: 0.7581 - val_loss: 0.5254 - val_accuracy: 0.6797\n",
            "Epoch 11/20\n",
            "739/739 [==============================] - 4s 6ms/step - loss: 0.4728 - accuracy: 0.7621 - val_loss: 0.5957 - val_accuracy: 0.6141\n",
            "Epoch 12/20\n",
            "739/739 [==============================] - 5s 6ms/step - loss: 0.4679 - accuracy: 0.7638 - val_loss: 0.5469 - val_accuracy: 0.6598\n",
            "Epoch 13/20\n",
            "739/739 [==============================] - 6s 9ms/step - loss: 0.4646 - accuracy: 0.7652 - val_loss: 0.4856 - val_accuracy: 0.7066\n",
            "Epoch 14/20\n",
            "739/739 [==============================] - 4s 6ms/step - loss: 0.4572 - accuracy: 0.7720 - val_loss: 0.5238 - val_accuracy: 0.6724\n",
            "Epoch 15/20\n",
            "739/739 [==============================] - 4s 6ms/step - loss: 0.4503 - accuracy: 0.7762 - val_loss: 0.5538 - val_accuracy: 0.6513\n",
            "Epoch 16/20\n",
            "739/739 [==============================] - 6s 8ms/step - loss: 0.4513 - accuracy: 0.7757 - val_loss: 0.5566 - val_accuracy: 0.6517\n"
          ]
        }
      ]
    },
    {
      "cell_type": "code",
      "source": [
        "val_loss, val_accuracy = model.evaluate(X_val_transformed, y_val_binary, verbose=0)\n",
        "print(f\"\\nValidation Accuracy: {val_accuracy}\")\n",
        "\n",
        "test_loss, test_accuracy = model.evaluate(X_test_transformed, y_test_binary, verbose=0)\n",
        "print(f\"\\nTest Accuracy: {test_accuracy}\")"
      ],
      "metadata": {
        "colab": {
          "base_uri": "https://localhost:8080/"
        },
        "id": "9LDlFB4oFmEX",
        "outputId": "765eec9c-4153-423b-9731-448c89cdc738"
      },
      "execution_count": 224,
      "outputs": [
        {
          "output_type": "stream",
          "name": "stdout",
          "text": [
            "\n",
            "Validation Accuracy: 0.7065592408180237\n",
            "\n",
            "Test Accuracy: 0.7107786536216736\n"
          ]
        }
      ]
    },
    {
      "cell_type": "code",
      "source": [
        "y_test_pred_prob = model.predict(X_test_transformed)\n",
        "y_test_pred = (y_test_pred_prob > 0.5).astype(int)\n",
        "\n",
        "test_conf_matrix = confusion_matrix(y_test_binary, y_test_pred)\n",
        "print(\"\\nTest Confusion Matrix:\")\n",
        "test_conf_matrix"
      ],
      "metadata": {
        "colab": {
          "base_uri": "https://localhost:8080/"
        },
        "id": "i1fgpnRhFper",
        "outputId": "26a920ca-4e58-4811-8ff9-0b4840b0d1f3"
      },
      "execution_count": 225,
      "outputs": [
        {
          "output_type": "stream",
          "name": "stdout",
          "text": [
            "82/82 [==============================] - 0s 2ms/step\n",
            "\n",
            "Test Confusion Matrix:\n"
          ]
        },
        {
          "output_type": "execute_result",
          "data": {
            "text/plain": [
              "array([[1820,  715],\n",
              "       [  39,   33]])"
            ]
          },
          "metadata": {},
          "execution_count": 225
        }
      ]
    },
    {
      "cell_type": "code",
      "source": [
        "print(\"\\nClassification Report:\")\n",
        "classification_report(y_test_binary, y_test_pred)"
      ],
      "metadata": {
        "colab": {
          "base_uri": "https://localhost:8080/",
          "height": 105
        },
        "id": "ARkhEdD2FzYb",
        "outputId": "9e7021c0-51d1-4e96-9091-6aee906eccce"
      },
      "execution_count": 226,
      "outputs": [
        {
          "output_type": "stream",
          "name": "stdout",
          "text": [
            "\n",
            "Classification Report:\n"
          ]
        },
        {
          "output_type": "execute_result",
          "data": {
            "text/plain": [
              "'              precision    recall  f1-score   support\\n\\n         0.0       0.98      0.72      0.83      2535\\n         1.0       0.04      0.46      0.08        72\\n\\n    accuracy                           0.71      2607\\n   macro avg       0.51      0.59      0.45      2607\\nweighted avg       0.95      0.71      0.81      2607\\n'"
            ],
            "application/vnd.google.colaboratory.intrinsic+json": {
              "type": "string"
            }
          },
          "metadata": {},
          "execution_count": 226
        }
      ]
    },
    {
      "cell_type": "code",
      "source": [
        "def plot_function(history):\n",
        "    fig, ax = plt.subplots(1, 2, figsize = (25,8))\n",
        "    ax[0].plot(history.history['loss'], color='red', label='train_loss')\n",
        "    ax[0].set_title('Loss and val_loss')\n",
        "    ax[0].plot(history.history['val_loss'], color='green', label='val_loss')\n",
        "    ax[0].legend()\n",
        "    ax[1].plot(history.history['accuracy'], color='orange', label ='train_accuracy')\n",
        "    ax[1].set_title('accuracy and val_accuracy')\n",
        "    ax[1].plot(history.history['val_accuracy'], color='black', label='val_accuarcy')\n",
        "    ax[1].legend()"
      ],
      "metadata": {
        "id": "Huct1z2YE9wv"
      },
      "execution_count": 227,
      "outputs": []
    },
    {
      "cell_type": "code",
      "source": [
        "plot_function(history)"
      ],
      "metadata": {
        "colab": {
          "base_uri": "https://localhost:8080/",
          "height": 450
        },
        "id": "QLbhsaVnFAeI",
        "outputId": "611c9d1a-35b4-485e-bf72-a9a9a170cd58"
      },
      "execution_count": 228,
      "outputs": [
        {
          "output_type": "display_data",
          "data": {
            "text/plain": [
              "<Figure size 2500x800 with 2 Axes>"
            ],
            "image/png": "[encoded data removed]"
          },
          "metadata": {}
        }
      ]
    },
    {
      "cell_type": "markdown",
      "source": [
        "###Conclusion:\n",
        "The model built using the Functional API, incorporating batch normalization and skip connections, has shown improvement over the Sequential model. This suggests that a more complex architecture with skip connections may capture more intricate patterns in the data."
      ],
      "metadata": {
        "id": "oAVyM1csN0Xb"
      }
    },
    {
      "cell_type": "markdown",
      "source": [
        "##Overall Conclusion:\n",
        "\n",
        "Oversampling vs. Undersampling: Oversampling performed better than undersampling. Oversampling helps address class imbalance, allowing the model to learn more effectively from minority class samples.\n",
        "\n",
        "\n",
        "Deep Learning vs. Machine Learning: Deep learning models, with appropriate architecture and techniques (like skip connections), have the potential to outperform traditional machine learning models like Random Forest, especially in scenarios with complex relationships."
      ],
      "metadata": {
        "id": "lpHB8dFeN8HL"
      }
    }
  ]
}