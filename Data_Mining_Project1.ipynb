{
  "cells": [
    {
      "cell_type": "markdown",
      "metadata": {
        "id": "view-in-github",
        "colab_type": "text"
      },
      "source": [
        "<a href=\"https://colab.research.google.com/github/shreya139/MiningMavericks/blob/Dhruvi-Kotecha/Data_Mining_Project1.ipynb\" target=\"_parent\"><img src=\"https://colab.research.google.com/assets/colab-badge.svg\" alt=\"Open In Colab\"/></a>"
      ]
    },
    {
      "cell_type": "code",
      "execution_count": 305,
      "metadata": {
        "id": "0ptLPH9uMctS"
      },
      "outputs": [],
      "source": [
        "import numpy as np\n",
        "import pandas as pd\n",
        "import matplotlib.pyplot as plt\n",
        "import seaborn as sns\n",
        "import plotly.express as px\n",
        "from sklearn.preprocessing import LabelEncoder\n",
        "from sklearn.model_selection import train_test_split\n",
        "from sklearn.preprocessing import PolynomialFeatures\n",
        "from sklearn.linear_model import LinearRegression\n",
        "from sklearn.metrics import mean_squared_error, r2_score\n",
        "from sklearn.linear_model import SGDRegressor\n",
        "from sklearn.metrics import mean_squared_error\n",
        "from sklearn.preprocessing import StandardScaler, MinMaxScaler"
      ]
    },
    {
      "cell_type": "code",
      "execution_count": 306,
      "metadata": {
        "colab": {
          "base_uri": "https://localhost:8080/"
        },
        "id": "Rr7eSJUaNxby",
        "outputId": "4c172e60-350c-48f5-bfe9-85cab17c7d19"
      },
      "outputs": [
        {
          "output_type": "stream",
          "name": "stderr",
          "text": [
            "<ipython-input-306-410f9189b744>:1: DtypeWarning:\n",
            "\n",
            "Columns (16,17,18,19,23) have mixed types. Specify dtype option on import or set low_memory=False.\n",
            "\n"
          ]
        }
      ],
      "source": [
        "data = pd.read_csv('/content/drive/MyDrive/Data_Mining_Datasets/the weather of 187 countries in 2020.csv')"
      ]
    },
    {
      "cell_type": "code",
      "execution_count": 307,
      "metadata": {
        "colab": {
          "base_uri": "https://localhost:8080/",
          "height": 342
        },
        "id": "3Az-VGh3OyC6",
        "outputId": "a586dd53-c52a-4d3e-e29e-bc88330b6e33"
      },
      "outputs": [
        {
          "output_type": "execute_result",
          "data": {
            "text/plain": [
              "       STATION Country/Region        DATE  Year  Month  Day  PRCP  SNWD  TAVG  \\\n",
              "0  TZ000063894        Comoros  2020-01-22  2020      1   22  10.9   NaN  27.6   \n",
              "1  TZ000063894        Comoros  2020-01-23  2020      1   23   0.0   NaN  26.7   \n",
              "2  TZ000063894        Comoros  2020-01-24  2020      1   24   9.4   NaN  27.9   \n",
              "3  TZ000063894        Comoros  2020-01-25  2020      1   25   0.3   NaN  27.9   \n",
              "4  TZ000063894        Comoros  2020-01-26  2020      1   26   0.0   NaN  28.2   \n",
              "\n",
              "   TMAX  ...  LONGITUDE  ELEVATION  PRCP_ATTRIBUTES  TAVG_ATTRIBUTES  \\\n",
              "0  30.2  ...        NaN        NaN              NaN              NaN   \n",
              "1   NaN  ...        NaN        NaN              NaN              NaN   \n",
              "2  30.6  ...        NaN        NaN              NaN              NaN   \n",
              "3  30.2  ...        NaN        NaN              NaN              NaN   \n",
              "4  31.5  ...        NaN        NaN              NaN              NaN   \n",
              "\n",
              "   TMAX_ATTRIBUTES TMIN_ATTRIBUTES DAPR MDPR WESD  SNWD_ATTRIBUTES  \n",
              "0              NaN             NaN  NaN  NaN  NaN              NaN  \n",
              "1              NaN             NaN  NaN  NaN  NaN              NaN  \n",
              "2              NaN             NaN  NaN  NaN  NaN              NaN  \n",
              "3              NaN             NaN  NaN  NaN  NaN              NaN  \n",
              "4              NaN             NaN  NaN  NaN  NaN              NaN  \n",
              "\n",
              "[5 rows x 23 columns]"
            ],
            "text/html": [
              "\n",
              "  <div id=\"df-95fc66d6-2a4b-4fe0-9fcc-7b51b17ec98b\" class=\"colab-df-container\">\n",
              "    <div>\n",
              "<style scoped>\n",
              "    .dataframe tbody tr th:only-of-type {\n",
              "        vertical-align: middle;\n",
              "    }\n",
              "\n",
              "    .dataframe tbody tr th {\n",
              "        vertical-align: top;\n",
              "    }\n",
              "\n",
              "    .dataframe thead th {\n",
              "        text-align: right;\n",
              "    }\n",
              "</style>\n",
              "<table border=\"1\" class=\"dataframe\">\n",
              "  <thead>\n",
              "    <tr style=\"text-align: right;\">\n",
              "      <th></th>\n",
              "      <th>STATION</th>\n",
              "      <th>Country/Region</th>\n",
              "      <th>DATE</th>\n",
              "      <th>Year</th>\n",
              "      <th>Month</th>\n",
              "      <th>Day</th>\n",
              "      <th>PRCP</th>\n",
              "      <th>SNWD</th>\n",
              "      <th>TAVG</th>\n",
              "      <th>TMAX</th>\n",
              "      <th>...</th>\n",
              "      <th>LONGITUDE</th>\n",
              "      <th>ELEVATION</th>\n",
              "      <th>PRCP_ATTRIBUTES</th>\n",
              "      <th>TAVG_ATTRIBUTES</th>\n",
              "      <th>TMAX_ATTRIBUTES</th>\n",
              "      <th>TMIN_ATTRIBUTES</th>\n",
              "      <th>DAPR</th>\n",
              "      <th>MDPR</th>\n",
              "      <th>WESD</th>\n",
              "      <th>SNWD_ATTRIBUTES</th>\n",
              "    </tr>\n",
              "  </thead>\n",
              "  <tbody>\n",
              "    <tr>\n",
              "      <th>0</th>\n",
              "      <td>TZ000063894</td>\n",
              "      <td>Comoros</td>\n",
              "      <td>2020-01-22</td>\n",
              "      <td>2020</td>\n",
              "      <td>1</td>\n",
              "      <td>22</td>\n",
              "      <td>10.9</td>\n",
              "      <td>NaN</td>\n",
              "      <td>27.6</td>\n",
              "      <td>30.2</td>\n",
              "      <td>...</td>\n",
              "      <td>NaN</td>\n",
              "      <td>NaN</td>\n",
              "      <td>NaN</td>\n",
              "      <td>NaN</td>\n",
              "      <td>NaN</td>\n",
              "      <td>NaN</td>\n",
              "      <td>NaN</td>\n",
              "      <td>NaN</td>\n",
              "      <td>NaN</td>\n",
              "      <td>NaN</td>\n",
              "    </tr>\n",
              "    <tr>\n",
              "      <th>1</th>\n",
              "      <td>TZ000063894</td>\n",
              "      <td>Comoros</td>\n",
              "      <td>2020-01-23</td>\n",
              "      <td>2020</td>\n",
              "      <td>1</td>\n",
              "      <td>23</td>\n",
              "      <td>0.0</td>\n",
              "      <td>NaN</td>\n",
              "      <td>26.7</td>\n",
              "      <td>NaN</td>\n",
              "      <td>...</td>\n",
              "      <td>NaN</td>\n",
              "      <td>NaN</td>\n",
              "      <td>NaN</td>\n",
              "      <td>NaN</td>\n",
              "      <td>NaN</td>\n",
              "      <td>NaN</td>\n",
              "      <td>NaN</td>\n",
              "      <td>NaN</td>\n",
              "      <td>NaN</td>\n",
              "      <td>NaN</td>\n",
              "    </tr>\n",
              "    <tr>\n",
              "      <th>2</th>\n",
              "      <td>TZ000063894</td>\n",
              "      <td>Comoros</td>\n",
              "      <td>2020-01-24</td>\n",
              "      <td>2020</td>\n",
              "      <td>1</td>\n",
              "      <td>24</td>\n",
              "      <td>9.4</td>\n",
              "      <td>NaN</td>\n",
              "      <td>27.9</td>\n",
              "      <td>30.6</td>\n",
              "      <td>...</td>\n",
              "      <td>NaN</td>\n",
              "      <td>NaN</td>\n",
              "      <td>NaN</td>\n",
              "      <td>NaN</td>\n",
              "      <td>NaN</td>\n",
              "      <td>NaN</td>\n",
              "      <td>NaN</td>\n",
              "      <td>NaN</td>\n",
              "      <td>NaN</td>\n",
              "      <td>NaN</td>\n",
              "    </tr>\n",
              "    <tr>\n",
              "      <th>3</th>\n",
              "      <td>TZ000063894</td>\n",
              "      <td>Comoros</td>\n",
              "      <td>2020-01-25</td>\n",
              "      <td>2020</td>\n",
              "      <td>1</td>\n",
              "      <td>25</td>\n",
              "      <td>0.3</td>\n",
              "      <td>NaN</td>\n",
              "      <td>27.9</td>\n",
              "      <td>30.2</td>\n",
              "      <td>...</td>\n",
              "      <td>NaN</td>\n",
              "      <td>NaN</td>\n",
              "      <td>NaN</td>\n",
              "      <td>NaN</td>\n",
              "      <td>NaN</td>\n",
              "      <td>NaN</td>\n",
              "      <td>NaN</td>\n",
              "      <td>NaN</td>\n",
              "      <td>NaN</td>\n",
              "      <td>NaN</td>\n",
              "    </tr>\n",
              "    <tr>\n",
              "      <th>4</th>\n",
              "      <td>TZ000063894</td>\n",
              "      <td>Comoros</td>\n",
              "      <td>2020-01-26</td>\n",
              "      <td>2020</td>\n",
              "      <td>1</td>\n",
              "      <td>26</td>\n",
              "      <td>0.0</td>\n",
              "      <td>NaN</td>\n",
              "      <td>28.2</td>\n",
              "      <td>31.5</td>\n",
              "      <td>...</td>\n",
              "      <td>NaN</td>\n",
              "      <td>NaN</td>\n",
              "      <td>NaN</td>\n",
              "      <td>NaN</td>\n",
              "      <td>NaN</td>\n",
              "      <td>NaN</td>\n",
              "      <td>NaN</td>\n",
              "      <td>NaN</td>\n",
              "      <td>NaN</td>\n",
              "      <td>NaN</td>\n",
              "    </tr>\n",
              "  </tbody>\n",
              "</table>\n",
              "<p>5 rows × 23 columns</p>\n",
              "</div>\n",
              "    <div class=\"colab-df-buttons\">\n",
              "\n",
              "  <div class=\"colab-df-container\">\n",
              "    <button class=\"colab-df-convert\" onclick=\"convertToInteractive('df-95fc66d6-2a4b-4fe0-9fcc-7b51b17ec98b')\"\n",
              "            title=\"Convert this dataframe to an interactive table.\"\n",
              "            style=\"display:none;\">\n",
              "\n",
              "  <svg xmlns=\"http://www.w3.org/2000/svg\" height=\"24px\" viewBox=\"0 -960 960 960\">\n",
              "    <path d=\"M120-120v-720h720v720H120Zm60-500h600v-160H180v160Zm220 220h160v-160H400v160Zm0 220h160v-160H400v160ZM180-400h160v-160H180v160Zm440 0h160v-160H620v160ZM180-180h160v-160H180v160Zm440 0h160v-160H620v160Z\"/>\n",
              "  </svg>\n",
              "    </button>\n",
              "\n",
              "  <style>\n",
              "    .colab-df-container {\n",
              "      display:flex;\n",
              "      gap: 12px;\n",
              "    }\n",
              "\n",
              "    .colab-df-convert {\n",
              "      background-color: #E8F0FE;\n",
              "      border: none;\n",
              "      border-radius: 50%;\n",
              "      cursor: pointer;\n",
              "      display: none;\n",
              "      fill: #1967D2;\n",
              "      height: 32px;\n",
              "      padding: 0 0 0 0;\n",
              "      width: 32px;\n",
              "    }\n",
              "\n",
              "    .colab-df-convert:hover {\n",
              "      background-color: #E2EBFA;\n",
              "      box-shadow: 0px 1px 2px rgba(60, 64, 67, 0.3), 0px 1px 3px 1px rgba(60, 64, 67, 0.15);\n",
              "      fill: #174EA6;\n",
              "    }\n",
              "\n",
              "    .colab-df-buttons div {\n",
              "      margin-bottom: 4px;\n",
              "    }\n",
              "\n",
              "    [theme=dark] .colab-df-convert {\n",
              "      background-color: #3B4455;\n",
              "      fill: #D2E3FC;\n",
              "    }\n",
              "\n",
              "    [theme=dark] .colab-df-convert:hover {\n",
              "      background-color: #434B5C;\n",
              "      box-shadow: 0px 1px 3px 1px rgba(0, 0, 0, 0.15);\n",
              "      filter: drop-shadow(0px 1px 2px rgba(0, 0, 0, 0.3));\n",
              "      fill: #FFFFFF;\n",
              "    }\n",
              "  </style>\n",
              "\n",
              "    <script>\n",
              "      const buttonEl =\n",
              "        document.querySelector('#df-95fc66d6-2a4b-4fe0-9fcc-7b51b17ec98b button.colab-df-convert');\n",
              "      buttonEl.style.display =\n",
              "        google.colab.kernel.accessAllowed ? 'block' : 'none';\n",
              "\n",
              "      async function convertToInteractive(key) {\n",
              "        const element = document.querySelector('#df-95fc66d6-2a4b-4fe0-9fcc-7b51b17ec98b');\n",
              "        const dataTable =\n",
              "          await google.colab.kernel.invokeFunction('convertToInteractive',\n",
              "                                                    [key], {});\n",
              "        if (!dataTable) return;\n",
              "\n",
              "        const docLinkHtml = 'Like what you see? Visit the ' +\n",
              "          '<a target=\"_blank\" href=https://colab.research.google.com/notebooks/data_table.ipynb>data table notebook</a>'\n",
              "          + ' to learn more about interactive tables.';\n",
              "        element.innerHTML = '';\n",
              "        dataTable['output_type'] = 'display_data';\n",
              "        await google.colab.output.renderOutput(dataTable, element);\n",
              "        const docLink = document.createElement('div');\n",
              "        docLink.innerHTML = docLinkHtml;\n",
              "        element.appendChild(docLink);\n",
              "      }\n",
              "    </script>\n",
              "  </div>\n",
              "\n",
              "\n",
              "<div id=\"df-b2c688da-3707-49ea-94de-fa99da61a868\">\n",
              "  <button class=\"colab-df-quickchart\" onclick=\"quickchart('df-b2c688da-3707-49ea-94de-fa99da61a868')\"\n",
              "            title=\"Suggest charts.\"\n",
              "            style=\"display:none;\">\n",
              "\n",
              "<svg xmlns=\"http://www.w3.org/2000/svg\" height=\"24px\"viewBox=\"0 0 24 24\"\n",
              "     width=\"24px\">\n",
              "    <g>\n",
              "        <path d=\"M19 3H5c-1.1 0-2 .9-2 2v14c0 1.1.9 2 2 2h14c1.1 0 2-.9 2-2V5c0-1.1-.9-2-2-2zM9 17H7v-7h2v7zm4 0h-2V7h2v10zm4 0h-2v-4h2v4z\"/>\n",
              "    </g>\n",
              "</svg>\n",
              "  </button>\n",
              "\n",
              "<style>\n",
              "  .colab-df-quickchart {\n",
              "      --bg-color: #E8F0FE;\n",
              "      --fill-color: #1967D2;\n",
              "      --hover-bg-color: #E2EBFA;\n",
              "      --hover-fill-color: #174EA6;\n",
              "      --disabled-fill-color: #AAA;\n",
              "      --disabled-bg-color: #DDD;\n",
              "  }\n",
              "\n",
              "  [theme=dark] .colab-df-quickchart {\n",
              "      --bg-color: #3B4455;\n",
              "      --fill-color: #D2E3FC;\n",
              "      --hover-bg-color: #434B5C;\n",
              "      --hover-fill-color: #FFFFFF;\n",
              "      --disabled-bg-color: #3B4455;\n",
              "      --disabled-fill-color: #666;\n",
              "  }\n",
              "\n",
              "  .colab-df-quickchart {\n",
              "    background-color: var(--bg-color);\n",
              "    border: none;\n",
              "    border-radius: 50%;\n",
              "    cursor: pointer;\n",
              "    display: none;\n",
              "    fill: var(--fill-color);\n",
              "    height: 32px;\n",
              "    padding: 0;\n",
              "    width: 32px;\n",
              "  }\n",
              "\n",
              "  .colab-df-quickchart:hover {\n",
              "    background-color: var(--hover-bg-color);\n",
              "    box-shadow: 0 1px 2px rgba(60, 64, 67, 0.3), 0 1px 3px 1px rgba(60, 64, 67, 0.15);\n",
              "    fill: var(--button-hover-fill-color);\n",
              "  }\n",
              "\n",
              "  .colab-df-quickchart-complete:disabled,\n",
              "  .colab-df-quickchart-complete:disabled:hover {\n",
              "    background-color: var(--disabled-bg-color);\n",
              "    fill: var(--disabled-fill-color);\n",
              "    box-shadow: none;\n",
              "  }\n",
              "\n",
              "  .colab-df-spinner {\n",
              "    border: 2px solid var(--fill-color);\n",
              "    border-color: transparent;\n",
              "    border-bottom-color: var(--fill-color);\n",
              "    animation:\n",
              "      spin 1s steps(1) infinite;\n",
              "  }\n",
              "\n",
              "  @keyframes spin {\n",
              "    0% {\n",
              "      border-color: transparent;\n",
              "      border-bottom-color: var(--fill-color);\n",
              "      border-left-color: var(--fill-color);\n",
              "    }\n",
              "    20% {\n",
              "      border-color: transparent;\n",
              "      border-left-color: var(--fill-color);\n",
              "      border-top-color: var(--fill-color);\n",
              "    }\n",
              "    30% {\n",
              "      border-color: transparent;\n",
              "      border-left-color: var(--fill-color);\n",
              "      border-top-color: var(--fill-color);\n",
              "      border-right-color: var(--fill-color);\n",
              "    }\n",
              "    40% {\n",
              "      border-color: transparent;\n",
              "      border-right-color: var(--fill-color);\n",
              "      border-top-color: var(--fill-color);\n",
              "    }\n",
              "    60% {\n",
              "      border-color: transparent;\n",
              "      border-right-color: var(--fill-color);\n",
              "    }\n",
              "    80% {\n",
              "      border-color: transparent;\n",
              "      border-right-color: var(--fill-color);\n",
              "      border-bottom-color: var(--fill-color);\n",
              "    }\n",
              "    90% {\n",
              "      border-color: transparent;\n",
              "      border-bottom-color: var(--fill-color);\n",
              "    }\n",
              "  }\n",
              "</style>\n",
              "\n",
              "  <script>\n",
              "    async function quickchart(key) {\n",
              "      const quickchartButtonEl =\n",
              "        document.querySelector('#' + key + ' button');\n",
              "      quickchartButtonEl.disabled = true;  // To prevent multiple clicks.\n",
              "      quickchartButtonEl.classList.add('colab-df-spinner');\n",
              "      try {\n",
              "        const charts = await google.colab.kernel.invokeFunction(\n",
              "            'suggestCharts', [key], {});\n",
              "      } catch (error) {\n",
              "        console.error('Error during call to suggestCharts:', error);\n",
              "      }\n",
              "      quickchartButtonEl.classList.remove('colab-df-spinner');\n",
              "      quickchartButtonEl.classList.add('colab-df-quickchart-complete');\n",
              "    }\n",
              "    (() => {\n",
              "      let quickchartButtonEl =\n",
              "        document.querySelector('#df-b2c688da-3707-49ea-94de-fa99da61a868 button');\n",
              "      quickchartButtonEl.style.display =\n",
              "        google.colab.kernel.accessAllowed ? 'block' : 'none';\n",
              "    })();\n",
              "  </script>\n",
              "</div>\n",
              "    </div>\n",
              "  </div>\n"
            ]
          },
          "metadata": {},
          "execution_count": 307
        }
      ],
      "source": [
        "data.head()"
      ]
    },
    {
      "cell_type": "markdown",
      "metadata": {
        "id": "XsdE9prEQuPm"
      },
      "source": [
        "**The Feature Explanations:**\n",
        "\n",
        "STATION: The station identifier\n",
        "\n",
        "Country/Region: The country or region where the station is located\n",
        "\n",
        "DATE: The date of the weather observation in YYYY-MM-DD format\n",
        "\n",
        "Year: The year of the weather observation\n",
        "\n",
        "Month: The month of the weather observation\n",
        "\n",
        "Day: The day of the weather observation\n",
        "\n",
        "PRCP: The amount of precipitation (rain or snow)\n",
        "\n",
        "SNWD: The depth of snow on the ground\n",
        "\n",
        "TAVG: The average temperature\n",
        "\n",
        "TMAX: The maximum temperature\n",
        "\n",
        "TMIN: The minimum temperature\n",
        "\n",
        "SNOW: The amount of snowfall\n",
        "\n",
        "LATITUDE: The latitude of the station's location\n",
        "\n",
        "LONGITUDE: The longitude of the station's location\n",
        "\n",
        "ELEVATION: The elevation of the station's location\n",
        "\n",
        "PRCP_ATTRIBUTES: Additional attributes for the precipitation data\n",
        "\n",
        "TAVG_ATTRIBUTES: Additional attributes for the average temperature data\n",
        "\n",
        "TMAX_ATTRIBUTES: Additional attributes for the maximum temperature data\n",
        "\n",
        "TMIN_ATTRIBUTES: Additional attributes for the minimum temperature data\n",
        "\n",
        "DAPR: The number of days since the last precipitation of any amount\n",
        "\n",
        "MDPR: The multiday precipitation total\n",
        "\n",
        "WESD: The water equivalent of the snow depth on the ground\n",
        "\n",
        "SNWD_ATTRIBUTES: Additional attributes for the snow depth data"
      ]
    },
    {
      "cell_type": "code",
      "execution_count": 308,
      "metadata": {
        "colab": {
          "base_uri": "https://localhost:8080/"
        },
        "id": "wfrkAsejO2Ks",
        "outputId": "43ce775b-27ba-4606-8e23-daa11f57edee"
      },
      "outputs": [
        {
          "output_type": "execute_result",
          "data": {
            "text/plain": [
              "(1392575, 23)"
            ]
          },
          "metadata": {},
          "execution_count": 308
        }
      ],
      "source": [
        "data.shape"
      ]
    },
    {
      "cell_type": "code",
      "execution_count": 309,
      "metadata": {
        "colab": {
          "base_uri": "https://localhost:8080/"
        },
        "id": "X7Leh21cpEfh",
        "outputId": "f824bfe1-a372-408b-e829-b135ae6e6331"
      },
      "outputs": [
        {
          "output_type": "execute_result",
          "data": {
            "text/plain": [
              "STATION             object\n",
              "Country/Region      object\n",
              "DATE                object\n",
              "Year                 int64\n",
              "Month                int64\n",
              "Day                  int64\n",
              "PRCP               float64\n",
              "SNWD               float64\n",
              "TAVG               float64\n",
              "TMAX               float64\n",
              "TMIN               float64\n",
              "SNOW               float64\n",
              "LATITUDE           float64\n",
              "LONGITUDE          float64\n",
              "ELEVATION          float64\n",
              "PRCP_ATTRIBUTES     object\n",
              "TAVG_ATTRIBUTES     object\n",
              "TMAX_ATTRIBUTES     object\n",
              "TMIN_ATTRIBUTES     object\n",
              "DAPR               float64\n",
              "MDPR               float64\n",
              "WESD               float64\n",
              "SNWD_ATTRIBUTES     object\n",
              "dtype: object"
            ]
          },
          "metadata": {},
          "execution_count": 309
        }
      ],
      "source": [
        "data.dtypes"
      ]
    },
    {
      "cell_type": "code",
      "execution_count": 310,
      "metadata": {
        "colab": {
          "base_uri": "https://localhost:8080/",
          "height": 320
        },
        "id": "zTlJToaOpNVg",
        "outputId": "fe511e1b-a9da-4bf8-8782-92eb6d18b02c"
      },
      "outputs": [
        {
          "output_type": "execute_result",
          "data": {
            "text/plain": [
              "            Year         Month           Day          PRCP           SNWD  \\\n",
              "count  1392575.0  1.392575e+06  1.392575e+06  1.043369e+06  377429.000000   \n",
              "mean      2020.0  4.279517e+00  1.595168e+01  2.564688e+00     120.712848   \n",
              "std          0.0  1.812637e+00  8.770296e+00  8.035237e+00     293.874318   \n",
              "min       2020.0  1.000000e+00  1.000000e+00  0.000000e+00     -20.000000   \n",
              "25%       2020.0  3.000000e+00  8.000000e+00  0.000000e+00       0.000000   \n",
              "50%       2020.0  4.000000e+00  1.600000e+01  0.000000e+00       0.000000   \n",
              "75%       2020.0  6.000000e+00  2.400000e+01  1.500000e+00      99.000000   \n",
              "max       2020.0  7.000000e+00  3.100000e+01  4.849000e+02   52900.000000   \n",
              "\n",
              "                TAVG           TMAX           TMIN           SNOW  \\\n",
              "count  878632.000000  866705.000000  898381.000000  105392.000000   \n",
              "mean       14.814992      17.412551       7.093554       3.742760   \n",
              "std        13.063075      12.707588      12.227766      19.093372   \n",
              "min       -56.200000     -55.000000     -65.000000       0.000000   \n",
              "25%         6.700000       8.400000       0.000000       0.000000   \n",
              "50%        16.800000      18.500000       7.700000       0.000000   \n",
              "75%        25.600000      27.222222      15.600000       0.000000   \n",
              "max        43.300000      51.200000      36.700000     625.000000   \n",
              "\n",
              "            LATITUDE      LONGITUDE      ELEVATION         DAPR       MDPR  \\\n",
              "count  104742.000000  104742.000000  104742.000000  1293.000000  81.000000   \n",
              "mean       37.689351      71.371220     787.542437     5.292343   0.958025   \n",
              "std        11.572761      71.760255    1094.757321     7.121322   1.653137   \n",
              "min       -17.817000    -140.850000       0.600000     1.000000   0.000000   \n",
              "25%        30.667000      75.983000      68.000000     2.000000   0.000000   \n",
              "50%        37.850000     104.500000     250.000000     3.000000   0.280000   \n",
              "75%        45.217000     116.117000    1099.000000     5.000000   1.510000   \n",
              "max        82.500000     131.983000    4701.000000    61.000000   9.240000   \n",
              "\n",
              "           WESD  \n",
              "count  2.000000  \n",
              "mean   0.050000  \n",
              "std    0.070711  \n",
              "min    0.000000  \n",
              "25%    0.025000  \n",
              "50%    0.050000  \n",
              "75%    0.075000  \n",
              "max    0.100000  "
            ],
            "text/html": [
              "\n",
              "  <div id=\"df-4516b3ca-68d9-427d-99d2-2b11c3e41096\" class=\"colab-df-container\">\n",
              "    <div>\n",
              "<style scoped>\n",
              "    .dataframe tbody tr th:only-of-type {\n",
              "        vertical-align: middle;\n",
              "    }\n",
              "\n",
              "    .dataframe tbody tr th {\n",
              "        vertical-align: top;\n",
              "    }\n",
              "\n",
              "    .dataframe thead th {\n",
              "        text-align: right;\n",
              "    }\n",
              "</style>\n",
              "<table border=\"1\" class=\"dataframe\">\n",
              "  <thead>\n",
              "    <tr style=\"text-align: right;\">\n",
              "      <th></th>\n",
              "      <th>Year</th>\n",
              "      <th>Month</th>\n",
              "      <th>Day</th>\n",
              "      <th>PRCP</th>\n",
              "      <th>SNWD</th>\n",
              "      <th>TAVG</th>\n",
              "      <th>TMAX</th>\n",
              "      <th>TMIN</th>\n",
              "      <th>SNOW</th>\n",
              "      <th>LATITUDE</th>\n",
              "      <th>LONGITUDE</th>\n",
              "      <th>ELEVATION</th>\n",
              "      <th>DAPR</th>\n",
              "      <th>MDPR</th>\n",
              "      <th>WESD</th>\n",
              "    </tr>\n",
              "  </thead>\n",
              "  <tbody>\n",
              "    <tr>\n",
              "      <th>count</th>\n",
              "      <td>1392575.0</td>\n",
              "      <td>1.392575e+06</td>\n",
              "      <td>1.392575e+06</td>\n",
              "      <td>1.043369e+06</td>\n",
              "      <td>377429.000000</td>\n",
              "      <td>878632.000000</td>\n",
              "      <td>866705.000000</td>\n",
              "      <td>898381.000000</td>\n",
              "      <td>105392.000000</td>\n",
              "      <td>104742.000000</td>\n",
              "      <td>104742.000000</td>\n",
              "      <td>104742.000000</td>\n",
              "      <td>1293.000000</td>\n",
              "      <td>81.000000</td>\n",
              "      <td>2.000000</td>\n",
              "    </tr>\n",
              "    <tr>\n",
              "      <th>mean</th>\n",
              "      <td>2020.0</td>\n",
              "      <td>4.279517e+00</td>\n",
              "      <td>1.595168e+01</td>\n",
              "      <td>2.564688e+00</td>\n",
              "      <td>120.712848</td>\n",
              "      <td>14.814992</td>\n",
              "      <td>17.412551</td>\n",
              "      <td>7.093554</td>\n",
              "      <td>3.742760</td>\n",
              "      <td>37.689351</td>\n",
              "      <td>71.371220</td>\n",
              "      <td>787.542437</td>\n",
              "      <td>5.292343</td>\n",
              "      <td>0.958025</td>\n",
              "      <td>0.050000</td>\n",
              "    </tr>\n",
              "    <tr>\n",
              "      <th>std</th>\n",
              "      <td>0.0</td>\n",
              "      <td>1.812637e+00</td>\n",
              "      <td>8.770296e+00</td>\n",
              "      <td>8.035237e+00</td>\n",
              "      <td>293.874318</td>\n",
              "      <td>13.063075</td>\n",
              "      <td>12.707588</td>\n",
              "      <td>12.227766</td>\n",
              "      <td>19.093372</td>\n",
              "      <td>11.572761</td>\n",
              "      <td>71.760255</td>\n",
              "      <td>1094.757321</td>\n",
              "      <td>7.121322</td>\n",
              "      <td>1.653137</td>\n",
              "      <td>0.070711</td>\n",
              "    </tr>\n",
              "    <tr>\n",
              "      <th>min</th>\n",
              "      <td>2020.0</td>\n",
              "      <td>1.000000e+00</td>\n",
              "      <td>1.000000e+00</td>\n",
              "      <td>0.000000e+00</td>\n",
              "      <td>-20.000000</td>\n",
              "      <td>-56.200000</td>\n",
              "      <td>-55.000000</td>\n",
              "      <td>-65.000000</td>\n",
              "      <td>0.000000</td>\n",
              "      <td>-17.817000</td>\n",
              "      <td>-140.850000</td>\n",
              "      <td>0.600000</td>\n",
              "      <td>1.000000</td>\n",
              "      <td>0.000000</td>\n",
              "      <td>0.000000</td>\n",
              "    </tr>\n",
              "    <tr>\n",
              "      <th>25%</th>\n",
              "      <td>2020.0</td>\n",
              "      <td>3.000000e+00</td>\n",
              "      <td>8.000000e+00</td>\n",
              "      <td>0.000000e+00</td>\n",
              "      <td>0.000000</td>\n",
              "      <td>6.700000</td>\n",
              "      <td>8.400000</td>\n",
              "      <td>0.000000</td>\n",
              "      <td>0.000000</td>\n",
              "      <td>30.667000</td>\n",
              "      <td>75.983000</td>\n",
              "      <td>68.000000</td>\n",
              "      <td>2.000000</td>\n",
              "      <td>0.000000</td>\n",
              "      <td>0.025000</td>\n",
              "    </tr>\n",
              "    <tr>\n",
              "      <th>50%</th>\n",
              "      <td>2020.0</td>\n",
              "      <td>4.000000e+00</td>\n",
              "      <td>1.600000e+01</td>\n",
              "      <td>0.000000e+00</td>\n",
              "      <td>0.000000</td>\n",
              "      <td>16.800000</td>\n",
              "      <td>18.500000</td>\n",
              "      <td>7.700000</td>\n",
              "      <td>0.000000</td>\n",
              "      <td>37.850000</td>\n",
              "      <td>104.500000</td>\n",
              "      <td>250.000000</td>\n",
              "      <td>3.000000</td>\n",
              "      <td>0.280000</td>\n",
              "      <td>0.050000</td>\n",
              "    </tr>\n",
              "    <tr>\n",
              "      <th>75%</th>\n",
              "      <td>2020.0</td>\n",
              "      <td>6.000000e+00</td>\n",
              "      <td>2.400000e+01</td>\n",
              "      <td>1.500000e+00</td>\n",
              "      <td>99.000000</td>\n",
              "      <td>25.600000</td>\n",
              "      <td>27.222222</td>\n",
              "      <td>15.600000</td>\n",
              "      <td>0.000000</td>\n",
              "      <td>45.217000</td>\n",
              "      <td>116.117000</td>\n",
              "      <td>1099.000000</td>\n",
              "      <td>5.000000</td>\n",
              "      <td>1.510000</td>\n",
              "      <td>0.075000</td>\n",
              "    </tr>\n",
              "    <tr>\n",
              "      <th>max</th>\n",
              "      <td>2020.0</td>\n",
              "      <td>7.000000e+00</td>\n",
              "      <td>3.100000e+01</td>\n",
              "      <td>4.849000e+02</td>\n",
              "      <td>52900.000000</td>\n",
              "      <td>43.300000</td>\n",
              "      <td>51.200000</td>\n",
              "      <td>36.700000</td>\n",
              "      <td>625.000000</td>\n",
              "      <td>82.500000</td>\n",
              "      <td>131.983000</td>\n",
              "      <td>4701.000000</td>\n",
              "      <td>61.000000</td>\n",
              "      <td>9.240000</td>\n",
              "      <td>0.100000</td>\n",
              "    </tr>\n",
              "  </tbody>\n",
              "</table>\n",
              "</div>\n",
              "    <div class=\"colab-df-buttons\">\n",
              "\n",
              "  <div class=\"colab-df-container\">\n",
              "    <button class=\"colab-df-convert\" onclick=\"convertToInteractive('df-4516b3ca-68d9-427d-99d2-2b11c3e41096')\"\n",
              "            title=\"Convert this dataframe to an interactive table.\"\n",
              "            style=\"display:none;\">\n",
              "\n",
              "  <svg xmlns=\"http://www.w3.org/2000/svg\" height=\"24px\" viewBox=\"0 -960 960 960\">\n",
              "    <path d=\"M120-120v-720h720v720H120Zm60-500h600v-160H180v160Zm220 220h160v-160H400v160Zm0 220h160v-160H400v160ZM180-400h160v-160H180v160Zm440 0h160v-160H620v160ZM180-180h160v-160H180v160Zm440 0h160v-160H620v160Z\"/>\n",
              "  </svg>\n",
              "    </button>\n",
              "\n",
              "  <style>\n",
              "    .colab-df-container {\n",
              "      display:flex;\n",
              "      gap: 12px;\n",
              "    }\n",
              "\n",
              "    .colab-df-convert {\n",
              "      background-color: #E8F0FE;\n",
              "      border: none;\n",
              "      border-radius: 50%;\n",
              "      cursor: pointer;\n",
              "      display: none;\n",
              "      fill: #1967D2;\n",
              "      height: 32px;\n",
              "      padding: 0 0 0 0;\n",
              "      width: 32px;\n",
              "    }\n",
              "\n",
              "    .colab-df-convert:hover {\n",
              "      background-color: #E2EBFA;\n",
              "      box-shadow: 0px 1px 2px rgba(60, 64, 67, 0.3), 0px 1px 3px 1px rgba(60, 64, 67, 0.15);\n",
              "      fill: #174EA6;\n",
              "    }\n",
              "\n",
              "    .colab-df-buttons div {\n",
              "      margin-bottom: 4px;\n",
              "    }\n",
              "\n",
              "    [theme=dark] .colab-df-convert {\n",
              "      background-color: #3B4455;\n",
              "      fill: #D2E3FC;\n",
              "    }\n",
              "\n",
              "    [theme=dark] .colab-df-convert:hover {\n",
              "      background-color: #434B5C;\n",
              "      box-shadow: 0px 1px 3px 1px rgba(0, 0, 0, 0.15);\n",
              "      filter: drop-shadow(0px 1px 2px rgba(0, 0, 0, 0.3));\n",
              "      fill: #FFFFFF;\n",
              "    }\n",
              "  </style>\n",
              "\n",
              "    <script>\n",
              "      const buttonEl =\n",
              "        document.querySelector('#df-4516b3ca-68d9-427d-99d2-2b11c3e41096 button.colab-df-convert');\n",
              "      buttonEl.style.display =\n",
              "        google.colab.kernel.accessAllowed ? 'block' : 'none';\n",
              "\n",
              "      async function convertToInteractive(key) {\n",
              "        const element = document.querySelector('#df-4516b3ca-68d9-427d-99d2-2b11c3e41096');\n",
              "        const dataTable =\n",
              "          await google.colab.kernel.invokeFunction('convertToInteractive',\n",
              "                                                    [key], {});\n",
              "        if (!dataTable) return;\n",
              "\n",
              "        const docLinkHtml = 'Like what you see? Visit the ' +\n",
              "          '<a target=\"_blank\" href=https://colab.research.google.com/notebooks/data_table.ipynb>data table notebook</a>'\n",
              "          + ' to learn more about interactive tables.';\n",
              "        element.innerHTML = '';\n",
              "        dataTable['output_type'] = 'display_data';\n",
              "        await google.colab.output.renderOutput(dataTable, element);\n",
              "        const docLink = document.createElement('div');\n",
              "        docLink.innerHTML = docLinkHtml;\n",
              "        element.appendChild(docLink);\n",
              "      }\n",
              "    </script>\n",
              "  </div>\n",
              "\n",
              "\n",
              "<div id=\"df-5fef634b-70bf-4990-b5dd-23b6180b023f\">\n",
              "  <button class=\"colab-df-quickchart\" onclick=\"quickchart('df-5fef634b-70bf-4990-b5dd-23b6180b023f')\"\n",
              "            title=\"Suggest charts.\"\n",
              "            style=\"display:none;\">\n",
              "\n",
              "<svg xmlns=\"http://www.w3.org/2000/svg\" height=\"24px\"viewBox=\"0 0 24 24\"\n",
              "     width=\"24px\">\n",
              "    <g>\n",
              "        <path d=\"M19 3H5c-1.1 0-2 .9-2 2v14c0 1.1.9 2 2 2h14c1.1 0 2-.9 2-2V5c0-1.1-.9-2-2-2zM9 17H7v-7h2v7zm4 0h-2V7h2v10zm4 0h-2v-4h2v4z\"/>\n",
              "    </g>\n",
              "</svg>\n",
              "  </button>\n",
              "\n",
              "<style>\n",
              "  .colab-df-quickchart {\n",
              "      --bg-color: #E8F0FE;\n",
              "      --fill-color: #1967D2;\n",
              "      --hover-bg-color: #E2EBFA;\n",
              "      --hover-fill-color: #174EA6;\n",
              "      --disabled-fill-color: #AAA;\n",
              "      --disabled-bg-color: #DDD;\n",
              "  }\n",
              "\n",
              "  [theme=dark] .colab-df-quickchart {\n",
              "      --bg-color: #3B4455;\n",
              "      --fill-color: #D2E3FC;\n",
              "      --hover-bg-color: #434B5C;\n",
              "      --hover-fill-color: #FFFFFF;\n",
              "      --disabled-bg-color: #3B4455;\n",
              "      --disabled-fill-color: #666;\n",
              "  }\n",
              "\n",
              "  .colab-df-quickchart {\n",
              "    background-color: var(--bg-color);\n",
              "    border: none;\n",
              "    border-radius: 50%;\n",
              "    cursor: pointer;\n",
              "    display: none;\n",
              "    fill: var(--fill-color);\n",
              "    height: 32px;\n",
              "    padding: 0;\n",
              "    width: 32px;\n",
              "  }\n",
              "\n",
              "  .colab-df-quickchart:hover {\n",
              "    background-color: var(--hover-bg-color);\n",
              "    box-shadow: 0 1px 2px rgba(60, 64, 67, 0.3), 0 1px 3px 1px rgba(60, 64, 67, 0.15);\n",
              "    fill: var(--button-hover-fill-color);\n",
              "  }\n",
              "\n",
              "  .colab-df-quickchart-complete:disabled,\n",
              "  .colab-df-quickchart-complete:disabled:hover {\n",
              "    background-color: var(--disabled-bg-color);\n",
              "    fill: var(--disabled-fill-color);\n",
              "    box-shadow: none;\n",
              "  }\n",
              "\n",
              "  .colab-df-spinner {\n",
              "    border: 2px solid var(--fill-color);\n",
              "    border-color: transparent;\n",
              "    border-bottom-color: var(--fill-color);\n",
              "    animation:\n",
              "      spin 1s steps(1) infinite;\n",
              "  }\n",
              "\n",
              "  @keyframes spin {\n",
              "    0% {\n",
              "      border-color: transparent;\n",
              "      border-bottom-color: var(--fill-color);\n",
              "      border-left-color: var(--fill-color);\n",
              "    }\n",
              "    20% {\n",
              "      border-color: transparent;\n",
              "      border-left-color: var(--fill-color);\n",
              "      border-top-color: var(--fill-color);\n",
              "    }\n",
              "    30% {\n",
              "      border-color: transparent;\n",
              "      border-left-color: var(--fill-color);\n",
              "      border-top-color: var(--fill-color);\n",
              "      border-right-color: var(--fill-color);\n",
              "    }\n",
              "    40% {\n",
              "      border-color: transparent;\n",
              "      border-right-color: var(--fill-color);\n",
              "      border-top-color: var(--fill-color);\n",
              "    }\n",
              "    60% {\n",
              "      border-color: transparent;\n",
              "      border-right-color: var(--fill-color);\n",
              "    }\n",
              "    80% {\n",
              "      border-color: transparent;\n",
              "      border-right-color: var(--fill-color);\n",
              "      border-bottom-color: var(--fill-color);\n",
              "    }\n",
              "    90% {\n",
              "      border-color: transparent;\n",
              "      border-bottom-color: var(--fill-color);\n",
              "    }\n",
              "  }\n",
              "</style>\n",
              "\n",
              "  <script>\n",
              "    async function quickchart(key) {\n",
              "      const quickchartButtonEl =\n",
              "        document.querySelector('#' + key + ' button');\n",
              "      quickchartButtonEl.disabled = true;  // To prevent multiple clicks.\n",
              "      quickchartButtonEl.classList.add('colab-df-spinner');\n",
              "      try {\n",
              "        const charts = await google.colab.kernel.invokeFunction(\n",
              "            'suggestCharts', [key], {});\n",
              "      } catch (error) {\n",
              "        console.error('Error during call to suggestCharts:', error);\n",
              "      }\n",
              "      quickchartButtonEl.classList.remove('colab-df-spinner');\n",
              "      quickchartButtonEl.classList.add('colab-df-quickchart-complete');\n",
              "    }\n",
              "    (() => {\n",
              "      let quickchartButtonEl =\n",
              "        document.querySelector('#df-5fef634b-70bf-4990-b5dd-23b6180b023f button');\n",
              "      quickchartButtonEl.style.display =\n",
              "        google.colab.kernel.accessAllowed ? 'block' : 'none';\n",
              "    })();\n",
              "  </script>\n",
              "</div>\n",
              "    </div>\n",
              "  </div>\n"
            ]
          },
          "metadata": {},
          "execution_count": 310
        }
      ],
      "source": [
        "data.describe()"
      ]
    },
    {
      "cell_type": "code",
      "execution_count": 311,
      "metadata": {
        "id": "KaobL8rpOLCl"
      },
      "outputs": [],
      "source": [
        "data['DATE'] = pd.to_datetime(data['DATE'], format='%Y-%m-%d')"
      ]
    },
    {
      "cell_type": "code",
      "execution_count": 312,
      "metadata": {
        "colab": {
          "base_uri": "https://localhost:8080/"
        },
        "id": "fIjn4O3gp05k",
        "outputId": "d7d5edec-a607-4665-f74f-2b0a964de73d"
      },
      "outputs": [
        {
          "output_type": "execute_result",
          "data": {
            "text/plain": [
              "22456"
            ]
          },
          "metadata": {},
          "execution_count": 312
        }
      ],
      "source": [
        "data.duplicated().sum()"
      ]
    },
    {
      "cell_type": "code",
      "execution_count": 313,
      "metadata": {
        "id": "Dbo_sSPYp8Cs"
      },
      "outputs": [],
      "source": [
        "data = data.drop_duplicates()"
      ]
    },
    {
      "cell_type": "code",
      "execution_count": 314,
      "metadata": {
        "colab": {
          "base_uri": "https://localhost:8080/"
        },
        "id": "Ddw9c0QzqRVr",
        "outputId": "4512a48c-3280-49cb-90c0-8718ac0b5eef"
      },
      "outputs": [
        {
          "output_type": "execute_result",
          "data": {
            "text/plain": [
              "(1370119, 23)"
            ]
          },
          "metadata": {},
          "execution_count": 314
        }
      ],
      "source": [
        "data.shape"
      ]
    },
    {
      "cell_type": "code",
      "execution_count": 315,
      "metadata": {
        "colab": {
          "base_uri": "https://localhost:8080/"
        },
        "id": "vGd8bw2rRdVB",
        "outputId": "8231ec3c-e1a9-4e73-8cc8-d3565f322eaa"
      },
      "outputs": [
        {
          "output_type": "execute_result",
          "data": {
            "text/plain": [
              "STATION                  0\n",
              "Country/Region           0\n",
              "DATE                     0\n",
              "Year                     0\n",
              "Month                    0\n",
              "Day                      0\n",
              "PRCP                346830\n",
              "SNWD                992692\n",
              "TAVG                513943\n",
              "TMAX                517620\n",
              "TMIN                485944\n",
              "SNOW               1264727\n",
              "LATITUDE           1265377\n",
              "LONGITUDE          1265377\n",
              "ELEVATION          1265377\n",
              "PRCP_ATTRIBUTES    1364112\n",
              "TAVG_ATTRIBUTES    1366269\n",
              "TMAX_ATTRIBUTES    1364482\n",
              "TMIN_ATTRIBUTES    1364245\n",
              "DAPR               1368826\n",
              "MDPR               1370038\n",
              "WESD               1370117\n",
              "SNWD_ATTRIBUTES    1369765\n",
              "dtype: int64"
            ]
          },
          "metadata": {},
          "execution_count": 315
        }
      ],
      "source": [
        "data.isnull().sum()"
      ]
    },
    {
      "cell_type": "code",
      "execution_count": 316,
      "metadata": {
        "id": "BUWLvlCkbf9v"
      },
      "outputs": [],
      "source": [
        "# calculating the percentage of missig values\n",
        "missing_percentage = (data.isnull().sum() / len(data)) * 100"
      ]
    },
    {
      "cell_type": "code",
      "execution_count": 317,
      "metadata": {
        "colab": {
          "base_uri": "https://localhost:8080/"
        },
        "id": "kHwwTAxddrEi",
        "outputId": "3aa24bf7-a67c-4ab3-dc74-1cb1f426ac63"
      },
      "outputs": [
        {
          "output_type": "stream",
          "name": "stdout",
          "text": [
            "STATION             0.000000\n",
            "Country/Region      0.000000\n",
            "DATE                0.000000\n",
            "Year                0.000000\n",
            "Month               0.000000\n",
            "Day                 0.000000\n",
            "PRCP               25.313860\n",
            "SNWD               72.452977\n",
            "TAVG               37.510829\n",
            "TMAX               37.779200\n",
            "TMIN               35.467284\n",
            "SNOW               92.307821\n",
            "LATITUDE           92.355263\n",
            "LONGITUDE          92.355263\n",
            "ELEVATION          92.355263\n",
            "PRCP_ATTRIBUTES    99.561571\n",
            "TAVG_ATTRIBUTES    99.719003\n",
            "TMAX_ATTRIBUTES    99.588576\n",
            "TMIN_ATTRIBUTES    99.571278\n",
            "DAPR               99.905629\n",
            "MDPR               99.994088\n",
            "WESD               99.999854\n",
            "SNWD_ATTRIBUTES    99.974163\n",
            "dtype: float64\n"
          ]
        }
      ],
      "source": [
        "print(missing_percentage)"
      ]
    },
    {
      "cell_type": "code",
      "execution_count": 318,
      "metadata": {
        "colab": {
          "base_uri": "https://localhost:8080/"
        },
        "id": "ADnM3B_UfAMO",
        "outputId": "31347f20-83f1-47e0-955f-db8c4f1f2aef"
      },
      "outputs": [
        {
          "output_type": "execute_result",
          "data": {
            "text/plain": [
              "1233107.1"
            ]
          },
          "metadata": {},
          "execution_count": 318
        }
      ],
      "source": [
        "limit = len(data) * 0.9\n",
        "limit"
      ]
    },
    {
      "cell_type": "code",
      "execution_count": 319,
      "metadata": {
        "id": "4DpaZZJMfoII"
      },
      "outputs": [],
      "source": [
        "# Get a list of columns with more than 90% missing values\n",
        "columns_to_drop = missing_percentage[missing_percentage > 90].index.tolist()\n",
        "\n",
        "# Drop the columns\n",
        "data = data.drop(columns=columns_to_drop)"
      ]
    },
    {
      "cell_type": "code",
      "execution_count": 320,
      "metadata": {
        "colab": {
          "base_uri": "https://localhost:8080/"
        },
        "id": "KcFN1lY3gcmT",
        "outputId": "e494daa7-4cf3-4883-f920-e19f6834fc09"
      },
      "outputs": [
        {
          "output_type": "execute_result",
          "data": {
            "text/plain": [
              "Index(['STATION', 'Country/Region', 'DATE', 'Year', 'Month', 'Day', 'PRCP',\n",
              "       'SNWD', 'TAVG', 'TMAX', 'TMIN'],\n",
              "      dtype='object')"
            ]
          },
          "metadata": {},
          "execution_count": 320
        }
      ],
      "source": [
        "data.columns"
      ]
    },
    {
      "cell_type": "code",
      "execution_count": 321,
      "metadata": {
        "colab": {
          "base_uri": "https://localhost:8080/"
        },
        "id": "BNyoPIhngh0s",
        "outputId": "874ed711-5e2f-40f8-cb34-cd24e5099aae"
      },
      "outputs": [
        {
          "output_type": "stream",
          "name": "stdout",
          "text": [
            "<class 'pandas.core.frame.DataFrame'>\n",
            "Int64Index: 1370119 entries, 0 to 1392574\n",
            "Data columns (total 11 columns):\n",
            " #   Column          Non-Null Count    Dtype         \n",
            "---  ------          --------------    -----         \n",
            " 0   STATION         1370119 non-null  object        \n",
            " 1   Country/Region  1370119 non-null  object        \n",
            " 2   DATE            1370119 non-null  datetime64[ns]\n",
            " 3   Year            1370119 non-null  int64         \n",
            " 4   Month           1370119 non-null  int64         \n",
            " 5   Day             1370119 non-null  int64         \n",
            " 6   PRCP            1023289 non-null  float64       \n",
            " 7   SNWD            377427 non-null   float64       \n",
            " 8   TAVG            856176 non-null   float64       \n",
            " 9   TMAX            852499 non-null   float64       \n",
            " 10  TMIN            884175 non-null   float64       \n",
            "dtypes: datetime64[ns](1), float64(5), int64(3), object(2)\n",
            "memory usage: 125.4+ MB\n"
          ]
        }
      ],
      "source": [
        "data.info()"
      ]
    },
    {
      "cell_type": "code",
      "execution_count": 322,
      "metadata": {
        "colab": {
          "base_uri": "https://localhost:8080/",
          "height": 472
        },
        "id": "MvZFywCqrR84",
        "outputId": "93fa4330-abfd-43b2-8f23-b585235a8c90"
      },
      "outputs": [
        {
          "output_type": "display_data",
          "data": {
            "text/plain": [
              "<Figure size 640x480 with 1 Axes>"
            ],
            "image/png": "[encoded data removed]"
          },
          "metadata": {}
        }
      ],
      "source": [
        "# Create a KDE plot for the 'PRCP' column before filling null values\n",
        "sns.kdeplot(data['PRCP'], fill=True, color='blue')\n",
        "\n",
        "# Add labels and title\n",
        "plt.xlabel('PRCP')\n",
        "plt.ylabel('Density')\n",
        "plt.title('Kernel Density Estimate (KDE) Plot for PRCP')\n",
        "\n",
        "# Display the plot\n",
        "plt.show()"
      ]
    },
    {
      "cell_type": "code",
      "execution_count": 323,
      "metadata": {
        "colab": {
          "base_uri": "https://localhost:8080/"
        },
        "id": "Ud7DCkjhtHqa",
        "outputId": "a4df8f0e-595f-464d-9b78-b9a0f7f7cf7b"
      },
      "outputs": [
        {
          "output_type": "stream",
          "name": "stdout",
          "text": [
            "Mean of PRCP : 2.585\n",
            "Standard Deviation of PRCP : 8.025\n"
          ]
        }
      ],
      "source": [
        "print('Mean of PRCP :', round(data['PRCP'].mean(), 3))\n",
        "print('Standard Deviation of PRCP :', round(data['PRCP'].std(), 3))"
      ]
    },
    {
      "cell_type": "code",
      "execution_count": 324,
      "metadata": {
        "colab": {
          "base_uri": "https://localhost:8080/",
          "height": 472
        },
        "id": "tFhnQft_l7Qx",
        "outputId": "9320227c-a9f5-422e-977e-88f18ef10a76"
      },
      "outputs": [
        {
          "output_type": "display_data",
          "data": {
            "text/plain": [
              "<Figure size 640x480 with 1 Axes>"
            ],
            "image/png": "[encoded data removed]"
          },
          "metadata": {}
        }
      ],
      "source": [
        "# Create a KDE plot for the 'SNWD' column\n",
        "sns.kdeplot(data['SNWD'], fill=True, color='blue')\n",
        "\n",
        "# Add labels and title\n",
        "plt.xlabel('SNWD')\n",
        "plt.ylabel('Density')\n",
        "plt.title('Kernel Density Estimate (KDE) Plot for SNWD')\n",
        "\n",
        "# Display the plot\n",
        "plt.show()"
      ]
    },
    {
      "cell_type": "code",
      "execution_count": 325,
      "metadata": {
        "colab": {
          "base_uri": "https://localhost:8080/"
        },
        "id": "Tu72XjHlQ8zF",
        "outputId": "6391d0f9-46e2-43df-cb46-efab1ccd8e3f"
      },
      "outputs": [
        {
          "output_type": "stream",
          "name": "stdout",
          "text": [
            "Mean of SNWD : 120.713\n",
            "Standard Deviation of SNWD : 293.875\n"
          ]
        }
      ],
      "source": [
        "print('Mean of SNWD :', round(data['SNWD'].mean(), 3))\n",
        "print('Standard Deviation of SNWD :', round(data['SNWD'].std(), 3))"
      ]
    },
    {
      "cell_type": "code",
      "execution_count": 326,
      "metadata": {
        "colab": {
          "base_uri": "https://localhost:8080/",
          "height": 472
        },
        "id": "YBs63Gr2yOgw",
        "outputId": "2460d113-5e91-46de-eeab-987981783266"
      },
      "outputs": [
        {
          "output_type": "display_data",
          "data": {
            "text/plain": [
              "<Figure size 640x480 with 1 Axes>"
            ],
            "image/png": "[encoded data removed]"
          },
          "metadata": {}
        }
      ],
      "source": [
        "# Create a KDE plot for the 'TAVG' column\n",
        "sns.kdeplot(data['TAVG'], fill=True, color='blue')\n",
        "\n",
        "# Add labels and title\n",
        "plt.xlabel('TAVG')\n",
        "plt.ylabel('Density')\n",
        "plt.title('Kernel Density Estimate (KDE) Plot for TAVG')\n",
        "\n",
        "# Display the plot\n",
        "plt.show()"
      ]
    },
    {
      "cell_type": "code",
      "execution_count": 327,
      "metadata": {
        "colab": {
          "base_uri": "https://localhost:8080/"
        },
        "id": "Uphvwj-WUVXh",
        "outputId": "438f5a64-7f4e-4d46-aa4f-2b8f507d3daf"
      },
      "outputs": [
        {
          "output_type": "stream",
          "name": "stdout",
          "text": [
            "Mean of TAVG : 14.573\n",
            "Standard Deviation of TAVG : 13.116\n"
          ]
        }
      ],
      "source": [
        "print('Mean of TAVG :', round(data['TAVG'].mean(), 3))\n",
        "print('Standard Deviation of TAVG :', round(data['TAVG'].std(), 3))"
      ]
    },
    {
      "cell_type": "code",
      "execution_count": 328,
      "metadata": {
        "colab": {
          "base_uri": "https://localhost:8080/",
          "height": 472
        },
        "id": "XPanIROCyiKp",
        "outputId": "6301dae0-0220-4e9a-ecb0-2bcc395dd456"
      },
      "outputs": [
        {
          "output_type": "display_data",
          "data": {
            "text/plain": [
              "<Figure size 640x480 with 1 Axes>"
            ],
            "image/png": "[encoded data removed]"
          },
          "metadata": {}
        }
      ],
      "source": [
        "# Create a KDE plot for the 'TMAX' column\n",
        "sns.kdeplot(data['TMAX'], fill=True, color='blue')\n",
        "\n",
        "# Add labels and title\n",
        "plt.xlabel('TMAX')\n",
        "plt.ylabel('Density')\n",
        "plt.title('Kernel Density Estimate (KDE) Plot for TMAX')\n",
        "\n",
        "# Display the plot\n",
        "plt.show()"
      ]
    },
    {
      "cell_type": "code",
      "execution_count": 329,
      "metadata": {
        "colab": {
          "base_uri": "https://localhost:8080/"
        },
        "id": "lHt6cxyLUnFO",
        "outputId": "aaa13e11-d527-4bb7-d240-97133ca019eb"
      },
      "outputs": [
        {
          "output_type": "stream",
          "name": "stdout",
          "text": [
            "Mean of TMAX : 17.172\n",
            "Standard Deviation of TMAX : 12.656\n"
          ]
        }
      ],
      "source": [
        "print('Mean of TMAX :', round(data['TMAX'].mean(), 3))\n",
        "print('Standard Deviation of TMAX :', round(data['TMAX'].std(), 3))"
      ]
    },
    {
      "cell_type": "code",
      "execution_count": 330,
      "metadata": {
        "colab": {
          "base_uri": "https://localhost:8080/",
          "height": 472
        },
        "id": "JOOBRHwkytj-",
        "outputId": "2f88012c-fb57-48be-a173-30a8cbc55d17"
      },
      "outputs": [
        {
          "output_type": "display_data",
          "data": {
            "text/plain": [
              "<Figure size 640x480 with 1 Axes>"
            ],
            "image/png": "[encoded data removed]"
          },
          "metadata": {}
        }
      ],
      "source": [
        "# Create a KDE plot for the 'TMIN' column\n",
        "sns.kdeplot(data['TMIN'], fill=True, color='blue')\n",
        "\n",
        "# Add labels and title\n",
        "plt.xlabel('TMIN')\n",
        "plt.ylabel('Density')\n",
        "plt.title('Kernel Density Estimate (KDE) Plot for TMIN')\n",
        "\n",
        "# Display the plot\n",
        "plt.show()"
      ]
    },
    {
      "cell_type": "code",
      "execution_count": 331,
      "metadata": {
        "colab": {
          "base_uri": "https://localhost:8080/"
        },
        "id": "fZttRgXLUyEP",
        "outputId": "392c75e1-a150-4cf3-8bb6-48ca1b2aa51a"
      },
      "outputs": [
        {
          "output_type": "stream",
          "name": "stdout",
          "text": [
            "Mean of TMIN : 6.948\n",
            "Standard Deviation of TMIN : 12.245\n"
          ]
        }
      ],
      "source": [
        "print('Mean of TMIN :', round(data['TMIN'].mean(), 3))\n",
        "print('Standard Deviation of TMIN :', round(data['TMIN'].std(), 3))"
      ]
    },
    {
      "cell_type": "markdown",
      "metadata": {
        "id": "FDojpAv6Vxl3"
      },
      "source": [
        "# Correlation Analysis"
      ]
    },
    {
      "cell_type": "code",
      "execution_count": 332,
      "metadata": {
        "colab": {
          "base_uri": "https://localhost:8080/",
          "height": 300
        },
        "id": "ARTBmPgnVq6r",
        "outputId": "1c76ba30-6b3f-49d0-9ae7-15f8205759f2"
      },
      "outputs": [
        {
          "output_type": "execute_result",
          "data": {
            "text/plain": [
              "       Year     Month       Day      PRCP      SNWD      TAVG      TMAX  \\\n",
              "Year    NaN       NaN       NaN       NaN       NaN       NaN       NaN   \n",
              "Month   NaN  1.000000 -0.150757  0.054312 -0.241610  0.427135  0.511390   \n",
              "Day     NaN -0.150757  1.000000 -0.015601 -0.017893  0.007777  0.013443   \n",
              "PRCP    NaN  0.054312 -0.015601  1.000000 -0.018828  0.119098  0.061686   \n",
              "SNWD    NaN -0.241610 -0.017893 -0.018828  1.000000 -0.369569 -0.365118   \n",
              "TAVG    NaN  0.427135  0.007777  0.119098 -0.369569  1.000000  0.981784   \n",
              "TMAX    NaN  0.511390  0.013443  0.061686 -0.365118  0.981784  1.000000   \n",
              "TMIN    NaN  0.452919  0.012645  0.155441 -0.418693  0.976616  0.917586   \n",
              "\n",
              "           TMIN  \n",
              "Year        NaN  \n",
              "Month  0.452919  \n",
              "Day    0.012645  \n",
              "PRCP   0.155441  \n",
              "SNWD  -0.418693  \n",
              "TAVG   0.976616  \n",
              "TMAX   0.917586  \n",
              "TMIN   1.000000  "
            ],
            "text/html": [
              "\n",
              "  <div id=\"df-6ad88a2b-38ea-4ae2-9598-a44d78e0acc7\" class=\"colab-df-container\">\n",
              "    <div>\n",
              "<style scoped>\n",
              "    .dataframe tbody tr th:only-of-type {\n",
              "        vertical-align: middle;\n",
              "    }\n",
              "\n",
              "    .dataframe tbody tr th {\n",
              "        vertical-align: top;\n",
              "    }\n",
              "\n",
              "    .dataframe thead th {\n",
              "        text-align: right;\n",
              "    }\n",
              "</style>\n",
              "<table border=\"1\" class=\"dataframe\">\n",
              "  <thead>\n",
              "    <tr style=\"text-align: right;\">\n",
              "      <th></th>\n",
              "      <th>Year</th>\n",
              "      <th>Month</th>\n",
              "      <th>Day</th>\n",
              "      <th>PRCP</th>\n",
              "      <th>SNWD</th>\n",
              "      <th>TAVG</th>\n",
              "      <th>TMAX</th>\n",
              "      <th>TMIN</th>\n",
              "    </tr>\n",
              "  </thead>\n",
              "  <tbody>\n",
              "    <tr>\n",
              "      <th>Year</th>\n",
              "      <td>NaN</td>\n",
              "      <td>NaN</td>\n",
              "      <td>NaN</td>\n",
              "      <td>NaN</td>\n",
              "      <td>NaN</td>\n",
              "      <td>NaN</td>\n",
              "      <td>NaN</td>\n",
              "      <td>NaN</td>\n",
              "    </tr>\n",
              "    <tr>\n",
              "      <th>Month</th>\n",
              "      <td>NaN</td>\n",
              "      <td>1.000000</td>\n",
              "      <td>-0.150757</td>\n",
              "      <td>0.054312</td>\n",
              "      <td>-0.241610</td>\n",
              "      <td>0.427135</td>\n",
              "      <td>0.511390</td>\n",
              "      <td>0.452919</td>\n",
              "    </tr>\n",
              "    <tr>\n",
              "      <th>Day</th>\n",
              "      <td>NaN</td>\n",
              "      <td>-0.150757</td>\n",
              "      <td>1.000000</td>\n",
              "      <td>-0.015601</td>\n",
              "      <td>-0.017893</td>\n",
              "      <td>0.007777</td>\n",
              "      <td>0.013443</td>\n",
              "      <td>0.012645</td>\n",
              "    </tr>\n",
              "    <tr>\n",
              "      <th>PRCP</th>\n",
              "      <td>NaN</td>\n",
              "      <td>0.054312</td>\n",
              "      <td>-0.015601</td>\n",
              "      <td>1.000000</td>\n",
              "      <td>-0.018828</td>\n",
              "      <td>0.119098</td>\n",
              "      <td>0.061686</td>\n",
              "      <td>0.155441</td>\n",
              "    </tr>\n",
              "    <tr>\n",
              "      <th>SNWD</th>\n",
              "      <td>NaN</td>\n",
              "      <td>-0.241610</td>\n",
              "      <td>-0.017893</td>\n",
              "      <td>-0.018828</td>\n",
              "      <td>1.000000</td>\n",
              "      <td>-0.369569</td>\n",
              "      <td>-0.365118</td>\n",
              "      <td>-0.418693</td>\n",
              "    </tr>\n",
              "    <tr>\n",
              "      <th>TAVG</th>\n",
              "      <td>NaN</td>\n",
              "      <td>0.427135</td>\n",
              "      <td>0.007777</td>\n",
              "      <td>0.119098</td>\n",
              "      <td>-0.369569</td>\n",
              "      <td>1.000000</td>\n",
              "      <td>0.981784</td>\n",
              "      <td>0.976616</td>\n",
              "    </tr>\n",
              "    <tr>\n",
              "      <th>TMAX</th>\n",
              "      <td>NaN</td>\n",
              "      <td>0.511390</td>\n",
              "      <td>0.013443</td>\n",
              "      <td>0.061686</td>\n",
              "      <td>-0.365118</td>\n",
              "      <td>0.981784</td>\n",
              "      <td>1.000000</td>\n",
              "      <td>0.917586</td>\n",
              "    </tr>\n",
              "    <tr>\n",
              "      <th>TMIN</th>\n",
              "      <td>NaN</td>\n",
              "      <td>0.452919</td>\n",
              "      <td>0.012645</td>\n",
              "      <td>0.155441</td>\n",
              "      <td>-0.418693</td>\n",
              "      <td>0.976616</td>\n",
              "      <td>0.917586</td>\n",
              "      <td>1.000000</td>\n",
              "    </tr>\n",
              "  </tbody>\n",
              "</table>\n",
              "</div>\n",
              "    <div class=\"colab-df-buttons\">\n",
              "\n",
              "  <div class=\"colab-df-container\">\n",
              "    <button class=\"colab-df-convert\" onclick=\"convertToInteractive('df-6ad88a2b-38ea-4ae2-9598-a44d78e0acc7')\"\n",
              "            title=\"Convert this dataframe to an interactive table.\"\n",
              "            style=\"display:none;\">\n",
              "\n",
              "  <svg xmlns=\"http://www.w3.org/2000/svg\" height=\"24px\" viewBox=\"0 -960 960 960\">\n",
              "    <path d=\"M120-120v-720h720v720H120Zm60-500h600v-160H180v160Zm220 220h160v-160H400v160Zm0 220h160v-160H400v160ZM180-400h160v-160H180v160Zm440 0h160v-160H620v160ZM180-180h160v-160H180v160Zm440 0h160v-160H620v160Z\"/>\n",
              "  </svg>\n",
              "    </button>\n",
              "\n",
              "  <style>\n",
              "    .colab-df-container {\n",
              "      display:flex;\n",
              "      gap: 12px;\n",
              "    }\n",
              "\n",
              "    .colab-df-convert {\n",
              "      background-color: #E8F0FE;\n",
              "      border: none;\n",
              "      border-radius: 50%;\n",
              "      cursor: pointer;\n",
              "      display: none;\n",
              "      fill: #1967D2;\n",
              "      height: 32px;\n",
              "      padding: 0 0 0 0;\n",
              "      width: 32px;\n",
              "    }\n",
              "\n",
              "    .colab-df-convert:hover {\n",
              "      background-color: #E2EBFA;\n",
              "      box-shadow: 0px 1px 2px rgba(60, 64, 67, 0.3), 0px 1px 3px 1px rgba(60, 64, 67, 0.15);\n",
              "      fill: #174EA6;\n",
              "    }\n",
              "\n",
              "    .colab-df-buttons div {\n",
              "      margin-bottom: 4px;\n",
              "    }\n",
              "\n",
              "    [theme=dark] .colab-df-convert {\n",
              "      background-color: #3B4455;\n",
              "      fill: #D2E3FC;\n",
              "    }\n",
              "\n",
              "    [theme=dark] .colab-df-convert:hover {\n",
              "      background-color: #434B5C;\n",
              "      box-shadow: 0px 1px 3px 1px rgba(0, 0, 0, 0.15);\n",
              "      filter: drop-shadow(0px 1px 2px rgba(0, 0, 0, 0.3));\n",
              "      fill: #FFFFFF;\n",
              "    }\n",
              "  </style>\n",
              "\n",
              "    <script>\n",
              "      const buttonEl =\n",
              "        document.querySelector('#df-6ad88a2b-38ea-4ae2-9598-a44d78e0acc7 button.colab-df-convert');\n",
              "      buttonEl.style.display =\n",
              "        google.colab.kernel.accessAllowed ? 'block' : 'none';\n",
              "\n",
              "      async function convertToInteractive(key) {\n",
              "        const element = document.querySelector('#df-6ad88a2b-38ea-4ae2-9598-a44d78e0acc7');\n",
              "        const dataTable =\n",
              "          await google.colab.kernel.invokeFunction('convertToInteractive',\n",
              "                                                    [key], {});\n",
              "        if (!dataTable) return;\n",
              "\n",
              "        const docLinkHtml = 'Like what you see? Visit the ' +\n",
              "          '<a target=\"_blank\" href=https://colab.research.google.com/notebooks/data_table.ipynb>data table notebook</a>'\n",
              "          + ' to learn more about interactive tables.';\n",
              "        element.innerHTML = '';\n",
              "        dataTable['output_type'] = 'display_data';\n",
              "        await google.colab.output.renderOutput(dataTable, element);\n",
              "        const docLink = document.createElement('div');\n",
              "        docLink.innerHTML = docLinkHtml;\n",
              "        element.appendChild(docLink);\n",
              "      }\n",
              "    </script>\n",
              "  </div>\n",
              "\n",
              "\n",
              "<div id=\"df-e07ca126-542c-44fc-9252-2de56c11480a\">\n",
              "  <button class=\"colab-df-quickchart\" onclick=\"quickchart('df-e07ca126-542c-44fc-9252-2de56c11480a')\"\n",
              "            title=\"Suggest charts.\"\n",
              "            style=\"display:none;\">\n",
              "\n",
              "<svg xmlns=\"http://www.w3.org/2000/svg\" height=\"24px\"viewBox=\"0 0 24 24\"\n",
              "     width=\"24px\">\n",
              "    <g>\n",
              "        <path d=\"M19 3H5c-1.1 0-2 .9-2 2v14c0 1.1.9 2 2 2h14c1.1 0 2-.9 2-2V5c0-1.1-.9-2-2-2zM9 17H7v-7h2v7zm4 0h-2V7h2v10zm4 0h-2v-4h2v4z\"/>\n",
              "    </g>\n",
              "</svg>\n",
              "  </button>\n",
              "\n",
              "<style>\n",
              "  .colab-df-quickchart {\n",
              "      --bg-color: #E8F0FE;\n",
              "      --fill-color: #1967D2;\n",
              "      --hover-bg-color: #E2EBFA;\n",
              "      --hover-fill-color: #174EA6;\n",
              "      --disabled-fill-color: #AAA;\n",
              "      --disabled-bg-color: #DDD;\n",
              "  }\n",
              "\n",
              "  [theme=dark] .colab-df-quickchart {\n",
              "      --bg-color: #3B4455;\n",
              "      --fill-color: #D2E3FC;\n",
              "      --hover-bg-color: #434B5C;\n",
              "      --hover-fill-color: #FFFFFF;\n",
              "      --disabled-bg-color: #3B4455;\n",
              "      --disabled-fill-color: #666;\n",
              "  }\n",
              "\n",
              "  .colab-df-quickchart {\n",
              "    background-color: var(--bg-color);\n",
              "    border: none;\n",
              "    border-radius: 50%;\n",
              "    cursor: pointer;\n",
              "    display: none;\n",
              "    fill: var(--fill-color);\n",
              "    height: 32px;\n",
              "    padding: 0;\n",
              "    width: 32px;\n",
              "  }\n",
              "\n",
              "  .colab-df-quickchart:hover {\n",
              "    background-color: var(--hover-bg-color);\n",
              "    box-shadow: 0 1px 2px rgba(60, 64, 67, 0.3), 0 1px 3px 1px rgba(60, 64, 67, 0.15);\n",
              "    fill: var(--button-hover-fill-color);\n",
              "  }\n",
              "\n",
              "  .colab-df-quickchart-complete:disabled,\n",
              "  .colab-df-quickchart-complete:disabled:hover {\n",
              "    background-color: var(--disabled-bg-color);\n",
              "    fill: var(--disabled-fill-color);\n",
              "    box-shadow: none;\n",
              "  }\n",
              "\n",
              "  .colab-df-spinner {\n",
              "    border: 2px solid var(--fill-color);\n",
              "    border-color: transparent;\n",
              "    border-bottom-color: var(--fill-color);\n",
              "    animation:\n",
              "      spin 1s steps(1) infinite;\n",
              "  }\n",
              "\n",
              "  @keyframes spin {\n",
              "    0% {\n",
              "      border-color: transparent;\n",
              "      border-bottom-color: var(--fill-color);\n",
              "      border-left-color: var(--fill-color);\n",
              "    }\n",
              "    20% {\n",
              "      border-color: transparent;\n",
              "      border-left-color: var(--fill-color);\n",
              "      border-top-color: var(--fill-color);\n",
              "    }\n",
              "    30% {\n",
              "      border-color: transparent;\n",
              "      border-left-color: var(--fill-color);\n",
              "      border-top-color: var(--fill-color);\n",
              "      border-right-color: var(--fill-color);\n",
              "    }\n",
              "    40% {\n",
              "      border-color: transparent;\n",
              "      border-right-color: var(--fill-color);\n",
              "      border-top-color: var(--fill-color);\n",
              "    }\n",
              "    60% {\n",
              "      border-color: transparent;\n",
              "      border-right-color: var(--fill-color);\n",
              "    }\n",
              "    80% {\n",
              "      border-color: transparent;\n",
              "      border-right-color: var(--fill-color);\n",
              "      border-bottom-color: var(--fill-color);\n",
              "    }\n",
              "    90% {\n",
              "      border-color: transparent;\n",
              "      border-bottom-color: var(--fill-color);\n",
              "    }\n",
              "  }\n",
              "</style>\n",
              "\n",
              "  <script>\n",
              "    async function quickchart(key) {\n",
              "      const quickchartButtonEl =\n",
              "        document.querySelector('#' + key + ' button');\n",
              "      quickchartButtonEl.disabled = true;  // To prevent multiple clicks.\n",
              "      quickchartButtonEl.classList.add('colab-df-spinner');\n",
              "      try {\n",
              "        const charts = await google.colab.kernel.invokeFunction(\n",
              "            'suggestCharts', [key], {});\n",
              "      } catch (error) {\n",
              "        console.error('Error during call to suggestCharts:', error);\n",
              "      }\n",
              "      quickchartButtonEl.classList.remove('colab-df-spinner');\n",
              "      quickchartButtonEl.classList.add('colab-df-quickchart-complete');\n",
              "    }\n",
              "    (() => {\n",
              "      let quickchartButtonEl =\n",
              "        document.querySelector('#df-e07ca126-542c-44fc-9252-2de56c11480a button');\n",
              "      quickchartButtonEl.style.display =\n",
              "        google.colab.kernel.accessAllowed ? 'block' : 'none';\n",
              "    })();\n",
              "  </script>\n",
              "</div>\n",
              "    </div>\n",
              "  </div>\n"
            ]
          },
          "metadata": {},
          "execution_count": 332
        }
      ],
      "source": [
        "corr_matrix = data.corr(numeric_only='int')\n",
        "corr_matrix"
      ]
    },
    {
      "cell_type": "code",
      "execution_count": 333,
      "metadata": {
        "colab": {
          "base_uri": "https://localhost:8080/",
          "height": 606
        },
        "id": "20Cn-Rn5V12E",
        "outputId": "0ffcfcb0-dde4-40d7-bcf4-fb0e2c24821e"
      },
      "outputs": [
        {
          "output_type": "display_data",
          "data": {
            "text/plain": [
              "<Figure size 600x600 with 2 Axes>"
            ],
            "image/png": "[encoded data removed]"
          },
          "metadata": {}
        }
      ],
      "source": [
        "plt.figure(figsize=(6, 6))\n",
        "sns.heatmap(corr_matrix, annot=True, cmap='Oranges');\n",
        "plt.tight_layout()"
      ]
    },
    {
      "cell_type": "code",
      "execution_count": 334,
      "metadata": {
        "colab": {
          "base_uri": "https://localhost:8080/"
        },
        "id": "j44tC0jTMyhR",
        "outputId": "788618e2-3d89-4ac9-a84e-a59700b1b43e"
      },
      "outputs": [
        {
          "output_type": "stream",
          "name": "stdout",
          "text": [
            "Canada          254817\n",
            "Sweden          111499\n",
            "Germany         103931\n",
            "Russia           91988\n",
            "Netherlands      64137\n",
            "                 ...  \n",
            "Zimbabwe           166\n",
            "Sierra Leone       101\n",
            "Iraq               100\n",
            "Malawi              74\n",
            "Zambia              13\n",
            "Name: Country/Region, Length: 187, dtype: int64\n"
          ]
        }
      ],
      "source": [
        "# Count records for each country\n",
        "country_counts = data['Country/Region'].value_counts()\n",
        "\n",
        "# Sort by count in descending order\n",
        "country_counts_sorted = country_counts.sort_values(ascending=False)\n",
        "\n",
        "# Print the sorted counts\n",
        "print(country_counts_sorted)"
      ]
    },
    {
      "cell_type": "markdown",
      "metadata": {
        "id": "ntzmSMdEH5hL"
      },
      "source": [
        "# India"
      ]
    },
    {
      "cell_type": "code",
      "execution_count": 335,
      "metadata": {
        "id": "kYP_6FdryzcL"
      },
      "outputs": [],
      "source": [
        "india_data = data[data['Country/Region'] == 'India']"
      ]
    },
    {
      "cell_type": "code",
      "execution_count": 336,
      "metadata": {
        "colab": {
          "base_uri": "https://localhost:8080/"
        },
        "id": "2Jw1509TIbsx",
        "outputId": "5b0dbb13-4069-4036-f39d-5133b1d1c6b2"
      },
      "outputs": [
        {
          "output_type": "execute_result",
          "data": {
            "text/plain": [
              "(23007, 11)"
            ]
          },
          "metadata": {},
          "execution_count": 336
        }
      ],
      "source": [
        "india_data.shape"
      ]
    },
    {
      "cell_type": "code",
      "execution_count": 337,
      "metadata": {
        "colab": {
          "base_uri": "https://localhost:8080/"
        },
        "id": "MITI5mdC2Sq-",
        "outputId": "5e5c2bdc-4aa0-4581-df1d-90334aa05ee3"
      },
      "outputs": [
        {
          "output_type": "execute_result",
          "data": {
            "text/plain": [
              "STATION               0\n",
              "Country/Region        0\n",
              "DATE                  0\n",
              "Year                  0\n",
              "Month                 0\n",
              "Day                   0\n",
              "PRCP              15145\n",
              "SNWD              23007\n",
              "TAVG                  0\n",
              "TMAX              13111\n",
              "TMIN               4037\n",
              "dtype: int64"
            ]
          },
          "metadata": {},
          "execution_count": 337
        }
      ],
      "source": [
        "india_data.isnull().sum()"
      ]
    },
    {
      "cell_type": "code",
      "execution_count": 338,
      "metadata": {
        "id": "IG0fdUQRKyvL"
      },
      "outputs": [],
      "source": [
        "# calculating the percentage of missig values\n",
        "missing_percentage = (india_data.isnull().sum() / len(india_data)) * 100"
      ]
    },
    {
      "cell_type": "code",
      "execution_count": 339,
      "metadata": {
        "colab": {
          "base_uri": "https://localhost:8080/"
        },
        "id": "b4NfRy1IKyvN",
        "outputId": "06ffb459-6abb-4c91-f4ea-52593f516107"
      },
      "outputs": [
        {
          "output_type": "stream",
          "name": "stdout",
          "text": [
            "STATION             0.000000\n",
            "Country/Region      0.000000\n",
            "DATE                0.000000\n",
            "Year                0.000000\n",
            "Month               0.000000\n",
            "Day                 0.000000\n",
            "PRCP               65.827792\n",
            "SNWD              100.000000\n",
            "TAVG                0.000000\n",
            "TMAX               56.987004\n",
            "TMIN               17.546834\n",
            "dtype: float64\n"
          ]
        }
      ],
      "source": [
        "print(missing_percentage)"
      ]
    },
    {
      "cell_type": "markdown",
      "metadata": {
        "id": "Utkl-1lQJyhQ"
      },
      "source": [
        "# United States"
      ]
    },
    {
      "cell_type": "code",
      "execution_count": 340,
      "metadata": {
        "id": "2gEXjxBCHelH"
      },
      "outputs": [],
      "source": [
        "us_data = data[data['Country/Region'] == 'US']"
      ]
    },
    {
      "cell_type": "code",
      "execution_count": 341,
      "metadata": {
        "colab": {
          "base_uri": "https://localhost:8080/"
        },
        "id": "bhpR_ysTIlX-",
        "outputId": "2e1d5570-a07b-4a4e-d562-5fab5cc39647"
      },
      "outputs": [
        {
          "output_type": "execute_result",
          "data": {
            "text/plain": [
              "(8575, 11)"
            ]
          },
          "metadata": {},
          "execution_count": 341
        }
      ],
      "source": [
        "us_data.shape"
      ]
    },
    {
      "cell_type": "code",
      "execution_count": 342,
      "metadata": {
        "colab": {
          "base_uri": "https://localhost:8080/"
        },
        "id": "ehoqj_lQHelq",
        "outputId": "41d5a826-bfb5-4803-fd64-ec47f4d74118"
      },
      "outputs": [
        {
          "output_type": "execute_result",
          "data": {
            "text/plain": [
              "STATION              0\n",
              "Country/Region       0\n",
              "DATE                 0\n",
              "Year                 0\n",
              "Month                0\n",
              "Day                  0\n",
              "PRCP               364\n",
              "SNWD              3807\n",
              "TAVG               743\n",
              "TMAX               737\n",
              "TMIN               738\n",
              "dtype: int64"
            ]
          },
          "metadata": {},
          "execution_count": 342
        }
      ],
      "source": [
        "us_data.isnull().sum()"
      ]
    },
    {
      "cell_type": "code",
      "execution_count": 343,
      "metadata": {
        "id": "tw0KNlVDLFqx"
      },
      "outputs": [],
      "source": [
        "# calculating the percentage of missig values\n",
        "missing_percentage = (us_data.isnull().sum() / len(us_data)) * 100"
      ]
    },
    {
      "cell_type": "code",
      "execution_count": 344,
      "metadata": {
        "colab": {
          "base_uri": "https://localhost:8080/"
        },
        "id": "1VgvGKY1LFqz",
        "outputId": "938e48e2-0c25-4310-bad3-6cc615fb8430"
      },
      "outputs": [
        {
          "output_type": "stream",
          "name": "stdout",
          "text": [
            "STATION            0.000000\n",
            "Country/Region     0.000000\n",
            "DATE               0.000000\n",
            "Year               0.000000\n",
            "Month              0.000000\n",
            "Day                0.000000\n",
            "PRCP               4.244898\n",
            "SNWD              44.396501\n",
            "TAVG               8.664723\n",
            "TMAX               8.594752\n",
            "TMIN               8.606414\n",
            "dtype: float64\n"
          ]
        }
      ],
      "source": [
        "print(missing_percentage)"
      ]
    },
    {
      "cell_type": "code",
      "execution_count": 345,
      "metadata": {
        "id": "YoLThDzuWY0U"
      },
      "outputs": [],
      "source": [
        "# Drop rows with null values in both 'TMIN' and 'TMAX' columns\n",
        "us_data = us_data.dropna(subset=['TMIN', 'TMAX'])"
      ]
    },
    {
      "cell_type": "code",
      "execution_count": 346,
      "metadata": {
        "id": "IhD0FxuGWY0V",
        "colab": {
          "base_uri": "https://localhost:8080/"
        },
        "outputId": "12cccdc7-d9b6-46dd-d935-34555cc430a4"
      },
      "outputs": [
        {
          "output_type": "stream",
          "name": "stderr",
          "text": [
            "<ipython-input-346-d24b462ef407>:2: SettingWithCopyWarning:\n",
            "\n",
            "\n",
            "A value is trying to be set on a copy of a slice from a DataFrame\n",
            "\n",
            "See the caveats in the documentation: https://pandas.pydata.org/pandas-docs/stable/user_guide/indexing.html#returning-a-view-versus-a-copy\n",
            "\n"
          ]
        }
      ],
      "source": [
        "# Fill null values in 'TAVG' with the average of 'TMIN' and 'TMAX'\n",
        "us_data['TAVG'].fillna((us_data['TMIN'] + us_data['TMAX']) / 2, inplace=True)"
      ]
    },
    {
      "cell_type": "code",
      "execution_count": 347,
      "metadata": {
        "id": "LeB7c5kwY8AV"
      },
      "outputs": [],
      "source": [
        "# Drop rows where 'PRCP' is null\n",
        "us_data = us_data.dropna(subset=['PRCP'])"
      ]
    },
    {
      "cell_type": "code",
      "execution_count": 348,
      "metadata": {
        "colab": {
          "base_uri": "https://localhost:8080/"
        },
        "id": "T_Ig6fpIZC9d",
        "outputId": "82f3f067-23f3-4025-824b-1cd5021aab39"
      },
      "outputs": [
        {
          "output_type": "execute_result",
          "data": {
            "text/plain": [
              "STATION              0\n",
              "Country/Region       0\n",
              "DATE                 0\n",
              "Year                 0\n",
              "Month                0\n",
              "Day                  0\n",
              "PRCP                 0\n",
              "SNWD              3609\n",
              "TAVG                 0\n",
              "TMAX                 0\n",
              "TMIN                 0\n",
              "dtype: int64"
            ]
          },
          "metadata": {},
          "execution_count": 348
        }
      ],
      "source": [
        "us_data.isnull().sum()"
      ]
    },
    {
      "cell_type": "code",
      "execution_count": 349,
      "metadata": {
        "colab": {
          "base_uri": "https://localhost:8080/"
        },
        "id": "t_wii0P9fKlW",
        "outputId": "8fcfa409-9d74-4696-f185-88fcb6f9713a"
      },
      "outputs": [
        {
          "output_type": "stream",
          "name": "stdout",
          "text": [
            "Starting month : 1\n",
            "Ending month : 7\n"
          ]
        }
      ],
      "source": [
        "print('Starting month :', us_data['Month'].min())\n",
        "print('Ending month :', us_data['Month'].max())"
      ]
    },
    {
      "cell_type": "code",
      "execution_count": 350,
      "metadata": {
        "colab": {
          "base_uri": "https://localhost:8080/",
          "height": 0
        },
        "id": "OxBdHgWOjXk3",
        "outputId": "4df6b7ef-b9c8-45c4-f0c2-d014f3c6febc"
      },
      "outputs": [
        {
          "output_type": "display_data",
          "data": {
            "text/html": [
              "<html>\n",
              "<head><meta charset=\"utf-8\" /></head>\n",
              "<body>\n",
              "    <div>            <script src=\"https://cdnjs.cloudflare.com/ajax/libs/mathjax/2.7.5/MathJax.js?config=TeX-AMS-MML_SVG\"></script><script type=\"text/javascript\">if (window.MathJax && window.MathJax.Hub && window.MathJax.Hub.Config) {window.MathJax.Hub.Config({SVG: {font: \"STIX-Web\"}});}</script>                <script type=\"text/javascript\">window.PlotlyConfig = {MathJaxConfig: 'local'};</script>\n",
              "        <script charset=\"utf-8\" src=\"https://cdn.plot.ly/plotly-2.24.1.min.js\"></script>                <div id=\"b6ad8429-94b2-4b5d-a281-ce0fcaeb947d\" class=\"plotly-graph-div\" style=\"height:525px; width:100%;\"></div>            <script type=\"text/javascript\">                                    window.PLOTLYENV=window.PLOTLYENV || {};                                    if (document.getElementById(\"b6ad8429-94b2-4b5d-a281-ce0fcaeb947d\")) {                    Plotly.newPlot(                        \"b6ad8429-94b2-4b5d-a281-ce0fcaeb947d\",                        [{\"alignmentgroup\":\"True\",\"bingroup\":\"x\",\"histfunc\":\"sum\",\"hovertemplate\":\"TAVG=19.815279999999998\\u003cbr\\u003eDATE=%{x}\\u003cbr\\u003esum of TAVG=%{y}\\u003cextra\\u003e\\u003c\\u002fextra\\u003e\",\"legendgroup\":\"19.815279999999998\",\"marker\":{\"color\":\"#636efa\",\"pattern\":{\"shape\":\"\"}},\"name\":\"19.815279999999998\",\"nbinsx\":7,\"offsetgroup\":\"19.815279999999998\",\"orientation\":\"v\",\"showlegend\":true,\"x\":[\"2020-01-31T00:00:00\"],\"xaxis\":\"x\",\"y\":[19.815279999999998],\"yaxis\":\"y\",\"type\":\"histogram\"},{\"alignmentgroup\":\"True\",\"bingroup\":\"x\",\"histfunc\":\"sum\",\"hovertemplate\":\"TAVG=21.764232365145226\\u003cbr\\u003eDATE=%{x}\\u003cbr\\u003esum of TAVG=%{y}\\u003cextra\\u003e\\u003c\\u002fextra\\u003e\",\"legendgroup\":\"21.764232365145226\",\"marker\":{\"color\":\"#EF553B\",\"pattern\":{\"shape\":\"\"}},\"name\":\"21.764232365145226\",\"nbinsx\":7,\"offsetgroup\":\"21.764232365145226\",\"orientation\":\"v\",\"showlegend\":true,\"x\":[\"2020-02-29T00:00:00\"],\"xaxis\":\"x\",\"y\":[21.764232365145226],\"yaxis\":\"y\",\"type\":\"histogram\"},{\"alignmentgroup\":\"True\",\"bingroup\":\"x\",\"histfunc\":\"sum\",\"hovertemplate\":\"TAVG=25.10523983315954\\u003cbr\\u003eDATE=%{x}\\u003cbr\\u003esum of TAVG=%{y}\\u003cextra\\u003e\\u003c\\u002fextra\\u003e\",\"legendgroup\":\"25.10523983315954\",\"marker\":{\"color\":\"#00cc96\",\"pattern\":{\"shape\":\"\"}},\"name\":\"25.10523983315954\",\"nbinsx\":7,\"offsetgroup\":\"25.10523983315954\",\"orientation\":\"v\",\"showlegend\":true,\"x\":[\"2020-03-31T00:00:00\"],\"xaxis\":\"x\",\"y\":[25.10523983315954],\"yaxis\":\"y\",\"type\":\"histogram\"},{\"alignmentgroup\":\"True\",\"bingroup\":\"x\",\"histfunc\":\"sum\",\"hovertemplate\":\"TAVG=28.701830663615564\\u003cbr\\u003eDATE=%{x}\\u003cbr\\u003esum of TAVG=%{y}\\u003cextra\\u003e\\u003c\\u002fextra\\u003e\",\"legendgroup\":\"28.701830663615564\",\"marker\":{\"color\":\"#ab63fa\",\"pattern\":{\"shape\":\"\"}},\"name\":\"28.701830663615564\",\"nbinsx\":7,\"offsetgroup\":\"28.701830663615564\",\"orientation\":\"v\",\"showlegend\":true,\"x\":[\"2020-04-30T00:00:00\"],\"xaxis\":\"x\",\"y\":[28.701830663615564],\"yaxis\":\"y\",\"type\":\"histogram\"},{\"alignmentgroup\":\"True\",\"bingroup\":\"x\",\"histfunc\":\"sum\",\"hovertemplate\":\"TAVG=30.780898282694846\\u003cbr\\u003eDATE=%{x}\\u003cbr\\u003esum of TAVG=%{y}\\u003cextra\\u003e\\u003c\\u002fextra\\u003e\",\"legendgroup\":\"30.780898282694846\",\"marker\":{\"color\":\"#FFA15A\",\"pattern\":{\"shape\":\"\"}},\"name\":\"30.780898282694846\",\"nbinsx\":7,\"offsetgroup\":\"30.780898282694846\",\"orientation\":\"v\",\"showlegend\":true,\"x\":[\"2020-05-31T00:00:00\"],\"xaxis\":\"x\",\"y\":[30.780898282694846],\"yaxis\":\"y\",\"type\":\"histogram\"},{\"alignmentgroup\":\"True\",\"bingroup\":\"x\",\"histfunc\":\"sum\",\"hovertemplate\":\"TAVG=29.262861779821478\\u003cbr\\u003eDATE=%{x}\\u003cbr\\u003esum of TAVG=%{y}\\u003cextra\\u003e\\u003c\\u002fextra\\u003e\",\"legendgroup\":\"29.262861779821478\",\"marker\":{\"color\":\"#19d3f3\",\"pattern\":{\"shape\":\"\"}},\"name\":\"29.262861779821478\",\"nbinsx\":7,\"offsetgroup\":\"29.262861779821478\",\"orientation\":\"v\",\"showlegend\":true,\"x\":[\"2020-06-30T00:00:00\"],\"xaxis\":\"x\",\"y\":[29.262861779821478],\"yaxis\":\"y\",\"type\":\"histogram\"},{\"alignmentgroup\":\"True\",\"bingroup\":\"x\",\"histfunc\":\"sum\",\"hovertemplate\":\"TAVG=28.501111778846152\\u003cbr\\u003eDATE=%{x}\\u003cbr\\u003esum of TAVG=%{y}\\u003cextra\\u003e\\u003c\\u002fextra\\u003e\",\"legendgroup\":\"28.501111778846152\",\"marker\":{\"color\":\"#FF6692\",\"pattern\":{\"shape\":\"\"}},\"name\":\"28.501111778846152\",\"nbinsx\":7,\"offsetgroup\":\"28.501111778846152\",\"orientation\":\"v\",\"showlegend\":true,\"x\":[\"2020-07-31T00:00:00\"],\"xaxis\":\"x\",\"y\":[28.501111778846152],\"yaxis\":\"y\",\"type\":\"histogram\"}],                        {\"template\":{\"data\":{\"histogram2dcontour\":[{\"type\":\"histogram2dcontour\",\"colorbar\":{\"outlinewidth\":0,\"ticks\":\"\"},\"colorscale\":[[0.0,\"#0d0887\"],[0.1111111111111111,\"#46039f\"],[0.2222222222222222,\"#7201a8\"],[0.3333333333333333,\"#9c179e\"],[0.4444444444444444,\"#bd3786\"],[0.5555555555555556,\"#d8576b\"],[0.6666666666666666,\"#ed7953\"],[0.7777777777777778,\"#fb9f3a\"],[0.8888888888888888,\"#fdca26\"],[1.0,\"#f0f921\"]]}],\"choropleth\":[{\"type\":\"choropleth\",\"colorbar\":{\"outlinewidth\":0,\"ticks\":\"\"}}],\"histogram2d\":[{\"type\":\"histogram2d\",\"colorbar\":{\"outlinewidth\":0,\"ticks\":\"\"},\"colorscale\":[[0.0,\"#0d0887\"],[0.1111111111111111,\"#46039f\"],[0.2222222222222222,\"#7201a8\"],[0.3333333333333333,\"#9c179e\"],[0.4444444444444444,\"#bd3786\"],[0.5555555555555556,\"#d8576b\"],[0.6666666666666666,\"#ed7953\"],[0.7777777777777778,\"#fb9f3a\"],[0.8888888888888888,\"#fdca26\"],[1.0,\"#f0f921\"]]}],\"heatmap\":[{\"type\":\"heatmap\",\"colorbar\":{\"outlinewidth\":0,\"ticks\":\"\"},\"colorscale\":[[0.0,\"#0d0887\"],[0.1111111111111111,\"#46039f\"],[0.2222222222222222,\"#7201a8\"],[0.3333333333333333,\"#9c179e\"],[0.4444444444444444,\"#bd3786\"],[0.5555555555555556,\"#d8576b\"],[0.6666666666666666,\"#ed7953\"],[0.7777777777777778,\"#fb9f3a\"],[0.8888888888888888,\"#fdca26\"],[1.0,\"#f0f921\"]]}],\"heatmapgl\":[{\"type\":\"heatmapgl\",\"colorbar\":{\"outlinewidth\":0,\"ticks\":\"\"},\"colorscale\":[[0.0,\"#0d0887\"],[0.1111111111111111,\"#46039f\"],[0.2222222222222222,\"#7201a8\"],[0.3333333333333333,\"#9c179e\"],[0.4444444444444444,\"#bd3786\"],[0.5555555555555556,\"#d8576b\"],[0.6666666666666666,\"#ed7953\"],[0.7777777777777778,\"#fb9f3a\"],[0.8888888888888888,\"#fdca26\"],[1.0,\"#f0f921\"]]}],\"contourcarpet\":[{\"type\":\"contourcarpet\",\"colorbar\":{\"outlinewidth\":0,\"ticks\":\"\"}}],\"contour\":[{\"type\":\"contour\",\"colorbar\":{\"outlinewidth\":0,\"ticks\":\"\"},\"colorscale\":[[0.0,\"#0d0887\"],[0.1111111111111111,\"#46039f\"],[0.2222222222222222,\"#7201a8\"],[0.3333333333333333,\"#9c179e\"],[0.4444444444444444,\"#bd3786\"],[0.5555555555555556,\"#d8576b\"],[0.6666666666666666,\"#ed7953\"],[0.7777777777777778,\"#fb9f3a\"],[0.8888888888888888,\"#fdca26\"],[1.0,\"#f0f921\"]]}],\"surface\":[{\"type\":\"surface\",\"colorbar\":{\"outlinewidth\":0,\"ticks\":\"\"},\"colorscale\":[[0.0,\"#0d0887\"],[0.1111111111111111,\"#46039f\"],[0.2222222222222222,\"#7201a8\"],[0.3333333333333333,\"#9c179e\"],[0.4444444444444444,\"#bd3786\"],[0.5555555555555556,\"#d8576b\"],[0.6666666666666666,\"#ed7953\"],[0.7777777777777778,\"#fb9f3a\"],[0.8888888888888888,\"#fdca26\"],[1.0,\"#f0f921\"]]}],\"mesh3d\":[{\"type\":\"mesh3d\",\"colorbar\":{\"outlinewidth\":0,\"ticks\":\"\"}}],\"scatter\":[{\"fillpattern\":{\"fillmode\":\"overlay\",\"size\":10,\"solidity\":0.2},\"type\":\"scatter\"}],\"parcoords\":[{\"type\":\"parcoords\",\"line\":{\"colorbar\":{\"outlinewidth\":0,\"ticks\":\"\"}}}],\"scatterpolargl\":[{\"type\":\"scatterpolargl\",\"marker\":{\"colorbar\":{\"outlinewidth\":0,\"ticks\":\"\"}}}],\"bar\":[{\"error_x\":{\"color\":\"#2a3f5f\"},\"error_y\":{\"color\":\"#2a3f5f\"},\"marker\":{\"line\":{\"color\":\"#E5ECF6\",\"width\":0.5},\"pattern\":{\"fillmode\":\"overlay\",\"size\":10,\"solidity\":0.2}},\"type\":\"bar\"}],\"scattergeo\":[{\"type\":\"scattergeo\",\"marker\":{\"colorbar\":{\"outlinewidth\":0,\"ticks\":\"\"}}}],\"scatterpolar\":[{\"type\":\"scatterpolar\",\"marker\":{\"colorbar\":{\"outlinewidth\":0,\"ticks\":\"\"}}}],\"histogram\":[{\"marker\":{\"pattern\":{\"fillmode\":\"overlay\",\"size\":10,\"solidity\":0.2}},\"type\":\"histogram\"}],\"scattergl\":[{\"type\":\"scattergl\",\"marker\":{\"colorbar\":{\"outlinewidth\":0,\"ticks\":\"\"}}}],\"scatter3d\":[{\"type\":\"scatter3d\",\"line\":{\"colorbar\":{\"outlinewidth\":0,\"ticks\":\"\"}},\"marker\":{\"colorbar\":{\"outlinewidth\":0,\"ticks\":\"\"}}}],\"scattermapbox\":[{\"type\":\"scattermapbox\",\"marker\":{\"colorbar\":{\"outlinewidth\":0,\"ticks\":\"\"}}}],\"scatterternary\":[{\"type\":\"scatterternary\",\"marker\":{\"colorbar\":{\"outlinewidth\":0,\"ticks\":\"\"}}}],\"scattercarpet\":[{\"type\":\"scattercarpet\",\"marker\":{\"colorbar\":{\"outlinewidth\":0,\"ticks\":\"\"}}}],\"carpet\":[{\"aaxis\":{\"endlinecolor\":\"#2a3f5f\",\"gridcolor\":\"white\",\"linecolor\":\"white\",\"minorgridcolor\":\"white\",\"startlinecolor\":\"#2a3f5f\"},\"baxis\":{\"endlinecolor\":\"#2a3f5f\",\"gridcolor\":\"white\",\"linecolor\":\"white\",\"minorgridcolor\":\"white\",\"startlinecolor\":\"#2a3f5f\"},\"type\":\"carpet\"}],\"table\":[{\"cells\":{\"fill\":{\"color\":\"#EBF0F8\"},\"line\":{\"color\":\"white\"}},\"header\":{\"fill\":{\"color\":\"#C8D4E3\"},\"line\":{\"color\":\"white\"}},\"type\":\"table\"}],\"barpolar\":[{\"marker\":{\"line\":{\"color\":\"#E5ECF6\",\"width\":0.5},\"pattern\":{\"fillmode\":\"overlay\",\"size\":10,\"solidity\":0.2}},\"type\":\"barpolar\"}],\"pie\":[{\"automargin\":true,\"type\":\"pie\"}]},\"layout\":{\"autotypenumbers\":\"strict\",\"colorway\":[\"#636efa\",\"#EF553B\",\"#00cc96\",\"#ab63fa\",\"#FFA15A\",\"#19d3f3\",\"#FF6692\",\"#B6E880\",\"#FF97FF\",\"#FECB52\"],\"font\":{\"color\":\"#2a3f5f\"},\"hovermode\":\"closest\",\"hoverlabel\":{\"align\":\"left\"},\"paper_bgcolor\":\"white\",\"plot_bgcolor\":\"#E5ECF6\",\"polar\":{\"bgcolor\":\"#E5ECF6\",\"angularaxis\":{\"gridcolor\":\"white\",\"linecolor\":\"white\",\"ticks\":\"\"},\"radialaxis\":{\"gridcolor\":\"white\",\"linecolor\":\"white\",\"ticks\":\"\"}},\"ternary\":{\"bgcolor\":\"#E5ECF6\",\"aaxis\":{\"gridcolor\":\"white\",\"linecolor\":\"white\",\"ticks\":\"\"},\"baxis\":{\"gridcolor\":\"white\",\"linecolor\":\"white\",\"ticks\":\"\"},\"caxis\":{\"gridcolor\":\"white\",\"linecolor\":\"white\",\"ticks\":\"\"}},\"coloraxis\":{\"colorbar\":{\"outlinewidth\":0,\"ticks\":\"\"}},\"colorscale\":{\"sequential\":[[0.0,\"#0d0887\"],[0.1111111111111111,\"#46039f\"],[0.2222222222222222,\"#7201a8\"],[0.3333333333333333,\"#9c179e\"],[0.4444444444444444,\"#bd3786\"],[0.5555555555555556,\"#d8576b\"],[0.6666666666666666,\"#ed7953\"],[0.7777777777777778,\"#fb9f3a\"],[0.8888888888888888,\"#fdca26\"],[1.0,\"#f0f921\"]],\"sequentialminus\":[[0.0,\"#0d0887\"],[0.1111111111111111,\"#46039f\"],[0.2222222222222222,\"#7201a8\"],[0.3333333333333333,\"#9c179e\"],[0.4444444444444444,\"#bd3786\"],[0.5555555555555556,\"#d8576b\"],[0.6666666666666666,\"#ed7953\"],[0.7777777777777778,\"#fb9f3a\"],[0.8888888888888888,\"#fdca26\"],[1.0,\"#f0f921\"]],\"diverging\":[[0,\"#8e0152\"],[0.1,\"#c51b7d\"],[0.2,\"#de77ae\"],[0.3,\"#f1b6da\"],[0.4,\"#fde0ef\"],[0.5,\"#f7f7f7\"],[0.6,\"#e6f5d0\"],[0.7,\"#b8e186\"],[0.8,\"#7fbc41\"],[0.9,\"#4d9221\"],[1,\"#276419\"]]},\"xaxis\":{\"gridcolor\":\"white\",\"linecolor\":\"white\",\"ticks\":\"\",\"title\":{\"standoff\":15},\"zerolinecolor\":\"white\",\"automargin\":true,\"zerolinewidth\":2},\"yaxis\":{\"gridcolor\":\"white\",\"linecolor\":\"white\",\"ticks\":\"\",\"title\":{\"standoff\":15},\"zerolinecolor\":\"white\",\"automargin\":true,\"zerolinewidth\":2},\"scene\":{\"xaxis\":{\"backgroundcolor\":\"#E5ECF6\",\"gridcolor\":\"white\",\"linecolor\":\"white\",\"showbackground\":true,\"ticks\":\"\",\"zerolinecolor\":\"white\",\"gridwidth\":2},\"yaxis\":{\"backgroundcolor\":\"#E5ECF6\",\"gridcolor\":\"white\",\"linecolor\":\"white\",\"showbackground\":true,\"ticks\":\"\",\"zerolinecolor\":\"white\",\"gridwidth\":2},\"zaxis\":{\"backgroundcolor\":\"#E5ECF6\",\"gridcolor\":\"white\",\"linecolor\":\"white\",\"showbackground\":true,\"ticks\":\"\",\"zerolinecolor\":\"white\",\"gridwidth\":2}},\"shapedefaults\":{\"line\":{\"color\":\"#2a3f5f\"}},\"annotationdefaults\":{\"arrowcolor\":\"#2a3f5f\",\"arrowhead\":0,\"arrowwidth\":1},\"geo\":{\"bgcolor\":\"white\",\"landcolor\":\"#E5ECF6\",\"subunitcolor\":\"white\",\"showland\":true,\"showlakes\":true,\"lakecolor\":\"white\"},\"title\":{\"x\":0.05},\"mapbox\":{\"style\":\"light\"}}},\"xaxis\":{\"anchor\":\"y\",\"domain\":[0.0,1.0],\"title\":{\"text\":\"DATE\"}},\"yaxis\":{\"anchor\":\"x\",\"domain\":[0.0,1.0],\"title\":{\"text\":\"sum of TAVG\"},\"categoryorder\":\"array\",\"categoryarray\":[28.501111778846152,29.262861779821478,30.780898282694846,28.701830663615564,25.10523983315954,21.764232365145226,19.815279999999998]},\"legend\":{\"title\":{\"text\":\"TAVG\"},\"tracegroupgap\":0},\"title\":{\"text\":\"The sum of TAVG Monthly of India\"},\"barmode\":\"relative\"},                        {\"responsive\": true}                    ).then(function(){\n",
              "                            \n",
              "var gd = document.getElementById('b6ad8429-94b2-4b5d-a281-ce0fcaeb947d');\n",
              "var x = new MutationObserver(function (mutations, observer) {{\n",
              "        var display = window.getComputedStyle(gd).display;\n",
              "        if (!display || display === 'none') {{\n",
              "            console.log([gd, 'removed!']);\n",
              "            Plotly.purge(gd);\n",
              "            observer.disconnect();\n",
              "        }}\n",
              "}});\n",
              "\n",
              "// Listen for the removal of the full notebook cells\n",
              "var notebookContainer = gd.closest('#notebook-container');\n",
              "if (notebookContainer) {{\n",
              "    x.observe(notebookContainer, {childList: true});\n",
              "}}\n",
              "\n",
              "// Listen for the clearing of the current output cell\n",
              "var outputEl = gd.closest('.output');\n",
              "if (outputEl) {{\n",
              "    x.observe(outputEl, {childList: true});\n",
              "}}\n",
              "\n",
              "                        })                };                            </script>        </div>\n",
              "</body>\n",
              "</html>"
            ]
          },
          "metadata": {}
        }
      ],
      "source": [
        "india_copy = india_data.copy()\n",
        "india_copy.set_index('DATE', inplace=True)\n",
        "india_seasonal = india_copy.resample('M').mean(numeric_only=True)[['TAVG', 'TMAX', 'TMIN']]\n",
        "india_seasonal_df = pd.DataFrame(india_seasonal)\n",
        "px.histogram(india_seasonal_df,\n",
        "             x=india_seasonal_df.index, y='TAVG',\n",
        "             color='TAVG',\n",
        "             nbins=7,\n",
        "             title='The sum of TAVG Monthly of India')"
      ]
    },
    {
      "cell_type": "markdown",
      "metadata": {
        "id": "f0udqiF3NZGZ"
      },
      "source": [
        "# Canada"
      ]
    },
    {
      "cell_type": "code",
      "execution_count": 351,
      "metadata": {
        "id": "m3VlzYA0Na6v"
      },
      "outputs": [],
      "source": [
        "canada_data = data[data['Country/Region'] == 'Canada']"
      ]
    },
    {
      "cell_type": "code",
      "execution_count": 352,
      "metadata": {
        "colab": {
          "base_uri": "https://localhost:8080/"
        },
        "id": "qSeehHWQNiPN",
        "outputId": "35d60eac-9866-4984-ef97-492ecb6dbb0f"
      },
      "outputs": [
        {
          "output_type": "execute_result",
          "data": {
            "text/plain": [
              "(254817, 11)"
            ]
          },
          "metadata": {},
          "execution_count": 352
        }
      ],
      "source": [
        "canada_data.shape"
      ]
    },
    {
      "cell_type": "code",
      "execution_count": 353,
      "metadata": {
        "colab": {
          "base_uri": "https://localhost:8080/"
        },
        "id": "bCMDpdANNlDe",
        "outputId": "35e8c34b-a6bf-4c6f-cc9b-81412fc5284d"
      },
      "outputs": [
        {
          "output_type": "execute_result",
          "data": {
            "text/plain": [
              "STATION                0\n",
              "Country/Region         0\n",
              "DATE                   0\n",
              "Year                   0\n",
              "Month                  0\n",
              "Day                    0\n",
              "PRCP               27215\n",
              "SNWD              160065\n",
              "TAVG              100701\n",
              "TMAX               91466\n",
              "TMIN               91542\n",
              "dtype: int64"
            ]
          },
          "metadata": {},
          "execution_count": 353
        }
      ],
      "source": [
        "canada_data.isnull().sum()"
      ]
    },
    {
      "cell_type": "code",
      "execution_count": 354,
      "metadata": {
        "id": "vPtP5BEuNuHh"
      },
      "outputs": [],
      "source": [
        "# calculating the percentage of missig values\n",
        "missing_percentage = (canada_data.isnull().sum() / len(canada_data)) * 100"
      ]
    },
    {
      "cell_type": "code",
      "execution_count": 355,
      "metadata": {
        "colab": {
          "base_uri": "https://localhost:8080/"
        },
        "id": "zbeI8U39NuHi",
        "outputId": "41c64b30-f7c0-4f06-9b08-4a8616028e2f"
      },
      "outputs": [
        {
          "output_type": "stream",
          "name": "stdout",
          "text": [
            "STATION            0.000000\n",
            "Country/Region     0.000000\n",
            "DATE               0.000000\n",
            "Year               0.000000\n",
            "Month              0.000000\n",
            "Day                0.000000\n",
            "PRCP              10.680214\n",
            "SNWD              62.815668\n",
            "TAVG              39.518949\n",
            "TMAX              35.894779\n",
            "TMIN              35.924605\n",
            "dtype: float64\n"
          ]
        }
      ],
      "source": [
        "print(missing_percentage)"
      ]
    },
    {
      "cell_type": "code",
      "execution_count": 356,
      "metadata": {
        "id": "7h7vyppZqms3"
      },
      "outputs": [],
      "source": [
        "# Drop rows with null values in both 'TMIN' and 'TMAX' columns\n",
        "canada_data = canada_data.dropna(subset=['TMIN', 'TMAX'])"
      ]
    },
    {
      "cell_type": "code",
      "execution_count": 357,
      "metadata": {
        "id": "B6uXP-onrjfN"
      },
      "outputs": [],
      "source": [
        "# Fill null values in 'TAVG' with the average of 'TMIN' and 'TMAX'\n",
        "canada_data['TAVG'].fillna((canada_data['TMIN'] + canada_data['TMAX']) / 2, inplace=True)"
      ]
    },
    {
      "cell_type": "code",
      "execution_count": 358,
      "metadata": {
        "id": "L9zZ-lGVYjvW"
      },
      "outputs": [],
      "source": [
        "# Drop rows where 'PRCP' is null\n",
        "canada_data = canada_data.dropna(subset=['PRCP'])"
      ]
    },
    {
      "cell_type": "code",
      "execution_count": 359,
      "metadata": {
        "colab": {
          "base_uri": "https://localhost:8080/"
        },
        "id": "ngVcQXZmrLyf",
        "outputId": "96657f5b-5bcc-447a-f264-2123e4a211d2"
      },
      "outputs": [
        {
          "output_type": "execute_result",
          "data": {
            "text/plain": [
              "STATION               0\n",
              "Country/Region        0\n",
              "DATE                  0\n",
              "Year                  0\n",
              "Month                 0\n",
              "Day                   0\n",
              "PRCP                  0\n",
              "SNWD              74418\n",
              "TAVG                  0\n",
              "TMAX                  0\n",
              "TMIN                  0\n",
              "dtype: int64"
            ]
          },
          "metadata": {},
          "execution_count": 359
        }
      ],
      "source": [
        "canada_data.isnull().sum()"
      ]
    },
    {
      "cell_type": "code",
      "execution_count": 360,
      "metadata": {
        "colab": {
          "base_uri": "https://localhost:8080/"
        },
        "id": "yOwCqodMfjOH",
        "outputId": "b8ee132f-f536-44ab-8270-28c7ae89d326"
      },
      "outputs": [
        {
          "output_type": "stream",
          "name": "stdout",
          "text": [
            "Starting month : 1\n",
            "Ending month : 7\n"
          ]
        }
      ],
      "source": [
        "print('Starting month :', canada_data['Month'].min())\n",
        "print('Ending month :', canada_data['Month'].max())"
      ]
    },
    {
      "cell_type": "code",
      "execution_count": 361,
      "metadata": {
        "colab": {
          "base_uri": "https://localhost:8080/",
          "height": 0
        },
        "id": "ZlPijY2-ekQu",
        "outputId": "9eba1354-9aac-49ea-dabb-4426cb788e0d"
      },
      "outputs": [
        {
          "output_type": "display_data",
          "data": {
            "text/html": [
              "<html>\n",
              "<head><meta charset=\"utf-8\" /></head>\n",
              "<body>\n",
              "    <div>            <script src=\"https://cdnjs.cloudflare.com/ajax/libs/mathjax/2.7.5/MathJax.js?config=TeX-AMS-MML_SVG\"></script><script type=\"text/javascript\">if (window.MathJax && window.MathJax.Hub && window.MathJax.Hub.Config) {window.MathJax.Hub.Config({SVG: {font: \"STIX-Web\"}});}</script>                <script type=\"text/javascript\">window.PlotlyConfig = {MathJaxConfig: 'local'};</script>\n",
              "        <script charset=\"utf-8\" src=\"https://cdn.plot.ly/plotly-2.24.1.min.js\"></script>                <div id=\"c42dbd2a-9801-484b-8d83-e8bf37e4510e\" class=\"plotly-graph-div\" style=\"height:525px; width:100%;\"></div>            <script type=\"text/javascript\">                                    window.PLOTLYENV=window.PLOTLYENV || {};                                    if (document.getElementById(\"c42dbd2a-9801-484b-8d83-e8bf37e4510e\")) {                    Plotly.newPlot(                        \"c42dbd2a-9801-484b-8d83-e8bf37e4510e\",                        [{\"alignmentgroup\":\"True\",\"bingroup\":\"x\",\"histfunc\":\"sum\",\"hovertemplate\":\"TAVG=-5.392146870508297\\u003cbr\\u003eDATE=%{x}\\u003cbr\\u003esum of TAVG=%{y}\\u003cextra\\u003e\\u003c\\u002fextra\\u003e\",\"legendgroup\":\"-5.392146870508297\",\"marker\":{\"color\":\"#636efa\",\"pattern\":{\"shape\":\"\"}},\"name\":\"-5.392146870508297\",\"nbinsx\":7,\"offsetgroup\":\"-5.392146870508297\",\"orientation\":\"v\",\"showlegend\":true,\"x\":[\"2020-01-31T00:00:00\"],\"xaxis\":\"x\",\"y\":[-5.392146870508297],\"yaxis\":\"y\",\"type\":\"histogram\"},{\"alignmentgroup\":\"True\",\"bingroup\":\"x\",\"histfunc\":\"sum\",\"hovertemplate\":\"TAVG=-8.453502494582473\\u003cbr\\u003eDATE=%{x}\\u003cbr\\u003esum of TAVG=%{y}\\u003cextra\\u003e\\u003c\\u002fextra\\u003e\",\"legendgroup\":\"-8.453502494582473\",\"marker\":{\"color\":\"#EF553B\",\"pattern\":{\"shape\":\"\"}},\"name\":\"-8.453502494582473\",\"nbinsx\":7,\"offsetgroup\":\"-8.453502494582473\",\"orientation\":\"v\",\"showlegend\":true,\"x\":[\"2020-02-29T00:00:00\"],\"xaxis\":\"x\",\"y\":[-8.453502494582473],\"yaxis\":\"y\",\"type\":\"histogram\"},{\"alignmentgroup\":\"True\",\"bingroup\":\"x\",\"histfunc\":\"sum\",\"hovertemplate\":\"TAVG=-4.903937399887441\\u003cbr\\u003eDATE=%{x}\\u003cbr\\u003esum of TAVG=%{y}\\u003cextra\\u003e\\u003c\\u002fextra\\u003e\",\"legendgroup\":\"-4.903937399887441\",\"marker\":{\"color\":\"#00cc96\",\"pattern\":{\"shape\":\"\"}},\"name\":\"-4.903937399887441\",\"nbinsx\":7,\"offsetgroup\":\"-4.903937399887441\",\"orientation\":\"v\",\"showlegend\":true,\"x\":[\"2020-03-31T00:00:00\"],\"xaxis\":\"x\",\"y\":[-4.903937399887441],\"yaxis\":\"y\",\"type\":\"histogram\"},{\"alignmentgroup\":\"True\",\"bingroup\":\"x\",\"histfunc\":\"sum\",\"hovertemplate\":\"TAVG=1.3718530536047648\\u003cbr\\u003eDATE=%{x}\\u003cbr\\u003esum of TAVG=%{y}\\u003cextra\\u003e\\u003c\\u002fextra\\u003e\",\"legendgroup\":\"1.3718530536047648\",\"marker\":{\"color\":\"#ab63fa\",\"pattern\":{\"shape\":\"\"}},\"name\":\"1.3718530536047648\",\"nbinsx\":7,\"offsetgroup\":\"1.3718530536047648\",\"orientation\":\"v\",\"showlegend\":true,\"x\":[\"2020-04-30T00:00:00\"],\"xaxis\":\"x\",\"y\":[1.3718530536047648],\"yaxis\":\"y\",\"type\":\"histogram\"},{\"alignmentgroup\":\"True\",\"bingroup\":\"x\",\"histfunc\":\"sum\",\"hovertemplate\":\"TAVG=9.398568827539485\\u003cbr\\u003eDATE=%{x}\\u003cbr\\u003esum of TAVG=%{y}\\u003cextra\\u003e\\u003c\\u002fextra\\u003e\",\"legendgroup\":\"9.398568827539485\",\"marker\":{\"color\":\"#FFA15A\",\"pattern\":{\"shape\":\"\"}},\"name\":\"9.398568827539485\",\"nbinsx\":7,\"offsetgroup\":\"9.398568827539485\",\"orientation\":\"v\",\"showlegend\":true,\"x\":[\"2020-05-31T00:00:00\"],\"xaxis\":\"x\",\"y\":[9.398568827539485],\"yaxis\":\"y\",\"type\":\"histogram\"},{\"alignmentgroup\":\"True\",\"bingroup\":\"x\",\"histfunc\":\"sum\",\"hovertemplate\":\"TAVG=14.831169553132352\\u003cbr\\u003eDATE=%{x}\\u003cbr\\u003esum of TAVG=%{y}\\u003cextra\\u003e\\u003c\\u002fextra\\u003e\",\"legendgroup\":\"14.831169553132352\",\"marker\":{\"color\":\"#19d3f3\",\"pattern\":{\"shape\":\"\"}},\"name\":\"14.831169553132352\",\"nbinsx\":7,\"offsetgroup\":\"14.831169553132352\",\"orientation\":\"v\",\"showlegend\":true,\"x\":[\"2020-06-30T00:00:00\"],\"xaxis\":\"x\",\"y\":[14.831169553132352],\"yaxis\":\"y\",\"type\":\"histogram\"},{\"alignmentgroup\":\"True\",\"bingroup\":\"x\",\"histfunc\":\"sum\",\"hovertemplate\":\"TAVG=18.028935629316962\\u003cbr\\u003eDATE=%{x}\\u003cbr\\u003esum of TAVG=%{y}\\u003cextra\\u003e\\u003c\\u002fextra\\u003e\",\"legendgroup\":\"18.028935629316962\",\"marker\":{\"color\":\"#FF6692\",\"pattern\":{\"shape\":\"\"}},\"name\":\"18.028935629316962\",\"nbinsx\":7,\"offsetgroup\":\"18.028935629316962\",\"orientation\":\"v\",\"showlegend\":true,\"x\":[\"2020-07-31T00:00:00\"],\"xaxis\":\"x\",\"y\":[18.028935629316962],\"yaxis\":\"y\",\"type\":\"histogram\"}],                        {\"template\":{\"data\":{\"histogram2dcontour\":[{\"type\":\"histogram2dcontour\",\"colorbar\":{\"outlinewidth\":0,\"ticks\":\"\"},\"colorscale\":[[0.0,\"#0d0887\"],[0.1111111111111111,\"#46039f\"],[0.2222222222222222,\"#7201a8\"],[0.3333333333333333,\"#9c179e\"],[0.4444444444444444,\"#bd3786\"],[0.5555555555555556,\"#d8576b\"],[0.6666666666666666,\"#ed7953\"],[0.7777777777777778,\"#fb9f3a\"],[0.8888888888888888,\"#fdca26\"],[1.0,\"#f0f921\"]]}],\"choropleth\":[{\"type\":\"choropleth\",\"colorbar\":{\"outlinewidth\":0,\"ticks\":\"\"}}],\"histogram2d\":[{\"type\":\"histogram2d\",\"colorbar\":{\"outlinewidth\":0,\"ticks\":\"\"},\"colorscale\":[[0.0,\"#0d0887\"],[0.1111111111111111,\"#46039f\"],[0.2222222222222222,\"#7201a8\"],[0.3333333333333333,\"#9c179e\"],[0.4444444444444444,\"#bd3786\"],[0.5555555555555556,\"#d8576b\"],[0.6666666666666666,\"#ed7953\"],[0.7777777777777778,\"#fb9f3a\"],[0.8888888888888888,\"#fdca26\"],[1.0,\"#f0f921\"]]}],\"heatmap\":[{\"type\":\"heatmap\",\"colorbar\":{\"outlinewidth\":0,\"ticks\":\"\"},\"colorscale\":[[0.0,\"#0d0887\"],[0.1111111111111111,\"#46039f\"],[0.2222222222222222,\"#7201a8\"],[0.3333333333333333,\"#9c179e\"],[0.4444444444444444,\"#bd3786\"],[0.5555555555555556,\"#d8576b\"],[0.6666666666666666,\"#ed7953\"],[0.7777777777777778,\"#fb9f3a\"],[0.8888888888888888,\"#fdca26\"],[1.0,\"#f0f921\"]]}],\"heatmapgl\":[{\"type\":\"heatmapgl\",\"colorbar\":{\"outlinewidth\":0,\"ticks\":\"\"},\"colorscale\":[[0.0,\"#0d0887\"],[0.1111111111111111,\"#46039f\"],[0.2222222222222222,\"#7201a8\"],[0.3333333333333333,\"#9c179e\"],[0.4444444444444444,\"#bd3786\"],[0.5555555555555556,\"#d8576b\"],[0.6666666666666666,\"#ed7953\"],[0.7777777777777778,\"#fb9f3a\"],[0.8888888888888888,\"#fdca26\"],[1.0,\"#f0f921\"]]}],\"contourcarpet\":[{\"type\":\"contourcarpet\",\"colorbar\":{\"outlinewidth\":0,\"ticks\":\"\"}}],\"contour\":[{\"type\":\"contour\",\"colorbar\":{\"outlinewidth\":0,\"ticks\":\"\"},\"colorscale\":[[0.0,\"#0d0887\"],[0.1111111111111111,\"#46039f\"],[0.2222222222222222,\"#7201a8\"],[0.3333333333333333,\"#9c179e\"],[0.4444444444444444,\"#bd3786\"],[0.5555555555555556,\"#d8576b\"],[0.6666666666666666,\"#ed7953\"],[0.7777777777777778,\"#fb9f3a\"],[0.8888888888888888,\"#fdca26\"],[1.0,\"#f0f921\"]]}],\"surface\":[{\"type\":\"surface\",\"colorbar\":{\"outlinewidth\":0,\"ticks\":\"\"},\"colorscale\":[[0.0,\"#0d0887\"],[0.1111111111111111,\"#46039f\"],[0.2222222222222222,\"#7201a8\"],[0.3333333333333333,\"#9c179e\"],[0.4444444444444444,\"#bd3786\"],[0.5555555555555556,\"#d8576b\"],[0.6666666666666666,\"#ed7953\"],[0.7777777777777778,\"#fb9f3a\"],[0.8888888888888888,\"#fdca26\"],[1.0,\"#f0f921\"]]}],\"mesh3d\":[{\"type\":\"mesh3d\",\"colorbar\":{\"outlinewidth\":0,\"ticks\":\"\"}}],\"scatter\":[{\"fillpattern\":{\"fillmode\":\"overlay\",\"size\":10,\"solidity\":0.2},\"type\":\"scatter\"}],\"parcoords\":[{\"type\":\"parcoords\",\"line\":{\"colorbar\":{\"outlinewidth\":0,\"ticks\":\"\"}}}],\"scatterpolargl\":[{\"type\":\"scatterpolargl\",\"marker\":{\"colorbar\":{\"outlinewidth\":0,\"ticks\":\"\"}}}],\"bar\":[{\"error_x\":{\"color\":\"#2a3f5f\"},\"error_y\":{\"color\":\"#2a3f5f\"},\"marker\":{\"line\":{\"color\":\"#E5ECF6\",\"width\":0.5},\"pattern\":{\"fillmode\":\"overlay\",\"size\":10,\"solidity\":0.2}},\"type\":\"bar\"}],\"scattergeo\":[{\"type\":\"scattergeo\",\"marker\":{\"colorbar\":{\"outlinewidth\":0,\"ticks\":\"\"}}}],\"scatterpolar\":[{\"type\":\"scatterpolar\",\"marker\":{\"colorbar\":{\"outlinewidth\":0,\"ticks\":\"\"}}}],\"histogram\":[{\"marker\":{\"pattern\":{\"fillmode\":\"overlay\",\"size\":10,\"solidity\":0.2}},\"type\":\"histogram\"}],\"scattergl\":[{\"type\":\"scattergl\",\"marker\":{\"colorbar\":{\"outlinewidth\":0,\"ticks\":\"\"}}}],\"scatter3d\":[{\"type\":\"scatter3d\",\"line\":{\"colorbar\":{\"outlinewidth\":0,\"ticks\":\"\"}},\"marker\":{\"colorbar\":{\"outlinewidth\":0,\"ticks\":\"\"}}}],\"scattermapbox\":[{\"type\":\"scattermapbox\",\"marker\":{\"colorbar\":{\"outlinewidth\":0,\"ticks\":\"\"}}}],\"scatterternary\":[{\"type\":\"scatterternary\",\"marker\":{\"colorbar\":{\"outlinewidth\":0,\"ticks\":\"\"}}}],\"scattercarpet\":[{\"type\":\"scattercarpet\",\"marker\":{\"colorbar\":{\"outlinewidth\":0,\"ticks\":\"\"}}}],\"carpet\":[{\"aaxis\":{\"endlinecolor\":\"#2a3f5f\",\"gridcolor\":\"white\",\"linecolor\":\"white\",\"minorgridcolor\":\"white\",\"startlinecolor\":\"#2a3f5f\"},\"baxis\":{\"endlinecolor\":\"#2a3f5f\",\"gridcolor\":\"white\",\"linecolor\":\"white\",\"minorgridcolor\":\"white\",\"startlinecolor\":\"#2a3f5f\"},\"type\":\"carpet\"}],\"table\":[{\"cells\":{\"fill\":{\"color\":\"#EBF0F8\"},\"line\":{\"color\":\"white\"}},\"header\":{\"fill\":{\"color\":\"#C8D4E3\"},\"line\":{\"color\":\"white\"}},\"type\":\"table\"}],\"barpolar\":[{\"marker\":{\"line\":{\"color\":\"#E5ECF6\",\"width\":0.5},\"pattern\":{\"fillmode\":\"overlay\",\"size\":10,\"solidity\":0.2}},\"type\":\"barpolar\"}],\"pie\":[{\"automargin\":true,\"type\":\"pie\"}]},\"layout\":{\"autotypenumbers\":\"strict\",\"colorway\":[\"#636efa\",\"#EF553B\",\"#00cc96\",\"#ab63fa\",\"#FFA15A\",\"#19d3f3\",\"#FF6692\",\"#B6E880\",\"#FF97FF\",\"#FECB52\"],\"font\":{\"color\":\"#2a3f5f\"},\"hovermode\":\"closest\",\"hoverlabel\":{\"align\":\"left\"},\"paper_bgcolor\":\"white\",\"plot_bgcolor\":\"#E5ECF6\",\"polar\":{\"bgcolor\":\"#E5ECF6\",\"angularaxis\":{\"gridcolor\":\"white\",\"linecolor\":\"white\",\"ticks\":\"\"},\"radialaxis\":{\"gridcolor\":\"white\",\"linecolor\":\"white\",\"ticks\":\"\"}},\"ternary\":{\"bgcolor\":\"#E5ECF6\",\"aaxis\":{\"gridcolor\":\"white\",\"linecolor\":\"white\",\"ticks\":\"\"},\"baxis\":{\"gridcolor\":\"white\",\"linecolor\":\"white\",\"ticks\":\"\"},\"caxis\":{\"gridcolor\":\"white\",\"linecolor\":\"white\",\"ticks\":\"\"}},\"coloraxis\":{\"colorbar\":{\"outlinewidth\":0,\"ticks\":\"\"}},\"colorscale\":{\"sequential\":[[0.0,\"#0d0887\"],[0.1111111111111111,\"#46039f\"],[0.2222222222222222,\"#7201a8\"],[0.3333333333333333,\"#9c179e\"],[0.4444444444444444,\"#bd3786\"],[0.5555555555555556,\"#d8576b\"],[0.6666666666666666,\"#ed7953\"],[0.7777777777777778,\"#fb9f3a\"],[0.8888888888888888,\"#fdca26\"],[1.0,\"#f0f921\"]],\"sequentialminus\":[[0.0,\"#0d0887\"],[0.1111111111111111,\"#46039f\"],[0.2222222222222222,\"#7201a8\"],[0.3333333333333333,\"#9c179e\"],[0.4444444444444444,\"#bd3786\"],[0.5555555555555556,\"#d8576b\"],[0.6666666666666666,\"#ed7953\"],[0.7777777777777778,\"#fb9f3a\"],[0.8888888888888888,\"#fdca26\"],[1.0,\"#f0f921\"]],\"diverging\":[[0,\"#8e0152\"],[0.1,\"#c51b7d\"],[0.2,\"#de77ae\"],[0.3,\"#f1b6da\"],[0.4,\"#fde0ef\"],[0.5,\"#f7f7f7\"],[0.6,\"#e6f5d0\"],[0.7,\"#b8e186\"],[0.8,\"#7fbc41\"],[0.9,\"#4d9221\"],[1,\"#276419\"]]},\"xaxis\":{\"gridcolor\":\"white\",\"linecolor\":\"white\",\"ticks\":\"\",\"title\":{\"standoff\":15},\"zerolinecolor\":\"white\",\"automargin\":true,\"zerolinewidth\":2},\"yaxis\":{\"gridcolor\":\"white\",\"linecolor\":\"white\",\"ticks\":\"\",\"title\":{\"standoff\":15},\"zerolinecolor\":\"white\",\"automargin\":true,\"zerolinewidth\":2},\"scene\":{\"xaxis\":{\"backgroundcolor\":\"#E5ECF6\",\"gridcolor\":\"white\",\"linecolor\":\"white\",\"showbackground\":true,\"ticks\":\"\",\"zerolinecolor\":\"white\",\"gridwidth\":2},\"yaxis\":{\"backgroundcolor\":\"#E5ECF6\",\"gridcolor\":\"white\",\"linecolor\":\"white\",\"showbackground\":true,\"ticks\":\"\",\"zerolinecolor\":\"white\",\"gridwidth\":2},\"zaxis\":{\"backgroundcolor\":\"#E5ECF6\",\"gridcolor\":\"white\",\"linecolor\":\"white\",\"showbackground\":true,\"ticks\":\"\",\"zerolinecolor\":\"white\",\"gridwidth\":2}},\"shapedefaults\":{\"line\":{\"color\":\"#2a3f5f\"}},\"annotationdefaults\":{\"arrowcolor\":\"#2a3f5f\",\"arrowhead\":0,\"arrowwidth\":1},\"geo\":{\"bgcolor\":\"white\",\"landcolor\":\"#E5ECF6\",\"subunitcolor\":\"white\",\"showland\":true,\"showlakes\":true,\"lakecolor\":\"white\"},\"title\":{\"x\":0.05},\"mapbox\":{\"style\":\"light\"}}},\"xaxis\":{\"anchor\":\"y\",\"domain\":[0.0,1.0],\"title\":{\"text\":\"DATE\"}},\"yaxis\":{\"anchor\":\"x\",\"domain\":[0.0,1.0],\"title\":{\"text\":\"sum of TAVG\"},\"categoryorder\":\"array\",\"categoryarray\":[18.028935629316962,14.831169553132352,9.398568827539485,1.3718530536047648,-4.903937399887441,-8.453502494582473,-5.392146870508297]},\"legend\":{\"title\":{\"text\":\"TAVG\"},\"tracegroupgap\":0},\"title\":{\"text\":\"The sum of TAVG Monthly of Canada\"},\"barmode\":\"relative\"},                        {\"responsive\": true}                    ).then(function(){\n",
              "                            \n",
              "var gd = document.getElementById('c42dbd2a-9801-484b-8d83-e8bf37e4510e');\n",
              "var x = new MutationObserver(function (mutations, observer) {{\n",
              "        var display = window.getComputedStyle(gd).display;\n",
              "        if (!display || display === 'none') {{\n",
              "            console.log([gd, 'removed!']);\n",
              "            Plotly.purge(gd);\n",
              "            observer.disconnect();\n",
              "        }}\n",
              "}});\n",
              "\n",
              "// Listen for the removal of the full notebook cells\n",
              "var notebookContainer = gd.closest('#notebook-container');\n",
              "if (notebookContainer) {{\n",
              "    x.observe(notebookContainer, {childList: true});\n",
              "}}\n",
              "\n",
              "// Listen for the clearing of the current output cell\n",
              "var outputEl = gd.closest('.output');\n",
              "if (outputEl) {{\n",
              "    x.observe(outputEl, {childList: true});\n",
              "}}\n",
              "\n",
              "                        })                };                            </script>        </div>\n",
              "</body>\n",
              "</html>"
            ]
          },
          "metadata": {}
        }
      ],
      "source": [
        "canada_copy = canada_data.copy()\n",
        "canada_copy.set_index('DATE', inplace=True)\n",
        "canada_seasonal = canada_copy.resample('M').mean(numeric_only=True)[['TAVG', 'TMAX', 'TMIN']]\n",
        "canada_seasonal_df = pd.DataFrame(canada_seasonal)\n",
        "px.histogram(canada_seasonal_df,\n",
        "             x=canada_seasonal_df.index, y='TAVG',\n",
        "             color='TAVG',\n",
        "             nbins=7,\n",
        "             title='The sum of TAVG Monthly of Canada')"
      ]
    },
    {
      "cell_type": "markdown",
      "metadata": {
        "id": "gSUcdX8PON0u"
      },
      "source": [
        "# Sweden"
      ]
    },
    {
      "cell_type": "code",
      "execution_count": 362,
      "metadata": {
        "id": "4gdsYeD9OQHA"
      },
      "outputs": [],
      "source": [
        "sweden_data = data[data['Country/Region'] == 'Sweden']"
      ]
    },
    {
      "cell_type": "code",
      "execution_count": 363,
      "metadata": {
        "colab": {
          "base_uri": "https://localhost:8080/"
        },
        "id": "cNarM198OQHC",
        "outputId": "8cd68e26-7435-4797-d94d-b4d5a933eca1"
      },
      "outputs": [
        {
          "output_type": "execute_result",
          "data": {
            "text/plain": [
              "(111499, 11)"
            ]
          },
          "metadata": {},
          "execution_count": 363
        }
      ],
      "source": [
        "sweden_data.shape"
      ]
    },
    {
      "cell_type": "code",
      "execution_count": 364,
      "metadata": {
        "colab": {
          "base_uri": "https://localhost:8080/"
        },
        "id": "fDUv-eBMOQHD",
        "outputId": "ba495e81-e238-4fdd-8940-43af26cfb688"
      },
      "outputs": [
        {
          "output_type": "execute_result",
          "data": {
            "text/plain": [
              "STATION                0\n",
              "Country/Region         0\n",
              "DATE                   0\n",
              "Year                   0\n",
              "Month                  0\n",
              "Day                    0\n",
              "PRCP                5429\n",
              "SNWD               44715\n",
              "TAVG              109809\n",
              "TMAX               71009\n",
              "TMIN               71094\n",
              "dtype: int64"
            ]
          },
          "metadata": {},
          "execution_count": 364
        }
      ],
      "source": [
        "sweden_data.isnull().sum()"
      ]
    },
    {
      "cell_type": "code",
      "execution_count": 365,
      "metadata": {
        "id": "79FNGpemOQHE"
      },
      "outputs": [],
      "source": [
        "# calculating the percentage of missig values\n",
        "missing_percentage = (sweden_data.isnull().sum() / len(sweden_data)) * 100"
      ]
    },
    {
      "cell_type": "code",
      "execution_count": 366,
      "metadata": {
        "colab": {
          "base_uri": "https://localhost:8080/"
        },
        "id": "Z8gYvsYrOQHF",
        "outputId": "e3cf334d-3e01-499c-9390-ef68eedfdf1d"
      },
      "outputs": [
        {
          "output_type": "stream",
          "name": "stdout",
          "text": [
            "STATION            0.000000\n",
            "Country/Region     0.000000\n",
            "DATE               0.000000\n",
            "Year               0.000000\n",
            "Month              0.000000\n",
            "Day                0.000000\n",
            "PRCP               4.869102\n",
            "SNWD              40.103499\n",
            "TAVG              98.484291\n",
            "TMAX              63.685773\n",
            "TMIN              63.762007\n",
            "dtype: float64\n"
          ]
        }
      ],
      "source": [
        "print(missing_percentage)"
      ]
    },
    {
      "cell_type": "code",
      "execution_count": 367,
      "metadata": {
        "id": "Nbx9jnv3smeq"
      },
      "outputs": [],
      "source": [
        "# Drop rows with null values in both 'TMIN' and 'TMAX' columns\n",
        "sweden_data = sweden_data.dropna(subset=['TMIN', 'TMAX'])"
      ]
    },
    {
      "cell_type": "code",
      "execution_count": 368,
      "metadata": {
        "id": "uezu9U4qsmes"
      },
      "outputs": [],
      "source": [
        "# Fill null values in 'TAVG' with the average of 'TMIN' and 'TMAX'\n",
        "sweden_data['TAVG'].fillna((sweden_data['TMIN'] + sweden_data['TMAX']) / 2, inplace=True)"
      ]
    },
    {
      "cell_type": "code",
      "execution_count": 369,
      "metadata": {
        "id": "7VyqHjRZYV2N"
      },
      "outputs": [],
      "source": [
        "# Drop rows where 'PRCP' is null\n",
        "sweden_data = sweden_data.dropna(subset=['PRCP'])"
      ]
    },
    {
      "cell_type": "code",
      "execution_count": 370,
      "metadata": {
        "colab": {
          "base_uri": "https://localhost:8080/"
        },
        "id": "Hi6P1-onsmet",
        "outputId": "26c538b5-02cd-4e5f-ab41-37f545081753"
      },
      "outputs": [
        {
          "output_type": "execute_result",
          "data": {
            "text/plain": [
              "STATION               0\n",
              "Country/Region        0\n",
              "DATE                  0\n",
              "Year                  0\n",
              "Month                 0\n",
              "Day                   0\n",
              "PRCP                  0\n",
              "SNWD              22720\n",
              "TAVG                  0\n",
              "TMAX                  0\n",
              "TMIN                  0\n",
              "dtype: int64"
            ]
          },
          "metadata": {},
          "execution_count": 370
        }
      ],
      "source": [
        "sweden_data.isnull().sum()"
      ]
    },
    {
      "cell_type": "code",
      "execution_count": 371,
      "metadata": {
        "colab": {
          "base_uri": "https://localhost:8080/"
        },
        "id": "YNwhPL4wfqgy",
        "outputId": "7ba4cf31-94c1-4a2d-ff75-9526ba3db8bc"
      },
      "outputs": [
        {
          "output_type": "stream",
          "name": "stdout",
          "text": [
            "Starting month : 1\n",
            "Ending month : 7\n"
          ]
        }
      ],
      "source": [
        "print('Starting month :', sweden_data['Month'].min())\n",
        "print('Ending month :', sweden_data['Month'].max())"
      ]
    },
    {
      "cell_type": "code",
      "execution_count": 372,
      "metadata": {
        "colab": {
          "base_uri": "https://localhost:8080/",
          "height": 0
        },
        "id": "G6UU32VCfOon",
        "outputId": "66b7b7ae-74f2-4681-8039-9baecdf72d8c"
      },
      "outputs": [
        {
          "output_type": "display_data",
          "data": {
            "text/html": [
              "<html>\n",
              "<head><meta charset=\"utf-8\" /></head>\n",
              "<body>\n",
              "    <div>            <script src=\"https://cdnjs.cloudflare.com/ajax/libs/mathjax/2.7.5/MathJax.js?config=TeX-AMS-MML_SVG\"></script><script type=\"text/javascript\">if (window.MathJax && window.MathJax.Hub && window.MathJax.Hub.Config) {window.MathJax.Hub.Config({SVG: {font: \"STIX-Web\"}});}</script>                <script type=\"text/javascript\">window.PlotlyConfig = {MathJaxConfig: 'local'};</script>\n",
              "        <script charset=\"utf-8\" src=\"https://cdn.plot.ly/plotly-2.24.1.min.js\"></script>                <div id=\"cf7c7f78-9942-4d2c-b0d7-73f2fdc5b62d\" class=\"plotly-graph-div\" style=\"height:525px; width:100%;\"></div>            <script type=\"text/javascript\">                                    window.PLOTLYENV=window.PLOTLYENV || {};                                    if (document.getElementById(\"cf7c7f78-9942-4d2c-b0d7-73f2fdc5b62d\")) {                    Plotly.newPlot(                        \"cf7c7f78-9942-4d2c-b0d7-73f2fdc5b62d\",                        [{\"alignmentgroup\":\"True\",\"bingroup\":\"x\",\"histfunc\":\"sum\",\"hovertemplate\":\"TAVG=-0.9107142857142857\\u003cbr\\u003eDATE=%{x}\\u003cbr\\u003esum of TAVG=%{y}\\u003cextra\\u003e\\u003c\\u002fextra\\u003e\",\"legendgroup\":\"-0.9107142857142857\",\"marker\":{\"color\":\"#636efa\",\"pattern\":{\"shape\":\"\"}},\"name\":\"-0.9107142857142857\",\"nbinsx\":7,\"offsetgroup\":\"-0.9107142857142857\",\"orientation\":\"v\",\"showlegend\":true,\"x\":[\"2020-01-31T00:00:00\"],\"xaxis\":\"x\",\"y\":[-0.9107142857142857],\"yaxis\":\"y\",\"type\":\"histogram\"},{\"alignmentgroup\":\"True\",\"bingroup\":\"x\",\"histfunc\":\"sum\",\"hovertemplate\":\"TAVG=-1.6282946444891244\\u003cbr\\u003eDATE=%{x}\\u003cbr\\u003esum of TAVG=%{y}\\u003cextra\\u003e\\u003c\\u002fextra\\u003e\",\"legendgroup\":\"-1.6282946444891244\",\"marker\":{\"color\":\"#EF553B\",\"pattern\":{\"shape\":\"\"}},\"name\":\"-1.6282946444891244\",\"nbinsx\":7,\"offsetgroup\":\"-1.6282946444891244\",\"orientation\":\"v\",\"showlegend\":true,\"x\":[\"2020-02-29T00:00:00\"],\"xaxis\":\"x\",\"y\":[-1.6282946444891244],\"yaxis\":\"y\",\"type\":\"histogram\"},{\"alignmentgroup\":\"True\",\"bingroup\":\"x\",\"histfunc\":\"sum\",\"hovertemplate\":\"TAVG=0.07231270358306188\\u003cbr\\u003eDATE=%{x}\\u003cbr\\u003esum of TAVG=%{y}\\u003cextra\\u003e\\u003c\\u002fextra\\u003e\",\"legendgroup\":\"0.07231270358306188\",\"marker\":{\"color\":\"#00cc96\",\"pattern\":{\"shape\":\"\"}},\"name\":\"0.07231270358306188\",\"nbinsx\":7,\"offsetgroup\":\"0.07231270358306188\",\"orientation\":\"v\",\"showlegend\":true,\"x\":[\"2020-03-31T00:00:00\"],\"xaxis\":\"x\",\"y\":[0.07231270358306188],\"yaxis\":\"y\",\"type\":\"histogram\"},{\"alignmentgroup\":\"True\",\"bingroup\":\"x\",\"histfunc\":\"sum\",\"hovertemplate\":\"TAVG=3.8779971413257104\\u003cbr\\u003eDATE=%{x}\\u003cbr\\u003esum of TAVG=%{y}\\u003cextra\\u003e\\u003c\\u002fextra\\u003e\",\"legendgroup\":\"3.8779971413257104\",\"marker\":{\"color\":\"#ab63fa\",\"pattern\":{\"shape\":\"\"}},\"name\":\"3.8779971413257104\",\"nbinsx\":7,\"offsetgroup\":\"3.8779971413257104\",\"orientation\":\"v\",\"showlegend\":true,\"x\":[\"2020-04-30T00:00:00\"],\"xaxis\":\"x\",\"y\":[3.8779971413257104],\"yaxis\":\"y\",\"type\":\"histogram\"},{\"alignmentgroup\":\"True\",\"bingroup\":\"x\",\"histfunc\":\"sum\",\"hovertemplate\":\"TAVG=6.996139391868808\\u003cbr\\u003eDATE=%{x}\\u003cbr\\u003esum of TAVG=%{y}\\u003cextra\\u003e\\u003c\\u002fextra\\u003e\",\"legendgroup\":\"6.996139391868808\",\"marker\":{\"color\":\"#FFA15A\",\"pattern\":{\"shape\":\"\"}},\"name\":\"6.996139391868808\",\"nbinsx\":7,\"offsetgroup\":\"6.996139391868808\",\"orientation\":\"v\",\"showlegend\":true,\"x\":[\"2020-05-31T00:00:00\"],\"xaxis\":\"x\",\"y\":[6.996139391868808],\"yaxis\":\"y\",\"type\":\"histogram\"},{\"alignmentgroup\":\"True\",\"bingroup\":\"x\",\"histfunc\":\"sum\",\"hovertemplate\":\"TAVG=16.05020968023764\\u003cbr\\u003eDATE=%{x}\\u003cbr\\u003esum of TAVG=%{y}\\u003cextra\\u003e\\u003c\\u002fextra\\u003e\",\"legendgroup\":\"16.05020968023764\",\"marker\":{\"color\":\"#19d3f3\",\"pattern\":{\"shape\":\"\"}},\"name\":\"16.05020968023764\",\"nbinsx\":7,\"offsetgroup\":\"16.05020968023764\",\"orientation\":\"v\",\"showlegend\":true,\"x\":[\"2020-06-30T00:00:00\"],\"xaxis\":\"x\",\"y\":[16.05020968023764],\"yaxis\":\"y\",\"type\":\"histogram\"},{\"alignmentgroup\":\"True\",\"bingroup\":\"x\",\"histfunc\":\"sum\",\"hovertemplate\":\"TAVG=13.774537401574802\\u003cbr\\u003eDATE=%{x}\\u003cbr\\u003esum of TAVG=%{y}\\u003cextra\\u003e\\u003c\\u002fextra\\u003e\",\"legendgroup\":\"13.774537401574802\",\"marker\":{\"color\":\"#FF6692\",\"pattern\":{\"shape\":\"\"}},\"name\":\"13.774537401574802\",\"nbinsx\":7,\"offsetgroup\":\"13.774537401574802\",\"orientation\":\"v\",\"showlegend\":true,\"x\":[\"2020-07-31T00:00:00\"],\"xaxis\":\"x\",\"y\":[13.774537401574802],\"yaxis\":\"y\",\"type\":\"histogram\"}],                        {\"template\":{\"data\":{\"histogram2dcontour\":[{\"type\":\"histogram2dcontour\",\"colorbar\":{\"outlinewidth\":0,\"ticks\":\"\"},\"colorscale\":[[0.0,\"#0d0887\"],[0.1111111111111111,\"#46039f\"],[0.2222222222222222,\"#7201a8\"],[0.3333333333333333,\"#9c179e\"],[0.4444444444444444,\"#bd3786\"],[0.5555555555555556,\"#d8576b\"],[0.6666666666666666,\"#ed7953\"],[0.7777777777777778,\"#fb9f3a\"],[0.8888888888888888,\"#fdca26\"],[1.0,\"#f0f921\"]]}],\"choropleth\":[{\"type\":\"choropleth\",\"colorbar\":{\"outlinewidth\":0,\"ticks\":\"\"}}],\"histogram2d\":[{\"type\":\"histogram2d\",\"colorbar\":{\"outlinewidth\":0,\"ticks\":\"\"},\"colorscale\":[[0.0,\"#0d0887\"],[0.1111111111111111,\"#46039f\"],[0.2222222222222222,\"#7201a8\"],[0.3333333333333333,\"#9c179e\"],[0.4444444444444444,\"#bd3786\"],[0.5555555555555556,\"#d8576b\"],[0.6666666666666666,\"#ed7953\"],[0.7777777777777778,\"#fb9f3a\"],[0.8888888888888888,\"#fdca26\"],[1.0,\"#f0f921\"]]}],\"heatmap\":[{\"type\":\"heatmap\",\"colorbar\":{\"outlinewidth\":0,\"ticks\":\"\"},\"colorscale\":[[0.0,\"#0d0887\"],[0.1111111111111111,\"#46039f\"],[0.2222222222222222,\"#7201a8\"],[0.3333333333333333,\"#9c179e\"],[0.4444444444444444,\"#bd3786\"],[0.5555555555555556,\"#d8576b\"],[0.6666666666666666,\"#ed7953\"],[0.7777777777777778,\"#fb9f3a\"],[0.8888888888888888,\"#fdca26\"],[1.0,\"#f0f921\"]]}],\"heatmapgl\":[{\"type\":\"heatmapgl\",\"colorbar\":{\"outlinewidth\":0,\"ticks\":\"\"},\"colorscale\":[[0.0,\"#0d0887\"],[0.1111111111111111,\"#46039f\"],[0.2222222222222222,\"#7201a8\"],[0.3333333333333333,\"#9c179e\"],[0.4444444444444444,\"#bd3786\"],[0.5555555555555556,\"#d8576b\"],[0.6666666666666666,\"#ed7953\"],[0.7777777777777778,\"#fb9f3a\"],[0.8888888888888888,\"#fdca26\"],[1.0,\"#f0f921\"]]}],\"contourcarpet\":[{\"type\":\"contourcarpet\",\"colorbar\":{\"outlinewidth\":0,\"ticks\":\"\"}}],\"contour\":[{\"type\":\"contour\",\"colorbar\":{\"outlinewidth\":0,\"ticks\":\"\"},\"colorscale\":[[0.0,\"#0d0887\"],[0.1111111111111111,\"#46039f\"],[0.2222222222222222,\"#7201a8\"],[0.3333333333333333,\"#9c179e\"],[0.4444444444444444,\"#bd3786\"],[0.5555555555555556,\"#d8576b\"],[0.6666666666666666,\"#ed7953\"],[0.7777777777777778,\"#fb9f3a\"],[0.8888888888888888,\"#fdca26\"],[1.0,\"#f0f921\"]]}],\"surface\":[{\"type\":\"surface\",\"colorbar\":{\"outlinewidth\":0,\"ticks\":\"\"},\"colorscale\":[[0.0,\"#0d0887\"],[0.1111111111111111,\"#46039f\"],[0.2222222222222222,\"#7201a8\"],[0.3333333333333333,\"#9c179e\"],[0.4444444444444444,\"#bd3786\"],[0.5555555555555556,\"#d8576b\"],[0.6666666666666666,\"#ed7953\"],[0.7777777777777778,\"#fb9f3a\"],[0.8888888888888888,\"#fdca26\"],[1.0,\"#f0f921\"]]}],\"mesh3d\":[{\"type\":\"mesh3d\",\"colorbar\":{\"outlinewidth\":0,\"ticks\":\"\"}}],\"scatter\":[{\"fillpattern\":{\"fillmode\":\"overlay\",\"size\":10,\"solidity\":0.2},\"type\":\"scatter\"}],\"parcoords\":[{\"type\":\"parcoords\",\"line\":{\"colorbar\":{\"outlinewidth\":0,\"ticks\":\"\"}}}],\"scatterpolargl\":[{\"type\":\"scatterpolargl\",\"marker\":{\"colorbar\":{\"outlinewidth\":0,\"ticks\":\"\"}}}],\"bar\":[{\"error_x\":{\"color\":\"#2a3f5f\"},\"error_y\":{\"color\":\"#2a3f5f\"},\"marker\":{\"line\":{\"color\":\"#E5ECF6\",\"width\":0.5},\"pattern\":{\"fillmode\":\"overlay\",\"size\":10,\"solidity\":0.2}},\"type\":\"bar\"}],\"scattergeo\":[{\"type\":\"scattergeo\",\"marker\":{\"colorbar\":{\"outlinewidth\":0,\"ticks\":\"\"}}}],\"scatterpolar\":[{\"type\":\"scatterpolar\",\"marker\":{\"colorbar\":{\"outlinewidth\":0,\"ticks\":\"\"}}}],\"histogram\":[{\"marker\":{\"pattern\":{\"fillmode\":\"overlay\",\"size\":10,\"solidity\":0.2}},\"type\":\"histogram\"}],\"scattergl\":[{\"type\":\"scattergl\",\"marker\":{\"colorbar\":{\"outlinewidth\":0,\"ticks\":\"\"}}}],\"scatter3d\":[{\"type\":\"scatter3d\",\"line\":{\"colorbar\":{\"outlinewidth\":0,\"ticks\":\"\"}},\"marker\":{\"colorbar\":{\"outlinewidth\":0,\"ticks\":\"\"}}}],\"scattermapbox\":[{\"type\":\"scattermapbox\",\"marker\":{\"colorbar\":{\"outlinewidth\":0,\"ticks\":\"\"}}}],\"scatterternary\":[{\"type\":\"scatterternary\",\"marker\":{\"colorbar\":{\"outlinewidth\":0,\"ticks\":\"\"}}}],\"scattercarpet\":[{\"type\":\"scattercarpet\",\"marker\":{\"colorbar\":{\"outlinewidth\":0,\"ticks\":\"\"}}}],\"carpet\":[{\"aaxis\":{\"endlinecolor\":\"#2a3f5f\",\"gridcolor\":\"white\",\"linecolor\":\"white\",\"minorgridcolor\":\"white\",\"startlinecolor\":\"#2a3f5f\"},\"baxis\":{\"endlinecolor\":\"#2a3f5f\",\"gridcolor\":\"white\",\"linecolor\":\"white\",\"minorgridcolor\":\"white\",\"startlinecolor\":\"#2a3f5f\"},\"type\":\"carpet\"}],\"table\":[{\"cells\":{\"fill\":{\"color\":\"#EBF0F8\"},\"line\":{\"color\":\"white\"}},\"header\":{\"fill\":{\"color\":\"#C8D4E3\"},\"line\":{\"color\":\"white\"}},\"type\":\"table\"}],\"barpolar\":[{\"marker\":{\"line\":{\"color\":\"#E5ECF6\",\"width\":0.5},\"pattern\":{\"fillmode\":\"overlay\",\"size\":10,\"solidity\":0.2}},\"type\":\"barpolar\"}],\"pie\":[{\"automargin\":true,\"type\":\"pie\"}]},\"layout\":{\"autotypenumbers\":\"strict\",\"colorway\":[\"#636efa\",\"#EF553B\",\"#00cc96\",\"#ab63fa\",\"#FFA15A\",\"#19d3f3\",\"#FF6692\",\"#B6E880\",\"#FF97FF\",\"#FECB52\"],\"font\":{\"color\":\"#2a3f5f\"},\"hovermode\":\"closest\",\"hoverlabel\":{\"align\":\"left\"},\"paper_bgcolor\":\"white\",\"plot_bgcolor\":\"#E5ECF6\",\"polar\":{\"bgcolor\":\"#E5ECF6\",\"angularaxis\":{\"gridcolor\":\"white\",\"linecolor\":\"white\",\"ticks\":\"\"},\"radialaxis\":{\"gridcolor\":\"white\",\"linecolor\":\"white\",\"ticks\":\"\"}},\"ternary\":{\"bgcolor\":\"#E5ECF6\",\"aaxis\":{\"gridcolor\":\"white\",\"linecolor\":\"white\",\"ticks\":\"\"},\"baxis\":{\"gridcolor\":\"white\",\"linecolor\":\"white\",\"ticks\":\"\"},\"caxis\":{\"gridcolor\":\"white\",\"linecolor\":\"white\",\"ticks\":\"\"}},\"coloraxis\":{\"colorbar\":{\"outlinewidth\":0,\"ticks\":\"\"}},\"colorscale\":{\"sequential\":[[0.0,\"#0d0887\"],[0.1111111111111111,\"#46039f\"],[0.2222222222222222,\"#7201a8\"],[0.3333333333333333,\"#9c179e\"],[0.4444444444444444,\"#bd3786\"],[0.5555555555555556,\"#d8576b\"],[0.6666666666666666,\"#ed7953\"],[0.7777777777777778,\"#fb9f3a\"],[0.8888888888888888,\"#fdca26\"],[1.0,\"#f0f921\"]],\"sequentialminus\":[[0.0,\"#0d0887\"],[0.1111111111111111,\"#46039f\"],[0.2222222222222222,\"#7201a8\"],[0.3333333333333333,\"#9c179e\"],[0.4444444444444444,\"#bd3786\"],[0.5555555555555556,\"#d8576b\"],[0.6666666666666666,\"#ed7953\"],[0.7777777777777778,\"#fb9f3a\"],[0.8888888888888888,\"#fdca26\"],[1.0,\"#f0f921\"]],\"diverging\":[[0,\"#8e0152\"],[0.1,\"#c51b7d\"],[0.2,\"#de77ae\"],[0.3,\"#f1b6da\"],[0.4,\"#fde0ef\"],[0.5,\"#f7f7f7\"],[0.6,\"#e6f5d0\"],[0.7,\"#b8e186\"],[0.8,\"#7fbc41\"],[0.9,\"#4d9221\"],[1,\"#276419\"]]},\"xaxis\":{\"gridcolor\":\"white\",\"linecolor\":\"white\",\"ticks\":\"\",\"title\":{\"standoff\":15},\"zerolinecolor\":\"white\",\"automargin\":true,\"zerolinewidth\":2},\"yaxis\":{\"gridcolor\":\"white\",\"linecolor\":\"white\",\"ticks\":\"\",\"title\":{\"standoff\":15},\"zerolinecolor\":\"white\",\"automargin\":true,\"zerolinewidth\":2},\"scene\":{\"xaxis\":{\"backgroundcolor\":\"#E5ECF6\",\"gridcolor\":\"white\",\"linecolor\":\"white\",\"showbackground\":true,\"ticks\":\"\",\"zerolinecolor\":\"white\",\"gridwidth\":2},\"yaxis\":{\"backgroundcolor\":\"#E5ECF6\",\"gridcolor\":\"white\",\"linecolor\":\"white\",\"showbackground\":true,\"ticks\":\"\",\"zerolinecolor\":\"white\",\"gridwidth\":2},\"zaxis\":{\"backgroundcolor\":\"#E5ECF6\",\"gridcolor\":\"white\",\"linecolor\":\"white\",\"showbackground\":true,\"ticks\":\"\",\"zerolinecolor\":\"white\",\"gridwidth\":2}},\"shapedefaults\":{\"line\":{\"color\":\"#2a3f5f\"}},\"annotationdefaults\":{\"arrowcolor\":\"#2a3f5f\",\"arrowhead\":0,\"arrowwidth\":1},\"geo\":{\"bgcolor\":\"white\",\"landcolor\":\"#E5ECF6\",\"subunitcolor\":\"white\",\"showland\":true,\"showlakes\":true,\"lakecolor\":\"white\"},\"title\":{\"x\":0.05},\"mapbox\":{\"style\":\"light\"}}},\"xaxis\":{\"anchor\":\"y\",\"domain\":[0.0,1.0],\"title\":{\"text\":\"DATE\"}},\"yaxis\":{\"anchor\":\"x\",\"domain\":[0.0,1.0],\"title\":{\"text\":\"sum of TAVG\"},\"categoryorder\":\"array\",\"categoryarray\":[13.774537401574802,16.05020968023764,6.996139391868808,3.8779971413257104,0.07231270358306188,-1.6282946444891244,-0.9107142857142857]},\"legend\":{\"title\":{\"text\":\"TAVG\"},\"tracegroupgap\":0},\"title\":{\"text\":\"The sum of TAVG Monthly of Sweden\"},\"barmode\":\"relative\"},                        {\"responsive\": true}                    ).then(function(){\n",
              "                            \n",
              "var gd = document.getElementById('cf7c7f78-9942-4d2c-b0d7-73f2fdc5b62d');\n",
              "var x = new MutationObserver(function (mutations, observer) {{\n",
              "        var display = window.getComputedStyle(gd).display;\n",
              "        if (!display || display === 'none') {{\n",
              "            console.log([gd, 'removed!']);\n",
              "            Plotly.purge(gd);\n",
              "            observer.disconnect();\n",
              "        }}\n",
              "}});\n",
              "\n",
              "// Listen for the removal of the full notebook cells\n",
              "var notebookContainer = gd.closest('#notebook-container');\n",
              "if (notebookContainer) {{\n",
              "    x.observe(notebookContainer, {childList: true});\n",
              "}}\n",
              "\n",
              "// Listen for the clearing of the current output cell\n",
              "var outputEl = gd.closest('.output');\n",
              "if (outputEl) {{\n",
              "    x.observe(outputEl, {childList: true});\n",
              "}}\n",
              "\n",
              "                        })                };                            </script>        </div>\n",
              "</body>\n",
              "</html>"
            ]
          },
          "metadata": {}
        }
      ],
      "source": [
        "sweden_copy = sweden_data.copy()\n",
        "sweden_copy.set_index('DATE', inplace=True)\n",
        "sweden_seasonal = sweden_copy.resample('M').mean(numeric_only=True)[['TAVG', 'TMAX', 'TMIN']]\n",
        "sweden_seasonal_df = pd.DataFrame(sweden_seasonal)\n",
        "px.histogram(sweden_seasonal_df,\n",
        "             x=sweden_seasonal_df.index, y='TAVG',\n",
        "             color='TAVG',\n",
        "             nbins=7,\n",
        "             title='The sum of TAVG Monthly of Sweden')"
      ]
    },
    {
      "cell_type": "markdown",
      "metadata": {
        "id": "BnHFCX-TQROQ"
      },
      "source": [
        "# Germany"
      ]
    },
    {
      "cell_type": "code",
      "execution_count": 373,
      "metadata": {
        "id": "P7kSvpqAQax0"
      },
      "outputs": [],
      "source": [
        "germany_data = data[data['Country/Region'] == 'Germany']"
      ]
    },
    {
      "cell_type": "code",
      "execution_count": 374,
      "metadata": {
        "colab": {
          "base_uri": "https://localhost:8080/"
        },
        "id": "HVR_Z4hnQax1",
        "outputId": "5134b522-be15-4c0b-f52d-7e12e313a475"
      },
      "outputs": [
        {
          "output_type": "execute_result",
          "data": {
            "text/plain": [
              "(103931, 11)"
            ]
          },
          "metadata": {},
          "execution_count": 374
        }
      ],
      "source": [
        "germany_data.shape"
      ]
    },
    {
      "cell_type": "code",
      "execution_count": 375,
      "metadata": {
        "colab": {
          "base_uri": "https://localhost:8080/"
        },
        "id": "ZM6XQEhkQax3",
        "outputId": "ce35ed66-d947-4be5-8953-c6183232663b"
      },
      "outputs": [
        {
          "output_type": "execute_result",
          "data": {
            "text/plain": [
              "STATION               0\n",
              "Country/Region        0\n",
              "DATE                  0\n",
              "Year                  0\n",
              "Month                 0\n",
              "Day                   0\n",
              "PRCP               2170\n",
              "SNWD              45194\n",
              "TAVG              99572\n",
              "TMAX              20279\n",
              "TMIN              20278\n",
              "dtype: int64"
            ]
          },
          "metadata": {},
          "execution_count": 375
        }
      ],
      "source": [
        "germany_data.isnull().sum()"
      ]
    },
    {
      "cell_type": "code",
      "execution_count": 376,
      "metadata": {
        "id": "J-UPj2RSQax4"
      },
      "outputs": [],
      "source": [
        "# calculating the percentage of missig values\n",
        "missing_percentage = (germany_data.isnull().sum() / len(germany_data)) * 100"
      ]
    },
    {
      "cell_type": "code",
      "execution_count": 377,
      "metadata": {
        "colab": {
          "base_uri": "https://localhost:8080/"
        },
        "id": "HTwyvYDrQax5",
        "outputId": "41c515c9-67ad-4b9a-888b-5b9fe2dc3264"
      },
      "outputs": [
        {
          "output_type": "stream",
          "name": "stdout",
          "text": [
            "STATION            0.000000\n",
            "Country/Region     0.000000\n",
            "DATE               0.000000\n",
            "Year               0.000000\n",
            "Month              0.000000\n",
            "Day                0.000000\n",
            "PRCP               2.087924\n",
            "SNWD              43.484620\n",
            "TAVG              95.805871\n",
            "TMAX              19.511984\n",
            "TMIN              19.511022\n",
            "dtype: float64\n"
          ]
        }
      ],
      "source": [
        "print(missing_percentage)"
      ]
    },
    {
      "cell_type": "code",
      "execution_count": 378,
      "metadata": {
        "id": "MQJzHG4Cs3Fa"
      },
      "outputs": [],
      "source": [
        "# Drop rows with null values in both 'TMIN' and 'TMAX' columns\n",
        "germany_data = germany_data.dropna(subset=['TMIN', 'TMAX'])"
      ]
    },
    {
      "cell_type": "code",
      "execution_count": 379,
      "metadata": {
        "id": "0yYgUfpDs3Fb",
        "colab": {
          "base_uri": "https://localhost:8080/"
        },
        "outputId": "f97ab811-d510-4ae8-8ce0-dd830cd98aca"
      },
      "outputs": [
        {
          "output_type": "stream",
          "name": "stderr",
          "text": [
            "<ipython-input-379-5b9e64570384>:2: SettingWithCopyWarning:\n",
            "\n",
            "\n",
            "A value is trying to be set on a copy of a slice from a DataFrame\n",
            "\n",
            "See the caveats in the documentation: https://pandas.pydata.org/pandas-docs/stable/user_guide/indexing.html#returning-a-view-versus-a-copy\n",
            "\n"
          ]
        }
      ],
      "source": [
        "# Fill null values in 'TAVG' with the average of 'TMIN' and 'TMAX'\n",
        "germany_data['TAVG'].fillna((germany_data['TMIN'] + germany_data['TMAX']) / 2, inplace=True)"
      ]
    },
    {
      "cell_type": "code",
      "execution_count": 380,
      "metadata": {
        "id": "8wvRVhDvYMJs"
      },
      "outputs": [],
      "source": [
        "# Drop rows where 'PRCP' is null\n",
        "germany_data = germany_data.dropna(subset=['PRCP'])"
      ]
    },
    {
      "cell_type": "code",
      "execution_count": 381,
      "metadata": {
        "colab": {
          "base_uri": "https://localhost:8080/"
        },
        "id": "cLHYwdpQs3Fc",
        "outputId": "a5895877-2fc0-4a2f-82d3-41b00973161c"
      },
      "outputs": [
        {
          "output_type": "execute_result",
          "data": {
            "text/plain": [
              "STATION               0\n",
              "Country/Region        0\n",
              "DATE                  0\n",
              "Year                  0\n",
              "Month                 0\n",
              "Day                   0\n",
              "PRCP                  0\n",
              "SNWD              39723\n",
              "TAVG                  0\n",
              "TMAX                  0\n",
              "TMIN                  0\n",
              "dtype: int64"
            ]
          },
          "metadata": {},
          "execution_count": 381
        }
      ],
      "source": [
        "germany_data.isnull().sum()"
      ]
    },
    {
      "cell_type": "code",
      "execution_count": 382,
      "metadata": {
        "colab": {
          "base_uri": "https://localhost:8080/"
        },
        "id": "-Vzv2G8tf1hp",
        "outputId": "63291b72-a3ff-4216-f415-dccbde500992"
      },
      "outputs": [
        {
          "output_type": "stream",
          "name": "stdout",
          "text": [
            "Starting month : 1\n",
            "Ending month : 7\n"
          ]
        }
      ],
      "source": [
        "print('Starting month :', germany_data['Month'].min())\n",
        "print('Ending month :', germany_data['Month'].max())"
      ]
    },
    {
      "cell_type": "code",
      "execution_count": 383,
      "metadata": {
        "colab": {
          "base_uri": "https://localhost:8080/",
          "height": 0
        },
        "id": "x1dfC-segGS_",
        "outputId": "50c7be3c-0f9c-40f0-e4f2-06dcdefe5557"
      },
      "outputs": [
        {
          "output_type": "display_data",
          "data": {
            "text/html": [
              "<html>\n",
              "<head><meta charset=\"utf-8\" /></head>\n",
              "<body>\n",
              "    <div>            <script src=\"https://cdnjs.cloudflare.com/ajax/libs/mathjax/2.7.5/MathJax.js?config=TeX-AMS-MML_SVG\"></script><script type=\"text/javascript\">if (window.MathJax && window.MathJax.Hub && window.MathJax.Hub.Config) {window.MathJax.Hub.Config({SVG: {font: \"STIX-Web\"}});}</script>                <script type=\"text/javascript\">window.PlotlyConfig = {MathJaxConfig: 'local'};</script>\n",
              "        <script charset=\"utf-8\" src=\"https://cdn.plot.ly/plotly-2.24.1.min.js\"></script>                <div id=\"7f093c77-803c-4ed2-8157-ff8135952996\" class=\"plotly-graph-div\" style=\"height:525px; width:100%;\"></div>            <script type=\"text/javascript\">                                    window.PLOTLYENV=window.PLOTLYENV || {};                                    if (document.getElementById(\"7f093c77-803c-4ed2-8157-ff8135952996\")) {                    Plotly.newPlot(                        \"7f093c77-803c-4ed2-8157-ff8135952996\",                        [{\"alignmentgroup\":\"True\",\"bingroup\":\"x\",\"histfunc\":\"sum\",\"hovertemplate\":\"TAVG=2.7909460374802437\\u003cbr\\u003eDATE=%{x}\\u003cbr\\u003esum of TAVG=%{y}\\u003cextra\\u003e\\u003c\\u002fextra\\u003e\",\"legendgroup\":\"2.7909460374802437\",\"marker\":{\"color\":\"#636efa\",\"pattern\":{\"shape\":\"\"}},\"name\":\"2.7909460374802437\",\"nbinsx\":7,\"offsetgroup\":\"2.7909460374802437\",\"orientation\":\"v\",\"showlegend\":true,\"x\":[\"2020-01-31T00:00:00\"],\"xaxis\":\"x\",\"y\":[2.7909460374802437],\"yaxis\":\"y\",\"type\":\"histogram\"},{\"alignmentgroup\":\"True\",\"bingroup\":\"x\",\"histfunc\":\"sum\",\"hovertemplate\":\"TAVG=5.213692103413262\\u003cbr\\u003eDATE=%{x}\\u003cbr\\u003esum of TAVG=%{y}\\u003cextra\\u003e\\u003c\\u002fextra\\u003e\",\"legendgroup\":\"5.213692103413262\",\"marker\":{\"color\":\"#EF553B\",\"pattern\":{\"shape\":\"\"}},\"name\":\"5.213692103413262\",\"nbinsx\":7,\"offsetgroup\":\"5.213692103413262\",\"orientation\":\"v\",\"showlegend\":true,\"x\":[\"2020-02-29T00:00:00\"],\"xaxis\":\"x\",\"y\":[5.213692103413262],\"yaxis\":\"y\",\"type\":\"histogram\"},{\"alignmentgroup\":\"True\",\"bingroup\":\"x\",\"histfunc\":\"sum\",\"hovertemplate\":\"TAVG=5.2149377593361\\u003cbr\\u003eDATE=%{x}\\u003cbr\\u003esum of TAVG=%{y}\\u003cextra\\u003e\\u003c\\u002fextra\\u003e\",\"legendgroup\":\"5.2149377593361\",\"marker\":{\"color\":\"#00cc96\",\"pattern\":{\"shape\":\"\"}},\"name\":\"5.2149377593361\",\"nbinsx\":7,\"offsetgroup\":\"5.2149377593361\",\"orientation\":\"v\",\"showlegend\":true,\"x\":[\"2020-03-31T00:00:00\"],\"xaxis\":\"x\",\"y\":[5.2149377593361],\"yaxis\":\"y\",\"type\":\"histogram\"},{\"alignmentgroup\":\"True\",\"bingroup\":\"x\",\"histfunc\":\"sum\",\"hovertemplate\":\"TAVG=10.202855420779025\\u003cbr\\u003eDATE=%{x}\\u003cbr\\u003esum of TAVG=%{y}\\u003cextra\\u003e\\u003c\\u002fextra\\u003e\",\"legendgroup\":\"10.202855420779025\",\"marker\":{\"color\":\"#ab63fa\",\"pattern\":{\"shape\":\"\"}},\"name\":\"10.202855420779025\",\"nbinsx\":7,\"offsetgroup\":\"10.202855420779025\",\"orientation\":\"v\",\"showlegend\":true,\"x\":[\"2020-04-30T00:00:00\"],\"xaxis\":\"x\",\"y\":[10.202855420779025],\"yaxis\":\"y\",\"type\":\"histogram\"},{\"alignmentgroup\":\"True\",\"bingroup\":\"x\",\"histfunc\":\"sum\",\"hovertemplate\":\"TAVG=11.610824479697278\\u003cbr\\u003eDATE=%{x}\\u003cbr\\u003esum of TAVG=%{y}\\u003cextra\\u003e\\u003c\\u002fextra\\u003e\",\"legendgroup\":\"11.610824479697278\",\"marker\":{\"color\":\"#FFA15A\",\"pattern\":{\"shape\":\"\"}},\"name\":\"11.610824479697278\",\"nbinsx\":7,\"offsetgroup\":\"11.610824479697278\",\"orientation\":\"v\",\"showlegend\":true,\"x\":[\"2020-05-31T00:00:00\"],\"xaxis\":\"x\",\"y\":[11.610824479697278],\"yaxis\":\"y\",\"type\":\"histogram\"},{\"alignmentgroup\":\"True\",\"bingroup\":\"x\",\"histfunc\":\"sum\",\"hovertemplate\":\"TAVG=16.695611651950795\\u003cbr\\u003eDATE=%{x}\\u003cbr\\u003esum of TAVG=%{y}\\u003cextra\\u003e\\u003c\\u002fextra\\u003e\",\"legendgroup\":\"16.695611651950795\",\"marker\":{\"color\":\"#19d3f3\",\"pattern\":{\"shape\":\"\"}},\"name\":\"16.695611651950795\",\"nbinsx\":7,\"offsetgroup\":\"16.695611651950795\",\"orientation\":\"v\",\"showlegend\":true,\"x\":[\"2020-06-30T00:00:00\"],\"xaxis\":\"x\",\"y\":[16.695611651950795],\"yaxis\":\"y\",\"type\":\"histogram\"},{\"alignmentgroup\":\"True\",\"bingroup\":\"x\",\"histfunc\":\"sum\",\"hovertemplate\":\"TAVG=17.33106016232951\\u003cbr\\u003eDATE=%{x}\\u003cbr\\u003esum of TAVG=%{y}\\u003cextra\\u003e\\u003c\\u002fextra\\u003e\",\"legendgroup\":\"17.33106016232951\",\"marker\":{\"color\":\"#FF6692\",\"pattern\":{\"shape\":\"\"}},\"name\":\"17.33106016232951\",\"nbinsx\":7,\"offsetgroup\":\"17.33106016232951\",\"orientation\":\"v\",\"showlegend\":true,\"x\":[\"2020-07-31T00:00:00\"],\"xaxis\":\"x\",\"y\":[17.33106016232951],\"yaxis\":\"y\",\"type\":\"histogram\"}],                        {\"template\":{\"data\":{\"histogram2dcontour\":[{\"type\":\"histogram2dcontour\",\"colorbar\":{\"outlinewidth\":0,\"ticks\":\"\"},\"colorscale\":[[0.0,\"#0d0887\"],[0.1111111111111111,\"#46039f\"],[0.2222222222222222,\"#7201a8\"],[0.3333333333333333,\"#9c179e\"],[0.4444444444444444,\"#bd3786\"],[0.5555555555555556,\"#d8576b\"],[0.6666666666666666,\"#ed7953\"],[0.7777777777777778,\"#fb9f3a\"],[0.8888888888888888,\"#fdca26\"],[1.0,\"#f0f921\"]]}],\"choropleth\":[{\"type\":\"choropleth\",\"colorbar\":{\"outlinewidth\":0,\"ticks\":\"\"}}],\"histogram2d\":[{\"type\":\"histogram2d\",\"colorbar\":{\"outlinewidth\":0,\"ticks\":\"\"},\"colorscale\":[[0.0,\"#0d0887\"],[0.1111111111111111,\"#46039f\"],[0.2222222222222222,\"#7201a8\"],[0.3333333333333333,\"#9c179e\"],[0.4444444444444444,\"#bd3786\"],[0.5555555555555556,\"#d8576b\"],[0.6666666666666666,\"#ed7953\"],[0.7777777777777778,\"#fb9f3a\"],[0.8888888888888888,\"#fdca26\"],[1.0,\"#f0f921\"]]}],\"heatmap\":[{\"type\":\"heatmap\",\"colorbar\":{\"outlinewidth\":0,\"ticks\":\"\"},\"colorscale\":[[0.0,\"#0d0887\"],[0.1111111111111111,\"#46039f\"],[0.2222222222222222,\"#7201a8\"],[0.3333333333333333,\"#9c179e\"],[0.4444444444444444,\"#bd3786\"],[0.5555555555555556,\"#d8576b\"],[0.6666666666666666,\"#ed7953\"],[0.7777777777777778,\"#fb9f3a\"],[0.8888888888888888,\"#fdca26\"],[1.0,\"#f0f921\"]]}],\"heatmapgl\":[{\"type\":\"heatmapgl\",\"colorbar\":{\"outlinewidth\":0,\"ticks\":\"\"},\"colorscale\":[[0.0,\"#0d0887\"],[0.1111111111111111,\"#46039f\"],[0.2222222222222222,\"#7201a8\"],[0.3333333333333333,\"#9c179e\"],[0.4444444444444444,\"#bd3786\"],[0.5555555555555556,\"#d8576b\"],[0.6666666666666666,\"#ed7953\"],[0.7777777777777778,\"#fb9f3a\"],[0.8888888888888888,\"#fdca26\"],[1.0,\"#f0f921\"]]}],\"contourcarpet\":[{\"type\":\"contourcarpet\",\"colorbar\":{\"outlinewidth\":0,\"ticks\":\"\"}}],\"contour\":[{\"type\":\"contour\",\"colorbar\":{\"outlinewidth\":0,\"ticks\":\"\"},\"colorscale\":[[0.0,\"#0d0887\"],[0.1111111111111111,\"#46039f\"],[0.2222222222222222,\"#7201a8\"],[0.3333333333333333,\"#9c179e\"],[0.4444444444444444,\"#bd3786\"],[0.5555555555555556,\"#d8576b\"],[0.6666666666666666,\"#ed7953\"],[0.7777777777777778,\"#fb9f3a\"],[0.8888888888888888,\"#fdca26\"],[1.0,\"#f0f921\"]]}],\"surface\":[{\"type\":\"surface\",\"colorbar\":{\"outlinewidth\":0,\"ticks\":\"\"},\"colorscale\":[[0.0,\"#0d0887\"],[0.1111111111111111,\"#46039f\"],[0.2222222222222222,\"#7201a8\"],[0.3333333333333333,\"#9c179e\"],[0.4444444444444444,\"#bd3786\"],[0.5555555555555556,\"#d8576b\"],[0.6666666666666666,\"#ed7953\"],[0.7777777777777778,\"#fb9f3a\"],[0.8888888888888888,\"#fdca26\"],[1.0,\"#f0f921\"]]}],\"mesh3d\":[{\"type\":\"mesh3d\",\"colorbar\":{\"outlinewidth\":0,\"ticks\":\"\"}}],\"scatter\":[{\"fillpattern\":{\"fillmode\":\"overlay\",\"size\":10,\"solidity\":0.2},\"type\":\"scatter\"}],\"parcoords\":[{\"type\":\"parcoords\",\"line\":{\"colorbar\":{\"outlinewidth\":0,\"ticks\":\"\"}}}],\"scatterpolargl\":[{\"type\":\"scatterpolargl\",\"marker\":{\"colorbar\":{\"outlinewidth\":0,\"ticks\":\"\"}}}],\"bar\":[{\"error_x\":{\"color\":\"#2a3f5f\"},\"error_y\":{\"color\":\"#2a3f5f\"},\"marker\":{\"line\":{\"color\":\"#E5ECF6\",\"width\":0.5},\"pattern\":{\"fillmode\":\"overlay\",\"size\":10,\"solidity\":0.2}},\"type\":\"bar\"}],\"scattergeo\":[{\"type\":\"scattergeo\",\"marker\":{\"colorbar\":{\"outlinewidth\":0,\"ticks\":\"\"}}}],\"scatterpolar\":[{\"type\":\"scatterpolar\",\"marker\":{\"colorbar\":{\"outlinewidth\":0,\"ticks\":\"\"}}}],\"histogram\":[{\"marker\":{\"pattern\":{\"fillmode\":\"overlay\",\"size\":10,\"solidity\":0.2}},\"type\":\"histogram\"}],\"scattergl\":[{\"type\":\"scattergl\",\"marker\":{\"colorbar\":{\"outlinewidth\":0,\"ticks\":\"\"}}}],\"scatter3d\":[{\"type\":\"scatter3d\",\"line\":{\"colorbar\":{\"outlinewidth\":0,\"ticks\":\"\"}},\"marker\":{\"colorbar\":{\"outlinewidth\":0,\"ticks\":\"\"}}}],\"scattermapbox\":[{\"type\":\"scattermapbox\",\"marker\":{\"colorbar\":{\"outlinewidth\":0,\"ticks\":\"\"}}}],\"scatterternary\":[{\"type\":\"scatterternary\",\"marker\":{\"colorbar\":{\"outlinewidth\":0,\"ticks\":\"\"}}}],\"scattercarpet\":[{\"type\":\"scattercarpet\",\"marker\":{\"colorbar\":{\"outlinewidth\":0,\"ticks\":\"\"}}}],\"carpet\":[{\"aaxis\":{\"endlinecolor\":\"#2a3f5f\",\"gridcolor\":\"white\",\"linecolor\":\"white\",\"minorgridcolor\":\"white\",\"startlinecolor\":\"#2a3f5f\"},\"baxis\":{\"endlinecolor\":\"#2a3f5f\",\"gridcolor\":\"white\",\"linecolor\":\"white\",\"minorgridcolor\":\"white\",\"startlinecolor\":\"#2a3f5f\"},\"type\":\"carpet\"}],\"table\":[{\"cells\":{\"fill\":{\"color\":\"#EBF0F8\"},\"line\":{\"color\":\"white\"}},\"header\":{\"fill\":{\"color\":\"#C8D4E3\"},\"line\":{\"color\":\"white\"}},\"type\":\"table\"}],\"barpolar\":[{\"marker\":{\"line\":{\"color\":\"#E5ECF6\",\"width\":0.5},\"pattern\":{\"fillmode\":\"overlay\",\"size\":10,\"solidity\":0.2}},\"type\":\"barpolar\"}],\"pie\":[{\"automargin\":true,\"type\":\"pie\"}]},\"layout\":{\"autotypenumbers\":\"strict\",\"colorway\":[\"#636efa\",\"#EF553B\",\"#00cc96\",\"#ab63fa\",\"#FFA15A\",\"#19d3f3\",\"#FF6692\",\"#B6E880\",\"#FF97FF\",\"#FECB52\"],\"font\":{\"color\":\"#2a3f5f\"},\"hovermode\":\"closest\",\"hoverlabel\":{\"align\":\"left\"},\"paper_bgcolor\":\"white\",\"plot_bgcolor\":\"#E5ECF6\",\"polar\":{\"bgcolor\":\"#E5ECF6\",\"angularaxis\":{\"gridcolor\":\"white\",\"linecolor\":\"white\",\"ticks\":\"\"},\"radialaxis\":{\"gridcolor\":\"white\",\"linecolor\":\"white\",\"ticks\":\"\"}},\"ternary\":{\"bgcolor\":\"#E5ECF6\",\"aaxis\":{\"gridcolor\":\"white\",\"linecolor\":\"white\",\"ticks\":\"\"},\"baxis\":{\"gridcolor\":\"white\",\"linecolor\":\"white\",\"ticks\":\"\"},\"caxis\":{\"gridcolor\":\"white\",\"linecolor\":\"white\",\"ticks\":\"\"}},\"coloraxis\":{\"colorbar\":{\"outlinewidth\":0,\"ticks\":\"\"}},\"colorscale\":{\"sequential\":[[0.0,\"#0d0887\"],[0.1111111111111111,\"#46039f\"],[0.2222222222222222,\"#7201a8\"],[0.3333333333333333,\"#9c179e\"],[0.4444444444444444,\"#bd3786\"],[0.5555555555555556,\"#d8576b\"],[0.6666666666666666,\"#ed7953\"],[0.7777777777777778,\"#fb9f3a\"],[0.8888888888888888,\"#fdca26\"],[1.0,\"#f0f921\"]],\"sequentialminus\":[[0.0,\"#0d0887\"],[0.1111111111111111,\"#46039f\"],[0.2222222222222222,\"#7201a8\"],[0.3333333333333333,\"#9c179e\"],[0.4444444444444444,\"#bd3786\"],[0.5555555555555556,\"#d8576b\"],[0.6666666666666666,\"#ed7953\"],[0.7777777777777778,\"#fb9f3a\"],[0.8888888888888888,\"#fdca26\"],[1.0,\"#f0f921\"]],\"diverging\":[[0,\"#8e0152\"],[0.1,\"#c51b7d\"],[0.2,\"#de77ae\"],[0.3,\"#f1b6da\"],[0.4,\"#fde0ef\"],[0.5,\"#f7f7f7\"],[0.6,\"#e6f5d0\"],[0.7,\"#b8e186\"],[0.8,\"#7fbc41\"],[0.9,\"#4d9221\"],[1,\"#276419\"]]},\"xaxis\":{\"gridcolor\":\"white\",\"linecolor\":\"white\",\"ticks\":\"\",\"title\":{\"standoff\":15},\"zerolinecolor\":\"white\",\"automargin\":true,\"zerolinewidth\":2},\"yaxis\":{\"gridcolor\":\"white\",\"linecolor\":\"white\",\"ticks\":\"\",\"title\":{\"standoff\":15},\"zerolinecolor\":\"white\",\"automargin\":true,\"zerolinewidth\":2},\"scene\":{\"xaxis\":{\"backgroundcolor\":\"#E5ECF6\",\"gridcolor\":\"white\",\"linecolor\":\"white\",\"showbackground\":true,\"ticks\":\"\",\"zerolinecolor\":\"white\",\"gridwidth\":2},\"yaxis\":{\"backgroundcolor\":\"#E5ECF6\",\"gridcolor\":\"white\",\"linecolor\":\"white\",\"showbackground\":true,\"ticks\":\"\",\"zerolinecolor\":\"white\",\"gridwidth\":2},\"zaxis\":{\"backgroundcolor\":\"#E5ECF6\",\"gridcolor\":\"white\",\"linecolor\":\"white\",\"showbackground\":true,\"ticks\":\"\",\"zerolinecolor\":\"white\",\"gridwidth\":2}},\"shapedefaults\":{\"line\":{\"color\":\"#2a3f5f\"}},\"annotationdefaults\":{\"arrowcolor\":\"#2a3f5f\",\"arrowhead\":0,\"arrowwidth\":1},\"geo\":{\"bgcolor\":\"white\",\"landcolor\":\"#E5ECF6\",\"subunitcolor\":\"white\",\"showland\":true,\"showlakes\":true,\"lakecolor\":\"white\"},\"title\":{\"x\":0.05},\"mapbox\":{\"style\":\"light\"}}},\"xaxis\":{\"anchor\":\"y\",\"domain\":[0.0,1.0],\"title\":{\"text\":\"DATE\"}},\"yaxis\":{\"anchor\":\"x\",\"domain\":[0.0,1.0],\"title\":{\"text\":\"sum of TAVG\"},\"categoryorder\":\"array\",\"categoryarray\":[17.33106016232951,16.695611651950795,11.610824479697278,10.202855420779025,5.2149377593361,5.213692103413262,2.7909460374802437]},\"legend\":{\"title\":{\"text\":\"TAVG\"},\"tracegroupgap\":0},\"title\":{\"text\":\"The sum of TAVG Monthly of Germany\"},\"barmode\":\"relative\"},                        {\"responsive\": true}                    ).then(function(){\n",
              "                            \n",
              "var gd = document.getElementById('7f093c77-803c-4ed2-8157-ff8135952996');\n",
              "var x = new MutationObserver(function (mutations, observer) {{\n",
              "        var display = window.getComputedStyle(gd).display;\n",
              "        if (!display || display === 'none') {{\n",
              "            console.log([gd, 'removed!']);\n",
              "            Plotly.purge(gd);\n",
              "            observer.disconnect();\n",
              "        }}\n",
              "}});\n",
              "\n",
              "// Listen for the removal of the full notebook cells\n",
              "var notebookContainer = gd.closest('#notebook-container');\n",
              "if (notebookContainer) {{\n",
              "    x.observe(notebookContainer, {childList: true});\n",
              "}}\n",
              "\n",
              "// Listen for the clearing of the current output cell\n",
              "var outputEl = gd.closest('.output');\n",
              "if (outputEl) {{\n",
              "    x.observe(outputEl, {childList: true});\n",
              "}}\n",
              "\n",
              "                        })                };                            </script>        </div>\n",
              "</body>\n",
              "</html>"
            ]
          },
          "metadata": {}
        }
      ],
      "source": [
        "germany_copy = germany_data.copy()\n",
        "germany_copy.set_index('DATE', inplace=True)\n",
        "germany_seasonal = germany_copy.resample('M').mean(numeric_only=True)[['TAVG', 'TMAX', 'TMIN']]\n",
        "germany_seasonal_df = pd.DataFrame(germany_seasonal)\n",
        "px.histogram(germany_seasonal_df,\n",
        "             x=germany_seasonal_df.index, y='TAVG',\n",
        "             color='TAVG',\n",
        "             nbins=7,\n",
        "             title='The sum of TAVG Monthly of Germany')"
      ]
    },
    {
      "cell_type": "markdown",
      "metadata": {
        "id": "Kc1-AweVcxsW"
      },
      "source": [
        "# Russia"
      ]
    },
    {
      "cell_type": "code",
      "execution_count": 384,
      "metadata": {
        "id": "XOK-XMAucxsY"
      },
      "outputs": [],
      "source": [
        "russia_data = data[data['Country/Region'] == 'Russia']"
      ]
    },
    {
      "cell_type": "code",
      "execution_count": 385,
      "metadata": {
        "colab": {
          "base_uri": "https://localhost:8080/"
        },
        "id": "OE7afQSUcxsZ",
        "outputId": "590660e7-2b1b-47ff-c438-23e3915fae66"
      },
      "outputs": [
        {
          "output_type": "execute_result",
          "data": {
            "text/plain": [
              "(91988, 11)"
            ]
          },
          "metadata": {},
          "execution_count": 385
        }
      ],
      "source": [
        "russia_data.shape"
      ]
    },
    {
      "cell_type": "code",
      "execution_count": 386,
      "metadata": {
        "colab": {
          "base_uri": "https://localhost:8080/"
        },
        "id": "SdjpwmCIcxsb",
        "outputId": "241c2e36-9a35-4227-8b29-367601b3c216"
      },
      "outputs": [
        {
          "output_type": "execute_result",
          "data": {
            "text/plain": [
              "STATION               0\n",
              "Country/Region        0\n",
              "DATE                  0\n",
              "Year                  0\n",
              "Month                 0\n",
              "Day                   0\n",
              "PRCP              11941\n",
              "SNWD              54924\n",
              "TAVG                  0\n",
              "TMAX              17447\n",
              "TMIN              29994\n",
              "dtype: int64"
            ]
          },
          "metadata": {},
          "execution_count": 386
        }
      ],
      "source": [
        "russia_data.isnull().sum()"
      ]
    },
    {
      "cell_type": "code",
      "execution_count": 387,
      "metadata": {
        "id": "7kTsEXdhcxsc"
      },
      "outputs": [],
      "source": [
        "# calculating the percentage of missig values\n",
        "missing_percentage = (russia_data.isnull().sum() / len(russia_data)) * 100"
      ]
    },
    {
      "cell_type": "code",
      "execution_count": 388,
      "metadata": {
        "colab": {
          "base_uri": "https://localhost:8080/"
        },
        "id": "AYNGSAFScxsd",
        "outputId": "ea892418-7e45-47f7-f1db-87337ee9a387"
      },
      "outputs": [
        {
          "output_type": "stream",
          "name": "stdout",
          "text": [
            "STATION            0.000000\n",
            "Country/Region     0.000000\n",
            "DATE               0.000000\n",
            "Year               0.000000\n",
            "Month              0.000000\n",
            "Day                0.000000\n",
            "PRCP              12.981041\n",
            "SNWD              59.707788\n",
            "TAVG               0.000000\n",
            "TMAX              18.966604\n",
            "TMIN              32.606427\n",
            "dtype: float64\n"
          ]
        }
      ],
      "source": [
        "print(missing_percentage)"
      ]
    },
    {
      "cell_type": "code",
      "execution_count": 389,
      "metadata": {
        "id": "tS1v7aI_tIB3"
      },
      "outputs": [],
      "source": [
        "# Drop rows with null values in both 'TMIN' and 'TMAX' columns\n",
        "russia_data = russia_data.dropna(subset=['TMIN', 'TMAX'])"
      ]
    },
    {
      "cell_type": "code",
      "execution_count": 390,
      "metadata": {
        "id": "aMRvW3RmtIB5"
      },
      "outputs": [],
      "source": [
        "# Fill null values in 'TAVG' with the average of 'TMIN' and 'TMAX'\n",
        "russia_data['TAVG'].fillna((russia_data['TMIN'] + russia_data['TMAX']) / 2, inplace=True)"
      ]
    },
    {
      "cell_type": "code",
      "execution_count": 391,
      "metadata": {
        "id": "lDdJM6dCX_oK"
      },
      "outputs": [],
      "source": [
        "# Drop rows where 'PRCP' is null\n",
        "russia_data = russia_data.dropna(subset=['PRCP'])"
      ]
    },
    {
      "cell_type": "code",
      "execution_count": 392,
      "metadata": {
        "colab": {
          "base_uri": "https://localhost:8080/"
        },
        "id": "INkIKjZAtIB6",
        "outputId": "4e134126-d7c1-4f5d-e6ee-0e81d2cabc31"
      },
      "outputs": [
        {
          "output_type": "execute_result",
          "data": {
            "text/plain": [
              "STATION               0\n",
              "Country/Region        0\n",
              "DATE                  0\n",
              "Year                  0\n",
              "Month                 0\n",
              "Day                   0\n",
              "PRCP                  0\n",
              "SNWD              31186\n",
              "TAVG                  0\n",
              "TMAX                  0\n",
              "TMIN                  0\n",
              "dtype: int64"
            ]
          },
          "metadata": {},
          "execution_count": 392
        }
      ],
      "source": [
        "russia_data.isnull().sum()"
      ]
    },
    {
      "cell_type": "code",
      "execution_count": 393,
      "metadata": {
        "colab": {
          "base_uri": "https://localhost:8080/"
        },
        "id": "1U_kByJ1f9Iv",
        "outputId": "d5c01722-668a-4965-8927-04cb4db46cfa"
      },
      "outputs": [
        {
          "output_type": "stream",
          "name": "stdout",
          "text": [
            "Starting month : 1\n",
            "Ending month : 7\n"
          ]
        }
      ],
      "source": [
        "print('Starting month :', russia_data['Month'].min())\n",
        "print('Ending month :', russia_data['Month'].max())"
      ]
    },
    {
      "cell_type": "code",
      "execution_count": 394,
      "metadata": {
        "colab": {
          "base_uri": "https://localhost:8080/",
          "height": 0
        },
        "id": "SUOygMrzj1iz",
        "outputId": "45253e3c-cde6-40d4-95bd-44eeecfc5892"
      },
      "outputs": [
        {
          "output_type": "display_data",
          "data": {
            "text/html": [
              "<html>\n",
              "<head><meta charset=\"utf-8\" /></head>\n",
              "<body>\n",
              "    <div>            <script src=\"https://cdnjs.cloudflare.com/ajax/libs/mathjax/2.7.5/MathJax.js?config=TeX-AMS-MML_SVG\"></script><script type=\"text/javascript\">if (window.MathJax && window.MathJax.Hub && window.MathJax.Hub.Config) {window.MathJax.Hub.Config({SVG: {font: \"STIX-Web\"}});}</script>                <script type=\"text/javascript\">window.PlotlyConfig = {MathJaxConfig: 'local'};</script>\n",
              "        <script charset=\"utf-8\" src=\"https://cdn.plot.ly/plotly-2.24.1.min.js\"></script>                <div id=\"8685a450-fa09-4d01-9175-1358c7a0541e\" class=\"plotly-graph-div\" style=\"height:525px; width:100%;\"></div>            <script type=\"text/javascript\">                                    window.PLOTLYENV=window.PLOTLYENV || {};                                    if (document.getElementById(\"8685a450-fa09-4d01-9175-1358c7a0541e\")) {                    Plotly.newPlot(                        \"8685a450-fa09-4d01-9175-1358c7a0541e\",                        [{\"alignmentgroup\":\"True\",\"bingroup\":\"x\",\"histfunc\":\"sum\",\"hovertemplate\":\"TAVG=-13.964275668073135\\u003cbr\\u003eDATE=%{x}\\u003cbr\\u003esum of TAVG=%{y}\\u003cextra\\u003e\\u003c\\u002fextra\\u003e\",\"legendgroup\":\"-13.964275668073135\",\"marker\":{\"color\":\"#636efa\",\"pattern\":{\"shape\":\"\"}},\"name\":\"-13.964275668073135\",\"nbinsx\":7,\"offsetgroup\":\"-13.964275668073135\",\"orientation\":\"v\",\"showlegend\":true,\"x\":[\"2020-01-31T00:00:00\"],\"xaxis\":\"x\",\"y\":[-13.964275668073135],\"yaxis\":\"y\",\"type\":\"histogram\"},{\"alignmentgroup\":\"True\",\"bingroup\":\"x\",\"histfunc\":\"sum\",\"hovertemplate\":\"TAVG=-9.790134062215282\\u003cbr\\u003eDATE=%{x}\\u003cbr\\u003esum of TAVG=%{y}\\u003cextra\\u003e\\u003c\\u002fextra\\u003e\",\"legendgroup\":\"-9.790134062215282\",\"marker\":{\"color\":\"#EF553B\",\"pattern\":{\"shape\":\"\"}},\"name\":\"-9.790134062215282\",\"nbinsx\":7,\"offsetgroup\":\"-9.790134062215282\",\"orientation\":\"v\",\"showlegend\":true,\"x\":[\"2020-02-29T00:00:00\"],\"xaxis\":\"x\",\"y\":[-9.790134062215282],\"yaxis\":\"y\",\"type\":\"histogram\"},{\"alignmentgroup\":\"True\",\"bingroup\":\"x\",\"histfunc\":\"sum\",\"hovertemplate\":\"TAVG=-1.799230313795145\\u003cbr\\u003eDATE=%{x}\\u003cbr\\u003esum of TAVG=%{y}\\u003cextra\\u003e\\u003c\\u002fextra\\u003e\",\"legendgroup\":\"-1.799230313795145\",\"marker\":{\"color\":\"#00cc96\",\"pattern\":{\"shape\":\"\"}},\"name\":\"-1.799230313795145\",\"nbinsx\":7,\"offsetgroup\":\"-1.799230313795145\",\"orientation\":\"v\",\"showlegend\":true,\"x\":[\"2020-03-31T00:00:00\"],\"xaxis\":\"x\",\"y\":[-1.799230313795145],\"yaxis\":\"y\",\"type\":\"histogram\"},{\"alignmentgroup\":\"True\",\"bingroup\":\"x\",\"histfunc\":\"sum\",\"hovertemplate\":\"TAVG=3.2442150231399074\\u003cbr\\u003eDATE=%{x}\\u003cbr\\u003esum of TAVG=%{y}\\u003cextra\\u003e\\u003c\\u002fextra\\u003e\",\"legendgroup\":\"3.2442150231399074\",\"marker\":{\"color\":\"#ab63fa\",\"pattern\":{\"shape\":\"\"}},\"name\":\"3.2442150231399074\",\"nbinsx\":7,\"offsetgroup\":\"3.2442150231399074\",\"orientation\":\"v\",\"showlegend\":true,\"x\":[\"2020-04-30T00:00:00\"],\"xaxis\":\"x\",\"y\":[3.2442150231399074],\"yaxis\":\"y\",\"type\":\"histogram\"},{\"alignmentgroup\":\"True\",\"bingroup\":\"x\",\"histfunc\":\"sum\",\"hovertemplate\":\"TAVG=10.483335386131296\\u003cbr\\u003eDATE=%{x}\\u003cbr\\u003esum of TAVG=%{y}\\u003cextra\\u003e\\u003c\\u002fextra\\u003e\",\"legendgroup\":\"10.483335386131296\",\"marker\":{\"color\":\"#FFA15A\",\"pattern\":{\"shape\":\"\"}},\"name\":\"10.483335386131296\",\"nbinsx\":7,\"offsetgroup\":\"10.483335386131296\",\"orientation\":\"v\",\"showlegend\":true,\"x\":[\"2020-05-31T00:00:00\"],\"xaxis\":\"x\",\"y\":[10.483335386131296],\"yaxis\":\"y\",\"type\":\"histogram\"},{\"alignmentgroup\":\"True\",\"bingroup\":\"x\",\"histfunc\":\"sum\",\"hovertemplate\":\"TAVG=15.726911592885887\\u003cbr\\u003eDATE=%{x}\\u003cbr\\u003esum of TAVG=%{y}\\u003cextra\\u003e\\u003c\\u002fextra\\u003e\",\"legendgroup\":\"15.726911592885887\",\"marker\":{\"color\":\"#19d3f3\",\"pattern\":{\"shape\":\"\"}},\"name\":\"15.726911592885887\",\"nbinsx\":7,\"offsetgroup\":\"15.726911592885887\",\"orientation\":\"v\",\"showlegend\":true,\"x\":[\"2020-06-30T00:00:00\"],\"xaxis\":\"x\",\"y\":[15.726911592885887],\"yaxis\":\"y\",\"type\":\"histogram\"},{\"alignmentgroup\":\"True\",\"bingroup\":\"x\",\"histfunc\":\"sum\",\"hovertemplate\":\"TAVG=18.78450195171317\\u003cbr\\u003eDATE=%{x}\\u003cbr\\u003esum of TAVG=%{y}\\u003cextra\\u003e\\u003c\\u002fextra\\u003e\",\"legendgroup\":\"18.78450195171317\",\"marker\":{\"color\":\"#FF6692\",\"pattern\":{\"shape\":\"\"}},\"name\":\"18.78450195171317\",\"nbinsx\":7,\"offsetgroup\":\"18.78450195171317\",\"orientation\":\"v\",\"showlegend\":true,\"x\":[\"2020-07-31T00:00:00\"],\"xaxis\":\"x\",\"y\":[18.78450195171317],\"yaxis\":\"y\",\"type\":\"histogram\"}],                        {\"template\":{\"data\":{\"histogram2dcontour\":[{\"type\":\"histogram2dcontour\",\"colorbar\":{\"outlinewidth\":0,\"ticks\":\"\"},\"colorscale\":[[0.0,\"#0d0887\"],[0.1111111111111111,\"#46039f\"],[0.2222222222222222,\"#7201a8\"],[0.3333333333333333,\"#9c179e\"],[0.4444444444444444,\"#bd3786\"],[0.5555555555555556,\"#d8576b\"],[0.6666666666666666,\"#ed7953\"],[0.7777777777777778,\"#fb9f3a\"],[0.8888888888888888,\"#fdca26\"],[1.0,\"#f0f921\"]]}],\"choropleth\":[{\"type\":\"choropleth\",\"colorbar\":{\"outlinewidth\":0,\"ticks\":\"\"}}],\"histogram2d\":[{\"type\":\"histogram2d\",\"colorbar\":{\"outlinewidth\":0,\"ticks\":\"\"},\"colorscale\":[[0.0,\"#0d0887\"],[0.1111111111111111,\"#46039f\"],[0.2222222222222222,\"#7201a8\"],[0.3333333333333333,\"#9c179e\"],[0.4444444444444444,\"#bd3786\"],[0.5555555555555556,\"#d8576b\"],[0.6666666666666666,\"#ed7953\"],[0.7777777777777778,\"#fb9f3a\"],[0.8888888888888888,\"#fdca26\"],[1.0,\"#f0f921\"]]}],\"heatmap\":[{\"type\":\"heatmap\",\"colorbar\":{\"outlinewidth\":0,\"ticks\":\"\"},\"colorscale\":[[0.0,\"#0d0887\"],[0.1111111111111111,\"#46039f\"],[0.2222222222222222,\"#7201a8\"],[0.3333333333333333,\"#9c179e\"],[0.4444444444444444,\"#bd3786\"],[0.5555555555555556,\"#d8576b\"],[0.6666666666666666,\"#ed7953\"],[0.7777777777777778,\"#fb9f3a\"],[0.8888888888888888,\"#fdca26\"],[1.0,\"#f0f921\"]]}],\"heatmapgl\":[{\"type\":\"heatmapgl\",\"colorbar\":{\"outlinewidth\":0,\"ticks\":\"\"},\"colorscale\":[[0.0,\"#0d0887\"],[0.1111111111111111,\"#46039f\"],[0.2222222222222222,\"#7201a8\"],[0.3333333333333333,\"#9c179e\"],[0.4444444444444444,\"#bd3786\"],[0.5555555555555556,\"#d8576b\"],[0.6666666666666666,\"#ed7953\"],[0.7777777777777778,\"#fb9f3a\"],[0.8888888888888888,\"#fdca26\"],[1.0,\"#f0f921\"]]}],\"contourcarpet\":[{\"type\":\"contourcarpet\",\"colorbar\":{\"outlinewidth\":0,\"ticks\":\"\"}}],\"contour\":[{\"type\":\"contour\",\"colorbar\":{\"outlinewidth\":0,\"ticks\":\"\"},\"colorscale\":[[0.0,\"#0d0887\"],[0.1111111111111111,\"#46039f\"],[0.2222222222222222,\"#7201a8\"],[0.3333333333333333,\"#9c179e\"],[0.4444444444444444,\"#bd3786\"],[0.5555555555555556,\"#d8576b\"],[0.6666666666666666,\"#ed7953\"],[0.7777777777777778,\"#fb9f3a\"],[0.8888888888888888,\"#fdca26\"],[1.0,\"#f0f921\"]]}],\"surface\":[{\"type\":\"surface\",\"colorbar\":{\"outlinewidth\":0,\"ticks\":\"\"},\"colorscale\":[[0.0,\"#0d0887\"],[0.1111111111111111,\"#46039f\"],[0.2222222222222222,\"#7201a8\"],[0.3333333333333333,\"#9c179e\"],[0.4444444444444444,\"#bd3786\"],[0.5555555555555556,\"#d8576b\"],[0.6666666666666666,\"#ed7953\"],[0.7777777777777778,\"#fb9f3a\"],[0.8888888888888888,\"#fdca26\"],[1.0,\"#f0f921\"]]}],\"mesh3d\":[{\"type\":\"mesh3d\",\"colorbar\":{\"outlinewidth\":0,\"ticks\":\"\"}}],\"scatter\":[{\"fillpattern\":{\"fillmode\":\"overlay\",\"size\":10,\"solidity\":0.2},\"type\":\"scatter\"}],\"parcoords\":[{\"type\":\"parcoords\",\"line\":{\"colorbar\":{\"outlinewidth\":0,\"ticks\":\"\"}}}],\"scatterpolargl\":[{\"type\":\"scatterpolargl\",\"marker\":{\"colorbar\":{\"outlinewidth\":0,\"ticks\":\"\"}}}],\"bar\":[{\"error_x\":{\"color\":\"#2a3f5f\"},\"error_y\":{\"color\":\"#2a3f5f\"},\"marker\":{\"line\":{\"color\":\"#E5ECF6\",\"width\":0.5},\"pattern\":{\"fillmode\":\"overlay\",\"size\":10,\"solidity\":0.2}},\"type\":\"bar\"}],\"scattergeo\":[{\"type\":\"scattergeo\",\"marker\":{\"colorbar\":{\"outlinewidth\":0,\"ticks\":\"\"}}}],\"scatterpolar\":[{\"type\":\"scatterpolar\",\"marker\":{\"colorbar\":{\"outlinewidth\":0,\"ticks\":\"\"}}}],\"histogram\":[{\"marker\":{\"pattern\":{\"fillmode\":\"overlay\",\"size\":10,\"solidity\":0.2}},\"type\":\"histogram\"}],\"scattergl\":[{\"type\":\"scattergl\",\"marker\":{\"colorbar\":{\"outlinewidth\":0,\"ticks\":\"\"}}}],\"scatter3d\":[{\"type\":\"scatter3d\",\"line\":{\"colorbar\":{\"outlinewidth\":0,\"ticks\":\"\"}},\"marker\":{\"colorbar\":{\"outlinewidth\":0,\"ticks\":\"\"}}}],\"scattermapbox\":[{\"type\":\"scattermapbox\",\"marker\":{\"colorbar\":{\"outlinewidth\":0,\"ticks\":\"\"}}}],\"scatterternary\":[{\"type\":\"scatterternary\",\"marker\":{\"colorbar\":{\"outlinewidth\":0,\"ticks\":\"\"}}}],\"scattercarpet\":[{\"type\":\"scattercarpet\",\"marker\":{\"colorbar\":{\"outlinewidth\":0,\"ticks\":\"\"}}}],\"carpet\":[{\"aaxis\":{\"endlinecolor\":\"#2a3f5f\",\"gridcolor\":\"white\",\"linecolor\":\"white\",\"minorgridcolor\":\"white\",\"startlinecolor\":\"#2a3f5f\"},\"baxis\":{\"endlinecolor\":\"#2a3f5f\",\"gridcolor\":\"white\",\"linecolor\":\"white\",\"minorgridcolor\":\"white\",\"startlinecolor\":\"#2a3f5f\"},\"type\":\"carpet\"}],\"table\":[{\"cells\":{\"fill\":{\"color\":\"#EBF0F8\"},\"line\":{\"color\":\"white\"}},\"header\":{\"fill\":{\"color\":\"#C8D4E3\"},\"line\":{\"color\":\"white\"}},\"type\":\"table\"}],\"barpolar\":[{\"marker\":{\"line\":{\"color\":\"#E5ECF6\",\"width\":0.5},\"pattern\":{\"fillmode\":\"overlay\",\"size\":10,\"solidity\":0.2}},\"type\":\"barpolar\"}],\"pie\":[{\"automargin\":true,\"type\":\"pie\"}]},\"layout\":{\"autotypenumbers\":\"strict\",\"colorway\":[\"#636efa\",\"#EF553B\",\"#00cc96\",\"#ab63fa\",\"#FFA15A\",\"#19d3f3\",\"#FF6692\",\"#B6E880\",\"#FF97FF\",\"#FECB52\"],\"font\":{\"color\":\"#2a3f5f\"},\"hovermode\":\"closest\",\"hoverlabel\":{\"align\":\"left\"},\"paper_bgcolor\":\"white\",\"plot_bgcolor\":\"#E5ECF6\",\"polar\":{\"bgcolor\":\"#E5ECF6\",\"angularaxis\":{\"gridcolor\":\"white\",\"linecolor\":\"white\",\"ticks\":\"\"},\"radialaxis\":{\"gridcolor\":\"white\",\"linecolor\":\"white\",\"ticks\":\"\"}},\"ternary\":{\"bgcolor\":\"#E5ECF6\",\"aaxis\":{\"gridcolor\":\"white\",\"linecolor\":\"white\",\"ticks\":\"\"},\"baxis\":{\"gridcolor\":\"white\",\"linecolor\":\"white\",\"ticks\":\"\"},\"caxis\":{\"gridcolor\":\"white\",\"linecolor\":\"white\",\"ticks\":\"\"}},\"coloraxis\":{\"colorbar\":{\"outlinewidth\":0,\"ticks\":\"\"}},\"colorscale\":{\"sequential\":[[0.0,\"#0d0887\"],[0.1111111111111111,\"#46039f\"],[0.2222222222222222,\"#7201a8\"],[0.3333333333333333,\"#9c179e\"],[0.4444444444444444,\"#bd3786\"],[0.5555555555555556,\"#d8576b\"],[0.6666666666666666,\"#ed7953\"],[0.7777777777777778,\"#fb9f3a\"],[0.8888888888888888,\"#fdca26\"],[1.0,\"#f0f921\"]],\"sequentialminus\":[[0.0,\"#0d0887\"],[0.1111111111111111,\"#46039f\"],[0.2222222222222222,\"#7201a8\"],[0.3333333333333333,\"#9c179e\"],[0.4444444444444444,\"#bd3786\"],[0.5555555555555556,\"#d8576b\"],[0.6666666666666666,\"#ed7953\"],[0.7777777777777778,\"#fb9f3a\"],[0.8888888888888888,\"#fdca26\"],[1.0,\"#f0f921\"]],\"diverging\":[[0,\"#8e0152\"],[0.1,\"#c51b7d\"],[0.2,\"#de77ae\"],[0.3,\"#f1b6da\"],[0.4,\"#fde0ef\"],[0.5,\"#f7f7f7\"],[0.6,\"#e6f5d0\"],[0.7,\"#b8e186\"],[0.8,\"#7fbc41\"],[0.9,\"#4d9221\"],[1,\"#276419\"]]},\"xaxis\":{\"gridcolor\":\"white\",\"linecolor\":\"white\",\"ticks\":\"\",\"title\":{\"standoff\":15},\"zerolinecolor\":\"white\",\"automargin\":true,\"zerolinewidth\":2},\"yaxis\":{\"gridcolor\":\"white\",\"linecolor\":\"white\",\"ticks\":\"\",\"title\":{\"standoff\":15},\"zerolinecolor\":\"white\",\"automargin\":true,\"zerolinewidth\":2},\"scene\":{\"xaxis\":{\"backgroundcolor\":\"#E5ECF6\",\"gridcolor\":\"white\",\"linecolor\":\"white\",\"showbackground\":true,\"ticks\":\"\",\"zerolinecolor\":\"white\",\"gridwidth\":2},\"yaxis\":{\"backgroundcolor\":\"#E5ECF6\",\"gridcolor\":\"white\",\"linecolor\":\"white\",\"showbackground\":true,\"ticks\":\"\",\"zerolinecolor\":\"white\",\"gridwidth\":2},\"zaxis\":{\"backgroundcolor\":\"#E5ECF6\",\"gridcolor\":\"white\",\"linecolor\":\"white\",\"showbackground\":true,\"ticks\":\"\",\"zerolinecolor\":\"white\",\"gridwidth\":2}},\"shapedefaults\":{\"line\":{\"color\":\"#2a3f5f\"}},\"annotationdefaults\":{\"arrowcolor\":\"#2a3f5f\",\"arrowhead\":0,\"arrowwidth\":1},\"geo\":{\"bgcolor\":\"white\",\"landcolor\":\"#E5ECF6\",\"subunitcolor\":\"white\",\"showland\":true,\"showlakes\":true,\"lakecolor\":\"white\"},\"title\":{\"x\":0.05},\"mapbox\":{\"style\":\"light\"}}},\"xaxis\":{\"anchor\":\"y\",\"domain\":[0.0,1.0],\"title\":{\"text\":\"DATE\"}},\"yaxis\":{\"anchor\":\"x\",\"domain\":[0.0,1.0],\"title\":{\"text\":\"sum of TAVG\"},\"categoryorder\":\"array\",\"categoryarray\":[18.78450195171317,15.726911592885887,10.483335386131296,3.2442150231399074,-1.799230313795145,-9.790134062215282,-13.964275668073135]},\"legend\":{\"title\":{\"text\":\"TAVG\"},\"tracegroupgap\":0},\"title\":{\"text\":\"The sum of TAVG Monthly of Russia\"},\"barmode\":\"relative\"},                        {\"responsive\": true}                    ).then(function(){\n",
              "                            \n",
              "var gd = document.getElementById('8685a450-fa09-4d01-9175-1358c7a0541e');\n",
              "var x = new MutationObserver(function (mutations, observer) {{\n",
              "        var display = window.getComputedStyle(gd).display;\n",
              "        if (!display || display === 'none') {{\n",
              "            console.log([gd, 'removed!']);\n",
              "            Plotly.purge(gd);\n",
              "            observer.disconnect();\n",
              "        }}\n",
              "}});\n",
              "\n",
              "// Listen for the removal of the full notebook cells\n",
              "var notebookContainer = gd.closest('#notebook-container');\n",
              "if (notebookContainer) {{\n",
              "    x.observe(notebookContainer, {childList: true});\n",
              "}}\n",
              "\n",
              "// Listen for the clearing of the current output cell\n",
              "var outputEl = gd.closest('.output');\n",
              "if (outputEl) {{\n",
              "    x.observe(outputEl, {childList: true});\n",
              "}}\n",
              "\n",
              "                        })                };                            </script>        </div>\n",
              "</body>\n",
              "</html>"
            ]
          },
          "metadata": {}
        }
      ],
      "source": [
        "russia_copy = russia_data.copy()\n",
        "russia_copy.set_index('DATE', inplace=True)\n",
        "russia_seasonal = russia_copy.resample('M').mean(numeric_only=True)[['TAVG', 'TMAX', 'TMIN']]\n",
        "russia_seasonal_df = pd.DataFrame(russia_seasonal)\n",
        "px.histogram(russia_seasonal_df,\n",
        "             x=russia_seasonal_df.index, y='TAVG',\n",
        "             color='TAVG',\n",
        "             nbins=7,\n",
        "             title='The sum of TAVG Monthly of Russia')"
      ]
    },
    {
      "cell_type": "markdown",
      "metadata": {
        "id": "_ZCn57X5dU-F"
      },
      "source": [
        "# Netherlands"
      ]
    },
    {
      "cell_type": "code",
      "execution_count": 395,
      "metadata": {
        "id": "kTK1jdwrdvzW"
      },
      "outputs": [],
      "source": [
        "netherland_data = data[data['Country/Region'] == 'Netherlands']"
      ]
    },
    {
      "cell_type": "code",
      "execution_count": 396,
      "metadata": {
        "colab": {
          "base_uri": "https://localhost:8080/"
        },
        "id": "oNzYu6e7dvzX",
        "outputId": "1544bd66-581c-4a7a-e75e-b08c075f2ca6"
      },
      "outputs": [
        {
          "output_type": "execute_result",
          "data": {
            "text/plain": [
              "(64137, 11)"
            ]
          },
          "metadata": {},
          "execution_count": 396
        }
      ],
      "source": [
        "netherland_data.shape"
      ]
    },
    {
      "cell_type": "code",
      "execution_count": 397,
      "metadata": {
        "colab": {
          "base_uri": "https://localhost:8080/"
        },
        "id": "cCKXw0GDdvzZ",
        "outputId": "ba81ca76-0899-4c2e-ec27-d668e106bcf5"
      },
      "outputs": [
        {
          "output_type": "execute_result",
          "data": {
            "text/plain": [
              "STATION               0\n",
              "Country/Region        0\n",
              "DATE                  0\n",
              "Year                  0\n",
              "Month                 0\n",
              "Day                   0\n",
              "PRCP                978\n",
              "SNWD               6926\n",
              "TAVG              63197\n",
              "TMAX              58149\n",
              "TMIN              58045\n",
              "dtype: int64"
            ]
          },
          "metadata": {},
          "execution_count": 397
        }
      ],
      "source": [
        "netherland_data.isnull().sum()"
      ]
    },
    {
      "cell_type": "code",
      "execution_count": 398,
      "metadata": {
        "id": "ISE3L2Nhdvza"
      },
      "outputs": [],
      "source": [
        "# calculating the percentage of missig values\n",
        "missing_percentage = (netherland_data.isnull().sum() / len(netherland_data)) * 100"
      ]
    },
    {
      "cell_type": "code",
      "execution_count": 399,
      "metadata": {
        "colab": {
          "base_uri": "https://localhost:8080/"
        },
        "id": "fn6TP99odvzb",
        "outputId": "5acb0256-959a-4b7f-ae13-fdd8b2dec1a8"
      },
      "outputs": [
        {
          "output_type": "stream",
          "name": "stdout",
          "text": [
            "STATION            0.000000\n",
            "Country/Region     0.000000\n",
            "DATE               0.000000\n",
            "Year               0.000000\n",
            "Month              0.000000\n",
            "Day                0.000000\n",
            "PRCP               1.524861\n",
            "SNWD              10.798759\n",
            "TAVG              98.534387\n",
            "TMAX              90.663735\n",
            "TMIN              90.501583\n",
            "dtype: float64\n"
          ]
        }
      ],
      "source": [
        "print(missing_percentage)"
      ]
    },
    {
      "cell_type": "code",
      "execution_count": 400,
      "metadata": {
        "id": "C7UBFiuztS1p"
      },
      "outputs": [],
      "source": [
        "# Drop rows with null values in both 'TMIN' and 'TMAX' columns\n",
        "netherland_data = netherland_data.dropna(subset=['TMIN', 'TMAX'])"
      ]
    },
    {
      "cell_type": "code",
      "execution_count": 401,
      "metadata": {
        "id": "U8V05EhKtS1q",
        "colab": {
          "base_uri": "https://localhost:8080/"
        },
        "outputId": "79632c8d-76c1-4ac0-9f4f-51ca7c944400"
      },
      "outputs": [
        {
          "output_type": "stream",
          "name": "stderr",
          "text": [
            "<ipython-input-401-a01dd7d0cd1c>:2: SettingWithCopyWarning:\n",
            "\n",
            "\n",
            "A value is trying to be set on a copy of a slice from a DataFrame\n",
            "\n",
            "See the caveats in the documentation: https://pandas.pydata.org/pandas-docs/stable/user_guide/indexing.html#returning-a-view-versus-a-copy\n",
            "\n"
          ]
        }
      ],
      "source": [
        "# Fill null values in 'TAVG' with the average of 'TMIN' and 'TMAX'\n",
        "netherland_data['TAVG'].fillna((netherland_data['TMIN'] + netherland_data['TMAX']) / 2, inplace=True)"
      ]
    },
    {
      "cell_type": "code",
      "execution_count": 402,
      "metadata": {
        "id": "gcYl7-LoXzQL"
      },
      "outputs": [],
      "source": [
        "# Drop rows where 'PRCP' is null\n",
        "netherland_data = netherland_data.dropna(subset=['PRCP'])"
      ]
    },
    {
      "cell_type": "code",
      "execution_count": 403,
      "metadata": {
        "colab": {
          "base_uri": "https://localhost:8080/"
        },
        "id": "KYJszMRJtS1r",
        "outputId": "edb90360-a474-4f9e-b63a-af258bccddb9"
      },
      "outputs": [
        {
          "output_type": "execute_result",
          "data": {
            "text/plain": [
              "STATION              0\n",
              "Country/Region       0\n",
              "DATE                 0\n",
              "Year                 0\n",
              "Month                0\n",
              "Day                  0\n",
              "PRCP                 0\n",
              "SNWD              5199\n",
              "TAVG                 0\n",
              "TMAX                 0\n",
              "TMIN                 0\n",
              "dtype: int64"
            ]
          },
          "metadata": {},
          "execution_count": 403
        }
      ],
      "source": [
        "netherland_data.isnull().sum()"
      ]
    },
    {
      "cell_type": "code",
      "execution_count": 404,
      "metadata": {
        "colab": {
          "base_uri": "https://localhost:8080/"
        },
        "id": "5S0TB9xPgCtv",
        "outputId": "85b23c1b-ef4a-4ba6-d3ed-2c39cb1aa7c8"
      },
      "outputs": [
        {
          "output_type": "stream",
          "name": "stdout",
          "text": [
            "Starting month : 1\n",
            "Ending month : 7\n"
          ]
        }
      ],
      "source": [
        "print('Starting month :', netherland_data['Month'].min())\n",
        "print('Ending month :', netherland_data['Month'].max())"
      ]
    },
    {
      "cell_type": "code",
      "execution_count": 405,
      "metadata": {
        "colab": {
          "base_uri": "https://localhost:8080/",
          "height": 0
        },
        "id": "LqOjb1xEdrZy",
        "outputId": "89fb9e92-b1f3-4c6f-99cd-a42303f5f1d2"
      },
      "outputs": [
        {
          "output_type": "display_data",
          "data": {
            "text/html": [
              "<html>\n",
              "<head><meta charset=\"utf-8\" /></head>\n",
              "<body>\n",
              "    <div>            <script src=\"https://cdnjs.cloudflare.com/ajax/libs/mathjax/2.7.5/MathJax.js?config=TeX-AMS-MML_SVG\"></script><script type=\"text/javascript\">if (window.MathJax && window.MathJax.Hub && window.MathJax.Hub.Config) {window.MathJax.Hub.Config({SVG: {font: \"STIX-Web\"}});}</script>                <script type=\"text/javascript\">window.PlotlyConfig = {MathJaxConfig: 'local'};</script>\n",
              "        <script charset=\"utf-8\" src=\"https://cdn.plot.ly/plotly-2.24.1.min.js\"></script>                <div id=\"5b9f6030-a9e0-44f8-a1d5-a695bb4d4038\" class=\"plotly-graph-div\" style=\"height:525px; width:100%;\"></div>            <script type=\"text/javascript\">                                    window.PLOTLYENV=window.PLOTLYENV || {};                                    if (document.getElementById(\"5b9f6030-a9e0-44f8-a1d5-a695bb4d4038\")) {                    Plotly.newPlot(                        \"5b9f6030-a9e0-44f8-a1d5-a695bb4d4038\",                        [{\"alignmentgroup\":\"True\",\"bingroup\":\"x\",\"histfunc\":\"sum\",\"hovertemplate\":\"TAVG=5.480769230769231\\u003cbr\\u003eDATE=%{x}\\u003cbr\\u003esum of TAVG=%{y}\\u003cextra\\u003e\\u003c\\u002fextra\\u003e\",\"legendgroup\":\"5.480769230769231\",\"marker\":{\"color\":\"#636efa\",\"pattern\":{\"shape\":\"\"}},\"name\":\"5.480769230769231\",\"nbinsx\":7,\"offsetgroup\":\"5.480769230769231\",\"orientation\":\"v\",\"showlegend\":true,\"x\":[\"2020-01-31T00:00:00\"],\"xaxis\":\"x\",\"y\":[5.480769230769231],\"yaxis\":\"y\",\"type\":\"histogram\"},{\"alignmentgroup\":\"True\",\"bingroup\":\"x\",\"histfunc\":\"sum\",\"hovertemplate\":\"TAVG=6.8422413793103445\\u003cbr\\u003eDATE=%{x}\\u003cbr\\u003esum of TAVG=%{y}\\u003cextra\\u003e\\u003c\\u002fextra\\u003e\",\"legendgroup\":\"6.8422413793103445\",\"marker\":{\"color\":\"#EF553B\",\"pattern\":{\"shape\":\"\"}},\"name\":\"6.8422413793103445\",\"nbinsx\":7,\"offsetgroup\":\"6.8422413793103445\",\"orientation\":\"v\",\"showlegend\":true,\"x\":[\"2020-02-29T00:00:00\"],\"xaxis\":\"x\",\"y\":[6.8422413793103445],\"yaxis\":\"y\",\"type\":\"histogram\"},{\"alignmentgroup\":\"True\",\"bingroup\":\"x\",\"histfunc\":\"sum\",\"hovertemplate\":\"TAVG=6.640376344086022\\u003cbr\\u003eDATE=%{x}\\u003cbr\\u003esum of TAVG=%{y}\\u003cextra\\u003e\\u003c\\u002fextra\\u003e\",\"legendgroup\":\"6.640376344086022\",\"marker\":{\"color\":\"#00cc96\",\"pattern\":{\"shape\":\"\"}},\"name\":\"6.640376344086022\",\"nbinsx\":7,\"offsetgroup\":\"6.640376344086022\",\"orientation\":\"v\",\"showlegend\":true,\"x\":[\"2020-03-31T00:00:00\"],\"xaxis\":\"x\",\"y\":[6.640376344086022],\"yaxis\":\"y\",\"type\":\"histogram\"},{\"alignmentgroup\":\"True\",\"bingroup\":\"x\",\"histfunc\":\"sum\",\"hovertemplate\":\"TAVG=10.708208955223881\\u003cbr\\u003eDATE=%{x}\\u003cbr\\u003esum of TAVG=%{y}\\u003cextra\\u003e\\u003c\\u002fextra\\u003e\",\"legendgroup\":\"10.708208955223881\",\"marker\":{\"color\":\"#ab63fa\",\"pattern\":{\"shape\":\"\"}},\"name\":\"10.708208955223881\",\"nbinsx\":7,\"offsetgroup\":\"10.708208955223881\",\"orientation\":\"v\",\"showlegend\":true,\"x\":[\"2020-04-30T00:00:00\"],\"xaxis\":\"x\",\"y\":[10.708208955223881],\"yaxis\":\"y\",\"type\":\"histogram\"},{\"alignmentgroup\":\"True\",\"bingroup\":\"x\",\"histfunc\":\"sum\",\"hovertemplate\":\"TAVG=12.565247844827585\\u003cbr\\u003eDATE=%{x}\\u003cbr\\u003esum of TAVG=%{y}\\u003cextra\\u003e\\u003c\\u002fextra\\u003e\",\"legendgroup\":\"12.565247844827585\",\"marker\":{\"color\":\"#FFA15A\",\"pattern\":{\"shape\":\"\"}},\"name\":\"12.565247844827585\",\"nbinsx\":7,\"offsetgroup\":\"12.565247844827585\",\"orientation\":\"v\",\"showlegend\":true,\"x\":[\"2020-05-31T00:00:00\"],\"xaxis\":\"x\",\"y\":[12.565247844827585],\"yaxis\":\"y\",\"type\":\"histogram\"},{\"alignmentgroup\":\"True\",\"bingroup\":\"x\",\"histfunc\":\"sum\",\"hovertemplate\":\"TAVG=17.284336677814938\\u003cbr\\u003eDATE=%{x}\\u003cbr\\u003esum of TAVG=%{y}\\u003cextra\\u003e\\u003c\\u002fextra\\u003e\",\"legendgroup\":\"17.284336677814938\",\"marker\":{\"color\":\"#19d3f3\",\"pattern\":{\"shape\":\"\"}},\"name\":\"17.284336677814938\",\"nbinsx\":7,\"offsetgroup\":\"17.284336677814938\",\"orientation\":\"v\",\"showlegend\":true,\"x\":[\"2020-06-30T00:00:00\"],\"xaxis\":\"x\",\"y\":[17.284336677814938],\"yaxis\":\"y\",\"type\":\"histogram\"},{\"alignmentgroup\":\"True\",\"bingroup\":\"x\",\"histfunc\":\"sum\",\"hovertemplate\":\"TAVG=16.368222506393863\\u003cbr\\u003eDATE=%{x}\\u003cbr\\u003esum of TAVG=%{y}\\u003cextra\\u003e\\u003c\\u002fextra\\u003e\",\"legendgroup\":\"16.368222506393863\",\"marker\":{\"color\":\"#FF6692\",\"pattern\":{\"shape\":\"\"}},\"name\":\"16.368222506393863\",\"nbinsx\":7,\"offsetgroup\":\"16.368222506393863\",\"orientation\":\"v\",\"showlegend\":true,\"x\":[\"2020-07-31T00:00:00\"],\"xaxis\":\"x\",\"y\":[16.368222506393863],\"yaxis\":\"y\",\"type\":\"histogram\"}],                        {\"template\":{\"data\":{\"histogram2dcontour\":[{\"type\":\"histogram2dcontour\",\"colorbar\":{\"outlinewidth\":0,\"ticks\":\"\"},\"colorscale\":[[0.0,\"#0d0887\"],[0.1111111111111111,\"#46039f\"],[0.2222222222222222,\"#7201a8\"],[0.3333333333333333,\"#9c179e\"],[0.4444444444444444,\"#bd3786\"],[0.5555555555555556,\"#d8576b\"],[0.6666666666666666,\"#ed7953\"],[0.7777777777777778,\"#fb9f3a\"],[0.8888888888888888,\"#fdca26\"],[1.0,\"#f0f921\"]]}],\"choropleth\":[{\"type\":\"choropleth\",\"colorbar\":{\"outlinewidth\":0,\"ticks\":\"\"}}],\"histogram2d\":[{\"type\":\"histogram2d\",\"colorbar\":{\"outlinewidth\":0,\"ticks\":\"\"},\"colorscale\":[[0.0,\"#0d0887\"],[0.1111111111111111,\"#46039f\"],[0.2222222222222222,\"#7201a8\"],[0.3333333333333333,\"#9c179e\"],[0.4444444444444444,\"#bd3786\"],[0.5555555555555556,\"#d8576b\"],[0.6666666666666666,\"#ed7953\"],[0.7777777777777778,\"#fb9f3a\"],[0.8888888888888888,\"#fdca26\"],[1.0,\"#f0f921\"]]}],\"heatmap\":[{\"type\":\"heatmap\",\"colorbar\":{\"outlinewidth\":0,\"ticks\":\"\"},\"colorscale\":[[0.0,\"#0d0887\"],[0.1111111111111111,\"#46039f\"],[0.2222222222222222,\"#7201a8\"],[0.3333333333333333,\"#9c179e\"],[0.4444444444444444,\"#bd3786\"],[0.5555555555555556,\"#d8576b\"],[0.6666666666666666,\"#ed7953\"],[0.7777777777777778,\"#fb9f3a\"],[0.8888888888888888,\"#fdca26\"],[1.0,\"#f0f921\"]]}],\"heatmapgl\":[{\"type\":\"heatmapgl\",\"colorbar\":{\"outlinewidth\":0,\"ticks\":\"\"},\"colorscale\":[[0.0,\"#0d0887\"],[0.1111111111111111,\"#46039f\"],[0.2222222222222222,\"#7201a8\"],[0.3333333333333333,\"#9c179e\"],[0.4444444444444444,\"#bd3786\"],[0.5555555555555556,\"#d8576b\"],[0.6666666666666666,\"#ed7953\"],[0.7777777777777778,\"#fb9f3a\"],[0.8888888888888888,\"#fdca26\"],[1.0,\"#f0f921\"]]}],\"contourcarpet\":[{\"type\":\"contourcarpet\",\"colorbar\":{\"outlinewidth\":0,\"ticks\":\"\"}}],\"contour\":[{\"type\":\"contour\",\"colorbar\":{\"outlinewidth\":0,\"ticks\":\"\"},\"colorscale\":[[0.0,\"#0d0887\"],[0.1111111111111111,\"#46039f\"],[0.2222222222222222,\"#7201a8\"],[0.3333333333333333,\"#9c179e\"],[0.4444444444444444,\"#bd3786\"],[0.5555555555555556,\"#d8576b\"],[0.6666666666666666,\"#ed7953\"],[0.7777777777777778,\"#fb9f3a\"],[0.8888888888888888,\"#fdca26\"],[1.0,\"#f0f921\"]]}],\"surface\":[{\"type\":\"surface\",\"colorbar\":{\"outlinewidth\":0,\"ticks\":\"\"},\"colorscale\":[[0.0,\"#0d0887\"],[0.1111111111111111,\"#46039f\"],[0.2222222222222222,\"#7201a8\"],[0.3333333333333333,\"#9c179e\"],[0.4444444444444444,\"#bd3786\"],[0.5555555555555556,\"#d8576b\"],[0.6666666666666666,\"#ed7953\"],[0.7777777777777778,\"#fb9f3a\"],[0.8888888888888888,\"#fdca26\"],[1.0,\"#f0f921\"]]}],\"mesh3d\":[{\"type\":\"mesh3d\",\"colorbar\":{\"outlinewidth\":0,\"ticks\":\"\"}}],\"scatter\":[{\"fillpattern\":{\"fillmode\":\"overlay\",\"size\":10,\"solidity\":0.2},\"type\":\"scatter\"}],\"parcoords\":[{\"type\":\"parcoords\",\"line\":{\"colorbar\":{\"outlinewidth\":0,\"ticks\":\"\"}}}],\"scatterpolargl\":[{\"type\":\"scatterpolargl\",\"marker\":{\"colorbar\":{\"outlinewidth\":0,\"ticks\":\"\"}}}],\"bar\":[{\"error_x\":{\"color\":\"#2a3f5f\"},\"error_y\":{\"color\":\"#2a3f5f\"},\"marker\":{\"line\":{\"color\":\"#E5ECF6\",\"width\":0.5},\"pattern\":{\"fillmode\":\"overlay\",\"size\":10,\"solidity\":0.2}},\"type\":\"bar\"}],\"scattergeo\":[{\"type\":\"scattergeo\",\"marker\":{\"colorbar\":{\"outlinewidth\":0,\"ticks\":\"\"}}}],\"scatterpolar\":[{\"type\":\"scatterpolar\",\"marker\":{\"colorbar\":{\"outlinewidth\":0,\"ticks\":\"\"}}}],\"histogram\":[{\"marker\":{\"pattern\":{\"fillmode\":\"overlay\",\"size\":10,\"solidity\":0.2}},\"type\":\"histogram\"}],\"scattergl\":[{\"type\":\"scattergl\",\"marker\":{\"colorbar\":{\"outlinewidth\":0,\"ticks\":\"\"}}}],\"scatter3d\":[{\"type\":\"scatter3d\",\"line\":{\"colorbar\":{\"outlinewidth\":0,\"ticks\":\"\"}},\"marker\":{\"colorbar\":{\"outlinewidth\":0,\"ticks\":\"\"}}}],\"scattermapbox\":[{\"type\":\"scattermapbox\",\"marker\":{\"colorbar\":{\"outlinewidth\":0,\"ticks\":\"\"}}}],\"scatterternary\":[{\"type\":\"scatterternary\",\"marker\":{\"colorbar\":{\"outlinewidth\":0,\"ticks\":\"\"}}}],\"scattercarpet\":[{\"type\":\"scattercarpet\",\"marker\":{\"colorbar\":{\"outlinewidth\":0,\"ticks\":\"\"}}}],\"carpet\":[{\"aaxis\":{\"endlinecolor\":\"#2a3f5f\",\"gridcolor\":\"white\",\"linecolor\":\"white\",\"minorgridcolor\":\"white\",\"startlinecolor\":\"#2a3f5f\"},\"baxis\":{\"endlinecolor\":\"#2a3f5f\",\"gridcolor\":\"white\",\"linecolor\":\"white\",\"minorgridcolor\":\"white\",\"startlinecolor\":\"#2a3f5f\"},\"type\":\"carpet\"}],\"table\":[{\"cells\":{\"fill\":{\"color\":\"#EBF0F8\"},\"line\":{\"color\":\"white\"}},\"header\":{\"fill\":{\"color\":\"#C8D4E3\"},\"line\":{\"color\":\"white\"}},\"type\":\"table\"}],\"barpolar\":[{\"marker\":{\"line\":{\"color\":\"#E5ECF6\",\"width\":0.5},\"pattern\":{\"fillmode\":\"overlay\",\"size\":10,\"solidity\":0.2}},\"type\":\"barpolar\"}],\"pie\":[{\"automargin\":true,\"type\":\"pie\"}]},\"layout\":{\"autotypenumbers\":\"strict\",\"colorway\":[\"#636efa\",\"#EF553B\",\"#00cc96\",\"#ab63fa\",\"#FFA15A\",\"#19d3f3\",\"#FF6692\",\"#B6E880\",\"#FF97FF\",\"#FECB52\"],\"font\":{\"color\":\"#2a3f5f\"},\"hovermode\":\"closest\",\"hoverlabel\":{\"align\":\"left\"},\"paper_bgcolor\":\"white\",\"plot_bgcolor\":\"#E5ECF6\",\"polar\":{\"bgcolor\":\"#E5ECF6\",\"angularaxis\":{\"gridcolor\":\"white\",\"linecolor\":\"white\",\"ticks\":\"\"},\"radialaxis\":{\"gridcolor\":\"white\",\"linecolor\":\"white\",\"ticks\":\"\"}},\"ternary\":{\"bgcolor\":\"#E5ECF6\",\"aaxis\":{\"gridcolor\":\"white\",\"linecolor\":\"white\",\"ticks\":\"\"},\"baxis\":{\"gridcolor\":\"white\",\"linecolor\":\"white\",\"ticks\":\"\"},\"caxis\":{\"gridcolor\":\"white\",\"linecolor\":\"white\",\"ticks\":\"\"}},\"coloraxis\":{\"colorbar\":{\"outlinewidth\":0,\"ticks\":\"\"}},\"colorscale\":{\"sequential\":[[0.0,\"#0d0887\"],[0.1111111111111111,\"#46039f\"],[0.2222222222222222,\"#7201a8\"],[0.3333333333333333,\"#9c179e\"],[0.4444444444444444,\"#bd3786\"],[0.5555555555555556,\"#d8576b\"],[0.6666666666666666,\"#ed7953\"],[0.7777777777777778,\"#fb9f3a\"],[0.8888888888888888,\"#fdca26\"],[1.0,\"#f0f921\"]],\"sequentialminus\":[[0.0,\"#0d0887\"],[0.1111111111111111,\"#46039f\"],[0.2222222222222222,\"#7201a8\"],[0.3333333333333333,\"#9c179e\"],[0.4444444444444444,\"#bd3786\"],[0.5555555555555556,\"#d8576b\"],[0.6666666666666666,\"#ed7953\"],[0.7777777777777778,\"#fb9f3a\"],[0.8888888888888888,\"#fdca26\"],[1.0,\"#f0f921\"]],\"diverging\":[[0,\"#8e0152\"],[0.1,\"#c51b7d\"],[0.2,\"#de77ae\"],[0.3,\"#f1b6da\"],[0.4,\"#fde0ef\"],[0.5,\"#f7f7f7\"],[0.6,\"#e6f5d0\"],[0.7,\"#b8e186\"],[0.8,\"#7fbc41\"],[0.9,\"#4d9221\"],[1,\"#276419\"]]},\"xaxis\":{\"gridcolor\":\"white\",\"linecolor\":\"white\",\"ticks\":\"\",\"title\":{\"standoff\":15},\"zerolinecolor\":\"white\",\"automargin\":true,\"zerolinewidth\":2},\"yaxis\":{\"gridcolor\":\"white\",\"linecolor\":\"white\",\"ticks\":\"\",\"title\":{\"standoff\":15},\"zerolinecolor\":\"white\",\"automargin\":true,\"zerolinewidth\":2},\"scene\":{\"xaxis\":{\"backgroundcolor\":\"#E5ECF6\",\"gridcolor\":\"white\",\"linecolor\":\"white\",\"showbackground\":true,\"ticks\":\"\",\"zerolinecolor\":\"white\",\"gridwidth\":2},\"yaxis\":{\"backgroundcolor\":\"#E5ECF6\",\"gridcolor\":\"white\",\"linecolor\":\"white\",\"showbackground\":true,\"ticks\":\"\",\"zerolinecolor\":\"white\",\"gridwidth\":2},\"zaxis\":{\"backgroundcolor\":\"#E5ECF6\",\"gridcolor\":\"white\",\"linecolor\":\"white\",\"showbackground\":true,\"ticks\":\"\",\"zerolinecolor\":\"white\",\"gridwidth\":2}},\"shapedefaults\":{\"line\":{\"color\":\"#2a3f5f\"}},\"annotationdefaults\":{\"arrowcolor\":\"#2a3f5f\",\"arrowhead\":0,\"arrowwidth\":1},\"geo\":{\"bgcolor\":\"white\",\"landcolor\":\"#E5ECF6\",\"subunitcolor\":\"white\",\"showland\":true,\"showlakes\":true,\"lakecolor\":\"white\"},\"title\":{\"x\":0.05},\"mapbox\":{\"style\":\"light\"}}},\"xaxis\":{\"anchor\":\"y\",\"domain\":[0.0,1.0],\"title\":{\"text\":\"DATE\"}},\"yaxis\":{\"anchor\":\"x\",\"domain\":[0.0,1.0],\"title\":{\"text\":\"sum of TAVG\"},\"categoryorder\":\"array\",\"categoryarray\":[16.368222506393863,17.284336677814938,12.565247844827585,10.708208955223881,6.640376344086022,6.8422413793103445,5.480769230769231]},\"legend\":{\"title\":{\"text\":\"TAVG\"},\"tracegroupgap\":0},\"title\":{\"text\":\"The sum of TAVG Monthly of Netherlands\"},\"barmode\":\"relative\"},                        {\"responsive\": true}                    ).then(function(){\n",
              "                            \n",
              "var gd = document.getElementById('5b9f6030-a9e0-44f8-a1d5-a695bb4d4038');\n",
              "var x = new MutationObserver(function (mutations, observer) {{\n",
              "        var display = window.getComputedStyle(gd).display;\n",
              "        if (!display || display === 'none') {{\n",
              "            console.log([gd, 'removed!']);\n",
              "            Plotly.purge(gd);\n",
              "            observer.disconnect();\n",
              "        }}\n",
              "}});\n",
              "\n",
              "// Listen for the removal of the full notebook cells\n",
              "var notebookContainer = gd.closest('#notebook-container');\n",
              "if (notebookContainer) {{\n",
              "    x.observe(notebookContainer, {childList: true});\n",
              "}}\n",
              "\n",
              "// Listen for the clearing of the current output cell\n",
              "var outputEl = gd.closest('.output');\n",
              "if (outputEl) {{\n",
              "    x.observe(outputEl, {childList: true});\n",
              "}}\n",
              "\n",
              "                        })                };                            </script>        </div>\n",
              "</body>\n",
              "</html>"
            ]
          },
          "metadata": {}
        }
      ],
      "source": [
        "netherland_copy = netherland_data.copy()\n",
        "netherland_copy.set_index('DATE', inplace=True)\n",
        "netherland_seasonal = netherland_copy.resample('M').mean(numeric_only=True)[['TAVG', 'TMAX', 'TMIN']]\n",
        "netherland_seasonal_df = pd.DataFrame(netherland_seasonal)\n",
        "px.histogram(netherland_seasonal_df,\n",
        "             x=netherland_seasonal_df.index, y='TAVG',\n",
        "             color='TAVG',\n",
        "             nbins=7,\n",
        "             title='The sum of TAVG Monthly of Netherlands')"
      ]
    },
    {
      "cell_type": "markdown",
      "metadata": {
        "id": "ZCaw4h5LbiYx"
      },
      "source": [
        "# Concat all the dataframes\n",
        "## Dataset is made from data of 6 countries - US, Canada, Sweden, Germany, Russia, Netherland"
      ]
    },
    {
      "cell_type": "code",
      "execution_count": 406,
      "metadata": {
        "id": "2JwFMeTybhuB"
      },
      "outputs": [],
      "source": [
        "data1 = pd.concat([us_data, canada_data, sweden_data, germany_data, russia_data, netherland_data], axis=0).reset_index()"
      ]
    },
    {
      "cell_type": "code",
      "execution_count": 407,
      "metadata": {
        "colab": {
          "base_uri": "https://localhost:8080/",
          "height": 206
        },
        "id": "M_CiLTSOcQZe",
        "outputId": "9af9eed8-797a-4291-85e7-59428fff35f0"
      },
      "outputs": [
        {
          "output_type": "execute_result",
          "data": {
            "text/plain": [
              "   index      STATION Country/Region       DATE  Year  Month  Day  PRCP  SNWD  \\\n",
              "0  20113  USW00023055             US 2020-01-22  2020      1   22   0.0   NaN   \n",
              "1  20114  USW00023055             US 2020-01-23  2020      1   23   0.0   NaN   \n",
              "2  20115  USW00023055             US 2020-01-24  2020      1   24   0.0   NaN   \n",
              "3  20116  USW00023055             US 2020-01-25  2020      1   25   0.0   NaN   \n",
              "4  20117  USW00023055             US 2020-01-26  2020      1   26   0.0   NaN   \n",
              "\n",
              "   TAVG  TMAX  TMIN  \n",
              "0  7.50  12.8   2.2  \n",
              "1  7.25  12.8   1.7  \n",
              "2  8.85  14.4   3.3  \n",
              "3  9.70  16.1   3.3  \n",
              "4  9.20  15.6   2.8  "
            ],
            "text/html": [
              "\n",
              "  <div id=\"df-8f1b42ad-b31b-4ee9-bcd8-64479253f3a8\" class=\"colab-df-container\">\n",
              "    <div>\n",
              "<style scoped>\n",
              "    .dataframe tbody tr th:only-of-type {\n",
              "        vertical-align: middle;\n",
              "    }\n",
              "\n",
              "    .dataframe tbody tr th {\n",
              "        vertical-align: top;\n",
              "    }\n",
              "\n",
              "    .dataframe thead th {\n",
              "        text-align: right;\n",
              "    }\n",
              "</style>\n",
              "<table border=\"1\" class=\"dataframe\">\n",
              "  <thead>\n",
              "    <tr style=\"text-align: right;\">\n",
              "      <th></th>\n",
              "      <th>index</th>\n",
              "      <th>STATION</th>\n",
              "      <th>Country/Region</th>\n",
              "      <th>DATE</th>\n",
              "      <th>Year</th>\n",
              "      <th>Month</th>\n",
              "      <th>Day</th>\n",
              "      <th>PRCP</th>\n",
              "      <th>SNWD</th>\n",
              "      <th>TAVG</th>\n",
              "      <th>TMAX</th>\n",
              "      <th>TMIN</th>\n",
              "    </tr>\n",
              "  </thead>\n",
              "  <tbody>\n",
              "    <tr>\n",
              "      <th>0</th>\n",
              "      <td>20113</td>\n",
              "      <td>USW00023055</td>\n",
              "      <td>US</td>\n",
              "      <td>2020-01-22</td>\n",
              "      <td>2020</td>\n",
              "      <td>1</td>\n",
              "      <td>22</td>\n",
              "      <td>0.0</td>\n",
              "      <td>NaN</td>\n",
              "      <td>7.50</td>\n",
              "      <td>12.8</td>\n",
              "      <td>2.2</td>\n",
              "    </tr>\n",
              "    <tr>\n",
              "      <th>1</th>\n",
              "      <td>20114</td>\n",
              "      <td>USW00023055</td>\n",
              "      <td>US</td>\n",
              "      <td>2020-01-23</td>\n",
              "      <td>2020</td>\n",
              "      <td>1</td>\n",
              "      <td>23</td>\n",
              "      <td>0.0</td>\n",
              "      <td>NaN</td>\n",
              "      <td>7.25</td>\n",
              "      <td>12.8</td>\n",
              "      <td>1.7</td>\n",
              "    </tr>\n",
              "    <tr>\n",
              "      <th>2</th>\n",
              "      <td>20115</td>\n",
              "      <td>USW00023055</td>\n",
              "      <td>US</td>\n",
              "      <td>2020-01-24</td>\n",
              "      <td>2020</td>\n",
              "      <td>1</td>\n",
              "      <td>24</td>\n",
              "      <td>0.0</td>\n",
              "      <td>NaN</td>\n",
              "      <td>8.85</td>\n",
              "      <td>14.4</td>\n",
              "      <td>3.3</td>\n",
              "    </tr>\n",
              "    <tr>\n",
              "      <th>3</th>\n",
              "      <td>20116</td>\n",
              "      <td>USW00023055</td>\n",
              "      <td>US</td>\n",
              "      <td>2020-01-25</td>\n",
              "      <td>2020</td>\n",
              "      <td>1</td>\n",
              "      <td>25</td>\n",
              "      <td>0.0</td>\n",
              "      <td>NaN</td>\n",
              "      <td>9.70</td>\n",
              "      <td>16.1</td>\n",
              "      <td>3.3</td>\n",
              "    </tr>\n",
              "    <tr>\n",
              "      <th>4</th>\n",
              "      <td>20117</td>\n",
              "      <td>USW00023055</td>\n",
              "      <td>US</td>\n",
              "      <td>2020-01-26</td>\n",
              "      <td>2020</td>\n",
              "      <td>1</td>\n",
              "      <td>26</td>\n",
              "      <td>0.0</td>\n",
              "      <td>NaN</td>\n",
              "      <td>9.20</td>\n",
              "      <td>15.6</td>\n",
              "      <td>2.8</td>\n",
              "    </tr>\n",
              "  </tbody>\n",
              "</table>\n",
              "</div>\n",
              "    <div class=\"colab-df-buttons\">\n",
              "\n",
              "  <div class=\"colab-df-container\">\n",
              "    <button class=\"colab-df-convert\" onclick=\"convertToInteractive('df-8f1b42ad-b31b-4ee9-bcd8-64479253f3a8')\"\n",
              "            title=\"Convert this dataframe to an interactive table.\"\n",
              "            style=\"display:none;\">\n",
              "\n",
              "  <svg xmlns=\"http://www.w3.org/2000/svg\" height=\"24px\" viewBox=\"0 -960 960 960\">\n",
              "    <path d=\"M120-120v-720h720v720H120Zm60-500h600v-160H180v160Zm220 220h160v-160H400v160Zm0 220h160v-160H400v160ZM180-400h160v-160H180v160Zm440 0h160v-160H620v160ZM180-180h160v-160H180v160Zm440 0h160v-160H620v160Z\"/>\n",
              "  </svg>\n",
              "    </button>\n",
              "\n",
              "  <style>\n",
              "    .colab-df-container {\n",
              "      display:flex;\n",
              "      gap: 12px;\n",
              "    }\n",
              "\n",
              "    .colab-df-convert {\n",
              "      background-color: #E8F0FE;\n",
              "      border: none;\n",
              "      border-radius: 50%;\n",
              "      cursor: pointer;\n",
              "      display: none;\n",
              "      fill: #1967D2;\n",
              "      height: 32px;\n",
              "      padding: 0 0 0 0;\n",
              "      width: 32px;\n",
              "    }\n",
              "\n",
              "    .colab-df-convert:hover {\n",
              "      background-color: #E2EBFA;\n",
              "      box-shadow: 0px 1px 2px rgba(60, 64, 67, 0.3), 0px 1px 3px 1px rgba(60, 64, 67, 0.15);\n",
              "      fill: #174EA6;\n",
              "    }\n",
              "\n",
              "    .colab-df-buttons div {\n",
              "      margin-bottom: 4px;\n",
              "    }\n",
              "\n",
              "    [theme=dark] .colab-df-convert {\n",
              "      background-color: #3B4455;\n",
              "      fill: #D2E3FC;\n",
              "    }\n",
              "\n",
              "    [theme=dark] .colab-df-convert:hover {\n",
              "      background-color: #434B5C;\n",
              "      box-shadow: 0px 1px 3px 1px rgba(0, 0, 0, 0.15);\n",
              "      filter: drop-shadow(0px 1px 2px rgba(0, 0, 0, 0.3));\n",
              "      fill: #FFFFFF;\n",
              "    }\n",
              "  </style>\n",
              "\n",
              "    <script>\n",
              "      const buttonEl =\n",
              "        document.querySelector('#df-8f1b42ad-b31b-4ee9-bcd8-64479253f3a8 button.colab-df-convert');\n",
              "      buttonEl.style.display =\n",
              "        google.colab.kernel.accessAllowed ? 'block' : 'none';\n",
              "\n",
              "      async function convertToInteractive(key) {\n",
              "        const element = document.querySelector('#df-8f1b42ad-b31b-4ee9-bcd8-64479253f3a8');\n",
              "        const dataTable =\n",
              "          await google.colab.kernel.invokeFunction('convertToInteractive',\n",
              "                                                    [key], {});\n",
              "        if (!dataTable) return;\n",
              "\n",
              "        const docLinkHtml = 'Like what you see? Visit the ' +\n",
              "          '<a target=\"_blank\" href=https://colab.research.google.com/notebooks/data_table.ipynb>data table notebook</a>'\n",
              "          + ' to learn more about interactive tables.';\n",
              "        element.innerHTML = '';\n",
              "        dataTable['output_type'] = 'display_data';\n",
              "        await google.colab.output.renderOutput(dataTable, element);\n",
              "        const docLink = document.createElement('div');\n",
              "        docLink.innerHTML = docLinkHtml;\n",
              "        element.appendChild(docLink);\n",
              "      }\n",
              "    </script>\n",
              "  </div>\n",
              "\n",
              "\n",
              "<div id=\"df-884b9816-b9b7-480a-9caa-f42e8c466ebc\">\n",
              "  <button class=\"colab-df-quickchart\" onclick=\"quickchart('df-884b9816-b9b7-480a-9caa-f42e8c466ebc')\"\n",
              "            title=\"Suggest charts.\"\n",
              "            style=\"display:none;\">\n",
              "\n",
              "<svg xmlns=\"http://www.w3.org/2000/svg\" height=\"24px\"viewBox=\"0 0 24 24\"\n",
              "     width=\"24px\">\n",
              "    <g>\n",
              "        <path d=\"M19 3H5c-1.1 0-2 .9-2 2v14c0 1.1.9 2 2 2h14c1.1 0 2-.9 2-2V5c0-1.1-.9-2-2-2zM9 17H7v-7h2v7zm4 0h-2V7h2v10zm4 0h-2v-4h2v4z\"/>\n",
              "    </g>\n",
              "</svg>\n",
              "  </button>\n",
              "\n",
              "<style>\n",
              "  .colab-df-quickchart {\n",
              "      --bg-color: #E8F0FE;\n",
              "      --fill-color: #1967D2;\n",
              "      --hover-bg-color: #E2EBFA;\n",
              "      --hover-fill-color: #174EA6;\n",
              "      --disabled-fill-color: #AAA;\n",
              "      --disabled-bg-color: #DDD;\n",
              "  }\n",
              "\n",
              "  [theme=dark] .colab-df-quickchart {\n",
              "      --bg-color: #3B4455;\n",
              "      --fill-color: #D2E3FC;\n",
              "      --hover-bg-color: #434B5C;\n",
              "      --hover-fill-color: #FFFFFF;\n",
              "      --disabled-bg-color: #3B4455;\n",
              "      --disabled-fill-color: #666;\n",
              "  }\n",
              "\n",
              "  .colab-df-quickchart {\n",
              "    background-color: var(--bg-color);\n",
              "    border: none;\n",
              "    border-radius: 50%;\n",
              "    cursor: pointer;\n",
              "    display: none;\n",
              "    fill: var(--fill-color);\n",
              "    height: 32px;\n",
              "    padding: 0;\n",
              "    width: 32px;\n",
              "  }\n",
              "\n",
              "  .colab-df-quickchart:hover {\n",
              "    background-color: var(--hover-bg-color);\n",
              "    box-shadow: 0 1px 2px rgba(60, 64, 67, 0.3), 0 1px 3px 1px rgba(60, 64, 67, 0.15);\n",
              "    fill: var(--button-hover-fill-color);\n",
              "  }\n",
              "\n",
              "  .colab-df-quickchart-complete:disabled,\n",
              "  .colab-df-quickchart-complete:disabled:hover {\n",
              "    background-color: var(--disabled-bg-color);\n",
              "    fill: var(--disabled-fill-color);\n",
              "    box-shadow: none;\n",
              "  }\n",
              "\n",
              "  .colab-df-spinner {\n",
              "    border: 2px solid var(--fill-color);\n",
              "    border-color: transparent;\n",
              "    border-bottom-color: var(--fill-color);\n",
              "    animation:\n",
              "      spin 1s steps(1) infinite;\n",
              "  }\n",
              "\n",
              "  @keyframes spin {\n",
              "    0% {\n",
              "      border-color: transparent;\n",
              "      border-bottom-color: var(--fill-color);\n",
              "      border-left-color: var(--fill-color);\n",
              "    }\n",
              "    20% {\n",
              "      border-color: transparent;\n",
              "      border-left-color: var(--fill-color);\n",
              "      border-top-color: var(--fill-color);\n",
              "    }\n",
              "    30% {\n",
              "      border-color: transparent;\n",
              "      border-left-color: var(--fill-color);\n",
              "      border-top-color: var(--fill-color);\n",
              "      border-right-color: var(--fill-color);\n",
              "    }\n",
              "    40% {\n",
              "      border-color: transparent;\n",
              "      border-right-color: var(--fill-color);\n",
              "      border-top-color: var(--fill-color);\n",
              "    }\n",
              "    60% {\n",
              "      border-color: transparent;\n",
              "      border-right-color: var(--fill-color);\n",
              "    }\n",
              "    80% {\n",
              "      border-color: transparent;\n",
              "      border-right-color: var(--fill-color);\n",
              "      border-bottom-color: var(--fill-color);\n",
              "    }\n",
              "    90% {\n",
              "      border-color: transparent;\n",
              "      border-bottom-color: var(--fill-color);\n",
              "    }\n",
              "  }\n",
              "</style>\n",
              "\n",
              "  <script>\n",
              "    async function quickchart(key) {\n",
              "      const quickchartButtonEl =\n",
              "        document.querySelector('#' + key + ' button');\n",
              "      quickchartButtonEl.disabled = true;  // To prevent multiple clicks.\n",
              "      quickchartButtonEl.classList.add('colab-df-spinner');\n",
              "      try {\n",
              "        const charts = await google.colab.kernel.invokeFunction(\n",
              "            'suggestCharts', [key], {});\n",
              "      } catch (error) {\n",
              "        console.error('Error during call to suggestCharts:', error);\n",
              "      }\n",
              "      quickchartButtonEl.classList.remove('colab-df-spinner');\n",
              "      quickchartButtonEl.classList.add('colab-df-quickchart-complete');\n",
              "    }\n",
              "    (() => {\n",
              "      let quickchartButtonEl =\n",
              "        document.querySelector('#df-884b9816-b9b7-480a-9caa-f42e8c466ebc button');\n",
              "      quickchartButtonEl.style.display =\n",
              "        google.colab.kernel.accessAllowed ? 'block' : 'none';\n",
              "    })();\n",
              "  </script>\n",
              "</div>\n",
              "    </div>\n",
              "  </div>\n"
            ]
          },
          "metadata": {},
          "execution_count": 407
        }
      ],
      "source": [
        "data1.head()"
      ]
    },
    {
      "cell_type": "code",
      "execution_count": 408,
      "metadata": {
        "colab": {
          "base_uri": "https://localhost:8080/"
        },
        "id": "OurGO7CNcSse",
        "outputId": "8e52e6d9-c368-47a9-866f-75a1ad3a795f"
      },
      "outputs": [
        {
          "output_type": "execute_result",
          "data": {
            "text/plain": [
              "(322213, 12)"
            ]
          },
          "metadata": {},
          "execution_count": 408
        }
      ],
      "source": [
        "data1.shape"
      ]
    },
    {
      "cell_type": "code",
      "execution_count": 409,
      "metadata": {
        "colab": {
          "base_uri": "https://localhost:8080/"
        },
        "id": "bNeSs3Idcn6N",
        "outputId": "5cfd5e6a-e5e1-40fe-cb13-bdf010f5f5c7"
      },
      "outputs": [
        {
          "output_type": "execute_result",
          "data": {
            "text/plain": [
              "index                  0\n",
              "STATION                0\n",
              "Country/Region         0\n",
              "DATE                   0\n",
              "Year                   0\n",
              "Month                  0\n",
              "Day                    0\n",
              "PRCP                   0\n",
              "SNWD              176855\n",
              "TAVG                   0\n",
              "TMAX                   0\n",
              "TMIN                   0\n",
              "dtype: int64"
            ]
          },
          "metadata": {},
          "execution_count": 409
        }
      ],
      "source": [
        "data1.isnull().sum()"
      ]
    },
    {
      "cell_type": "code",
      "execution_count": 410,
      "metadata": {
        "id": "yYdUHsqBcx05"
      },
      "outputs": [],
      "source": [
        "# calculating the percentage of missig values\n",
        "missing_percentage = (data1.isnull().sum() / len(data1)) * 100"
      ]
    },
    {
      "cell_type": "code",
      "execution_count": 411,
      "metadata": {
        "colab": {
          "base_uri": "https://localhost:8080/"
        },
        "id": "jHFpKADCcx06",
        "outputId": "92da4b5a-0d6e-4b42-9620-1107afa49ca3"
      },
      "outputs": [
        {
          "output_type": "stream",
          "name": "stdout",
          "text": [
            "index              0.000000\n",
            "STATION            0.000000\n",
            "Country/Region     0.000000\n",
            "DATE               0.000000\n",
            "Year               0.000000\n",
            "Month              0.000000\n",
            "Day                0.000000\n",
            "PRCP               0.000000\n",
            "SNWD              54.887605\n",
            "TAVG               0.000000\n",
            "TMAX               0.000000\n",
            "TMIN               0.000000\n",
            "dtype: float64\n"
          ]
        }
      ],
      "source": [
        "print(missing_percentage)"
      ]
    },
    {
      "cell_type": "code",
      "execution_count": 412,
      "metadata": {
        "id": "Z13G-RftcsbK"
      },
      "outputs": [],
      "source": [
        "# Drop the 'index' column\n",
        "data1 = data1.drop(columns=['index'])\n",
        "\n",
        "# Drop the 'DATE' column\n",
        "data1 = data1.drop(columns=['DATE'])\n",
        "\n",
        "# Drop the 'STATION' column\n",
        "data1 = data1.drop(columns=['STATION'])\n",
        "\n",
        "# Drop the 'SNWD' column\n",
        "data1 = data1.drop(columns=['SNWD'])"
      ]
    },
    {
      "cell_type": "code",
      "execution_count": 413,
      "metadata": {
        "id": "cIPyoZo5dZ2Y"
      },
      "outputs": [],
      "source": [
        "# Initialize the LabelEncoder\n",
        "le = LabelEncoder()\n",
        "\n",
        "# Fit and transform the 'Country/Region' column\n",
        "data1['Country/Region'] = le.fit_transform(data1['Country/Region'])"
      ]
    },
    {
      "cell_type": "code",
      "execution_count": 414,
      "metadata": {
        "colab": {
          "base_uri": "https://localhost:8080/"
        },
        "id": "zRCWwDwkeDzg",
        "outputId": "eca7ee74-3a74-4308-943e-6bc758913487"
      },
      "outputs": [
        {
          "output_type": "execute_result",
          "data": {
            "text/plain": [
              "array([5, 0, 4, 1, 3, 2])"
            ]
          },
          "metadata": {},
          "execution_count": 414
        }
      ],
      "source": [
        "data1['Country/Region'].unique()"
      ]
    },
    {
      "cell_type": "markdown",
      "source": [
        "# Linear Regression by splitting the data according to months - first 5 months data in train set and next 2 months data in test set"
      ],
      "metadata": {
        "id": "eB4dkdYwSGnZ"
      }
    },
    {
      "cell_type": "code",
      "execution_count": 415,
      "metadata": {
        "id": "zJxt8YJpqsk5"
      },
      "outputs": [],
      "source": [
        "# Create a Month-Year column\n",
        "data1['Month-Year'] = pd.to_datetime(data1['Year'].astype(str) + '-' + data1['Month'].astype(str), format='%Y-%m')\n",
        "\n",
        "# Sort data by 'Country/Region' and 'Month-Year'\n",
        "data1.sort_values(by=['Country/Region', 'Month-Year'], inplace=True)\n",
        "\n",
        "# Group data by 'Country/Region'\n",
        "grouped = data1.groupby('Country/Region')\n",
        "\n",
        "# Define a function to split data\n",
        "def split_data(group):\n",
        "    return group.iloc[:5], group.iloc[5:7]\n",
        "\n",
        "# Apply the function and concatenate results\n",
        "train_data, test_data = zip(*grouped.apply(split_data))\n",
        "train_df = pd.concat(train_data)\n",
        "test_df = pd.concat(test_data)\n",
        "\n",
        "# Drop the Month-Year column (if not needed)\n",
        "train_df = train_df.drop(columns=['Month-Year'])\n",
        "test_df = test_df.drop(columns=['Month-Year'])\n",
        "train_df = train_df.drop(columns=['Year'])\n",
        "test_df = test_df.drop(columns=['Year'])\n",
        "\n",
        "# Separate features (X) and target (y)\n",
        "X_train = train_df.drop(columns=['PRCP'])\n",
        "y_train = train_df['PRCP']\n",
        "X_test = test_df.drop(columns=['PRCP'])\n",
        "y_test = test_df['PRCP']"
      ]
    },
    {
      "cell_type": "code",
      "source": [
        "# Create a MinMaxScaler instance\n",
        "scaler = MinMaxScaler()\n",
        "\n",
        "# Fit the scaler on the training data and transform both training and test data\n",
        "X_train_scaled = scaler.fit_transform(X_train)\n",
        "X_test_scaled = scaler.transform(X_test)"
      ],
      "metadata": {
        "id": "WvAsVtGT_tbO"
      },
      "execution_count": 416,
      "outputs": []
    },
    {
      "cell_type": "code",
      "execution_count": 417,
      "metadata": {
        "id": "sFsy2BxzvaFu"
      },
      "outputs": [],
      "source": [
        "# Create a StandardScaler instance\n",
        "# scaler = StandardScaler()\n",
        "\n",
        "# Fit the scaler on the training data and transform both training and test data\n",
        "# X_train_scaled = scaler.fit_transform(X_train)\n",
        "# X_test_scaled = scaler.transform(X_test)"
      ]
    },
    {
      "cell_type": "code",
      "execution_count": 418,
      "metadata": {
        "colab": {
          "base_uri": "https://localhost:8080/"
        },
        "id": "0vkCnwcStLcT",
        "outputId": "26875da3-87de-478a-c36b-3d09b532c2c8"
      },
      "outputs": [
        {
          "output_type": "stream",
          "name": "stdout",
          "text": [
            "\n",
            "Coefficients: [-2.60663987e-02 -2.03559392e-13  2.68483834e+00  2.34809722e+01\n",
            " -1.44157970e+01 -1.08663673e+01]\n",
            "\n",
            "Intercept: 0.8161265303865365\n",
            "\n",
            "Mean Squared Error: 6.294275942511245\n",
            "\n",
            "Root Mean Squared Error: 2.5088395609347454\n",
            "\n",
            "R-squared (R2) Score: -0.03710250668987847\n"
          ]
        }
      ],
      "source": [
        "# Create and train the model\n",
        "model = LinearRegression()\n",
        "model.fit(X_train_scaled, y_train)\n",
        "\n",
        "y_pred = model.predict(X_test_scaled)\n",
        "\n",
        "mse = mean_squared_error(y_test, y_pred)\n",
        "r2 = r2_score(y_test, y_pred)\n",
        "rmse = np.sqrt(mse)\n",
        "\n",
        "print(f\"\\nCoefficients: {model.coef_}\")\n",
        "print(f\"\\nIntercept: {model.intercept_}\")\n",
        "print(f\"\\nMean Squared Error: {mse}\")\n",
        "print(f\"\\nRoot Mean Squared Error: {rmse}\")\n",
        "print(f\"\\nR-squared (R2) Score: {r2}\")"
      ]
    },
    {
      "cell_type": "markdown",
      "source": [
        "# Optimize using Stocastic Gradient Descent"
      ],
      "metadata": {
        "id": "UKTEOelJZdFP"
      }
    },
    {
      "cell_type": "code",
      "source": [
        "scaler = StandardScaler()\n",
        "X_train_scaled = scaler.fit_transform(X_train)\n",
        "X_test_scaled = scaler.transform(X_test)\n",
        "\n",
        "# Create and train the SGDRegressor model\n",
        "model = SGDRegressor(loss='squared_error', max_iter=100, tol=1e-3, random_state=42)\n",
        "model.fit(X_train_scaled, y_train)\n",
        "\n",
        "y_pred = model.predict(X_test_scaled)\n",
        "mse = mean_squared_error(y_test, y_pred)\n",
        "rmse = np.sqrt(mse)\n",
        "r2 = r2_score(y_test, y_pred)\n",
        "\n",
        "print(f\"\\nCoefficients (Weights): {model.coef_}\")\n",
        "print(f\"\\nIntercept (Bias): {model.intercept_}\")\n",
        "print(f\"\\nMean Squared Error (RMSE): {mse}\")\n",
        "print(f\"\\nRoot Mean Squared Error (RMSE): {rmse}\")\n",
        "print(f\"\\nR-squared (R2) Score: {r2}\")"
      ],
      "metadata": {
        "colab": {
          "base_uri": "https://localhost:8080/"
        },
        "id": "P1rCxVSYZN2H",
        "outputId": "e463c7a0-4d78-44ba-d134-a40c455cc898"
      },
      "execution_count": 419,
      "outputs": [
        {
          "output_type": "stream",
          "name": "stdout",
          "text": [
            "\n",
            "Coefficients (Weights): [ 0.16292206  0.          0.85587752 -0.05963367 -0.31957554 -0.14499392]\n",
            "\n",
            "Intercept (Bias): [0.58917955]\n",
            "\n",
            "Mean Squared Error (RMSE): 7.742969324204206\n",
            "\n",
            "Root Mean Squared Error (RMSE): 2.782619148249398\n",
            "\n",
            "R-squared (R2) Score: -0.27580248605229785\n"
          ]
        }
      ]
    },
    {
      "cell_type": "markdown",
      "source": [
        "# Polynomial Regression"
      ],
      "metadata": {
        "id": "8BMSsmTbVISA"
      }
    },
    {
      "cell_type": "code",
      "execution_count": 420,
      "metadata": {
        "colab": {
          "base_uri": "https://localhost:8080/"
        },
        "id": "i9atd1rkwEcK",
        "outputId": "4c5ee7cc-faf2-4f1c-9f5a-0f6a980fc7c7"
      },
      "outputs": [
        {
          "output_type": "stream",
          "name": "stdout",
          "text": [
            "\n",
            "Mean Squared Error: 23.520700492717626\n",
            "\n",
            "R-squared (R2) Score: -2.875485864124193\n",
            "\n",
            "Root Mean Squared Error: 4.849814480237118\n"
          ]
        }
      ],
      "source": [
        "degree = 2  # Change this to the desired degree\n",
        "\n",
        "poly = PolynomialFeatures(degree)\n",
        "X_train_poly = poly.fit_transform(X_train_scaled)\n",
        "\n",
        "model = LinearRegression()\n",
        "model.fit(X_train_poly, y_train)\n",
        "\n",
        "X_test_poly = poly.transform(X_test_scaled)\n",
        "y_pred = model.predict(X_test_poly)\n",
        "\n",
        "mse = mean_squared_error(y_test, y_pred)\n",
        "r2 = r2_score(y_test, y_pred)\n",
        "rmse = np.sqrt(mse)\n",
        "\n",
        "print(f\"\\nMean Squared Error: {mse}\")\n",
        "print(f\"\\nR-squared (R2) Score: {r2}\")\n",
        "print(f\"\\nRoot Mean Squared Error: {rmse}\")"
      ]
    },
    {
      "cell_type": "markdown",
      "source": [
        "# Prediction using random split"
      ],
      "metadata": {
        "id": "k0uFaHgUR6kK"
      }
    },
    {
      "cell_type": "code",
      "execution_count": 421,
      "metadata": {
        "id": "immpFmrJQZz0"
      },
      "outputs": [],
      "source": [
        "data1 = pd.concat([us_data, canada_data, sweden_data, germany_data, russia_data, netherland_data], axis=0).reset_index()"
      ]
    },
    {
      "cell_type": "code",
      "source": [
        "data1.columns"
      ],
      "metadata": {
        "colab": {
          "base_uri": "https://localhost:8080/"
        },
        "id": "_SUTahQPQeBc",
        "outputId": "ae0beda5-d510-45bf-9c48-fed03c14e7be"
      },
      "execution_count": 422,
      "outputs": [
        {
          "output_type": "execute_result",
          "data": {
            "text/plain": [
              "Index(['index', 'STATION', 'Country/Region', 'DATE', 'Year', 'Month', 'Day',\n",
              "       'PRCP', 'SNWD', 'TAVG', 'TMAX', 'TMIN'],\n",
              "      dtype='object')"
            ]
          },
          "metadata": {},
          "execution_count": 422
        }
      ]
    },
    {
      "cell_type": "code",
      "execution_count": 423,
      "metadata": {
        "id": "q3tQ_U0XQZz2"
      },
      "outputs": [],
      "source": [
        "# Drop the 'index' column\n",
        "data1 = data1.drop(columns=['index'])\n",
        "\n",
        "# Drop the 'STATION' column\n",
        "data1 = data1.drop(columns=['STATION'])\n",
        "\n",
        "# Drop the 'DATE' column\n",
        "data1 = data1.drop(columns=['DATE'])\n",
        "\n",
        "# Drop the 'Year' column\n",
        "data1 = data1.drop(columns=['Year'])\n",
        "\n",
        "# Drop the 'SNWD' column\n",
        "data1 = data1.drop(columns=['SNWD'])"
      ]
    },
    {
      "cell_type": "code",
      "execution_count": 424,
      "metadata": {
        "id": "dY-I51Z4QZz3"
      },
      "outputs": [],
      "source": [
        "# Initialize the LabelEncoder\n",
        "le = LabelEncoder()\n",
        "\n",
        "# Fit and transform the 'Country/Region' column\n",
        "data1['Country/Region'] = le.fit_transform(data1['Country/Region'])"
      ]
    },
    {
      "cell_type": "code",
      "source": [
        "data1.columns"
      ],
      "metadata": {
        "colab": {
          "base_uri": "https://localhost:8080/"
        },
        "id": "-DlS-17qOUx4",
        "outputId": "1eb229da-17f4-4d8f-e452-637310b4f8ec"
      },
      "execution_count": 425,
      "outputs": [
        {
          "output_type": "execute_result",
          "data": {
            "text/plain": [
              "Index(['Country/Region', 'Month', 'Day', 'PRCP', 'TAVG', 'TMAX', 'TMIN'], dtype='object')"
            ]
          },
          "metadata": {},
          "execution_count": 425
        }
      ]
    },
    {
      "cell_type": "code",
      "source": [
        "# Separate features (X) and target (y)\n",
        "X = data1.drop(columns=['PRCP'])\n",
        "y = data1['PRCP']\n",
        "\n",
        "# Split the data into training and testing sets (80% training, 20% testing)\n",
        "X_train, X_test, y_train, y_test = train_test_split(X, y, test_size=0.2, random_state=42)\n",
        "\n",
        "# Display the shape of the resulting splits\n",
        "print(f\"X_train shape: {X_train.shape}\")\n",
        "print(f\"X_test shape: {X_test.shape}\")\n",
        "print(f\"y_train shape: {y_train.shape}\")\n",
        "print(f\"y_test shape: {y_test.shape}\")"
      ],
      "metadata": {
        "colab": {
          "base_uri": "https://localhost:8080/"
        },
        "id": "Y_qDOt2IM8aN",
        "outputId": "15c00384-3efc-4bba-a65a-2cfb83a01d74"
      },
      "execution_count": 426,
      "outputs": [
        {
          "output_type": "stream",
          "name": "stdout",
          "text": [
            "X_train shape: (257770, 6)\n",
            "X_test shape: (64443, 6)\n",
            "y_train shape: (257770,)\n",
            "y_test shape: (64443,)\n"
          ]
        }
      ]
    },
    {
      "cell_type": "code",
      "source": [
        "# Create and train the Linear Regression model\n",
        "model = LinearRegression()\n",
        "model.fit(X_train, y_train)\n",
        "\n",
        "y_pred = model.predict(X_test)\n",
        "\n",
        "mse = mean_squared_error(y_test, y_pred)\n",
        "rmse = np.sqrt(mse)\n",
        "r2_score = r2_score(y_test, y_pred)\n",
        "\n",
        "print(f\"Coefficients: {model.coef_}\")\n",
        "print(f\"\\nIntercept: {model.intercept_}\")\n",
        "print(f\"\\nMean Squared Error: {mse}\")\n",
        "print(f\"\\nRoot Mean Squared Error: {rmse}\")\n",
        "print(f\"\\nR-squared (R2) Score: {r2}\")"
      ],
      "metadata": {
        "colab": {
          "base_uri": "https://localhost:8080/"
        },
        "id": "_XVlN8lZPvrr",
        "outputId": "d3b8cd45-50a3-4859-d524-9f2eee0f38cd"
      },
      "execution_count": 427,
      "outputs": [
        {
          "output_type": "stream",
          "name": "stdout",
          "text": [
            "Coefficients: [-0.13499172 -0.04367244 -0.01374715 -0.13212329 -0.13318693  0.33019795]\n",
            "\n",
            "Intercept: 4.5608580726455905\n",
            "\n",
            "Mean Squared Error: 23.287915498728356\n",
            "\n",
            "Root Mean Squared Error: 4.825755432958487\n",
            "\n",
            "R-squared (R2) Score: -2.875485864124193\n"
          ]
        }
      ]
    }
  ],
  "metadata": {
    "colab": {
      "provenance": [],
      "mount_file_id": "1vElJwjV2DBY4HrR_dI8WfRL-S4dchwW3",
      "authorship_tag": "ABX9TyNUHJgwa6oeyZrxhRWfmzPb",
      "include_colab_link": true
    },
    "kernelspec": {
      "display_name": "Python 3",
      "name": "python3"
    },
    "language_info": {
      "name": "python"
    }
  },
  "nbformat": 4,
  "nbformat_minor": 0
}