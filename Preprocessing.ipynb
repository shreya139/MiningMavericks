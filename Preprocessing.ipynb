{
 "cells": [
  {
   "cell_type": "code",
   "execution_count": 55,
   "id": "efc2f021",
   "metadata": {},
   "outputs": [],
   "source": [
    "import math\n",
    "import numpy as np\n",
    "import pandas as pd\n",
    "import matplotlib.pyplot as plt\n",
    "import seaborn as sns"
   ]
  },
  {
   "cell_type": "code",
   "execution_count": 56,
   "id": "1327cab5",
   "metadata": {
    "scrolled": true
   },
   "outputs": [
    {
     "name": "stderr",
     "output_type": "stream",
     "text": [
      "C:\\Users\\mayan\\AppData\\Local\\Temp\\ipykernel_18332\\2256147113.py:1: DtypeWarning: Columns (16,17,18,19,23) have mixed types. Specify dtype option on import or set low_memory=False.\n",
      "  df = pd.read_csv('C:/Users/mayan/Dropbox/PC/Desktop/Data Mining/project/the weather of 187 countries in 2020.csv')\n"
     ]
    }
   ],
   "source": [
    "df = pd.read_csv('C:/Users/mayan/Dropbox/PC/Desktop/Data Mining/project/the weather of 187 countries in 2020.csv')"
   ]
  },
  {
   "cell_type": "code",
   "execution_count": 57,
   "id": "9fc36a77",
   "metadata": {
    "scrolled": true
   },
   "outputs": [
    {
     "data": {
      "text/plain": [
       "(1392575, 23)"
      ]
     },
     "execution_count": 57,
     "metadata": {},
     "output_type": "execute_result"
    }
   ],
   "source": [
    "df.shape"
   ]
  },
  {
   "cell_type": "code",
   "execution_count": 58,
   "id": "8d5d778e",
   "metadata": {},
   "outputs": [
    {
     "data": {
      "text/plain": [
       "Index(['STATION', 'Country/Region', 'DATE', 'Year', 'Month', 'Day', 'PRCP',\n",
       "       'SNWD', 'TAVG', 'TMAX', 'TMIN', 'SNOW', 'LATITUDE', 'LONGITUDE',\n",
       "       'ELEVATION', 'PRCP_ATTRIBUTES', 'TAVG_ATTRIBUTES', 'TMAX_ATTRIBUTES',\n",
       "       'TMIN_ATTRIBUTES', 'DAPR', 'MDPR', 'WESD', 'SNWD_ATTRIBUTES'],\n",
       "      dtype='object')"
      ]
     },
     "execution_count": 58,
     "metadata": {},
     "output_type": "execute_result"
    }
   ],
   "source": [
    "df.columns\n"
   ]
  },
  {
   "cell_type": "code",
   "execution_count": 59,
   "id": "f61a36e8",
   "metadata": {},
   "outputs": [
    {
     "data": {
      "text/plain": [
       "STATION                  0\n",
       "Country/Region           0\n",
       "DATE                     0\n",
       "Year                     0\n",
       "Month                    0\n",
       "Day                      0\n",
       "PRCP                349206\n",
       "SNWD               1015146\n",
       "TAVG                513943\n",
       "TMAX                525870\n",
       "TMIN                494194\n",
       "SNOW               1287183\n",
       "LATITUDE           1287833\n",
       "LONGITUDE          1287833\n",
       "ELEVATION          1287833\n",
       "PRCP_ATTRIBUTES    1386568\n",
       "TAVG_ATTRIBUTES    1388725\n",
       "TMAX_ATTRIBUTES    1386938\n",
       "TMIN_ATTRIBUTES    1386701\n",
       "DAPR               1391282\n",
       "MDPR               1392494\n",
       "WESD               1392573\n",
       "SNWD_ATTRIBUTES    1392221\n",
       "dtype: int64"
      ]
     },
     "execution_count": 59,
     "metadata": {},
     "output_type": "execute_result"
    }
   ],
   "source": [
    "df.isnull().sum()"
   ]
  },
  {
   "cell_type": "markdown",
   "id": "51a86ed0",
   "metadata": {},
   "source": [
    "## Last 8 columns have more than 99 % missing data so I have dropped those columns"
   ]
  },
  {
   "cell_type": "code",
   "execution_count": 60,
   "id": "79214582",
   "metadata": {},
   "outputs": [],
   "source": [
    "df.drop(['ELEVATION', 'PRCP_ATTRIBUTES', 'TAVG_ATTRIBUTES', 'TMAX_ATTRIBUTES',\n",
    "       'TMIN_ATTRIBUTES', 'DAPR', 'MDPR', 'WESD', 'SNWD_ATTRIBUTES'],axis = 1,inplace = True)"
   ]
  },
  {
   "cell_type": "code",
   "execution_count": 61,
   "id": "2ccdf54c",
   "metadata": {},
   "outputs": [
    {
     "data": {
      "text/html": [
       "<div>\n",
       "<style scoped>\n",
       "    .dataframe tbody tr th:only-of-type {\n",
       "        vertical-align: middle;\n",
       "    }\n",
       "\n",
       "    .dataframe tbody tr th {\n",
       "        vertical-align: top;\n",
       "    }\n",
       "\n",
       "    .dataframe thead th {\n",
       "        text-align: right;\n",
       "    }\n",
       "</style>\n",
       "<table border=\"1\" class=\"dataframe\">\n",
       "  <thead>\n",
       "    <tr style=\"text-align: right;\">\n",
       "      <th></th>\n",
       "      <th>STATION</th>\n",
       "      <th>Country/Region</th>\n",
       "      <th>DATE</th>\n",
       "      <th>Year</th>\n",
       "      <th>Month</th>\n",
       "      <th>Day</th>\n",
       "      <th>PRCP</th>\n",
       "      <th>SNWD</th>\n",
       "      <th>TAVG</th>\n",
       "      <th>TMAX</th>\n",
       "      <th>TMIN</th>\n",
       "      <th>SNOW</th>\n",
       "      <th>LATITUDE</th>\n",
       "      <th>LONGITUDE</th>\n",
       "    </tr>\n",
       "  </thead>\n",
       "  <tbody>\n",
       "    <tr>\n",
       "      <th>0</th>\n",
       "      <td>TZ000063894</td>\n",
       "      <td>Comoros</td>\n",
       "      <td>2020-01-22</td>\n",
       "      <td>2020</td>\n",
       "      <td>1</td>\n",
       "      <td>22</td>\n",
       "      <td>10.9</td>\n",
       "      <td>NaN</td>\n",
       "      <td>27.6</td>\n",
       "      <td>30.2</td>\n",
       "      <td>24.9</td>\n",
       "      <td>NaN</td>\n",
       "      <td>NaN</td>\n",
       "      <td>NaN</td>\n",
       "    </tr>\n",
       "    <tr>\n",
       "      <th>1</th>\n",
       "      <td>TZ000063894</td>\n",
       "      <td>Comoros</td>\n",
       "      <td>2020-01-23</td>\n",
       "      <td>2020</td>\n",
       "      <td>1</td>\n",
       "      <td>23</td>\n",
       "      <td>0.0</td>\n",
       "      <td>NaN</td>\n",
       "      <td>26.7</td>\n",
       "      <td>NaN</td>\n",
       "      <td>NaN</td>\n",
       "      <td>NaN</td>\n",
       "      <td>NaN</td>\n",
       "      <td>NaN</td>\n",
       "    </tr>\n",
       "    <tr>\n",
       "      <th>2</th>\n",
       "      <td>TZ000063894</td>\n",
       "      <td>Comoros</td>\n",
       "      <td>2020-01-24</td>\n",
       "      <td>2020</td>\n",
       "      <td>1</td>\n",
       "      <td>24</td>\n",
       "      <td>9.4</td>\n",
       "      <td>NaN</td>\n",
       "      <td>27.9</td>\n",
       "      <td>30.6</td>\n",
       "      <td>25.6</td>\n",
       "      <td>NaN</td>\n",
       "      <td>NaN</td>\n",
       "      <td>NaN</td>\n",
       "    </tr>\n",
       "    <tr>\n",
       "      <th>3</th>\n",
       "      <td>TZ000063894</td>\n",
       "      <td>Comoros</td>\n",
       "      <td>2020-01-25</td>\n",
       "      <td>2020</td>\n",
       "      <td>1</td>\n",
       "      <td>25</td>\n",
       "      <td>0.3</td>\n",
       "      <td>NaN</td>\n",
       "      <td>27.9</td>\n",
       "      <td>30.2</td>\n",
       "      <td>16.3</td>\n",
       "      <td>NaN</td>\n",
       "      <td>NaN</td>\n",
       "      <td>NaN</td>\n",
       "    </tr>\n",
       "    <tr>\n",
       "      <th>4</th>\n",
       "      <td>TZ000063894</td>\n",
       "      <td>Comoros</td>\n",
       "      <td>2020-01-26</td>\n",
       "      <td>2020</td>\n",
       "      <td>1</td>\n",
       "      <td>26</td>\n",
       "      <td>0.0</td>\n",
       "      <td>NaN</td>\n",
       "      <td>28.2</td>\n",
       "      <td>31.5</td>\n",
       "      <td>NaN</td>\n",
       "      <td>NaN</td>\n",
       "      <td>NaN</td>\n",
       "      <td>NaN</td>\n",
       "    </tr>\n",
       "    <tr>\n",
       "      <th>...</th>\n",
       "      <td>...</td>\n",
       "      <td>...</td>\n",
       "      <td>...</td>\n",
       "      <td>...</td>\n",
       "      <td>...</td>\n",
       "      <td>...</td>\n",
       "      <td>...</td>\n",
       "      <td>...</td>\n",
       "      <td>...</td>\n",
       "      <td>...</td>\n",
       "      <td>...</td>\n",
       "      <td>...</td>\n",
       "      <td>...</td>\n",
       "      <td>...</td>\n",
       "    </tr>\n",
       "    <tr>\n",
       "      <th>1392570</th>\n",
       "      <td>COM00080091</td>\n",
       "      <td>Colombia</td>\n",
       "      <td>2020-07-23</td>\n",
       "      <td>2020</td>\n",
       "      <td>7</td>\n",
       "      <td>23</td>\n",
       "      <td>0.0</td>\n",
       "      <td>NaN</td>\n",
       "      <td>28.1</td>\n",
       "      <td>NaN</td>\n",
       "      <td>23.0</td>\n",
       "      <td>NaN</td>\n",
       "      <td>NaN</td>\n",
       "      <td>NaN</td>\n",
       "    </tr>\n",
       "    <tr>\n",
       "      <th>1392571</th>\n",
       "      <td>COM00080091</td>\n",
       "      <td>Colombia</td>\n",
       "      <td>2020-07-24</td>\n",
       "      <td>2020</td>\n",
       "      <td>7</td>\n",
       "      <td>24</td>\n",
       "      <td>NaN</td>\n",
       "      <td>NaN</td>\n",
       "      <td>27.2</td>\n",
       "      <td>NaN</td>\n",
       "      <td>NaN</td>\n",
       "      <td>NaN</td>\n",
       "      <td>NaN</td>\n",
       "      <td>NaN</td>\n",
       "    </tr>\n",
       "    <tr>\n",
       "      <th>1392572</th>\n",
       "      <td>COM00080091</td>\n",
       "      <td>Colombia</td>\n",
       "      <td>2020-07-25</td>\n",
       "      <td>2020</td>\n",
       "      <td>7</td>\n",
       "      <td>25</td>\n",
       "      <td>NaN</td>\n",
       "      <td>NaN</td>\n",
       "      <td>26.8</td>\n",
       "      <td>NaN</td>\n",
       "      <td>NaN</td>\n",
       "      <td>NaN</td>\n",
       "      <td>NaN</td>\n",
       "      <td>NaN</td>\n",
       "    </tr>\n",
       "    <tr>\n",
       "      <th>1392573</th>\n",
       "      <td>COM00080091</td>\n",
       "      <td>Colombia</td>\n",
       "      <td>2020-07-26</td>\n",
       "      <td>2020</td>\n",
       "      <td>7</td>\n",
       "      <td>26</td>\n",
       "      <td>NaN</td>\n",
       "      <td>NaN</td>\n",
       "      <td>28.8</td>\n",
       "      <td>NaN</td>\n",
       "      <td>NaN</td>\n",
       "      <td>NaN</td>\n",
       "      <td>NaN</td>\n",
       "      <td>NaN</td>\n",
       "    </tr>\n",
       "    <tr>\n",
       "      <th>1392574</th>\n",
       "      <td>COM00080091</td>\n",
       "      <td>Colombia</td>\n",
       "      <td>2020-07-27</td>\n",
       "      <td>2020</td>\n",
       "      <td>7</td>\n",
       "      <td>27</td>\n",
       "      <td>NaN</td>\n",
       "      <td>NaN</td>\n",
       "      <td>27.5</td>\n",
       "      <td>NaN</td>\n",
       "      <td>NaN</td>\n",
       "      <td>NaN</td>\n",
       "      <td>NaN</td>\n",
       "      <td>NaN</td>\n",
       "    </tr>\n",
       "  </tbody>\n",
       "</table>\n",
       "<p>1392575 rows × 14 columns</p>\n",
       "</div>"
      ],
      "text/plain": [
       "             STATION Country/Region        DATE  Year  Month  Day  PRCP  SNWD  \\\n",
       "0        TZ000063894        Comoros  2020-01-22  2020      1   22  10.9   NaN   \n",
       "1        TZ000063894        Comoros  2020-01-23  2020      1   23   0.0   NaN   \n",
       "2        TZ000063894        Comoros  2020-01-24  2020      1   24   9.4   NaN   \n",
       "3        TZ000063894        Comoros  2020-01-25  2020      1   25   0.3   NaN   \n",
       "4        TZ000063894        Comoros  2020-01-26  2020      1   26   0.0   NaN   \n",
       "...              ...            ...         ...   ...    ...  ...   ...   ...   \n",
       "1392570  COM00080091       Colombia  2020-07-23  2020      7   23   0.0   NaN   \n",
       "1392571  COM00080091       Colombia  2020-07-24  2020      7   24   NaN   NaN   \n",
       "1392572  COM00080091       Colombia  2020-07-25  2020      7   25   NaN   NaN   \n",
       "1392573  COM00080091       Colombia  2020-07-26  2020      7   26   NaN   NaN   \n",
       "1392574  COM00080091       Colombia  2020-07-27  2020      7   27   NaN   NaN   \n",
       "\n",
       "         TAVG  TMAX  TMIN  SNOW  LATITUDE  LONGITUDE  \n",
       "0        27.6  30.2  24.9   NaN       NaN        NaN  \n",
       "1        26.7   NaN   NaN   NaN       NaN        NaN  \n",
       "2        27.9  30.6  25.6   NaN       NaN        NaN  \n",
       "3        27.9  30.2  16.3   NaN       NaN        NaN  \n",
       "4        28.2  31.5   NaN   NaN       NaN        NaN  \n",
       "...       ...   ...   ...   ...       ...        ...  \n",
       "1392570  28.1   NaN  23.0   NaN       NaN        NaN  \n",
       "1392571  27.2   NaN   NaN   NaN       NaN        NaN  \n",
       "1392572  26.8   NaN   NaN   NaN       NaN        NaN  \n",
       "1392573  28.8   NaN   NaN   NaN       NaN        NaN  \n",
       "1392574  27.5   NaN   NaN   NaN       NaN        NaN  \n",
       "\n",
       "[1392575 rows x 14 columns]"
      ]
     },
     "execution_count": 61,
     "metadata": {},
     "output_type": "execute_result"
    }
   ],
   "source": [
    "df"
   ]
  },
  {
   "cell_type": "markdown",
   "id": "c0f8a291",
   "metadata": {},
   "source": [
    "## Precipitation column have more than 75% of non null data , so taking only those instances in count which have non null precipitaiton value"
   ]
  },
  {
   "cell_type": "code",
   "execution_count": 62,
   "id": "ad78e201",
   "metadata": {},
   "outputs": [],
   "source": [
    "prcp = df[df['PRCP']>=0]"
   ]
  },
  {
   "cell_type": "code",
   "execution_count": 63,
   "id": "61eac31d",
   "metadata": {},
   "outputs": [
    {
     "data": {
      "text/html": [
       "<div>\n",
       "<style scoped>\n",
       "    .dataframe tbody tr th:only-of-type {\n",
       "        vertical-align: middle;\n",
       "    }\n",
       "\n",
       "    .dataframe tbody tr th {\n",
       "        vertical-align: top;\n",
       "    }\n",
       "\n",
       "    .dataframe thead th {\n",
       "        text-align: right;\n",
       "    }\n",
       "</style>\n",
       "<table border=\"1\" class=\"dataframe\">\n",
       "  <thead>\n",
       "    <tr style=\"text-align: right;\">\n",
       "      <th></th>\n",
       "      <th>STATION</th>\n",
       "      <th>Country/Region</th>\n",
       "      <th>DATE</th>\n",
       "      <th>Year</th>\n",
       "      <th>Month</th>\n",
       "      <th>Day</th>\n",
       "      <th>PRCP</th>\n",
       "      <th>SNWD</th>\n",
       "      <th>TAVG</th>\n",
       "      <th>TMAX</th>\n",
       "      <th>TMIN</th>\n",
       "      <th>SNOW</th>\n",
       "      <th>LATITUDE</th>\n",
       "      <th>LONGITUDE</th>\n",
       "    </tr>\n",
       "  </thead>\n",
       "  <tbody>\n",
       "    <tr>\n",
       "      <th>0</th>\n",
       "      <td>TZ000063894</td>\n",
       "      <td>Comoros</td>\n",
       "      <td>2020-01-22</td>\n",
       "      <td>2020</td>\n",
       "      <td>1</td>\n",
       "      <td>22</td>\n",
       "      <td>10.9</td>\n",
       "      <td>NaN</td>\n",
       "      <td>27.6</td>\n",
       "      <td>30.2</td>\n",
       "      <td>24.9</td>\n",
       "      <td>NaN</td>\n",
       "      <td>NaN</td>\n",
       "      <td>NaN</td>\n",
       "    </tr>\n",
       "    <tr>\n",
       "      <th>1</th>\n",
       "      <td>TZ000063894</td>\n",
       "      <td>Comoros</td>\n",
       "      <td>2020-01-23</td>\n",
       "      <td>2020</td>\n",
       "      <td>1</td>\n",
       "      <td>23</td>\n",
       "      <td>0.0</td>\n",
       "      <td>NaN</td>\n",
       "      <td>26.7</td>\n",
       "      <td>NaN</td>\n",
       "      <td>NaN</td>\n",
       "      <td>NaN</td>\n",
       "      <td>NaN</td>\n",
       "      <td>NaN</td>\n",
       "    </tr>\n",
       "    <tr>\n",
       "      <th>2</th>\n",
       "      <td>TZ000063894</td>\n",
       "      <td>Comoros</td>\n",
       "      <td>2020-01-24</td>\n",
       "      <td>2020</td>\n",
       "      <td>1</td>\n",
       "      <td>24</td>\n",
       "      <td>9.4</td>\n",
       "      <td>NaN</td>\n",
       "      <td>27.9</td>\n",
       "      <td>30.6</td>\n",
       "      <td>25.6</td>\n",
       "      <td>NaN</td>\n",
       "      <td>NaN</td>\n",
       "      <td>NaN</td>\n",
       "    </tr>\n",
       "    <tr>\n",
       "      <th>3</th>\n",
       "      <td>TZ000063894</td>\n",
       "      <td>Comoros</td>\n",
       "      <td>2020-01-25</td>\n",
       "      <td>2020</td>\n",
       "      <td>1</td>\n",
       "      <td>25</td>\n",
       "      <td>0.3</td>\n",
       "      <td>NaN</td>\n",
       "      <td>27.9</td>\n",
       "      <td>30.2</td>\n",
       "      <td>16.3</td>\n",
       "      <td>NaN</td>\n",
       "      <td>NaN</td>\n",
       "      <td>NaN</td>\n",
       "    </tr>\n",
       "    <tr>\n",
       "      <th>4</th>\n",
       "      <td>TZ000063894</td>\n",
       "      <td>Comoros</td>\n",
       "      <td>2020-01-26</td>\n",
       "      <td>2020</td>\n",
       "      <td>1</td>\n",
       "      <td>26</td>\n",
       "      <td>0.0</td>\n",
       "      <td>NaN</td>\n",
       "      <td>28.2</td>\n",
       "      <td>31.5</td>\n",
       "      <td>NaN</td>\n",
       "      <td>NaN</td>\n",
       "      <td>NaN</td>\n",
       "      <td>NaN</td>\n",
       "    </tr>\n",
       "    <tr>\n",
       "      <th>...</th>\n",
       "      <td>...</td>\n",
       "      <td>...</td>\n",
       "      <td>...</td>\n",
       "      <td>...</td>\n",
       "      <td>...</td>\n",
       "      <td>...</td>\n",
       "      <td>...</td>\n",
       "      <td>...</td>\n",
       "      <td>...</td>\n",
       "      <td>...</td>\n",
       "      <td>...</td>\n",
       "      <td>...</td>\n",
       "      <td>...</td>\n",
       "      <td>...</td>\n",
       "    </tr>\n",
       "    <tr>\n",
       "      <th>1392561</th>\n",
       "      <td>COM00080091</td>\n",
       "      <td>Colombia</td>\n",
       "      <td>2020-07-14</td>\n",
       "      <td>2020</td>\n",
       "      <td>7</td>\n",
       "      <td>14</td>\n",
       "      <td>0.0</td>\n",
       "      <td>NaN</td>\n",
       "      <td>28.7</td>\n",
       "      <td>NaN</td>\n",
       "      <td>NaN</td>\n",
       "      <td>NaN</td>\n",
       "      <td>NaN</td>\n",
       "      <td>NaN</td>\n",
       "    </tr>\n",
       "    <tr>\n",
       "      <th>1392562</th>\n",
       "      <td>COM00080091</td>\n",
       "      <td>Colombia</td>\n",
       "      <td>2020-07-15</td>\n",
       "      <td>2020</td>\n",
       "      <td>7</td>\n",
       "      <td>15</td>\n",
       "      <td>0.0</td>\n",
       "      <td>NaN</td>\n",
       "      <td>30.3</td>\n",
       "      <td>NaN</td>\n",
       "      <td>24.0</td>\n",
       "      <td>NaN</td>\n",
       "      <td>NaN</td>\n",
       "      <td>NaN</td>\n",
       "    </tr>\n",
       "    <tr>\n",
       "      <th>1392563</th>\n",
       "      <td>COM00080091</td>\n",
       "      <td>Colombia</td>\n",
       "      <td>2020-07-16</td>\n",
       "      <td>2020</td>\n",
       "      <td>7</td>\n",
       "      <td>16</td>\n",
       "      <td>0.0</td>\n",
       "      <td>NaN</td>\n",
       "      <td>29.4</td>\n",
       "      <td>NaN</td>\n",
       "      <td>23.6</td>\n",
       "      <td>NaN</td>\n",
       "      <td>NaN</td>\n",
       "      <td>NaN</td>\n",
       "    </tr>\n",
       "    <tr>\n",
       "      <th>1392566</th>\n",
       "      <td>COM00080091</td>\n",
       "      <td>Colombia</td>\n",
       "      <td>2020-07-19</td>\n",
       "      <td>2020</td>\n",
       "      <td>7</td>\n",
       "      <td>19</td>\n",
       "      <td>0.0</td>\n",
       "      <td>NaN</td>\n",
       "      <td>29.7</td>\n",
       "      <td>NaN</td>\n",
       "      <td>25.0</td>\n",
       "      <td>NaN</td>\n",
       "      <td>NaN</td>\n",
       "      <td>NaN</td>\n",
       "    </tr>\n",
       "    <tr>\n",
       "      <th>1392570</th>\n",
       "      <td>COM00080091</td>\n",
       "      <td>Colombia</td>\n",
       "      <td>2020-07-23</td>\n",
       "      <td>2020</td>\n",
       "      <td>7</td>\n",
       "      <td>23</td>\n",
       "      <td>0.0</td>\n",
       "      <td>NaN</td>\n",
       "      <td>28.1</td>\n",
       "      <td>NaN</td>\n",
       "      <td>23.0</td>\n",
       "      <td>NaN</td>\n",
       "      <td>NaN</td>\n",
       "      <td>NaN</td>\n",
       "    </tr>\n",
       "  </tbody>\n",
       "</table>\n",
       "<p>1043369 rows × 14 columns</p>\n",
       "</div>"
      ],
      "text/plain": [
       "             STATION Country/Region        DATE  Year  Month  Day  PRCP  SNWD  \\\n",
       "0        TZ000063894        Comoros  2020-01-22  2020      1   22  10.9   NaN   \n",
       "1        TZ000063894        Comoros  2020-01-23  2020      1   23   0.0   NaN   \n",
       "2        TZ000063894        Comoros  2020-01-24  2020      1   24   9.4   NaN   \n",
       "3        TZ000063894        Comoros  2020-01-25  2020      1   25   0.3   NaN   \n",
       "4        TZ000063894        Comoros  2020-01-26  2020      1   26   0.0   NaN   \n",
       "...              ...            ...         ...   ...    ...  ...   ...   ...   \n",
       "1392561  COM00080091       Colombia  2020-07-14  2020      7   14   0.0   NaN   \n",
       "1392562  COM00080091       Colombia  2020-07-15  2020      7   15   0.0   NaN   \n",
       "1392563  COM00080091       Colombia  2020-07-16  2020      7   16   0.0   NaN   \n",
       "1392566  COM00080091       Colombia  2020-07-19  2020      7   19   0.0   NaN   \n",
       "1392570  COM00080091       Colombia  2020-07-23  2020      7   23   0.0   NaN   \n",
       "\n",
       "         TAVG  TMAX  TMIN  SNOW  LATITUDE  LONGITUDE  \n",
       "0        27.6  30.2  24.9   NaN       NaN        NaN  \n",
       "1        26.7   NaN   NaN   NaN       NaN        NaN  \n",
       "2        27.9  30.6  25.6   NaN       NaN        NaN  \n",
       "3        27.9  30.2  16.3   NaN       NaN        NaN  \n",
       "4        28.2  31.5   NaN   NaN       NaN        NaN  \n",
       "...       ...   ...   ...   ...       ...        ...  \n",
       "1392561  28.7   NaN   NaN   NaN       NaN        NaN  \n",
       "1392562  30.3   NaN  24.0   NaN       NaN        NaN  \n",
       "1392563  29.4   NaN  23.6   NaN       NaN        NaN  \n",
       "1392566  29.7   NaN  25.0   NaN       NaN        NaN  \n",
       "1392570  28.1   NaN  23.0   NaN       NaN        NaN  \n",
       "\n",
       "[1043369 rows x 14 columns]"
      ]
     },
     "execution_count": 63,
     "metadata": {},
     "output_type": "execute_result"
    }
   ],
   "source": [
    "prcp"
   ]
  },
  {
   "cell_type": "code",
   "execution_count": 9,
   "id": "95b6d6a8",
   "metadata": {
    "scrolled": true
   },
   "outputs": [
    {
     "data": {
      "text/plain": [
       "array(['Comoros', 'Georgia', 'Nepal', 'Philippines', 'Monaco', 'US',\n",
       "       'Namibia', 'Lebanon', 'Zambia', 'Malaysia', 'Peru', 'Kenya',\n",
       "       'Belarus', 'Lesotho', 'Tanzania', 'Greece', 'Barbados',\n",
       "       'Singapore', 'Switzerland', 'Sri Lanka', 'China', 'Gabon',\n",
       "       'Congo (Brazzaville)', 'United Arab Emirates', 'Tajikistan',\n",
       "       'Syria', 'Lithuania', 'Paraguay', 'Romania', 'Maldives', 'Jamaica',\n",
       "       'Kuwait', 'Finland', 'Argentina', 'Ethiopia', 'Japan', 'Cameroon',\n",
       "       'Bhutan', 'Botswana', 'Pakistan', 'Brazil', 'Madagascar',\n",
       "       'Eritrea', 'Mali', 'Thailand', 'Egypt', 'Ireland', 'Belgium',\n",
       "       'Luxembourg', 'Fiji', 'Italy', 'Greenland', 'Antigua and Barbuda',\n",
       "       'Andorra', 'Guinea', 'Nigeria', 'Ecuador', 'Guatemala',\n",
       "       'Afghanistan', 'Suriname', 'Djibouti', 'Uganda', 'Niger', 'Israel',\n",
       "       'Russia', 'Chile', 'Mexico', 'Seychelles',\n",
       "       'Bosnia and Herzegovina', 'Montenegro', 'Trinidad and Tobago',\n",
       "       'Togo', 'Panama', 'Denmark', 'Malta', 'Bahamas', 'Taiwan',\n",
       "       'Kyrgyzstan', 'South Africa', 'Sao Tome and Principe',\n",
       "       'New Zealand', 'France', 'Qatar', 'Angola', 'Belize', 'Azerbaijan',\n",
       "       'San Marino', 'Saudi Arabia', 'Serbia', 'Turkey', 'Cuba',\n",
       "       'Uruguay', 'Jordan', 'Timor-Leste', 'Slovenia', 'Portugal',\n",
       "       'Western Sahara', 'Costa Rica', 'Mauritius', 'Bolivia', 'Austria',\n",
       "       'Poland', 'Czechia', 'India', 'Somalia', 'Algeria', 'Brunei',\n",
       "       'Gambia', 'Uzbekistan', 'Armenia', 'Slovakia', 'North Macedonia',\n",
       "       'Guyana', 'Cyprus', 'United Kingdom', \"Cote d'Ivoire\", 'Honduras',\n",
       "       'Mozambique', 'Oman', 'Iran', 'Mongolia', 'Hungary',\n",
       "       'West Bank and Gaza', 'Bahrain', 'Chad', 'Kazakhstan', 'Holy See',\n",
       "       'Congo (Kinshasa)', 'Burkina Faso', 'Dominican Republic', 'Ghana',\n",
       "       'Zimbabwe', 'Benin', 'Estonia', 'Haiti', 'Indonesia',\n",
       "       'Netherlands', 'Croatia', 'Canada', 'Yemen', 'Eswatini', 'Moldova',\n",
       "       'Norway', 'Equatorial Guinea', 'Ukraine', 'Tunisia', 'South Korea',\n",
       "       'Burma', 'Senegal', 'Vietnam', 'Kosovo', 'Liechtenstein', 'Malawi',\n",
       "       'Central African Republic', 'Iraq', 'Morocco', 'Papua New Guinea',\n",
       "       'Cabo Verde', 'Mauritania', 'Sweden', 'Germany', 'Laos',\n",
       "       'El Salvador', 'Rwanda', 'Bangladesh', 'Libya', 'Burundi',\n",
       "       'Bulgaria', 'Spain', 'Colombia'], dtype=object)"
      ]
     },
     "execution_count": 9,
     "metadata": {},
     "output_type": "execute_result"
    }
   ],
   "source": [
    "prcp['Country/Region'].unique()"
   ]
  },
  {
   "cell_type": "code",
   "execution_count": 10,
   "id": "da59786a",
   "metadata": {},
   "outputs": [
    {
     "data": {
      "text/plain": [
       "170"
      ]
     },
     "execution_count": 10,
     "metadata": {},
     "output_type": "execute_result"
    }
   ],
   "source": [
    "prcp['Country/Region'].nunique()"
   ]
  },
  {
   "cell_type": "code",
   "execution_count": 12,
   "id": "d7d2ddbc",
   "metadata": {},
   "outputs": [
    {
     "data": {
      "text/plain": [
       "Country/Region\n",
       "Canada            227602\n",
       "Sweden            106070\n",
       "Germany           101761\n",
       "Russia             80047\n",
       "Netherlands        63159\n",
       "                   ...  \n",
       "Zimbabwe               6\n",
       "Cabo Verde             5\n",
       "Western Sahara         4\n",
       "Mauritania             4\n",
       "Zambia                 2\n",
       "Length: 170, dtype: int64"
      ]
     },
     "execution_count": 12,
     "metadata": {},
     "output_type": "execute_result"
    }
   ],
   "source": [
    "df2 = prcp.pivot_table(index = ['Country/Region'], aggfunc ='size')\n",
    "df2.sort_values(ascending = False)"
   ]
  },
  {
   "cell_type": "markdown",
   "id": "a4511528",
   "metadata": {},
   "source": [
    "## So above output gives us those top countries which contain most of the instances and we will consider only top 5 countries for our analysis as they contain sufficient amount of instances which are Canada, Sweden, Germany, Russia,Netherlands"
   ]
  },
  {
   "cell_type": "code",
   "execution_count": 65,
   "id": "8f18f886",
   "metadata": {},
   "outputs": [],
   "source": [
    "country = ['Canada','Sweden','Germany','Russia','Netherlands']"
   ]
  },
  {
   "cell_type": "code",
   "execution_count": 66,
   "id": "0da1479a",
   "metadata": {},
   "outputs": [],
   "source": [
    "prcp = prcp[prcp['Country/Region'].isin(country)]"
   ]
  },
  {
   "cell_type": "code",
   "execution_count": 67,
   "id": "b4464347",
   "metadata": {},
   "outputs": [
    {
     "data": {
      "text/plain": [
       "(578639, 14)"
      ]
     },
     "execution_count": 67,
     "metadata": {},
     "output_type": "execute_result"
    }
   ],
   "source": [
    "prcp.shape"
   ]
  },
  {
   "cell_type": "code",
   "execution_count": 68,
   "id": "e14a2c34",
   "metadata": {},
   "outputs": [
    {
     "data": {
      "text/plain": [
       "STATION                0\n",
       "Country/Region         0\n",
       "DATE                   0\n",
       "Year                   0\n",
       "Month                  0\n",
       "Day                    0\n",
       "PRCP                   0\n",
       "SNWD              275690\n",
       "TAVG              360867\n",
       "TMAX              242404\n",
       "TMIN              257517\n",
       "SNOW              480630\n",
       "LATITUDE          567118\n",
       "LONGITUDE         567118\n",
       "dtype: int64"
      ]
     },
     "execution_count": 68,
     "metadata": {},
     "output_type": "execute_result"
    }
   ],
   "source": [
    "prcp.isnull().sum()"
   ]
  },
  {
   "cell_type": "code",
   "execution_count": 17,
   "id": "1632ef0f",
   "metadata": {},
   "outputs": [
    {
     "data": {
      "text/html": [
       "<div>\n",
       "<style scoped>\n",
       "    .dataframe tbody tr th:only-of-type {\n",
       "        vertical-align: middle;\n",
       "    }\n",
       "\n",
       "    .dataframe tbody tr th {\n",
       "        vertical-align: top;\n",
       "    }\n",
       "\n",
       "    .dataframe thead th {\n",
       "        text-align: right;\n",
       "    }\n",
       "</style>\n",
       "<table border=\"1\" class=\"dataframe\">\n",
       "  <thead>\n",
       "    <tr style=\"text-align: right;\">\n",
       "      <th></th>\n",
       "      <th>STATION</th>\n",
       "      <th>Country/Region</th>\n",
       "      <th>DATE</th>\n",
       "      <th>Year</th>\n",
       "      <th>Month</th>\n",
       "      <th>Day</th>\n",
       "      <th>PRCP</th>\n",
       "      <th>SNWD</th>\n",
       "      <th>TAVG</th>\n",
       "      <th>TMAX</th>\n",
       "      <th>TMIN</th>\n",
       "      <th>SNOW</th>\n",
       "      <th>LATITUDE</th>\n",
       "      <th>LONGITUDE</th>\n",
       "    </tr>\n",
       "  </thead>\n",
       "  <tbody>\n",
       "    <tr>\n",
       "      <th>327846</th>\n",
       "      <td>RSM00034056</td>\n",
       "      <td>Russia</td>\n",
       "      <td>2020-01-22</td>\n",
       "      <td>2020</td>\n",
       "      <td>1</td>\n",
       "      <td>22</td>\n",
       "      <td>4.1</td>\n",
       "      <td>279.0</td>\n",
       "      <td>0.2</td>\n",
       "      <td>1.8</td>\n",
       "      <td>NaN</td>\n",
       "      <td>NaN</td>\n",
       "      <td>NaN</td>\n",
       "      <td>NaN</td>\n",
       "    </tr>\n",
       "    <tr>\n",
       "      <th>327847</th>\n",
       "      <td>RSM00034056</td>\n",
       "      <td>Russia</td>\n",
       "      <td>2020-01-23</td>\n",
       "      <td>2020</td>\n",
       "      <td>1</td>\n",
       "      <td>23</td>\n",
       "      <td>1.5</td>\n",
       "      <td>279.0</td>\n",
       "      <td>-4.3</td>\n",
       "      <td>-2.2</td>\n",
       "      <td>NaN</td>\n",
       "      <td>NaN</td>\n",
       "      <td>NaN</td>\n",
       "      <td>NaN</td>\n",
       "    </tr>\n",
       "    <tr>\n",
       "      <th>327849</th>\n",
       "      <td>RSM00034056</td>\n",
       "      <td>Russia</td>\n",
       "      <td>2020-01-25</td>\n",
       "      <td>2020</td>\n",
       "      <td>1</td>\n",
       "      <td>25</td>\n",
       "      <td>5.1</td>\n",
       "      <td>320.0</td>\n",
       "      <td>-0.1</td>\n",
       "      <td>1.2</td>\n",
       "      <td>-6.9</td>\n",
       "      <td>NaN</td>\n",
       "      <td>NaN</td>\n",
       "      <td>NaN</td>\n",
       "    </tr>\n",
       "    <tr>\n",
       "      <th>327850</th>\n",
       "      <td>RSM00034056</td>\n",
       "      <td>Russia</td>\n",
       "      <td>2020-01-26</td>\n",
       "      <td>2020</td>\n",
       "      <td>1</td>\n",
       "      <td>26</td>\n",
       "      <td>0.8</td>\n",
       "      <td>320.0</td>\n",
       "      <td>-2.6</td>\n",
       "      <td>-0.9</td>\n",
       "      <td>NaN</td>\n",
       "      <td>NaN</td>\n",
       "      <td>NaN</td>\n",
       "      <td>NaN</td>\n",
       "    </tr>\n",
       "    <tr>\n",
       "      <th>327851</th>\n",
       "      <td>RSM00034056</td>\n",
       "      <td>Russia</td>\n",
       "      <td>2020-01-27</td>\n",
       "      <td>2020</td>\n",
       "      <td>1</td>\n",
       "      <td>27</td>\n",
       "      <td>0.0</td>\n",
       "      <td>320.0</td>\n",
       "      <td>-0.8</td>\n",
       "      <td>1.6</td>\n",
       "      <td>-6.1</td>\n",
       "      <td>NaN</td>\n",
       "      <td>NaN</td>\n",
       "      <td>NaN</td>\n",
       "    </tr>\n",
       "    <tr>\n",
       "      <th>...</th>\n",
       "      <td>...</td>\n",
       "      <td>...</td>\n",
       "      <td>...</td>\n",
       "      <td>...</td>\n",
       "      <td>...</td>\n",
       "      <td>...</td>\n",
       "      <td>...</td>\n",
       "      <td>...</td>\n",
       "      <td>...</td>\n",
       "      <td>...</td>\n",
       "      <td>...</td>\n",
       "      <td>...</td>\n",
       "      <td>...</td>\n",
       "      <td>...</td>\n",
       "    </tr>\n",
       "    <tr>\n",
       "      <th>1350123</th>\n",
       "      <td>GME00123994</td>\n",
       "      <td>Germany</td>\n",
       "      <td>2020-07-23</td>\n",
       "      <td>2020</td>\n",
       "      <td>7</td>\n",
       "      <td>23</td>\n",
       "      <td>0.0</td>\n",
       "      <td>NaN</td>\n",
       "      <td>NaN</td>\n",
       "      <td>25.2</td>\n",
       "      <td>9.8</td>\n",
       "      <td>NaN</td>\n",
       "      <td>NaN</td>\n",
       "      <td>NaN</td>\n",
       "    </tr>\n",
       "    <tr>\n",
       "      <th>1350124</th>\n",
       "      <td>GME00123994</td>\n",
       "      <td>Germany</td>\n",
       "      <td>2020-07-24</td>\n",
       "      <td>2020</td>\n",
       "      <td>7</td>\n",
       "      <td>24</td>\n",
       "      <td>0.0</td>\n",
       "      <td>NaN</td>\n",
       "      <td>NaN</td>\n",
       "      <td>25.8</td>\n",
       "      <td>11.8</td>\n",
       "      <td>NaN</td>\n",
       "      <td>NaN</td>\n",
       "      <td>NaN</td>\n",
       "    </tr>\n",
       "    <tr>\n",
       "      <th>1350125</th>\n",
       "      <td>GME00123994</td>\n",
       "      <td>Germany</td>\n",
       "      <td>2020-07-25</td>\n",
       "      <td>2020</td>\n",
       "      <td>7</td>\n",
       "      <td>25</td>\n",
       "      <td>10.4</td>\n",
       "      <td>NaN</td>\n",
       "      <td>NaN</td>\n",
       "      <td>26.3</td>\n",
       "      <td>15.5</td>\n",
       "      <td>NaN</td>\n",
       "      <td>NaN</td>\n",
       "      <td>NaN</td>\n",
       "    </tr>\n",
       "    <tr>\n",
       "      <th>1350126</th>\n",
       "      <td>GME00123994</td>\n",
       "      <td>Germany</td>\n",
       "      <td>2020-07-26</td>\n",
       "      <td>2020</td>\n",
       "      <td>7</td>\n",
       "      <td>26</td>\n",
       "      <td>3.0</td>\n",
       "      <td>NaN</td>\n",
       "      <td>NaN</td>\n",
       "      <td>25.3</td>\n",
       "      <td>14.4</td>\n",
       "      <td>NaN</td>\n",
       "      <td>NaN</td>\n",
       "      <td>NaN</td>\n",
       "    </tr>\n",
       "    <tr>\n",
       "      <th>1350127</th>\n",
       "      <td>GME00123994</td>\n",
       "      <td>Germany</td>\n",
       "      <td>2020-07-27</td>\n",
       "      <td>2020</td>\n",
       "      <td>7</td>\n",
       "      <td>27</td>\n",
       "      <td>0.4</td>\n",
       "      <td>NaN</td>\n",
       "      <td>NaN</td>\n",
       "      <td>23.6</td>\n",
       "      <td>11.6</td>\n",
       "      <td>NaN</td>\n",
       "      <td>NaN</td>\n",
       "      <td>NaN</td>\n",
       "    </tr>\n",
       "  </tbody>\n",
       "</table>\n",
       "<p>578639 rows × 14 columns</p>\n",
       "</div>"
      ],
      "text/plain": [
       "             STATION Country/Region        DATE  Year  Month  Day  PRCP  \\\n",
       "327846   RSM00034056         Russia  2020-01-22  2020      1   22   4.1   \n",
       "327847   RSM00034056         Russia  2020-01-23  2020      1   23   1.5   \n",
       "327849   RSM00034056         Russia  2020-01-25  2020      1   25   5.1   \n",
       "327850   RSM00034056         Russia  2020-01-26  2020      1   26   0.8   \n",
       "327851   RSM00034056         Russia  2020-01-27  2020      1   27   0.0   \n",
       "...              ...            ...         ...   ...    ...  ...   ...   \n",
       "1350123  GME00123994        Germany  2020-07-23  2020      7   23   0.0   \n",
       "1350124  GME00123994        Germany  2020-07-24  2020      7   24   0.0   \n",
       "1350125  GME00123994        Germany  2020-07-25  2020      7   25  10.4   \n",
       "1350126  GME00123994        Germany  2020-07-26  2020      7   26   3.0   \n",
       "1350127  GME00123994        Germany  2020-07-27  2020      7   27   0.4   \n",
       "\n",
       "          SNWD  TAVG  TMAX  TMIN  SNOW  LATITUDE  LONGITUDE  \n",
       "327846   279.0   0.2   1.8   NaN   NaN       NaN        NaN  \n",
       "327847   279.0  -4.3  -2.2   NaN   NaN       NaN        NaN  \n",
       "327849   320.0  -0.1   1.2  -6.9   NaN       NaN        NaN  \n",
       "327850   320.0  -2.6  -0.9   NaN   NaN       NaN        NaN  \n",
       "327851   320.0  -0.8   1.6  -6.1   NaN       NaN        NaN  \n",
       "...        ...   ...   ...   ...   ...       ...        ...  \n",
       "1350123    NaN   NaN  25.2   9.8   NaN       NaN        NaN  \n",
       "1350124    NaN   NaN  25.8  11.8   NaN       NaN        NaN  \n",
       "1350125    NaN   NaN  26.3  15.5   NaN       NaN        NaN  \n",
       "1350126    NaN   NaN  25.3  14.4   NaN       NaN        NaN  \n",
       "1350127    NaN   NaN  23.6  11.6   NaN       NaN        NaN  \n",
       "\n",
       "[578639 rows x 14 columns]"
      ]
     },
     "execution_count": 17,
     "metadata": {},
     "output_type": "execute_result"
    }
   ],
   "source": [
    "prcp"
   ]
  },
  {
   "cell_type": "markdown",
   "id": "d99eb4f3",
   "metadata": {},
   "source": [
    "## Boxplot of Precipitation, Temperature Average, Maximum Temperature and Minimum Temperature to know the distribution of data"
   ]
  },
  {
   "cell_type": "code",
   "execution_count": 18,
   "id": "844e2fa3",
   "metadata": {},
   "outputs": [
    {
     "data": {
      "image/png": "[encoded data removed]",
      "text/plain": [
       "<Figure size 1200x400 with 4 Axes>"
      ]
     },
     "metadata": {},
     "output_type": "display_data"
    }
   ],
   "source": [
    "fig, ax = plt.subplots(1, 4, figsize=(12, 4))\n",
    "\n",
    "sns.set_theme(style=\"whitegrid\")\n",
    "for axid, col in enumerate([\"PRCP\", \"TAVG\", \"TMAX\",\"TMIN\"]):\n",
    "    sns.boxplot(x=prcp[col], ax=ax[axid])"
   ]
  },
  {
   "cell_type": "markdown",
   "id": "7fa7f128",
   "metadata": {},
   "source": [
    "## There are missing value of TAVG,TMAX,TMIN so from above box plot these attributes are having normal distribution as median is in mid of boxplot so by grouping by STATION attribute of Country we will fill those missing values with the mean of correspondin attribute"
   ]
  },
  {
   "cell_type": "code",
   "execution_count": 69,
   "id": "15538b23",
   "metadata": {},
   "outputs": [
    {
     "name": "stderr",
     "output_type": "stream",
     "text": [
      "C:\\Users\\mayan\\AppData\\Local\\Temp\\ipykernel_18332\\127533366.py:1: SettingWithCopyWarning: \n",
      "A value is trying to be set on a copy of a slice from a DataFrame.\n",
      "Try using .loc[row_indexer,col_indexer] = value instead\n",
      "\n",
      "See the caveats in the documentation: https://pandas.pydata.org/pandas-docs/stable/user_guide/indexing.html#returning-a-view-versus-a-copy\n",
      "  prcp.loc[:, ['TAVG', 'TMAX', 'TMIN']] = prcp.groupby('STATION')[['TAVG', 'TMAX', 'TMIN']] \\\n"
     ]
    }
   ],
   "source": [
    "prcp.loc[:, ['TAVG', 'TMAX', 'TMIN']] = prcp.groupby('STATION')[['TAVG', 'TMAX', 'TMIN']] \\\n",
    "    .transform(lambda x: x.fillna(x.mean()))\n"
   ]
  },
  {
   "cell_type": "code",
   "execution_count": 70,
   "id": "28b42c0b",
   "metadata": {},
   "outputs": [
    {
     "data": {
      "text/plain": [
       "STATION                0\n",
       "Country/Region         0\n",
       "DATE                   0\n",
       "Year                   0\n",
       "Month                  0\n",
       "Day                    0\n",
       "PRCP                   0\n",
       "SNWD              275690\n",
       "TAVG              359234\n",
       "TMAX              228500\n",
       "TMIN              228260\n",
       "SNOW              480630\n",
       "LATITUDE          567118\n",
       "LONGITUDE         567118\n",
       "dtype: int64"
      ]
     },
     "execution_count": 70,
     "metadata": {},
     "output_type": "execute_result"
    }
   ],
   "source": [
    "prcp.isnull().sum()"
   ]
  },
  {
   "cell_type": "markdown",
   "id": "7de9fb4e",
   "metadata": {},
   "source": [
    "## By doing so there is not that much decrement in null values of TMAX,TMIN,TAVG so now this time i have grouped by COUNTRY and replace these missing value by Country's average temp,maximum temperature and minimum temperature "
   ]
  },
  {
   "cell_type": "code",
   "execution_count": 71,
   "id": "8cdae9d9",
   "metadata": {},
   "outputs": [
    {
     "name": "stderr",
     "output_type": "stream",
     "text": [
      "C:\\Users\\mayan\\AppData\\Local\\Temp\\ipykernel_18332\\7355570.py:1: SettingWithCopyWarning: \n",
      "A value is trying to be set on a copy of a slice from a DataFrame.\n",
      "Try using .loc[row_indexer,col_indexer] = value instead\n",
      "\n",
      "See the caveats in the documentation: https://pandas.pydata.org/pandas-docs/stable/user_guide/indexing.html#returning-a-view-versus-a-copy\n",
      "  prcp.loc[:, ['TAVG', 'TMAX', 'TMIN']] = prcp.groupby('Country/Region')[['TAVG', 'TMAX', 'TMIN']] \\\n"
     ]
    }
   ],
   "source": [
    "prcp.loc[:, ['TAVG', 'TMAX', 'TMIN']] = prcp.groupby('Country/Region')[['TAVG', 'TMAX', 'TMIN']] \\\n",
    "    .transform(lambda x: x.fillna(x.mean()))"
   ]
  },
  {
   "cell_type": "code",
   "execution_count": 72,
   "id": "64c0ecbe",
   "metadata": {},
   "outputs": [
    {
     "data": {
      "text/plain": [
       "STATION                0\n",
       "Country/Region         0\n",
       "DATE                   0\n",
       "Year                   0\n",
       "Month                  0\n",
       "Day                    0\n",
       "PRCP                   0\n",
       "SNWD              275690\n",
       "TAVG                   0\n",
       "TMAX                   0\n",
       "TMIN                   0\n",
       "SNOW              480630\n",
       "LATITUDE          567118\n",
       "LONGITUDE         567118\n",
       "dtype: int64"
      ]
     },
     "execution_count": 72,
     "metadata": {},
     "output_type": "execute_result"
    }
   ],
   "source": [
    "prcp.isnull().sum()"
   ]
  },
  {
   "cell_type": "markdown",
   "id": "5939bd45",
   "metadata": {},
   "source": [
    "## Now there is no null values in TAVG,TMAX and TMIN"
   ]
  },
  {
   "attachments": {},
   "cell_type": "markdown",
   "id": "ba1f59d7",
   "metadata": {},
   "source": [
    "# Missing value of Latitude and Longitude is managed by using geopandas library but in this dataset we dont have exact address of station in country only station id is provided so those stations will have common geocodes of their corresponding country"
   ]
  },
  {
   "cell_type": "code",
   "execution_count": 73,
   "id": "12a213e3",
   "metadata": {},
   "outputs": [],
   "source": [
    "import geopandas as gpd\n",
    "from geopandas.tools import geocode"
   ]
  },
  {
   "cell_type": "code",
   "execution_count": 74,
   "id": "ed7ef920",
   "metadata": {},
   "outputs": [],
   "source": [
    "country_dic = prcp['Country/Region'].unique()"
   ]
  },
  {
   "cell_type": "code",
   "execution_count": 75,
   "id": "434fc3fd",
   "metadata": {},
   "outputs": [
    {
     "data": {
      "text/plain": [
       "array(['Russia', 'Netherlands', 'Canada', 'Sweden', 'Germany'],\n",
       "      dtype=object)"
      ]
     },
     "execution_count": 75,
     "metadata": {},
     "output_type": "execute_result"
    }
   ],
   "source": [
    "np.array(country_dic)"
   ]
  },
  {
   "cell_type": "code",
   "execution_count": 77,
   "id": "7364542b",
   "metadata": {},
   "outputs": [],
   "source": [
    "from geopy.geocoders import Nominatim\n",
    "def geocode(Country):\n",
    "    geolocator = Nominatim(user_agent=\"mayank_g\")\n",
    "    location = geolocator.geocode(Country, exactly_one = False)\n",
    "    return location"
   ]
  },
  {
   "cell_type": "code",
   "execution_count": 78,
   "id": "93fd7670",
   "metadata": {},
   "outputs": [],
   "source": [
    "d = {}\n",
    "for Country in country_dic:\n",
    "    loc = geocode(Country)\n",
    "    if loc is None:\n",
    "        d[Country] = 'Nothing found'\n",
    "    else: \n",
    "        d[Country] = loc[0].latitude,loc[0].longitude"
   ]
  },
  {
   "cell_type": "code",
   "execution_count": 79,
   "id": "b1091185",
   "metadata": {},
   "outputs": [
    {
     "data": {
      "text/plain": [
       "{'Russia': (64.6863136, 97.7453061),\n",
       " 'Netherlands': (52.2434979, 5.6343227),\n",
       " 'Canada': (61.0666922, -107.991707),\n",
       " 'Sweden': (59.6749712, 14.5208584),\n",
       " 'Germany': (51.1638175, 10.4478313)}"
      ]
     },
     "execution_count": 79,
     "metadata": {},
     "output_type": "execute_result"
    }
   ],
   "source": [
    "d"
   ]
  },
  {
   "cell_type": "code",
   "execution_count": 80,
   "id": "46132b7a",
   "metadata": {},
   "outputs": [],
   "source": [
    "def fill_lat_lon(row):\n",
    "    country = row['Country/Region']\n",
    "    if country in d:\n",
    "        row['LATITUDE'] = d[country][0]\n",
    "        row['LONGITUDE'] = d[country][1]\n",
    "    return row\n",
    "\n",
    "prcp = prcp.apply(fill_lat_lon, axis=1)"
   ]
  },
  {
   "cell_type": "code",
   "execution_count": 81,
   "id": "6db88543",
   "metadata": {},
   "outputs": [
    {
     "data": {
      "text/html": [
       "<div>\n",
       "<style scoped>\n",
       "    .dataframe tbody tr th:only-of-type {\n",
       "        vertical-align: middle;\n",
       "    }\n",
       "\n",
       "    .dataframe tbody tr th {\n",
       "        vertical-align: top;\n",
       "    }\n",
       "\n",
       "    .dataframe thead th {\n",
       "        text-align: right;\n",
       "    }\n",
       "</style>\n",
       "<table border=\"1\" class=\"dataframe\">\n",
       "  <thead>\n",
       "    <tr style=\"text-align: right;\">\n",
       "      <th></th>\n",
       "      <th>STATION</th>\n",
       "      <th>Country/Region</th>\n",
       "      <th>DATE</th>\n",
       "      <th>Year</th>\n",
       "      <th>Month</th>\n",
       "      <th>Day</th>\n",
       "      <th>PRCP</th>\n",
       "      <th>SNWD</th>\n",
       "      <th>TAVG</th>\n",
       "      <th>TMAX</th>\n",
       "      <th>TMIN</th>\n",
       "      <th>SNOW</th>\n",
       "      <th>LATITUDE</th>\n",
       "      <th>LONGITUDE</th>\n",
       "    </tr>\n",
       "  </thead>\n",
       "  <tbody>\n",
       "    <tr>\n",
       "      <th>327846</th>\n",
       "      <td>RSM00034056</td>\n",
       "      <td>Russia</td>\n",
       "      <td>2020-01-22</td>\n",
       "      <td>2020</td>\n",
       "      <td>1</td>\n",
       "      <td>22</td>\n",
       "      <td>4.1</td>\n",
       "      <td>279.0</td>\n",
       "      <td>0.200000</td>\n",
       "      <td>1.8</td>\n",
       "      <td>-3.494737</td>\n",
       "      <td>NaN</td>\n",
       "      <td>64.686314</td>\n",
       "      <td>97.745306</td>\n",
       "    </tr>\n",
       "    <tr>\n",
       "      <th>327847</th>\n",
       "      <td>RSM00034056</td>\n",
       "      <td>Russia</td>\n",
       "      <td>2020-01-23</td>\n",
       "      <td>2020</td>\n",
       "      <td>1</td>\n",
       "      <td>23</td>\n",
       "      <td>1.5</td>\n",
       "      <td>279.0</td>\n",
       "      <td>-4.300000</td>\n",
       "      <td>-2.2</td>\n",
       "      <td>-3.494737</td>\n",
       "      <td>NaN</td>\n",
       "      <td>64.686314</td>\n",
       "      <td>97.745306</td>\n",
       "    </tr>\n",
       "    <tr>\n",
       "      <th>327849</th>\n",
       "      <td>RSM00034056</td>\n",
       "      <td>Russia</td>\n",
       "      <td>2020-01-25</td>\n",
       "      <td>2020</td>\n",
       "      <td>1</td>\n",
       "      <td>25</td>\n",
       "      <td>5.1</td>\n",
       "      <td>320.0</td>\n",
       "      <td>-0.100000</td>\n",
       "      <td>1.2</td>\n",
       "      <td>-6.900000</td>\n",
       "      <td>NaN</td>\n",
       "      <td>64.686314</td>\n",
       "      <td>97.745306</td>\n",
       "    </tr>\n",
       "    <tr>\n",
       "      <th>327850</th>\n",
       "      <td>RSM00034056</td>\n",
       "      <td>Russia</td>\n",
       "      <td>2020-01-26</td>\n",
       "      <td>2020</td>\n",
       "      <td>1</td>\n",
       "      <td>26</td>\n",
       "      <td>0.8</td>\n",
       "      <td>320.0</td>\n",
       "      <td>-2.600000</td>\n",
       "      <td>-0.9</td>\n",
       "      <td>-3.494737</td>\n",
       "      <td>NaN</td>\n",
       "      <td>64.686314</td>\n",
       "      <td>97.745306</td>\n",
       "    </tr>\n",
       "    <tr>\n",
       "      <th>327851</th>\n",
       "      <td>RSM00034056</td>\n",
       "      <td>Russia</td>\n",
       "      <td>2020-01-27</td>\n",
       "      <td>2020</td>\n",
       "      <td>1</td>\n",
       "      <td>27</td>\n",
       "      <td>0.0</td>\n",
       "      <td>320.0</td>\n",
       "      <td>-0.800000</td>\n",
       "      <td>1.6</td>\n",
       "      <td>-6.100000</td>\n",
       "      <td>NaN</td>\n",
       "      <td>64.686314</td>\n",
       "      <td>97.745306</td>\n",
       "    </tr>\n",
       "    <tr>\n",
       "      <th>...</th>\n",
       "      <td>...</td>\n",
       "      <td>...</td>\n",
       "      <td>...</td>\n",
       "      <td>...</td>\n",
       "      <td>...</td>\n",
       "      <td>...</td>\n",
       "      <td>...</td>\n",
       "      <td>...</td>\n",
       "      <td>...</td>\n",
       "      <td>...</td>\n",
       "      <td>...</td>\n",
       "      <td>...</td>\n",
       "      <td>...</td>\n",
       "      <td>...</td>\n",
       "    </tr>\n",
       "    <tr>\n",
       "      <th>1350123</th>\n",
       "      <td>GME00123994</td>\n",
       "      <td>Germany</td>\n",
       "      <td>2020-07-23</td>\n",
       "      <td>2020</td>\n",
       "      <td>7</td>\n",
       "      <td>23</td>\n",
       "      <td>0.0</td>\n",
       "      <td>NaN</td>\n",
       "      <td>11.547962</td>\n",
       "      <td>25.2</td>\n",
       "      <td>9.800000</td>\n",
       "      <td>NaN</td>\n",
       "      <td>51.163818</td>\n",
       "      <td>10.447831</td>\n",
       "    </tr>\n",
       "    <tr>\n",
       "      <th>1350124</th>\n",
       "      <td>GME00123994</td>\n",
       "      <td>Germany</td>\n",
       "      <td>2020-07-24</td>\n",
       "      <td>2020</td>\n",
       "      <td>7</td>\n",
       "      <td>24</td>\n",
       "      <td>0.0</td>\n",
       "      <td>NaN</td>\n",
       "      <td>11.547962</td>\n",
       "      <td>25.8</td>\n",
       "      <td>11.800000</td>\n",
       "      <td>NaN</td>\n",
       "      <td>51.163818</td>\n",
       "      <td>10.447831</td>\n",
       "    </tr>\n",
       "    <tr>\n",
       "      <th>1350125</th>\n",
       "      <td>GME00123994</td>\n",
       "      <td>Germany</td>\n",
       "      <td>2020-07-25</td>\n",
       "      <td>2020</td>\n",
       "      <td>7</td>\n",
       "      <td>25</td>\n",
       "      <td>10.4</td>\n",
       "      <td>NaN</td>\n",
       "      <td>11.547962</td>\n",
       "      <td>26.3</td>\n",
       "      <td>15.500000</td>\n",
       "      <td>NaN</td>\n",
       "      <td>51.163818</td>\n",
       "      <td>10.447831</td>\n",
       "    </tr>\n",
       "    <tr>\n",
       "      <th>1350126</th>\n",
       "      <td>GME00123994</td>\n",
       "      <td>Germany</td>\n",
       "      <td>2020-07-26</td>\n",
       "      <td>2020</td>\n",
       "      <td>7</td>\n",
       "      <td>26</td>\n",
       "      <td>3.0</td>\n",
       "      <td>NaN</td>\n",
       "      <td>11.547962</td>\n",
       "      <td>25.3</td>\n",
       "      <td>14.400000</td>\n",
       "      <td>NaN</td>\n",
       "      <td>51.163818</td>\n",
       "      <td>10.447831</td>\n",
       "    </tr>\n",
       "    <tr>\n",
       "      <th>1350127</th>\n",
       "      <td>GME00123994</td>\n",
       "      <td>Germany</td>\n",
       "      <td>2020-07-27</td>\n",
       "      <td>2020</td>\n",
       "      <td>7</td>\n",
       "      <td>27</td>\n",
       "      <td>0.4</td>\n",
       "      <td>NaN</td>\n",
       "      <td>11.547962</td>\n",
       "      <td>23.6</td>\n",
       "      <td>11.600000</td>\n",
       "      <td>NaN</td>\n",
       "      <td>51.163818</td>\n",
       "      <td>10.447831</td>\n",
       "    </tr>\n",
       "  </tbody>\n",
       "</table>\n",
       "<p>578639 rows × 14 columns</p>\n",
       "</div>"
      ],
      "text/plain": [
       "             STATION Country/Region        DATE  Year  Month  Day  PRCP  \\\n",
       "327846   RSM00034056         Russia  2020-01-22  2020      1   22   4.1   \n",
       "327847   RSM00034056         Russia  2020-01-23  2020      1   23   1.5   \n",
       "327849   RSM00034056         Russia  2020-01-25  2020      1   25   5.1   \n",
       "327850   RSM00034056         Russia  2020-01-26  2020      1   26   0.8   \n",
       "327851   RSM00034056         Russia  2020-01-27  2020      1   27   0.0   \n",
       "...              ...            ...         ...   ...    ...  ...   ...   \n",
       "1350123  GME00123994        Germany  2020-07-23  2020      7   23   0.0   \n",
       "1350124  GME00123994        Germany  2020-07-24  2020      7   24   0.0   \n",
       "1350125  GME00123994        Germany  2020-07-25  2020      7   25  10.4   \n",
       "1350126  GME00123994        Germany  2020-07-26  2020      7   26   3.0   \n",
       "1350127  GME00123994        Germany  2020-07-27  2020      7   27   0.4   \n",
       "\n",
       "          SNWD       TAVG  TMAX       TMIN  SNOW   LATITUDE  LONGITUDE  \n",
       "327846   279.0   0.200000   1.8  -3.494737   NaN  64.686314  97.745306  \n",
       "327847   279.0  -4.300000  -2.2  -3.494737   NaN  64.686314  97.745306  \n",
       "327849   320.0  -0.100000   1.2  -6.900000   NaN  64.686314  97.745306  \n",
       "327850   320.0  -2.600000  -0.9  -3.494737   NaN  64.686314  97.745306  \n",
       "327851   320.0  -0.800000   1.6  -6.100000   NaN  64.686314  97.745306  \n",
       "...        ...        ...   ...        ...   ...        ...        ...  \n",
       "1350123    NaN  11.547962  25.2   9.800000   NaN  51.163818  10.447831  \n",
       "1350124    NaN  11.547962  25.8  11.800000   NaN  51.163818  10.447831  \n",
       "1350125    NaN  11.547962  26.3  15.500000   NaN  51.163818  10.447831  \n",
       "1350126    NaN  11.547962  25.3  14.400000   NaN  51.163818  10.447831  \n",
       "1350127    NaN  11.547962  23.6  11.600000   NaN  51.163818  10.447831  \n",
       "\n",
       "[578639 rows x 14 columns]"
      ]
     },
     "execution_count": 81,
     "metadata": {},
     "output_type": "execute_result"
    }
   ],
   "source": [
    "prcp"
   ]
  },
  {
   "cell_type": "code",
   "execution_count": 82,
   "id": "821760f9",
   "metadata": {},
   "outputs": [
    {
     "data": {
      "text/plain": [
       "STATION                0\n",
       "Country/Region         0\n",
       "DATE                   0\n",
       "Year                   0\n",
       "Month                  0\n",
       "Day                    0\n",
       "PRCP                   0\n",
       "SNWD              275690\n",
       "TAVG                   0\n",
       "TMAX                   0\n",
       "TMIN                   0\n",
       "SNOW              480630\n",
       "LATITUDE               0\n",
       "LONGITUDE              0\n",
       "dtype: int64"
      ]
     },
     "execution_count": 82,
     "metadata": {},
     "output_type": "execute_result"
    }
   ],
   "source": [
    "prcp.isnull().sum()"
   ]
  },
  {
   "cell_type": "markdown",
   "id": "a1c401f5",
   "metadata": {},
   "source": [
    "## Even now Snow and Snow depth attributes have so many null values and there is no other data available online and these are non derviable attributes we have to drop these two attributes"
   ]
  },
  {
   "cell_type": "code",
   "execution_count": 84,
   "id": "3ee08996",
   "metadata": {},
   "outputs": [],
   "source": [
    "prcp.drop(['SNWD','SNOW'],axis = 1,inplace = True)"
   ]
  },
  {
   "cell_type": "code",
   "execution_count": 85,
   "id": "8f83e041",
   "metadata": {},
   "outputs": [
    {
     "data": {
      "text/html": [
       "<div>\n",
       "<style scoped>\n",
       "    .dataframe tbody tr th:only-of-type {\n",
       "        vertical-align: middle;\n",
       "    }\n",
       "\n",
       "    .dataframe tbody tr th {\n",
       "        vertical-align: top;\n",
       "    }\n",
       "\n",
       "    .dataframe thead th {\n",
       "        text-align: right;\n",
       "    }\n",
       "</style>\n",
       "<table border=\"1\" class=\"dataframe\">\n",
       "  <thead>\n",
       "    <tr style=\"text-align: right;\">\n",
       "      <th></th>\n",
       "      <th>STATION</th>\n",
       "      <th>Country/Region</th>\n",
       "      <th>DATE</th>\n",
       "      <th>Year</th>\n",
       "      <th>Month</th>\n",
       "      <th>Day</th>\n",
       "      <th>PRCP</th>\n",
       "      <th>TAVG</th>\n",
       "      <th>TMAX</th>\n",
       "      <th>TMIN</th>\n",
       "      <th>LATITUDE</th>\n",
       "      <th>LONGITUDE</th>\n",
       "    </tr>\n",
       "  </thead>\n",
       "  <tbody>\n",
       "    <tr>\n",
       "      <th>327846</th>\n",
       "      <td>RSM00034056</td>\n",
       "      <td>Russia</td>\n",
       "      <td>2020-01-22</td>\n",
       "      <td>2020</td>\n",
       "      <td>1</td>\n",
       "      <td>22</td>\n",
       "      <td>4.1</td>\n",
       "      <td>0.200000</td>\n",
       "      <td>1.8</td>\n",
       "      <td>-3.494737</td>\n",
       "      <td>64.686314</td>\n",
       "      <td>97.745306</td>\n",
       "    </tr>\n",
       "    <tr>\n",
       "      <th>327847</th>\n",
       "      <td>RSM00034056</td>\n",
       "      <td>Russia</td>\n",
       "      <td>2020-01-23</td>\n",
       "      <td>2020</td>\n",
       "      <td>1</td>\n",
       "      <td>23</td>\n",
       "      <td>1.5</td>\n",
       "      <td>-4.300000</td>\n",
       "      <td>-2.2</td>\n",
       "      <td>-3.494737</td>\n",
       "      <td>64.686314</td>\n",
       "      <td>97.745306</td>\n",
       "    </tr>\n",
       "    <tr>\n",
       "      <th>327849</th>\n",
       "      <td>RSM00034056</td>\n",
       "      <td>Russia</td>\n",
       "      <td>2020-01-25</td>\n",
       "      <td>2020</td>\n",
       "      <td>1</td>\n",
       "      <td>25</td>\n",
       "      <td>5.1</td>\n",
       "      <td>-0.100000</td>\n",
       "      <td>1.2</td>\n",
       "      <td>-6.900000</td>\n",
       "      <td>64.686314</td>\n",
       "      <td>97.745306</td>\n",
       "    </tr>\n",
       "    <tr>\n",
       "      <th>327850</th>\n",
       "      <td>RSM00034056</td>\n",
       "      <td>Russia</td>\n",
       "      <td>2020-01-26</td>\n",
       "      <td>2020</td>\n",
       "      <td>1</td>\n",
       "      <td>26</td>\n",
       "      <td>0.8</td>\n",
       "      <td>-2.600000</td>\n",
       "      <td>-0.9</td>\n",
       "      <td>-3.494737</td>\n",
       "      <td>64.686314</td>\n",
       "      <td>97.745306</td>\n",
       "    </tr>\n",
       "    <tr>\n",
       "      <th>327851</th>\n",
       "      <td>RSM00034056</td>\n",
       "      <td>Russia</td>\n",
       "      <td>2020-01-27</td>\n",
       "      <td>2020</td>\n",
       "      <td>1</td>\n",
       "      <td>27</td>\n",
       "      <td>0.0</td>\n",
       "      <td>-0.800000</td>\n",
       "      <td>1.6</td>\n",
       "      <td>-6.100000</td>\n",
       "      <td>64.686314</td>\n",
       "      <td>97.745306</td>\n",
       "    </tr>\n",
       "    <tr>\n",
       "      <th>...</th>\n",
       "      <td>...</td>\n",
       "      <td>...</td>\n",
       "      <td>...</td>\n",
       "      <td>...</td>\n",
       "      <td>...</td>\n",
       "      <td>...</td>\n",
       "      <td>...</td>\n",
       "      <td>...</td>\n",
       "      <td>...</td>\n",
       "      <td>...</td>\n",
       "      <td>...</td>\n",
       "      <td>...</td>\n",
       "    </tr>\n",
       "    <tr>\n",
       "      <th>1350123</th>\n",
       "      <td>GME00123994</td>\n",
       "      <td>Germany</td>\n",
       "      <td>2020-07-23</td>\n",
       "      <td>2020</td>\n",
       "      <td>7</td>\n",
       "      <td>23</td>\n",
       "      <td>0.0</td>\n",
       "      <td>11.547962</td>\n",
       "      <td>25.2</td>\n",
       "      <td>9.800000</td>\n",
       "      <td>51.163818</td>\n",
       "      <td>10.447831</td>\n",
       "    </tr>\n",
       "    <tr>\n",
       "      <th>1350124</th>\n",
       "      <td>GME00123994</td>\n",
       "      <td>Germany</td>\n",
       "      <td>2020-07-24</td>\n",
       "      <td>2020</td>\n",
       "      <td>7</td>\n",
       "      <td>24</td>\n",
       "      <td>0.0</td>\n",
       "      <td>11.547962</td>\n",
       "      <td>25.8</td>\n",
       "      <td>11.800000</td>\n",
       "      <td>51.163818</td>\n",
       "      <td>10.447831</td>\n",
       "    </tr>\n",
       "    <tr>\n",
       "      <th>1350125</th>\n",
       "      <td>GME00123994</td>\n",
       "      <td>Germany</td>\n",
       "      <td>2020-07-25</td>\n",
       "      <td>2020</td>\n",
       "      <td>7</td>\n",
       "      <td>25</td>\n",
       "      <td>10.4</td>\n",
       "      <td>11.547962</td>\n",
       "      <td>26.3</td>\n",
       "      <td>15.500000</td>\n",
       "      <td>51.163818</td>\n",
       "      <td>10.447831</td>\n",
       "    </tr>\n",
       "    <tr>\n",
       "      <th>1350126</th>\n",
       "      <td>GME00123994</td>\n",
       "      <td>Germany</td>\n",
       "      <td>2020-07-26</td>\n",
       "      <td>2020</td>\n",
       "      <td>7</td>\n",
       "      <td>26</td>\n",
       "      <td>3.0</td>\n",
       "      <td>11.547962</td>\n",
       "      <td>25.3</td>\n",
       "      <td>14.400000</td>\n",
       "      <td>51.163818</td>\n",
       "      <td>10.447831</td>\n",
       "    </tr>\n",
       "    <tr>\n",
       "      <th>1350127</th>\n",
       "      <td>GME00123994</td>\n",
       "      <td>Germany</td>\n",
       "      <td>2020-07-27</td>\n",
       "      <td>2020</td>\n",
       "      <td>7</td>\n",
       "      <td>27</td>\n",
       "      <td>0.4</td>\n",
       "      <td>11.547962</td>\n",
       "      <td>23.6</td>\n",
       "      <td>11.600000</td>\n",
       "      <td>51.163818</td>\n",
       "      <td>10.447831</td>\n",
       "    </tr>\n",
       "  </tbody>\n",
       "</table>\n",
       "<p>578639 rows × 12 columns</p>\n",
       "</div>"
      ],
      "text/plain": [
       "             STATION Country/Region        DATE  Year  Month  Day  PRCP  \\\n",
       "327846   RSM00034056         Russia  2020-01-22  2020      1   22   4.1   \n",
       "327847   RSM00034056         Russia  2020-01-23  2020      1   23   1.5   \n",
       "327849   RSM00034056         Russia  2020-01-25  2020      1   25   5.1   \n",
       "327850   RSM00034056         Russia  2020-01-26  2020      1   26   0.8   \n",
       "327851   RSM00034056         Russia  2020-01-27  2020      1   27   0.0   \n",
       "...              ...            ...         ...   ...    ...  ...   ...   \n",
       "1350123  GME00123994        Germany  2020-07-23  2020      7   23   0.0   \n",
       "1350124  GME00123994        Germany  2020-07-24  2020      7   24   0.0   \n",
       "1350125  GME00123994        Germany  2020-07-25  2020      7   25  10.4   \n",
       "1350126  GME00123994        Germany  2020-07-26  2020      7   26   3.0   \n",
       "1350127  GME00123994        Germany  2020-07-27  2020      7   27   0.4   \n",
       "\n",
       "              TAVG  TMAX       TMIN   LATITUDE  LONGITUDE  \n",
       "327846    0.200000   1.8  -3.494737  64.686314  97.745306  \n",
       "327847   -4.300000  -2.2  -3.494737  64.686314  97.745306  \n",
       "327849   -0.100000   1.2  -6.900000  64.686314  97.745306  \n",
       "327850   -2.600000  -0.9  -3.494737  64.686314  97.745306  \n",
       "327851   -0.800000   1.6  -6.100000  64.686314  97.745306  \n",
       "...            ...   ...        ...        ...        ...  \n",
       "1350123  11.547962  25.2   9.800000  51.163818  10.447831  \n",
       "1350124  11.547962  25.8  11.800000  51.163818  10.447831  \n",
       "1350125  11.547962  26.3  15.500000  51.163818  10.447831  \n",
       "1350126  11.547962  25.3  14.400000  51.163818  10.447831  \n",
       "1350127  11.547962  23.6  11.600000  51.163818  10.447831  \n",
       "\n",
       "[578639 rows x 12 columns]"
      ]
     },
     "execution_count": 85,
     "metadata": {},
     "output_type": "execute_result"
    }
   ],
   "source": [
    "prcp"
   ]
  },
  {
   "cell_type": "code",
   "execution_count": 86,
   "id": "27e84cdc",
   "metadata": {},
   "outputs": [
    {
     "data": {
      "text/plain": [
       "STATION           0\n",
       "Country/Region    0\n",
       "DATE              0\n",
       "Year              0\n",
       "Month             0\n",
       "Day               0\n",
       "PRCP              0\n",
       "TAVG              0\n",
       "TMAX              0\n",
       "TMIN              0\n",
       "LATITUDE          0\n",
       "LONGITUDE         0\n",
       "dtype: int64"
      ]
     },
     "execution_count": 86,
     "metadata": {},
     "output_type": "execute_result"
    }
   ],
   "source": [
    "prcp.isnull().sum()"
   ]
  },
  {
   "cell_type": "markdown",
   "id": "431a5ed4",
   "metadata": {},
   "source": [
    "# Scatter Plot TAVG v/s PRCP"
   ]
  },
  {
   "cell_type": "code",
   "execution_count": 87,
   "id": "a44e4ae4",
   "metadata": {},
   "outputs": [
    {
     "data": {
      "text/plain": [
       "<Axes: xlabel='TAVG', ylabel='PRCP'>"
      ]
     },
     "execution_count": 87,
     "metadata": {},
     "output_type": "execute_result"
    },
    {
     "data": {
      "image/png": "[encoded data removed]",
      "text/plain": [
       "<Figure size 640x480 with 1 Axes>"
      ]
     },
     "metadata": {},
     "output_type": "display_data"
    }
   ],
   "source": [
    "sns.scatterplot(x=prcp[\"TAVG\"], y=prcp[\"PRCP\"])"
   ]
  },
  {
   "cell_type": "markdown",
   "id": "c6abeb64",
   "metadata": {},
   "source": [
    "# Scatter Plot TMAX v/s TMIN"
   ]
  },
  {
   "cell_type": "code",
   "execution_count": 88,
   "id": "767f430b",
   "metadata": {},
   "outputs": [
    {
     "data": {
      "text/plain": [
       "<Axes: xlabel='TMAX', ylabel='TMIN'>"
      ]
     },
     "execution_count": 88,
     "metadata": {},
     "output_type": "execute_result"
    },
    {
     "data": {
      "image/png": "[encoded data removed]",
      "text/plain": [
       "<Figure size 640x480 with 1 Axes>"
      ]
     },
     "metadata": {},
     "output_type": "display_data"
    }
   ],
   "source": [
    "sns.scatterplot(x=prcp[\"TMAX\"], y=prcp[\"TMIN\"])"
   ]
  },
  {
   "cell_type": "markdown",
   "id": "1a804935",
   "metadata": {},
   "source": [
    "# Scatter Plot County/Region v/s PRCP"
   ]
  },
  {
   "cell_type": "code",
   "execution_count": 27,
   "id": "05503e28",
   "metadata": {},
   "outputs": [
    {
     "data": {
      "text/plain": [
       "<Axes: xlabel='Country/Region', ylabel='PRCP'>"
      ]
     },
     "execution_count": 27,
     "metadata": {},
     "output_type": "execute_result"
    },
    {
     "data": {
      "image/png": "[encoded data removed]",
      "text/plain": [
       "<Figure size 640x480 with 1 Axes>"
      ]
     },
     "metadata": {},
     "output_type": "display_data"
    }
   ],
   "source": [
    "sns.scatterplot(x=prcp[\"Country/Region\"], y=prcp[\"PRCP\"])"
   ]
  },
  {
   "cell_type": "code",
   "execution_count": 89,
   "id": "c2fe36c9",
   "metadata": {},
   "outputs": [
    {
     "name": "stderr",
     "output_type": "stream",
     "text": [
      "C:\\Users\\mayan\\AppData\\Local\\Temp\\ipykernel_18332\\1850306797.py:1: FutureWarning: The default value of numeric_only in DataFrame.corr is deprecated. In a future version, it will default to False. Select only valid columns or specify the value of numeric_only to silence this warning.\n",
      "  sns.heatmap(data=prcp.corr(), lw = 1)\n"
     ]
    },
    {
     "data": {
      "text/plain": [
       "<Axes: >"
      ]
     },
     "execution_count": 89,
     "metadata": {},
     "output_type": "execute_result"
    },
    {
     "data": {
      "image/png": "[encoded data removed]",
      "text/plain": [
       "<Figure size 640x480 with 2 Axes>"
      ]
     },
     "metadata": {},
     "output_type": "display_data"
    }
   ],
   "source": [
    "sns.heatmap(data=prcp.corr(), lw = 1)"
   ]
  },
  {
   "cell_type": "code",
   "execution_count": 45,
   "id": "112df55f",
   "metadata": {},
   "outputs": [
    {
     "data": {
      "text/plain": [
       "Canada         227602\n",
       "Sweden         106070\n",
       "Germany        101761\n",
       "Russia          80047\n",
       "Netherlands     63159\n",
       "Name: Country/Region, dtype: int64"
      ]
     },
     "execution_count": 45,
     "metadata": {},
     "output_type": "execute_result"
    }
   ],
   "source": [
    "country_dis = prcp[\"Country/Region\"].value_counts()\n",
    "country_dis"
   ]
  },
  {
   "cell_type": "markdown",
   "id": "9021ff78",
   "metadata": {},
   "source": [
    "# Pie Chart for Country wise distribution"
   ]
  },
  {
   "cell_type": "code",
   "execution_count": 47,
   "id": "5ee9ec1e",
   "metadata": {},
   "outputs": [
    {
     "data": {
      "text/plain": [
       "<Axes: ylabel='Country/Region'>"
      ]
     },
     "execution_count": 47,
     "metadata": {},
     "output_type": "execute_result"
    },
    {
     "data": {
      "image/png": "[encoded data removed]",
      "text/plain": [
       "<Figure size 640x480 with 1 Axes>"
      ]
     },
     "metadata": {},
     "output_type": "display_data"
    }
   ],
   "source": [
    "piec_colors = sns.color_palette('pastel')[0:len('Country/Region')]\n",
    "country_dis.plot(kind = 'pie', colors=piec_colors, autopct = '%1.2f%%')"
   ]
  }
 ],
 "metadata": {
  "kernelspec": {
   "display_name": "Python 3 (ipykernel)",
   "language": "python",
   "name": "python3"
  },
  "language_info": {
   "codemirror_mode": {
    "name": "ipython",
    "version": 3
   },
   "file_extension": ".py",
   "mimetype": "text/x-python",
   "name": "python",
   "nbconvert_exporter": "python",
   "pygments_lexer": "ipython3",
   "version": "3.11.3"
  }
 },
 "nbformat": 4,
 "nbformat_minor": 5
}
